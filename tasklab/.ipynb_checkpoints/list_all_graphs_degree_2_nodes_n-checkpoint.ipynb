{
 "cells": [
  {
   "cell_type": "code",
   "execution_count": 1016,
   "metadata": {},
   "outputs": [],
   "source": [
    "%matplotlib inline\n",
    "\n",
    "import numpy as np\n",
    "import networkx as nx\n",
    "import matplotlib\n",
    "import re\n",
    "import time\n",
    "import itertools\n",
    "import seaborn\n",
    "import matplotlib.pyplot as plt\n",
    "import sys\n",
    "from scipy.spatial.distance import pdist\n",
    "seaborn.set(style='ticks',font_scale=2)"
   ]
  },
  {
   "cell_type": "code",
   "execution_count": 4,
   "metadata": {},
   "outputs": [],
   "source": [
    "#List of all undirected graphs with degree 3 and 8 vertices\n",
    "allG = \\\n",
    "    [[8,[2, 2, -2, -2],2],\n",
    "     [8,[4, -2, 4, 2],2],\n",
    "     [8,[2, 4, -2, 3, 3, 4, -3, -3],1],\n",
    "     [8,[-3, 3],4],\n",
    "     [8,[4],8],\n",
    "    ]"
   ]
  },
  {
   "cell_type": "code",
   "execution_count": 5,
   "metadata": {},
   "outputs": [],
   "source": [
    "g = nx.LCF_graph(*allG[2])\n",
    "g2 = nx.LCF_graph(*allG[3])"
   ]
  },
  {
   "cell_type": "code",
   "execution_count": null,
   "metadata": {},
   "outputs": [],
   "source": []
  },
  {
   "cell_type": "code",
   "execution_count": 6,
   "metadata": {},
   "outputs": [
    {
     "data": {
      "text/plain": [
       "516096"
      ]
     },
     "execution_count": 6,
     "metadata": {},
     "output_type": "execute_result"
    }
   ],
   "source": [
    "126 * 2**12"
   ]
  },
  {
   "cell_type": "code",
   "execution_count": 7,
   "metadata": {},
   "outputs": [],
   "source": [
    "gd = g.to_directed()"
   ]
  },
  {
   "cell_type": "code",
   "execution_count": 8,
   "metadata": {},
   "outputs": [
    {
     "data": {
      "text/plain": [
       "16777216"
      ]
     },
     "execution_count": 8,
     "metadata": {},
     "output_type": "execute_result"
    }
   ],
   "source": [
    "2**len(list(gd.edges))"
   ]
  },
  {
   "cell_type": "code",
   "execution_count": 9,
   "metadata": {},
   "outputs": [
    {
     "data": {
      "text/plain": [
       "23.301688888888886"
      ]
     },
     "execution_count": 9,
     "metadata": {},
     "output_type": "execute_result"
    }
   ],
   "source": [
    "((5 * 16777216/1000.)/60.)/60."
   ]
  },
  {
   "cell_type": "code",
   "execution_count": 10,
   "metadata": {},
   "outputs": [],
   "source": [
    "g2d = g2.to_directed()"
   ]
  },
  {
   "cell_type": "code",
   "execution_count": null,
   "metadata": {},
   "outputs": [],
   "source": []
  },
  {
   "cell_type": "code",
   "execution_count": 11,
   "metadata": {},
   "outputs": [
    {
     "data": {
      "image/png": "[encoded data removed]",
      "text/plain": [
       "<Figure size 432x288 with 1 Axes>"
      ]
     },
     "metadata": {},
     "output_type": "display_data"
    }
   ],
   "source": [
    "nx.draw(gd)"
   ]
  },
  {
   "cell_type": "markdown",
   "metadata": {},
   "source": [
    "# List of directed graphs with degree 2 and 9 vertices "
   ]
  },
  {
   "cell_type": "code",
   "execution_count": 12,
   "metadata": {},
   "outputs": [],
   "source": [
    "with open('/Users/Yves/Downloads/yvestest','r') as f:\n",
    "    graphs = f.readlines()"
   ]
  },
  {
   "cell_type": "code",
   "execution_count": 13,
   "metadata": {},
   "outputs": [],
   "source": [
    "def to_gunnar_graph(g_spec):\n",
    "    \"convert output of gunnar algorithm to list of list of edges\"\n",
    "    \n",
    "    \n",
    "    nVert,nEdge = g_spec.split(' ')[:2]\n",
    "    #links = [int(i) for i in g_spec[5:-3].split(' ')]\n",
    "    links = [int(i) for i in re.findall('[0-9]',g_spec[5:])]\n",
    "\n",
    "    edges = []\n",
    "    edge_set = np.zeros([9,2],dtype='int')\n",
    "    cntArr = np.zeros(9,dtype='int')\n",
    "    for fst,snd in zip(links[:-1][::2],links[1:][::2]):\n",
    "        edges.append([fst,snd])\n",
    "        edge_set[fst,cntArr[fst]] = snd\n",
    "        cntArr[fst] += 1\n",
    "    return edges,edge_set"
   ]
  },
  {
   "cell_type": "code",
   "execution_count": 14,
   "metadata": {},
   "outputs": [],
   "source": [
    "possible_reward_locations = list(itertools.combinations(range(9),4))"
   ]
  },
  {
   "cell_type": "code",
   "execution_count": 15,
   "metadata": {},
   "outputs": [],
   "source": [
    "    links = [int(i) for i in re.findall('[0-9]',graphs[0][5:])]"
   ]
  },
  {
   "cell_type": "code",
   "execution_count": 16,
   "metadata": {},
   "outputs": [
    {
     "data": {
      "text/plain": [
       "36"
      ]
     },
     "execution_count": 16,
     "metadata": {},
     "output_type": "execute_result"
    }
   ],
   "source": [
    "len(links)"
   ]
  },
  {
   "cell_type": "code",
   "execution_count": 17,
   "metadata": {},
   "outputs": [],
   "source": [
    "import scipy.misc"
   ]
  },
  {
   "cell_type": "code",
   "execution_count": null,
   "metadata": {},
   "outputs": [],
   "source": []
  },
  {
   "cell_type": "code",
   "execution_count": 45,
   "metadata": {},
   "outputs": [],
   "source": [
    "graph_ix = 5001"
   ]
  },
  {
   "cell_type": "code",
   "execution_count": 46,
   "metadata": {},
   "outputs": [],
   "source": [
    "g = nx.DiGraph()"
   ]
  },
  {
   "cell_type": "code",
   "execution_count": 101,
   "metadata": {},
   "outputs": [],
   "source": [
    "g.add_edges_from(to_gunnar_graph(graphs[graph_ix])[0])"
   ]
  },
  {
   "cell_type": "code",
   "execution_count": 62,
   "metadata": {},
   "outputs": [],
   "source": [
    "#%%timeit\n",
    "nGraphs = 0\n",
    "use_ixs = []\n",
    "for graph_ix in range(len(graphs)):\n",
    "    g = nx.DiGraph()\n",
    "    g.add_edges_from(to_gunnar_graph(graphs[graph_ix])[0])\n",
    "    if len(list(nx.strongly_connected_components(g)))==1:\n",
    "        nGraphs += 1\n",
    "        use_ixs.append(graph_ix)\n",
    "    else:\n",
    "        pass"
   ]
  },
  {
   "cell_type": "code",
   "execution_count": null,
   "metadata": {},
   "outputs": [],
   "source": []
  },
  {
   "cell_type": "code",
   "execution_count": 52,
   "metadata": {},
   "outputs": [
    {
     "data": {
      "image/png": "[encoded data removed]",
      "text/plain": [
       "<Figure size 432x288 with 1 Axes>"
      ]
     },
     "metadata": {},
     "output_type": "display_data"
    }
   ],
   "source": [
    "nx.draw(g,with_labels=True)\n",
    "#nx.draw(g,pos=nx.kamada_kawai_layout(g),with_labels=True)"
   ]
  },
  {
   "cell_type": "code",
   "execution_count": 49,
   "metadata": {
    "scrolled": true
   },
   "outputs": [
    {
     "data": {
      "image/png": "[encoded data removed]",
      "text/plain": [
       "<Figure size 432x288 with 1 Axes>"
      ]
     },
     "metadata": {},
     "output_type": "display_data"
    }
   ],
   "source": [
    "#nx.draw(g,pos=nx.spectral_layout(g),with_labels=True)\n",
    "nx.draw(g,pos=nx.kamada_kawai_layout(g),with_labels=True)"
   ]
  },
  {
   "cell_type": "code",
   "execution_count": 270,
   "metadata": {},
   "outputs": [
    {
     "data": {
      "text/plain": [
       "array([5, 8])"
      ]
     },
     "execution_count": 270,
     "metadata": {},
     "output_type": "execute_result"
    }
   ],
   "source": [
    "edge_set[7]"
   ]
  },
  {
   "cell_type": "code",
   "execution_count": null,
   "metadata": {
    "scrolled": true
   },
   "outputs": [],
   "source": []
  },
  {
   "cell_type": "code",
   "execution_count": 256,
   "metadata": {},
   "outputs": [],
   "source": [
    "edges,edge_set = to_gunnar_graph(graphs[graph_ix])"
   ]
  },
  {
   "cell_type": "markdown",
   "metadata": {},
   "source": [
    "# Ok now have the graphs. Now want to perform value iteration to get optimal policy"
   ]
  },
  {
   "cell_type": "code",
   "execution_count": null,
   "metadata": {},
   "outputs": [],
   "source": []
  },
  {
   "cell_type": "code",
   "execution_count": 71,
   "metadata": {},
   "outputs": [],
   "source": [
    "degree = nActions = 2\n",
    "nStates = 9\n",
    "trans_mat = np.zeros([nStates,nActions,nStates])"
   ]
  },
  {
   "cell_type": "code",
   "execution_count": null,
   "metadata": {},
   "outputs": [],
   "source": []
  },
  {
   "cell_type": "code",
   "execution_count": 73,
   "metadata": {},
   "outputs": [],
   "source": [
    "r = np.zeros(nStates)\n",
    "r[0] = 1."
   ]
  },
  {
   "cell_type": "code",
   "execution_count": null,
   "metadata": {},
   "outputs": [],
   "source": []
  },
  {
   "cell_type": "code",
   "execution_count": 75,
   "metadata": {},
   "outputs": [],
   "source": [
    "w = world(trans_mat,r)"
   ]
  },
  {
   "cell_type": "code",
   "execution_count": 569,
   "metadata": {},
   "outputs": [
    {
     "name": "stdout",
     "output_type": "stream",
     "text": [
      "[0.11111111 0.         0.11111111 0.         0.         0.\n",
      " 0.         0.         0.        ]\n",
      "[0.11111111 0.         0.11111111 0.         0.00012346 0.\n",
      " 0.         0.         0.        ]\n",
      "[1.11111111e-01 0.00000000e+00 1.11111111e-01 0.00000000e+00\n",
      " 1.23456790e-04 1.37174211e-07 0.00000000e+00 1.37174211e-07\n",
      " 0.00000000e+00]\n",
      "[1.11111111e-01 0.00000000e+00 1.11111111e-01 1.52415790e-10\n",
      " 1.23456790e-04 1.37174211e-07 1.52415790e-10 1.37174211e-07\n",
      " 1.52415790e-10]\n",
      "[1.11111111e-01 0.00000000e+00 1.11111111e-01 1.52415790e-10\n",
      " 1.23456790e-04 1.37174211e-07 1.52415790e-10 1.37174211e-07\n",
      " 1.52415790e-10]\n"
     ]
    }
   ],
   "source": [
    "V,Q,P = value_iteration(w)"
   ]
  },
  {
   "cell_type": "code",
   "execution_count": null,
   "metadata": {},
   "outputs": [],
   "source": []
  },
  {
   "cell_type": "code",
   "execution_count": 568,
   "metadata": {},
   "outputs": [],
   "source": [
    "def value_iteration(world, g=.01):\n",
    "    '''Evaluate state values under the optimal policy for specified world and \n",
    "    discount factor g.'''\n",
    "    d = 1.                       # Value change\n",
    "    V = np.zeros(world.n_states) # Value estimate.\n",
    "    while d > 1e-12:\n",
    "        prev_V = V[:].copy()\n",
    "        #this this line of V\n",
    "        #V = np.max(np.sum(world.trans_mat * (world.rewards + g*V)[None,None,:],2),1)\n",
    "        V = np.max(np.mean((gw.trans_mat * (gw.rewards + g*V)),2),1)\n",
    "        print(V)\n",
    "        d = np.max(np.abs(prev_V-V))\n",
    "    Q = world.trans_mat @ (world.rewards + g*V)  # Action values.\n",
    "    policy = (Q == np.max(Q,1)[:,None]).astype(float)\n",
    "    policy = policy/np.sum(policy,1)[:,None]\n",
    "    return V, Q, policy"
   ]
  },
  {
   "cell_type": "code",
   "execution_count": 532,
   "metadata": {},
   "outputs": [
    {
     "ename": "SyntaxError",
     "evalue": "unexpected EOF while parsing (<ipython-input-532-46a8292c99be>, line 4)",
     "output_type": "error",
     "traceback": [
      "\u001b[0;36m  File \u001b[0;32m\"<ipython-input-532-46a8292c99be>\"\u001b[0;36m, line \u001b[0;32m4\u001b[0m\n\u001b[0;31m    \u001b[0m\n\u001b[0m    ^\u001b[0m\n\u001b[0;31mSyntaxError\u001b[0m\u001b[0;31m:\u001b[0m unexpected EOF while parsing\n"
     ]
    }
   ],
   "source": [
    "V = np.zeros(gw.n_states)\n",
    "\n",
    "for st_ in range(gw.n_states):\n",
    "    \n",
    "    tmp = []\n",
    "    for a in range(2):\n",
    "        \n",
    "        V[gw.edge_transitions[st_,a]]"
   ]
  },
  {
   "cell_type": "code",
   "execution_count": 570,
   "metadata": {},
   "outputs": [
    {
     "data": {
      "text/plain": [
       "array([[1, 2],\n",
       "       [0, 3],\n",
       "       [0, 1],\n",
       "       [5, 6],\n",
       "       [2, 3],\n",
       "       [4, 8],\n",
       "       [7, 8],\n",
       "       [4, 5],\n",
       "       [6, 7]])"
      ]
     },
     "execution_count": 570,
     "metadata": {},
     "output_type": "execute_result"
    }
   ],
   "source": [
    "gw.edge_transitions"
   ]
  },
  {
   "cell_type": "code",
   "execution_count": null,
   "metadata": {},
   "outputs": [],
   "source": []
  },
  {
   "cell_type": "code",
   "execution_count": null,
   "metadata": {},
   "outputs": [],
   "source": [
    "V = np.zeros(9)\n",
    "for state in range(nStates):\n",
    "    tmp = []\n",
    "    for a in range(2):\n",
    "        "
   ]
  },
  {
   "cell_type": "code",
   "execution_count": 428,
   "metadata": {},
   "outputs": [
    {
     "data": {
      "text/plain": [
       "array([0.00000000e+00, 1.11111111e-01, 1.11111111e-01, 1.11111111e-02,\n",
       "       1.11111111e-03, 1.11111111e-04, 1.11111111e-05, 1.11111111e-05,\n",
       "       1.11111111e-04])"
      ]
     },
     "execution_count": 428,
     "metadata": {},
     "output_type": "execute_result"
    }
   ],
   "source": [
    "V"
   ]
  },
  {
   "cell_type": "code",
   "execution_count": 1013,
   "metadata": {},
   "outputs": [],
   "source": [
    "class graphworld(object):\n",
    "    \"\"\" To do list:\n",
    "            incorporate the random transitions\n",
    "            make the final state absorbing\n",
    "    \"\"\"\n",
    "    def __init__(self,graph_spec,nNodes=9,nActions=2,teleport_probability=.0):\n",
    "        \n",
    "        self.graph_spec = graph_spec\n",
    "        self.edges, self.edge_transitions = self.read_gunnar_graph(self.graph_spec)\n",
    "\n",
    "        self.terminal_states = []\n",
    "        self.rewards = np.zeros(self.nNodes)\n",
    "        self.teleport_probability = teleport_probability\n",
    "        self.build_trans_mat()\n",
    "        \n",
    "    def set_reward_state(self,nodeNr,terminal=False):\n",
    "        \"right now handles setting one state as the rewarded one\"\n",
    "        assert (nodeNr<= self.nNodes)\n",
    "        \n",
    "        #reinitialise\n",
    "        self.rewards = np.zeros(self.nNodes)\n",
    "        self.terminal_states = []\n",
    "        \n",
    "        #set values\n",
    "        self.rewards[nodeNr] = 1.\n",
    "        if terminal:\n",
    "            self.terminal_states.append(nodeNr)\n",
    "        self.build_trans_mat()\n",
    "\n",
    "    def read_gunnar_graph(self,g_spec):\n",
    "        \"\"\"convert output of gunnar algorithm to list of list of edges\n",
    "            as well as a matrix defining the transitions as a function\n",
    "            of actions\n",
    "        \"\"\"\n",
    "\n",
    "\n",
    "        nNodes,nEdges = g_spec.split(' ')[:2]\n",
    "        self.nNodes = self.n_states = int(nNodes)\n",
    "        self.nEdges = int(nEdges)\n",
    "        self.nActions = int(float(nEdges)/float(nNodes))\n",
    "        #print(self.nActions,self.nNodes)\n",
    "\n",
    "        links = [int(i) for i in re.findall('[0-9]',g_spec[5:])]\n",
    "\n",
    "        edges = []\n",
    "        edge_set = np.zeros([self.nNodes,self.nActions],dtype='int')\n",
    "        cntArr = np.zeros(self.nNodes,dtype='int')\n",
    "        for fst,snd in zip(links[:-1][::2],links[1:][::2]):\n",
    "            edges.append([fst,snd])\n",
    "            edge_set[fst,cntArr[fst]] = snd\n",
    "            cntArr[fst] += 1\n",
    "        return edges,edge_set\n",
    "\n",
    "    def build_trans_mat(self):\n",
    "        self.trans_mat = np.zeros([self.nNodes,self.nActions,self.nNodes]) + self.teleport_probability/(self.nNodes-1.)\n",
    "        for s in range(nStates):\n",
    "            if not s in self.terminal_states:\n",
    "                for a in range(nActions):\n",
    "                    self.trans_mat[s,a,self.edge_transitions[s,a]] = 1 - self.teleport_probability\n",
    "            else:\n",
    "                self.trans_mat[s] = 0\n",
    "                \n",
    "    def plot_policy_onto_graph(self,P):\n",
    "        \n",
    "        self.G = nx.DiGraph()\n",
    "        self.G.add_edges_from(gw.edges)\n",
    "\n",
    "        colors = self._get_edge_colors(P)\n",
    "        nx.draw(self.G,with_labels=True,edge_color=colors)\n",
    "        \n",
    "        \n",
    "    def _get_edge_colors(self,P):\n",
    "        #What we want to do here is to \n",
    "        colors = ['k']*len(self.edges)\n",
    "        for stateIx in range(self.n_states):\n",
    "            p_ = P[stateIx]\n",
    "            if p_[0]!=p_[1]:\n",
    "                goodMove = np.argmax(p_)\n",
    "                badMove = np.argmin(p_)\n",
    "\n",
    "                good_edge = [stateIx,self.edge_transitions[stateIx,goodMove]]\n",
    "                bad_edge = [stateIx,self.edge_transitions[stateIx,badMove]]\n",
    "\n",
    "                good_edge_ix = [kk for kk,i in enumerate(self.G.edges) if list(i)==good_edge][0]\n",
    "                bad_edge_ix = [kk  for kk,i in enumerate(self.G.edges) if list(i)==bad_edge][0]\n",
    "                #print(good_edge,good_edge_ix)\n",
    "\n",
    "                colors[good_edge_ix] = 'g'\n",
    "                colors[bad_edge_ix] = 'r'\n",
    "        return colors"
   ]
  },
  {
   "cell_type": "code",
   "execution_count": 1014,
   "metadata": {},
   "outputs": [],
   "source": [
    "def value_iteration(world, g=.9):\n",
    "    '''Evaluate state values under the optimal policy for specified world and \n",
    "    discount factor g.'''\n",
    "    d = 1.                       # Value change\n",
    "    V = np.zeros(world.n_states) # Value estimate.\n",
    "    while d > 1e-12:\n",
    "        prev_V = V[:].copy()\n",
    "        #this this line of V\n",
    "        V = np.max(np.sum(world.trans_mat * (world.rewards + g*V)[None,None,:],2),1)\n",
    "        d = np.max(np.abs(prev_V-V))\n",
    "    Q = world.trans_mat @ (world.rewards + g*V)  # Action values.\n",
    "    policy = (Q == np.max(Q,1)[:,None]).astype(float)\n",
    "    policy = policy/np.sum(policy,1)[:,None]\n",
    "    return V, Q, policy"
   ]
  },
  {
   "cell_type": "code",
   "execution_count": null,
   "metadata": {},
   "outputs": [],
   "source": []
  },
  {
   "cell_type": "code",
   "execution_count": 1015,
   "metadata": {},
   "outputs": [
    {
     "data": {
      "text/plain": [
       "array([3.32103321, 3.32103321, 2.98892989, 3.6900369 , 2.98892989,\n",
       "       2.98892989, 3.6900369 , 3.32103321, 3.32103321])"
      ]
     },
     "execution_count": 1015,
     "metadata": {},
     "output_type": "execute_result"
    }
   ],
   "source": [
    "V"
   ]
  },
  {
   "cell_type": "code",
   "execution_count": null,
   "metadata": {},
   "outputs": [],
   "source": []
  },
  {
   "cell_type": "markdown",
   "metadata": {},
   "source": [
    "# Test on a single example "
   ]
  },
  {
   "cell_type": "code",
   "execution_count": 997,
   "metadata": {},
   "outputs": [],
   "source": [
    "graph_ix = 24"
   ]
  },
  {
   "cell_type": "code",
   "execution_count": 998,
   "metadata": {},
   "outputs": [],
   "source": [
    "gw = graphworld(graph_spec=graphs[use_ixs[graph_ix]])\n",
    "gw.set_reward_state(5)"
   ]
  },
  {
   "cell_type": "code",
   "execution_count": 999,
   "metadata": {},
   "outputs": [
    {
     "data": {
      "text/plain": [
       "array([0., 0., 0., 0., 0., 1., 0., 0., 0.])"
      ]
     },
     "execution_count": 999,
     "metadata": {},
     "output_type": "execute_result"
    }
   ],
   "source": [
    "gw.rewards"
   ]
  },
  {
   "cell_type": "code",
   "execution_count": null,
   "metadata": {},
   "outputs": [],
   "source": []
  },
  {
   "cell_type": "code",
   "execution_count": null,
   "metadata": {},
   "outputs": [],
   "source": []
  },
  {
   "cell_type": "code",
   "execution_count": 1000,
   "metadata": {},
   "outputs": [],
   "source": [
    "#%%timeit\n",
    "V,Q,P = value_iteration(gw)"
   ]
  },
  {
   "cell_type": "code",
   "execution_count": 1001,
   "metadata": {},
   "outputs": [
    {
     "data": {
      "text/plain": [
       "array([[0. , 1. ],\n",
       "       [0. , 1. ],\n",
       "       [0.5, 0.5],\n",
       "       [0. , 1. ],\n",
       "       [0. , 1. ],\n",
       "       [1. , 0. ],\n",
       "       [1. , 0. ],\n",
       "       [0. , 1. ],\n",
       "       [0. , 1. ]])"
      ]
     },
     "execution_count": 1001,
     "metadata": {},
     "output_type": "execute_result"
    }
   ],
   "source": [
    "P"
   ]
  },
  {
   "cell_type": "code",
   "execution_count": 1002,
   "metadata": {},
   "outputs": [
    {
     "data": {
      "image/png": "[encoded data removed]",
      "text/plain": [
       "<Figure size 432x288 with 1 Axes>"
      ]
     },
     "metadata": {},
     "output_type": "display_data"
    }
   ],
   "source": [
    "gw.plot_policy_onto_graph(P)"
   ]
  },
  {
   "cell_type": "code",
   "execution_count": null,
   "metadata": {},
   "outputs": [],
   "source": []
  },
  {
   "cell_type": "code",
   "execution_count": 1003,
   "metadata": {},
   "outputs": [],
   "source": [
    "planars = []\n",
    "avG_shortest_path_lengths = []\n",
    "for graph_ix in use_ixs:\n",
    "    g = nx.DiGraph()\n",
    "    g.add_edges_from(to_gunnar_graph(graphs[graph_ix])[0])\n",
    "    avG_shortest_path_lengths.append(nx.average_shortest_path_length(g))\n",
    "    planars.append(nx.algorithms.planarity.check_planarity(g)[0])"
   ]
  },
  {
   "cell_type": "code",
   "execution_count": 1004,
   "metadata": {},
   "outputs": [
    {
     "data": {
      "text/plain": [
       "<matplotlib.axes._subplots.AxesSubplot at 0x1a354432e8>"
      ]
     },
     "execution_count": 1004,
     "metadata": {},
     "output_type": "execute_result"
    },
    {
     "data": {
      "image/png": "[encoded data removed]",
      "text/plain": [
       "<Figure size 432x288 with 1 Axes>"
      ]
     },
     "metadata": {},
     "output_type": "display_data"
    }
   ],
   "source": [
    "seaborn.distplot(avG_shortest_path_lengths,kde=0)"
   ]
  },
  {
   "cell_type": "code",
   "execution_count": 1005,
   "metadata": {},
   "outputs": [
    {
     "data": {
      "text/plain": [
       "(array([  28,   35,   36, ..., 4985, 4986, 4987]),)"
      ]
     },
     "execution_count": 1005,
     "metadata": {},
     "output_type": "execute_result"
    }
   ],
   "source": [
    "np.where(np.array(planars)==False)"
   ]
  },
  {
   "cell_type": "code",
   "execution_count": 1006,
   "metadata": {},
   "outputs": [
    {
     "ename": "IndexError",
     "evalue": "list index out of range",
     "output_type": "error",
     "traceback": [
      "\u001b[0;31m---------------------------------------------------------------------------\u001b[0m",
      "\u001b[0;31mIndexError\u001b[0m                                Traceback (most recent call last)",
      "\u001b[0;32m<ipython-input-1006-84e1b261346c>\u001b[0m in \u001b[0;36m<module>\u001b[0;34m\u001b[0m\n\u001b[1;32m     10\u001b[0m         \u001b[0mbad_edge\u001b[0m \u001b[0;34m=\u001b[0m \u001b[0;34m[\u001b[0m\u001b[0mstateIx\u001b[0m\u001b[0;34m,\u001b[0m\u001b[0mgw\u001b[0m\u001b[0;34m.\u001b[0m\u001b[0medge_transitions\u001b[0m\u001b[0;34m[\u001b[0m\u001b[0mstateIx\u001b[0m\u001b[0;34m,\u001b[0m\u001b[0mbadMove\u001b[0m\u001b[0;34m]\u001b[0m\u001b[0;34m]\u001b[0m\u001b[0;34m\u001b[0m\u001b[0;34m\u001b[0m\u001b[0m\n\u001b[1;32m     11\u001b[0m \u001b[0;34m\u001b[0m\u001b[0m\n\u001b[0;32m---> 12\u001b[0;31m         \u001b[0mgood_edge_ix\u001b[0m \u001b[0;34m=\u001b[0m \u001b[0;34m[\u001b[0m\u001b[0mkk\u001b[0m \u001b[0;32mfor\u001b[0m \u001b[0mkk\u001b[0m\u001b[0;34m,\u001b[0m\u001b[0mi\u001b[0m \u001b[0;32min\u001b[0m \u001b[0menumerate\u001b[0m\u001b[0;34m(\u001b[0m\u001b[0mG\u001b[0m\u001b[0;34m.\u001b[0m\u001b[0medges\u001b[0m\u001b[0;34m)\u001b[0m \u001b[0;32mif\u001b[0m \u001b[0mlist\u001b[0m\u001b[0;34m(\u001b[0m\u001b[0mi\u001b[0m\u001b[0;34m)\u001b[0m\u001b[0;34m==\u001b[0m\u001b[0mgood_edge\u001b[0m\u001b[0;34m]\u001b[0m\u001b[0;34m[\u001b[0m\u001b[0;36m0\u001b[0m\u001b[0;34m]\u001b[0m\u001b[0;34m\u001b[0m\u001b[0;34m\u001b[0m\u001b[0m\n\u001b[0m\u001b[1;32m     13\u001b[0m         \u001b[0mbad_edge_ix\u001b[0m \u001b[0;34m=\u001b[0m \u001b[0;34m[\u001b[0m\u001b[0mkk\u001b[0m  \u001b[0;32mfor\u001b[0m \u001b[0mkk\u001b[0m\u001b[0;34m,\u001b[0m\u001b[0mi\u001b[0m \u001b[0;32min\u001b[0m \u001b[0menumerate\u001b[0m\u001b[0;34m(\u001b[0m\u001b[0mG\u001b[0m\u001b[0;34m.\u001b[0m\u001b[0medges\u001b[0m\u001b[0;34m)\u001b[0m \u001b[0;32mif\u001b[0m \u001b[0mlist\u001b[0m\u001b[0;34m(\u001b[0m\u001b[0mi\u001b[0m\u001b[0;34m)\u001b[0m\u001b[0;34m==\u001b[0m\u001b[0mbad_edge\u001b[0m\u001b[0;34m]\u001b[0m\u001b[0;34m[\u001b[0m\u001b[0;36m0\u001b[0m\u001b[0;34m]\u001b[0m\u001b[0;34m\u001b[0m\u001b[0;34m\u001b[0m\u001b[0m\n\u001b[1;32m     14\u001b[0m         \u001b[0mprint\u001b[0m\u001b[0;34m(\u001b[0m\u001b[0mgood_edge\u001b[0m\u001b[0;34m,\u001b[0m\u001b[0mgood_edge_ix\u001b[0m\u001b[0;34m)\u001b[0m\u001b[0;34m\u001b[0m\u001b[0;34m\u001b[0m\u001b[0m\n",
      "\u001b[0;31mIndexError\u001b[0m: list index out of range"
     ]
    }
   ],
   "source": [
    "#What we want to do here is to \n",
    "colors = ['k']*len(gw.edges)\n",
    "for stateIx in range(gw.n_states):\n",
    "    p_ = P[stateIx]\n",
    "    if p_[0]!=p_[1]:\n",
    "        goodMove = np.argmax(p_)\n",
    "        badMove = np.argmin(p_)\n",
    "\n",
    "        good_edge = [stateIx,gw.edge_transitions[stateIx,goodMove]]\n",
    "        bad_edge = [stateIx,gw.edge_transitions[stateIx,badMove]]\n",
    "\n",
    "        good_edge_ix = [kk for kk,i in enumerate(G.edges) if list(i)==good_edge][0]\n",
    "        bad_edge_ix = [kk  for kk,i in enumerate(G.edges) if list(i)==bad_edge][0]\n",
    "        print(good_edge,good_edge_ix)\n",
    "\n",
    "        colors[good_edge_ix] = 'g'\n",
    "        colors[bad_edge_ix] = 'r'\n",
    "        "
   ]
  },
  {
   "cell_type": "code",
   "execution_count": null,
   "metadata": {},
   "outputs": [],
   "source": []
  },
  {
   "cell_type": "code",
   "execution_count": 784,
   "metadata": {},
   "outputs": [
    {
     "data": {
      "image/png": "[encoded data removed]",
      "text/plain": [
       "<Figure size 432x288 with 1 Axes>"
      ]
     },
     "metadata": {},
     "output_type": "display_data"
    }
   ],
   "source": [
    "G = nx.DiGraph()\n",
    "G.add_edges_from(gw.edges)\n",
    "nx.draw(G,with_labels=True,edge_color=colors)"
   ]
  },
  {
   "cell_type": "code",
   "execution_count": 612,
   "metadata": {},
   "outputs": [
    {
     "data": {
      "text/plain": [
       "array([0., 0., 0., 0., 0., 0., 0., 0., 0.])"
      ]
     },
     "execution_count": 612,
     "metadata": {},
     "output_type": "execute_result"
    }
   ],
   "source": [
    "V"
   ]
  },
  {
   "cell_type": "code",
   "execution_count": 543,
   "metadata": {},
   "outputs": [
    {
     "data": {
      "text/plain": [
       "array([[1. , 0. ],\n",
       "       [0. , 1. ],\n",
       "       [0.5, 0.5],\n",
       "       [1. , 0. ],\n",
       "       [0. , 1. ],\n",
       "       [1. , 0. ],\n",
       "       [1. , 0. ],\n",
       "       [0. , 1. ],\n",
       "       [0.5, 0.5]])"
      ]
     },
     "execution_count": 543,
     "metadata": {},
     "output_type": "execute_result"
    }
   ],
   "source": [
    "P"
   ]
  },
  {
   "cell_type": "code",
   "execution_count": null,
   "metadata": {},
   "outputs": [
    {
     "name": "stdout",
     "output_type": "stream",
     "text": [
      "1266/4988"
     ]
    }
   ],
   "source": [
    "st = time.time()\n",
    "#allV = []\n",
    "#allQ = []\n",
    "#allP = []\n",
    "\n",
    "possible_reward_locations = list(itertools.combinations(range(9),4))\n",
    "\n",
    "\n",
    "\n",
    "for graph_ix in use_ixs[986:]:\n",
    "    sys.stdout.write(\"\\r%s/%s\" %(graph_ix,len(use_ixs)))\n",
    "    sys.stdout.flush()\n",
    "    \n",
    "    gw = graphworld(graphs[graph_ix])\n",
    "    \n",
    "    for rsetNr,rSet in enumerate(possible_reward_locations):\n",
    "        tmpV = []\n",
    "        tmpP = []\n",
    "        tmpQ = []\n",
    "        for r in rSet:\n",
    "            gw.set_reward_state(r)    \n",
    "            V,Q,P = value_iteration(gw)\n",
    "            tmpV.append(V.copy())\n",
    "            tmpP.append(P.copy())\n",
    "            tmpQ.append(Q.copy())\n",
    "        allV.append([graph_ix,rsetNr,tmpV.copy()])\n",
    "        allP.append([graph_ix,rsetNr,tmpP.copy()])\n",
    "        allQ.append([graph_ix,rsetNr,tmpQ.copy()])\n",
    "print(time.time() - st)"
   ]
  },
  {
   "cell_type": "code",
   "execution_count": null,
   "metadata": {},
   "outputs": [],
   "source": []
  },
  {
   "cell_type": "code",
   "execution_count": 1007,
   "metadata": {},
   "outputs": [],
   "source": [
    "pairs = list(itertools.combinations(range(4),2))"
   ]
  },
  {
   "cell_type": "code",
   "execution_count": 1008,
   "metadata": {},
   "outputs": [],
   "source": [
    "diffStore = []\n",
    "for tmpP in allP:\n",
    "    tmpa = [i.flatten() for i in tmpP[-1]]\n",
    "    diffs = []\n",
    "    for pair in pairs:\n",
    "        diffs.append(np.sum(np.abs(tmpa[pair[0]]-tmpa[pair[1]])))\n",
    "        \n",
    "    diffStore.append(np.mean(diffs))"
   ]
  },
  {
   "cell_type": "code",
   "execution_count": null,
   "metadata": {},
   "outputs": [],
   "source": []
  },
  {
   "cell_type": "code",
   "execution_count": 1009,
   "metadata": {},
   "outputs": [
    {
     "data": {
      "text/plain": [
       "71417"
      ]
     },
     "execution_count": 1009,
     "metadata": {},
     "output_type": "execute_result"
    }
   ],
   "source": [
    "len(diffStore)"
   ]
  },
  {
   "cell_type": "code",
   "execution_count": 1010,
   "metadata": {},
   "outputs": [
    {
     "data": {
      "text/plain": [
       "71417"
      ]
     },
     "execution_count": 1010,
     "metadata": {},
     "output_type": "execute_result"
    }
   ],
   "source": [
    "len(allP)"
   ]
  },
  {
   "cell_type": "code",
   "execution_count": 1011,
   "metadata": {},
   "outputs": [
    {
     "data": {
      "image/png": "[encoded data removed]",
      "text/plain": [
       "<Figure size 432x288 with 1 Axes>"
      ]
     },
     "metadata": {},
     "output_type": "display_data"
    }
   ],
   "source": [
    "seaborn.distplot(diffStore,kde=0,bins=np.linspace(0,15,num=20))\n",
    "plt.yscale('symlog')"
   ]
  },
  {
   "cell_type": "code",
   "execution_count": null,
   "metadata": {},
   "outputs": [],
   "source": []
  },
  {
   "cell_type": "code",
   "execution_count": 137,
   "metadata": {},
   "outputs": [
    {
     "data": {
      "text/plain": [
       "array([1.        , 1.73205081, 2.23606798, 1.73205081, 2.23606798,\n",
       "       1.        ])"
      ]
     },
     "execution_count": 137,
     "metadata": {},
     "output_type": "execute_result"
    }
   ],
   "source": [
    "pdist(np.array(allP[0][-1]).reshape(4,-1))"
   ]
  },
  {
   "cell_type": "code",
   "execution_count": 133,
   "metadata": {},
   "outputs": [
    {
     "data": {
      "text/plain": [
       "array([[0.5, 0.5, 1. , 0. , 1. , 0. , 1. , 0. , 1. , 0. , 1. , 0. , 0.5,\n",
       "        0.5, 1. , 0. , 1. , 0. ],\n",
       "       [0. , 1. , 0.5, 0.5, 1. , 0. , 1. , 0. , 1. , 0. , 1. , 0. , 0.5,\n",
       "        0.5, 1. , 0. , 1. , 0. ],\n",
       "       [1. , 0. , 0. , 1. , 0.5, 0.5, 1. , 0. , 1. , 0. , 1. , 0. , 0.5,\n",
       "        0.5, 1. , 0. , 1. , 0. ],\n",
       "       [1. , 0. , 0. , 1. , 0. , 1. , 0.5, 0.5, 1. , 0. , 1. , 0. , 0.5,\n",
       "        0.5, 1. , 0. , 1. , 0. ]])"
      ]
     },
     "execution_count": 133,
     "metadata": {},
     "output_type": "execute_result"
    }
   ],
   "source": [
    "np.array(allP[0][-1]).reshape(4,-1)"
   ]
  },
  {
   "cell_type": "code",
   "execution_count": 114,
   "metadata": {},
   "outputs": [],
   "source": [
    "aat = [1,2,3]"
   ]
  },
  {
   "cell_type": "code",
   "execution_count": null,
   "metadata": {},
   "outputs": [],
   "source": [
    "V.copy"
   ]
  },
  {
   "cell_type": "code",
   "execution_count": 746,
   "metadata": {},
   "outputs": [],
   "source": [
    "def value_iteration_slow(gw,gamma = 0.9):\n",
    "    \n",
    "    V = np.zeros(gw.n_states)\n",
    "    for s in range(gw.n_states):\n",
    "        Vprev = V.copy()\n",
    "\n",
    "        if s not in gw.terminal_states:\n",
    "            tmp = []\n",
    "            tmpT_ = []\n",
    "            for a in range(2):\n",
    "                t_ = gw.edge_transitions[s,a]\n",
    "                v_ = gw.rewards[t_] + gamma*Vprev[t_]\n",
    "                tmp.append(v_)\n",
    "            V[s] = np.max(tmp)\n",
    "    return V"
   ]
  },
  {
   "cell_type": "code",
   "execution_count": null,
   "metadata": {},
   "outputs": [],
   "source": []
  }
 ],
 "metadata": {
  "kernelspec": {
   "display_name": "Python 3",
   "language": "python",
   "name": "python3"
  },
  "language_info": {
   "codemirror_mode": {
    "name": "ipython",
    "version": 3
   },
   "file_extension": ".py",
   "mimetype": "text/x-python",
   "name": "python",
   "nbconvert_exporter": "python",
   "pygments_lexer": "ipython3",
   "version": "3.6.9"
  }
 },
 "nbformat": 4,
 "nbformat_minor": 2
}
