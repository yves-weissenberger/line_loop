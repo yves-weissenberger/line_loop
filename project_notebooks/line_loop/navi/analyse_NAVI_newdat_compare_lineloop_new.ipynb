{
 "cells": [
  {
   "cell_type": "markdown",
   "metadata": {},
   "source": [
    "# First pass analysis of line/loop data\n",
    "\n",
    "<ul>\n",
    "    <li> Analyse correct sequence lengths. </li>\n",
    "    <li> Do reaction times </li>\n",
    "    <li> Analyse as a function of distance from reward </li>\n",
    "    <li> Try to fit RL model to these data </li> \n",
    "    \n",
    "</ul>\n",
    "\n",
    "<b> WHY IS THERE A DIFFERENCE BETWEEN REW_LIST AND DAT_DICT['STATE'] </b>"
   ]
  },
  {
   "cell_type": "code",
   "execution_count": 1,
   "metadata": {},
   "outputs": [
    {
     "name": "stderr",
     "output_type": "stream",
     "text": [
      "/Users/yves/opt/anaconda3/lib/python3.7/site-packages/statsmodels/tools/_testing.py:19: FutureWarning: pandas.util.testing is deprecated. Use the functions in the public API at pandas.testing instead.\n",
      "  import pandas.util.testing as tm\n"
     ]
    }
   ],
   "source": [
    "%matplotlib inline\n",
    "import numpy as np\n",
    "import scipy as sp\n",
    "import pandas as pd\n",
    "import matplotlib.pyplot as plt\n",
    "import matplotlib\n",
    "import seaborn\n",
    "import scipy.stats as stt\n",
    "seaborn.set(font_scale=1.5,style='ticks')\n",
    "import os\n",
    "import re\n",
    "import sys\n",
    "import itertools\n",
    "import functools\n",
    "import networkx as nx\n",
    "from datetime import date, timedelta\n",
    "from datetime import datetime\n",
    "\n",
    "seaborn.set(font_scale=1.5,style='ticks',rc={'axes.edgecolor': 'k',\n",
    "                                             'axes.linewidth': 2,\n",
    "                                             #'xtick.major.size': 6,\n",
    "                                             'axes.labelcolor':'k',\n",
    "                                             'xtick.major.width': 2,\n",
    "                                             'ytick.major.width': 2,\n",
    "                                             'xtick.major.pad': 5.5,\n",
    "                                             'ytick.major.pad': 5.5,\n",
    "                                             'axes.labelsize': 18\n",
    "                                            })\n",
    "\n",
    "\n",
    "#sys.path.append(r\"C:\\Users\\yweissenberger\\Documents\\code\\line_loop-master\")\n",
    "#sys.path.append(r\"C:\\Users\\yweissenberger\\Documents\\code\\line_loop-master\\packages\")\n",
    "sys.path.append(\"/Users/yves/Documents/Code/line_loop/packages/\")"
   ]
  },
  {
   "cell_type": "code",
   "execution_count": 2,
   "metadata": {},
   "outputs": [],
   "source": [
    "import mouse_poker as mpk\n",
    "from mouse_poker.navi import *"
   ]
  },
  {
   "cell_type": "code",
   "execution_count": null,
   "metadata": {},
   "outputs": [],
   "source": []
  },
  {
   "cell_type": "markdown",
   "metadata": {},
   "source": [
    "# Defined functions "
   ]
  },
  {
   "cell_type": "code",
   "execution_count": 3,
   "metadata": {},
   "outputs": [],
   "source": [
    "poke_pos = [ [149,0],\n",
    "         [68,19],[231,19],\n",
    "       [0,62],[149,62],[298,62],\n",
    "         [68,105],[231,105],\n",
    "              [149,124]]"
   ]
  },
  {
   "cell_type": "code",
   "execution_count": null,
   "metadata": {},
   "outputs": [],
   "source": []
  },
  {
   "cell_type": "code",
   "execution_count": null,
   "metadata": {},
   "outputs": [],
   "source": []
  },
  {
   "cell_type": "code",
   "execution_count": 5,
   "metadata": {},
   "outputs": [],
   "source": [
    "def get_transitions(state_seq,rew_list,port_seq,forced_seq,rew_indices,map_poke_to_state,minNrew=5,set_rew_indices=None,firstOnly=False):\n",
    "    \"\"\" This function obtains empirical counts for transitions from a given state to another\n",
    "        \n",
    "        Arguments:\n",
    "        ===========================\n",
    "        \n",
    "            state_seq: ordered list of states visited by the animal\n",
    "            \n",
    "            rew_list: list of \n",
    "        \n",
    "    \"\"\"\n",
    "    used_states = sorted([i[1] for i in map_poke_to_state.args[0]])\n",
    "    if set_rew_indices is None: set_rew_indices=used_states\n",
    "    perf = np.zeros([9,9,9])\n",
    "    perf_ctr = np.zeros([9,9,9])\n",
    "    rew_hist = []\n",
    "    transition_mtx = np.zeros([9,9,9])\n",
    "    state_ctr = np.zeros([9,9])\n",
    "    all_rew_loc = []\n",
    "    for rew_ctr,(st,nd) in enumerate(zip(np.where(rew_list)[0][:-2],np.where(rew_list)[0][1:-1])):\n",
    "        rew_loc = state_seq[nd]\n",
    "        if (rew_loc in set_rew_indices):\n",
    "            c_rew_index = rew_indices.index(port_seq[nd])\n",
    "            all_rew_loc.append(rew_loc)\n",
    "            if not rew_hist:\n",
    "                rew_hist.append(rew_loc)\n",
    "            elif rew_loc==rew_hist[-1]:\n",
    "                rew_hist.append(rew_loc)\n",
    "            else:\n",
    "                rew_hist = []\n",
    "\n",
    "            has_visited= []\n",
    "            if len(rew_hist)>minNrew:\n",
    "\n",
    "                for pk_ctr in range(st+1,nd+1):\n",
    "                    if not forced_seq[pk_ctr]:\n",
    "                        state = state_seq[pk_ctr]\n",
    "                        if state not in has_visited:\n",
    "\n",
    "                            next_state = state_seq[pk_ctr+1]\n",
    "\n",
    "                            transition_mtx[state,next_state,rew_loc] += 1\n",
    "                            state_ctr[state,rew_loc] += 1\n",
    "                            if firstOnly: has_visited.append(state)\n",
    "\n",
    "    \n",
    "    return transition_mtx, state_ctr, np.unique(all_rew_loc)"
   ]
  },
  {
   "cell_type": "code",
   "execution_count": null,
   "metadata": {},
   "outputs": [],
   "source": []
  },
  {
   "cell_type": "code",
   "execution_count": null,
   "metadata": {},
   "outputs": [],
   "source": []
  },
  {
   "cell_type": "code",
   "execution_count": null,
   "metadata": {},
   "outputs": [],
   "source": []
  },
  {
   "cell_type": "code",
   "execution_count": 9,
   "metadata": {},
   "outputs": [],
   "source": [
    "def run_transition_perf_analysis(lines,minNrew=0,set_rew_indices=None,firstOnly=False):\n",
    "    \n",
    "    \"\"\" \n",
    "    \n",
    "    \"\"\"\n",
    "    experiment_name, task_name, subject_id, task_nr, graph,lineloop,date,test,_ = mpk.load.get_metadata(lines)\n",
    "    #dat_dict,events,event_times,nRews,_ = mpk.load.parse_data(lines,experiment_name)\n",
    "    state_seq, rew_list, port_seq,forced_seq = extract_navi_dat(lines)\n",
    "    poke_to_state_map,full_pkst_map = get_poke_to_state_map(lines)\n",
    "    used_states = sorted([i[1] for i in full_pkst_map])\n",
    "    used_pokes = ([i[0] for i in full_pkst_map])\n",
    "\n",
    "    map_poke_to_state = functools.partial(map_poke_to_state_fun,full_pkst_map)\n",
    "    map_state_to_poke = functools.partial(map_state_to_poke_fun,full_pkst_map)\n",
    "\n",
    "    #rew_indices = [0,3,5,8]\n",
    "    rew_indices = np.unique([eval(re.findall('REWARD LOCATIONS(\\[.*\\])',l)[0]) for l in lines if re.findall('REWARD LOCATIONS(\\[.*\\])',l)][0]).tolist()\n",
    "    \n",
    "    \n",
    "    transition_mtx,ctr,rew_indices_state = get_transitions(state_seq,\n",
    "                                                        rew_list,\n",
    "                                                        port_seq,\n",
    "                                                        forced_seq,\n",
    "                                                        rew_indices,\n",
    "                                                        map_poke_to_state,\n",
    "                                                        minNrew=minNrew,\n",
    "                                                        set_rew_indices=set_rew_indices,\n",
    "                                                        firstOnly=firstOnly)\n",
    "\n",
    "  \n",
    "    \n",
    "    if set_rew_indices is None:\n",
    "        to_ret = np.array([(transition_mtx/ctr[:,None])[:,:,i]\n",
    "                           for i in range(9)])\n",
    "        ret_ctr = np.array([ctr[:,i] for i in range(9)])\n",
    "        ret_dirs = np.array([transition_mtx[:,:,i] for i in range(9)])\n",
    "\n",
    "    else:\n",
    "        to_ret = np.array([(transition_mtx/ctr[:,None])[:,:,i]\n",
    "                           for i in set_rew_indices])  #this is the empirical transition matrix\n",
    "        \n",
    "        ret_ctr = np.array([ctr[:,i] for i in set_rew_indices])\n",
    "        ret_dirs = np.array([transition_mtx[:,:,i] for i in set_rew_indices])\n",
    "     \n",
    "   \n",
    "        \n",
    "    return to_ret, rew_indices_state, used_states, ret_ctr, ret_dirs"
   ]
  },
  {
   "cell_type": "code",
   "execution_count": 10,
   "metadata": {},
   "outputs": [],
   "source": [
    "ROOT_loop = '/Users/yves/Documents/beh_dat_new_room/line_loop_batch_3NAVI_toLOOP//'\n",
    "ROOT_line = '/Users/yves/Documents/beh_dat_new_room/line_loop_batch_3NAVI///'\n"
   ]
  },
  {
   "cell_type": "code",
   "execution_count": 11,
   "metadata": {},
   "outputs": [],
   "source": [
    "ix_ = 7\n",
    "fs = sorted(os.listdir(ROOT_loop))\n",
    "f = os.path.join(ROOT_loop,fs[ix_])"
   ]
  },
  {
   "cell_type": "code",
   "execution_count": 8,
   "metadata": {},
   "outputs": [
    {
     "name": "stderr",
     "output_type": "stream",
     "text": [
      "/Users/yves/opt/anaconda3/lib/python3.7/site-packages/ipykernel_launcher.py:31: RuntimeWarning: invalid value encountered in true_divide\n"
     ]
    }
   ],
   "source": [
    "lines = open(f,'r').readlines()\n",
    "experiment_name, task_name, subject_id, task_nr, graph,lineloop,date,test,_ = mpk.load.get_metadata(lines)\n",
    "\n",
    "dat_dict,events,event_times,nRews,_ = mpk.load.parse_data(lines,experiment_name)\n",
    "\n",
    "poke_to_state_map,full_pkst_map = get_poke_to_state_map(lines)\n",
    "used_states = sorted([i[1] for i in full_pkst_map])\n",
    "used_pokes = ([i[0] for i in full_pkst_map])\n",
    "\n",
    "map_poke_to_state = functools.partial(map_poke_to_state_fun,full_pkst_map)\n",
    "map_state_to_poke = functools.partial(map_state_to_poke_fun,full_pkst_map)\n",
    "rew_indices = np.unique([eval(re.findall('REWARD LOCATIONS(\\[.*\\])',l)[0]) for l in lines if re.findall('REWARD LOCATIONS(\\[.*\\])',l)][0]).tolist()\n",
    "\n",
    "\n",
    "#transition_mtx,ctr = get_transitions(dat_dict,map_poke_to_state,rew_indices,lines,minNrew=0)\n",
    "transition_mtx,rew_indices_state,used_states,_,_ = run_transition_perf_analysis(lines)\n",
    "used_states = np.array(used_states)"
   ]
  },
  {
   "cell_type": "code",
   "execution_count": 9,
   "metadata": {},
   "outputs": [],
   "source": [
    "def draw_transition_matrix(transition_mtx,ix_,used_states,rew_indices,graph_type='line',verbose=False):\n",
    "    \n",
    "    \"\"\" Draw transition matrices in a nice way \"\"\"\n",
    "    im = transition_mtx[ix_].copy()[used_states[:,None],used_states[None,:]]\n",
    "    plt.imshow(np.dstack([np.eye(im.shape[0])*-1 + 1]*3 + [np.eye(im.shape[0])]),cmap='Greys')\n",
    "    for i in range(len(used_states)-1):\n",
    "        plt.plot([i+.5,i+1.5],[i-.5,i-.5],color='k')\n",
    "        plt.plot([i+.5,i+1.5],[i+.5,i+.5],color='k')\n",
    "        plt.plot([i-.5,i-.5],[i+.5,i+1.5],color='k')\n",
    "        plt.plot([i+.5,i+.5],[i+.5,i+1.5],color='k')\n",
    "        plt.plot([i+.5,i+.5],[i-.5,i+.5],color='k')\n",
    "        plt.plot([i-.5,i+.5],[i+1.5,i+1.5],color='k')\n",
    "        plt.plot([i+1.5,i+1.5],[i-.5,i+.5],color='k')\n",
    "\n",
    "    if graph_type=='loop':\n",
    "        plt.plot([-.5,.5],[4.5,4.5],color='k')\n",
    "        plt.plot([.5,.5],[4.5,5.5],color='k')\n",
    "        \n",
    "        plt.plot([4.5,4.5],[-.5,.5],color='k')\n",
    "        plt.plot([4.5,5.5],[-.5,-.5],color='k')\n",
    "        plt.plot([4.5,5.5],[.5,.5],color='k')\n",
    "        plt.plot([5.5,5.5],[-.5,.5],color='k')\n",
    "\n",
    "    rloc = rew_indices[ix_]\n",
    "    #for ix_ in range(transition_mtx.shape[0]):\n",
    "    #im[np.logical_not(np.nansum(transition_mtx,axis=0)[used_states[:,None],used_states[None,:]]>0)] = np.nan\n",
    "    tmp_im = np.ones_like(im)*np.nan\n",
    "    #np.fill_diagonal(tmp_im,1)\n",
    "    np.fill_diagonal(tmp_im[1:], 1)\n",
    "    np.fill_diagonal(tmp_im[:,1:], 1)\n",
    "    if lineloop=='loop': tmp_im[0,-1] = 1; tmp_im[-1,0] = 1\n",
    "    \n",
    "    tmp_im[rew_indices_state[ix_]-used_states[0],:] = np.nan\n",
    "    #tmp_im[rew_indices_state[ix_]-used_states[0],rew_indices_state[ix_]-used_states[0]+1] = np.nan\n",
    "    \n",
    "    im = im*tmp_im\n",
    "    if graph_type=='line':\n",
    "        im[0,-1] = np.nan; im[-1,0] = np.nan\n",
    "        if (rew_indices[ix_]-used_states[0])!=0:\n",
    "            im[0,1] = 1;\n",
    "        if (rew_indices[ix_]-used_states[0])!=5:\n",
    "            im[-1,-2] = 1\n",
    "    #plt.xticks(np.arange(centers[0], centers[1]+dx, dx))\n",
    "    #ax = plt.gca()\n",
    "    plt.imshow(im,cmap='RdBu_r',alpha=.8,interpolation='None',vmin=0,vmax=1)\n",
    "    #plt.colorbar()\n",
    "\n",
    "    #plt.xticks(plt.xticks()[0],plt.xticks()[0]-.5) \n",
    "    #plt.yticks(plt.yticks()[0],plt.yticks()[0]-.5)\n",
    "    #plt.scatter([rew_indices_state[ix_]-used_states[0]]*im.shape[0],np.arange(im.shape[0]),marker='*',color='k',s=96)\n",
    "    if verbose:\n",
    "        plt.gca().text(4,rew_indices_state[ix_]-used_states[0]-.15,'rewarded state',ha='center',va='center',fontsize=12,color='k')\n",
    "\n",
    "    plt.plot([-.5,im.shape[1]+.5],2*[rew_indices_state[ix_]-used_states[0]],color='.3',alpha=.3)\n",
    "    plt.plot(2*[rew_indices_state[ix_]-used_states[0]],[-.5,im.shape[1]+.5],color='.3',alpha=.3)\n",
    "    plt.xlim(-.475,im.shape[0]-.475)\n",
    "    plt.ylim(im.shape[0]-.475,-.475)\n",
    "\n",
    "    for (j,i),label in np.ndenumerate(im):\n",
    "        if not np.isnan(label):\n",
    "            plt.gca().text(i,j,'{:.2f}'.format(label),ha='center',va='center',fontsize=12)\n",
    "        #ax2.text(i,j,label,ha='center',va='center')\n",
    "    plt.tight_layout()\n",
    "    #plt.ylim(6.5,.5)\n",
    "    #plt.xlim(.5,6.5)\n",
    "    seaborn.despine()"
   ]
  },
  {
   "cell_type": "code",
   "execution_count": 10,
   "metadata": {},
   "outputs": [],
   "source": [
    "#draw_transition_matrix(transition_mtx,0,used_states,rew_indices)"
   ]
  },
  {
   "cell_type": "markdown",
   "metadata": {},
   "source": [
    "# Actual code to run stuff "
   ]
  },
  {
   "cell_type": "code",
   "execution_count": 11,
   "metadata": {},
   "outputs": [],
   "source": [
    "ROOT_loop = '/Users/yves/Documents/beh_dat_new_room/line_loop_batch_3NAVI_toLOOP//'\n",
    "ROOT_line = '/Users/yves/Documents/beh_dat_new_room/line_loop_batch_3NAVI///'\n",
    "#\\\n"
   ]
  },
  {
   "cell_type": "code",
   "execution_count": 20,
   "metadata": {},
   "outputs": [
    {
     "name": "stdout",
     "output_type": "stream",
     "text": [
      "/Users/yves/Documents/beh_dat_new_room/line_loop_batch_3NAVI///'460175_10'-2021-03-05-120412.txt\n",
      "/Users/yves/Documents/beh_dat_new_room/line_loop_batch_3NAVI///'456675_10'-2021-03-05-120412.txt\n",
      "/Users/yves/Documents/beh_dat_new_room/line_loop_batch_3NAVI///'460175_10'-2021-03-05-125238.txt\n",
      "/Users/yves/Documents/beh_dat_new_room/line_loop_batch_3NAVI///'456675_10'-2021-03-05-125238.txt\n",
      "/Users/yves/Documents/beh_dat_new_room/line_loop_batch_3NAVI_toLOOP//'460175_10'-2021-03-05-131715.txt\n",
      "/Users/yves/Documents/beh_dat_new_room/line_loop_batch_3NAVI_toLOOP//'456675_10'-2021-03-05-131714.txt\n",
      "/Users/yves/Documents/beh_dat_new_room/line_loop_batch_3NAVI_toLOOP//'460175_10'-2021-03-05-123614.txt\n",
      "/Users/yves/Documents/beh_dat_new_room/line_loop_batch_3NAVI_toLOOP//'456675_10'-2021-03-05-123614.txt\n"
     ]
    }
   ],
   "source": [
    "fdict = {}\n",
    "now = datetime.now()\n",
    "for ROOT,lineloop in zip([ROOT_line,ROOT_loop],['line','loop']):\n",
    "    fs = [i for i in os.listdir(ROOT) if os.path.isfile(os.path.join(ROOT,i))]\n",
    "    for f in fs:\n",
    "        f = os.path.join(ROOT,f)\n",
    "\n",
    "        subject = re.findall(\"'(.*)'\",f)\n",
    "        t1_ = re.findall(r'(202.*)-[0-9]{6}.txt',f)[0]\n",
    "        t1_ = datetime.strptime(t1_,'%Y-%m-%d')\n",
    "\n",
    "        #if ('03-04' in f) or ('03-05' in f) or ('03-02' in f):\n",
    "        #if ('03-05' in f):\n",
    "        if (now - t1_).days<=6:\n",
    "            if subject: \n",
    "                lines =open(f,'r').readlines()\n",
    "\n",
    "                subject = subject[0]\n",
    "                experiment_name, task_name, subject_id, task_nr, graph,lineloop,date,test,_ = mpk.load.get_metadata(lines)\n",
    "                dat_dict,events,event_times,nRews,_ = mpk.load.parse_data(lines,experiment_name)\n",
    "                \n",
    "                if nRews>20 and task_nr=='1':\n",
    "                    print(f)\n",
    "                    if subject+lineloop in fdict.keys():\n",
    "                        fdict[subject+lineloop].append(f)\n",
    "                    else:\n",
    "                        fdict[subject+lineloop] = [f]\n",
    "\n"
   ]
  },
  {
   "cell_type": "code",
   "execution_count": 21,
   "metadata": {},
   "outputs": [
    {
     "name": "stdout",
     "output_type": "stream",
     "text": [
      "/Users/yves/Documents/beh_dat_new_room/line_loop_batch_3NAVI///'460175_10'-2021-03-05-120412.txt\n",
      "/Users/yves/Documents/beh_dat_new_room/line_loop_batch_3NAVI///'460175_10'-2021-03-05-125238.txt\n",
      "/Users/yves/Documents/beh_dat_new_room/line_loop_batch_3NAVI///'456675_10'-2021-03-05-120412.txt\n",
      "/Users/yves/Documents/beh_dat_new_room/line_loop_batch_3NAVI///'456675_10'-2021-03-05-125238.txt\n"
     ]
    },
    {
     "name": "stderr",
     "output_type": "stream",
     "text": [
      "/Users/yves/opt/anaconda3/lib/python3.7/site-packages/ipykernel_launcher.py:37: RuntimeWarning: invalid value encountered in true_divide\n"
     ]
    },
    {
     "name": "stdout",
     "output_type": "stream",
     "text": [
      "/Users/yves/Documents/beh_dat_new_room/line_loop_batch_3NAVI_toLOOP//'460175_10'-2021-03-05-131715.txt\n",
      "/Users/yves/Documents/beh_dat_new_room/line_loop_batch_3NAVI_toLOOP//'460175_10'-2021-03-05-123614.txt\n",
      "/Users/yves/Documents/beh_dat_new_room/line_loop_batch_3NAVI_toLOOP//'456675_10'-2021-03-05-131714.txt\n",
      "/Users/yves/Documents/beh_dat_new_room/line_loop_batch_3NAVI_toLOOP//'456675_10'-2021-03-05-123614.txt\n"
     ]
    }
   ],
   "source": [
    "set_rew_indices = [1,3,5]\n",
    "transition_res = {}\n",
    "for subject in fdict.keys():\n",
    "\n",
    "    for f in fdict[subject]:\n",
    "        print(f)\n",
    "        lines = open(f,'r').readlines()\n",
    "        experiment_name, task_name, subject_id, task_nr, graph,lineloop,date,test,_ = mpk.load.get_metadata(lines)\n",
    "        #print(task_nr)\n",
    "\n",
    "        poke_to_state_map,full_pkst_map = get_poke_to_state_map(lines)\n",
    "        used_states = sorted([i[1] for i in full_pkst_map])\n",
    "        used_pokes = ([i[0] for i in full_pkst_map])\n",
    "\n",
    "        map_poke_to_state = functools.partial(map_poke_to_state_fun,full_pkst_map)\n",
    "        map_state_to_poke = functools.partial(map_state_to_poke_fun,full_pkst_map)\n",
    "        rew_indices = np.unique([eval(re.findall('REWARD LOCATIONS(\\[.*\\])',l)[0]) for l in lines if re.findall('REWARD LOCATIONS(\\[.*\\])',l)][0]).tolist()\n",
    "\n",
    "        outRes_ = run_transition_perf_analysis(lines,set_rew_indices=set_rew_indices,minNrew=3,firstOnly=False)\n",
    "        tmtx,rew_indices_state,used_state,ret_ctr,t_unNorm = outRes_\n",
    "        #to_ret, rew_indices_state, used_states, ret_ctr, ret_dirs\n",
    "        if all([i in rew_indices_state for i in set_rew_indices]):  #only if all necessary rewards are present\n",
    "            if subject in transition_res.keys():\n",
    "                transition_res[subject].append(tmtx)\n",
    "                transition_res[subject+'tc'].append(ret_ctr)\n",
    "                transition_res[subject+'tUn'].append(t_unNorm)\n",
    "                #transition_res[subject+'ri'].append(rew_indices_state)\n",
    "                #transition_res[subject+'us'].append(used_states)\n",
    "\n",
    "            else:\n",
    "                transition_res[subject] = [tmtx]          #transition matrix\n",
    "                transition_res[subject+'tc'] = [ret_ctr]  #total counts for each transition\n",
    "                transition_res[subject+'tUn'] = [t_unNorm]  #transition matrix with counts\n",
    "                transition_res[subject+'ri'] = rew_indices_state  \n",
    "                transition_res[subject+'us'] = used_states"
   ]
  },
  {
   "cell_type": "code",
   "execution_count": null,
   "metadata": {},
   "outputs": [],
   "source": []
  },
  {
   "cell_type": "code",
   "execution_count": 22,
   "metadata": {},
   "outputs": [
    {
     "name": "stderr",
     "output_type": "stream",
     "text": [
      "/Users/yves/opt/anaconda3/lib/python3.7/site-packages/ipykernel_launcher.py:8: RuntimeWarning: Mean of empty slice\n",
      "  \n",
      "/Users/yves/opt/anaconda3/lib/python3.7/site-packages/ipykernel_launcher.py:20: RuntimeWarning: Mean of empty slice\n"
     ]
    },
    {
     "data": {
      "image/png": "[encoded data removed]",
      "text/plain": [
       "<Figure size 864x648 with 6 Axes>"
      ]
     },
     "metadata": {
      "needs_background": "light"
     },
     "output_type": "display_data"
    }
   ],
   "source": [
    "plt.figure(figsize=(12,9))\n",
    "baseS = '456675_10'\n",
    "#baseS= '460175_10'\n",
    "subject = baseS+'loop'\n",
    "for ctr in range(3):\n",
    "    plt.subplot(3,3,ctr+1)\n",
    "    \n",
    "    draw_transition_matrix(np.nanmean(np.array(transition_res[subject]),axis=0),\n",
    "                           ctr,\n",
    "                           used_states=np.array(transition_res[subject+'us']),\n",
    "                           rew_indices=np.array(transition_res[subject+'ri']),graph_type='loop')\n",
    "    if ctr==0:\n",
    "        plt.xlabel(\"State (t+1)\")\n",
    "        plt.ylabel(\"State (t)\")\n",
    "subject = baseS+'line'\n",
    "for ctr in range(3):\n",
    "    plt.subplot(3,3,ctr+1+3)\n",
    "    #print(ctr+1+3)\n",
    "    #print(np.nansum(np.nanmean(np.array(transition_res[subject]),axis=0)[ctr]))\n",
    "    draw_transition_matrix(np.nanmean(np.array(transition_res[subject]),axis=0),\n",
    "                           ctr,\n",
    "                           used_states=np.array(transition_res[subject+'us']),\n",
    "                           rew_indices=np.array(transition_res[subject+'ri']),graph_type='line')\n",
    "plt.tight_layout()"
   ]
  },
  {
   "cell_type": "code",
   "execution_count": null,
   "metadata": {},
   "outputs": [],
   "source": []
  },
  {
   "cell_type": "code",
   "execution_count": 15,
   "metadata": {},
   "outputs": [
    {
     "name": "stderr",
     "output_type": "stream",
     "text": [
      "/Users/yves/opt/anaconda3/lib/python3.7/site-packages/ipykernel_launcher.py:8: RuntimeWarning: Mean of empty slice\n",
      "  \n",
      "/Users/yves/opt/anaconda3/lib/python3.7/site-packages/ipykernel_launcher.py:21: RuntimeWarning: Mean of empty slice\n"
     ]
    },
    {
     "data": {
      "image/png": "[encoded data removed]",
      "text/plain": [
       "<Figure size 864x648 with 7 Axes>"
      ]
     },
     "metadata": {
      "needs_background": "light"
     },
     "output_type": "display_data"
    }
   ],
   "source": [
    "plt.figure(figsize=(12,9))\n",
    "#baseS = '456675_10'\n",
    "baseS= '460175_10'\n",
    "subject = baseS+'loop'\n",
    "for ctr in range(3):\n",
    "    plt.subplot(3,3,ctr+1)\n",
    "    \n",
    "    draw_transition_matrix(np.nanmean(np.array(transition_res[subject]),axis=0),\n",
    "                           ctr,\n",
    "                           used_states=np.array(transition_res[subject+'us']),\n",
    "                           rew_indices=np.array(transition_res[subject+'ri']),graph_type='loop',verbose=ctr==0)\n",
    "    if ctr==0:\n",
    "        plt.xlabel(\"State (t+1)\")\n",
    "        plt.ylabel(\"State (t)\")\n",
    "\n",
    "subject = baseS+'line'\n",
    "for ctr in range(3):\n",
    "    plt.subplot(3,3,ctr+1+3)\n",
    "    #print(ctr+1+3)\n",
    "    #print(np.nansum(np.nanmean(np.array(transition_res[subject]),axis=0)[ctr]))\n",
    "    draw_transition_matrix(np.nanmean(np.array(transition_res[subject]),axis=0),\n",
    "                           ctr,\n",
    "                           used_states=np.array(transition_res[subject+'us']),\n",
    "                           rew_indices=np.array(transition_res[subject+'ri']))\n",
    "\n",
    "cbar = plt.colorbar()\n",
    "cbar.set_label(\"Transition probability\")\n",
    "cbar.set_ticks([0,.5,1])\n",
    "#ca\n"
   ]
  },
  {
   "cell_type": "code",
   "execution_count": null,
   "metadata": {},
   "outputs": [],
   "source": []
  },
  {
   "cell_type": "code",
   "execution_count": 16,
   "metadata": {},
   "outputs": [],
   "source": [
    "#cbar.minorticks_off()"
   ]
  },
  {
   "cell_type": "markdown",
   "metadata": {},
   "source": [
    "# Transition matrix analysis\n",
    "\n",
    "now based on transition matrix define a line-loop adaptation index\n",
    "the harsh measure, again is if they are above chance on each transition.\n",
    "You could also think of making a measure whereby you ask if it adapts from conditions\n",
    "with a given optimal policy. I think this is a nice way of incorporating biases into it\n",
    "because these should be constant. \n",
    "\n",
    "The extreme case would be to decode the condition\n",
    "\n"
   ]
  },
  {
   "cell_type": "code",
   "execution_count": 17,
   "metadata": {},
   "outputs": [],
   "source": [
    "def compare_line_rew_loc(transition_res,subject):\n",
    "\n",
    "    \"\"\" Here compare for each state transitions and ask if the behaviour is different when best\n",
    "        behaviour is different between the two conditions\n",
    "        \n",
    "        !!!!!!! ---- This needs to be extended to ask whether the changes are going in the correct direction, \n",
    "                    not just different ---- DONE I THINK!!!!!!!\n",
    "    \"\"\"\n",
    "    from scipy.stats import fisher_exact\n",
    "\n",
    "    #baseS= '460175_10'\n",
    "    #baseS = '456675_10'\n",
    "\n",
    "    #subject = baseS+'line'\n",
    "    \n",
    "    rew_indices_state = transition_res[subject+'ri']\n",
    "    used_states = transition_res[subject+'us']\n",
    "    transition_mtxs = np.nansum(transition_res[subject+'tUn'],axis=0)\n",
    "    nStates = len(used_states)\n",
    "    res_dict = {}\n",
    "    for state in used_states:\n",
    "\n",
    "        move_up = []; move_down = []\n",
    "        for rix,rloc in enumerate(rew_indices_state):\n",
    "            if rloc<state:\n",
    "                move_down.append(rix)\n",
    "            elif rloc>state:\n",
    "                move_up.append(rix)\n",
    "\n",
    "        if move_up and move_down:\n",
    "            up_sum = np.nansum([transition_mtxs[i][state] for i in move_up],axis=0)\n",
    "            down_sum = np.nansum([transition_mtxs[i][state] for i in move_down],axis=0)\n",
    "\n",
    "\n",
    "            table = np.array([[up_sum[state-1],up_sum[state+1]],\n",
    "                             [down_sum[state-1],down_sum[state+1]]])\n",
    "\n",
    "            test = fisher_exact(table,alternative='less')  #'less' this was just heuristically determined\n",
    "            res_dict['state_'+str(state)] = {'pval':test[1],\n",
    "                                             #'odds-ratio': test[0],\n",
    "                                             'rel_state': state-used_states[0],\n",
    "                                             'tot': table.sum(axis=0)}\n",
    "            #print(fisher_exact(table)[1],state-used_states[0],np.sum(table),state)\n",
    "\n",
    "\n",
    "    return res_dict"
   ]
  },
  {
   "cell_type": "code",
   "execution_count": 18,
   "metadata": {},
   "outputs": [
    {
     "name": "stdout",
     "output_type": "stream",
     "text": [
      "('state_2', {'pval': 5.777311182090352e-20, 'rel_state': 1, 'tot': array([101., 197.])})\n",
      "('state_3', {'pval': 0.001826658885555821, 'rel_state': 2, 'tot': array([167., 137.])})\n",
      "('state_4', {'pval': 2.796571785736423e-21, 'rel_state': 3, 'tot': array([127., 123.])})\n"
     ]
    }
   ],
   "source": [
    "baseS = '456675_10'\n",
    "#baseS= '460175_10'\n",
    "subject = baseS+'line'\n",
    "\n",
    "ll_res = compare_line_rew_loc(transition_res,subject)\n",
    "for i in ll_res.items(): print(i)"
   ]
  },
  {
   "cell_type": "code",
   "execution_count": 19,
   "metadata": {},
   "outputs": [
    {
     "name": "stdout",
     "output_type": "stream",
     "text": [
      "('state_2', {'pval': 4.204164508191597e-19, 'rel_state': 1, 'tot': array([ 91., 125.])})\n",
      "('state_3', {'pval': 0.045716714981232816, 'rel_state': 2, 'tot': array([120.,  91.])})\n",
      "('state_4', {'pval': 3.990627678227244e-17, 'rel_state': 3, 'tot': array([103., 115.])})\n"
     ]
    }
   ],
   "source": [
    "#baseS = '456675_10'\n",
    "baseS= '460175_10'\n",
    "subject = baseS+'line'\n",
    "\n",
    "ll_res = compare_line_rew_loc(transition_res,subject)\n",
    "for i in ll_res.items(): print(i)"
   ]
  },
  {
   "cell_type": "code",
   "execution_count": 27,
   "metadata": {},
   "outputs": [],
   "source": [
    "def get_modulo_distance(rloc,state,nStates=6):\n",
    "    return np.min(np.abs([rloc-state,rloc-(state+nStates),rloc-(state-nStates)]))"
   ]
  },
  {
   "cell_type": "code",
   "execution_count": 467,
   "metadata": {},
   "outputs": [],
   "source": [
    "#get_modulo_distance(0,4)"
   ]
  },
  {
   "cell_type": "code",
   "execution_count": 468,
   "metadata": {},
   "outputs": [],
   "source": [
    "#you want to compare all the cases in the line where "
   ]
  },
  {
   "cell_type": "code",
   "execution_count": 470,
   "metadata": {},
   "outputs": [
    {
     "ename": "IndentationError",
     "evalue": "unindent does not match any outer indentation level (<tokenize>, line 3)",
     "output_type": "error",
     "traceback": [
      "\u001b[0;36m  File \u001b[0;32m\"<tokenize>\"\u001b[0;36m, line \u001b[0;32m3\u001b[0m\n\u001b[0;31m    for s2 in [(state_-1)%nStates,(state_+1)%nStates]:\u001b[0m\n\u001b[0m    ^\u001b[0m\n\u001b[0;31mIndentationError\u001b[0m\u001b[0;31m:\u001b[0m unindent does not match any outer indentation level\n"
     ]
    }
   ],
   "source": [
    "def get_dists_line_loop(state_,rloc,nStates):\n",
    "     dists_loop = []\n",
    "    for s2 in [(state_-1)%nStates,(state_+1)%nStates]:\n",
    "        dists_loop.append(get_modulo_distance(rloc,s2))\n",
    "        \n",
    "        \n",
    "    dists_line = []\n",
    "    for s2 in [(state_-1),(state_+1)]:\n",
    "        if s2<used_states[0]: dists_line.append(100)\n",
    "        elif s2>used_states[-1]: dists_line.append(100)\n",
    "        else: dists_line.append(np.abs(s2-rloc))\n",
    "            \n",
    "    return dists_line, dists_loop"
   ]
  },
  {
   "cell_type": "code",
   "execution_count": null,
   "metadata": {},
   "outputs": [],
   "source": [
    "#def compare_line_with_loop \n",
    "\n",
    "\"\"\"\n",
    "The simplest way of doing it would be to say when the reward location is\n",
    "the same between the two conditions, but the required policy is different.\n",
    "I think you could also do the intersection though, to get more data and \n",
    "simplify the analysis.\n",
    "\n",
    "The logic is we look at each state. Then for each state we look, separarately\n",
    "for the line and the loop, at the available next states and the distances from\n",
    "there to each reward location. Then we \n",
    "\n",
    "What you want to do is for each state when there is a sifference between the line and the loop,.\n",
    "\n",
    "The question is whether you can lump reward locations? I think the answer is yes.\n",
    "\n",
    "\n",
    "What you want to do is for each reward location to select all of the points on the blinds.\n",
    "\n",
    "For each state, get reward locations where move up on loop and down on line (and vice versa?)\n",
    "\"\"\"\n",
    "\n",
    "\n",
    "\n",
    "\n",
    "from scipy.stats import fisher_exact\n",
    "\n",
    "#baseS= '460175_10'\n",
    "baseS = '456675_10'\n",
    "\n",
    "subject = baseS+'line'\n",
    "subject_f = lambda subj,gtyp: subj+gtype\n",
    "\n",
    "rew_indices_state = transition_res[subject+'ri']\n",
    "used_states = sorted(transition_res[subject+'us'])\n",
    "transition_mtxs = np.nansum(transition_res[subject+'tUn'],axis=0)\n",
    "\n",
    "res_dict = {}\n",
    "\n",
    "nStates = len(used_states)\n",
    "for state in used_states:\n",
    "    \n",
    "    state_ = state_ - used_states[0]\n",
    "    \n",
    "    \n",
    "    move_up_line = []; move_up_loop = []\n",
    "    move_down_line = []; move_down_loop = []\n",
    "    for rix,rloc in enumerate(rew_indices_state):\n",
    "\n",
    "        #\n",
    "        dists_line,dists_loop = get_dists_line_loop(state_,rloc,nStates)\n",
    "        \n",
    "        \n",
    "        if np.min(dists_line)!=np.min(dists_loop):\n",
    "            if np.argmin(dists_line)>np.argmin(dists_loop):  #if there is a difference between line and loop, include\n",
    "            elif np.argmin(dists_line)<np.argmin(dists_loop): \n",
    "\n",
    "\n",
    "            if np.argmin(dists_loop)==0: move_down_loop.append(rix)\n",
    "            else: move_up_loop.append(rix)\n",
    "\n",
    "\n",
    "            if np.argmin(dists_loop)==0: move_down_loop.append(rix)\n",
    "            else: move_up_loop.append(rix)\n",
    "\n",
    "        dists_line = []\n",
    "        for s2\n",
    "        move_up = []; move_down = []\n",
    "        for rix,rloc in enumerate(rew_indices_state):\n",
    "            if rloc<state:\n",
    "                move_down.append(rix)\n",
    "            elif rloc>state:\n",
    "                move_up.append(rix)\n",
    "\n",
    "        if move_up and move_down:\n",
    "            up_sum = np.nansum([transition_mtxs[i][state] for i in move_up],axis=0)\n",
    "            down_sum = np.nansum([transition_mtxs[i][state] for i in move_down],axis=0)\n",
    "\n",
    "\n",
    "            table = np.array([[up_sum[state-1],up_sum[state+1]],\n",
    "                             [down_sum[state-1],down_sum[state+1]]])\n",
    "\n",
    "            test = fisher_exact(table)\n",
    "            res_dict['state'+str(state)] = {'pval':test[1],'odds-ratio': test[0],'abs_state': state-used_states[0]}\n",
    "            print(fisher_exact(table)[1],state-used_states[0],np.sum(table),state)"
   ]
  },
  {
   "cell_type": "code",
   "execution_count": null,
   "metadata": {},
   "outputs": [],
   "source": []
  },
  {
   "cell_type": "code",
   "execution_count": null,
   "metadata": {},
   "outputs": [],
   "source": []
  },
  {
   "cell_type": "code",
   "execution_count": null,
   "metadata": {},
   "outputs": [],
   "source": []
  }
 ],
 "metadata": {
  "kernelspec": {
   "display_name": "Python 3",
   "language": "python",
   "name": "python3"
  },
  "language_info": {
   "codemirror_mode": {
    "name": "ipython",
    "version": 3
   },
   "file_extension": ".py",
   "mimetype": "text/x-python",
   "name": "python",
   "nbconvert_exporter": "python",
   "pygments_lexer": "ipython3",
   "version": "3.7.4"
  }
 },
 "nbformat": 4,
 "nbformat_minor": 2
}
