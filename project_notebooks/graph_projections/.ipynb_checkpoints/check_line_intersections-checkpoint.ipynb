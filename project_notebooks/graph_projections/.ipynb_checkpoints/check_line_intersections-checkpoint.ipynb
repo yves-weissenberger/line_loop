{
 "cells": [
  {
   "cell_type": "code",
   "execution_count": 13,
   "metadata": {},
   "outputs": [],
   "source": [
    "%matplotlib inline\n",
    "import numpy as np\n",
    "import matplotlib.pyplot as plt\n",
    "import itertools"
   ]
  },
  {
   "cell_type": "code",
   "execution_count": 9,
   "metadata": {},
   "outputs": [],
   "source": [
    "def on_segment(p, q, r):\n",
    "    '''Given three colinear points p, q, r, the function checks if \n",
    "    point q lies on line segment \"pr\"\n",
    "    '''\n",
    "    if (q[0] <= max(p[0], r[0]) and q[0] >= min(p[0], r[0]) and\n",
    "        q[1] <= max(p[1], r[1]) and q[1] >= min(p[1], r[1])):\n",
    "        return True\n",
    "    return False\n",
    "\n",
    "def orientation(p, q, r):\n",
    "    '''Find orientation of ordered triplet (p, q, r).\n",
    "    The function returns following values\n",
    "    0 --> p, q and r are colinear\n",
    "    1 --> Clockwise\n",
    "    2 --> Counterclockwise\n",
    "    '''\n",
    "\n",
    "    val = ((q[1] - p[1]) * (r[0] - q[0]) - \n",
    "            (q[0] - p[0]) * (r[1] - q[1]))\n",
    "    if val == 0:\n",
    "        return 0  # colinear\n",
    "    elif val > 0:\n",
    "        return 1   # clockwise\n",
    "    else:\n",
    "        return 2  # counter-clockwise\n",
    "\n",
    "def do_intersect(p1, q1, p2, q2):\n",
    "    '''Main function to check whether the closed line segments p1 - q1 and p2 \n",
    "       - q2 intersect'''\n",
    "    o1 = orientation(p1, q1, p2)\n",
    "    o2 = orientation(p1, q1, q2)\n",
    "    o3 = orientation(p2, q2, p1)\n",
    "    o4 = orientation(p2, q2, q1)\n",
    "\n",
    "    # General case\n",
    "    if (o1 != o2 and o3 != o4):\n",
    "        return True\n",
    "\n",
    "    # Special Cases\n",
    "    # p1, q1 and p2 are colinear and p2 lies on segment p1q1\n",
    "    if (o1 == 0 and on_segment(p1, p2, q1)):\n",
    "        return True\n",
    "\n",
    "    # p1, q1 and p2 are colinear and q2 lies on segment p1q1\n",
    "    if (o2 == 0 and on_segment(p1, q2, q1)):\n",
    "        return True\n",
    "\n",
    "    # p2, q2 and p1 are colinear and p1 lies on segment p2q2\n",
    "    if (o3 == 0 and on_segment(p2, p1, q2)):\n",
    "        return True\n",
    "\n",
    "    # p2, q2 and q1 are colinear and q1 lies on segment p2q2\n",
    "    if (o4 == 0 and on_segment(p2, q1, q2)):\n",
    "        return True\n",
    "\n",
    "    return False # Doesn't fall in any of the above cases"
   ]
  },
  {
   "cell_type": "code",
   "execution_count": 11,
   "metadata": {},
   "outputs": [
    {
     "name": "stdout",
     "output_type": "stream",
     "text": [
      "1.47 ms ± 53.8 µs per loop (mean ± std. dev. of 7 runs, 1000 loops each)\n"
     ]
    }
   ],
   "source": [
    "for _ in range(36):\n",
    "    ps = [np.random.normal(size=2) for _ in range(4)]\n",
    "    do_intersect(*ps)"
   ]
  },
  {
   "cell_type": "code",
   "execution_count": null,
   "metadata": {},
   "outputs": [],
   "source": [
    "def any_intersect(locs):\n",
    "    \"\"\" Check whether any of the edge sets intersect \"\"\"\n",
    "    combinations = list(itertools.combinations(range(9),2))"
   ]
  },
  {
   "cell_type": "code",
   "execution_count": 12,
   "metadata": {},
   "outputs": [],
   "source": [
    "node_locs = np.random.normal(size=(9,2))"
   ]
  },
  {
   "cell_type": "code",
   "execution_count": null,
   "metadata": {},
   "outputs": [],
   "source": [
    "list(itertools.combinations(range(9),2))"
   ]
  },
  {
   "cell_type": "code",
   "execution_count": null,
   "metadata": {},
   "outputs": [],
   "source": []
  },
  {
   "cell_type": "code",
   "execution_count": null,
   "metadata": {},
   "outputs": [],
   "source": []
  }
 ],
 "metadata": {
  "kernelspec": {
   "display_name": "Python 3",
   "language": "python",
   "name": "python3"
  },
  "language_info": {
   "codemirror_mode": {
    "name": "ipython",
    "version": 3
   },
   "file_extension": ".py",
   "mimetype": "text/x-python",
   "name": "python",
   "nbconvert_exporter": "python",
   "pygments_lexer": "ipython3",
   "version": "3.7.4"
  }
 },
 "nbformat": 4,
 "nbformat_minor": 2
}
