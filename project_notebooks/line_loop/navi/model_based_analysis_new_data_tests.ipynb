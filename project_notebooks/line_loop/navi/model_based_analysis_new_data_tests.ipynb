{
 "cells": [
  {
   "cell_type": "markdown",
   "metadata": {},
   "source": [
    "# A tricky thing here is the difference between first visits and multiple visits essentially, because the animals have biases \n",
    "\n",
    "\n",
    "You could quantify this with a likelihood based approach. This would be the cleanest. You can calculate under.\n",
    "\n",
    "In effect you don't need them to be making the correct decision at each point, you need them to be more likely to make the correct decision that when they are following a policy that leads them to the correct reward. This could change the results in either direction\n",
    "\n",
    "You could also quantify this as being between having learned the correct policy and not.\n",
    "\n",
    "## Analysing it more complicatedly\n",
    "\n",
    "\n",
    "There are several ways of calculating this. Could compare this to the marginal distribution of all states. Could compare it to the marginal transition matrix.\n",
    "\n",
    "Ok, so the answer here is complicated. What we therefore need to do is quantify the biases. \n",
    "\n",
    "- Quantify stability of biases within session\n",
    "- Quantify the stability of across session biases\n",
    "- Quantify these conditional on reward location\n",
    "\n",
    "My sense is to compare it to the transition matrix distribution calculated for the reward location that preceeded the trial across the entire session\n",
    "\n",
    "\n",
    "## Unaswered questions\n",
    "\n",
    " - What is the null distribution, when you don't directly calculate fraction correct but calculate it against the empirical transition probabilities.\n",
    " - What do you do about transitions where in states that were rewarded??\n",
    " \n",
    " The null hypothesis is that the data\n",
    " \n",
    " \n",
    "Really need to think carefully about how to rule out that this is driven by one step transitions"
   ]
  },
  {
   "cell_type": "code",
   "execution_count": 1,
   "metadata": {},
   "outputs": [
    {
     "name": "stderr",
     "output_type": "stream",
     "text": [
      "/Users/yves/opt/anaconda3/lib/python3.7/site-packages/statsmodels/tools/_testing.py:19: FutureWarning: pandas.util.testing is deprecated. Use the functions in the public API at pandas.testing instead.\n",
      "  import pandas.util.testing as tm\n"
     ]
    }
   ],
   "source": [
    "%matplotlib inline\n",
    "import numpy as np\n",
    "import scipy as sp\n",
    "import pandas as pd\n",
    "import matplotlib.pyplot as plt\n",
    "import matplotlib\n",
    "import seaborn\n",
    "import scipy.stats as stt\n",
    "seaborn.set(font_scale=1.5,style='ticks')\n",
    "import os\n",
    "import re\n",
    "import sys\n",
    "import itertools\n",
    "import functools\n",
    "import networkx as nx\n",
    "from datetime import date, timedelta\n",
    "from datetime import datetime\n",
    "from statsmodels.stats import proportion\n",
    "clrs = seaborn.color_palette(n_colors=6)\n",
    "\n",
    "sys.path.append(r\"C:\\Users\\yweissenberger\\Documents\\code\\line_loop-master\")\n",
    "sys.path.append(r\"C:\\Users\\yweissenberger\\Documents\\code\\line_loop-master\\packages\")\n",
    "sys.path.append(\"/Users/yves/Documents/Code/line_loop/packages/\")"
   ]
  },
  {
   "cell_type": "code",
   "execution_count": 2,
   "metadata": {},
   "outputs": [],
   "source": [
    "import mouse_poker as mpk"
   ]
  },
  {
   "cell_type": "code",
   "execution_count": null,
   "metadata": {},
   "outputs": [],
   "source": []
  },
  {
   "cell_type": "code",
   "execution_count": 3,
   "metadata": {},
   "outputs": [],
   "source": [
    "#physical position of the pokes. In terms of numbering, the pokes are numbered as follows\n",
    "#(or in some cases the indexing starts from 0 rather than 1)\n",
    "\n",
    "\"\"\"\n",
    "     1\n",
    "   2   3\n",
    " 4   5   6 \n",
    "   7   8\n",
    "     9\n",
    "\"\"\"\n",
    "\n",
    "#physical positions of the pokes, used for drawing the graphs\n",
    "#with nodes and edges. The distances here are to scale with\n",
    "#the real thing.\n",
    "poke_pos = [ [149,0],\n",
    "         [68,19],[231,19],\n",
    "       [0,62],[149,62],[298,62],\n",
    "         [68,105],[231,105],\n",
    "              [149,124]]"
   ]
  },
  {
   "cell_type": "code",
   "execution_count": 4,
   "metadata": {},
   "outputs": [],
   "source": [
    "from mouse_poker.navi import *"
   ]
  },
  {
   "cell_type": "code",
   "execution_count": null,
   "metadata": {},
   "outputs": [],
   "source": []
  },
  {
   "cell_type": "code",
   "execution_count": 8,
   "metadata": {
    "scrolled": true
   },
   "outputs": [
    {
     "name": "stdout",
     "output_type": "stream",
     "text": [
      "/Users/yves/Documents/beh_dat_new_room/line_loop_batch_4_RUNNAVI/'456675_3'-2021-03-02-103339.txt\n",
      "!!!!!!!!!!!!!!!!!!!!!!!!!!!!!!!!!!!!!!!!!!!!!!!!!!!!!!!!!!!!!!!!!!!!!!!!!!!!!!!!\n",
      "!!!!!!!!!!!!!!!!!!!!!!!!!!!!!!!!!!!!!!!!!!!!!!!!!!!!!!!!!!!!!!!!!!!!!!!!!!!!!!!!\n",
      "!!!!!!!!!!!!!!!!!!!!!!!!!!!!!!!!!!!!!!!!!!!!!!!!!!!!!!!!!!!!!!!!!!!!!!!!!!!!!!!!\n",
      "\n",
      "direction:True,exp_dirs:[False]\n",
      "sapp:False\n",
      "prev_rew_loc_in_seq:False\n",
      "state:4,nextstate:5,rew_loc:5,prev_rew_loc:3,correct:1,prev_tp:0.1\n",
      "[6, 5, 0, 1, 2, 3, 2, 3, 4, 5] 551 558\n",
      "[False, True, False, False, False, False, False, False, False, True]\n",
      "\n",
      "\n",
      "!!!!!!!!!!!!!!!!!!!!!!!!!!!!!!!!!!!!!!!!!!!!!!!!!!!!!!!!!!!!!!!!!!!!!!!!!!!!!!!!\n",
      "!!!!!!!!!!!!!!!!!!!!!!!!!!!!!!!!!!!!!!!!!!!!!!!!!!!!!!!!!!!!!!!!!!!!!!!!!!!!!!!!\n",
      "!!!!!!!!!!!!!!!!!!!!!!!!!!!!!!!!!!!!!!!!!!!!!!!!!!!!!!!!!!!!!!!!!!!!!!!!!!!!!!!!\n",
      "\n",
      "direction:True,exp_dirs:[False]\n",
      "sapp:False\n",
      "prev_rew_loc_in_seq:False\n",
      "state:2,nextstate:3,rew_loc:5,prev_rew_loc:1,correct:1,prev_tp:0.04\n",
      "[6, 5, 0, 1, 2, 3, 2, 1, 2, 3, 2, 3, 4, 5] 1297 1300\n",
      "[False, True, False, False, False, False, False, False, False, False, False, False, False, True]\n",
      "\n",
      "\n",
      "!!!!!!!!!!!!!!!!!!!!!!!!!!!!!!!!!!!!!!!!!!!!!!!!!!!!!!!!!!!!!!!!!!!!!!!!!!!!!!!!\n",
      "!!!!!!!!!!!!!!!!!!!!!!!!!!!!!!!!!!!!!!!!!!!!!!!!!!!!!!!!!!!!!!!!!!!!!!!!!!!!!!!!\n",
      "!!!!!!!!!!!!!!!!!!!!!!!!!!!!!!!!!!!!!!!!!!!!!!!!!!!!!!!!!!!!!!!!!!!!!!!!!!!!!!!!\n",
      "\n",
      "direction:True,exp_dirs:[False]\n",
      "sapp:False\n",
      "prev_rew_loc_in_seq:False\n",
      "state:3,nextstate:2,rew_loc:5,prev_rew_loc:1,correct:0,prev_tp:0.07\n",
      "[6, 5, 0, 1, 2, 3, 2, 1, 2, 3, 2, 3, 4, 5] 1297 1301\n",
      "[False, True, False, False, False, False, False, False, False, False, False, False, False, True]\n",
      "\n",
      "\n",
      "!!!!!!!!!!!!!!!!!!!!!!!!!!!!!!!!!!!!!!!!!!!!!!!!!!!!!!!!!!!!!!!!!!!!!!!!!!!!!!!!\n",
      "!!!!!!!!!!!!!!!!!!!!!!!!!!!!!!!!!!!!!!!!!!!!!!!!!!!!!!!!!!!!!!!!!!!!!!!!!!!!!!!!\n",
      "!!!!!!!!!!!!!!!!!!!!!!!!!!!!!!!!!!!!!!!!!!!!!!!!!!!!!!!!!!!!!!!!!!!!!!!!!!!!!!!!\n",
      "\n",
      "direction:True,exp_dirs:[False]\n",
      "sapp:False\n",
      "prev_rew_loc_in_seq:False\n",
      "state:4,nextstate:5,rew_loc:5,prev_rew_loc:1,correct:1,prev_tp:0.16\n",
      "[6, 5, 0, 1, 2, 3, 2, 1, 2, 3, 2, 3, 4, 5] 1297 1308\n",
      "[False, True, False, False, False, False, False, False, False, False, False, False, False, True]\n",
      "\n",
      "\n",
      "!!!!!!!!!!!!!!!!!!!!!!!!!!!!!!!!!!!!!!!!!!!!!!!!!!!!!!!!!!!!!!!!!!!!!!!!!!!!!!!!\n",
      "!!!!!!!!!!!!!!!!!!!!!!!!!!!!!!!!!!!!!!!!!!!!!!!!!!!!!!!!!!!!!!!!!!!!!!!!!!!!!!!!\n",
      "!!!!!!!!!!!!!!!!!!!!!!!!!!!!!!!!!!!!!!!!!!!!!!!!!!!!!!!!!!!!!!!!!!!!!!!!!!!!!!!!\n",
      "\n",
      "direction:False,exp_dirs:[True]\n",
      "sapp:False\n",
      "prev_rew_loc_in_seq:False\n",
      "state:4,nextstate:5,rew_loc:3,prev_rew_loc:5,correct:0,prev_tp:0.0\n",
      "[2, 3, 6, 5, 4, 5, 4, 5, 6, 7, 6, 5, 4, 3] 1446 1449\n",
      "[False, True, False, False, False, False, False, False, False, False, False, False, False, True]\n",
      "\n",
      "\n",
      "/Users/yves/Documents/beh_dat_new_room/line_loop_batch_4_RUNNAVI/'456675_3'-2021-02-15-113953.txt\n",
      "/Users/yves/Documents/beh_dat_new_room/line_loop_batch_4_RUNNAVI/'456675_3'-2021-02-23-102808.txt\n",
      "!!!!!!!!!!!!!!!!!!!!!!!!!!!!!!!!!!!!!!!!!!!!!!!!!!!!!!!!!!!!!!!!!!!!!!!!!!!!!!!!\n",
      "!!!!!!!!!!!!!!!!!!!!!!!!!!!!!!!!!!!!!!!!!!!!!!!!!!!!!!!!!!!!!!!!!!!!!!!!!!!!!!!!\n",
      "!!!!!!!!!!!!!!!!!!!!!!!!!!!!!!!!!!!!!!!!!!!!!!!!!!!!!!!!!!!!!!!!!!!!!!!!!!!!!!!!\n",
      "\n",
      "direction:False,exp_dirs:[True]\n",
      "sapp:False\n",
      "prev_rew_loc_in_seq:False\n",
      "state:4,nextstate:3,rew_loc:3,prev_rew_loc:5,correct:1,prev_tp:0.0\n",
      "[2, 3, 5, 6, 5, 4, 3] 657 661\n",
      "[False, True, False, False, False, False, True]\n",
      "\n",
      "\n",
      "/Users/yves/Documents/beh_dat_new_room/line_loop_batch_4_RUNNAVI/'456675_3'-2021-02-25-110427.txt\n",
      "/Users/yves/Documents/beh_dat_new_room/line_loop_batch_4_RUNNAVI/'456675_3'-2021-03-05-120244.txt\n",
      "/Users/yves/Documents/beh_dat_new_room/line_loop_batch_4_RUNNAVI/'456675_3'-2021-03-01-110336.txt\n",
      "!!!!!!!!!!!!!!!!!!!!!!!!!!!!!!!!!!!!!!!!!!!!!!!!!!!!!!!!!!!!!!!!!!!!!!!!!!!!!!!!\n",
      "!!!!!!!!!!!!!!!!!!!!!!!!!!!!!!!!!!!!!!!!!!!!!!!!!!!!!!!!!!!!!!!!!!!!!!!!!!!!!!!!\n",
      "!!!!!!!!!!!!!!!!!!!!!!!!!!!!!!!!!!!!!!!!!!!!!!!!!!!!!!!!!!!!!!!!!!!!!!!!!!!!!!!!\n",
      "\n",
      "direction:True,exp_dirs:[False]\n",
      "sapp:False\n",
      "prev_rew_loc_in_seq:False\n",
      "state:2,nextstate:3,rew_loc:3,prev_rew_loc:1,correct:1,prev_tp:0.17\n",
      "[4, 3, 1, 2, 3] 232 234\n",
      "[False, True, False, False, True]\n",
      "\n",
      "\n",
      "/Users/yves/Documents/beh_dat_new_room/line_loop_batch_4_RUNNAVI/'456675_3'-2021-03-04-105909.txt\n",
      "!!!!!!!!!!!!!!!!!!!!!!!!!!!!!!!!!!!!!!!!!!!!!!!!!!!!!!!!!!!!!!!!!!!!!!!!!!!!!!!!\n",
      "!!!!!!!!!!!!!!!!!!!!!!!!!!!!!!!!!!!!!!!!!!!!!!!!!!!!!!!!!!!!!!!!!!!!!!!!!!!!!!!!\n",
      "!!!!!!!!!!!!!!!!!!!!!!!!!!!!!!!!!!!!!!!!!!!!!!!!!!!!!!!!!!!!!!!!!!!!!!!!!!!!!!!!\n",
      "\n",
      "direction:True,exp_dirs:[False]\n",
      "sapp:False\n",
      "prev_rew_loc_in_seq:False\n",
      "state:4,nextstate:5,rew_loc:5,prev_rew_loc:3,correct:1,prev_tp:0.03\n",
      "[6, 5, 1, 2, 3, 2, 3, 4, 5] 195 201\n",
      "[False, True, False, False, False, False, False, False, True]\n",
      "\n",
      "\n",
      "!!!!!!!!!!!!!!!!!!!!!!!!!!!!!!!!!!!!!!!!!!!!!!!!!!!!!!!!!!!!!!!!!!!!!!!!!!!!!!!!\n",
      "!!!!!!!!!!!!!!!!!!!!!!!!!!!!!!!!!!!!!!!!!!!!!!!!!!!!!!!!!!!!!!!!!!!!!!!!!!!!!!!!\n",
      "!!!!!!!!!!!!!!!!!!!!!!!!!!!!!!!!!!!!!!!!!!!!!!!!!!!!!!!!!!!!!!!!!!!!!!!!!!!!!!!!\n",
      "\n",
      "direction:True,exp_dirs:[False]\n",
      "sapp:False\n",
      "prev_rew_loc_in_seq:False\n",
      "state:2,nextstate:3,rew_loc:3,prev_rew_loc:1,correct:1,prev_tp:0.0\n",
      "[4, 3, 1, 2, 3] 1018 1020\n",
      "[False, True, False, False, True]\n",
      "\n",
      "\n",
      "!!!!!!!!!!!!!!!!!!!!!!!!!!!!!!!!!!!!!!!!!!!!!!!!!!!!!!!!!!!!!!!!!!!!!!!!!!!!!!!!\n",
      "!!!!!!!!!!!!!!!!!!!!!!!!!!!!!!!!!!!!!!!!!!!!!!!!!!!!!!!!!!!!!!!!!!!!!!!!!!!!!!!!\n",
      "!!!!!!!!!!!!!!!!!!!!!!!!!!!!!!!!!!!!!!!!!!!!!!!!!!!!!!!!!!!!!!!!!!!!!!!!!!!!!!!!\n",
      "\n",
      "direction:False,exp_dirs:[True]\n",
      "sapp:False\n",
      "prev_rew_loc_in_seq:False\n",
      "state:4,nextstate:5,rew_loc:3,prev_rew_loc:5,correct:0,prev_tp:0.12\n",
      "[2, 3, 7, 6, 5, 4, 5, 4, 5, 4, 5, 6, 5, 4, 3] 1233 1237\n",
      "[False, True, False, False, False, False, False, False, False, False, False, False, False, False, True]\n",
      "\n",
      "\n",
      "/Users/yves/Documents/beh_dat_new_room/line_loop_batch_4_RUNNAVI/'456675_3'-2021-02-12-121633.txt\n",
      "!!!!!!!!!!!!!!!!!!!!!!!!!!!!!!!!!!!!!!!!!!!!!!!!!!!!!!!!!!!!!!!!!!!!!!!!!!!!!!!!\n",
      "!!!!!!!!!!!!!!!!!!!!!!!!!!!!!!!!!!!!!!!!!!!!!!!!!!!!!!!!!!!!!!!!!!!!!!!!!!!!!!!!\n",
      "!!!!!!!!!!!!!!!!!!!!!!!!!!!!!!!!!!!!!!!!!!!!!!!!!!!!!!!!!!!!!!!!!!!!!!!!!!!!!!!!\n",
      "\n",
      "direction:False,exp_dirs:[True]\n",
      "sapp:False\n",
      "prev_rew_loc_in_seq:False\n",
      "state:5,nextstate:6,rew_loc:3,prev_rew_loc:7,correct:0,prev_tp:0.32\n",
      "[2, 3, 5, 6, 7, 8, 7, 6, 7, 6, 7, 8, 7, 6, 7, 6, 7, 6, 7, 6, 5, 6, 7, 6, 5, 4, 3] 708 709\n",
      "[False, True, False, False, False, False, False, False, False, False, False, False, False, False, False, False, False, False, False, False, False, False, False, False, False, False, True]\n",
      "\n",
      "\n",
      "!!!!!!!!!!!!!!!!!!!!!!!!!!!!!!!!!!!!!!!!!!!!!!!!!!!!!!!!!!!!!!!!!!!!!!!!!!!!!!!!\n",
      "!!!!!!!!!!!!!!!!!!!!!!!!!!!!!!!!!!!!!!!!!!!!!!!!!!!!!!!!!!!!!!!!!!!!!!!!!!!!!!!!\n",
      "!!!!!!!!!!!!!!!!!!!!!!!!!!!!!!!!!!!!!!!!!!!!!!!!!!!!!!!!!!!!!!!!!!!!!!!!!!!!!!!!\n",
      "\n",
      "direction:False,exp_dirs:[True]\n",
      "sapp:False\n",
      "prev_rew_loc_in_seq:False\n",
      "state:6,nextstate:7,rew_loc:3,prev_rew_loc:7,correct:0,prev_tp:0.17\n",
      "[2, 3, 5, 6, 7, 8, 7, 6, 7, 6, 7, 8, 7, 6, 7, 6, 7, 6, 7, 6, 5, 6, 7, 6, 5, 4, 3] 708 710\n",
      "[False, True, False, False, False, False, False, False, False, False, False, False, False, False, False, False, False, False, False, False, False, False, False, False, False, False, True]\n",
      "\n",
      "\n",
      "!!!!!!!!!!!!!!!!!!!!!!!!!!!!!!!!!!!!!!!!!!!!!!!!!!!!!!!!!!!!!!!!!!!!!!!!!!!!!!!!\n",
      "!!!!!!!!!!!!!!!!!!!!!!!!!!!!!!!!!!!!!!!!!!!!!!!!!!!!!!!!!!!!!!!!!!!!!!!!!!!!!!!!\n",
      "!!!!!!!!!!!!!!!!!!!!!!!!!!!!!!!!!!!!!!!!!!!!!!!!!!!!!!!!!!!!!!!!!!!!!!!!!!!!!!!!\n",
      "\n",
      "direction:False,exp_dirs:[True]\n",
      "sapp:False\n",
      "prev_rew_loc_in_seq:False\n",
      "state:4,nextstate:3,rew_loc:3,prev_rew_loc:7,correct:1,prev_tp:0.43\n",
      "[2, 3, 5, 6, 7, 8, 7, 6, 7, 6, 7, 8, 7, 6, 7, 6, 7, 6, 7, 6, 5, 6, 7, 6, 5, 4, 3] 708 732\n",
      "[False, True, False, False, False, False, False, False, False, False, False, False, False, False, False, False, False, False, False, False, False, False, False, False, False, False, True]\n",
      "\n",
      "\n",
      "!!!!!!!!!!!!!!!!!!!!!!!!!!!!!!!!!!!!!!!!!!!!!!!!!!!!!!!!!!!!!!!!!!!!!!!!!!!!!!!!\n",
      "!!!!!!!!!!!!!!!!!!!!!!!!!!!!!!!!!!!!!!!!!!!!!!!!!!!!!!!!!!!!!!!!!!!!!!!!!!!!!!!!\n",
      "!!!!!!!!!!!!!!!!!!!!!!!!!!!!!!!!!!!!!!!!!!!!!!!!!!!!!!!!!!!!!!!!!!!!!!!!!!!!!!!!\n",
      "\n",
      "direction:False,exp_dirs:[True]\n",
      "sapp:False\n",
      "prev_rew_loc_in_seq:False\n",
      "state:6,nextstate:5,rew_loc:5,prev_rew_loc:7,correct:1,prev_tp:0.17\n",
      "[4, 5, 8, 7, 6, 5] 1249 1252\n",
      "[False, True, False, False, False, True]\n",
      "\n",
      "\n"
     ]
    },
    {
     "name": "stdout",
     "output_type": "stream",
     "text": [
      "/Users/yves/Documents/beh_dat_new_room/line_loop_batch_4_RUNNAVI/'456675_3'-2021-03-03-105842.txt\n",
      "!!!!!!!!!!!!!!!!!!!!!!!!!!!!!!!!!!!!!!!!!!!!!!!!!!!!!!!!!!!!!!!!!!!!!!!!!!!!!!!!\n",
      "!!!!!!!!!!!!!!!!!!!!!!!!!!!!!!!!!!!!!!!!!!!!!!!!!!!!!!!!!!!!!!!!!!!!!!!!!!!!!!!!\n",
      "!!!!!!!!!!!!!!!!!!!!!!!!!!!!!!!!!!!!!!!!!!!!!!!!!!!!!!!!!!!!!!!!!!!!!!!!!!!!!!!!\n",
      "\n",
      "direction:True,exp_dirs:[False]\n",
      "sapp:False\n",
      "prev_rew_loc_in_seq:False\n",
      "state:2,nextstate:3,rew_loc:3,prev_rew_loc:1,correct:1,prev_tp:0.1\n",
      "[4, 3, 0, 1, 2, 3] 173 176\n",
      "[False, True, False, False, False, True]\n",
      "\n",
      "\n",
      "!!!!!!!!!!!!!!!!!!!!!!!!!!!!!!!!!!!!!!!!!!!!!!!!!!!!!!!!!!!!!!!!!!!!!!!!!!!!!!!!\n",
      "!!!!!!!!!!!!!!!!!!!!!!!!!!!!!!!!!!!!!!!!!!!!!!!!!!!!!!!!!!!!!!!!!!!!!!!!!!!!!!!!\n",
      "!!!!!!!!!!!!!!!!!!!!!!!!!!!!!!!!!!!!!!!!!!!!!!!!!!!!!!!!!!!!!!!!!!!!!!!!!!!!!!!!\n",
      "\n",
      "direction:True,exp_dirs:[False]\n",
      "sapp:False\n",
      "prev_rew_loc_in_seq:False\n",
      "state:2,nextstate:3,rew_loc:3,prev_rew_loc:1,correct:1,prev_tp:0.1\n",
      "[4, 3, 1, 2, 3] 851 853\n",
      "[False, True, False, False, True]\n",
      "\n",
      "\n",
      "/Users/yves/Documents/beh_dat_new_room/line_loop_batch_4_RUNNAVI/'456675_3'-2021-02-22-112819.txt\n",
      "/Users/yves/Documents/beh_dat_new_room/line_loop_batch_4_RUNNAVI/'456675_3'-2021-02-11-122740.txt\n",
      "!!!!!!!!!!!!!!!!!!!!!!!!!!!!!!!!!!!!!!!!!!!!!!!!!!!!!!!!!!!!!!!!!!!!!!!!!!!!!!!!\n",
      "!!!!!!!!!!!!!!!!!!!!!!!!!!!!!!!!!!!!!!!!!!!!!!!!!!!!!!!!!!!!!!!!!!!!!!!!!!!!!!!!\n",
      "!!!!!!!!!!!!!!!!!!!!!!!!!!!!!!!!!!!!!!!!!!!!!!!!!!!!!!!!!!!!!!!!!!!!!!!!!!!!!!!!\n",
      "\n",
      "direction:True,exp_dirs:[False]\n",
      "sapp:False\n",
      "prev_rew_loc_in_seq:False\n",
      "state:2,nextstate:1,rew_loc:5,prev_rew_loc:1,correct:0,prev_tp:0.05\n",
      "[6, 5, 1, 2, 1, 2, 1, 2, 1, 2, 1, 2, 1, 2, 3, 2, 1, 2, 3, 4, 5] 527 529\n",
      "[False, True, False, False, False, False, False, False, False, False, False, False, False, False, False, False, False, False, False, False, True]\n",
      "\n",
      "\n",
      "!!!!!!!!!!!!!!!!!!!!!!!!!!!!!!!!!!!!!!!!!!!!!!!!!!!!!!!!!!!!!!!!!!!!!!!!!!!!!!!!\n",
      "!!!!!!!!!!!!!!!!!!!!!!!!!!!!!!!!!!!!!!!!!!!!!!!!!!!!!!!!!!!!!!!!!!!!!!!!!!!!!!!!\n",
      "!!!!!!!!!!!!!!!!!!!!!!!!!!!!!!!!!!!!!!!!!!!!!!!!!!!!!!!!!!!!!!!!!!!!!!!!!!!!!!!!\n",
      "\n",
      "direction:True,exp_dirs:[False]\n",
      "sapp:False\n",
      "prev_rew_loc_in_seq:False\n",
      "state:3,nextstate:2,rew_loc:5,prev_rew_loc:1,correct:0,prev_tp:0.47\n",
      "[6, 5, 1, 2, 1, 2, 1, 2, 1, 2, 1, 2, 1, 2, 3, 2, 1, 2, 3, 4, 5] 527 540\n",
      "[False, True, False, False, False, False, False, False, False, False, False, False, False, False, False, False, False, False, False, False, True]\n",
      "\n",
      "\n",
      "/Users/yves/Documents/beh_dat_new_room/line_loop_batch_4_RUNNAVI/'456675_3'-2021-02-26-104433.txt\n",
      "!!!!!!!!!!!!!!!!!!!!!!!!!!!!!!!!!!!!!!!!!!!!!!!!!!!!!!!!!!!!!!!!!!!!!!!!!!!!!!!!\n",
      "!!!!!!!!!!!!!!!!!!!!!!!!!!!!!!!!!!!!!!!!!!!!!!!!!!!!!!!!!!!!!!!!!!!!!!!!!!!!!!!!\n",
      "!!!!!!!!!!!!!!!!!!!!!!!!!!!!!!!!!!!!!!!!!!!!!!!!!!!!!!!!!!!!!!!!!!!!!!!!!!!!!!!!\n",
      "\n",
      "direction:False,exp_dirs:[True]\n",
      "sapp:False\n",
      "prev_rew_loc_in_seq:False\n",
      "state:5,nextstate:4,rew_loc:3,prev_rew_loc:7,correct:1,prev_tp:0.44\n",
      "[2, 3, 5, 4, 3] 766 767\n",
      "[False, True, False, False, True]\n",
      "\n",
      "\n",
      "!!!!!!!!!!!!!!!!!!!!!!!!!!!!!!!!!!!!!!!!!!!!!!!!!!!!!!!!!!!!!!!!!!!!!!!!!!!!!!!!\n",
      "!!!!!!!!!!!!!!!!!!!!!!!!!!!!!!!!!!!!!!!!!!!!!!!!!!!!!!!!!!!!!!!!!!!!!!!!!!!!!!!!\n",
      "!!!!!!!!!!!!!!!!!!!!!!!!!!!!!!!!!!!!!!!!!!!!!!!!!!!!!!!!!!!!!!!!!!!!!!!!!!!!!!!!\n",
      "\n",
      "direction:False,exp_dirs:[True]\n",
      "sapp:False\n",
      "prev_rew_loc_in_seq:False\n",
      "state:4,nextstate:3,rew_loc:3,prev_rew_loc:7,correct:1,prev_tp:0.26\n",
      "[2, 3, 5, 4, 3] 766 768\n",
      "[False, True, False, False, True]\n",
      "\n",
      "\n",
      "!!!!!!!!!!!!!!!!!!!!!!!!!!!!!!!!!!!!!!!!!!!!!!!!!!!!!!!!!!!!!!!!!!!!!!!!!!!!!!!!\n",
      "!!!!!!!!!!!!!!!!!!!!!!!!!!!!!!!!!!!!!!!!!!!!!!!!!!!!!!!!!!!!!!!!!!!!!!!!!!!!!!!!\n",
      "!!!!!!!!!!!!!!!!!!!!!!!!!!!!!!!!!!!!!!!!!!!!!!!!!!!!!!!!!!!!!!!!!!!!!!!!!!!!!!!!\n",
      "\n",
      "direction:True,exp_dirs:[False]\n",
      "sapp:False\n",
      "prev_rew_loc_in_seq:False\n",
      "state:2,nextstate:3,rew_loc:3,prev_rew_loc:1,correct:1,prev_tp:0.1\n",
      "[4, 3, 1, 2, 3] 1411 1413\n",
      "[False, True, False, False, True]\n",
      "\n",
      "\n",
      "/Users/yves/Documents/beh_dat_new_room/line_loop_batch_4_RUNNAVI/'456675_3'-2021-02-24-105205.txt\n",
      "!!!!!!!!!!!!!!!!!!!!!!!!!!!!!!!!!!!!!!!!!!!!!!!!!!!!!!!!!!!!!!!!!!!!!!!!!!!!!!!!\n",
      "!!!!!!!!!!!!!!!!!!!!!!!!!!!!!!!!!!!!!!!!!!!!!!!!!!!!!!!!!!!!!!!!!!!!!!!!!!!!!!!!\n",
      "!!!!!!!!!!!!!!!!!!!!!!!!!!!!!!!!!!!!!!!!!!!!!!!!!!!!!!!!!!!!!!!!!!!!!!!!!!!!!!!!\n",
      "\n",
      "direction:False,exp_dirs:[True]\n",
      "sapp:False\n",
      "prev_rew_loc_in_seq:False\n",
      "state:6,nextstate:5,rew_loc:5,prev_rew_loc:7,correct:1,prev_tp:0.0\n",
      "[4, 5, 7, 8, 7, 8, 7, 6, 5] 345 351\n",
      "[False, True, False, False, False, False, False, False, True]\n",
      "\n",
      "\n"
     ]
    }
   ],
   "source": [
    "ROOT = '/Users/yves/Documents/beh_dat_new_room/line_loop_batch_4_RUNNAVI/'\n",
    "allFs = [os.path.join(ROOT,i) for i in os.listdir(ROOT)]\n",
    "allFs = [i for i in allFs if not os.path.isdir(i)]\n",
    "\n",
    "\n",
    "\n",
    "res_= model_based_batch(allFs,\n",
    "                        ignore_distance=True,\n",
    "                        ignore_first_visit=False,\n",
    "                        ignore_prev_rew_loc_in_seq=False,\n",
    "                        ignore_has_updated=True,\n",
    "                        if_is_rew_loc=True,\n",
    "                        verbose=True)\n",
    "perf, trial_ctr, prob_array_for_pois_binom, choices  = res_"
   ]
  },
  {
   "cell_type": "code",
   "execution_count": 9,
   "metadata": {},
   "outputs": [
    {
     "data": {
      "text/plain": [
       "15"
      ]
     },
     "execution_count": 9,
     "metadata": {},
     "output_type": "execute_result"
    }
   ],
   "source": [
    "perf"
   ]
  },
  {
   "cell_type": "code",
   "execution_count": 10,
   "metadata": {},
   "outputs": [
    {
     "data": {
      "text/plain": [
       "22"
      ]
     },
     "execution_count": 10,
     "metadata": {},
     "output_type": "execute_result"
    }
   ],
   "source": [
    "trial_ctr"
   ]
  },
  {
   "cell_type": "code",
   "execution_count": null,
   "metadata": {},
   "outputs": [],
   "source": [
    "#181,460,976,1003,1226,540,767,149,528,1793,909,1572,"
   ]
  },
  {
   "cell_type": "code",
   "execution_count": null,
   "metadata": {},
   "outputs": [],
   "source": []
  },
  {
   "cell_type": "code",
   "execution_count": null,
   "metadata": {},
   "outputs": [],
   "source": [
    "perf"
   ]
  },
  {
   "cell_type": "code",
   "execution_count": null,
   "metadata": {},
   "outputs": [],
   "source": [
    "trial_ctr"
   ]
  },
  {
   "cell_type": "code",
   "execution_count": null,
   "metadata": {},
   "outputs": [],
   "source": [
    "np.sum(choices)"
   ]
  },
  {
   "cell_type": "code",
   "execution_count": null,
   "metadata": {},
   "outputs": [],
   "source": [
    "trial_ctr"
   ]
  },
  {
   "cell_type": "code",
   "execution_count": null,
   "metadata": {},
   "outputs": [],
   "source": [
    "pbd.x_or_more(np.sum(choices))"
   ]
  },
  {
   "cell_type": "markdown",
   "metadata": {},
   "source": [
    "# Batch Version "
   ]
  },
  {
   "cell_type": "markdown",
   "metadata": {},
   "source": [
    "Checks that I have run on this code:\n",
    "\n",
    "- Ensure that distances between states within a trial is always equal to 1"
   ]
  },
  {
   "cell_type": "markdown",
   "metadata": {},
   "source": [
    "# Run on first block version "
   ]
  },
  {
   "cell_type": "markdown",
   "metadata": {},
   "source": [
    "# Over parameter versions"
   ]
  },
  {
   "cell_type": "code",
   "execution_count": null,
   "metadata": {},
   "outputs": [],
   "source": [
    "all_Fs_sets = []\n",
    "\n",
    "ROOT = '/Users/yves/Documents/beh_dat_new_room/line_loop_batch_4_RUNNAVI/'\n",
    "allFs = [os.path.join(ROOT,i) for i in os.listdir(ROOT)]\n",
    "allFs = [i for i in allFs if not os.path.isdir(i)]\n",
    "all_Fs_sets.append(allFs)\n",
    "\n",
    "\n",
    "ROOT = '/Users/yves/Documents/behavior_data/line_loop_cohort_1/line_loop_batch_4_RUNNAVI/'\n",
    "allFs = [os.path.join(ROOT,i) for i in os.listdir(ROOT)]\n",
    "allFs = [i for i in allFs if not os.path.isdir(i)]\n",
    "#all_Fs_sets[0].extend(allFs)\n",
    "all_Fs_sets.append(allFs)\n",
    "\n",
    "\n",
    "ROOT = '/Users/yves/Documents/beh_dat_new_room/line_loop_batch_3NAVI/'\n",
    "allFs = [os.path.join(ROOT,i) for i in os.listdir(ROOT)]\n",
    "allFs = [i for i in allFs if not os.path.isdir(i)]\n",
    "allFs = [i for i in allFs if '456675' in i]\n",
    "\n",
    "all_Fs_sets.append(allFs)\n",
    "\n",
    "ROOT = '/Users/yves/Documents/beh_dat_new_room/line_loop_batch_3NAVI/'\n",
    "allFs = [os.path.join(ROOT,i) for i in os.listdir(ROOT)]\n",
    "allFs = [i for i in allFs if not os.path.isdir(i)]\n",
    "allFs = [i for i in allFs if '460175' in i]\n",
    "\n",
    "all_Fs_sets.append(allFs)\n",
    "\n",
    "ROOT = '/Users/yves/Documents/beh_dat_new_room/line_loop_batch_3NAVI_males/'\n",
    "allFs = [os.path.join(ROOT,i) for i in os.listdir(ROOT)]\n",
    "allFs = [i for i in allFs if not os.path.isdir(i)]\n",
    "allFs = [i for i in allFs if '456674_30' in i]\n",
    "all_Fs_sets.append(allFs)\n",
    "\n",
    "\n",
    "\n",
    "#ROOT = '/Users/yves/Documents/beh_dat_new_room/line_loop_batch_3NAVI_males/'\n",
    "#allFs = [os.path.join(ROOT,i) for i in os.listdir(ROOT)]\n",
    "#allFs = [i for i in allFs if not os.path.isdir(i)]\n",
    "#allFs = [i for i in allFs if '456674_1' in i]\n",
    "#all_Fs_sets.append(allFs)\n",
    "\n",
    "#subjects = ['456675_3\\nround1','456675_3\\nround2','456675_10','460175_10']\n",
    "subjects = ['456675_3','2','456675_10','460175_10','456674_30']\n"
   ]
  },
  {
   "cell_type": "code",
   "execution_count": null,
   "metadata": {},
   "outputs": [],
   "source": [
    "#ROOT = '/Users/yves/Documents/beh_dat_new_room/line_loop_batch_3NAVI_males/'\n",
    "#allFs = [os.path.join(ROOT,i) for i in os.listdir(ROOT)]\n",
    "#allFs = [i for i in allFs if not os.path.isdir(i)]\n",
    "#allFs"
   ]
  },
  {
   "cell_type": "code",
   "execution_count": null,
   "metadata": {},
   "outputs": [],
   "source": [
    "#ROOT = '/Users/yves/Documents/beh_dat_new_room/line_loop_batch_4_RUNNAVI/'\n",
    "#allFs = [os.path.join(ROOT,i) for i in os.listdir(ROOT)]\n",
    "#allFs = [i for i in allFs if not os.path.isdir(i)]\n"
   ]
  },
  {
   "cell_type": "code",
   "execution_count": null,
   "metadata": {},
   "outputs": [],
   "source": [
    "#This should produce 1 correct choice\n",
    "state_seq =  np.array([0,1,2,8,7,6,5,3,4,5])\n",
    "rew_list =   np.array([0,0,1,0,0,0,1,0,0,1])\n",
    "forced_seq = np.array([1,0,0,1,0,0,0,0,0,0])==1"
   ]
  },
  {
   "cell_type": "code",
   "execution_count": null,
   "metadata": {},
   "outputs": [],
   "source": [
    "#This should produce 1 incorrect choice\n",
    "state_seq =  np.array([0,1,2,8,7,6,5,3,2,1,2,3,4,5])\n",
    "rew_list =   np.array([0,0,1,0,0,0,1,0,0,0,0,0,0,1])\n",
    "forced_seq = np.array([1,0,0,1,0,0,0,0,0,0,0,0,0,1])==1"
   ]
  },
  {
   "cell_type": "code",
   "execution_count": null,
   "metadata": {},
   "outputs": [],
   "source": [
    "#This should produce 1 incorrect and one correct choice\n",
    "state_seq =  np.array([0,1,2,8,7,6,5,3,2,1,2,3,4,5,8,7,6,7])\n",
    "rew_list =   np.array([0,0,1,0,0,0,1,0,0,0,0,0,0,1,0,1,0,1])\n",
    "forced_seq = np.array([1,0,0,1,0,0,0,0,0,0,0,0,0,1,1,0,0,0])==1"
   ]
  },
  {
   "cell_type": "code",
   "execution_count": null,
   "metadata": {},
   "outputs": [],
   "source": [
    "from mouse_poker.navi.navi_utils import *"
   ]
  },
  {
   "cell_type": "code",
   "execution_count": null,
   "metadata": {},
   "outputs": [],
   "source": [
    "out = model_based_analysis_single_session(state_seq,rew_list,forced_seq,verbose=True,minNrew=0,\n",
    "                                          ignore_distance=True,ignore_first_visit=True,ignore_has_updated=False)\n",
    "perf, trial_ctr, prob_array_for_pois_binom, choices = out"
   ]
  },
  {
   "cell_type": "code",
   "execution_count": null,
   "metadata": {},
   "outputs": [],
   "source": [
    "perf"
   ]
  },
  {
   "cell_type": "code",
   "execution_count": null,
   "metadata": {},
   "outputs": [],
   "source": [
    "trial_ctr"
   ]
  },
  {
   "cell_type": "code",
   "execution_count": null,
   "metadata": {},
   "outputs": [],
   "source": [
    "def model_based_analysis_single_session(state_seq,rew_list,forced_seq,\n",
    "                                        ignore_distance=False,ignore_first_visit=False,\n",
    "                                        ignore_has_updated=True,\n",
    "                                        minNrew=15,use_block_transitions=False,verbose=False,):\n",
    "    \"\"\" Check for model based behaviour on trials\"\"\"\n",
    "\n",
    "\n",
    "    #define variables that will be output\n",
    "    prob_array_for_pois_binom = []\n",
    "    choices = []\n",
    "    perf = 0\n",
    "    trial_ctr = 0\n",
    "\n",
    "    transition_mtx,_,_,_= get_transition_matrix(state_seq,\n",
    "                                                rew_list,\n",
    "                                                forced_seq,\n",
    "                                                minNrew=minNrew)\n",
    "\n",
    "\n",
    "\n",
    "    #organise data into trials\n",
    "    rewarded_pokes = np.where(rew_list)[0]\n",
    "    trial_starts = np.concatenate([[0],rewarded_pokes[:-1]])\n",
    "    trial_ends = rewarded_pokes\n",
    "\n",
    "\n",
    "    #initialise variables\n",
    "    prev_rew_loc = None  #this is the reward location that was last updated\n",
    "    direction = None\n",
    "    has_updated = False\n",
    "    same_as_prev_pol = True\n",
    "    exp_dirs = []\n",
    "    prev_block_start = 0\n",
    "    block_start = 0\n",
    "    check1 = []\n",
    "    for st,nd in zip(trial_starts,trial_ends):\n",
    "\n",
    "        rew_loc = state_seq[nd]  #this is state that is rewarded\n",
    "\n",
    "        prev_direction = direction\n",
    "\n",
    "        if rew_loc!=prev_rew_loc:\n",
    "            #print(\"HERE\")\n",
    "            direction = None\n",
    "            has_updated = False\n",
    "            prev_direction = None\n",
    "            exp_dirs = [] #experienced directions\n",
    "            prev_diff_rew_loc = prev_rew_loc\n",
    "            visited_states = []\n",
    "            prev_block_start = block_start\n",
    "            block_start = st\n",
    "\n",
    "\n",
    "        direction = (rew_loc - state_seq[st+1])>0 #which side are you approaching the reward from\n",
    "        visited_states = []\n",
    "\n",
    "\n",
    "        for pk_ctr in range(st+1,nd):  #for each poke between two rewards  \n",
    "\n",
    "            d0,d1,_ = get_st_dist(state_seq,pk_ctr,rew_loc)\n",
    "            free_choice_trial = forced_seq[pk_ctr]==False\n",
    "            state = state_seq[pk_ctr]\n",
    "            next_state = state_seq[pk_ctr+1]\n",
    "            same_as_prev_pol = policy_changed_with_rew_loc(pk_ctr,state_seq,rew_loc,prev_diff_rew_loc)\n",
    "            check1.append(np.abs(state-next_state))\n",
    "            inclusion_condition_list = [free_choice_trial,              #NOT a forced trial\n",
    "                                     prev_diff_rew_loc is not None,  #ignore first block in session\n",
    "                                     not same_as_prev_pol,           #ensure that this a policy change is required to make correct decision\n",
    "                                     prev_direction is not None,     #make sure NOT looking at first run-to-rew after a block transition (when rew_loc is unknown)\n",
    "                                     direction not in exp_dirs,      #hasn't experienced this direction in this block yet\n",
    "                                     (ignore_has_updated or (not has_updated)),               #toggle if only look at first relevant POKE in block\n",
    "                                     (ignore_first_visit or (state not in visited_states)),    #look only at first visits to each state\n",
    "                                     (ignore_distance or (d0>1)),\n",
    "                                     state!=rew_loc,  #this is necessary due to a bug in the code\n",
    "                                     ]\n",
    "            print([state]+inclusion_condition_list)\n",
    "            \n",
    "            if all(inclusion_condition_list):\n",
    "                \n",
    "                if use_block_transitions:\n",
    "                    \n",
    "                    transition_mtx,_,_,_= get_transition_matrix(state_seq[prev_block_start:block_start],\n",
    "                                                                rew_list[prev_block_start:block_start],\n",
    "                                                                forced_seq[prev_block_start:block_start],\n",
    "                                                                minNrew=minNrew)\n",
    "\n",
    "                    \n",
    "                choice_correct = int(d1<d0)\n",
    "                perf += choice_correct\n",
    "                trial_ctr += 1\n",
    "                t_p = transition_mtx[prev_diff_rew_loc,state,next_state]\n",
    "                \n",
    "                #because we are counting the sum of correct choices, need to look at probability of correct choice\n",
    "                #under previous model, not of empirical transition\n",
    "                if not choice_correct:\n",
    "                    t_p = 1-t_p\n",
    "                \n",
    "                #only include\n",
    "                if not np.isnan(t_p):\n",
    "                    prob_array_for_pois_binom.append(t_p)\n",
    "                    choices.append(int(d1<d0))\n",
    "\n",
    "                #this is print command to make sure everything is working correctyl.\n",
    "                if verbose:\n",
    "                    print((\"!\"*80 + \"\\n\")*3)\n",
    "                    print_list = (state,state_seq[pk_ctr+1],rew_loc,prev_diff_rew_loc,choice_correct,np.round(t_p,decimals=2))\n",
    "                    print('state:{},nextstate:{},rew_loc:{},prev_rew_loc:{},correct:{},prev_tp:{}'.format(*print_list))\n",
    "                    #print(pk_ctr,os.path.split(fpath)[-1])\n",
    "                    print(state_seq[st+1:nd+1])\n",
    "                    print('\\n')\n",
    "\n",
    "                has_updated = True  #if decisions from this block have led to updated\n",
    "\n",
    "            visited_states.append(state)\n",
    "\n",
    "        if direction not in exp_dirs:\n",
    "            exp_dirs.append(direction)\n",
    "        prev_rew_loc = rew_loc\n",
    "        assert all(np.asarray(check1)==1)\n",
    "    return perf, trial_ctr, prob_array_for_pois_binom, choices"
   ]
  },
  {
   "cell_type": "code",
   "execution_count": null,
   "metadata": {},
   "outputs": [],
   "source": [
    "model_based_analysis_single_session(state_seq,rew_list,forced_seq,verbose=True,minNrew=0,)"
   ]
  },
  {
   "cell_type": "code",
   "execution_count": null,
   "metadata": {},
   "outputs": [],
   "source": [
    "state_seq"
   ]
  },
  {
   "cell_type": "code",
   "execution_count": null,
   "metadata": {},
   "outputs": [],
   "source": []
  },
  {
   "cell_type": "code",
   "execution_count": null,
   "metadata": {},
   "outputs": [],
   "source": []
  },
  {
   "cell_type": "code",
   "execution_count": null,
   "metadata": {},
   "outputs": [],
   "source": []
  },
  {
   "cell_type": "code",
   "execution_count": null,
   "metadata": {},
   "outputs": [],
   "source": []
  },
  {
   "cell_type": "code",
   "execution_count": null,
   "metadata": {},
   "outputs": [],
   "source": [
    "res_= model_based_batch(allFs,ignore_distance=True,ignore_first_visit=True,use_block_transitions=True,\n",
    "                            ignore_has_updated=False,min_rew_in_session=0,verbose=1)\n"
   ]
  },
  {
   "cell_type": "code",
   "execution_count": null,
   "metadata": {},
   "outputs": [],
   "source": [
    "res_"
   ]
  },
  {
   "cell_type": "markdown",
   "metadata": {},
   "source": [
    "## Analyse after first block"
   ]
  },
  {
   "cell_type": "code",
   "execution_count": null,
   "metadata": {},
   "outputs": [],
   "source": [
    "all_param_res = []\n",
    "for ign_d,ign_f in param_combos:\n",
    "    allres = []\n",
    "\n",
    "    for allFs in all_Fs_sets:\n",
    "        res_= model_based_batch(allFs,ignore_distance=ign_d,ignore_first_visit=ign_f,use_block_transitions=True,\n",
    "                                    ignore_has_updated=False,min_rew_in_session=100)\n",
    "        perf, trial_ctr, prob_array_for_pois_binom, choices  = res_\n",
    "        pbd = PoissonBinomial(prob_array_for_pois_binom)\n",
    "        pval = np.abs(pbd.x_or_more(np.sum(choices)))\n",
    "        print(pval,perf,trial_ctr)\n",
    "\n",
    "        allres.append([perf/trial_ctr,perf,trial_ctr,pval,np.mean(prob_array_for_pois_binom),ign_d==False,ign_f==False])\n",
    "    all_param_res.append(allres)"
   ]
  },
  {
   "cell_type": "code",
   "execution_count": null,
   "metadata": {},
   "outputs": [],
   "source": [
    "[i[0][:2] for i in all_param_res]"
   ]
  },
  {
   "cell_type": "code",
   "execution_count": null,
   "metadata": {},
   "outputs": [],
   "source": [
    "plt.figure(figsize=(14,10))\n",
    "plt.suptitle(\"Model based choices after block switch\\nStars = 0.05/p-value based on Poisson-Binomial distribution\")\n",
    "for kk,allres in enumerate(all_param_res):\n",
    "    \n",
    "    plt.subplot(2,2,kk+1)\n",
    "    plt.title(\"Only Choices >1 step away:{}\\nOnly first state visit:{}\".format(allres[0][-2],allres[0][-1]))\n",
    "\n",
    "    mu = np.array([i[0]-i[4] for i in allres])\n",
    "    #ci = np.array([np.array(proportion.proportion_confint(i[1],i[2])) for i in allres])\n",
    "    print([i[3] for i in allres])\n",
    "    for subj_ix in range(len(subjects)):\n",
    "        #plt.plot([subj_ix]*2,ci[subj_ix],color='k',linewidth=3,zorder=100)\n",
    "        plt.gca().annotate(str(allres[subj_ix][2]),(subj_ix-.1,0.01),size=20)\n",
    "        pvalue_pbd = allres[subj_ix][3]\n",
    "        if pvalue_pbd<0.05:\n",
    "            print_text = '*'*int(np.clip(np.floor(0.05/pvalue_pbd),0,4))\n",
    "            plt.gca().annotate(print_text,(subj_ix,np.clip(mu[subj_ix]+.01,0,.6)),size=36, ha='center')\n",
    "        else:\n",
    "            plt.gca().annotate(':(',(subj_ix,np.clip(mu[subj_ix]+.01,.3,.6)),size=36, ha='center')\n",
    "\n",
    "\n",
    "\n",
    "    #plt.errorbar(range(4),mu,yerr=(mu[:,None]+ci).T,color='k',linewidth=0,elinewidth=3)\n",
    "    plt.bar(np.arange(len(subjects)),mu,facecolor='w',edgecolor='k',linewidth=3,width=.8,label=\"$FC - \\mathbb{E}(FC)_{prev \\ block}$\")\n",
    "    plt.bar(np.arange(len(subjects))-.4,[i[0] for i in allres],facecolor=clrs[2],\n",
    "            edgecolor='k',linewidth=0,width=.4,alpha=.2,align='edge',label='FC')\n",
    "    plt.bar(np.arange(len(subjects)),[i[4] for i in allres],facecolor=clrs[3],\n",
    "            edgecolor='k',linewidth=0,width=.4,alpha=.2,align='edge',label='$\\mathbb{E}(FC)_{prev \\ block}$')\n",
    "\n",
    "    if kk==0:\n",
    "        plt.legend()\n",
    "\n",
    "    plt.ylim(0,.9)\n",
    "    #plt.ylim()\n",
    "    #plt.axhline(y=0.5,dashes=(8,8),color='.3',linewidth=2)\n",
    "    if kk==0:\n",
    "        plt.ylabel(\"$FC - \\mathbb{E}(FC)_{prev \\ block}$\")\n",
    "        plt.xlabel(\"Subject\")\n",
    "    plt.xticks(range(4),subjects)\n",
    "    #plt.yscale('log')\n",
    "plt.tight_layout(rect=[0, 0.03, 1, 0.9])\n",
    "seaborn.despine()"
   ]
  },
  {
   "cell_type": "code",
   "execution_count": null,
   "metadata": {},
   "outputs": [],
   "source": [
    "plt.figure(figsize=(14,10))\n",
    "plt.suptitle(\"Model based choices after block switch\\n\\n\")\n",
    "for kk,allres in enumerate(all_param_res):\n",
    "    \n",
    "    plt.subplot(2,2,kk+1)\n",
    "    plt.title(\"Only Choices >1 step away:{}\\nOnly first state visit:{}\".format(allres[0][-2],allres[0][-1]))\n",
    "\n",
    "    mu = np.array([i[0]-i[4] for i in allres])\n",
    "    #ci = np.array([np.array(proportion.proportion_confint(i[1],i[2])) for i in allres])\n",
    "    print([i[3] for i in allres])\n",
    "    for subj_ix in range(len(subjects)):\n",
    "        #plt.plot([subj_ix]*2,ci[subj_ix],color='k',linewidth=3,zorder=100)\n",
    "        plt.gca().annotate(str(allres[subj_ix][2]),(subj_ix-.1,0.01))\n",
    "        pvalue_pbd = allres[subj_ix][3]\n",
    "        if pvalue_pbd<0.05:\n",
    "            print_text = '*'*int(np.clip(np.floor(0.05/pvalue_pbd),0,4))\n",
    "            plt.gca().annotate(print_text,(subj_ix,np.clip(mu[subj_ix]+.01,0,.6)),size=36, ha='center')\n",
    "        else:\n",
    "            plt.gca().annotate(':(',(subj_ix,np.clip(mu[subj_ix]+.01,0,.6)),size=36, ha='center')\n",
    "\n",
    "\n",
    "\n",
    "    #plt.errorbar(range(4),mu,yerr=(mu[:,None]+ci).T,color='k',linewidth=0,elinewidth=3)\n",
    "    plt.bar(np.arange(len(subjects)),mu,facecolor='w',edgecolor='k',linewidth=3,width=.8)\n",
    "    plt.bar(np.arange(len(subjects))-.4,[i[0] for i in allres],facecolor=clrs[2],\n",
    "            edgecolor='k',linewidth=0,width=.4,alpha=.2,align='edge',label='FC')\n",
    "    plt.bar(np.arange(len(subjects)),[i[4] for i in allres],facecolor=clrs[3],\n",
    "            edgecolor='k',linewidth=0,width=.4,alpha=.2,align='edge',label='$\\mathbb{E}(FC)_{prev \\ block}$')\n",
    "\n",
    "    if kk==0:\n",
    "        plt.legend()\n",
    "\n",
    "    plt.ylim(0,.9)\n",
    "    #plt.ylim()\n",
    "    #plt.axhline(y=0.5,dashes=(8,8),color='.3',linewidth=2)\n",
    "    if kk==0:\n",
    "        plt.ylabel(\"$FC - \\mathbb{E}(FC)_{prev \\ block}$\")\n",
    "        plt.xlabel(\"Subject\")\n",
    "    plt.xticks(range(4),subjects)\n",
    "    #plt.yscale('log')\n",
    "plt.tight_layout(rect=[0, 0.03, 1, 0.95])\n",
    "seaborn.despine()"
   ]
  },
  {
   "cell_type": "code",
   "execution_count": null,
   "metadata": {},
   "outputs": [],
   "source": [
    "5/8"
   ]
  },
  {
   "cell_type": "code",
   "execution_count": null,
   "metadata": {},
   "outputs": [],
   "source": [
    "stt.binom_test(5,8,p=.2)"
   ]
  },
  {
   "cell_type": "code",
   "execution_count": null,
   "metadata": {},
   "outputs": [],
   "source": []
  },
  {
   "cell_type": "code",
   "execution_count": null,
   "metadata": {},
   "outputs": [],
   "source": [
    "plt.figure(figsize=(18,12))\n",
    "plt.suptitle(\"First block model based choices\")\n",
    "for kk,allres in enumerate(all_param_res):\n",
    "    \n",
    "    plt.subplot(2,2,kk+1)\n",
    "    plt.title(\"Choices >1 step away:{}\\nOnly first state visit:{}\".format(allres[0][-2],allres[0][-1]))\n",
    "\n",
    "    mu = np.array([i[0] for i in allres])\n",
    "    ci = np.array([np.array(proportion.proportion_confint(i[1],i[2])) for i in allres])\n",
    "\n",
    "    for subj_ix in range(len(subjects)):\n",
    "        plt.plot([subj_ix]*2,ci[subj_ix],color='k',linewidth=3,zorder=100)\n",
    "        plt.gca().annotate(str(allres[subj_ix][2]),(subj_ix+.1,allres[subj_ix][0]+.05))\n",
    "\n",
    "    #plt.errorbar(range(4),mu,yerr=(mu[:,None]+ci).T,color='k',linewidth=0,elinewidth=3)\n",
    "    plt.bar(range(4 ),[i[0] for i in allres],facecolor='w',edgecolor='k',linewidth=3,width=.85)\n",
    "    plt.ylim(.2)\n",
    "    plt.axhline(y=0.5,dashes=(8,8),color='.3',linewidth=2)\n",
    "    if kk==0:\n",
    "        plt.ylabel(\"Proportion correct\")\n",
    "        plt.xlabel(\"Subject\")\n",
    "    plt.xticks(range(4),subjects)\n",
    "plt.tight_layout()\n",
    "seaborn.despine()"
   ]
  },
  {
   "cell_type": "code",
   "execution_count": null,
   "metadata": {},
   "outputs": [],
   "source": []
  },
  {
   "cell_type": "code",
   "execution_count": null,
   "metadata": {},
   "outputs": [],
   "source": [
    "allres[]"
   ]
  },
  {
   "cell_type": "code",
   "execution_count": null,
   "metadata": {},
   "outputs": [],
   "source": []
  }
 ],
 "metadata": {
  "kernelspec": {
   "display_name": "Python 3",
   "language": "python",
   "name": "python3"
  },
  "language_info": {
   "codemirror_mode": {
    "name": "ipython",
    "version": 3
   },
   "file_extension": ".py",
   "mimetype": "text/x-python",
   "name": "python",
   "nbconvert_exporter": "python",
   "pygments_lexer": "ipython3",
   "version": "3.7.4"
  }
 },
 "nbformat": 4,
 "nbformat_minor": 2
}
