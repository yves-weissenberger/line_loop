{
 "cells": [
  {
   "cell_type": "code",
   "execution_count": 253,
   "metadata": {},
   "outputs": [],
   "source": [
    "%matplotlib inline\n",
    "\n",
    "import numpy as np\n",
    "import matplotlib.pyplot as plt\n",
    "from sklearn.decomposition import PCA\n",
    "import itertools as it"
   ]
  },
  {
   "cell_type": "code",
   "execution_count": 254,
   "metadata": {},
   "outputs": [],
   "source": [
    "def square_maze(size):\n",
    "    return np.ones((size, size))\n",
    "\n",
    "def ring_maze(s):\n",
    "    maze = np.zeros([s,s])\n",
    "    maze[0] = 1\n",
    "    maze[:,0] = 1\n",
    "    maze[-1] = 1\n",
    "    maze[:,-1] = 1\n",
    "    return maze\n",
    "\n",
    "def path_maze(s):\n",
    "    maze = np.zeros([s,s])\n",
    "    maze[0] = 1\n",
    "    maze[:,0] = 1\n",
    "    maze[-1] = 1\n",
    "    maze[:,-1] = 1\n",
    "    maze[0,0] = 0\n",
    "\n",
    "    return maze\n",
    "\n",
    "\n",
    "def make_matrix_from(maze):\n",
    "    \n",
    "    def in_maze(s):\n",
    "        return s[0] >= 0 and s[0] < maze.shape[0] and s[1] >= 0 and s[1] < maze.shape[1]\n",
    "\n",
    "    def is_free(s):\n",
    "        return maze[s[0],s[1]] == 1\n",
    "\n",
    "    def valid_state(s):\n",
    "        return in_maze(s) and is_free(s)\n",
    "    \n",
    "    states = [np.array(s) for s in it.product(range(maze.shape[0]), range(maze.shape[1])) if maze[s[0], s[1]] == 1]\n",
    "    adja = np.eye(len(states))\n",
    "    idx = np.zeros(maze.shape, dtype=np.int)\n",
    "    c = 0\n",
    "    for i in range(maze.shape[0]):\n",
    "        for j in range(maze.shape[1]):\n",
    "            if maze[i, j] == 0:\n",
    "                continue\n",
    "            idx[i, j] = c\n",
    "            c += 1\n",
    "    \n",
    "    for i, state in enumerate(states):\n",
    "        possible_next_states = [state + d for d in np.array([[1,0],[-1,0],[0,1],[0,-1]])]\n",
    "        filtered = list(filter(valid_state, possible_next_states))\n",
    "        for f in filtered:\n",
    "            adja[i, idx[f[0], f[1]]] = 1\n",
    "            adja[idx[f[0], f[1]], i] = 1\n",
    "    return adja, idx\n"
   ]
  },
  {
   "cell_type": "code",
   "execution_count": 255,
   "metadata": {},
   "outputs": [],
   "source": [
    "maze = np.ones([8,8])\n",
    "adj,idx_mtx = make_matrix_from(maze)\n",
    "T = adj/np.sum(adj,axis=0)"
   ]
  },
  {
   "cell_type": "code",
   "execution_count": 256,
   "metadata": {},
   "outputs": [],
   "source": [
    "gamma = 0.95\n",
    "SR = np.linalg.inv(np.eye(T.shape[0]) - gamma * T)"
   ]
  },
  {
   "cell_type": "code",
   "execution_count": 257,
   "metadata": {},
   "outputs": [],
   "source": [
    "pos = 0"
   ]
  },
  {
   "cell_type": "code",
   "execution_count": 258,
   "metadata": {},
   "outputs": [],
   "source": [
    "M = np.zeros(SR.shape)#np.abs(np.random.normal(size=SR.shape))#np.zeros(SR.shape)"
   ]
  },
  {
   "cell_type": "code",
   "execution_count": 265,
   "metadata": {},
   "outputs": [],
   "source": [
    "#params \n",
    "\n",
    "alpha = .01\n",
    "lamda = .95"
   ]
  },
  {
   "cell_type": "code",
   "execution_count": 266,
   "metadata": {},
   "outputs": [],
   "source": [
    "pos = 0\n",
    "\n",
    "e = np.zeros(len(SR))\n",
    "rg = np.arange(len(SR))\n",
    "walk_path = []\n",
    "\n",
    "for i in range(25000):\n",
    "    \n",
    "    e[pos] = lamda*gamma*e[pos] + 1\n",
    "    e[np.isin(rg,pos)==False] = lamda*gamma*e[pos]\n",
    "\n",
    "    options = np.where(T[:,pos])[0]\n",
    "\n",
    "    newP = np.random.choice(options,p=T[:,pos][options])\n",
    "    walk_path.append(newP)\n",
    "    zrs = np.zeros(len(SR))\n",
    "    zrs[pos] = 1.\n",
    "    M[pos,:] = M[pos,:] + alpha*(zrs + gamma*M[newP,:] - M[pos,:])*e\n",
    "    #M = (M + M.T)/2.\n",
    "    pos = newP.copy()"
   ]
  },
  {
   "cell_type": "code",
   "execution_count": 267,
   "metadata": {},
   "outputs": [
    {
     "data": {
      "text/plain": [
       "array([[2.70604065, 1.88311232, 0.9908692 , ..., 0.0164845 , 0.01393783,\n",
       "        0.00995141],\n",
       "       [1.47245416, 2.65929612, 1.27628646, ..., 0.01810634, 0.01575454,\n",
       "        0.01151716],\n",
       "       [0.68855649, 1.20344407, 2.44458494, ..., 0.02252299, 0.02081597,\n",
       "        0.01591957],\n",
       "       ...,\n",
       "       [0.01368658, 0.01917146, 0.025025  , ..., 2.26634002, 1.49639082,\n",
       "        0.99412677],\n",
       "       [0.00984734, 0.01462342, 0.02085417, ..., 1.1311861 , 2.78734906,\n",
       "        1.91927287],\n",
       "       [0.00860296, 0.0132107 , 0.01973876, ..., 0.82197424, 1.94009563,\n",
       "        3.04666335]])"
      ]
     },
     "execution_count": 267,
     "metadata": {},
     "output_type": "execute_result"
    }
   ],
   "source": [
    "M"
   ]
  },
  {
   "cell_type": "code",
   "execution_count": 268,
   "metadata": {},
   "outputs": [
    {
     "data": {
      "text/plain": [
       "array([[2.6844384 , 1.31742038, 0.68630973, ..., 0.02559006, 0.02152488,\n",
       "        0.01994989],\n",
       "       [1.75656051, 2.64531978, 1.29022226, ..., 0.03534962, 0.03050957,\n",
       "        0.02869984],\n",
       "       [0.91507964, 1.29022226, 2.40207048, ..., 0.03911841, 0.03534962,\n",
       "        0.03412008],\n",
       "       ...,\n",
       "       [0.03412008, 0.03534962, 0.03911841, ..., 2.40207048, 1.29022226,\n",
       "        0.91507964],\n",
       "       [0.02869984, 0.03050957, 0.03534962, ..., 1.29022226, 2.64531978,\n",
       "        1.75656051],\n",
       "       [0.01994989, 0.02152488, 0.02559006, ..., 0.68630973, 1.31742038,\n",
       "        2.6844384 ]])"
      ]
     },
     "execution_count": 268,
     "metadata": {},
     "output_type": "execute_result"
    }
   ],
   "source": [
    "SR"
   ]
  },
  {
   "cell_type": "code",
   "execution_count": 269,
   "metadata": {},
   "outputs": [
    {
     "data": {
      "text/plain": [
       "<matplotlib.image.AxesImage at 0x1a207983c8>"
      ]
     },
     "execution_count": 269,
     "metadata": {},
     "output_type": "execute_result"
    },
    {
     "data": {
      "image/png": "[encoded data removed]",
      "text/plain": [
       "<Figure size 432x288 with 1 Axes>"
      ]
     },
     "metadata": {
      "needs_background": "light"
     },
     "output_type": "display_data"
    }
   ],
   "source": [
    "plt.imshow(M)"
   ]
  },
  {
   "cell_type": "code",
   "execution_count": 270,
   "metadata": {},
   "outputs": [
    {
     "data": {
      "text/plain": [
       "<matplotlib.image.AxesImage at 0x1a20525f60>"
      ]
     },
     "execution_count": 270,
     "metadata": {},
     "output_type": "execute_result"
    },
    {
     "data": {
      "image/png": "[encoded data removed]",
      "text/plain": [
       "<Figure size 432x288 with 1 Axes>"
      ]
     },
     "metadata": {
      "needs_background": "light"
     },
     "output_type": "display_data"
    }
   ],
   "source": [
    "plt.imshow(SR)"
   ]
  },
  {
   "cell_type": "code",
   "execution_count": null,
   "metadata": {},
   "outputs": [],
   "source": []
  }
 ],
 "metadata": {
  "kernelspec": {
   "display_name": "Python 3",
   "language": "python",
   "name": "python3"
  },
  "language_info": {
   "codemirror_mode": {
    "name": "ipython",
    "version": 3
   },
   "file_extension": ".py",
   "mimetype": "text/x-python",
   "name": "python",
   "nbconvert_exporter": "python",
   "pygments_lexer": "ipython3",
   "version": "3.6.9"
  }
 },
 "nbformat": 4,
 "nbformat_minor": 2
}
