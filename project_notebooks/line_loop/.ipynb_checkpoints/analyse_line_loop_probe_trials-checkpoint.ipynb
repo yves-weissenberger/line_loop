{
 "cells": [
  {
   "cell_type": "markdown",
   "metadata": {},
   "source": [
    "# First pass analysis of line/loop data\n",
    "\n",
    "\n",
    "\n",
    "\n",
    "## Try to predict whether a probe trial will be correct or not\n",
    "\n",
    "\n",
    "\n",
    "The question we have to ask is what are they struggling to do right now? In the best case scenario, it is random, we would want these regressors \n",
    "\n",
    "\n",
    "### The full way of doing it\n",
    "\n",
    "This is a Bernoulli regression problem (I think this is an easier way to think about it than a binomial). Build a model with the following regressors. (Do you want an animal performance regressor?)\n",
    "\n",
    "<ol>\n",
    "    <li> Source x target (too much??) </li>\n",
    "    <li> Source to target distance </li>\n",
    "    <li> Whether this transition exists in both graphs </li>\n",
    "    <li> The task number that this is on </li>\n",
    "    <li> Whether this is a line or a loop </li>\n",
    "    <li> Marginal animal performance on day (?) </li>\n",
    "    <li> Transition from that node on other graph </li>\n",
    "    <li> Training day </li>\n",
    "    <li> Session number </li>\n",
    "    <li> Number of rewards already received (this could be interesting, could go both ways) </li>\n",
    "    <li> Is to a reward or not? </li>\n",
    "</ol>\n",
    "\n",
    "<b> I think we want to fit this model to each day and see basically all regressors shrinking. </b>\n",
    "\n",
    "\n",
    "### What is the simple thing to look at?\n",
    "\n",
    "Ideally would want to look at whether there are some transitions that they are great at and some that they are shit at. The problem is that there is not enough data. Thats why the above approach is nice.\n",
    "\n",
    "\n",
    "## Analyse the errors\n",
    "\n",
    "Yes the key question now is what happens on probe trials"
   ]
  },
  {
   "cell_type": "code",
   "execution_count": 1,
   "metadata": {},
   "outputs": [],
   "source": [
    "%matplotlib inline\n",
    "import numpy as np\n",
    "import scipy as sp\n",
    "import pandas as pd\n",
    "import matplotlib.pyplot as plt\n",
    "import matplotlib\n",
    "import seaborn\n",
    "import scipy.stats as stt\n",
    "from statsmodels.stats import proportion\n",
    "seaborn.set(font_scale=1.5,style='ticks')\n",
    "import os\n",
    "import re\n",
    "import sys\n",
    "import itertools\n",
    "import networkx as nx\n",
    "sys.path.append(\"/Users/Yves/Documents/Code/structural_knowledge/packages/\")"
   ]
  },
  {
   "cell_type": "code",
   "execution_count": 2,
   "metadata": {},
   "outputs": [],
   "source": [
    "import mouse_poker as mpk"
   ]
  },
  {
   "cell_type": "markdown",
   "metadata": {},
   "source": [
    "# Defined functions "
   ]
  },
  {
   "cell_type": "code",
   "execution_count": 3,
   "metadata": {},
   "outputs": [],
   "source": [
    "poke_pos = [  [149,0],\n",
    "         [68,19],[231,19],\n",
    "       [0,62],[149,62],[298,62],\n",
    "         [68,105],[231,105],\n",
    "              [149,124]]"
   ]
  },
  {
   "cell_type": "code",
   "execution_count": 4,
   "metadata": {},
   "outputs": [],
   "source": [
    "def get_empty_transition_dict(n_nodes=9):\n",
    "    tmp1 = [str(i[1])+str(i[-2]) for i in list(itertools.combinations(range(n_nodes),2))]\n",
    "    tmp1.extend([i[::-1] for i in tmp1])\n",
    "    res_dct = {}\n",
    "    for i in tmp1:\n",
    "        res_dct[i] = []\n",
    "    return res_dct"
   ]
  },
  {
   "cell_type": "code",
   "execution_count": null,
   "metadata": {},
   "outputs": [],
   "source": []
  },
  {
   "cell_type": "markdown",
   "metadata": {},
   "source": [
    "# Actual code to run stuff "
   ]
  },
  {
   "cell_type": "code",
   "execution_count": 5,
   "metadata": {},
   "outputs": [
    {
     "name": "stdout",
     "output_type": "stream",
     "text": [
      "Warning, /Users/Yves/Documents/behavior_data/line_loop_cohort_1/line_loop_batch_2/'418688_10'-2020-02-04-122028.txt failed to load\n",
      "Error message: list index out of range\n",
      "Warning, /Users/Yves/Documents/behavior_data/line_loop_cohort_1/line_loop_batch_2/'418688_10'-2020-02-25-145954.txt failed to load\n",
      "Error message: list index out of range\n",
      "P 19980 POKEDPORT_3_PREVSTATES_[1, 3]_PREVSTATE_2_AVAILSTATES_[2, 4]_NOWSTATE_3_RANDOM_False_REW_True\n",
      "\n",
      "26\n",
      "list index out of range\n",
      "Warning, /Users/Yves/Documents/behavior_data/line_loop_cohort_1/line_loop_batch_1/'424551_None'-2020-01-29-154034.txt failed to load\n",
      "Error message: \n",
      "Warning, /Users/Yves/Documents/behavior_data/line_loop_cohort_1/line_loop_batch_1/'424550_3'-2020-02-11-143636.txt failed to load\n",
      "Error message: list index out of range\n",
      "P 339069 POKEDPORT_0_PREVSTATES_[5, 7]_PREVSTATE_6_AVAILSTATES_[4, 6]_NOWSTATE_5_RANDOM_False_REW_True\n",
      "\n",
      "27\n",
      "list index out of range\n",
      "Warning, /Users/Yves/Documents/behavior_data/line_loop_cohort_1/line_loop_batch_1/'424550_None'-2020-01-29-154034.txt failed to load\n",
      "Error message: \n",
      "P 177136 POKEDPORT_2_PREVSTATES_[5, 7]_PREVSTATE_6_AVAILSTATES_[6, 8]_NOWSTATE_7_RANDOM_False_REW_False\n",
      "\n",
      "20\n",
      "list index out of range\n",
      "Warning, /Users/Yves/Documents/behavior_data/line_loop_cohort_1/line_loop_batch_1/'418688_None'-2020-01-29-154034.txt failed to load\n",
      "Error message: \n",
      "Warning, /Users/Yves/Documents/behavior_data/line_loop_cohort_1/line_loop_batch_1/'418688_3'-2020-02-13-103354.txt failed to load\n",
      "Error message: list index out of range\n",
      "Warning, /Users/Yves/Documents/behavior_data/line_loop_cohort_1/line_loop_batch_1/'424550_3'-2020-02-13-103803.txt failed to load\n",
      "Error message: list index out of range\n",
      "P 77487 POKEDPORT_0_PREVSTATES_[3, 5]_PREVSTATE_4_AVAILSTATES_[4, 6]_NOWSTATE_5_RANDOM_False_REW_True\n",
      "\n",
      "26\n",
      "list index out of range\n",
      "Warning, /Users/Yves/Documents/behavior_data/line_loop_cohort_1/line_loop_batch_1/'419544_None'-2020-01-29-154034.txt failed to load\n",
      "Error message: \n",
      "P 566177 POKEDPORT_3_PREVSTATES_[1, 3]_PREVSTATE_2_AVAILSTATES_[2, 4]_NOWSTATE_3_RANDOM_False_REW_True\n",
      "\n",
      "26\n",
      "list index out of range\n",
      "Warning, /Users/Yves/Documents/behavior_data/line_loop_cohort_1/line_loop_batch_1/'424551_3'-2020-01-29-154034.txt failed to load\n",
      "Error message: \n"
     ]
    }
   ],
   "source": [
    "ROOT = \"/Users/Yves/Documents/behavior_data/line_loop_cohort_1/\"\n",
    "#ROOT = '/Users/Yves/Documents/behavior_data/line_loop_cohort_2/'\n",
    "all_df  = mpk.load.create_base_df(ROOT,rerun=True)\n",
    "all_df = mpk.load.load_df(ROOT)"
   ]
  },
  {
   "cell_type": "code",
   "execution_count": 6,
   "metadata": {},
   "outputs": [],
   "source": [
    "good_df = all_df.loc[all_df['valid']]"
   ]
  },
  {
   "cell_type": "code",
   "execution_count": null,
   "metadata": {},
   "outputs": [],
   "source": []
  },
  {
   "cell_type": "code",
   "execution_count": 7,
   "metadata": {},
   "outputs": [],
   "source": [
    "#res_dct = {}\n",
    "#for i in tmp1:\n",
    "#    res_dct[i] = []"
   ]
  },
  {
   "cell_type": "code",
   "execution_count": 8,
   "metadata": {},
   "outputs": [],
   "source": [
    "THRESHT = 30.\n",
    "\n",
    "date = '2020-03-10'\n",
    "day_df = good_df.loc[good_df['date']==date]\n",
    "\n",
    "tdict = get_empty_transition_dict()\n",
    "\n",
    "\n",
    "\n",
    "day_df = good_df.loc[good_df['date']==date]\n",
    "if 'forced' in day_df['task_name'].values[0]:\n",
    "\n",
    "\n",
    "    bin_ms = 1\n",
    "    bin_mult = 1000/bin_ms\n",
    "    window_s  = 2.\n",
    "\n",
    "\n",
    "    poked_in_probe = []\n",
    "    poked_correct = []\n",
    "    poked_correctR = []\n",
    "    poked_correctNR = []\n",
    "\n",
    "    res = {'pkA':[],\n",
    "           'pkR':[],\n",
    "           'pkNR':[],\n",
    "           'pkA2':[],\n",
    "           'pkR2':[],\n",
    "           'pkNR2':[],\n",
    "           'pkFrac': [],\n",
    "           'pkFR': [],\n",
    "           'graph_type':[],\n",
    "           'graph_id':[],\n",
    "           'task_nr': []}\n",
    "\n",
    "\n",
    "    for fpath in day_df['filepath'].values:\n",
    "        f = open(fpath,'r')\n",
    "        lines = f.readlines()\n",
    "        dat_dict,events,event_times,nRews = mpk.load.parse_data(lines,None)\n",
    "        out = mpk.load.get_metadata(lines)\n",
    "        experiment_name, task_name, subject_id, task_nr, graph,lineloop,date,test,summary_dict = out\n",
    "        res['graph_type'].append(lineloop)\n",
    "        res['graph_id'].append(graph)\n",
    "        res['task_nr'].append(task_nr)\n",
    "\n",
    "\n",
    "\n",
    "        nMs = int(np.max(event_times)*1000/bin_ms) #data binned into 10ms chunks\n",
    "\n",
    "        inPokes = np.array([int(i[-1])-1 for kk,i in enumerate(events) if re.findall('poke_[0-9]$',i)])\n",
    "        inPoke_t = np.floor(event_times[np.array([kk for kk,i in enumerate(events) if re.findall('poke_[0-9]$',i)])]*bin_mult).astype('int')    \n",
    "        outPoke_t = np.floor(event_times[np.array([kk for kk,i in enumerate(events) if re.findall('poke_[0-9]_out',i)])]*bin_mult).astype('int')    \n",
    "        if len(outPoke_t)>len(inPoke_t): outPoke_t = outPoke_t[1:] #if the first recorded thing is an outpoke\n",
    "        if len(inPoke_t)>len(outPoke_t): inPoke_t = inPoke_t[:-1]; inPokes = inPokes[:-1]\n",
    "        poke_dur = outPoke_t - inPoke_t\n",
    "\n",
    "        inPoke_t = inPoke_t[poke_dur>THRESHT]\n",
    "        inPokes = inPokes[poke_dur>THRESHT]\n",
    "        isProbe = np.array([i[-1] for i in dat_dict['port']])\n",
    "\n",
    "        poked_in_probe = []\n",
    "        poked_correct = []\n",
    "        poked_correctR = []\n",
    "        poked_correctNR = []\n",
    "\n",
    "        probe_ixs = np.where(isProbe)[0]\n",
    "        #for ix in probe_ixs[int(np.floor(len(probe_ixs)/2.)):]:\n",
    "        for ix in probe_ixs:\n",
    "\n",
    "            t_str = str(dat_dict['port'][ix][0]) + str(dat_dict['port'][ix][1])\n",
    "            probeT = int(dat_dict['port'][ix][-2]*bin_mult)\n",
    "            \n",
    "            prevPk = dat_dict['port'][ix][0]\n",
    "            target = dat_dict['port'][ix][1]\n",
    "\n",
    "            #these are pokes in window before light comes on\n",
    "            ixs = (np.where((inPoke_t>probeT) *\n",
    "                           (inPoke_t<(probeT+(window_s*bin_mult))))[0])# *\n",
    "                          # inPokes!=prevPk)[0])# %(len(inPokes)-1)\n",
    "\n",
    "            \n",
    "            if len(ixs)>0:\n",
    "                \n",
    "                use2 = [i for i in inPokes[ixs] if i!=prevPk]\n",
    "                #use2 = inPokes[ixs]\n",
    "                if len(use2)>0:\n",
    "                    if target==use2[0]:\n",
    "                    #if target in inPokes[ixs]:\n",
    "                        if target in [0,3,5,8]:\n",
    "                            poked_correctR.append(1)\n",
    "                            tdict[t_str].append(1)\n",
    "\n",
    "                        else:\n",
    "                            poked_correctNR.append(1)\n",
    "                            tdict[t_str].append(1)\n",
    "                        poked_correct.append(1)\n",
    "                    else:\n",
    "                        if target in [0,3,5,8]:\n",
    "                            poked_correctR.append(0)\n",
    "                            tdict[t_str].append(0)\n",
    "                        else:\n",
    "                            poked_correctNR.append(0)\n",
    "                            tdict[t_str].append(0)\n",
    "                        poked_correct.append(0)\n",
    "\n",
    "                        poked_in_probe.append(1)\n",
    "                else:\n",
    "                    poked_in_probe.append(0)\n",
    "                    tdict[t_str].append(0)\n",
    "            else:\n",
    "                poked_in_probe.append(0)\n",
    "                poked_correct.append(0)\n",
    "                if target in [0,3,5,8]:\n",
    "                    poked_correctR.append(0)\n",
    "                else:\n",
    "                    poked_correctNR.append(0)\n",
    "\n",
    "                tdict[t_str].append(0)\n",
    "\n",
    "        res['pkA'].append(poked_correct)\n",
    "        res['pkR'].append(poked_correctR)\n",
    "        res['pkNR'].append(poked_correctNR)\n",
    "        res['pkFrac'].append(poked_in_probe)\n",
    "\n",
    "        res['pkA2'].append([i for j in res['pkA'] for i in j])\n",
    "        res['pkR2'].append([i for j in res['pkR'] for i in j])\n",
    "        res['pkNR2'].append([i for j in res['pkNR'] for i in j])\n",
    "        res['pkFR'].append([i for j in res['pkFrac'] for i in j])\n"
   ]
  },
  {
   "cell_type": "code",
   "execution_count": 9,
   "metadata": {},
   "outputs": [
    {
     "data": {
      "image/png": "[encoded data removed]",
      "text/plain": [
       "<Figure size 432x288 with 1 Axes>"
      ]
     },
     "metadata": {
      "needs_background": "light"
     },
     "output_type": "display_data"
    }
   ],
   "source": [
    "mu_transs = []\n",
    "for k,v in tdict.items():\n",
    "    if len(v)>5:\n",
    "        mu_transs.append(np.mean(v))\n",
    "\n",
    "seaborn.distplot(mu_transs,kde=0)\n",
    "seaborn.despine()"
   ]
  },
  {
   "cell_type": "code",
   "execution_count": 10,
   "metadata": {},
   "outputs": [
    {
     "data": {
      "image/png": "[encoded data removed]",
      "text/plain": [
       "<Figure size 432x288 with 1 Axes>"
      ]
     },
     "metadata": {
      "needs_background": "light"
     },
     "output_type": "display_data"
    }
   ],
   "source": [
    "mu_transs = []\n",
    "for k,v in tdict.items():\n",
    "    if len(v)>0:\n",
    "        mu_transs.append(np.mean(v))\n",
    "\n",
    "seaborn.distplot(mu_transs,kde=0)\n",
    "seaborn.despine()"
   ]
  },
  {
   "cell_type": "code",
   "execution_count": 11,
   "metadata": {},
   "outputs": [],
   "source": [
    "pkNR = [i for j in res['pkNR'] for i in j]\n",
    "pkA = [i for j in res['pkA'] for i in j]\n",
    "pkR = [i for j in res['pkR'] for i in j]\n",
    "pkFR = [i for j in res['pkFR'] for i in j]"
   ]
  },
  {
   "cell_type": "code",
   "execution_count": 12,
   "metadata": {},
   "outputs": [
    {
     "data": {
      "text/plain": [
       "dict_keys(['pkA', 'pkR', 'pkNR', 'pkA2', 'pkR2', 'pkNR2', 'pkFrac', 'pkFR', 'graph_type', 'graph_id', 'task_nr'])"
      ]
     },
     "execution_count": 12,
     "metadata": {},
     "output_type": "execute_result"
    }
   ],
   "source": [
    "res.keys()"
   ]
  },
  {
   "cell_type": "code",
   "execution_count": null,
   "metadata": {},
   "outputs": [],
   "source": []
  },
  {
   "cell_type": "code",
   "execution_count": 13,
   "metadata": {},
   "outputs": [
    {
     "data": {
      "text/plain": [
       "'probe fraction correct all:0.5194228634850167, to-rew:0.5641025641025641, to-nonRew:0.4909090909090909'"
      ]
     },
     "execution_count": 13,
     "metadata": {},
     "output_type": "execute_result"
    }
   ],
   "source": [
    "'probe fraction correct all:{}, to-rew:{}, to-nonRew:{}'.format(np.mean(pkA),np.mean(pkR),np.mean(pkNR))"
   ]
  },
  {
   "cell_type": "code",
   "execution_count": 96,
   "metadata": {},
   "outputs": [
    {
     "data": {
      "text/plain": [
       "'probe fraction correct all:0.43824228028503565, to-rew:0.5094614264919942, to-nonRew:0.3891675025075226'"
      ]
     },
     "execution_count": 96,
     "metadata": {},
     "output_type": "execute_result"
    }
   ],
   "source": [
    "'probe fraction correct all:{}, to-rew:{}, to-nonRew:{}'.format(np.mean(pkA),np.mean(pkR),np.mean(pkNR))"
   ]
  },
  {
   "cell_type": "code",
   "execution_count": 14,
   "metadata": {},
   "outputs": [
    {
     "data": {
      "text/plain": [
       "1.4140075822374458e-108"
      ]
     },
     "execution_count": 14,
     "metadata": {},
     "output_type": "execute_result"
    }
   ],
   "source": [
    "stt.binom_test(np.sum(pkNR),n=len(pkNR),p=1/9.)"
   ]
  },
  {
   "cell_type": "code",
   "execution_count": 15,
   "metadata": {},
   "outputs": [
    {
     "data": {
      "text/plain": [
       "2.0670148251204612e-94"
      ]
     },
     "execution_count": 15,
     "metadata": {},
     "output_type": "execute_result"
    }
   ],
   "source": [
    "stt.binom_test(np.sum(pkR),n=len(pkR),p=1/9.)"
   ]
  },
  {
   "cell_type": "code",
   "execution_count": 16,
   "metadata": {},
   "outputs": [],
   "source": [
    "mu =np.array([np.mean(pkA),np.mean(pkR),np.mean(pkNR)])\n",
    "\n",
    "\n",
    "ci = np.array([proportion.proportion_confint(np.sum(pkA),len(pkA)),\n",
    "               proportion.proportion_confint(np.sum(pkR),len(pkR)),\n",
    "               proportion.proportion_confint(np.sum(pkNR),len(pkNR))])\n",
    "\n",
    "ci = np.abs(ci- mu[:,None]).T"
   ]
  },
  {
   "cell_type": "code",
   "execution_count": 17,
   "metadata": {},
   "outputs": [],
   "source": [
    "ciFR = np.abs(proportion.proportion_confint(np.sum(pkFR),len(pkFR))-np.mean(pkFR))"
   ]
  },
  {
   "cell_type": "code",
   "execution_count": null,
   "metadata": {},
   "outputs": [],
   "source": []
  },
  {
   "cell_type": "code",
   "execution_count": 18,
   "metadata": {},
   "outputs": [
    {
     "data": {
      "image/png": "[encoded data removed]",
      "text/plain": [
       "<Figure size 792x288 with 2 Axes>"
      ]
     },
     "metadata": {
      "needs_background": "light"
     },
     "output_type": "display_data"
    }
   ],
   "source": [
    "#.figure(figsize=(11,4))\n",
    "f, (a0, a1) = plt.subplots(1, 2, gridspec_kw={'width_ratios': [1,3]},figsize=(11,4))\n",
    "\n",
    "a0.bar([0],np.mean(pkFR),yerr=ciFR.reshape(-1,1),error_kw={'elinewidth':3},alpha=.7)\n",
    "\n",
    "clrs = [seaborn.color_palette()[1],'.3']\n",
    "for ctr,i in enumerate(res['pkFrac']):\n",
    "    clr_ = clrs[0] if res['graph_type'][ctr]=='LOOP' else clrs[1]\n",
    "\n",
    "    xi = np.random.normal(loc=0,scale=.15)\n",
    "    a0.scatter(xi,np.mean(i),zorder=100,color=clr_,alpha=.9)\n",
    "    ci_ = proportion.proportion_confint(np.sum(i),len(i))\n",
    "    a0.plot([xi,xi],[ci_[0],np.mean(i)],color=clr_,alpha=0.9)\n",
    "\n",
    "a0.set_xlim(-1,1)\n",
    "a0.set_xticks([])\n",
    "a0.locator_params('y',nbins=3)\n",
    "a0.set_ylabel(\"Fraction of probe trials \\npoked pre light\")\n",
    "#a1.subplot(1,2,2)\n",
    "#np.random.seed(99)\n",
    "a1.bar([0,1,2],mu,yerr=ci,error_kw={'elinewidth':3},alpha=.7)\n",
    "for ctr,i in enumerate(res['pkA']):\n",
    "    clr_ = clrs[0] if res['graph_type'][ctr]=='LOOP' else clrs[1]\n",
    "    #print(clr_)\n",
    "    xi = np.random.normal(loc=0,scale=.15)\n",
    "    a1.scatter(xi,np.mean(i),zorder=100,color=clr_,alpha=.6)\n",
    "    ci_ = proportion.proportion_confint(np.sum(i),len(i))\n",
    "    a1.plot([xi,xi],[ci_[0],np.mean(i)],color=clr_,alpha=0.9)\n",
    "    \n",
    "for ctr,i in enumerate(res['pkR']):\n",
    "    clr_ = clrs[0] if res['graph_type'][ctr]=='LOOP' else clrs[1]\n",
    "    #print(clr_)\n",
    "    xi = np.random.normal(loc=1,scale=.15)\n",
    "    a1.scatter(xi,np.mean(i),zorder=100,color=clr_,alpha=.6)\n",
    "    ci_ = proportion.proportion_confint(np.sum(i),len(i))\n",
    "    a1.plot([xi,xi],[ci_[0],np.mean(i)],color=clr_,alpha=0.9)\n",
    "\n",
    "for ctr,i in enumerate(res['pkNR']):\n",
    "    clr_ = clrs[0] if res['graph_type'][ctr]=='LOOP' else clrs[1]\n",
    "    #print(clr_)\n",
    "    xi = np.random.normal(loc=2,scale=.15)\n",
    "    a1.scatter(xi,np.mean(i),zorder=100,color=clr_,alpha=.6)\n",
    "    ci_ = proportion.proportion_confint(np.sum(i),len(i))\n",
    "    a1.plot([xi,xi],[ci_[0],np.mean(i)],color=clr_,alpha=0.9)\n",
    "\n",
    "a1.axhline(y=0.09,dashes=(8,8),color='.3')\n",
    "a1.set_ylabel(\"Fraction of correct \\nfirst pokes pre light on\")\n",
    "a1.set_xlabel(\"Probe Trial target\")\n",
    "a1.set_ylim(0,1.05)\n",
    "a1.locator_params('y',nbins=3)\n",
    "plt.xticks([0,1,2],['All','Rew','Non Rew'])\n",
    "\n",
    "seaborn.despine()\n",
    "\n",
    "plt.tight_layout()"
   ]
  },
  {
   "cell_type": "code",
   "execution_count": 19,
   "metadata": {},
   "outputs": [],
   "source": [
    "mu1 = [np.mean(i) for i in res['pkFrac']]\n",
    "mu2 = [np.mean(i) for i in res['pkA']]"
   ]
  },
  {
   "cell_type": "code",
   "execution_count": null,
   "metadata": {},
   "outputs": [],
   "source": []
  },
  {
   "cell_type": "code",
   "execution_count": 20,
   "metadata": {},
   "outputs": [
    {
     "data": {
      "text/plain": [
       "4894"
      ]
     },
     "execution_count": 20,
     "metadata": {},
     "output_type": "execute_result"
    }
   ],
   "source": [
    "len(pkFR)"
   ]
  },
  {
   "cell_type": "code",
   "execution_count": 21,
   "metadata": {},
   "outputs": [
    {
     "data": {
      "image/png": "[encoded data removed]",
      "text/plain": [
       "<Figure size 792x288 with 2 Axes>"
      ]
     },
     "metadata": {
      "needs_background": "light"
     },
     "output_type": "display_data"
    }
   ],
   "source": [
    "#.figure(figsize=(11,4))\n",
    "f, (a0, a1) = plt.subplots(1, 2, gridspec_kw={'width_ratios': [1,3]},figsize=(11,4))\n",
    "\n",
    "a0.bar([0],np.mean(pkFR),yerr=ciFR.reshape(-1,1),error_kw={'elinewidth':3},alpha=.7)\n",
    "\n",
    "clrs = [seaborn.color_palette()[1],'.3']\n",
    "for ctr,i in enumerate(res['pkFrac']):\n",
    "    clr_ = clrs[0] if res['task_nr'][ctr]=='1' else clrs[1]\n",
    "\n",
    "    xi = np.random.normal(loc=0,scale=.15)\n",
    "    a0.scatter(xi,np.mean(i),zorder=100,color=clr_,alpha=.9)\n",
    "    ci_ = proportion.proportion_confint(np.sum(i),len(i))\n",
    "    a0.plot([xi,xi],[ci_[0],np.mean(i)],color=clr_,alpha=0.9)\n",
    "\n",
    "a0.set_xlim(-1,1)\n",
    "a0.set_xticks([])\n",
    "a0.locator_params('y',nbins=3)\n",
    "a0.set_ylabel(\"Fraction of probe trials \\npoked pre light\")\n",
    "#a1.subplot(1,2,2)\n",
    "#np.random.seed(99)\n",
    "a1.bar([0,1,2],mu,yerr=ci,error_kw={'elinewidth':3},alpha=.7)\n",
    "for ctr,i in enumerate(res['pkA']):\n",
    "    clr_ = clrs[0] if res['task_nr'][ctr]=='1' else clrs[1]\n",
    "    #print(clr_)\n",
    "    xi = np.random.normal(loc=0,scale=.15)\n",
    "    a1.scatter(xi,np.mean(i),zorder=100,color=clr_,alpha=.6)\n",
    "    ci_ = proportion.proportion_confint(np.sum(i),len(i))\n",
    "    a1.plot([xi,xi],[ci_[0],np.mean(i)],color=clr_,alpha=0.9)\n",
    "    \n",
    "for ctr,i in enumerate(res['pkR']):\n",
    "    clr_ = clrs[0] if res['task_nr'][ctr]=='1' else clrs[1]\n",
    "    #print(clr_)\n",
    "    xi = np.random.normal(loc=1,scale=.15)\n",
    "    a1.scatter(xi,np.mean(i),zorder=100,color=clr_,alpha=.6)\n",
    "    ci_ = proportion.proportion_confint(np.sum(i),len(i))\n",
    "    a1.plot([xi,xi],[ci_[0],np.mean(i)],color=clr_,alpha=0.9)\n",
    "\n",
    "for ctr,i in enumerate(res['pkNR']):\n",
    "    clr_ = clrs[0] if res['task_nr'][ctr]=='1' else clrs[1]\n",
    "    #print(clr_)\n",
    "    xi = np.random.normal(loc=2,scale=.15)\n",
    "    a1.scatter(xi,np.mean(i),zorder=100,color=clr_,alpha=.6)\n",
    "    ci_ = proportion.proportion_confint(np.sum(i),len(i))\n",
    "    a1.plot([xi,xi],[ci_[0],np.mean(i)],color=clr_,alpha=0.9)\n",
    "\n",
    "a1.axhline(y=0.09,dashes=(8,8),color='.3')\n",
    "a1.set_ylabel(\"Fraction of correct \\nfirst pokes pre light on\")\n",
    "a1.set_xlabel(\"Probe Trial target\")\n",
    "a1.set_ylim(0,1.05)\n",
    "a1.locator_params('y',nbins=3)\n",
    "plt.xticks([0,1,2],['All','Rew','Non Rew'])\n",
    "\n",
    "seaborn.despine()\n",
    "\n",
    "plt.tight_layout()"
   ]
  },
  {
   "cell_type": "code",
   "execution_count": null,
   "metadata": {},
   "outputs": [],
   "source": []
  },
  {
   "cell_type": "code",
   "execution_count": null,
   "metadata": {},
   "outputs": [],
   "source": []
  }
 ],
 "metadata": {
  "kernelspec": {
   "display_name": "Python 3",
   "language": "python",
   "name": "python3"
  },
  "language_info": {
   "codemirror_mode": {
    "name": "ipython",
    "version": 3
   },
   "file_extension": ".py",
   "mimetype": "text/x-python",
   "name": "python",
   "nbconvert_exporter": "python",
   "pygments_lexer": "ipython3",
   "version": "3.7.4"
  }
 },
 "nbformat": 4,
 "nbformat_minor": 2
}
