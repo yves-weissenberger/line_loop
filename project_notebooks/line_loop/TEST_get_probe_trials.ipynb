{
 "cells": [
  {
   "cell_type": "markdown",
   "metadata": {},
   "source": [
    "### Whats going on. In this notebook want to check that probe trials are working as they should be"
   ]
  },
  {
   "cell_type": "code",
   "execution_count": 1,
   "metadata": {},
   "outputs": [],
   "source": [
    "%matplotlib inline\n",
    "import numpy as np\n",
    "import scipy as sp\n",
    "import pandas as pd\n",
    "import matplotlib.pyplot as plt\n",
    "import matplotlib\n",
    "import seaborn\n",
    "import scipy.stats as stt\n",
    "from statsmodels.stats import proportion\n",
    "seaborn.set(font_scale=1.5,style='ticks')\n",
    "import os\n",
    "import re\n",
    "import sys\n",
    "import itertools\n",
    "import networkx as nx\n",
    "sys.path.append(\"/Users/Yves/Documents/Code/structural_knowledge/packages/\")"
   ]
  },
  {
   "cell_type": "code",
   "execution_count": 2,
   "metadata": {},
   "outputs": [],
   "source": [
    "import mouse_poker as mpk"
   ]
  },
  {
   "cell_type": "code",
   "execution_count": 3,
   "metadata": {},
   "outputs": [],
   "source": [
    "poke_pos = [  [149,0],\n",
    "         [68,19],[231,19],\n",
    "       [0,62],[149,62],[298,62],\n",
    "         [68,105],[231,105],\n",
    "              [149,124]]"
   ]
  },
  {
   "cell_type": "code",
   "execution_count": 4,
   "metadata": {},
   "outputs": [],
   "source": [
    "ROOT = \"/Users/yves/Documents/behavior_data/line_loop_cohort_1/\"\n",
    "#bb  = mpk.load.create_base_df(ROOT,rerun=True)\n",
    "bb = mpk.load.load_df(ROOT)"
   ]
  },
  {
   "cell_type": "code",
   "execution_count": 5,
   "metadata": {},
   "outputs": [],
   "source": [
    "good_df = bb.loc[bb['valid']]"
   ]
  },
  {
   "cell_type": "code",
   "execution_count": null,
   "metadata": {},
   "outputs": [],
   "source": []
  },
  {
   "cell_type": "code",
   "execution_count": 6,
   "metadata": {
    "scrolled": true
   },
   "outputs": [
    {
     "name": "stdout",
     "output_type": "stream",
     "text": [
      "line /Users/Yves/Documents/behavior_data/line_loop_cohort_1/line_loop_batch_2/'418688_1'-2020-02-06-114825.txt\n",
      "line /Users/Yves/Documents/behavior_data/line_loop_cohort_1/line_loop_batch_2/'418688_1'-2020-02-07-145935.txt\n",
      "line /Users/Yves/Documents/behavior_data/line_loop_cohort_1/line_loop_batch_2/'418688_1'-2020-02-08-110834.txt\n",
      "line /Users/Yves/Documents/behavior_data/line_loop_cohort_1/line_loop_batch_2/'418688_1'-2020-02-10-150429.txt\n",
      "line /Users/Yves/Documents/behavior_data/line_loop_cohort_1/line_loop_batch_2/'418688_1'-2020-02-12-152004.txt\n",
      "line /Users/Yves/Documents/behavior_data/line_loop_cohort_1/line_loop_batch_2/'418688_1'-2020-02-13-120448.txt\n",
      "line /Users/Yves/Documents/behavior_data/line_loop_cohort_1/line_loop_batch_2/'418688_1'-2020-02-14-145338.txt\n",
      "line /Users/Yves/Documents/behavior_data/line_loop_cohort_1/line_loop_batch_2/'418688_1'-2020-02-15-100550.txt\n",
      "line /Users/Yves/Documents/behavior_data/line_loop_cohort_1/line_loop_batch_2/'418688_1'-2020-02-17-141421.txt\n",
      "line /Users/Yves/Documents/behavior_data/line_loop_cohort_1/line_loop_batch_2/'418688_1'-2020-02-20-120912.txt\n",
      "line /Users/Yves/Documents/behavior_data/line_loop_cohort_1/line_loop_batch_2/'418688_1'-2020-02-21-143401.txt\n",
      "line /Users/Yves/Documents/behavior_data/line_loop_cohort_1/line_loop_batch_2/'418688_1'-2020-02-24-114745.txt\n",
      "line /Users/Yves/Documents/behavior_data/line_loop_cohort_1/line_loop_batch_2/'418688_1'-2020-02-25-150336.txt\n",
      "line /Users/Yves/Documents/behavior_data/line_loop_cohort_1/line_loop_batch_2/'418688_1'-2020-02-26-114842.txt\n",
      "line /Users/Yves/Documents/behavior_data/line_loop_cohort_1/line_loop_batch_2/'418688_1'-2020-02-27-153210.txt\n",
      "line /Users/Yves/Documents/behavior_data/line_loop_cohort_1/line_loop_batch_2/'418688_1'-2020-02-28-122208.txt\n",
      "line /Users/Yves/Documents/behavior_data/line_loop_cohort_1/line_loop_batch_2/'418688_1'-2020-02-29-153514.txt\n",
      "line /Users/Yves/Documents/behavior_data/line_loop_cohort_1/line_loop_batch_2/'418688_1'-2020-03-02-122243.txt\n",
      "line /Users/Yves/Documents/behavior_data/line_loop_cohort_1/line_loop_batch_2/'418688_1'-2020-03-04-171447.txt\n",
      "line /Users/Yves/Documents/behavior_data/line_loop_cohort_1/line_loop_batch_2/'418688_1'-2020-03-05-101145.txt\n",
      "line /Users/Yves/Documents/behavior_data/line_loop_cohort_1/line_loop_batch_2/'418688_1'-2020-03-06-165814.txt\n",
      "line /Users/Yves/Documents/behavior_data/line_loop_cohort_1/line_loop_batch_2/'418688_1'-2020-03-07-100947.txt\n"
     ]
    }
   ],
   "source": [
    "THRESHT = 30.\n",
    "\n",
    "allRes = []\n",
    "\n",
    "\n",
    "\n",
    "\n",
    "bin_ms = 1\n",
    "bin_mult = 1000/bin_ms\n",
    "window_s  = 1.\n",
    "\n",
    "M = good_df['mouse_ID'].values[2]\n",
    "\n",
    "for date in np.unique(good_df['date'])[:]:\n",
    "    day_df = good_df.loc[good_df['date']==date]\n",
    "\n",
    "    if 'forced' in day_df['task_name'].values[0]:\n",
    "        \n",
    "\n",
    "        for fpath in day_df.loc[(day_df['mouse_ID']==M) & (day_df['task_nr']==2)]['filepath'].values:\n",
    "            print(day_df.loc[day_df['filepath']==fpath]['structure'].values[0],fpath)\n",
    "            f = open(fpath,'r')\n",
    "\n",
    "            lines = f.readlines()\n",
    "            dat_dict,events,event_times,nRews = mpk.load.parse_data(lines,None)\n",
    "            out = mpk.load.get_metadata(lines)\n",
    "            experiment_name, task_name, subject_id, task_nr, graph,lineloop,date,test,summary_dict = out\n",
    "\n",
    "\n",
    "\n",
    "            inPokes,inPoke_t,outPoke_t,poke_dur = mpk.proc.get_pokes(events,event_times,bin_mult)\n",
    "\n",
    "            inPoke_t = inPoke_t[poke_dur>THRESHT]; inPokes = inPokes[poke_dur>THRESHT]\n",
    "            isProbe = np.array([i[-1] for i in dat_dict['port']])\n",
    "\n",
    "            probe_ixs = np.where(isProbe)[0]\n",
    "\n",
    "            for ix in np.where(isProbe)[0]:\n",
    "                t_str = str(dat_dict['port'][ix][0]) + str(dat_dict['port'][ix][1])\n",
    "                probeT = int(dat_dict['port'][ix][-2]*bin_mult)\n",
    "                allRes.append(t_str)\n"
   ]
  },
  {
   "cell_type": "markdown",
   "metadata": {},
   "source": [
    "# Now run the whole probe_trial analysis with clean functions "
   ]
  },
  {
   "cell_type": "code",
   "execution_count": 7,
   "metadata": {},
   "outputs": [
    {
     "name": "stdout",
     "output_type": "stream",
     "text": [
      "line /Users/Yves/Documents/behavior_data/line_loop_cohort_1/line_loop_batch_2/'418688_1'-2020-02-06-114825.txt\n",
      "line /Users/Yves/Documents/behavior_data/line_loop_cohort_1/line_loop_batch_2/'418688_1'-2020-02-07-145935.txt\n",
      "line /Users/Yves/Documents/behavior_data/line_loop_cohort_1/line_loop_batch_2/'418688_1'-2020-02-08-110834.txt\n",
      "line /Users/Yves/Documents/behavior_data/line_loop_cohort_1/line_loop_batch_2/'418688_1'-2020-02-10-150429.txt\n",
      "line /Users/Yves/Documents/behavior_data/line_loop_cohort_1/line_loop_batch_2/'418688_1'-2020-02-12-152004.txt\n",
      "line /Users/Yves/Documents/behavior_data/line_loop_cohort_1/line_loop_batch_2/'418688_1'-2020-02-13-120448.txt\n",
      "line /Users/Yves/Documents/behavior_data/line_loop_cohort_1/line_loop_batch_2/'418688_1'-2020-02-14-145338.txt\n",
      "line /Users/Yves/Documents/behavior_data/line_loop_cohort_1/line_loop_batch_2/'418688_1'-2020-02-15-100550.txt\n",
      "line /Users/Yves/Documents/behavior_data/line_loop_cohort_1/line_loop_batch_2/'418688_1'-2020-02-17-141421.txt\n",
      "line /Users/Yves/Documents/behavior_data/line_loop_cohort_1/line_loop_batch_2/'418688_1'-2020-02-20-120912.txt\n",
      "line /Users/Yves/Documents/behavior_data/line_loop_cohort_1/line_loop_batch_2/'418688_1'-2020-02-21-143401.txt\n",
      "line /Users/Yves/Documents/behavior_data/line_loop_cohort_1/line_loop_batch_2/'418688_1'-2020-02-24-114745.txt\n",
      "line /Users/Yves/Documents/behavior_data/line_loop_cohort_1/line_loop_batch_2/'418688_1'-2020-02-25-150336.txt\n",
      "line /Users/Yves/Documents/behavior_data/line_loop_cohort_1/line_loop_batch_2/'418688_1'-2020-02-26-114842.txt\n",
      "line /Users/Yves/Documents/behavior_data/line_loop_cohort_1/line_loop_batch_2/'418688_1'-2020-02-27-153210.txt\n",
      "line /Users/Yves/Documents/behavior_data/line_loop_cohort_1/line_loop_batch_2/'418688_1'-2020-02-28-122208.txt\n",
      "line /Users/Yves/Documents/behavior_data/line_loop_cohort_1/line_loop_batch_2/'418688_1'-2020-02-29-153514.txt\n",
      "line /Users/Yves/Documents/behavior_data/line_loop_cohort_1/line_loop_batch_2/'418688_1'-2020-03-02-122243.txt\n",
      "line /Users/Yves/Documents/behavior_data/line_loop_cohort_1/line_loop_batch_2/'418688_1'-2020-03-04-171447.txt\n",
      "line /Users/Yves/Documents/behavior_data/line_loop_cohort_1/line_loop_batch_2/'418688_1'-2020-03-05-101145.txt\n",
      "line /Users/Yves/Documents/behavior_data/line_loop_cohort_1/line_loop_batch_2/'418688_1'-2020-03-06-165814.txt\n",
      "line /Users/Yves/Documents/behavior_data/line_loop_cohort_1/line_loop_batch_2/'418688_1'-2020-03-07-100947.txt\n"
     ]
    }
   ],
   "source": [
    "THRESHT = 30.\n",
    "\n",
    "allRes = []\n",
    "\n",
    "\n",
    "\n",
    "\n",
    "bin_ms = 1\n",
    "bin_mult = 1000/bin_ms\n",
    "window_s  = 1.\n",
    "\n",
    "M = good_df['mouse_ID'].values[2]\n",
    "\n",
    "for date in np.unique(good_df['date'])[:]:\n",
    "    day_df = good_df.loc[good_df['date']==date]\n",
    "\n",
    "    if 'forced' in day_df['task_name'].values[0]:\n",
    "        \n",
    "\n",
    "        for fpath in day_df.loc[(day_df['mouse_ID']==M) & (day_df['task_nr']==2)]['filepath'].values:\n",
    "            print(day_df.loc[day_df['filepath']==fpath]['structure'].values[0],fpath)\n",
    "            f = open(fpath,'r')\n",
    "\n",
    "            lines = f.readlines()\n",
    "            dat_dict,events,event_times,nRews = mpk.load.parse_data(lines,None)\n",
    "            out = mpk.load.get_metadata(lines)\n",
    "            experiment_name, task_name, subject_id, task_nr, graph,lineloop,date,test,summary_dict = out\n",
    "\n",
    "\n",
    "\n",
    "            inPokes,inPoke_t,outPoke_t,poke_dur = mpk.proc.get_pokes(events,event_times,bin_mult)\n",
    "\n",
    "            inPoke_t = inPoke_t[poke_dur>THRESHT]; inPokes = inPokes[poke_dur>THRESHT]\n",
    "            isProbe = np.array([i[-1] for i in dat_dict['port']])\n",
    "\n",
    "            probe_ixs = np.where(isProbe)[0]\n",
    "\n",
    "            for ix in np.where(isProbe)[0]:\n",
    "                t_str = str(dat_dict['port'][ix][0]) + str(dat_dict['port'][ix][1])\n",
    "                probeT = int(dat_dict['port'][ix][-2]*bin_mult)\n",
    "                allRes.append(t_str)\n"
   ]
  },
  {
   "cell_type": "code",
   "execution_count": 12,
   "metadata": {},
   "outputs": [
    {
     "ename": "NameError",
     "evalue": "name 'poked_correctR' is not defined",
     "output_type": "error",
     "traceback": [
      "\u001b[0;31m---------------------------------------------------------------------------\u001b[0m",
      "\u001b[0;31mNameError\u001b[0m                                 Traceback (most recent call last)",
      "\u001b[0;32m<ipython-input-12-4a24942d558c>\u001b[0m in \u001b[0;36m<module>\u001b[0;34m\u001b[0m\n\u001b[0;32m----> 1\u001b[0;31m \u001b[0mprobe_trial_outcomes\u001b[0m\u001b[0;34m(\u001b[0m\u001b[0mdat_dict\u001b[0m\u001b[0;34m)\u001b[0m\u001b[0;34m\u001b[0m\u001b[0;34m\u001b[0m\u001b[0m\n\u001b[0m",
      "\u001b[0;32m<ipython-input-11-0bda87005453>\u001b[0m in \u001b[0;36mprobe_trial_outcomes\u001b[0;34m(dat_dict, task_number, bin_mult, window_s, t_dict)\u001b[0m\n\u001b[1;32m     41\u001b[0m                 \u001b[0;32melse\u001b[0m\u001b[0;34m:\u001b[0m\u001b[0;34m\u001b[0m\u001b[0;34m\u001b[0m\u001b[0m\n\u001b[1;32m     42\u001b[0m                     \u001b[0;32mif\u001b[0m \u001b[0mtarget\u001b[0m \u001b[0;32min\u001b[0m \u001b[0;34m[\u001b[0m\u001b[0;36m0\u001b[0m\u001b[0;34m,\u001b[0m\u001b[0;36m3\u001b[0m\u001b[0;34m,\u001b[0m\u001b[0;36m5\u001b[0m\u001b[0;34m,\u001b[0m\u001b[0;36m8\u001b[0m\u001b[0;34m]\u001b[0m\u001b[0;34m:\u001b[0m\u001b[0;34m\u001b[0m\u001b[0;34m\u001b[0m\u001b[0m\n\u001b[0;32m---> 43\u001b[0;31m                         \u001b[0mpoked_correctR\u001b[0m\u001b[0;34m.\u001b[0m\u001b[0mappend\u001b[0m\u001b[0;34m(\u001b[0m\u001b[0;36m0\u001b[0m\u001b[0;34m)\u001b[0m\u001b[0;34m\u001b[0m\u001b[0;34m\u001b[0m\u001b[0m\n\u001b[0m\u001b[1;32m     44\u001b[0m                         \u001b[0mtdict\u001b[0m\u001b[0;34m[\u001b[0m\u001b[0mt_str\u001b[0m\u001b[0;34m]\u001b[0m\u001b[0;34m.\u001b[0m\u001b[0mappend\u001b[0m\u001b[0;34m(\u001b[0m\u001b[0;36m0\u001b[0m\u001b[0;34m)\u001b[0m\u001b[0;34m\u001b[0m\u001b[0;34m\u001b[0m\u001b[0m\n\u001b[1;32m     45\u001b[0m                         \u001b[0mallR_dict\u001b[0m\u001b[0;34m[\u001b[0m\u001b[0msubject_id\u001b[0m\u001b[0;34m]\u001b[0m\u001b[0;34m[\u001b[0m\u001b[0mt_str\u001b[0m\u001b[0;34m]\u001b[0m\u001b[0;34m.\u001b[0m\u001b[0mappend\u001b[0m\u001b[0;34m(\u001b[0m\u001b[0;36m0\u001b[0m\u001b[0;34m)\u001b[0m\u001b[0;34m\u001b[0m\u001b[0;34m\u001b[0m\u001b[0m\n",
      "\u001b[0;31mNameError\u001b[0m: name 'poked_correctR' is not defined"
     ]
    }
   ],
   "source": [
    "probe_trial_outcomes(dat_dict)"
   ]
  },
  {
   "cell_type": "code",
   "execution_count": null,
   "metadata": {},
   "outputs": [],
   "source": []
  },
  {
   "cell_type": "code",
   "execution_count": 11,
   "metadata": {},
   "outputs": [],
   "source": [
    "def probe_trial_outcomes(dat_dict,task_number=0,bin_mult=1000,window_s=1.,t_dict=None):\n",
    "    \"\"\" In this notebook track the outcome of probe trials \"\"\"\n",
    "    \n",
    "    if t_dict is None: tdict = get_empty_transition_dict(n_tasks=0)\n",
    "\n",
    "    probe_ixs = np.where(np.array([i[-1] for i in dat_dict['port']]))[0]\n",
    "    \n",
    "    \n",
    "    for ix in probe_ixs:\n",
    "        \n",
    "        \n",
    "        probeT = int(dat_dict['port'][ix][-2]*bin_mult) #timestamp of probe trial\n",
    "    \n",
    "        #target and stuff defined in terms of pokes\n",
    "        prevPk = dat_dict['port'][ix][0]; target = dat_dict['port'][ix][1]\n",
    "        \n",
    "        t_str = str(prevPk) + str(target)\n",
    "\n",
    "\n",
    "        #these are pokes in window before light comes on\n",
    "        inprobe_Pkixs = np.where((inPoke_t>probeT) *(inPoke_t<(probeT+(window_s*bin_mult))))[0]\n",
    "\n",
    "        poked_correctR = []; poked_correctNR = []; poked_correct = []; poked_in_probe = []\n",
    "        if len(inprobe_Pkixs)>0:\n",
    "\n",
    "            #use2 = [i for i in inPokes[ixs] if i!=prevPk]\n",
    "            use2 = inPokes.copy()[inprobe_Pkixs]\n",
    "            if len(use2)>0:\n",
    "\n",
    "                if target in inPokes[inprobe_Pkixs]:\n",
    "                    if target in [0,3,5,8]:\n",
    "                        poked_correctR.append(1)\n",
    "                        tdict[t_str].append(1)\n",
    "                        allR_dict[subject_id][t_str+'_'].append(1)\n",
    "                    else:\n",
    "                        poked_correctNR.append(1)\n",
    "                        tdict[t_str].append(1)\n",
    "                        allR_dict[subject_id][t_str].append(1)\n",
    "                    poked_correct.append(1)\n",
    "                else:\n",
    "                    if target in [0,3,5,8]:\n",
    "                        poked_correctR.append(0)\n",
    "                        tdict[t_str].append(0)\n",
    "                        allR_dict[subject_id][t_str].append(0)\n",
    "                    else:\n",
    "                        poked_correctNR.append(0)\n",
    "                        tdict[t_str].append(0)\n",
    "                        allR_dict[subject_id][t_str].append(0)\n",
    "                    poked_correct.append(0)\n",
    "\n",
    "            else:\n",
    "                allR_dict[subject_id][t_str].append(0)\n",
    "\n",
    "            poked_in_probe.append(1)\n",
    "        else:\n",
    "            if target in [0,3,5,8]:\n",
    "                poked_correctR.append(0)\n",
    "            else:\n",
    "                poked_correctNR.append(0)\n",
    "\n",
    "            poked_in_probe.append(0)\n",
    "            #tdict[t_str].append(0)\n",
    "            allR_dict[subject_id][t_str].append(0)\n",
    "            \n",
    "    return poked_correctR, poked_correctNR, t_dict"
   ]
  },
  {
   "cell_type": "code",
   "execution_count": 10,
   "metadata": {},
   "outputs": [],
   "source": [
    "def get_empty_transition_dict(n_nodes=9,n_tasks=2):\n",
    "    tmp1 = [str(i[1])+str(i[-2]) for i in list(itertools.combinations(range(n_nodes),2))]\n",
    "    tmp1.extend([i[::-1] for i in tmp1])\n",
    "\n",
    "    if n_tasks==0:\n",
    "        tmp = tmp1\n",
    "    else:\n",
    "        tmp = []\n",
    "        for tNr in range(1,1+n_tasks):\n",
    "            tmp.extend([i+'_'+str(tNr) for i in tmp1])\n",
    "\n",
    "    res_dct = {}\n",
    "    for i in tmp:\n",
    "        res_dct[i] = []\n",
    "    return res_dct"
   ]
  },
  {
   "cell_type": "code",
   "execution_count": null,
   "metadata": {},
   "outputs": [],
   "source": []
  },
  {
   "cell_type": "code",
   "execution_count": null,
   "metadata": {},
   "outputs": [],
   "source": []
  }
 ],
 "metadata": {
  "kernelspec": {
   "display_name": "Python 3",
   "language": "python",
   "name": "python3"
  },
  "language_info": {
   "codemirror_mode": {
    "name": "ipython",
    "version": 3
   },
   "file_extension": ".py",
   "mimetype": "text/x-python",
   "name": "python",
   "nbconvert_exporter": "python",
   "pygments_lexer": "ipython3",
   "version": "3.7.4"
  }
 },
 "nbformat": 4,
 "nbformat_minor": 2
}
