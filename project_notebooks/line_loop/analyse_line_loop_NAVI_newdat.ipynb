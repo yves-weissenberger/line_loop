{
 "cells": [
  {
   "cell_type": "markdown",
   "metadata": {},
   "source": [
    "# First pass analysis of line/loop data\n",
    "\n",
    "<ul>\n",
    "    <li> Analyse correct sequence lengths. </li>\n",
    "    <li> Do reaction times </li>\n",
    "    <li> Analyse as a function of distance from reward </li>\n",
    "    <li> Try to fit RL model to these data </li> \n",
    "    \n",
    "</ul>\n",
    "\n",
    "<b> WHY IS THERE A DIFFERENCE BETWEEN REW_LIST AND DAT_DICT['STATE'] </b>"
   ]
  },
  {
   "cell_type": "code",
   "execution_count": 4,
   "metadata": {},
   "outputs": [],
   "source": [
    "%matplotlib inline\n",
    "import numpy as np\n",
    "import scipy as sp\n",
    "import pandas as pd\n",
    "import matplotlib.pyplot as plt\n",
    "import matplotlib\n",
    "import seaborn\n",
    "import scipy.stats as stt\n",
    "seaborn.set(font_scale=1.5,style='ticks')\n",
    "import os\n",
    "import re\n",
    "import sys\n",
    "import itertools\n",
    "import functools\n",
    "import networkx as nx\n",
    "from datetime import date, timedelta\n",
    "from datetime import datetime\n",
    "\n",
    "sys.path.append(r\"C:\\Users\\yweissenberger\\Documents\\code\\line_loop-master\")\n",
    "sys.path.append(r\"C:\\Users\\yweissenberger\\Documents\\code\\line_loop-master\\packages\")\n",
    "sys.path.append(\"/Users/yves/Documents/Code/line_loop/packages/\")"
   ]
  },
  {
   "cell_type": "code",
   "execution_count": 5,
   "metadata": {},
   "outputs": [],
   "source": [
    "import mouse_poker as mpk"
   ]
  },
  {
   "cell_type": "markdown",
   "metadata": {},
   "source": [
    "# Defined functions "
   ]
  },
  {
   "cell_type": "code",
   "execution_count": 6,
   "metadata": {},
   "outputs": [],
   "source": [
    "poke_pos = [ [149,0],\n",
    "         [68,19],[231,19],\n",
    "       [0,62],[149,62],[298,62],\n",
    "         [68,105],[231,105],\n",
    "              [149,124]]"
   ]
  },
  {
   "cell_type": "code",
   "execution_count": null,
   "metadata": {},
   "outputs": [],
   "source": []
  },
  {
   "cell_type": "code",
   "execution_count": 7,
   "metadata": {},
   "outputs": [],
   "source": [
    "def get_poke_to_state_map(lines):\n",
    "    \"\"\" \"\"\"\n",
    "    tmp = []\n",
    "    for i,j in zip([int(re.findall('POKEDPORT_([0-9])',i)[0]) for i in lines if '_POKEDPORT' in i],\n",
    "                         [int(re.findall('POKEDSTATE_([0-9])',i)[0]) for i in lines if '_POKEDSTATE' in i]):\n",
    "\n",
    "        if [i,j] not in tmp:\n",
    "            tmp.append([i,j])\n",
    "    poke_to_state_map = [i[1] for i in sorted(tmp)]\n",
    "    return poke_to_state_map,tmp"
   ]
  },
  {
   "cell_type": "code",
   "execution_count": 8,
   "metadata": {},
   "outputs": [],
   "source": [
    "def map_poke_to_state_fun(pkst_map,poke):\n",
    "    \"i[0] are ports i[1] are states\"\n",
    "    tmp1 = [i[0] for i in pkst_map]\n",
    "    tmp2 = [i[1] for i in pkst_map]\n",
    "    return tmp2[tmp1.index(poke)]\n",
    "\n",
    "\n",
    "def map_state_to_poke_fun(pkst_map,poke):\n",
    "    \"i[0] are ports i[1] are states\"\n",
    "    tmp1 = [i[0] for i in pkst_map]\n",
    "    tmp2 = [i[1] for i in pkst_map]\n",
    "    return tmp1[tmp2.index(poke)]"
   ]
  },
  {
   "cell_type": "code",
   "execution_count": 193,
   "metadata": {},
   "outputs": [],
   "source": [
    "def get_performance(dat_dict,map_poke_to_state,rew_indices,lines,minNrew=5):\n",
    "    \n",
    "    \"\"\" Checked the reward locations \"\"\"\n",
    "\n",
    "    used_states = sorted([i[1] for i in map_poke_to_state.args[0]])\n",
    "    perf = np.zeros([9,9])\n",
    "    perf_ctr = np.zeros([9,9])\n",
    "    rew_hist = []\n",
    "    \n",
    "    for rew_ctr,(st,nd) in enumerate(zip(np.where(dat_dict['rew_list'])[0][:-1]+1,np.where(dat_dict['rew_list'])[0][1:])):\n",
    "        #rew_loc = map_poke_to_state(dat_dict['rews'][rew_ctr][0])\n",
    "        rew_loc = dat_dict['state'][nd][0]\n",
    "        c_rew_index = rew_indices.index(dat_dict['port'][nd][0])\n",
    "\n",
    "        if not rew_hist:\n",
    "            rew_hist.append(rew_loc)\n",
    "        elif rew_loc==rew_hist[-1]:\n",
    "            rew_hist.append(rew_loc)\n",
    "        else:\n",
    "            rew_hist = []\n",
    "        \n",
    "        \n",
    "\n",
    "        if len(rew_hist)>minNrew:\n",
    "            \n",
    "            #print(seq_rews)\n",
    "            has_visited = []\n",
    "\n",
    "            for pk_ctr in range(st,nd):\n",
    "                \n",
    "                if (len(dat_dict['state'][pk_ctr][1])>1) or (dat_dict['state'][pk_ctr][0]==used_states[0] \n",
    "                                                             or dat_dict['state'][pk_ctr][0]==used_states[-1]):\n",
    "                    \n",
    "                    d0 = np.abs(dat_dict['state'][pk_ctr][0]-rew_loc)\n",
    "                    d1 = np.abs(dat_dict['state'][pk_ctr+1][0]-rew_loc)\n",
    "                    #print(dat_dict['state'][pk_ctr],d1<d0,rew_loc)\n",
    "\n",
    "                    state = dat_dict['state'][pk_ctr][0]\n",
    "                    print(state,dat_dict['state'][pk_ctr+1][0],)\n",
    "                    rewarded = dat_dict['rew_list'][pk_ctr]  #if it is rewarded. Offset by 1\n",
    "                    if state not in has_visited:\n",
    "                        if rewarded:\n",
    "                            perf[state,rew_loc] += 1\n",
    "                            perf_ctr[state,rew_loc] += 1\n",
    "\n",
    "                        elif d1<d0:\n",
    "                            perf[state,rew_loc] += 1\n",
    "                            perf_ctr[state,rew_loc] += 1\n",
    "                        else:\n",
    "                            perf[state,rew_loc] += 0\n",
    "                            perf_ctr[state,rew_loc] += 1\n",
    "                        #has_visited.append(state)\n",
    "    #print(np.unique(rew_hist))\n",
    "    \n",
    "    for i in np.unique(rew_hist):\n",
    "        perf[i,i] = np.nan\n",
    "    return perf,perf_ctr"
   ]
  },
  {
   "cell_type": "code",
   "execution_count": null,
   "metadata": {},
   "outputs": [],
   "source": []
  },
  {
   "cell_type": "code",
   "execution_count": null,
   "metadata": {},
   "outputs": [],
   "source": []
  },
  {
   "cell_type": "markdown",
   "metadata": {},
   "source": [
    "# Actual code to run stuff "
   ]
  },
  {
   "cell_type": "code",
   "execution_count": 194,
   "metadata": {},
   "outputs": [
    {
     "name": "stdout",
     "output_type": "stream",
     "text": [
      "rewards_received: 354\n",
      "task_nr:2\n"
     ]
    }
   ],
   "source": [
    "#print(day_df['filepath'].values[ix])\n",
    "#f = open(\"/Users/yves/Documents/behavior_data/line_loop_cohort_1/line_loop_batch_4_RUNNAVI/'456675_3'-2020-12-09-094620.txt\",'r')\n",
    "#f = open(\"/Volumes/hpc_dat/pycontrol/data/line_loop_batch_4_RUNNAVI/'456675_3'-2021-02-12-121633.txt\",'r')\n",
    "f = open(\"/Users/yves/Documents/beh_dat_new_room/line_loop_batch_3NAVI/'460175_10'-2021-03-01-110337.txt\",'r')\n",
    "#f = open(\"C:/Users/yweissenberger/Documents/pycontrol_newest_10_02_21/data/line_loop_batch_3NAVI/'456675_10'-2021-03-04-105905.txt\",'r')\n",
    "##f =open(\"C:/Users/yweissenberger/Documents/pycontrol_newest_10_02_21/data/line_loop_batch_3NAVI_toLOOP/\",'r')\n",
    "#f = open(\"/Users/yves/Documents/beh_dat_new_room/line_loop_batch_3NAVI_toLOOP/'460175_10'-2021-03-04-154221.txt\")\n",
    "lines =f.readlines()\n",
    "experiment_name, task_name, subject_id, task_nr, graph,lineloop,date,test,_ = mpk.load.get_metadata(lines)\n",
    "dat_dict,events,event_times,nRews,_ = mpk.load.parse_data(lines,experiment_name)\n",
    "\n",
    "print(\"rewards_received: {:d}\".format(nRews))\n",
    "print('task_nr:{:.0f}'.format(int(task_nr)))"
   ]
  },
  {
   "cell_type": "code",
   "execution_count": null,
   "metadata": {
    "scrolled": true
   },
   "outputs": [],
   "source": []
  },
  {
   "cell_type": "code",
   "execution_count": null,
   "metadata": {},
   "outputs": [],
   "source": []
  },
  {
   "cell_type": "code",
   "execution_count": 195,
   "metadata": {},
   "outputs": [],
   "source": [
    "state_seq = [i[0] for i in dat_dict['state']]\n",
    "poke_seq = [map_state_to_poke(i) for i in state_seq]\n",
    "#dat_dict['rews']"
   ]
  },
  {
   "cell_type": "code",
   "execution_count": null,
   "metadata": {},
   "outputs": [],
   "source": []
  },
  {
   "cell_type": "code",
   "execution_count": null,
   "metadata": {},
   "outputs": [],
   "source": []
  },
  {
   "cell_type": "code",
   "execution_count": 196,
   "metadata": {},
   "outputs": [],
   "source": [
    "poke_to_state_map,full_pkst_map = get_poke_to_state_map(lines)\n",
    "used_states = sorted([i[1] for i in full_pkst_map])\n",
    "used_pokes = ([i[0] for i in full_pkst_map])\n",
    "\n",
    "map_poke_to_state = functools.partial(map_poke_to_state_fun,full_pkst_map)\n",
    "map_state_to_poke = functools.partial(map_state_to_poke_fun,full_pkst_map)\n",
    "\n",
    "#rew_indices = [0,3,5,8]\n",
    "rew_indices = np.unique([eval(re.findall('REWARD LOCATIONS(\\[.*\\])',l)[0]) for l in lines if re.findall('REWARD LOCATIONS(\\[.*\\])',l)][0]).tolist()\n"
   ]
  },
  {
   "cell_type": "code",
   "execution_count": 197,
   "metadata": {},
   "outputs": [
    {
     "name": "stdout",
     "output_type": "stream",
     "text": [
      "7 6\n",
      "6 5\n",
      "5 6\n",
      "6 5\n",
      "5 6\n",
      "6 5\n",
      "5 6\n",
      "6 5\n",
      "5 4\n",
      "4 5\n",
      "4 5\n",
      "5 6\n",
      "6 5\n",
      "5 6\n",
      "6 5\n",
      "5 4\n",
      "4 5\n",
      "5 6\n",
      "6 7\n",
      "7 6\n",
      "5 6\n",
      "6 7\n",
      "7 8\n",
      "4 5\n",
      "5 6\n",
      "6 5\n",
      "5 6\n",
      "6 7\n",
      "7 8\n",
      "6 5\n",
      "5 6\n",
      "6 5\n",
      "5 6\n",
      "6 5\n",
      "5 4\n",
      "4 3\n",
      "3 4\n",
      "4 5\n",
      "5 4\n",
      "5 6\n",
      "6 5\n",
      "5 6\n",
      "6 7\n",
      "7 8\n",
      "5 6\n",
      "6 7\n",
      "7 8\n",
      "6 5\n",
      "5 6\n",
      "6 7\n",
      "7 8\n",
      "5 4\n",
      "4 3\n",
      "3 4\n",
      "4 5\n",
      "5 6\n",
      "6 7\n",
      "7 8\n",
      "5 4\n",
      "4 5\n",
      "5 4\n",
      "4 5\n",
      "5 6\n",
      "6 5\n",
      "5 4\n",
      "4 3\n",
      "3 4\n",
      "4 5\n",
      "3 4\n",
      "4 5\n",
      "5 6\n",
      "6 5\n",
      "5 6\n",
      "6 5\n",
      "5 4\n",
      "4 3\n",
      "3 4\n",
      "4 5\n",
      "4 3\n",
      "3 4\n",
      "4 5\n",
      "5 4\n",
      "4 3\n",
      "3 4\n",
      "4 3\n",
      "3 4\n",
      "4 3\n",
      "3 4\n",
      "5 6\n",
      "6 5\n",
      "5 6\n",
      "6 5\n",
      "5 4\n",
      "4 3\n",
      "3 4\n",
      "4 3\n",
      "3 4\n",
      "4 5\n",
      "5 6\n",
      "6 7\n",
      "7 8\n",
      "4 5\n",
      "5 6\n",
      "6 5\n",
      "5 6\n",
      "6 7\n",
      "7 8\n",
      "4 5\n",
      "5 6\n",
      "6 5\n",
      "5 6\n",
      "6 7\n",
      "7 8\n",
      "5 6\n",
      "6 7\n",
      "7 8\n",
      "5 6\n",
      "6 5\n",
      "5 6\n",
      "6 7\n",
      "7 8\n",
      "5 6\n",
      "6 7\n",
      "7 8\n",
      "5 6\n",
      "6 7\n",
      "7 8\n",
      "5 6\n",
      "6 7\n",
      "7 8\n",
      "6 5\n",
      "5 6\n",
      "6 5\n",
      "5 6\n",
      "6 7\n",
      "7 8\n",
      "8 7\n",
      "7 6\n",
      "6 5\n",
      "5 6\n",
      "7 6\n",
      "6 5\n",
      "5 6\n",
      "6 5\n",
      "5 6\n",
      "6 7\n",
      "7 8\n",
      "8 7\n",
      "7 6\n",
      "6 5\n",
      "5 6\n",
      "6 7\n",
      "7 8\n",
      "8 7\n",
      "7 6\n",
      "6 5\n",
      "5 4\n",
      "4 3\n",
      "6 5\n",
      "5 4\n",
      "4 3\n",
      "6 5\n",
      "5 4\n",
      "4 3\n",
      "4 3\n",
      "4 3\n",
      "5 4\n",
      "4 3\n",
      "4 3\n",
      "5 6\n",
      "6 5\n",
      "5 4\n",
      "4 3\n",
      "7 8\n",
      "8 7\n",
      "7 8\n",
      "8 7\n",
      "7 8\n",
      "8 7\n",
      "7 6\n",
      "6 5\n",
      "5 4\n",
      "4 3\n",
      "4 3\n",
      "6 5\n",
      "5 4\n",
      "4 3\n",
      "6 7\n",
      "7 8\n",
      "8 7\n",
      "7 6\n",
      "6 5\n",
      "5 4\n",
      "4 3\n",
      "6 5\n",
      "5 4\n",
      "4 3\n",
      "5 4\n",
      "4 3\n",
      "4 3\n",
      "6 5\n",
      "5 4\n",
      "4 3\n",
      "5 6\n",
      "6 5\n",
      "5 4\n",
      "4 3\n",
      "5 4\n",
      "4 3\n",
      "4 5\n",
      "5 4\n",
      "4 3\n",
      "6 5\n",
      "5 4\n",
      "6 5\n",
      "5 6\n",
      "6 5\n",
      "5 4\n",
      "6 5\n",
      "5 4\n",
      "6 5\n",
      "5 4\n",
      "7 8\n",
      "8 7\n",
      "7 8\n",
      "8 7\n",
      "7 6\n",
      "6 5\n",
      "5 4\n",
      "7 6\n",
      "6 5\n",
      "5 4\n",
      "5 4\n",
      "6 5\n",
      "5 4\n",
      "6 5\n",
      "5 4\n",
      "5 4\n",
      "6 5\n",
      "5 4\n",
      "7 8\n",
      "8 7\n",
      "7 6\n",
      "6 5\n",
      "5 4\n",
      "7 6\n",
      "6 5\n",
      "5 4\n",
      "5 4\n",
      "7 6\n",
      "6 5\n",
      "5 4\n",
      "7 6\n",
      "6 5\n",
      "5 4\n",
      "6 5\n",
      "5 4\n",
      "7 6\n",
      "6 5\n",
      "5 4\n",
      "5 4\n",
      "6 5\n",
      "5 4\n",
      "7 6\n",
      "6 5\n",
      "5 4\n",
      "5 6\n",
      "6 5\n",
      "5 6\n",
      "6 7\n",
      "5 6\n",
      "6 7\n",
      "4 3\n",
      "3 4\n",
      "4 5\n",
      "5 4\n",
      "4 3\n",
      "3 4\n",
      "4 5\n",
      "5 4\n",
      "4 3\n",
      "3 4\n",
      "6 7\n",
      "4 5\n",
      "5 6\n",
      "6 7\n",
      "6 7\n",
      "4 5\n",
      "5 6\n",
      "6 7\n",
      "5 6\n",
      "6 7\n",
      "6 7\n",
      "5 6\n",
      "6 7\n",
      "4 5\n",
      "5 4\n",
      "4 5\n",
      "5 6\n",
      "6 7\n",
      "6 7\n",
      "4 5\n",
      "5 4\n",
      "4 5\n",
      "5 6\n",
      "6 7\n",
      "3 4\n",
      "4 3\n",
      "3 4\n",
      "4 3\n",
      "3 4\n",
      "4 3\n",
      "3 4\n",
      "4 5\n",
      "5 6\n",
      "6 7\n",
      "3 4\n",
      "4 5\n",
      "5 6\n",
      "6 7\n",
      "4 5\n",
      "5 4\n",
      "4 3\n",
      "3 4\n",
      "4 5\n",
      "5 6\n",
      "6 5\n",
      "5 4\n",
      "4 3\n",
      "3 4\n",
      "5 6\n",
      "6 7\n",
      "5 6\n",
      "6 7\n",
      "6 7\n",
      "4 5\n",
      "5 6\n",
      "6 7\n",
      "5 4\n",
      "4 5\n",
      "5 6\n",
      "6 7\n",
      "5 6\n",
      "6 7\n",
      "4 5\n",
      "5 4\n",
      "4 5\n",
      "5 6\n",
      "6 7\n",
      "7 8\n",
      "8 7\n",
      "7 6\n",
      "6 5\n",
      "5 6\n",
      "6 7\n",
      "7 8\n",
      "8 7\n",
      "7 6\n",
      "6 5\n",
      "6 5\n",
      "5 4\n",
      "4 3\n",
      "7 6\n",
      "6 5\n",
      "5 6\n",
      "6 7\n",
      "7 8\n",
      "8 7\n",
      "7 6\n",
      "6 5\n",
      "5 6\n",
      "6 7\n",
      "8 7\n",
      "7 6\n",
      "6 7\n",
      "7 8\n",
      "8 7\n",
      "7 6\n",
      "6 5\n",
      "5 4\n",
      "4 3\n",
      "6 5\n",
      "5 6\n",
      "6 7\n",
      "7 6\n",
      "6 5\n",
      "5 4\n",
      "4 5\n",
      "5 4\n",
      "4 5\n",
      "5 4\n",
      "6 5\n",
      "5 4\n",
      "4 3\n",
      "6 5\n",
      "5 6\n",
      "6 5\n",
      "5 4\n",
      "4 3\n",
      "6 7\n",
      "7 8\n",
      "8 7\n",
      "7 6\n",
      "6 5\n",
      "5 6\n",
      "6 5\n",
      "5 4\n",
      "4 3\n",
      "6 7\n",
      "7 6\n",
      "6 5\n",
      "5 4\n",
      "4 3\n",
      "6 5\n",
      "5 4\n",
      "4 3\n",
      "7 6\n",
      "6 5\n",
      "5 4\n",
      "4 3\n",
      "6 5\n",
      "5 4\n",
      "4 3\n",
      "6 5\n",
      "5 4\n",
      "4 3\n",
      "4 3\n",
      "6 5\n",
      "5 4\n",
      "4 3\n",
      "4 3\n",
      "5 4\n",
      "4 3\n",
      "8 7\n",
      "7 6\n",
      "6 5\n",
      "5 4\n",
      "4 3\n",
      "6 5\n",
      "5 4\n",
      "4 3\n",
      "7 8\n",
      "8 7\n",
      "7 6\n",
      "6 5\n",
      "5 4\n",
      "4 3\n",
      "5 4\n",
      "4 3\n",
      "6 5\n",
      "5 4\n",
      "4 3\n",
      "5 4\n",
      "4 3\n",
      "6 5\n",
      "5 4\n",
      "7 8\n",
      "8 7\n",
      "7 6\n",
      "6 5\n",
      "5 4\n",
      "7 6\n",
      "6 5\n",
      "5 4\n",
      "6 5\n",
      "5 4\n",
      "6 5\n",
      "5 4\n",
      "7 8\n",
      "8 7\n",
      "7 6\n",
      "6 5\n",
      "5 4\n",
      "7 8\n",
      "8 7\n",
      "7 6\n",
      "6 5\n",
      "5 4\n",
      "6 5\n",
      "5 4\n",
      "5 4\n",
      "5 4\n",
      "7 6\n",
      "6 5\n",
      "5 4\n",
      "5 4\n",
      "7 6\n",
      "6 5\n",
      "5 4\n",
      "6 5\n",
      "5 4\n",
      "5 4\n",
      "6 5\n",
      "5 4\n",
      "6 5\n",
      "5 4\n",
      "7 8\n",
      "8 7\n",
      "7 6\n",
      "6 5\n",
      "5 4\n",
      "5 6\n",
      "6 5\n",
      "5 4\n",
      "5 6\n",
      "6 5\n",
      "5 4\n",
      "7 6\n",
      "6 5\n",
      "5 4\n",
      "6 5\n",
      "5 4\n",
      "7 8\n",
      "8 7\n",
      "7 6\n",
      "6 5\n",
      "5 4\n",
      "6 5\n",
      "5 4\n",
      "7 8\n",
      "8 7\n",
      "7 8\n",
      "8 7\n",
      "7 8\n",
      "8 7\n",
      "7 6\n",
      "6 5\n",
      "5 4\n",
      "6 5\n",
      "5 4\n",
      "6 5\n",
      "5 6\n",
      "6 5\n",
      "5 4\n",
      "6 5\n",
      "5 4\n",
      "7 6\n",
      "6 5\n",
      "5 4\n",
      "7 6\n",
      "6 5\n",
      "5 4\n",
      "6 5\n",
      "5 4\n",
      "7 6\n",
      "4 5\n",
      "5 4\n",
      "4 5\n",
      "5 6\n",
      "7 6\n",
      "7 6\n",
      "4 5\n",
      "5 6\n",
      "7 6\n",
      "5 4\n",
      "4 5\n",
      "5 4\n",
      "4 5\n",
      "5 4\n",
      "4 5\n",
      "5 4\n",
      "4 3\n",
      "3 4\n",
      "4 5\n",
      "5 6\n",
      "5 6\n",
      "7 6\n",
      "5 6\n",
      "4 5\n",
      "5 6\n",
      "5 6\n",
      "5 6\n",
      "7 8\n",
      "8 7\n",
      "7 6\n",
      "7 6\n",
      "4 5\n",
      "5 6\n",
      "5 6\n",
      "5 6\n",
      "4 5\n",
      "5 6\n",
      "5 6\n",
      "7 8\n",
      "8 7\n",
      "7 6\n",
      "7 8\n",
      "8 7\n",
      "7 6\n",
      "7 8\n",
      "8 7\n",
      "7 8\n",
      "8 7\n",
      "7 6\n",
      "4 5\n",
      "5 6\n",
      "4 3\n",
      "7 8\n",
      "8 7\n",
      "7 8\n",
      "8 7\n",
      "7 6\n",
      "6 5\n",
      "5 6\n",
      "6 5\n",
      "5 6\n",
      "6 7\n",
      "7 8\n",
      "8 7\n",
      "7 6\n",
      "6 5\n",
      "5 4\n",
      "4 3\n",
      "6 5\n",
      "5 4\n",
      "4 3\n",
      "4 3\n",
      "7 6\n",
      "6 5\n",
      "5 4\n",
      "4 3\n",
      "5 4\n",
      "4 3\n",
      "4 3\n",
      "6 5\n",
      "5 4\n",
      "4 3\n",
      "5 4\n",
      "4 3\n",
      "4 3\n",
      "6 5\n",
      "5 4\n",
      "4 3\n",
      "6 5\n",
      "5 4\n",
      "4 3\n",
      "7 8\n",
      "8 7\n",
      "7 8\n",
      "8 7\n",
      "7 6\n",
      "6 5\n",
      "5 4\n",
      "4 3\n",
      "6 5\n",
      "5 4\n",
      "4 3\n",
      "7 6\n",
      "6 5\n",
      "5 4\n",
      "4 3\n",
      "4 3\n",
      "7 6\n",
      "6 5\n",
      "5 4\n",
      "4 3\n",
      "6 5\n",
      "5 4\n",
      "4 3\n",
      "4 3\n",
      "7 6\n",
      "6 5\n",
      "5 4\n",
      "4 3\n",
      "6 5\n",
      "5 4\n",
      "4 3\n",
      "4 3\n",
      "4 3\n",
      "6 5\n",
      "7 8\n",
      "8 7\n",
      "7 6\n",
      "6 5\n",
      "7 6\n",
      "6 5\n",
      "6 5\n",
      "7 6\n",
      "6 5\n",
      "4 3\n",
      "3 4\n",
      "4 3\n",
      "3 4\n",
      "4 3\n",
      "3 4\n",
      "4 3\n",
      "3 4\n",
      "4 3\n",
      "3 4\n",
      "4 3\n",
      "3 4\n",
      "4 3\n",
      "3 4\n",
      "4 3\n",
      "3 4\n",
      "4 3\n",
      "3 4\n",
      "4 3\n",
      "3 4\n",
      "4 3\n",
      "3 4\n",
      "4 3\n",
      "3 4\n",
      "4 5\n",
      "7 6\n",
      "6 5\n",
      "7 6\n",
      "6 5\n",
      "7 6\n",
      "6 5\n",
      "4 3\n",
      "3 4\n",
      "4 5\n",
      "7 6\n",
      "6 5\n",
      "4 3\n",
      "3 4\n",
      "4 3\n",
      "3 4\n",
      "4 3\n",
      "3 4\n",
      "4 5\n",
      "7 6\n",
      "6 5\n",
      "7 8\n",
      "8 7\n",
      "7 8\n",
      "8 7\n",
      "7 6\n",
      "6 5\n",
      "7 6\n",
      "6 5\n",
      "6 5\n",
      "6 5\n",
      "6 5\n",
      "7 8\n",
      "8 7\n",
      "7 6\n",
      "6 5\n",
      "6 5\n",
      "6 5\n",
      "6 5\n",
      "4 3\n",
      "4 5\n",
      "5 6\n",
      "6 5\n",
      "5 4\n",
      "4 3\n",
      "6 5\n",
      "5 4\n",
      "4 3\n",
      "7 6\n",
      "6 5\n",
      "5 6\n",
      "6 5\n",
      "5 4\n",
      "4 3\n",
      "7 6\n",
      "6 5\n",
      "5 4\n",
      "4 3\n",
      "6 5\n",
      "5 4\n",
      "4 3\n",
      "7 6\n",
      "6 5\n",
      "5 4\n",
      "4 3\n",
      "7 6\n",
      "6 5\n",
      "5 4\n",
      "4 3\n",
      "7 6\n",
      "6 5\n",
      "5 4\n",
      "4 3\n",
      "4 3\n",
      "5 4\n",
      "4 3\n",
      "5 4\n",
      "4 3\n",
      "5 6\n",
      "6 5\n",
      "5 4\n",
      "4 3\n",
      "5 6\n",
      "6 5\n",
      "5 4\n",
      "4 3\n",
      "6 5\n",
      "5 4\n",
      "4 3\n",
      "6 5\n",
      "5 4\n",
      "4 3\n",
      "4 3\n",
      "5 4\n",
      "4 3\n",
      "5 4\n",
      "4 3\n",
      "4 3\n",
      "7 8\n",
      "8 7\n",
      "7 6\n",
      "6 5\n",
      "5 4\n",
      "4 3\n",
      "7 6\n",
      "6 5\n",
      "5 4\n",
      "4 3\n",
      "4 3\n",
      "6 5\n",
      "5 6\n",
      "6 5\n",
      "5 6\n",
      "6 7\n",
      "4 3\n",
      "3 4\n",
      "4 3\n",
      "3 4\n",
      "4 3\n",
      "3 4\n",
      "4 5\n",
      "5 4\n",
      "4 3\n",
      "3 4\n",
      "4 3\n",
      "3 4\n",
      "4 5\n",
      "5 4\n",
      "4 3\n",
      "3 4\n",
      "4 5\n",
      "5 4\n",
      "4 3\n",
      "3 4\n",
      "4 5\n",
      "5 4\n",
      "4 3\n",
      "3 4\n",
      "4 5\n",
      "5 6\n",
      "6 7\n",
      "4 5\n",
      "5 4\n",
      "4 3\n",
      "3 4\n",
      "4 3\n",
      "3 4\n",
      "4 5\n",
      "5 4\n",
      "4 3\n",
      "3 4\n",
      "4 5\n",
      "5 6\n",
      "6 7\n",
      "5 6\n",
      "6 5\n",
      "5 6\n",
      "6 7\n",
      "5 6\n",
      "6 7\n",
      "4 5\n",
      "5 6\n",
      "6 7\n",
      "5 6\n",
      "6 7\n",
      "5 6\n",
      "6 7\n",
      "4 5\n",
      "5 4\n",
      "4 5\n",
      "5 6\n",
      "6 7\n",
      "6 7\n",
      "4 3\n",
      "3 4\n",
      "4 5\n",
      "5 6\n",
      "6 7\n",
      "4 5\n",
      "5 6\n",
      "6 7\n",
      "5 4\n",
      "4 3\n",
      "3 4\n",
      "4 5\n",
      "5 6\n",
      "6 7\n",
      "6 5\n",
      "5 6\n",
      "6 7\n",
      "4 3\n",
      "3 4\n",
      "4 3\n",
      "3 4\n",
      "4 5\n",
      "5 6\n",
      "6 7\n",
      "4 5\n",
      "5 6\n",
      "6 7\n",
      "4 5\n",
      "5 6\n",
      "6 5\n",
      "5 6\n",
      "6 7\n",
      "4 5\n",
      "5 6\n",
      "6 7\n",
      "4 5\n",
      "5 6\n",
      "6 7\n",
      "5 6\n",
      "6 7\n",
      "4 5\n",
      "5 6\n",
      "6 7\n",
      "5 6\n",
      "7 6\n",
      "5 6\n",
      "7 6\n",
      "5 6\n",
      "4 5\n",
      "5 6\n",
      "5 6\n",
      "4 3\n",
      "3 4\n",
      "4 3\n",
      "3 4\n",
      "4 5\n",
      "5 6\n",
      "5 6\n",
      "7 6\n",
      "7 6\n",
      "7 6\n",
      "7 8\n",
      "8 7\n",
      "7 6\n",
      "5 6\n",
      "5 6\n",
      "7 8\n",
      "8 7\n",
      "7 8\n",
      "8 7\n",
      "7 6\n",
      "5 6\n",
      "7 8\n",
      "8 7\n",
      "7 6\n",
      "4 3\n",
      "3 4\n",
      "4 5\n",
      "5 6\n",
      "7 8\n",
      "8 7\n",
      "7 8\n",
      "8 7\n",
      "7 8\n",
      "8 7\n",
      "7 6\n",
      "5 6\n",
      "5 6\n",
      "6 5\n",
      "5 4\n",
      "7 6\n",
      "6 5\n",
      "5 6\n",
      "6 7\n",
      "7 8\n",
      "8 7\n",
      "7 8\n",
      "8 7\n",
      "7 8\n",
      "8 7\n",
      "7 8\n",
      "8 7\n",
      "7 6\n",
      "6 5\n",
      "5 4\n",
      "7 6\n",
      "6 5\n",
      "5 4\n",
      "6 5\n",
      "5 6\n",
      "6 5\n",
      "5 4\n",
      "5 6\n",
      "6 5\n",
      "5 4\n",
      "6 5\n",
      "5 4\n",
      "5 4\n",
      "6 5\n",
      "5 4\n",
      "5 4\n",
      "5 4\n",
      "7 8\n",
      "8 7\n",
      "7 8\n",
      "8 7\n",
      "7 6\n",
      "6 5\n",
      "5 4\n",
      "6 5\n",
      "5 4\n",
      "6 5\n",
      "5 4\n",
      "5 4\n",
      "7 8\n",
      "8 7\n",
      "7 6\n",
      "6 5\n",
      "5 4\n",
      "6 5\n",
      "5 4\n",
      "5 4\n",
      "6 5\n",
      "5 4\n",
      "6 5\n",
      "5 4\n",
      "5 4\n",
      "5 4\n",
      "7 6\n",
      "6 5\n",
      "5 4\n",
      "6 5\n",
      "5 4\n",
      "6 5\n",
      "5 4\n",
      "7 6\n",
      "6 5\n",
      "5 4\n",
      "4 3\n",
      "3 4\n",
      "4 5\n",
      "7 6\n",
      "6 5\n",
      "7 6\n",
      "6 5\n",
      "6 5\n",
      "4 3\n",
      "3 4\n",
      "4 5\n",
      "4 5\n",
      "4 5\n",
      "4 5\n",
      "7 6\n",
      "6 5\n",
      "4 5\n",
      "7 8\n",
      "8 7\n",
      "7 6\n",
      "6 5\n",
      "7 6\n",
      "6 5\n",
      "4 3\n",
      "3 4\n",
      "4 5\n",
      "7 8\n",
      "8 7\n",
      "7 6\n",
      "6 5\n",
      "7 8\n",
      "8 7\n",
      "7 6\n",
      "6 5\n",
      "8 7\n",
      "7 6\n",
      "6 5\n",
      "4 3\n",
      "3 4\n",
      "4 5\n",
      "6 5\n",
      "4 5\n",
      "6 5\n",
      "6 5\n",
      "4 3\n",
      "3 4\n",
      "4 5\n",
      "7 6\n",
      "6 5\n",
      "7 6\n",
      "6 5\n",
      "4 3\n",
      "3 4\n",
      "4 3\n",
      "3 4\n",
      "4 5\n",
      "6 5\n",
      "7 8\n",
      "8 7\n",
      "7 6\n",
      "6 5\n",
      "7 6\n",
      "6 5\n",
      "5 4\n",
      "7 8\n",
      "8 7\n",
      "7 8\n",
      "8 7\n",
      "7 6\n",
      "6 5\n",
      "5 6\n",
      "6 5\n",
      "5 4\n",
      "6 5\n",
      "5 4\n",
      "6 5\n",
      "5 4\n",
      "6 5\n",
      "5 4\n",
      "6 5\n",
      "5 4\n",
      "7 6\n",
      "6 5\n",
      "5 6\n",
      "6 7\n",
      "7 8\n",
      "8 7\n",
      "7 6\n",
      "6 5\n",
      "5 4\n",
      "7 6\n",
      "6 5\n",
      "5 4\n",
      "5 4\n",
      "5 4\n",
      "7 6\n",
      "6 5\n",
      "5 4\n",
      "0.8171981526448395\n"
     ]
    },
    {
     "name": "stderr",
     "output_type": "stream",
     "text": [
      "/Users/yves/opt/anaconda3/lib/python3.7/site-packages/ipykernel_launcher.py:2: RuntimeWarning: invalid value encountered in true_divide\n",
      "  \n"
     ]
    }
   ],
   "source": [
    "perf,perf_ctr = get_performance(dat_dict,map_poke_to_state,rew_indices,lines,minNrew=0)\n",
    "fc = perf/perf_ctr\n",
    "#fc[np.isnan(fc)] = 1\n",
    "print(np.nanmean(fc))"
   ]
  },
  {
   "cell_type": "code",
   "execution_count": 171,
   "metadata": {},
   "outputs": [
    {
     "data": {
      "text/plain": [
       "array([[       nan,        nan,        nan,        nan,        nan,\n",
       "               nan,        nan,        nan,        nan],\n",
       "       [       nan,        nan,        nan,        nan,        nan,\n",
       "               nan,        nan,        nan,        nan],\n",
       "       [       nan,        nan,        nan,        nan,        nan,\n",
       "               nan,        nan,        nan,        nan],\n",
       "       [       nan,        nan,        nan,        nan,        nan,\n",
       "        1.        , 1.        , 1.        , 1.        ],\n",
       "       [       nan,        nan,        nan, 0.95505618,        nan,\n",
       "        0.37837838, 0.77777778, 0.61016949, 0.6       ],\n",
       "       [       nan,        nan,        nan, 0.77272727, 0.90721649,\n",
       "               nan, 0.84375   , 0.71929825, 0.74418605],\n",
       "       [       nan,        nan,        nan, 0.85185185, 0.97435897,\n",
       "        1.        ,        nan, 0.85714286, 0.42857143],\n",
       "       [       nan,        nan,        nan, 0.62745098, 0.60377358,\n",
       "        0.74193548, 0.61290323,        nan, 0.875     ],\n",
       "       [       nan,        nan,        nan, 1.        , 1.        ,\n",
       "        1.        , 1.        ,        nan,        nan]])"
      ]
     },
     "execution_count": 171,
     "metadata": {},
     "output_type": "execute_result"
    }
   ],
   "source": [
    "fc"
   ]
  },
  {
   "cell_type": "code",
   "execution_count": 172,
   "metadata": {},
   "outputs": [
    {
     "data": {
      "text/plain": [
       "array([[ 0.,  0.,  0.,  0.,  0.,  0.,  0.,  0.,  0.],\n",
       "       [ 0.,  0.,  0.,  0.,  0.,  0.,  0.,  0.,  0.],\n",
       "       [ 0.,  0.,  0.,  0.,  0.,  0.,  0.,  0.,  0.],\n",
       "       [ 0.,  0.,  0.,  0.,  0., 23.,  4., 25., 11.],\n",
       "       [ 0.,  0.,  0., 85., nan, 14., 14., 36., 15.],\n",
       "       [ 0.,  0.,  0., 68., 88.,  0., 27., 41., 32.],\n",
       "       [ 0.,  0.,  0., 69., 76., 36.,  0., 42., 15.],\n",
       "       [ 0.,  0.,  0., 32., 32., 23., 19.,  0., 14.],\n",
       "       [ 0.,  0.,  0., 21., 21.,  9., 12.,  0.,  0.]])"
      ]
     },
     "execution_count": 172,
     "metadata": {},
     "output_type": "execute_result"
    }
   ],
   "source": [
    "perf"
   ]
  },
  {
   "cell_type": "code",
   "execution_count": 173,
   "metadata": {
    "scrolled": false
   },
   "outputs": [
    {
     "data": {
      "text/plain": [
       "<matplotlib.colorbar.Colorbar at 0x7f8f287c6f90>"
      ]
     },
     "execution_count": 173,
     "metadata": {},
     "output_type": "execute_result"
    },
    {
     "data": {
      "image/png": "[encoded data removed]",
      "text/plain": [
       "<Figure size 432x288 with 2 Axes>"
      ]
     },
     "metadata": {},
     "output_type": "display_data"
    }
   ],
   "source": [
    "plt.title('Each column is one reward location')\n",
    "rew_diag_mtx = np.dstack([np.eye(perf.shape[0])*-1 + 1]*3 + [np.eye(perf.shape[0])])\n",
    "#fcplot = (perf/perf_ctr)\n",
    "np.fill_diagonal(fc,np.nan)\n",
    "plt.imshow(rew_diag_mtx,cmap='Greys')\n",
    "plt.imshow(fc,vmin=0,vmax=1,cmap='RdBu_r')\n",
    "#plt.xlim(.5,6.5); plt.ylim(6.5,.5)\n",
    "plt.colorbar()"
   ]
  },
  {
   "cell_type": "code",
   "execution_count": null,
   "metadata": {},
   "outputs": [],
   "source": []
  },
  {
   "cell_type": "code",
   "execution_count": 174,
   "metadata": {},
   "outputs": [
    {
     "data": {
      "text/plain": [
       "array([[nan,  0.,  0.,  0.,  0.,  0.,  0.,  0.,  0.],\n",
       "       [ 0., nan,  0.,  0.,  0.,  0.,  0.,  0.,  0.],\n",
       "       [ 0.,  0., nan,  0.,  0.,  0.,  0.,  0.,  0.],\n",
       "       [ 0.,  0.,  0., nan,  0., 23.,  4., 25., 11.],\n",
       "       [ 0.,  0.,  0., 85., nan, 14., 14., 36., 15.],\n",
       "       [ 0.,  0.,  0., 68., 88., nan, 27., 41., 32.],\n",
       "       [ 0.,  0.,  0., 69., 76., 36., nan, 42., 15.],\n",
       "       [ 0.,  0.,  0., 32., 32., 23., 19., nan, 14.],\n",
       "       [ 0.,  0.,  0., 21., 21.,  9., 12.,  0., nan]])"
      ]
     },
     "execution_count": 174,
     "metadata": {},
     "output_type": "execute_result"
    }
   ],
   "source": [
    "np.fill_diagonal(perf,np.nan)\n",
    "perf"
   ]
  },
  {
   "cell_type": "markdown",
   "metadata": {},
   "source": [
    "# Run as batch analysis the above "
   ]
  },
  {
   "cell_type": "code",
   "execution_count": 175,
   "metadata": {},
   "outputs": [],
   "source": [
    "now = datetime.now()"
   ]
  },
  {
   "cell_type": "code",
   "execution_count": 523,
   "metadata": {
    "scrolled": true
   },
   "outputs": [
    {
     "name": "stdout",
     "output_type": "stream",
     "text": [
      "2 C:/Users/yweissenberger/Documents/pycontrol_newest_10_02_21/data/line_loop_batch_3NAVI/'456675_10'-2021-03-03-105405.txt\n",
      "2 C:/Users/yweissenberger/Documents/pycontrol_newest_10_02_21/data/line_loop_batch_3NAVI/'456675_10'-2021-03-03-154211.txt\n",
      "1 C:/Users/yweissenberger/Documents/pycontrol_newest_10_02_21/data/line_loop_batch_3NAVI/'456675_10'-2021-03-03-154343.txt\n",
      "1 C:/Users/yweissenberger/Documents/pycontrol_newest_10_02_21/data/line_loop_batch_3NAVI/'456675_10'-2021-03-04-101243.txt\n",
      "1 C:/Users/yweissenberger/Documents/pycontrol_newest_10_02_21/data/line_loop_batch_3NAVI/'456675_10'-2021-03-04-105905.txt\n",
      "1 C:/Users/yweissenberger/Documents/pycontrol_newest_10_02_21/data/line_loop_batch_3NAVI/'456675_10'-2021-03-04-175106.txt\n",
      "1 C:/Users/yweissenberger/Documents/pycontrol_newest_10_02_21/data/line_loop_batch_3NAVI/'456675_10'-2021-03-05-105517.txt\n",
      "1 C:/Users/yweissenberger/Documents/pycontrol_newest_10_02_21/data/line_loop_batch_3NAVI/'456675_10'-2021-03-05-105722.txt\n",
      "1 C:/Users/yweissenberger/Documents/pycontrol_newest_10_02_21/data/line_loop_batch_3NAVI/'456675_10'-2021-03-05-105811.txt\n",
      "1 C:/Users/yweissenberger/Documents/pycontrol_newest_10_02_21/data/line_loop_batch_3NAVI/'456675_10'-2021-03-05-110006.txt\n",
      "1 C:/Users/yweissenberger/Documents/pycontrol_newest_10_02_21/data/line_loop_batch_3NAVI/'456675_10'-2021-03-05-110147.txt\n",
      "1 C:/Users/yweissenberger/Documents/pycontrol_newest_10_02_21/data/line_loop_batch_3NAVI/'456675_10'-2021-03-05-110242.txt\n",
      "1 C:/Users/yweissenberger/Documents/pycontrol_newest_10_02_21/data/line_loop_batch_3NAVI/'456675_10'-2021-03-05-110733.txt\n",
      "1 C:/Users/yweissenberger/Documents/pycontrol_newest_10_02_21/data/line_loop_batch_3NAVI/'456675_10'-2021-03-05-111358.txt\n",
      "1 C:/Users/yweissenberger/Documents/pycontrol_newest_10_02_21/data/line_loop_batch_3NAVI/'456675_10'-2021-03-05-111657.txt\n",
      "1 C:/Users/yweissenberger/Documents/pycontrol_newest_10_02_21/data/line_loop_batch_3NAVI/'456675_10'-2021-03-05-120412.txt\n",
      "1 C:/Users/yweissenberger/Documents/pycontrol_newest_10_02_21/data/line_loop_batch_3NAVI/'456675_10'-2021-03-05-125238.txt\n",
      "2 C:/Users/yweissenberger/Documents/pycontrol_newest_10_02_21/data/line_loop_batch_3NAVI/'456675_10'-2021-03-05-133908.txt\n",
      "2 C:/Users/yweissenberger/Documents/pycontrol_newest_10_02_21/data/line_loop_batch_3NAVI/'460175_10'-2021-03-03-105405.txt\n",
      "2 C:/Users/yweissenberger/Documents/pycontrol_newest_10_02_21/data/line_loop_batch_3NAVI/'460175_10'-2021-03-03-154211.txt\n",
      "1 C:/Users/yweissenberger/Documents/pycontrol_newest_10_02_21/data/line_loop_batch_3NAVI/'460175_10'-2021-03-03-154343.txt\n",
      "1 C:/Users/yweissenberger/Documents/pycontrol_newest_10_02_21/data/line_loop_batch_3NAVI/'460175_10'-2021-03-04-101243.txt\n",
      "1 C:/Users/yweissenberger/Documents/pycontrol_newest_10_02_21/data/line_loop_batch_3NAVI/'460175_10'-2021-03-04-105905.txt\n",
      "1 C:/Users/yweissenberger/Documents/pycontrol_newest_10_02_21/data/line_loop_batch_3NAVI/'460175_10'-2021-03-04-175107.txt\n",
      "1 C:/Users/yweissenberger/Documents/pycontrol_newest_10_02_21/data/line_loop_batch_3NAVI/'460175_10'-2021-03-05-105517.txt\n",
      "1 C:/Users/yweissenberger/Documents/pycontrol_newest_10_02_21/data/line_loop_batch_3NAVI/'460175_10'-2021-03-05-105722.txt\n",
      "1 C:/Users/yweissenberger/Documents/pycontrol_newest_10_02_21/data/line_loop_batch_3NAVI/'460175_10'-2021-03-05-105811.txt\n",
      "1 C:/Users/yweissenberger/Documents/pycontrol_newest_10_02_21/data/line_loop_batch_3NAVI/'460175_10'-2021-03-05-110006.txt\n",
      "1 C:/Users/yweissenberger/Documents/pycontrol_newest_10_02_21/data/line_loop_batch_3NAVI/'460175_10'-2021-03-05-110147.txt\n",
      "1 C:/Users/yweissenberger/Documents/pycontrol_newest_10_02_21/data/line_loop_batch_3NAVI/'460175_10'-2021-03-05-110242.txt\n",
      "1 C:/Users/yweissenberger/Documents/pycontrol_newest_10_02_21/data/line_loop_batch_3NAVI/'460175_10'-2021-03-05-110733.txt\n",
      "1 C:/Users/yweissenberger/Documents/pycontrol_newest_10_02_21/data/line_loop_batch_3NAVI/'460175_10'-2021-03-05-111358.txt\n",
      "1 C:/Users/yweissenberger/Documents/pycontrol_newest_10_02_21/data/line_loop_batch_3NAVI/'460175_10'-2021-03-05-111657.txt\n",
      "1 C:/Users/yweissenberger/Documents/pycontrol_newest_10_02_21/data/line_loop_batch_3NAVI/'460175_10'-2021-03-05-120412.txt\n",
      "1 C:/Users/yweissenberger/Documents/pycontrol_newest_10_02_21/data/line_loop_batch_3NAVI/'460175_10'-2021-03-05-125238.txt\n",
      "2 C:/Users/yweissenberger/Documents/pycontrol_newest_10_02_21/data/line_loop_batch_3NAVI/'460175_10'-2021-03-05-133908.txt\n"
     ]
    }
   ],
   "source": [
    "ROOT = \"C:/Users/yweissenberger/Documents/pycontrol_newest_10_02_21/data/line_loop_batch_3NAVI/\"\n",
    "fs = os.listdir(ROOT)\n",
    "res_dict = {}\n",
    "minNRew = 10\n",
    "today = datetime.now()\n",
    "for f_ in fs:\n",
    "        \n",
    "    fpath = os.path.join(ROOT,f_)\n",
    "    if os.path.isfile(fpath):\n",
    "        subject = eval(re.findall(\"('.*')\",f_)[0])\n",
    "        #print(subject)\n",
    "\n",
    "        t1_ = re.findall(r'(202.*)-[0-9]{6}.txt',f_)[0]\n",
    "        t1_ = datetime.strptime(t1_,'%Y-%m-%d')\n",
    "        \n",
    "        if (now - t1_).days<=2:\n",
    "            f = open(fpath,'r')\n",
    "\n",
    "            lines =f.readlines()\n",
    "            experiment_name, task_name, subject_id, task_nr, graph,lineloop,date,test,_ = mpk.load.get_metadata(lines)\n",
    "            dat_dict,events,event_times,nRews,_ = mpk.load.parse_data(lines,experiment_name)\n",
    "            subject = subject + '_' + str(task_nr)\n",
    "            print(task_nr,fpath)\n",
    "            if nRews>20:\n",
    "\n",
    "                poke_to_state_map,full_pkst_map = get_poke_to_state_map(lines)\n",
    "                used_states = sorted([i[1] for i in full_pkst_map])\n",
    "                used_pokes = ([i[0] for i in full_pkst_map])\n",
    "\n",
    "                map_poke_to_state = functools.partial(map_poke_to_state_fun,full_pkst_map)\n",
    "                map_state_to_poke = functools.partial(map_state_to_poke_fun,full_pkst_map)\n",
    "\n",
    "                #rew_indices = [0,3,5,8]\n",
    "                rew_indices = np.unique([eval(re.findall('REWARD LOCATIONS(\\[.*\\])',l)[0]) for l in lines if re.findall('REWARD LOCATIONS(\\[.*\\])',l)][0]).tolist()\n",
    "                perf,perf_ctr = get_performance(dat_dict,map_poke_to_state,rew_indices,lines,minNrew=minNRew)\n",
    "\n",
    "                if subject not in res_dict.keys():\n",
    "                    res_dict[subject] = [[perf,perf_ctr]]\n",
    "                else:\n",
    "                    res_dict[subject].append([perf,perf_ctr])\n"
   ]
  },
  {
   "cell_type": "code",
   "execution_count": null,
   "metadata": {},
   "outputs": [],
   "source": []
  },
  {
   "cell_type": "code",
   "execution_count": 176,
   "metadata": {},
   "outputs": [
    {
     "ename": "NameError",
     "evalue": "name 'res_dict' is not defined",
     "output_type": "error",
     "traceback": [
      "\u001b[0;31m---------------------------------------------------------------------------\u001b[0m",
      "\u001b[0;31mNameError\u001b[0m                                 Traceback (most recent call last)",
      "\u001b[0;32m<ipython-input-176-a2cce3cbdae0>\u001b[0m in \u001b[0;36m<module>\u001b[0;34m\u001b[0m\n\u001b[1;32m      1\u001b[0m \u001b[0mplt\u001b[0m\u001b[0;34m.\u001b[0m\u001b[0mfigure\u001b[0m\u001b[0;34m(\u001b[0m\u001b[0mfigsize\u001b[0m\u001b[0;34m=\u001b[0m\u001b[0;34m(\u001b[0m\u001b[0;36m10\u001b[0m\u001b[0;34m,\u001b[0m\u001b[0;36m8\u001b[0m\u001b[0;34m)\u001b[0m\u001b[0;34m)\u001b[0m\u001b[0;34m\u001b[0m\u001b[0;34m\u001b[0m\u001b[0m\n\u001b[0;32m----> 2\u001b[0;31m \u001b[0;32mfor\u001b[0m \u001b[0mctr\u001b[0m\u001b[0;34m,\u001b[0m\u001b[0msubject\u001b[0m \u001b[0;32min\u001b[0m \u001b[0menumerate\u001b[0m\u001b[0;34m(\u001b[0m\u001b[0mres_dict\u001b[0m\u001b[0;34m.\u001b[0m\u001b[0mkeys\u001b[0m\u001b[0;34m(\u001b[0m\u001b[0;34m)\u001b[0m\u001b[0;34m)\u001b[0m\u001b[0;34m:\u001b[0m\u001b[0;34m\u001b[0m\u001b[0;34m\u001b[0m\u001b[0m\n\u001b[0m\u001b[1;32m      3\u001b[0m \u001b[0;34m\u001b[0m\u001b[0m\n\u001b[1;32m      4\u001b[0m     \u001b[0mplt\u001b[0m\u001b[0;34m.\u001b[0m\u001b[0msubplot\u001b[0m\u001b[0;34m(\u001b[0m\u001b[0;36m2\u001b[0m\u001b[0;34m,\u001b[0m\u001b[0;36m2\u001b[0m\u001b[0;34m,\u001b[0m\u001b[0mctr\u001b[0m\u001b[0;34m+\u001b[0m\u001b[0;36m1\u001b[0m\u001b[0;34m)\u001b[0m\u001b[0;34m\u001b[0m\u001b[0;34m\u001b[0m\u001b[0m\n\u001b[1;32m      5\u001b[0m     \u001b[0mplt\u001b[0m\u001b[0;34m.\u001b[0m\u001b[0mtitle\u001b[0m\u001b[0;34m(\u001b[0m\u001b[0;34m\"Subject: {} | Graph: {}\"\u001b[0m\u001b[0;34m.\u001b[0m\u001b[0mformat\u001b[0m\u001b[0;34m(\u001b[0m\u001b[0msubject\u001b[0m\u001b[0;34m[\u001b[0m\u001b[0;34m:\u001b[0m\u001b[0;34m-\u001b[0m\u001b[0;36m2\u001b[0m\u001b[0;34m]\u001b[0m\u001b[0;34m,\u001b[0m\u001b[0msubject\u001b[0m\u001b[0;34m[\u001b[0m\u001b[0;34m-\u001b[0m\u001b[0;36m1\u001b[0m\u001b[0;34m]\u001b[0m\u001b[0;34m)\u001b[0m\u001b[0;34m)\u001b[0m\u001b[0;34m\u001b[0m\u001b[0;34m\u001b[0m\u001b[0m\n",
      "\u001b[0;31mNameError\u001b[0m: name 'res_dict' is not defined"
     ]
    },
    {
     "data": {
      "text/plain": [
       "<Figure size 720x576 with 0 Axes>"
      ]
     },
     "metadata": {},
     "output_type": "display_data"
    }
   ],
   "source": [
    "plt.figure(figsize=(10,8))\n",
    "for ctr,subject in enumerate(res_dict.keys()):\n",
    "    \n",
    "    plt.subplot(2,2,ctr+1)\n",
    "    plt.title(\"Subject: {} | Graph: {}\".format(subject[:-2],subject[-1]))\n",
    "    allp = np.nansum([i[0] for i in res_dict[subject]],axis=0)\n",
    "    allp_ctr = np.nansum([i[1] for i in res_dict[subject]],axis=0)\n",
    "    fc = (allp/allp_ctr)\n",
    "    np.fill_diagonal(fc,np.nan)\n",
    "    plt.imshow(np.dstack([np.eye(perf.shape[0])*-1 + 1]*3 + [np.eye(perf.shape[0])]),cmap='Greys')\n",
    "    plt.imshow(fc,vmin=0,vmax=1,cmap='RdBu_r')\n",
    "    \n",
    "    if ctr==0:\n",
    "        plt.xlabel(\"Rewarded State\")\n",
    "        plt.ylabel(\"Current State\")\n",
    "        cbar = plt.colorbar()\n",
    "        cbar.set_label(\"Fraction correct\")\n",
    "\n",
    "plt.tight_layout()"
   ]
  },
  {
   "cell_type": "markdown",
   "metadata": {},
   "source": [
    "# Other"
   ]
  },
  {
   "cell_type": "code",
   "execution_count": 177,
   "metadata": {},
   "outputs": [],
   "source": [
    "st = np.min(np.where(np.nansum(perf,axis=1))[0]) - 1\n",
    "nd = np.max((np.where(np.nansum(perf,axis=1))[0])) + 1\n",
    "\n",
    "\n",
    "#these are the pokes used for reward in this session\n",
    "used_rews = np.array([np.where(np.isnan(perf[:,i]))[0] for i in np.where(np.nansum(perf,axis=0))[0]]).flatten()\n",
    "used_rew_cols = np.where(np.nansum(perf,axis=0))[0]"
   ]
  },
  {
   "cell_type": "code",
   "execution_count": null,
   "metadata": {},
   "outputs": [],
   "source": []
  },
  {
   "cell_type": "code",
   "execution_count": 178,
   "metadata": {},
   "outputs": [],
   "source": [
    "ix = used_rew_cols[0]\n",
    "c_rew_index = ix\n",
    "\n",
    "#good_edges = [[map_state_to_poke(0),map_state_to_poke(1)],\n",
    "#              [map_state_to_poke(8),map_state_to_poke(7)]]\n",
    "bad_edges = []\n",
    "good_edges = []\n",
    "for s in range(st-1,nd+1):\n",
    "    if s!=c_rew_index and s in used_states:\n",
    "        d1 = np.abs(c_rew_index-(s+1))  #distances of state above to reward\n",
    "        d2 = np.abs(c_rew_index-(s-1))  #distance of state below to reward\n",
    "        min_ = np.argmin([d1,d2])\n",
    "        max_ = np.argmax([d1,d2])\n",
    "        \n",
    "        if [s+1,s-1][min_] in used_states:\n",
    "            good_edges.append([s,[s+1,s-1][min_]])  #good edges in terms of pokes\n",
    "        \n",
    "        if [s+1,s-1][max_] in used_states:\n",
    "            bad_edges.append([s,[s+1,s-1][max_]])   #bad edges in terms of pokes"
   ]
  },
  {
   "cell_type": "code",
   "execution_count": null,
   "metadata": {},
   "outputs": [],
   "source": []
  },
  {
   "cell_type": "code",
   "execution_count": 179,
   "metadata": {},
   "outputs": [
    {
     "data": {
      "text/plain": [
       "3"
      ]
     },
     "execution_count": 179,
     "metadata": {},
     "output_type": "execute_result"
    }
   ],
   "source": [
    "map_state_to_poke(ix)"
   ]
  },
  {
   "cell_type": "code",
   "execution_count": 180,
   "metadata": {},
   "outputs": [
    {
     "data": {
      "text/plain": [
       "array([3, 4, 5, 6, 7, 8])"
      ]
     },
     "execution_count": 180,
     "metadata": {},
     "output_type": "execute_result"
    }
   ],
   "source": [
    "used_rew_cols"
   ]
  },
  {
   "cell_type": "code",
   "execution_count": 181,
   "metadata": {},
   "outputs": [],
   "source": [
    "#rew_indices = [0,1,4,5]"
   ]
  },
  {
   "cell_type": "code",
   "execution_count": 187,
   "metadata": {},
   "outputs": [],
   "source": [
    "st = used_states[0]-1#np.min(np.where(np.nansum(perf,axis=1))[0]) - 1\n",
    "nd = used_states[1]+1#np.max((np.where(np.nansum(perf,axis=1))[0])) + 1\n",
    "\n",
    "\n",
    "#these are the pokes used for reward in this session\n",
    "used_rews = np.array([np.where(np.isnan(perf[:,i]))[0] for i in np.where(np.nansum(perf,axis=0))[0]]).flatten()\n",
    "used_rew_cols = np.where(np.nansum(perf,axis=0))[0]"
   ]
  },
  {
   "cell_type": "code",
   "execution_count": 188,
   "metadata": {},
   "outputs": [
    {
     "data": {
      "text/plain": [
       "2"
      ]
     },
     "execution_count": 188,
     "metadata": {},
     "output_type": "execute_result"
    }
   ],
   "source": [
    "st"
   ]
  },
  {
   "cell_type": "code",
   "execution_count": 189,
   "metadata": {},
   "outputs": [
    {
     "data": {
      "text/plain": [
       "5"
      ]
     },
     "execution_count": 189,
     "metadata": {},
     "output_type": "execute_result"
    }
   ],
   "source": [
    "nd"
   ]
  },
  {
   "cell_type": "code",
   "execution_count": null,
   "metadata": {},
   "outputs": [],
   "source": []
  },
  {
   "cell_type": "code",
   "execution_count": 190,
   "metadata": {},
   "outputs": [
    {
     "data": {
      "text/plain": [
       "[[3, 6], [2, 5], [3, 6], [6, 0], [0, 4]]"
      ]
     },
     "execution_count": 190,
     "metadata": {},
     "output_type": "execute_result"
    }
   ],
   "source": [
    "good_edges"
   ]
  },
  {
   "cell_type": "code",
   "execution_count": 217,
   "metadata": {
    "scrolled": false
   },
   "outputs": [
    {
     "data": {
      "image/png": "[encoded data removed]",
      "text/plain": [
       "<Figure size 1296x288 with 1 Axes>"
      ]
     },
     "metadata": {},
     "output_type": "display_data"
    }
   ],
   "source": [
    "plt.figure(figsize=(18,4))\n",
    "ctr = 1\n",
    "for ix in used_rew_cols[:1]:\n",
    "    plt.subplot(1,len(used_rew_cols),ctr)\n",
    "\n",
    "    c_rew_index = ix  #this is correct, used_rews here are in terms of states\n",
    "\n",
    "    bad_edges = []\n",
    "    good_edges = []\n",
    "    same_edges = []\n",
    "    good_edges = [[map_state_to_poke(used_states[0]),map_state_to_poke(used_states[1])],\n",
    "                  [map_state_to_poke(used_states[-1]),map_state_to_poke(used_states[-2])]]\n",
    "\n",
    "    for s in range(st-2,nd+2):\n",
    "        if s!=c_rew_index and s in used_states:\n",
    "            su = s+1 #state_up\n",
    "            sd = s-1 #state_down\n",
    "            if lineloop=='loop': \n",
    "                if su==used_states[-1]+1:\n",
    "                    su= used_states[0]\n",
    "                if sd==used_states[0]-1:\n",
    "                    sd = used_states[-1]\n",
    "            d1 = np.abs(c_rew_index-(su))  #distances of state above to reward\n",
    "            d2 = np.abs(c_rew_index-(sd))  #distance of state below to reward\n",
    "            \n",
    "            min_ = np.argmin([d1,d2])\n",
    "            max_ = np.argmax([d1,d2])\n",
    "\n",
    "            mn_ = [su,sd][min_]; mx_ = [su,sd][max_]\n",
    "\n",
    "            if d1==d2:\n",
    "                if mn_ in used_states:\n",
    "                    same_edges.append([map_state_to_poke(s),map_state_to_poke(mn_)])\n",
    "\n",
    "                if mx_ in used_states:\n",
    "                    same_edges.append([map_state_to_poke(s),map_state_to_poke(mx_)])\n",
    "            else:\n",
    "                \n",
    "                if mn_ in used_states:\n",
    "                    good_edges.append([map_state_to_poke(s),map_state_to_poke(mn_)])\n",
    "\n",
    "                if mx_ in used_states:\n",
    "                    bad_edges.append([map_state_to_poke(s),map_state_to_poke(mx_)])\n",
    "\n",
    "        \n",
    "\n",
    "    pos = np.array([1,-1])*poke_pos\n",
    "    G0 = nx.DiGraph()\n",
    "    G0.add_nodes_from(range(9),pos=np.array([1,-1])*poke_pos)\n",
    "    nx.draw(G0,pos=pos,alpha=.2)\n",
    "    G = nx.DiGraph()\n",
    "    G.add_nodes_from(sorted(used_pokes))\n",
    "    weights = []\n",
    "    \n",
    "    rew_col = fc[:,ix]\n",
    "    \n",
    "    for e in good_edges:\n",
    "        G.add_edge(e[0],e[1],weight=rew_col[map_poke_to_state(e[0])],color='g')\n",
    "    for e in bad_edges:\n",
    "        G.add_edge(e[0],e[1],weight=1-rew_col[map_poke_to_state(e[0])],color='r')\n",
    "    for e in same_edges:\n",
    "        print(ctr,map_poke_to_state(e[0]),map_poke_to_state(e[1]))\n",
    "        G.add_edge(e[0],e[1],weight=rew_col[map_poke_to_state(e[0])],color='.3')\n",
    "\n",
    "    weights = nx.get_edge_attributes(G,'weight')\n",
    "    colors = nx.get_edge_attributes(G,'color')\n",
    "    node_colors = ['.3' for _ in range(len(used_states))]\n",
    "    \n",
    "    node_colors[list(G.nodes).index(map_state_to_poke(c_rew_index))] = 'g'\n",
    "    #node_colors[0] = 'g'\n",
    "    nx.draw(G,\n",
    "        pos=pos,\n",
    "            width=(10**(np.array(list(weights.values()))))/2,\n",
    "            edge_color=np.array(list(colors.values())),\n",
    "            connectionstyle=\"arc3,rad=-0.1\",\n",
    "            node_color=node_colors,\n",
    "            node_size=768,)\n",
    "    \n",
    "    labels = {i:j for i,j in zip(sorted(used_pokes),[map_poke_to_state(i) for i in sorted(used_pokes)])}\n",
    "    nx.draw_networkx_labels(G, pos, labels, font_size=16)\n",
    "    #print([map_poke_to_state(i) for j in same_edges for i in j])\n",
    "    #print(G.node)\n",
    "    ctr += 1\n",
    "plt.tight_layout()\n",
    "#plt.savefig(\"/Users/yves/Debsktop/tpf/navi_decisions.svg\")\n",
    "#plt.savefig(\"/Users/yves/Desktop/tpf/navi_decisions.png\",dpi=300)\n"
   ]
  },
  {
   "cell_type": "code",
   "execution_count": 208,
   "metadata": {},
   "outputs": [
    {
     "data": {
      "text/plain": [
       "array([       nan,        nan,        nan,        nan, 0.95505618,\n",
       "       0.77272727, 0.85185185, 0.62745098, 1.        ])"
      ]
     },
     "execution_count": 208,
     "metadata": {},
     "output_type": "execute_result"
    }
   ],
   "source": [
    "rew_col\n"
   ]
  },
  {
   "cell_type": "code",
   "execution_count": 214,
   "metadata": {},
   "outputs": [
    {
     "data": {
      "text/plain": [
       "[4, 7, 3, 4, 5]"
      ]
     },
     "execution_count": 214,
     "metadata": {},
     "output_type": "execute_result"
    }
   ],
   "source": [
    "[map_poke_to_state(i[1]) for i in good_edges]"
   ]
  },
  {
   "cell_type": "code",
   "execution_count": 215,
   "metadata": {},
   "outputs": [
    {
     "data": {
      "text/plain": [
       "[5, 6, 7]"
      ]
     },
     "execution_count": 215,
     "metadata": {},
     "output_type": "execute_result"
    }
   ],
   "source": [
    "[map_poke_to_state(i[1]) for i in bad_edges]"
   ]
  },
  {
   "cell_type": "code",
   "execution_count": null,
   "metadata": {},
   "outputs": [],
   "source": []
  },
  {
   "cell_type": "code",
   "execution_count": 202,
   "metadata": {},
   "outputs": [
    {
     "data": {
      "text/plain": [
       "<matplotlib.colorbar.Colorbar at 0x7f8f19453950>"
      ]
     },
     "execution_count": 202,
     "metadata": {},
     "output_type": "execute_result"
    },
    {
     "data": {
      "image/png": "[encoded data removed]",
      "text/plain": [
       "<Figure size 432x288 with 2 Axes>"
      ]
     },
     "metadata": {},
     "output_type": "display_data"
    }
   ],
   "source": [
    "plt.imshow(perf,vmax=10)\n",
    "plt.colorbar()"
   ]
  },
  {
   "cell_type": "code",
   "execution_count": null,
   "metadata": {},
   "outputs": [],
   "source": []
  },
  {
   "cell_type": "code",
   "execution_count": 103,
   "metadata": {},
   "outputs": [
    {
     "data": {
      "text/plain": [
       "[1, 2, 3, 4, 5, 6]"
      ]
     },
     "execution_count": 103,
     "metadata": {},
     "output_type": "execute_result"
    }
   ],
   "source": [
    "used_states"
   ]
  },
  {
   "cell_type": "code",
   "execution_count": null,
   "metadata": {},
   "outputs": [],
   "source": []
  },
  {
   "cell_type": "code",
   "execution_count": 83,
   "metadata": {},
   "outputs": [
    {
     "data": {
      "text/plain": [
       "6"
      ]
     },
     "execution_count": 83,
     "metadata": {},
     "output_type": "execute_result"
    }
   ],
   "source": [
    "len({i:j for i,j in zip(sorted(used_pokes),[map_poke_to_state(i) for i in sorted(used_pokes)])})"
   ]
  },
  {
   "cell_type": "code",
   "execution_count": 84,
   "metadata": {},
   "outputs": [
    {
     "data": {
      "text/plain": [
       "NodeView((0, 1, 3, 4, 6, 8))"
      ]
     },
     "execution_count": 84,
     "metadata": {},
     "output_type": "execute_result"
    }
   ],
   "source": [
    "G.node"
   ]
  },
  {
   "cell_type": "code",
   "execution_count": 72,
   "metadata": {},
   "outputs": [
    {
     "data": {
      "text/plain": [
       "ItemsView(NodeView((5, 2, 3, 4, 6, 1, 8, 0)))"
      ]
     },
     "execution_count": 72,
     "metadata": {},
     "output_type": "execute_result"
    }
   ],
   "source": [
    "G.nodes.items()"
   ]
  },
  {
   "cell_type": "code",
   "execution_count": 65,
   "metadata": {},
   "outputs": [
    {
     "data": {
      "text/plain": [
       "NodeView((0, 1, 3, 4, 6, 8))"
      ]
     },
     "execution_count": 65,
     "metadata": {},
     "output_type": "execute_result"
    }
   ],
   "source": [
    "G.nodes"
   ]
  },
  {
   "cell_type": "code",
   "execution_count": null,
   "metadata": {},
   "outputs": [],
   "source": []
  },
  {
   "cell_type": "code",
   "execution_count": null,
   "metadata": {},
   "outputs": [],
   "source": []
  },
  {
   "cell_type": "code",
   "execution_count": 582,
   "metadata": {},
   "outputs": [
    {
     "data": {
      "text/plain": [
       "4"
      ]
     },
     "execution_count": 582,
     "metadata": {},
     "output_type": "execute_result"
    }
   ],
   "source": [
    "map_state_to_poke(c_rew_index)"
   ]
  },
  {
   "cell_type": "code",
   "execution_count": 489,
   "metadata": {},
   "outputs": [
    {
     "data": {
      "text/plain": [
       "[0, 1, 2, 3, 4, 5, 6, 7, 8]"
      ]
     },
     "execution_count": 489,
     "metadata": {},
     "output_type": "execute_result"
    }
   ],
   "source": [
    "list(G.node)"
   ]
  },
  {
   "cell_type": "code",
   "execution_count": null,
   "metadata": {},
   "outputs": [],
   "source": []
  },
  {
   "cell_type": "code",
   "execution_count": 356,
   "metadata": {},
   "outputs": [
    {
     "data": {
      "text/plain": [
       "4"
      ]
     },
     "execution_count": 356,
     "metadata": {},
     "output_type": "execute_result"
    }
   ],
   "source": [
    "ix"
   ]
  },
  {
   "cell_type": "code",
   "execution_count": 339,
   "metadata": {},
   "outputs": [
    {
     "data": {
      "text/plain": [
       "(9, 7)"
      ]
     },
     "execution_count": 339,
     "metadata": {},
     "output_type": "execute_result"
    }
   ],
   "source": [
    "fc.shape"
   ]
  },
  {
   "cell_type": "code",
   "execution_count": 364,
   "metadata": {},
   "outputs": [
    {
     "data": {
      "text/plain": [
       "7"
      ]
     },
     "execution_count": 364,
     "metadata": {},
     "output_type": "execute_result"
    }
   ],
   "source": [
    "map_state_to_poke(used_rews[ix])"
   ]
  },
  {
   "cell_type": "code",
   "execution_count": 333,
   "metadata": {},
   "outputs": [
    {
     "data": {
      "text/plain": [
       "array([       nan,        nan,        nan,        nan, 0.85714286,\n",
       "              nan, 1.        , 0.09090909,        nan])"
      ]
     },
     "execution_count": 333,
     "metadata": {},
     "output_type": "execute_result"
    }
   ],
   "source": [
    "fc[:,0]"
   ]
  },
  {
   "cell_type": "code",
   "execution_count": 332,
   "metadata": {},
   "outputs": [
    {
     "data": {
      "text/plain": [
       "(9, 7)"
      ]
     },
     "execution_count": 332,
     "metadata": {},
     "output_type": "execute_result"
    }
   ],
   "source": [
    "fc.shape"
   ]
  },
  {
   "cell_type": "code",
   "execution_count": null,
   "metadata": {},
   "outputs": [],
   "source": [
    "us"
   ]
  },
  {
   "cell_type": "code",
   "execution_count": 295,
   "metadata": {},
   "outputs": [
    {
     "data": {
      "text/plain": [
       "8"
      ]
     },
     "execution_count": 295,
     "metadata": {},
     "output_type": "execute_result"
    }
   ],
   "source": [
    "used_rews[ix]"
   ]
  },
  {
   "cell_type": "code",
   "execution_count": null,
   "metadata": {},
   "outputs": [],
   "source": []
  },
  {
   "cell_type": "code",
   "execution_count": 294,
   "metadata": {},
   "outputs": [
    {
     "data": {
      "text/plain": [
       "[3, 4, 5, 6, 7, 8]"
      ]
     },
     "execution_count": 294,
     "metadata": {},
     "output_type": "execute_result"
    }
   ],
   "source": [
    "used_states"
   ]
  },
  {
   "cell_type": "code",
   "execution_count": 296,
   "metadata": {},
   "outputs": [
    {
     "data": {
      "text/plain": [
       "[0, 3, 4, 5, 6, 7]"
      ]
     },
     "execution_count": 296,
     "metadata": {},
     "output_type": "execute_result"
    }
   ],
   "source": [
    "used_pokes"
   ]
  },
  {
   "cell_type": "code",
   "execution_count": null,
   "metadata": {},
   "outputs": [],
   "source": [
    "len(used_states)"
   ]
  },
  {
   "cell_type": "code",
   "execution_count": 286,
   "metadata": {},
   "outputs": [
    {
     "data": {
      "text/plain": [
       "6"
      ]
     },
     "execution_count": 286,
     "metadata": {},
     "output_type": "execute_result"
    }
   ],
   "source": [
    "len(node_colors)"
   ]
  },
  {
   "cell_type": "code",
   "execution_count": 279,
   "metadata": {},
   "outputs": [
    {
     "data": {
      "image/png": "[encoded data removed]",
      "text/plain": [
       "<Figure size 432x288 with 1 Axes>"
      ]
     },
     "metadata": {},
     "output_type": "display_data"
    }
   ],
   "source": [
    "nx.draw(G,pos=pos,\n",
    "        width=(10**(np.array(list(weights.values()))))/2\n",
    "        \n",
    "       )\n"
   ]
  },
  {
   "cell_type": "code",
   "execution_count": 272,
   "metadata": {},
   "outputs": [
    {
     "data": {
      "text/plain": [
       "[[3, 4], [4, 0], [0, 6], [5, 6]]"
      ]
     },
     "execution_count": 272,
     "metadata": {},
     "output_type": "execute_result"
    }
   ],
   "source": [
    "good_edges"
   ]
  },
  {
   "cell_type": "code",
   "execution_count": 273,
   "metadata": {},
   "outputs": [
    {
     "data": {
      "text/plain": [
       "[[4, 3], [0, 4], [5, 7]]"
      ]
     },
     "execution_count": 273,
     "metadata": {},
     "output_type": "execute_result"
    }
   ],
   "source": [
    "bad_edges"
   ]
  },
  {
   "cell_type": "code",
   "execution_count": 270,
   "metadata": {},
   "outputs": [
    {
     "data": {
      "text/plain": [
       "array([[ 149,    0],\n",
       "       [  68,  -19],\n",
       "       [ 231,  -19],\n",
       "       [   0,  -62],\n",
       "       [ 149,  -62],\n",
       "       [ 298,  -62],\n",
       "       [  68, -105],\n",
       "       [ 231, -105],\n",
       "       [ 149, -124]])"
      ]
     },
     "execution_count": 270,
     "metadata": {},
     "output_type": "execute_result"
    }
   ],
   "source": [
    "pos"
   ]
  },
  {
   "cell_type": "code",
   "execution_count": 264,
   "metadata": {},
   "outputs": [
    {
     "data": {
      "text/plain": [
       "{(3, 4): nan,\n",
       " (4, 0): nan,\n",
       " (4, 3): nan,\n",
       " (0, 6): nan,\n",
       " (0, 4): nan,\n",
       " (6, 5): nan,\n",
       " (6, 0): nan}"
      ]
     },
     "execution_count": 264,
     "metadata": {},
     "output_type": "execute_result"
    }
   ],
   "source": [
    "weights"
   ]
  },
  {
   "cell_type": "code",
   "execution_count": 257,
   "metadata": {},
   "outputs": [
    {
     "data": {
      "text/plain": [
       "6"
      ]
     },
     "execution_count": 257,
     "metadata": {},
     "output_type": "execute_result"
    }
   ],
   "source": [
    "e[0]"
   ]
  },
  {
   "cell_type": "code",
   "execution_count": null,
   "metadata": {},
   "outputs": [],
   "source": []
  },
  {
   "cell_type": "code",
   "execution_count": 209,
   "metadata": {},
   "outputs": [
    {
     "data": {
      "image/png": "[encoded data removed]",
      "text/plain": [
       "<Figure size 432x288 with 2 Axes>"
      ]
     },
     "metadata": {},
     "output_type": "display_data"
    }
   ],
   "source": [
    "sqr = fc\n",
    "sqr[0] = 1\n",
    "sqr[-1] = 1\n",
    "plt.imshow(sqr,vmin=0,vmax=1,cmap='RdBu_r')\n",
    "plt.xlabel(\"Rew Location\")\n",
    "plt.xticks([0,1,2,3],['T','L','R','B'])\n",
    "plt.ylabel(\"State\")\n",
    "cbar = plt.colorbar()\n",
    "cbar.set_label(\"Fraction Correct\")\n",
    "plt.tight_layout()"
   ]
  },
  {
   "cell_type": "code",
   "execution_count": 163,
   "metadata": {},
   "outputs": [
    {
     "name": "stderr",
     "output_type": "stream",
     "text": [
      "/Users/yves/opt/anaconda3/lib/python3.7/site-packages/ipykernel_launcher.py:1: RuntimeWarning: invalid value encountered in true_divide\n",
      "  \"\"\"Entry point for launching an IPython kernel.\n"
     ]
    }
   ],
   "source": [
    "fc = perf/perf_ctr\n",
    "fc[np.isnan(fc)] = 1"
   ]
  },
  {
   "cell_type": "code",
   "execution_count": 210,
   "metadata": {},
   "outputs": [
    {
     "data": {
      "text/plain": [
       "array([[1.        , 1.        , 1.        , 1.        ],\n",
       "       [0.60869565, 0.86206897, 0.60869565,        nan],\n",
       "       [0.89655172, 0.93548387, 0.69444444, 0.93333333],\n",
       "       [0.68965517,        nan, 0.77570093, 0.36585366],\n",
       "       [1.        , 0.79411765, 0.60330579, 0.69090909],\n",
       "       [       nan, 0.76315789, 0.66292135, 0.79411765],\n",
       "       [0.83333333, 0.72222222, 0.87719298, 0.76190476],\n",
       "       [0.76923077, 0.88461538,        nan, 0.61111111],\n",
       "       [1.        , 1.        , 1.        , 1.        ]])"
      ]
     },
     "execution_count": 210,
     "metadata": {},
     "output_type": "execute_result"
    }
   ],
   "source": [
    "fc"
   ]
  },
  {
   "cell_type": "markdown",
   "metadata": {},
   "source": [
    "# Performance history"
   ]
  },
  {
   "cell_type": "code",
   "execution_count": 165,
   "metadata": {},
   "outputs": [
    {
     "name": "stderr",
     "output_type": "stream",
     "text": [
      "/Users/yves/opt/anaconda3/lib/python3.7/site-packages/ipykernel_launcher.py:18: RuntimeWarning: invalid value encountered in true_divide\n",
      "/Users/yves/opt/anaconda3/lib/python3.7/site-packages/ipykernel_launcher.py:22: RuntimeWarning: Mean of empty slice\n"
     ]
    }
   ],
   "source": [
    "ROOT = '/Users/yves/Documents/behavior_data/line_loop_cohort_1/line_loop_batch_4_RUNNAVI/'\n",
    "fs = sorted([os.path.join(ROOT,i) for i in os.listdir(ROOT) if '.txt' in i])\n",
    "perf_hist = []\n",
    "all_fc  = []\n",
    "all_perf = np.zeros([9,4])\n",
    "all_ctr = np.zeros([9,4])\n",
    "for f_ in fs[:-1]:\n",
    "    try:\n",
    "        f = open(f_,'r')\n",
    "        lines =f.readlines()\n",
    "        experiment_name, task_name, subject_id, task_nr, graph,lineloop,date,test,_ = mpk.load.get_metadata(lines)\n",
    "        dat_dict,events,event_times,nRews,_ = mpk.load.parse_data(lines,experiment_name)\n",
    "\n",
    "        #poke_to_state_map = get_poke_to_state_map(lines)\n",
    "        rew_indices = [0,3,5,8]\n",
    "        perf,perf_ctr = get_performance(dat_dict,poke_to_state_map,rew_indices,lines,minNrew=20)\n",
    "\n",
    "        fc = perf/perf_ctr\n",
    "        all_perf += perf\n",
    "        all_ctr += perf_ctr\n",
    "        all_fc.append(fc)\n",
    "        perf_hist.append(np.nanmean(fc))\n",
    "    except:\n",
    "        pass"
   ]
  },
  {
   "cell_type": "code",
   "execution_count": 166,
   "metadata": {},
   "outputs": [
    {
     "name": "stderr",
     "output_type": "stream",
     "text": [
      "/Users/yves/opt/anaconda3/lib/python3.7/site-packages/ipykernel_launcher.py:1: RuntimeWarning: invalid value encountered in true_divide\n",
      "  \"\"\"Entry point for launching an IPython kernel.\n"
     ]
    },
    {
     "data": {
      "text/plain": [
       "array([[       nan,        nan,        nan,        nan],\n",
       "       [0.86511628, 0.984375  , 0.67759563,        nan],\n",
       "       [0.73719376, 0.84353741, 0.76231884, 0.80351906],\n",
       "       [0.40920716,        nan, 0.46475196, 0.70153846],\n",
       "       [0.87106017, 0.82222222, 0.68343195, 0.74164134],\n",
       "       [       nan, 0.74693878, 0.47222222, 0.72727273],\n",
       "       [0.92805755, 0.85074627, 0.73142857, 0.78921569],\n",
       "       [0.89655172, 0.80672269,        nan, 0.81451613],\n",
       "       [       nan,        nan,        nan,        nan]])"
      ]
     },
     "execution_count": 166,
     "metadata": {},
     "output_type": "execute_result"
    }
   ],
   "source": [
    "all_perf/all_ctr"
   ]
  },
  {
   "cell_type": "code",
   "execution_count": 167,
   "metadata": {},
   "outputs": [
    {
     "data": {
      "text/plain": [
       "0.00796983057579857"
      ]
     },
     "execution_count": 167,
     "metadata": {},
     "output_type": "execute_result"
    }
   ],
   "source": [
    "stt.binom_test(0.57*400,n=400)"
   ]
  },
  {
   "cell_type": "code",
   "execution_count": 168,
   "metadata": {},
   "outputs": [
    {
     "data": {
      "text/plain": [
       "array([[nan, nan, nan, nan],\n",
       "       [nan, nan, nan, nan],\n",
       "       [nan, nan, nan, nan],\n",
       "       [nan, nan, nan, nan],\n",
       "       [nan, nan, nan, nan],\n",
       "       [nan, nan, nan, nan],\n",
       "       [nan, nan, nan, nan],\n",
       "       [nan, nan, nan, nan],\n",
       "       [nan, nan, nan, nan]])"
      ]
     },
     "execution_count": 168,
     "metadata": {},
     "output_type": "execute_result"
    }
   ],
   "source": [
    "fc"
   ]
  },
  {
   "cell_type": "code",
   "execution_count": 169,
   "metadata": {},
   "outputs": [],
   "source": [
    "#np.nanmean(all_fc[-5:],axis=0)"
   ]
  },
  {
   "cell_type": "code",
   "execution_count": 170,
   "metadata": {},
   "outputs": [
    {
     "name": "stdout",
     "output_type": "stream",
     "text": [
      "[[1.         1.         1.         1.        ]\n",
      " [0.9375     0.95833333 0.625             nan]\n",
      " [0.88680556 0.73629149 0.83928571 0.77606838]\n",
      " [0.65848368        nan 0.54305556 0.94882321]\n",
      " [0.90975057 0.7655303  0.78974359 0.83291246]\n",
      " [       nan 0.80705128 0.6906746  0.88667582]\n",
      " [0.925      0.98148148 0.84761905 0.93781328]\n",
      " [1.         0.86              nan 0.91944444]\n",
      " [1.         1.         1.         1.        ]]\n"
     ]
    },
    {
     "name": "stderr",
     "output_type": "stream",
     "text": [
      "/Users/yves/opt/anaconda3/lib/python3.7/site-packages/ipykernel_launcher.py:2: RuntimeWarning: Mean of empty slice\n",
      "  \n"
     ]
    },
    {
     "data": {
      "image/png": "[encoded data removed]",
      "text/plain": [
       "<Figure size 432x288 with 2 Axes>"
      ]
     },
     "metadata": {},
     "output_type": "display_data"
    }
   ],
   "source": [
    "#sqr = all_perf/all_ctr\n",
    "sqr = np.nanmean(all_fc[-10:],axis=0)\n",
    "fc = sqr\n",
    "sqr[0] = 1\n",
    "sqr[-1] = 1\n",
    "plt.imshow(sqr,vmin=0,vmax=1,cmap='RdBu_r',aspect=.7)\n",
    "plt.xlabel(\"Rew Location\")\n",
    "plt.xticks([0,1,2,3],['T','L','R','B'])\n",
    "plt.ylabel(\"State\")\n",
    "cbar = plt.colorbar()\n",
    "cbar.set_label(\"Fraction Correct\")\n",
    "#cbar.ax.\n",
    "plt.tight_layout()\n",
    "#plt.tight_layout*\n",
    "#plt.savefig(\"/Users/yves/Desktop/tpf/navi_frac_corr_by_state.svg\")\n",
    "#plt.savefig(\"/Users/yves/Desktop/tpf/navi_frac_corr_by_state.png\",dpi=300)\n",
    "print(sqr)"
   ]
  },
  {
   "cell_type": "code",
   "execution_count": 171,
   "metadata": {},
   "outputs": [],
   "source": [
    "seaborn.set(font_scale=1.5,style='ticks',rc={'axes.edgecolor': 'k',\n",
    "                                             'axes.linewidth': 2,\n",
    "                                             #'xtick.major.size': 6,\n",
    "                                             'axes.labelcolor':'k',\n",
    "                                             'xtick.major.width': 2,\n",
    "                                             'ytick.major.width': 2,\n",
    "                                             'xtick.major.pad': 5.5,\n",
    "                                             'ytick.major.pad': 5.5,\n",
    "                                             'axes.labelsize': 18\n",
    "                                            })\n"
   ]
  },
  {
   "cell_type": "code",
   "execution_count": 71,
   "metadata": {},
   "outputs": [],
   "source": [
    "from scipy.ndimage import gaussian_filter1d"
   ]
  },
  {
   "cell_type": "code",
   "execution_count": 72,
   "metadata": {},
   "outputs": [
    {
     "name": "stderr",
     "output_type": "stream",
     "text": [
      "/Users/yves/opt/anaconda3/lib/python3.7/site-packages/ipykernel_launcher.py:1: RuntimeWarning: Mean of empty slice\n",
      "  \"\"\"Entry point for launching an IPython kernel.\n"
     ]
    },
    {
     "data": {
      "image/png": "[encoded data removed]",
      "text/plain": [
       "<Figure size 432x288 with 1 Axes>"
      ]
     },
     "metadata": {},
     "output_type": "display_data"
    }
   ],
   "source": [
    "sess_perf = [np.nanmean(i) for i in perf_hist if not np.isnan(np.nanmean(i))][1:]\n",
    "plt.plot(gaussian_filter1d(sess_perf,2.25,mode='nearest'),linewidth=5)\n",
    "plt.scatter(range(len(sess_perf)),sess_perf,color='k',s=128,edgecolors='none')\n",
    "plt.xlabel(\"Session #\")\n",
    "plt.ylabel(\"Proportion of\\n correct transitions\")\n",
    "#plt.xlim(-.5)\n",
    "seaborn.despine()\n",
    "plt.tight_layout()\n",
    "#plt.savefig(\"/Users/yves/Desktop/tpf/navi_learning.svg\")\n",
    "#plt.savefig(\"/Users/yves/Desktop/tpf/navi_learning.png\",dpi=300)\n"
   ]
  },
  {
   "cell_type": "code",
   "execution_count": 73,
   "metadata": {},
   "outputs": [
    {
     "name": "stderr",
     "output_type": "stream",
     "text": [
      "/Users/yves/opt/anaconda3/lib/python3.7/site-packages/ipykernel_launcher.py:1: RuntimeWarning: Mean of empty slice\n",
      "  \"\"\"Entry point for launching an IPython kernel.\n"
     ]
    },
    {
     "data": {
      "image/png": "[encoded data removed]",
      "text/plain": [
       "<Figure size 432x288 with 1 Axes>"
      ]
     },
     "metadata": {},
     "output_type": "display_data"
    }
   ],
   "source": [
    "sess_perf = [np.nanmean(i) for i in perf_hist if not np.isnan(np.nanmean(i))][1:]\n",
    "plt.plot(gaussian_filter1d(sess_perf,2.25,mode='nearest'),linewidth=5)\n",
    "plt.scatter(range(len(sess_perf)),sess_perf,color='k',s=128,edgecolors='none')\n",
    "plt.xlabel(\"Session #\")\n",
    "plt.ylabel(\"Proportion\\n correct\")\n",
    "#plt.xlim(-.5)\n",
    "seaborn.despine()\n",
    "plt.tight_layout()"
   ]
  },
  {
   "cell_type": "code",
   "execution_count": 157,
   "metadata": {},
   "outputs": [
    {
     "name": "stderr",
     "output_type": "stream",
     "text": [
      "/Users/yves/opt/anaconda3/lib/python3.7/site-packages/ipykernel_launcher.py:1: RuntimeWarning: Mean of empty slice\n",
      "  \"\"\"Entry point for launching an IPython kernel.\n"
     ]
    },
    {
     "data": {
      "image/png": "[encoded data removed]",
      "text/plain": [
       "<Figure size 432x288 with 1 Axes>"
      ]
     },
     "metadata": {},
     "output_type": "display_data"
    }
   ],
   "source": [
    "sess_perf = [np.nanmean(i) for i in perf_hist if not np.isnan(np.nanmean(i))][2:]\n",
    "plt.plot(gaussian_filter1d(sess_perf,1.5),linewidth=3)\n",
    "plt.scatter(range(len(sess_perf)),sess_perf,color='k',s=96)\n",
    "plt.xlabel(\"Session #\")\n",
    "plt.ylabel(\"Proportion correct transitions\")\n",
    "seaborn.despine()\n",
    "plt.tight_layout()"
   ]
  },
  {
   "cell_type": "code",
   "execution_count": 352,
   "metadata": {},
   "outputs": [
    {
     "data": {
      "text/plain": [
       "[0.49722222222222223,\n",
       " 0.4375,\n",
       " 0.575,\n",
       " 0.7785714285714285,\n",
       " 0.533253751851708,\n",
       " 0.6662414947395835,\n",
       " 0.6223282951941488,\n",
       " 0.6737401169376257,\n",
       " 0.5623015873015873,\n",
       " 0.7999957558781088,\n",
       " 0.6801653630532941,\n",
       " 0.7255549534816176,\n",
       " 0.6285714285714286,\n",
       " 0.6530097125413526,\n",
       " 0.7148889066754313,\n",
       " 0.7511047675485337,\n",
       " 0.6965651402837558,\n",
       " 0.6748187242519604,\n",
       " 0.7148784777376731,\n",
       " 0.7550147542587059,\n",
       " 0.737619565377113,\n",
       " 0.7809430094711312,\n",
       " 0.7239262720576801,\n",
       " 0.7749516267766803,\n",
       " 0.812864219114219,\n",
       " 0.8291787702735416,\n",
       " 0.7415101007090994,\n",
       " 0.8239091239707511,\n",
       " 0.8041840068465725,\n",
       " 0.7300002479969016,\n",
       " 0.8666666666666666,\n",
       " 0.7148947762687461,\n",
       " 0.8286583091222216,\n",
       " 0.843745340022627,\n",
       " 0.8108984078641084,\n",
       " 0.7186338736621062,\n",
       " 0.8182802374871762,\n",
       " 0.768012650998762,\n",
       " 0.8241828432867361,\n",
       " 0.7641757529894638,\n",
       " 0.7426986029797972,\n",
       " 0.792046279791378,\n",
       " 0.7794624634760058,\n",
       " 0.7853650581919769,\n",
       " 0.7923093533308587,\n",
       " 0.8192483509256663,\n",
       " 0.7656474722385459,\n",
       " 0.9027777777777777,\n",
       " 0.8608389450056116,\n",
       " 0.8216294170228826]"
      ]
     },
     "execution_count": 352,
     "metadata": {},
     "output_type": "execute_result"
    }
   ],
   "source": [
    "sess_perf"
   ]
  },
  {
   "cell_type": "code",
   "execution_count": null,
   "metadata": {},
   "outputs": [],
   "source": []
  },
  {
   "cell_type": "code",
   "execution_count": null,
   "metadata": {},
   "outputs": [],
   "source": []
  }
 ],
 "metadata": {
  "kernelspec": {
   "display_name": "Python 3",
   "language": "python",
   "name": "python3"
  },
  "language_info": {
   "codemirror_mode": {
    "name": "ipython",
    "version": 3
   },
   "file_extension": ".py",
   "mimetype": "text/x-python",
   "name": "python",
   "nbconvert_exporter": "python",
   "pygments_lexer": "ipython3",
   "version": "3.7.4"
  }
 },
 "nbformat": 4,
 "nbformat_minor": 2
}
