{
 "cells": [
  {
   "cell_type": "markdown",
   "metadata": {},
   "source": [
    "# First pass analysis of line/loop data\n",
    "\n",
    "<ul>\n",
    "    <li> Analyse correct sequence lengths. </li>\n",
    "    <li> Do reaction times </li>\n",
    "    <li> Analyse as a function of distance from reward </li>\n",
    "    <li> Try to fit RL model to these data </li> \n",
    "    \n",
    "</ul>\n",
    "\n",
    "<b> WHY IS THERE A DIFFERENCE BETWEEN REW_LIST AND DAT_DICT['STATE'] </b>"
   ]
  },
  {
   "cell_type": "code",
   "execution_count": 1,
   "metadata": {},
   "outputs": [
    {
     "name": "stderr",
     "output_type": "stream",
     "text": [
      "/Users/yves/opt/anaconda3/lib/python3.7/site-packages/statsmodels/tools/_testing.py:19: FutureWarning: pandas.util.testing is deprecated. Use the functions in the public API at pandas.testing instead.\n",
      "  import pandas.util.testing as tm\n"
     ]
    }
   ],
   "source": [
    "%matplotlib inline\n",
    "import numpy as np\n",
    "import scipy as sp\n",
    "import pandas as pd\n",
    "import matplotlib.pyplot as plt\n",
    "import matplotlib\n",
    "import seaborn\n",
    "import scipy.stats as stt\n",
    "seaborn.set(font_scale=1.5,style='ticks')\n",
    "import os\n",
    "import re\n",
    "import sys\n",
    "import itertools\n",
    "import networkx as nx\n",
    "clrs = seaborn.color_palette()\n",
    "\n",
    "sys.path.append(\"/Users/Yves/Documents/Code/line_loop/packages/\")\n",
    "\n",
    "\n",
    "sys.path.append(r\"C:\\Users\\yweissenberger\\Documents\\code\\line_loop-master\")\n",
    "sys.path.append(r\"C:\\Users\\yweissenberger\\Documents\\code\\line_loop-master\\packages\")\n"
   ]
  },
  {
   "cell_type": "code",
   "execution_count": 2,
   "metadata": {},
   "outputs": [],
   "source": [
    "import mouse_poker as mpk"
   ]
  },
  {
   "cell_type": "markdown",
   "metadata": {},
   "source": [
    "# Defined functions "
   ]
  },
  {
   "cell_type": "code",
   "execution_count": 3,
   "metadata": {},
   "outputs": [],
   "source": [
    "#physical positions of the pokes\n",
    "poke_pos = [ [149,0],\n",
    "         [68,19],[231,19],\n",
    "       [0,62],[149,62],[298,62],\n",
    "         [68,105],[231,105],\n",
    "              [149,124]]"
   ]
  },
  {
   "cell_type": "code",
   "execution_count": null,
   "metadata": {},
   "outputs": [],
   "source": []
  },
  {
   "cell_type": "code",
   "execution_count": 4,
   "metadata": {},
   "outputs": [],
   "source": [
    "def get_poke_to_state_map(lines):\n",
    "    \"\"\" This is a function that returns a map from po \"\"\"\n",
    "    tmp = []\n",
    "    for i,j in zip([int(re.findall('POKEDPORT_([0-9])',i)[0]) for i in lines if '_POKEDPORT' in i],\n",
    "                         [int(re.findall('POKEDSTATE_([0-9])',i)[0]) for i in lines if '_POKEDSTATE' in i]):\n",
    "\n",
    "        if [i,j] not in tmp:\n",
    "            tmp.append([i,j])\n",
    "    poke_to_state_map = [i[1] for i in sorted(tmp)]\n",
    "    return poke_to_state_map,tmp"
   ]
  },
  {
   "cell_type": "code",
   "execution_count": null,
   "metadata": {},
   "outputs": [],
   "source": []
  },
  {
   "cell_type": "code",
   "execution_count": 5,
   "metadata": {},
   "outputs": [],
   "source": [
    "def get_performance(dat_dict,poke_to_state_map,rew_indices,lines,minNrew=5,maxNrew=100,verbose=False):\n",
    "    \n",
    "    \"\"\" This function is used to calculate the fraction of correct choices in each state for each reward \n",
    "        location\n",
    "        \n",
    "    \"\"\"\n",
    "    perf = np.zeros([9,4])  #this is an array where we store the number of correct choices in each poke, in each state\n",
    "    perf_ctr = np.zeros([9,4]) #this is an array where we store the total number of choices in each poke, in each state\n",
    "    rew_hist = [] #reward\n",
    "    for i,j in enumerate([poke_to_state_map[i] for i in rew_indices]):\n",
    "        perf[j,i] = np.nan\n",
    "    for rew_ctr,(st,nd) in enumerate(zip(np.where(dat_dict['rew_list'])[0][:-1]+1,np.where(dat_dict['rew_list'])[0][1:])):\n",
    "        rew_loc = dat_dict['state'][nd][0]\n",
    "        #print(dat_dict['port'][nd][0])\n",
    "        rew_loc = dat_dict['state'][nd][0]\n",
    "\n",
    "        c_rew_index = rew_indices.index(dat_dict['port'][nd][0])\n",
    "        \n",
    "        if not rew_hist:\n",
    "            rew_hist.append(rew_loc)\n",
    "        elif rew_loc==rew_hist[-1]:\n",
    "            rew_hist.append(rew_loc)\n",
    "        else:\n",
    "            rew_hist = []\n",
    "        \n",
    "\n",
    "        if np.logical_and(len(rew_hist)>=minNrew,len(rew_hist)<=maxNrew): \n",
    "            #print(seq_rews)\n",
    "            has_visited = []\n",
    "            #print(st,nd)\n",
    "            #print('NEXTREW!!!!!!!!!')\n",
    "            for pk_ctr in range(st,nd):\n",
    "                if (len(dat_dict['state'][pk_ctr][1])>1) or (dat_dict['state'][pk_ctr][0]==0 or dat_dict['state'][pk_ctr][0]==8):\n",
    "                    d0 = np.abs(dat_dict['state'][pk_ctr][0]-rew_loc)\n",
    "                    d1 = np.abs(dat_dict['state'][pk_ctr+1][0]-rew_loc)\n",
    "                    st_dist = dat_dict['state'][pk_ctr][0]-dat_dict['state'][pk_ctr+1][0]\n",
    "                    if dat_dict['rew_list'][pk_ctr]:\n",
    "                        st_dist = 99\n",
    "                    \n",
    "                    state = dat_dict['state'][pk_ctr][0]\n",
    "                    #print(state,dat_dict['state'][pk_ctr+1][0],rew_loc)\n",
    "                                       if state not in has_visited:\n",
    "                        rewarded = dat_dict['rew_list'][pk_ctr]\n",
    "                        #if rewarded:\n",
    "                        #    perf[state,c_rew_index] += 1\n",
    "                        #    perf_ctr[state,c_rew_index] += 1\n",
    "\n",
    "                        if d1<d0:\n",
    "                            perf[state,c_rew_index] += 1\n",
    "                            perf_ctr[state,c_rew_index] += 1\n",
    "                        else:\n",
    "                            perf[state,c_rew_index] += 0\n",
    "                            perf_ctr[state,c_rew_index] += 1\n",
    "                else:\n",
    "\n",
    "                else:\n",
    "                    #print(\"GUIDED\")\n",
    "                    pass\n",
    "                        \n",
    "    return perf,perf_ctr"
   ]
  },
  {
   "cell_type": "code",
   "execution_count": 6,
   "metadata": {},
   "outputs": [],
   "source": [
    "#poke_to_state_map"
   ]
  },
  {
   "cell_type": "code",
   "execution_count": null,
   "metadata": {},
   "outputs": [],
   "source": []
  },
  {
   "cell_type": "code",
   "execution_count": null,
   "metadata": {},
   "outputs": [],
   "source": []
  },
  {
   "cell_type": "code",
   "execution_count": 7,
   "metadata": {},
   "outputs": [],
   "source": [
    "#aa = [int(re.findall('POKEDSTATE_([0-9])',lines[ijk-1])[0]) for ijk,i in enumerate(lines) if 'REW_True' in i]"
   ]
  },
  {
   "cell_type": "code",
   "execution_count": null,
   "metadata": {},
   "outputs": [],
   "source": []
  },
  {
   "cell_type": "code",
   "execution_count": null,
   "metadata": {},
   "outputs": [],
   "source": []
  },
  {
   "cell_type": "code",
   "execution_count": 8,
   "metadata": {},
   "outputs": [],
   "source": [
    "#poke_to_state_map"
   ]
  },
  {
   "cell_type": "markdown",
   "metadata": {},
   "source": [
    "# Actual code to run stuff "
   ]
  },
  {
   "cell_type": "code",
   "execution_count": 9,
   "metadata": {},
   "outputs": [
    {
     "name": "stdout",
     "output_type": "stream",
     "text": [
      "248\n"
     ]
    }
   ],
   "source": [
    "#print(day_df['filepath'].values[ix])\n",
    "#f = open(\"/Users/yweissenberger/Documents/Pycontrol/data/line_loop_batch_4_RUNNAVI/'456675_3'-2021-03-15-120439.txt\",'r')\n",
    "#f = open(\"/Users/yweissenberger/Documents/Pycontrol/data/line_loop_batch_4_RUNNAVI/'456675_3'-2021-03-03-105842.txt\",'r')\n",
    "#f = open(\"/Users/yweissenberger/Documents/Pycontrol/data/line_loop_batch_4_RUNNAVI/'456675_3'-2021-03-05-142010.txt\",'r')  #test session\n",
    "\n",
    "#f = open(\"/Volumes/hpc_dat/pycontrol/data/line_loop_batch_4_RUNNAVI/'456675_3'-2021-02-12-121633.txt\",'r')\n",
    "f = open(\"/Users/yves/Documents/beh_dat_new_room/line_loop_batch_4_RUNNAVI/'456675_3'-2021-03-02-103339.txt\",'r')\n",
    "\n",
    "lines =f.readlines()\n",
    "experiment_name, task_name, subject_id, task_nr, graph,lineloop,date,test,_ = mpk.load.get_metadata(lines)\n",
    "dat_dict,events,event_times,nRews,_ = mpk.load.parse_data(lines,experiment_name)\n",
    "print(nRews)"
   ]
  },
  {
   "cell_type": "code",
   "execution_count": null,
   "metadata": {},
   "outputs": [],
   "source": []
  },
  {
   "cell_type": "code",
   "execution_count": 10,
   "metadata": {},
   "outputs": [
    {
     "data": {
      "text/plain": [
       "dict_keys(['state', 'port', 'random', 'rew_locations', 'rews', 'rew_list'])"
      ]
     },
     "execution_count": 10,
     "metadata": {},
     "output_type": "execute_result"
    }
   ],
   "source": [
    "dat_dict.keys()"
   ]
  },
  {
   "cell_type": "code",
   "execution_count": 11,
   "metadata": {},
   "outputs": [],
   "source": [
    "\n",
    "poke_to_state_map,_ = get_poke_to_state_map(lines)\n",
    "rew_indices = [0,3,5,8]\n",
    "rew_indices = [eval(re.findall('REWARD LOCATIONS(\\[.*\\])',l)[0]) for l in lines if re.findall('REWARD LOCATIONS(\\[.*\\])',l)][0]\n"
   ]
  },
  {
   "cell_type": "code",
   "execution_count": null,
   "metadata": {},
   "outputs": [],
   "source": []
  },
  {
   "cell_type": "code",
   "execution_count": 12,
   "metadata": {},
   "outputs": [
    {
     "data": {
      "text/plain": [
       "[5, 2, 0, 3, 4, 7, 6, 8, 1]"
      ]
     },
     "execution_count": 12,
     "metadata": {},
     "output_type": "execute_result"
    }
   ],
   "source": [
    "poke_to_state_map"
   ]
  },
  {
   "cell_type": "code",
   "execution_count": null,
   "metadata": {},
   "outputs": [],
   "source": []
  },
  {
   "cell_type": "code",
   "execution_count": 13,
   "metadata": {},
   "outputs": [
    {
     "data": {
      "text/plain": [
       "[5, 2, 0, 3, 4, 7, 6, 8, 1]"
      ]
     },
     "execution_count": 13,
     "metadata": {},
     "output_type": "execute_result"
    }
   ],
   "source": [
    "poke_to_state_map"
   ]
  },
  {
   "cell_type": "code",
   "execution_count": 14,
   "metadata": {},
   "outputs": [],
   "source": [
    "nR = 0\n",
    "perf,perf_ctr = get_performance(dat_dict,poke_to_state_map,rew_indices,lines,minNrew=nR)\n"
   ]
  },
  {
   "cell_type": "code",
   "execution_count": 16,
   "metadata": {},
   "outputs": [
    {
     "data": {
      "text/plain": [
       "0.7826855123674912"
      ]
     },
     "execution_count": 16,
     "metadata": {},
     "output_type": "execute_result"
    }
   ],
   "source": [
    "np.nansum(perf)/np.nansum(perf_ctr)"
   ]
  },
  {
   "cell_type": "code",
   "execution_count": 17,
   "metadata": {},
   "outputs": [
    {
     "name": "stderr",
     "output_type": "stream",
     "text": [
      "/Users/yves/opt/anaconda3/lib/python3.7/site-packages/ipykernel_launcher.py:1: RuntimeWarning: invalid value encountered in true_divide\n",
      "  \"\"\"Entry point for launching an IPython kernel.\n"
     ]
    },
    {
     "data": {
      "text/plain": [
       "0.840753671494839"
      ]
     },
     "execution_count": 17,
     "metadata": {},
     "output_type": "execute_result"
    }
   ],
   "source": [
    "np.nanmean(perf/perf_ctr)"
   ]
  },
  {
   "cell_type": "code",
   "execution_count": 18,
   "metadata": {},
   "outputs": [
    {
     "name": "stderr",
     "output_type": "stream",
     "text": [
      "/Users/yves/opt/anaconda3/lib/python3.7/site-packages/ipykernel_launcher.py:2: RuntimeWarning: invalid value encountered in true_divide\n",
      "  \n"
     ]
    }
   ],
   "source": [
    "#perf,perf_ctr = get_performance(dat_dict,poke_to_state_map,rew_indices,lines,minNrew=nR,maxNrew=nR)\n",
    "fc = perf/perf_ctr\n"
   ]
  },
  {
   "cell_type": "code",
   "execution_count": 19,
   "metadata": {},
   "outputs": [
    {
     "name": "stdout",
     "output_type": "stream",
     "text": [
      "0\n",
      "1\n",
      "2\n",
      "3\n",
      "4\n",
      "5\n",
      "6\n",
      "7\n",
      "8\n",
      "9\n",
      "10\n",
      "11\n",
      "12\n",
      "13\n",
      "14\n",
      "15\n",
      "16\n",
      "17\n",
      "18\n",
      "19\n",
      "0.9375\n"
     ]
    },
    {
     "name": "stderr",
     "output_type": "stream",
     "text": [
      "/Users/yves/opt/anaconda3/lib/python3.7/site-packages/ipykernel_launcher.py:5: RuntimeWarning: invalid value encountered in true_divide\n",
      "  \"\"\"\n"
     ]
    }
   ],
   "source": [
    "allres = []\n",
    "for nR in range(0,20):\n",
    "    print(nR)\n",
    "    perf,perf_ctr = get_performance(dat_dict,poke_to_state_map,rew_indices,lines,minNrew=nR,maxNrew=nR)\n",
    "    fc = perf/perf_ctr\n",
    "    allres.append(np.nansum(perf/np.nansum(perf_ctr)))\n",
    "#fc[np.isnan(fc)] = 1\n",
    "print(np.nanmean(fc))"
   ]
  },
  {
   "cell_type": "code",
   "execution_count": 20,
   "metadata": {},
   "outputs": [
    {
     "data": {
      "text/plain": [
       "<matplotlib.collections.PathCollection at 0x7fee205e7fd0>"
      ]
     },
     "execution_count": 20,
     "metadata": {},
     "output_type": "execute_result"
    },
    {
     "data": {
      "image/png": "[encoded data removed]",
      "text/plain": [
       "<Figure size 432x288 with 1 Axes>"
      ]
     },
     "metadata": {
      "needs_background": "light"
     },
     "output_type": "display_data"
    }
   ],
   "source": [
    "from scipy.ndimage import gaussian_filter1d\n",
    "plt.plot(gaussian_filter1d(allres,1.5,mode='nearest'),color=clrs[1],linewidth=6)\n",
    "plt.scatter(range(len(allres)),allres,s=64,color='k')"
   ]
  },
  {
   "cell_type": "code",
   "execution_count": 21,
   "metadata": {},
   "outputs": [],
   "source": [
    "#perf[np.where(perf_ctr==0)[0],np.where(perf_ctr==0)[1],np.where(perf_ctr==0)[2]] = np.nan"
   ]
  },
  {
   "cell_type": "code",
   "execution_count": null,
   "metadata": {},
   "outputs": [],
   "source": [
    "#plt.plot(gaussian_filter1d(np.nanmean(perf/perf_ctr,axis=(0,1)),2,mode='nearest'))"
   ]
  },
  {
   "cell_type": "code",
   "execution_count": null,
   "metadata": {},
   "outputs": [],
   "source": []
  },
  {
   "cell_type": "code",
   "execution_count": null,
   "metadata": {},
   "outputs": [],
   "source": [
    "edges_state = [[i,i+1] for i in range(8)]\n",
    "edges_state.extend([i+1,i] for i in range(8))    \n",
    "edges = []\n",
    "for e1,e2 in edges_state:\n",
    "    edges.append([poke_to_state_map.index(e1),poke_to_state_map.index(e2)])"
   ]
  },
  {
   "cell_type": "code",
   "execution_count": 16,
   "metadata": {},
   "outputs": [],
   "source": [
    "ix = 1\n",
    "c_rew_index = poke_to_state_map[rew_indices[ix]]\n",
    "\n",
    "good_edges = [[poke_to_state_map.index(0),poke_to_state_map.index(1)],\n",
    "              [poke_to_state_map.index(8),poke_to_state_map.index(7)]]\n",
    "bad_edges = []\n",
    "for s in range(1,8):\n",
    "    if s!=c_rew_index:\n",
    "        d1 = np.abs(c_rew_index-(s+1))\n",
    "        d2 = np.abs(c_rew_index-(s-1))\n",
    "        min_ = np.argmin([d1,d2])\n",
    "        max_ = np.argmax([d1,d2])\n",
    "\n",
    "        good_edges.append([poke_to_state_map.index(s),poke_to_state_map.index([s+1,s-1][min_])])\n",
    "        bad_edges.append([poke_to_state_map.index(s),poke_to_state_map.index([s+1,s-1][max_])])"
   ]
  },
  {
   "cell_type": "code",
   "execution_count": null,
   "metadata": {},
   "outputs": [],
   "source": []
  },
  {
   "cell_type": "code",
   "execution_count": 17,
   "metadata": {},
   "outputs": [
    {
     "ename": "NameError",
     "evalue": "name 'fc' is not defined",
     "output_type": "error",
     "traceback": [
      "\u001b[0;31m---------------------------------------------------------------------------\u001b[0m",
      "\u001b[0;31mNameError\u001b[0m                                 Traceback (most recent call last)",
      "\u001b[0;32m<ipython-input-17-9eefb5bef2b2>\u001b[0m in \u001b[0;36m<module>\u001b[0;34m\u001b[0m\n\u001b[1;32m     29\u001b[0m \u001b[0;34m\u001b[0m\u001b[0m\n\u001b[1;32m     30\u001b[0m     \u001b[0;32mfor\u001b[0m \u001b[0me\u001b[0m \u001b[0;32min\u001b[0m \u001b[0mgood_edges\u001b[0m\u001b[0;34m:\u001b[0m\u001b[0;34m\u001b[0m\u001b[0;34m\u001b[0m\u001b[0m\n\u001b[0;32m---> 31\u001b[0;31m         \u001b[0mG\u001b[0m\u001b[0;34m.\u001b[0m\u001b[0madd_edge\u001b[0m\u001b[0;34m(\u001b[0m\u001b[0me\u001b[0m\u001b[0;34m[\u001b[0m\u001b[0;36m0\u001b[0m\u001b[0;34m]\u001b[0m\u001b[0;34m,\u001b[0m\u001b[0me\u001b[0m\u001b[0;34m[\u001b[0m\u001b[0;36m1\u001b[0m\u001b[0;34m]\u001b[0m\u001b[0;34m,\u001b[0m\u001b[0mweight\u001b[0m\u001b[0;34m=\u001b[0m\u001b[0mfc\u001b[0m\u001b[0;34m[\u001b[0m\u001b[0mpoke_to_state_map\u001b[0m\u001b[0;34m[\u001b[0m\u001b[0me\u001b[0m\u001b[0;34m[\u001b[0m\u001b[0;36m0\u001b[0m\u001b[0;34m]\u001b[0m\u001b[0;34m]\u001b[0m\u001b[0;34m,\u001b[0m\u001b[0mix\u001b[0m\u001b[0;34m]\u001b[0m\u001b[0;34m,\u001b[0m\u001b[0mcolor\u001b[0m\u001b[0;34m=\u001b[0m\u001b[0;34m'g'\u001b[0m\u001b[0;34m)\u001b[0m\u001b[0;34m\u001b[0m\u001b[0;34m\u001b[0m\u001b[0m\n\u001b[0m\u001b[1;32m     32\u001b[0m         \u001b[0;31m#weights.append(3*fc[poke_to_state_map[e[0]],ix])\u001b[0m\u001b[0;34m\u001b[0m\u001b[0;34m\u001b[0m\u001b[0;34m\u001b[0m\u001b[0m\n\u001b[1;32m     33\u001b[0m \u001b[0;34m\u001b[0m\u001b[0m\n",
      "\u001b[0;31mNameError\u001b[0m: name 'fc' is not defined"
     ]
    },
    {
     "data": {
      "image/png": "[encoded data removed]",
      "text/plain": [
       "<Figure size 1152x288 with 1 Axes>"
      ]
     },
     "metadata": {},
     "output_type": "display_data"
    }
   ],
   "source": [
    "plt.figure(figsize=(16,4))\n",
    "for ix in range(4):\n",
    "    plt.subplot(1,4,ix+1)\n",
    "    #ix = 1\n",
    "    c_rew_index = poke_to_state_map[rew_indices[ix]]\n",
    "\n",
    "    good_edges = [[poke_to_state_map.index(0),poke_to_state_map.index(1)],\n",
    "                  [poke_to_state_map.index(8),poke_to_state_map.index(7)]]\n",
    "    bad_edges = []\n",
    "    for s in range(1,8):\n",
    "        if s!=c_rew_index:\n",
    "            d1 = np.abs(c_rew_index-(s+1))\n",
    "            d2 = np.abs(c_rew_index-(s-1))\n",
    "            min_ = np.argmin([d1,d2])\n",
    "            max_ = np.argmax([d1,d2])\n",
    "\n",
    "            good_edges.append([poke_to_state_map.index(s),poke_to_state_map.index([s+1,s-1][min_])])\n",
    "            bad_edges.append([poke_to_state_map.index(s),poke_to_state_map.index([s+1,s-1][max_])])\n",
    "\n",
    "\n",
    "\n",
    "\n",
    "    pos = np.array([1,-1])*poke_pos\n",
    "    G0 = nx.DiGraph()\n",
    "    G0.add_nodes_from(range(9),pos=np.array([1,-1])*poke_pos)\n",
    "    nx.draw(G0,pos=pos,alpha=.2)\n",
    "    G = nx.DiGraph()\n",
    "    weights = []\n",
    "\n",
    "    for e in good_edges:\n",
    "        G.add_edge(e[0],e[1],weight=fc[poke_to_state_map[e[0]],ix],color='g')\n",
    "        #weights.append(3*fc[poke_to_state_map[e[0]],ix])\n",
    "\n",
    "    for e in bad_edges:\n",
    "        G.add_edge(e[0],e[1],weight=1-fc[poke_to_state_map[e[0]],ix],color='r')\n",
    "        #weights.append(3*fc[poke_to_state_map[e[0]],ix])\n",
    "\n",
    "    #G.add_edges_from([i for i in good_edges if None not in i])\n",
    "    weights = nx.get_edge_attributes(G,'weight')\n",
    "    colors = nx.get_edge_attributes(G,'color')\n",
    "    node_colors = ['.3' for _ in range(9)]\n",
    "    node_colors[[7,5,3,1][ix]] = 'g'\n",
    "    nx.draw(G,\n",
    "        pos=pos,\n",
    "            width=(10**(np.array(list(weights.values()))))/2,\n",
    "            edge_color=np.array(list(colors.values())),\n",
    "            connectionstyle=\"arc3,rad=-0.1\",\n",
    "            node_color=node_colors,\n",
    "            node_size=768)\n",
    "plt.tight_layout()\n",
    "#plt.savefig(\"/Users/yves/Desktop/tpf/navi_decisions.svg\")\n",
    "#plt.savefig(\"/Users/yves/Desktop/tpf/navi_decisions.png\",dpi=300)\n"
   ]
  },
  {
   "cell_type": "code",
   "execution_count": null,
   "metadata": {},
   "outputs": [],
   "source": [
    "sqr = fc\n",
    "sqr[0] = 1\n",
    "sqr[-1] = 1\n",
    "plt.imshow(sqr,vmin=0,vmax=1,cmap='RdBu_r')\n",
    "plt.xlabel(\"Rew Location\")\n",
    "plt.xticks([0,1,2,3],['T','L','R','B'])\n",
    "plt.ylabel(\"State\")\n",
    "cbar = plt.colorbar()\n",
    "cbar.set_label(\"Fraction Correct\")\n",
    "plt.tight_layout()"
   ]
  },
  {
   "cell_type": "code",
   "execution_count": 18,
   "metadata": {},
   "outputs": [
    {
     "name": "stderr",
     "output_type": "stream",
     "text": [
      "/Users/yves/opt/anaconda3/lib/python3.7/site-packages/ipykernel_launcher.py:1: RuntimeWarning: invalid value encountered in true_divide\n",
      "  \"\"\"Entry point for launching an IPython kernel.\n"
     ]
    }
   ],
   "source": [
    "fc = perf/perf_ctr\n",
    "fc[np.isnan(fc)] = 1"
   ]
  },
  {
   "cell_type": "code",
   "execution_count": 19,
   "metadata": {},
   "outputs": [
    {
     "data": {
      "text/plain": [
       "array([[1.        , 1.        , 1.        , 1.        ],\n",
       "       [0.95      , 1.        , 0.79310345, 1.        ],\n",
       "       [0.81666667, 1.        , 0.76470588, 0.86419753],\n",
       "       [0.43137255, 1.        , 0.4556962 , 0.92307692],\n",
       "       [1.        , 0.86486486, 0.56896552, 0.7037037 ],\n",
       "       [1.        , 0.89552239, 0.525     , 0.88059701],\n",
       "       [0.84210526, 0.88679245, 0.75      , 0.85714286],\n",
       "       [0.83333333, 0.75862069, 1.        , 0.85714286],\n",
       "       [1.        , 1.        , 1.        , 1.        ]])"
      ]
     },
     "execution_count": 19,
     "metadata": {},
     "output_type": "execute_result"
    }
   ],
   "source": [
    "fc"
   ]
  },
  {
   "cell_type": "markdown",
   "metadata": {},
   "source": [
    "# Performance history"
   ]
  },
  {
   "cell_type": "code",
   "execution_count": 22,
   "metadata": {},
   "outputs": [
    {
     "name": "stdout",
     "output_type": "stream",
     "text": [
      "/Users/yves/Documents/behavior_data/line_loop_cohort_1/line_loop_batch_4_RUNNAVI/'456675_3'-2020-12-10-152212.txt\n"
     ]
    },
    {
     "name": "stderr",
     "output_type": "stream",
     "text": [
      "/Users/yves/opt/anaconda3/lib/python3.7/site-packages/ipykernel_launcher.py:23: RuntimeWarning: invalid value encountered in true_divide\n"
     ]
    },
    {
     "name": "stdout",
     "output_type": "stream",
     "text": [
      "/Users/yves/Documents/behavior_data/line_loop_cohort_1/line_loop_batch_4_RUNNAVI/'456675_3'-2020-12-11-103901.txt\n",
      "/Users/yves/Documents/behavior_data/line_loop_cohort_1/line_loop_batch_4_RUNNAVI/'456675_3'-2020-12-11-152734.txt\n",
      "/Users/yves/Documents/behavior_data/line_loop_cohort_1/line_loop_batch_4_RUNNAVI/'456675_3'-2020-12-12-101356.txt\n",
      "/Users/yves/Documents/behavior_data/line_loop_cohort_1/line_loop_batch_4_RUNNAVI/'456675_3'-2020-12-12-134909.txt\n",
      "/Users/yves/Documents/behavior_data/line_loop_cohort_1/line_loop_batch_4_RUNNAVI/'456675_3'-2020-12-14-164104.txt\n"
     ]
    },
    {
     "name": "stderr",
     "output_type": "stream",
     "text": [
      "/Users/yves/opt/anaconda3/lib/python3.7/site-packages/ipykernel_launcher.py:27: RuntimeWarning: Mean of empty slice\n",
      "/Users/yves/opt/anaconda3/lib/python3.7/site-packages/ipykernel_launcher.py:28: RuntimeWarning: Mean of empty slice\n"
     ]
    },
    {
     "name": "stdout",
     "output_type": "stream",
     "text": [
      "/Users/yves/Documents/behavior_data/line_loop_cohort_1/line_loop_batch_4_RUNNAVI/'456675_3'-2020-12-16-105855.txt\n",
      "/Users/yves/Documents/behavior_data/line_loop_cohort_1/line_loop_batch_4_RUNNAVI/'456675_3'-2020-12-16-154842.txt\n",
      "/Users/yves/Documents/behavior_data/line_loop_cohort_1/line_loop_batch_4_RUNNAVI/'456675_3'-2020-12-17-145401.txt\n",
      "/Users/yves/Documents/behavior_data/line_loop_cohort_1/line_loop_batch_4_RUNNAVI/'456675_3'-2020-12-17-150014.txt\n"
     ]
    }
   ],
   "source": [
    "ROOT = \"/Users/yweissenberger/Documents/Pycontrol/data/line_loop_batch_4_RUNNAVI/\"\n",
    "ROOT = '/Users/yves/Documents/behavior_data/line_loop_cohort_1/line_loop_batch_4_RUNNAVI/'\n",
    "fs = sorted([os.path.join(ROOT,i) for i in os.listdir(ROOT) if '.txt' in i])\n",
    "perf_hist = []\n",
    "all_fc  = []\n",
    "all_perf = np.zeros([9,4])\n",
    "all_ctr = np.zeros([9,4])\n",
    "\n",
    "perf_stuff = [[] for _ in range(20)]\n",
    "for f_ in fs[-10:]:\n",
    "    print(f_)\n",
    "    try:\n",
    "        f = open(f_,'r')\n",
    "        lines =f.readlines()\n",
    "        for mnr in range(20):\n",
    "            experiment_name, task_name, subject_id, task_nr, graph,lineloop,date,test,_ = mpk.load.get_metadata(lines)\n",
    "            dat_dict,events,event_times,nRews,_ = mpk.load.parse_data(lines,experiment_name)\n",
    "\n",
    "            #poke_to_state_map = get_poke_to_state_map(lines)\n",
    "            rew_indices = [0,3,5,8]\n",
    "            perf,perf_ctr = get_performance(dat_dict,poke_to_state_map,rew_indices,lines,minNrew=mnr,maxNrew=mnr)\n",
    "\n",
    "            fc = perf/perf_ctr\n",
    "            all_perf += perf\n",
    "            all_ctr += perf_ctr\n",
    "            all_fc.append(fc)\n",
    "            perf_hist.append(np.nanmean(fc))\n",
    "            perf_stuff[mnr].append(np.nanmean(fc))\n",
    "    except:\n",
    "        pass"
   ]
  },
  {
   "cell_type": "code",
   "execution_count": 24,
   "metadata": {},
   "outputs": [],
   "source": [
    "from scipy.ndimage import gaussian_filter1d"
   ]
  },
  {
   "cell_type": "code",
   "execution_count": 31,
   "metadata": {},
   "outputs": [
    {
     "data": {
      "image/png": "[encoded data removed]",
      "text/plain": [
       "<Figure size 432x288 with 1 Axes>"
      ]
     },
     "metadata": {
      "needs_background": "light"
     },
     "output_type": "display_data"
    }
   ],
   "source": [
    "sess_perf = [np.nanmean(i) for i in perf_stuff]\n",
    "plt.plot(gaussian_filter1d(sess_perf,2.25,mode='nearest'),linewidth=5)\n",
    "plt.scatter(range(len(sess_perf)),sess_perf,color='k',s=128,edgecolors='none')\n",
    "plt.xlabel(\"# of successive rewards at some location\")\n",
    "plt.ylabel(\"Proportion\\n correct\")\n",
    "plt.ylim(.6,.975)\n",
    "seaborn.despine()"
   ]
  },
  {
   "cell_type": "code",
   "execution_count": 21,
   "metadata": {},
   "outputs": [
    {
     "data": {
      "text/plain": [
       "[<matplotlib.lines.Line2D at 0x7feb1a67e690>]"
      ]
     },
     "execution_count": 21,
     "metadata": {},
     "output_type": "execute_result"
    },
    {
     "data": {
      "image/png": "[encoded data removed]",
      "text/plain": [
       "<Figure size 432x288 with 1 Axes>"
      ]
     },
     "metadata": {
      "needs_background": "light"
     },
     "output_type": "display_data"
    }
   ],
   "source": [
    "plt.scatter(range(20),[np.nanmean(i) for i in perf_stuff])"
   ]
  },
  {
   "cell_type": "code",
   "execution_count": 80,
   "metadata": {},
   "outputs": [
    {
     "data": {
      "text/plain": [
       "0.00796983057579857"
      ]
     },
     "execution_count": 80,
     "metadata": {},
     "output_type": "execute_result"
    }
   ],
   "source": [
    "stt.binom_test(0.57*400,n=400)"
   ]
  },
  {
   "cell_type": "code",
   "execution_count": 81,
   "metadata": {},
   "outputs": [
    {
     "data": {
      "text/plain": [
       "array([[nan, nan, nan, nan],\n",
       "       [nan, nan, nan, nan],\n",
       "       [nan, nan, nan, nan],\n",
       "       [nan, nan, nan, nan],\n",
       "       [nan, nan, nan, nan],\n",
       "       [nan, nan, nan, nan],\n",
       "       [nan, nan, nan, nan],\n",
       "       [nan, nan, nan, nan],\n",
       "       [nan, nan, nan, nan]])"
      ]
     },
     "execution_count": 81,
     "metadata": {},
     "output_type": "execute_result"
    }
   ],
   "source": [
    "fc"
   ]
  },
  {
   "cell_type": "code",
   "execution_count": 82,
   "metadata": {},
   "outputs": [
    {
     "name": "stderr",
     "output_type": "stream",
     "text": [
      "/Users/yves/opt/anaconda3/lib/python3.7/site-packages/ipykernel_launcher.py:2: RuntimeWarning: Mean of empty slice\n",
      "  \n"
     ]
    },
    {
     "name": "stdout",
     "output_type": "stream",
     "text": [
      "[[1.         1.         1.         1.        ]\n",
      " [1.         1.         0.59722222        nan]\n",
      " [0.89909297 1.         0.90833333 0.95944444]\n",
      " [0.58061224        nan 0.58630952 0.97151515]\n",
      " [1.         0.93452381 0.91875    0.7973545 ]\n",
      " [       nan 0.78703704 0.78125    0.90593434]\n",
      " [1.         0.96666667 0.95833333 0.98039216]\n",
      " [1.         0.86111111        nan 0.94444444]\n",
      " [1.         1.         1.         1.        ]]\n"
     ]
    },
    {
     "data": {
      "image/png": "[encoded data removed]",
      "text/plain": [
       "<Figure size 432x288 with 2 Axes>"
      ]
     },
     "metadata": {},
     "output_type": "display_data"
    }
   ],
   "source": [
    "#sqr = all_perf/all_ctr\n",
    "sqr = np.nanmean(all_fc[-10:],axis=0)\n",
    "fc = sqr\n",
    "sqr[0] = 1\n",
    "sqr[-1] = 1\n",
    "plt.imshow(sqr,vmin=0,vmax=1,cmap='RdBu_r',aspect=.7)\n",
    "plt.xlabel(\"Rew Location\")\n",
    "plt.xticks([0,1,2,3],['T','L','R','B'])\n",
    "plt.ylabel(\"State\")\n",
    "cbar = plt.colorbar()\n",
    "cbar.set_label(\"Fraction Correct\")\n",
    "#cbar.ax.\n",
    "plt.tight_layout()\n",
    "#plt.tight_layout*\n",
    "#plt.savefig(\"/Users/yves/Desktop/tpf/navi_frac_corr_by_state.svg\")\n",
    "#plt.savefig(\"/Users/yves/Desktop/tpf/navi_frac_corr_by_state.png\",dpi=300)\n",
    "print(sqr)"
   ]
  },
  {
   "cell_type": "code",
   "execution_count": 83,
   "metadata": {},
   "outputs": [
    {
     "name": "stdout",
     "output_type": "stream",
     "text": [
      "[[1.         1.         1.         1.        ]\n",
      " [1.         1.         0.59722222        nan]\n",
      " [0.89909297 1.         0.90833333 0.95944444]\n",
      " [0.58061224        nan 0.58630952 0.97151515]\n",
      " [1.         0.93452381 0.91875    0.7973545 ]\n",
      " [       nan 0.78703704 0.78125    0.90593434]\n",
      " [1.         0.96666667 0.95833333 0.98039216]\n",
      " [1.         0.86111111        nan 0.94444444]\n",
      " [1.         1.         1.         1.        ]]\n"
     ]
    },
    {
     "name": "stderr",
     "output_type": "stream",
     "text": [
      "/Users/yves/opt/anaconda3/lib/python3.7/site-packages/ipykernel_launcher.py:2: RuntimeWarning: Mean of empty slice\n",
      "  \n"
     ]
    },
    {
     "data": {
      "image/png": "[encoded data removed]",
      "text/plain": [
       "<Figure size 432x288 with 2 Axes>"
      ]
     },
     "metadata": {},
     "output_type": "display_data"
    }
   ],
   "source": [
    "#sqr = all_perf/all_ctr\n",
    "sqr = np.nanmean(all_fc[-10:],axis=0)\n",
    "fc = sqr\n",
    "sqr[0] = 1\n",
    "sqr[-1] = 1\n",
    "plt.imshow(sqr,vmin=0,vmax=1,cmap='RdBu_r',aspect=.7)\n",
    "plt.xlabel(\"Rew Location\")\n",
    "plt.xticks([0,1,2,3],['T','L','R','B'])\n",
    "plt.ylabel(\"State\")\n",
    "cbar = plt.colorbar()\n",
    "cbar.set_label(\"Fraction Correct\")\n",
    "#cbar.ax.\n",
    "plt.tight_layout()\n",
    "#plt.tight_layout*\n",
    "#plt.savefig(\"/Users/yves/Desktop/tpf/navi_frac_corr_by_state.svg\")\n",
    "#plt.savefig(\"/Users/yves/Desktop/tpf/navi_frac_corr_by_state.png\",dpi=300)\n",
    "print(sqr)"
   ]
  },
  {
   "cell_type": "code",
   "execution_count": 87,
   "metadata": {},
   "outputs": [],
   "source": [
    "seaborn.set(font_scale=1.5,style='ticks',rc={'axes.edgecolor': 'k',\n",
    "                                             'axes.linewidth': 2,\n",
    "                                             #'xtick.major.size': 6,\n",
    "                                             'axes.labelcolor':'k',\n",
    "                                             'xtick.major.width': 2,\n",
    "                                             'ytick.major.width': 2,\n",
    "                                             'xtick.major.pad': 5.5,\n",
    "                                             'ytick.major.pad': 5.5,\n",
    "                                             'axes.labelsize': 18\n",
    "                                            })\n"
   ]
  },
  {
   "cell_type": "code",
   "execution_count": 73,
   "metadata": {},
   "outputs": [],
   "source": [
    "from scipy.ndimage import gaussian_filter1d"
   ]
  },
  {
   "cell_type": "code",
   "execution_count": 74,
   "metadata": {},
   "outputs": [
    {
     "data": {
      "image/png": "[encoded data removed]",
      "text/plain": [
       "<Figure size 432x288 with 1 Axes>"
      ]
     },
     "metadata": {},
     "output_type": "display_data"
    }
   ],
   "source": [
    "sess_perf = [np.nanmean(i) for i in perf_hist if not np.isnan(np.nanmean(i))][1:]\n",
    "plt.plot(gaussian_filter1d(sess_perf,2.25,mode='nearest'),linewidth=5)\n",
    "plt.scatter(range(len(sess_perf)),sess_perf,color='k',s=128,edgecolors='none')\n",
    "plt.xlabel(\"Session #\")\n",
    "plt.ylabel(\"Proportion of\\n correct transitions\")\n",
    "#plt.xlim(-.5)\n",
    "seaborn.despine()\n",
    "plt.tight_layout()\n",
    "#plt.savefig(\"/Users/yves/Desktop/tpf/navi_learning.svg\")\n",
    "#plt.savefig(\"/Users/yves/Desktop/tpf/navi_learning.png\",dpi=300)\n"
   ]
  },
  {
   "cell_type": "code",
   "execution_count": 73,
   "metadata": {},
   "outputs": [
    {
     "name": "stderr",
     "output_type": "stream",
     "text": [
      "/Users/yves/opt/anaconda3/lib/python3.7/site-packages/ipykernel_launcher.py:1: RuntimeWarning: Mean of empty slice\n",
      "  \"\"\"Entry point for launching an IPython kernel.\n"
     ]
    },
    {
     "data": {
      "image/png": "[encoded data removed]",
      "text/plain": [
       "<Figure size 432x288 with 1 Axes>"
      ]
     },
     "metadata": {},
     "output_type": "display_data"
    }
   ],
   "source": [
    "sess_perf = [np.nanmean(i) for i in perf_hist if not np.isnan(np.nanmean(i))][1:]\n",
    "plt.plot(gaussian_filter1d(sess_perf,2.25,mode='nearest'),linewidth=5)\n",
    "plt.scatter(range(len(sess_perf)),sess_perf,color='k',s=128,edgecolors='none')\n",
    "plt.xlabel(\"Session #\")\n",
    "plt.ylabel(\"Proportion\\n correct\")\n",
    "#plt.xlim(-.5)\n",
    "seaborn.despine()\n",
    "plt.tight_layout()"
   ]
  },
  {
   "cell_type": "code",
   "execution_count": 157,
   "metadata": {},
   "outputs": [
    {
     "name": "stderr",
     "output_type": "stream",
     "text": [
      "/Users/yves/opt/anaconda3/lib/python3.7/site-packages/ipykernel_launcher.py:1: RuntimeWarning: Mean of empty slice\n",
      "  \"\"\"Entry point for launching an IPython kernel.\n"
     ]
    },
    {
     "data": {
      "image/png": "[encoded data removed]",
      "text/plain": [
       "<Figure size 432x288 with 1 Axes>"
      ]
     },
     "metadata": {},
     "output_type": "display_data"
    }
   ],
   "source": [
    "sess_perf = [np.nanmean(i) for i in perf_hist if not np.isnan(np.nanmean(i))][2:]\n",
    "plt.plot(gaussian_filter1d(sess_perf,1.5),linewidth=3)\n",
    "plt.scatter(range(len(sess_perf)),sess_perf,color='k',s=96)\n",
    "plt.xlabel(\"Session #\")\n",
    "plt.ylabel(\"Proportion correct transitions\")\n",
    "seaborn.despine()\n",
    "plt.tight_layout()"
   ]
  },
  {
   "cell_type": "code",
   "execution_count": 352,
   "metadata": {},
   "outputs": [
    {
     "data": {
      "text/plain": [
       "[0.49722222222222223,\n",
       " 0.4375,\n",
       " 0.575,\n",
       " 0.7785714285714285,\n",
       " 0.533253751851708,\n",
       " 0.6662414947395835,\n",
       " 0.6223282951941488,\n",
       " 0.6737401169376257,\n",
       " 0.5623015873015873,\n",
       " 0.7999957558781088,\n",
       " 0.6801653630532941,\n",
       " 0.7255549534816176,\n",
       " 0.6285714285714286,\n",
       " 0.6530097125413526,\n",
       " 0.7148889066754313,\n",
       " 0.7511047675485337,\n",
       " 0.6965651402837558,\n",
       " 0.6748187242519604,\n",
       " 0.7148784777376731,\n",
       " 0.7550147542587059,\n",
       " 0.737619565377113,\n",
       " 0.7809430094711312,\n",
       " 0.7239262720576801,\n",
       " 0.7749516267766803,\n",
       " 0.812864219114219,\n",
       " 0.8291787702735416,\n",
       " 0.7415101007090994,\n",
       " 0.8239091239707511,\n",
       " 0.8041840068465725,\n",
       " 0.7300002479969016,\n",
       " 0.8666666666666666,\n",
       " 0.7148947762687461,\n",
       " 0.8286583091222216,\n",
       " 0.843745340022627,\n",
       " 0.8108984078641084,\n",
       " 0.7186338736621062,\n",
       " 0.8182802374871762,\n",
       " 0.768012650998762,\n",
       " 0.8241828432867361,\n",
       " 0.7641757529894638,\n",
       " 0.7426986029797972,\n",
       " 0.792046279791378,\n",
       " 0.7794624634760058,\n",
       " 0.7853650581919769,\n",
       " 0.7923093533308587,\n",
       " 0.8192483509256663,\n",
       " 0.7656474722385459,\n",
       " 0.9027777777777777,\n",
       " 0.8608389450056116,\n",
       " 0.8216294170228826]"
      ]
     },
     "execution_count": 352,
     "metadata": {},
     "output_type": "execute_result"
    }
   ],
   "source": [
    "sess_perf"
   ]
  },
  {
   "cell_type": "code",
   "execution_count": null,
   "metadata": {},
   "outputs": [],
   "source": []
  },
  {
   "cell_type": "code",
   "execution_count": null,
   "metadata": {},
   "outputs": [],
   "source": []
  }
 ],
 "metadata": {
  "kernelspec": {
   "display_name": "Python 3",
   "language": "python",
   "name": "python3"
  },
  "language_info": {
   "codemirror_mode": {
    "name": "ipython",
    "version": 3
   },
   "file_extension": ".py",
   "mimetype": "text/x-python",
   "name": "python",
   "nbconvert_exporter": "python",
   "pygments_lexer": "ipython3",
   "version": "3.7.4"
  }
 },
 "nbformat": 4,
 "nbformat_minor": 2
}
