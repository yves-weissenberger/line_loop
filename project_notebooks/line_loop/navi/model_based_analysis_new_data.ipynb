{
 "cells": [
  {
   "cell_type": "markdown",
   "metadata": {},
   "source": [
    "# A tricky thing here is the difference between first visits and multiple visits essentially, because the animals have biases \n",
    "\n",
    "\n",
    "You could quantify this with a likelihood based approach. This would be the cleanest. You can calculate under.\n",
    "\n",
    "In effect you don't need them to be making the correct decision at each point, you need them to be more likely to make the correct decision that when they are following a policy that leads them to the correct reward. This could change the results in either direction\n",
    "\n",
    "You could also quantify this as being between having learned the correct policy and not.\n",
    "\n",
    "## Analysing it more complicatedly\n",
    "\n",
    "\n",
    "There are several ways of calculating this. Could compare this to the marginal distribution of all states. Could compare it to the marginal transition matrix.\n",
    "\n",
    "Ok, so the answer here is complicated. What we therefore need to do is quantify the biases. \n",
    "\n",
    "- Quantify stability of biases within session\n",
    "- Quantify the stability of across session biases\n",
    "- Quantify these conditional on reward location\n",
    "\n",
    "My sense is to compare it to the transition matrix distribution calculated for the reward location that preceeded the trial across the entire session\n",
    "\n",
    "\n",
    "## Unaswered questions\n",
    "\n",
    " - What is the null distribution, when you don't directly calculate fraction correct but calculate it against the empirical transition probabilities.\n",
    " - What do you do about transitions where in states that were rewarded??\n",
    " \n",
    " The null hypothesis is that the data\n",
    " \n",
    " \n",
    "Really need to think carefully about how to rule out that this is driven by one step transitions"
   ]
  },
  {
   "cell_type": "code",
   "execution_count": 464,
   "metadata": {},
   "outputs": [],
   "source": [
    "%matplotlib inline\n",
    "import numpy as np\n",
    "import scipy as sp\n",
    "import pandas as pd\n",
    "import matplotlib.pyplot as plt\n",
    "import matplotlib\n",
    "import seaborn\n",
    "import scipy.stats as stt\n",
    "seaborn.set(font_scale=1.5,style='ticks')\n",
    "import os\n",
    "import re\n",
    "import sys\n",
    "import itertools\n",
    "import functools\n",
    "import networkx as nx\n",
    "from datetime import date, timedelta\n",
    "from datetime import datetime\n",
    "from statsmodels.stats import proportion\n",
    "\n",
    "sys.path.append(r\"C:\\Users\\yweissenberger\\Documents\\code\\line_loop-master\")\n",
    "sys.path.append(r\"C:\\Users\\yweissenberger\\Documents\\code\\line_loop-master\\packages\")\n",
    "sys.path.append(\"/Users/yves/Documents/Code/line_loop/packages/\")"
   ]
  },
  {
   "cell_type": "code",
   "execution_count": 2,
   "metadata": {},
   "outputs": [],
   "source": [
    "import mouse_poker as mpk"
   ]
  },
  {
   "cell_type": "code",
   "execution_count": 3,
   "metadata": {},
   "outputs": [],
   "source": [
    "#physical position of the pokes. In terms of numbering, the pokes are numbered as follows\n",
    "#(or in some cases the indexing starts from 0 rather than 1)\n",
    "\n",
    "\"\"\"\n",
    "     1\n",
    "   2   3\n",
    " 4   5   6 \n",
    "   7   8\n",
    "     9\n",
    "\"\"\"\n",
    "\n",
    "#physical positions of the pokes, used for drawing the graphs\n",
    "#with nodes and edges. The distances here are to scale with\n",
    "#the real thing.\n",
    "poke_pos = [ [149,0],\n",
    "         [68,19],[231,19],\n",
    "       [0,62],[149,62],[298,62],\n",
    "         [68,105],[231,105],\n",
    "              [149,124]]"
   ]
  },
  {
   "cell_type": "code",
   "execution_count": 4,
   "metadata": {},
   "outputs": [],
   "source": [
    "from mouse_poker.navi import *"
   ]
  },
  {
   "cell_type": "markdown",
   "metadata": {},
   "source": [
    "# Helper functions"
   ]
  },
  {
   "cell_type": "code",
   "execution_count": 396,
   "metadata": {},
   "outputs": [],
   "source": [
    "def get_transition_matrix(state_seq,rew_list,forced_seq,minNrew=0,set_rew_indices=None,firstOnly=False):\n",
    "    \"\"\" This function obtains empirical counts for transitions from a given state to another\n",
    "        as a function of \"\"\"\n",
    "    #used_states = sorted([i[1] for i in map_poke_to_state.args[0]])\n",
    "    if set_rew_indices is None: set_rew_indices=list(range(9))\n",
    "    perf = np.zeros([9,9,9])\n",
    "    perf_ctr = np.zeros([9,9,9])\n",
    "    rew_hist = []\n",
    "    transition_counts = np.zeros([9,9,9])\n",
    "    state_ctr = np.zeros([9,9])\n",
    "    all_rew_loc = []\n",
    "    for rew_ctr,(st,nd) in enumerate(zip(np.where(rew_list)[0][:-1],np.where(rew_list)[0][1:])):\n",
    "        #print(1)\n",
    "        \n",
    "        rew_loc = state_seq[nd]\n",
    "        #print(rew_loc)\n",
    "        if (rew_loc in set_rew_indices):\n",
    "            all_rew_loc.append(rew_loc)\n",
    "            if not rew_hist:\n",
    "                rew_hist.append(rew_loc)\n",
    "            elif rew_loc==rew_hist[-1]:\n",
    "                rew_hist.append(rew_loc)\n",
    "            else:\n",
    "                rew_hist = []\n",
    "\n",
    "            has_visited= []\n",
    "            if len(rew_hist)>minNrew:\n",
    "\n",
    "                for pk_ctr in range(st+1,nd):\n",
    "                    if not forced_seq[pk_ctr]:\n",
    "                        state = state_seq[pk_ctr]\n",
    "                        if state not in has_visited:\n",
    "\n",
    "                            next_state = state_seq[pk_ctr+1]\n",
    "                            #if rew_loc==3:\n",
    "                            #    print(state,next_state)\n",
    "\n",
    "                            transition_counts[state,next_state,rew_loc] += 1\n",
    "                            state_ctr[state,rew_loc] += 1\n",
    "                            if firstOnly: has_visited.append(state)\n",
    "\n",
    "    transition_mtx = np.array([(transition_counts/state_ctr[:,None])[:,:,i]\n",
    "                       for i in range(9)])\n",
    "    state_ctr = np.array([state_ctr[:,i] for i in range(9)])\n",
    "\n",
    "    return transition_mtx, transition_counts, state_ctr, np.unique(all_rew_loc)"
   ]
  },
  {
   "cell_type": "code",
   "execution_count": 5,
   "metadata": {},
   "outputs": [],
   "source": [
    "def get_st_dist(state_seq,pk_ctr,rew_loc):\n",
    "    \"\"\" get distances between current and next state and reward during navigation on the line \"\"\"\n",
    "    \n",
    "    d0 = np.abs(state_seq[pk_ctr]-rew_loc)\n",
    "    d1 = np.abs(state_seq[pk_ctr+1]-rew_loc)\n",
    "    st_dist = state_seq[pk_ctr]-state_seq[pk_ctr+1]\n",
    "    \n",
    "    return d0,d1,st_dist\n",
    "    "
   ]
  },
  {
   "cell_type": "code",
   "execution_count": 6,
   "metadata": {},
   "outputs": [],
   "source": [
    "def policy_changed_with_rew_loc(state_seq,rew_loc,prev_diff_rew_loc):\n",
    "    \n",
    "    if prev_diff_rew_loc!=None:\n",
    "        same_as_prev_pol = (((state_seq[pk_ctr]-rew_loc)>0)==           #direction to reward with location\n",
    "                            ((state_seq[pk_ctr]-prev_diff_rew_loc)>0))  #direction to reward with prev location\n",
    "    else:\n",
    "        same_as_prev_pol = False\n",
    "    \n",
    "    if state_seq[pk_ctr]==prev_diff_rew_loc:\n",
    "        same_as_prev_pol = True\n",
    "    return same_as_prev_pol"
   ]
  },
  {
   "cell_type": "code",
   "execution_count": null,
   "metadata": {},
   "outputs": [],
   "source": []
  },
  {
   "cell_type": "markdown",
   "metadata": {},
   "source": [
    "# Load the dataz"
   ]
  },
  {
   "cell_type": "code",
   "execution_count": 7,
   "metadata": {},
   "outputs": [
    {
     "ename": "NameError",
     "evalue": "name 'f' is not defined",
     "output_type": "error",
     "traceback": [
      "\u001b[0;31m---------------------------------------------------------------------------\u001b[0m",
      "\u001b[0;31mNameError\u001b[0m                                 Traceback (most recent call last)",
      "\u001b[0;32m<ipython-input-7-b62b5c24a4fd>\u001b[0m in \u001b[0;36m<module>\u001b[0;34m\u001b[0m\n\u001b[1;32m      3\u001b[0m \u001b[0;31m#f = open(\"/Users/yves/Documents/beh_dat_new_room/line_loop_batch_3NAVI/'456675_10'-2021-02-23-142909.txt\",'r')\u001b[0m\u001b[0;34m\u001b[0m\u001b[0;34m\u001b[0m\u001b[0;34m\u001b[0m\u001b[0m\n\u001b[1;32m      4\u001b[0m \u001b[0;34m\u001b[0m\u001b[0m\n\u001b[0;32m----> 5\u001b[0;31m \u001b[0mlines\u001b[0m \u001b[0;34m=\u001b[0m\u001b[0mf\u001b[0m\u001b[0;34m.\u001b[0m\u001b[0mreadlines\u001b[0m\u001b[0;34m(\u001b[0m\u001b[0;34m)\u001b[0m\u001b[0;34m\u001b[0m\u001b[0;34m\u001b[0m\u001b[0m\n\u001b[0m\u001b[1;32m      6\u001b[0m \u001b[0mexperiment_name\u001b[0m\u001b[0;34m,\u001b[0m \u001b[0mtask_name\u001b[0m\u001b[0;34m,\u001b[0m \u001b[0msubject_id\u001b[0m\u001b[0;34m,\u001b[0m \u001b[0mtask_nr\u001b[0m\u001b[0;34m,\u001b[0m \u001b[0mgraph\u001b[0m\u001b[0;34m,\u001b[0m\u001b[0mlineloop\u001b[0m\u001b[0;34m,\u001b[0m\u001b[0mdate\u001b[0m\u001b[0;34m,\u001b[0m\u001b[0mtest\u001b[0m\u001b[0;34m,\u001b[0m\u001b[0m_\u001b[0m \u001b[0;34m=\u001b[0m \u001b[0mmpk\u001b[0m\u001b[0;34m.\u001b[0m\u001b[0mload\u001b[0m\u001b[0;34m.\u001b[0m\u001b[0mget_metadata\u001b[0m\u001b[0;34m(\u001b[0m\u001b[0mlines\u001b[0m\u001b[0;34m)\u001b[0m\u001b[0;34m\u001b[0m\u001b[0;34m\u001b[0m\u001b[0m\n\u001b[1;32m      7\u001b[0m \u001b[0mdat_dict\u001b[0m\u001b[0;34m,\u001b[0m\u001b[0mevents\u001b[0m\u001b[0;34m,\u001b[0m\u001b[0mevent_times\u001b[0m\u001b[0;34m,\u001b[0m\u001b[0mnRews\u001b[0m\u001b[0;34m,\u001b[0m\u001b[0m_\u001b[0m \u001b[0;34m=\u001b[0m \u001b[0mmpk\u001b[0m\u001b[0;34m.\u001b[0m\u001b[0mload\u001b[0m\u001b[0;34m.\u001b[0m\u001b[0mparse_data\u001b[0m\u001b[0;34m(\u001b[0m\u001b[0mlines\u001b[0m\u001b[0;34m,\u001b[0m\u001b[0mexperiment_name\u001b[0m\u001b[0;34m)\u001b[0m\u001b[0;34m\u001b[0m\u001b[0;34m\u001b[0m\u001b[0m\n",
      "\u001b[0;31mNameError\u001b[0m: name 'f' is not defined"
     ]
    }
   ],
   "source": [
    "\n",
    "#f = open(\"/Users/yves/Documents/beh_dat_new_room/line_loop_batch_3NAVI/'460175_10'-2021-03-15-145534.txt\",'r')\n",
    "#f = open(\"/Users/yves/Documents/beh_dat_new_room/line_loop_batch_3NAVI/'460175_10'-2021-03-01-110337.txt\",'r')\n",
    "#f = open(\"/Users/yves/Documents/beh_dat_new_room/line_loop_batch_3NAVI/'456675_10'-2021-02-23-142909.txt\",'r')\n",
    "\n",
    "lines =f.readlines()\n",
    "experiment_name, task_name, subject_id, task_nr, graph,lineloop,date,test,_ = mpk.load.get_metadata(lines)\n",
    "dat_dict,events,event_times,nRews,_ = mpk.load.parse_data(lines,experiment_name)\n",
    "\n",
    "print(\"rewards_received: {:d}\".format(nRews))\n",
    "print('task_nr:{:.0f}'.format(int(task_nr)))"
   ]
  },
  {
   "cell_type": "code",
   "execution_count": 8,
   "metadata": {},
   "outputs": [],
   "source": [
    "ROOT = '/Users/yves/Documents/beh_dat_new_room/line_loop_batch_4_RUNNAVI/'\n",
    "allFs = [os.path.join(ROOT,i) for i in os.listdir(ROOT)]\n",
    "allFs = [i for i in allFs if not os.path.isdir(i)]"
   ]
  },
  {
   "cell_type": "code",
   "execution_count": 9,
   "metadata": {},
   "outputs": [
    {
     "ename": "NameError",
     "evalue": "name 'lines' is not defined",
     "output_type": "error",
     "traceback": [
      "\u001b[0;31m---------------------------------------------------------------------------\u001b[0m",
      "\u001b[0;31mNameError\u001b[0m                                 Traceback (most recent call last)",
      "\u001b[0;32m<ipython-input-9-20fa1565d8f3>\u001b[0m in \u001b[0;36m<module>\u001b[0;34m\u001b[0m\n\u001b[1;32m      1\u001b[0m \u001b[0;31m#this extracts the core information from the text file. This is key to work with\u001b[0m\u001b[0;34m\u001b[0m\u001b[0;34m\u001b[0m\u001b[0;34m\u001b[0m\u001b[0m\n\u001b[0;32m----> 2\u001b[0;31m \u001b[0mstate_seq\u001b[0m\u001b[0;34m,\u001b[0m \u001b[0mrew_list\u001b[0m\u001b[0;34m,\u001b[0m \u001b[0mport_seq\u001b[0m\u001b[0;34m,\u001b[0m\u001b[0mforced_seq\u001b[0m \u001b[0;34m=\u001b[0m \u001b[0mextract_navi_dat\u001b[0m\u001b[0;34m(\u001b[0m\u001b[0mlines\u001b[0m\u001b[0;34m)\u001b[0m\u001b[0;34m\u001b[0m\u001b[0;34m\u001b[0m\u001b[0m\n\u001b[0m\u001b[1;32m      3\u001b[0m \u001b[0;34m\u001b[0m\u001b[0m\n\u001b[1;32m      4\u001b[0m \u001b[0;31m#this runs the main analysis that we have done so far.\u001b[0m\u001b[0;34m\u001b[0m\u001b[0;34m\u001b[0m\u001b[0;34m\u001b[0m\u001b[0m\n\u001b[1;32m      5\u001b[0m \u001b[0;31m#perf,perf_ctr = get_performance(state_seq,rew_list,port_seq,forced_seq,rew_indices,map_poke_to_state,minNrew=0)\u001b[0m\u001b[0;34m\u001b[0m\u001b[0;34m\u001b[0m\u001b[0;34m\u001b[0m\u001b[0m\n",
      "\u001b[0;31mNameError\u001b[0m: name 'lines' is not defined"
     ]
    }
   ],
   "source": [
    "#this extracts the core information from the text file. This is key to work with\n",
    "state_seq, rew_list, port_seq,forced_seq = extract_navi_dat(lines)\n",
    "\n",
    "#this runs the main analysis that we have done so far.\n",
    "#perf,perf_ctr = get_performance(state_seq,rew_list,port_seq,forced_seq,rew_indices,map_poke_to_state,minNrew=0)\n",
    "#fc = perf/perf_ctr  #calculate fraction correct at each point\n",
    "#print(np.nanmean(fc))"
   ]
  },
  {
   "cell_type": "code",
   "execution_count": 10,
   "metadata": {},
   "outputs": [
    {
     "name": "stdout",
     "output_type": "stream",
     "text": [
      "1\n"
     ]
    }
   ],
   "source": [
    "f = open(allFs[2],'r')\n",
    "lines =f.readlines()\n",
    "state_seq, rew_list, port_seq,forced_seq = extract_navi_dat(lines)\n",
    "print(sum(rew_list))"
   ]
  },
  {
   "cell_type": "code",
   "execution_count": 11,
   "metadata": {},
   "outputs": [
    {
     "name": "stdout",
     "output_type": "stream",
     "text": [
      "[False, True, False, True, True] False [] 5\n",
      "[False, True, False, True, True] False [] 5\n",
      "[False, True, False, True, True] False [] 5\n",
      "[False, True, False, True, True] False [] 5\n",
      "[False, True, False, True, True] False [] 5\n",
      "[False, True, False, True, True] False [] 5\n",
      "[False, True, False, True, True] False [] 5\n"
     ]
    }
   ],
   "source": [
    "prev_rew_loc = None  #this is the reward location that was last updated\n",
    "direction = None\n",
    "perf = 0\n",
    "trial_ctr = 0\n",
    "has_updated = False\n",
    "\n",
    "\n",
    "rewarded_pokes = np.concatenate([[0],np.where(rew_list)[0]])\n",
    "trial_starts = rewarded_pokes[:-1]\n",
    "trial_ends = rewarded_pokes[1:]\n",
    "rewarded_states = np.concatenate([np.array(state_seq)[trial_starts]])\n",
    "same_as_prev_pol = True\n",
    "exp_dirs = []\n",
    "verbose = True\n",
    "prev_rew_loc = None\n",
    "\n",
    "#this is the start of a \n",
    "for rew_ctr,(st,nd) in enumerate(zip(trial_starts,trial_ends)):\n",
    "\n",
    "    rew_loc = state_seq[nd]  #this is state that is rewarded\n",
    "    #print(state_seq[nd])  #this is the first state the animals enter into\n",
    "    prev_direction = direction\n",
    "    \n",
    "    if rew_loc!=prev_rew_loc:\n",
    "        #print(\"HERE\")\n",
    "        direction = None\n",
    "        has_updated = False\n",
    "        prev_direction = None\n",
    "        exp_dirs = [] #experienced directions\n",
    "        prev_diff_rew_loc = prev_rew_loc\n",
    "    \n",
    "    \n",
    "    direction = (rew_loc - state_seq[st+1])>0 #which side are you approaching the reward from\n",
    "    hasbeenat = []\n",
    "    for pk_ctr in range(st+1,nd):  #for each poke between two rewards  \n",
    "        \n",
    "        d0,d1,st_dist = get_st_dist(state_seq,pk_ctr,rew_loc)\n",
    "        free_choice_trial = forced_seq[pk_ctr]==False\n",
    "        state = state_seq[pk_ctr]\n",
    "        same_as_prev_pol = policy_changed_with_rew_loc(state_seq,rew_loc,prev_diff_rew_loc)\n",
    "        \n",
    "        update_condition_list = [free_choice_trial,                 #NOT a forced trial\n",
    "                                 #prev_diff_rew_loc is not None,    #hash-out if want to look include very first block in session\n",
    "                                 not same_as_prev_pol,              #ensure that this a policy change is required to make correct decision\n",
    "                                 prev_direction is not None,        #make sure NOT looking at first run-to-rew after a block transition (when rew_loc is unknown)\n",
    "                                 direction not in exp_dirs,         #hasn't experienced this direction in this block yet\n",
    "                                 #not has_updated,                  #toggle if only look at first relevant POKE in block\n",
    "                                 state not in hasbeenat\n",
    "                                ]\n",
    "        print(update_condition_list,direction,exp_dirs,rew_loc)\n",
    "        if all(update_condition_list):\n",
    "            if verbose:\n",
    "                print((\"!\"*80 + \"\\n\")*3)\n",
    "\n",
    "\n",
    "            perf += (d1<d0)\n",
    "            trial_ctr += 1\n",
    "\n",
    "            has_updated = True  #if decisions from this block have led to updated\n",
    "\n",
    "        hasbeenat.append(state)\n",
    "    if direction not in exp_dirs:\n",
    "        exp_dirs.append(direction)\n",
    "    prev_rew_loc = rew_loc\n"
   ]
  },
  {
   "cell_type": "code",
   "execution_count": 12,
   "metadata": {},
   "outputs": [
    {
     "data": {
      "text/plain": [
       "0"
      ]
     },
     "execution_count": 12,
     "metadata": {},
     "output_type": "execute_result"
    }
   ],
   "source": [
    "perf"
   ]
  },
  {
   "cell_type": "code",
   "execution_count": 437,
   "metadata": {},
   "outputs": [],
   "source": [
    "#ROOT = '/Users/yves/Documents/beh_dat_new_room/line_loop_batch_4_RUNNAVI/'\n",
    "\n",
    "#ROOT = '/Users/yves/Documents/behavior_data/line_loop_cohort_1/line_loop_batch_4_RUNNAVI/'\n",
    "ROOT = '/Users/yves/Documents/beh_dat_new_room/line_loop_batch_3NAVI/'\n",
    "#ROOT = '/Users/yves/Documents/beh_dat_new_room/line_loop_batch_3NAVI_toLOOP//'\n",
    "\n",
    "allFs = [os.path.join(ROOT,i) for i in os.listdir(ROOT)]\n",
    "allFs = [i for i in allFs if not os.path.isdir(i)]"
   ]
  },
  {
   "cell_type": "code",
   "execution_count": 438,
   "metadata": {},
   "outputs": [],
   "source": [
    "\n",
    "#allFs = [i for i in allFs if '460175' in i]\n",
    "allFs = [i for i in allFs if '456675' in i]"
   ]
  },
  {
   "cell_type": "markdown",
   "metadata": {},
   "source": [
    "# Batch Version "
   ]
  },
  {
   "cell_type": "markdown",
   "metadata": {},
   "source": [
    "Checks that I have run on this code:\n",
    "\n",
    "- Ensure that distances between states within a trial is always equal to 1"
   ]
  },
  {
   "cell_type": "code",
   "execution_count": 439,
   "metadata": {
    "scrolled": true
   },
   "outputs": [
    {
     "name": "stderr",
     "output_type": "stream",
     "text": [
      "/Users/yves/opt/anaconda3/lib/python3.7/site-packages/ipykernel_launcher.py:43: RuntimeWarning: invalid value encountered in true_divide\n"
     ]
    },
    {
     "name": "stdout",
     "output_type": "stream",
     "text": [
      "!!!!!!!!!!!!!!!!!!!!!!!!!!!!!!!!!!!!!!!!!!!!!!!!!!!!!!!!!!!!!!!!!!!!!!!!!!!!!!!!\n",
      "!!!!!!!!!!!!!!!!!!!!!!!!!!!!!!!!!!!!!!!!!!!!!!!!!!!!!!!!!!!!!!!!!!!!!!!!!!!!!!!!\n",
      "!!!!!!!!!!!!!!!!!!!!!!!!!!!!!!!!!!!!!!!!!!!!!!!!!!!!!!!!!!!!!!!!!!!!!!!!!!!!!!!!\n",
      "\n",
      "state:2,nextstate:3,rew_loc:5,correct:1\n",
      "18 '456675_10'-2021-03-05-111657.txt\n",
      "[2, 3, 4, 5]\n",
      "\n",
      "\n",
      "!!!!!!!!!!!!!!!!!!!!!!!!!!!!!!!!!!!!!!!!!!!!!!!!!!!!!!!!!!!!!!!!!!!!!!!!!!!!!!!!\n",
      "!!!!!!!!!!!!!!!!!!!!!!!!!!!!!!!!!!!!!!!!!!!!!!!!!!!!!!!!!!!!!!!!!!!!!!!!!!!!!!!!\n",
      "!!!!!!!!!!!!!!!!!!!!!!!!!!!!!!!!!!!!!!!!!!!!!!!!!!!!!!!!!!!!!!!!!!!!!!!!!!!!!!!!\n",
      "\n",
      "state:3,nextstate:4,rew_loc:5,correct:1\n",
      "19 '456675_10'-2021-03-05-111657.txt\n",
      "[2, 3, 4, 5]\n",
      "\n",
      "\n",
      "!!!!!!!!!!!!!!!!!!!!!!!!!!!!!!!!!!!!!!!!!!!!!!!!!!!!!!!!!!!!!!!!!!!!!!!!!!!!!!!!\n",
      "!!!!!!!!!!!!!!!!!!!!!!!!!!!!!!!!!!!!!!!!!!!!!!!!!!!!!!!!!!!!!!!!!!!!!!!!!!!!!!!!\n",
      "!!!!!!!!!!!!!!!!!!!!!!!!!!!!!!!!!!!!!!!!!!!!!!!!!!!!!!!!!!!!!!!!!!!!!!!!!!!!!!!!\n",
      "\n",
      "state:4,nextstate:3,rew_loc:3,correct:1\n",
      "24 '456675_10'-2021-03-05-111657.txt\n",
      "[4, 3]\n",
      "\n",
      "\n",
      "!!!!!!!!!!!!!!!!!!!!!!!!!!!!!!!!!!!!!!!!!!!!!!!!!!!!!!!!!!!!!!!!!!!!!!!!!!!!!!!!\n",
      "!!!!!!!!!!!!!!!!!!!!!!!!!!!!!!!!!!!!!!!!!!!!!!!!!!!!!!!!!!!!!!!!!!!!!!!!!!!!!!!!\n",
      "!!!!!!!!!!!!!!!!!!!!!!!!!!!!!!!!!!!!!!!!!!!!!!!!!!!!!!!!!!!!!!!!!!!!!!!!!!!!!!!!\n",
      "\n",
      "state:6,nextstate:7,rew_loc:5,correct:0\n",
      "210 '456675_10'-2021-03-01-110337.txt\n",
      "[7, 6, 7, 8, 7, 6, 5]\n",
      "\n",
      "\n",
      "!!!!!!!!!!!!!!!!!!!!!!!!!!!!!!!!!!!!!!!!!!!!!!!!!!!!!!!!!!!!!!!!!!!!!!!!!!!!!!!!\n",
      "!!!!!!!!!!!!!!!!!!!!!!!!!!!!!!!!!!!!!!!!!!!!!!!!!!!!!!!!!!!!!!!!!!!!!!!!!!!!!!!!\n",
      "!!!!!!!!!!!!!!!!!!!!!!!!!!!!!!!!!!!!!!!!!!!!!!!!!!!!!!!!!!!!!!!!!!!!!!!!!!!!!!!!\n",
      "\n",
      "state:7,nextstate:6,rew_loc:6,correct:1\n",
      "1556 '456675_10'-2021-03-15-145534.txt\n",
      "[7, 6]\n",
      "\n",
      "\n",
      "!!!!!!!!!!!!!!!!!!!!!!!!!!!!!!!!!!!!!!!!!!!!!!!!!!!!!!!!!!!!!!!!!!!!!!!!!!!!!!!!\n",
      "!!!!!!!!!!!!!!!!!!!!!!!!!!!!!!!!!!!!!!!!!!!!!!!!!!!!!!!!!!!!!!!!!!!!!!!!!!!!!!!!\n",
      "!!!!!!!!!!!!!!!!!!!!!!!!!!!!!!!!!!!!!!!!!!!!!!!!!!!!!!!!!!!!!!!!!!!!!!!!!!!!!!!!\n",
      "\n",
      "state:5,nextstate:4,rew_loc:7,correct:0\n",
      "2287 '456675_10'-2021-03-15-145534.txt\n",
      "[4, 5, 4, 5, 4, 5, 6, 7]\n",
      "\n",
      "\n",
      "!!!!!!!!!!!!!!!!!!!!!!!!!!!!!!!!!!!!!!!!!!!!!!!!!!!!!!!!!!!!!!!!!!!!!!!!!!!!!!!!\n",
      "!!!!!!!!!!!!!!!!!!!!!!!!!!!!!!!!!!!!!!!!!!!!!!!!!!!!!!!!!!!!!!!!!!!!!!!!!!!!!!!!\n",
      "!!!!!!!!!!!!!!!!!!!!!!!!!!!!!!!!!!!!!!!!!!!!!!!!!!!!!!!!!!!!!!!!!!!!!!!!!!!!!!!!\n",
      "\n",
      "state:4,nextstate:3,rew_loc:3,correct:1\n",
      "391 '456675_10'-2021-03-05-120412.txt\n",
      "[4, 3]\n",
      "\n",
      "\n",
      "!!!!!!!!!!!!!!!!!!!!!!!!!!!!!!!!!!!!!!!!!!!!!!!!!!!!!!!!!!!!!!!!!!!!!!!!!!!!!!!!\n",
      "!!!!!!!!!!!!!!!!!!!!!!!!!!!!!!!!!!!!!!!!!!!!!!!!!!!!!!!!!!!!!!!!!!!!!!!!!!!!!!!!\n",
      "!!!!!!!!!!!!!!!!!!!!!!!!!!!!!!!!!!!!!!!!!!!!!!!!!!!!!!!!!!!!!!!!!!!!!!!!!!!!!!!!\n",
      "\n",
      "state:2,nextstate:3,rew_loc:4,correct:1\n",
      "1140 '456675_10'-2021-02-26-104431.txt\n",
      "[2, 3, 4]\n",
      "\n",
      "\n",
      "!!!!!!!!!!!!!!!!!!!!!!!!!!!!!!!!!!!!!!!!!!!!!!!!!!!!!!!!!!!!!!!!!!!!!!!!!!!!!!!!\n",
      "!!!!!!!!!!!!!!!!!!!!!!!!!!!!!!!!!!!!!!!!!!!!!!!!!!!!!!!!!!!!!!!!!!!!!!!!!!!!!!!!\n",
      "!!!!!!!!!!!!!!!!!!!!!!!!!!!!!!!!!!!!!!!!!!!!!!!!!!!!!!!!!!!!!!!!!!!!!!!!!!!!!!!!\n",
      "\n",
      "state:3,nextstate:4,rew_loc:4,correct:1\n",
      "1141 '456675_10'-2021-02-26-104431.txt\n",
      "[2, 3, 4]\n",
      "\n",
      "\n",
      "!!!!!!!!!!!!!!!!!!!!!!!!!!!!!!!!!!!!!!!!!!!!!!!!!!!!!!!!!!!!!!!!!!!!!!!!!!!!!!!!\n",
      "!!!!!!!!!!!!!!!!!!!!!!!!!!!!!!!!!!!!!!!!!!!!!!!!!!!!!!!!!!!!!!!!!!!!!!!!!!!!!!!!\n",
      "!!!!!!!!!!!!!!!!!!!!!!!!!!!!!!!!!!!!!!!!!!!!!!!!!!!!!!!!!!!!!!!!!!!!!!!!!!!!!!!!\n",
      "\n",
      "state:2,nextstate:3,rew_loc:3,correct:1\n",
      "313 '456675_10'-2021-03-03-154343.txt\n",
      "[1, 2, 3]\n",
      "\n",
      "\n",
      "!!!!!!!!!!!!!!!!!!!!!!!!!!!!!!!!!!!!!!!!!!!!!!!!!!!!!!!!!!!!!!!!!!!!!!!!!!!!!!!!\n",
      "!!!!!!!!!!!!!!!!!!!!!!!!!!!!!!!!!!!!!!!!!!!!!!!!!!!!!!!!!!!!!!!!!!!!!!!!!!!!!!!!\n",
      "!!!!!!!!!!!!!!!!!!!!!!!!!!!!!!!!!!!!!!!!!!!!!!!!!!!!!!!!!!!!!!!!!!!!!!!!!!!!!!!!\n",
      "\n",
      "state:4,nextstate:5,rew_loc:3,correct:0\n",
      "374 '456675_10'-2021-03-05-125238.txt\n",
      "[4, 5, 6, 5, 6, 5, 6, 5, 6, 5, 4, 5, 6, 5, 6, 5, 4, 3]\n",
      "\n",
      "\n",
      "!!!!!!!!!!!!!!!!!!!!!!!!!!!!!!!!!!!!!!!!!!!!!!!!!!!!!!!!!!!!!!!!!!!!!!!!!!!!!!!!\n",
      "!!!!!!!!!!!!!!!!!!!!!!!!!!!!!!!!!!!!!!!!!!!!!!!!!!!!!!!!!!!!!!!!!!!!!!!!!!!!!!!!\n",
      "!!!!!!!!!!!!!!!!!!!!!!!!!!!!!!!!!!!!!!!!!!!!!!!!!!!!!!!!!!!!!!!!!!!!!!!!!!!!!!!!\n",
      "\n",
      "state:4,nextstate:3,rew_loc:3,correct:1\n",
      "815 '456675_10'-2021-03-01-141104.txt\n",
      "[6, 5, 4, 3]\n",
      "\n",
      "\n",
      "!!!!!!!!!!!!!!!!!!!!!!!!!!!!!!!!!!!!!!!!!!!!!!!!!!!!!!!!!!!!!!!!!!!!!!!!!!!!!!!!\n",
      "!!!!!!!!!!!!!!!!!!!!!!!!!!!!!!!!!!!!!!!!!!!!!!!!!!!!!!!!!!!!!!!!!!!!!!!!!!!!!!!!\n",
      "!!!!!!!!!!!!!!!!!!!!!!!!!!!!!!!!!!!!!!!!!!!!!!!!!!!!!!!!!!!!!!!!!!!!!!!!!!!!!!!!\n",
      "\n",
      "state:5,nextstate:4,rew_loc:3,correct:1\n",
      "2432 '456675_10'-2021-03-01-141104.txt\n",
      "[5, 4, 3]\n",
      "\n",
      "\n",
      "!!!!!!!!!!!!!!!!!!!!!!!!!!!!!!!!!!!!!!!!!!!!!!!!!!!!!!!!!!!!!!!!!!!!!!!!!!!!!!!!\n",
      "!!!!!!!!!!!!!!!!!!!!!!!!!!!!!!!!!!!!!!!!!!!!!!!!!!!!!!!!!!!!!!!!!!!!!!!!!!!!!!!!\n",
      "!!!!!!!!!!!!!!!!!!!!!!!!!!!!!!!!!!!!!!!!!!!!!!!!!!!!!!!!!!!!!!!!!!!!!!!!!!!!!!!!\n",
      "\n",
      "state:4,nextstate:3,rew_loc:3,correct:1\n",
      "2433 '456675_10'-2021-03-01-141104.txt\n",
      "[5, 4, 3]\n",
      "\n",
      "\n",
      "!!!!!!!!!!!!!!!!!!!!!!!!!!!!!!!!!!!!!!!!!!!!!!!!!!!!!!!!!!!!!!!!!!!!!!!!!!!!!!!!\n",
      "!!!!!!!!!!!!!!!!!!!!!!!!!!!!!!!!!!!!!!!!!!!!!!!!!!!!!!!!!!!!!!!!!!!!!!!!!!!!!!!!\n",
      "!!!!!!!!!!!!!!!!!!!!!!!!!!!!!!!!!!!!!!!!!!!!!!!!!!!!!!!!!!!!!!!!!!!!!!!!!!!!!!!!\n",
      "\n",
      "state:4,nextstate:3,rew_loc:5,correct:0\n",
      "748 '456675_10'-2021-02-26-160130.txt\n",
      "[3, 4, 3, 4, 5]\n",
      "\n",
      "\n",
      "!!!!!!!!!!!!!!!!!!!!!!!!!!!!!!!!!!!!!!!!!!!!!!!!!!!!!!!!!!!!!!!!!!!!!!!!!!!!!!!!\n",
      "!!!!!!!!!!!!!!!!!!!!!!!!!!!!!!!!!!!!!!!!!!!!!!!!!!!!!!!!!!!!!!!!!!!!!!!!!!!!!!!!\n",
      "!!!!!!!!!!!!!!!!!!!!!!!!!!!!!!!!!!!!!!!!!!!!!!!!!!!!!!!!!!!!!!!!!!!!!!!!!!!!!!!!\n",
      "\n",
      "state:5,nextstate:6,rew_loc:4,correct:0\n",
      "1880 '456675_10'-2021-02-23-102809.txt\n",
      "[6, 5, 6, 5, 6, 5, 6, 5, 6, 5, 4]\n",
      "\n",
      "\n",
      "!!!!!!!!!!!!!!!!!!!!!!!!!!!!!!!!!!!!!!!!!!!!!!!!!!!!!!!!!!!!!!!!!!!!!!!!!!!!!!!!\n",
      "!!!!!!!!!!!!!!!!!!!!!!!!!!!!!!!!!!!!!!!!!!!!!!!!!!!!!!!!!!!!!!!!!!!!!!!!!!!!!!!!\n",
      "!!!!!!!!!!!!!!!!!!!!!!!!!!!!!!!!!!!!!!!!!!!!!!!!!!!!!!!!!!!!!!!!!!!!!!!!!!!!!!!!\n",
      "\n",
      "state:5,nextstate:4,rew_loc:3,correct:1\n",
      "1146 '456675_10'-2021-03-04-105905.txt\n",
      "[5, 4, 3]\n",
      "\n",
      "\n",
      "!!!!!!!!!!!!!!!!!!!!!!!!!!!!!!!!!!!!!!!!!!!!!!!!!!!!!!!!!!!!!!!!!!!!!!!!!!!!!!!!\n",
      "!!!!!!!!!!!!!!!!!!!!!!!!!!!!!!!!!!!!!!!!!!!!!!!!!!!!!!!!!!!!!!!!!!!!!!!!!!!!!!!!\n",
      "!!!!!!!!!!!!!!!!!!!!!!!!!!!!!!!!!!!!!!!!!!!!!!!!!!!!!!!!!!!!!!!!!!!!!!!!!!!!!!!!\n",
      "\n",
      "state:4,nextstate:3,rew_loc:3,correct:1\n",
      "1147 '456675_10'-2021-03-04-105905.txt\n",
      "[5, 4, 3]\n",
      "\n",
      "\n"
     ]
    }
   ],
   "source": [
    "\n",
    "verbose = False\n",
    "perf = 0\n",
    "trial_ctr = 0\n",
    "\n",
    "check1 = []\n",
    "\n",
    "prob_array_for_pois_binom = []\n",
    "choices = []\n",
    "\n",
    "\n",
    "for fpath in allFs:\n",
    "\n",
    "    f = open(fpath,'r')\n",
    "    lines =f.readlines()\n",
    "    state_seq, rew_list, port_seq,forced_seq = extract_navi_dat(lines)\n",
    "    prev_rew_loc = None  #this is the reward location that was last updated\n",
    "    direction = None\n",
    "    has_updated = False\n",
    "    transition_mtx,_,_,_= get_transition_matrix(state_seq,\n",
    "                                                rew_list,\n",
    "                                                forced_seq,\n",
    "                                                minNrew=10)\n",
    " \n",
    "    rewarded_pokes = np.concatenate([[0],np.where(rew_list)[0]])\n",
    "    trial_starts = rewarded_pokes[:-1]\n",
    "    trial_ends = rewarded_pokes[1:]\n",
    "    rewarded_states = np.concatenate([np.array(state_seq)[trial_starts]])\n",
    "    same_as_prev_pol = True\n",
    "    exp_dirs = []\n",
    "    verbose = True\n",
    "    visited_states = []\n",
    "    prev_rew_loc = None\n",
    "\n",
    "    #this is the start of a \n",
    "    for rew_ctr,(st,nd) in enumerate(zip(trial_starts,trial_ends)):\n",
    "\n",
    "        rew_loc = state_seq[nd]  #this is state that is rewarded\n",
    "        #print(state_seq[nd])  #this is the first state the animals enter into\n",
    "        prev_direction = direction\n",
    "\n",
    "        if rew_loc!=prev_rew_loc:\n",
    "            #print(\"HERE\")\n",
    "            direction = None\n",
    "            has_updated = False\n",
    "            prev_direction = None\n",
    "            exp_dirs = [] #experienced directions\n",
    "            prev_diff_rew_loc = prev_rew_loc\n",
    "            visited_states = []\n",
    "\n",
    "\n",
    "        direction = (rew_loc - state_seq[st+1])>0 #which side are you approaching the reward from\n",
    "        \n",
    "\n",
    "        start_state_trial = state_seq[st+1]\n",
    "        for pk_ctr in range(st+1,nd):  #for each poke between two rewards  \n",
    "\n",
    "            d0,d1,st_dist = get_st_dist(state_seq,pk_ctr,rew_loc)\n",
    "            free_choice_trial = forced_seq[pk_ctr]==False\n",
    "            state = state_seq[pk_ctr]\n",
    "            next_state = state_seq[pk_ctr+1]\n",
    "            same_as_prev_pol = policy_changed_with_rew_loc(state_seq,rew_loc,prev_diff_rew_loc)\n",
    "            check1.append(st_dist)\n",
    "            update_condition_list = [free_choice_trial,              #NOT a forced trial\n",
    "                                     prev_diff_rew_loc is not None,  #ignore first block in session\n",
    "                                     not same_as_prev_pol,           #ensure that this a policy change is required to make correct decision\n",
    "                                     prev_direction is not None,     #make sure NOT looking at first run-to-rew after a block transition (when rew_loc is unknown)\n",
    "                                     direction not in exp_dirs,      #hasn't experienced this direction in this block yet\n",
    "                                     #not has_updated,               #toggle if only look at first relevant POKE in block\n",
    "                                     state not in visited_states,    #look only at first visits to each state\n",
    "                                     #d0>1,\n",
    "                                     #np.abs(start_state_trial-rew_loc)>1,\n",
    "                                     state !=rew_loc\n",
    "                                    ]\n",
    "\n",
    "            #if pk_ctr<60:\n",
    "            #    print(update_condition_list,direction,exp_dirs,state,rew_loc,pk_ctr,os.path.split(fpath)[-1])\n",
    "            if all(update_condition_list):\n",
    "                if verbose:\n",
    "                    print((\"!\"*80 + \"\\n\")*3)\n",
    "                    print('state:{},nextstate:{},rew_loc:{},correct:{}'.format(state,state_seq[pk_ctr+1],rew_loc,int(d1<d0)))\n",
    "                    print(pk_ctr,os.path.split(fpath)[-1])\n",
    "                    print(state_seq[st+1:nd+1])\n",
    "                    print('\\n')\n",
    "\n",
    "                perf += int(d1<d0)\n",
    "                trial_ctr += 1\n",
    "                t_p = transition_mtx[prev_diff_rew_loc,state,next_state]\n",
    "                if not np.isnan(t_p):\n",
    "                    prob_array_for_pois_binom.append(t_p)\n",
    "                    choices.append(int(d1<d0))\n",
    "\n",
    "                has_updated = True  #if decisions from this block have led to updated\n",
    "\n",
    "            visited_states.append(state)\n",
    "\n",
    "        if direction not in exp_dirs:\n",
    "            exp_dirs.append(direction)\n",
    "        prev_rew_loc = rew_loc\n"
   ]
  },
  {
   "cell_type": "code",
   "execution_count": null,
   "metadata": {},
   "outputs": [],
   "source": []
  },
  {
   "cell_type": "code",
   "execution_count": null,
   "metadata": {},
   "outputs": [],
   "source": []
  },
  {
   "cell_type": "code",
   "execution_count": 440,
   "metadata": {},
   "outputs": [
    {
     "data": {
      "text/plain": [
       "15"
      ]
     },
     "execution_count": 440,
     "metadata": {},
     "output_type": "execute_result"
    }
   ],
   "source": [
    "len(prob_array_for_pois_binom)"
   ]
  },
  {
   "cell_type": "code",
   "execution_count": 441,
   "metadata": {},
   "outputs": [
    {
     "data": {
      "text/plain": [
       "0.6666666666666666"
      ]
     },
     "execution_count": 441,
     "metadata": {},
     "output_type": "execute_result"
    }
   ],
   "source": [
    "np.mean(choices)"
   ]
  },
  {
   "cell_type": "code",
   "execution_count": 442,
   "metadata": {},
   "outputs": [],
   "source": [
    "pbd = PoissonBinomial(prob_array_for_pois_binom)"
   ]
  },
  {
   "cell_type": "code",
   "execution_count": 443,
   "metadata": {},
   "outputs": [
    {
     "data": {
      "text/plain": [
       "6.732133529807117e-05"
      ]
     },
     "execution_count": 443,
     "metadata": {},
     "output_type": "execute_result"
    }
   ],
   "source": [
    "pbd.x_or_more(np.sum(choices))"
   ]
  },
  {
   "cell_type": "code",
   "execution_count": 444,
   "metadata": {},
   "outputs": [
    {
     "data": {
      "text/plain": [
       "0.09625244140624999"
      ]
     },
     "execution_count": 444,
     "metadata": {},
     "output_type": "execute_result"
    }
   ],
   "source": [
    "stt.binom_test(np.sum(perf),trial_ctr)"
   ]
  },
  {
   "cell_type": "code",
   "execution_count": 179,
   "metadata": {},
   "outputs": [],
   "source": [
    "#in looking at the first block of the session, in a length 6 line, you can only look at rewards that are located\n",
    "#at positions 3 and 4, not at 1 and 2 and not at 5 and 6. Thus you should have 1/3 as many trials as you have sessions..."
   ]
  },
  {
   "cell_type": "code",
   "execution_count": 180,
   "metadata": {},
   "outputs": [
    {
     "data": {
      "text/plain": [
       "0.6818181818181818"
      ]
     },
     "execution_count": 180,
     "metadata": {},
     "output_type": "execute_result"
    }
   ],
   "source": [
    "perf/trial_ctr"
   ]
  },
  {
   "cell_type": "code",
   "execution_count": 181,
   "metadata": {},
   "outputs": [
    {
     "data": {
      "text/plain": [
       "15"
      ]
     },
     "execution_count": 181,
     "metadata": {},
     "output_type": "execute_result"
    }
   ],
   "source": [
    "perf"
   ]
  },
  {
   "cell_type": "markdown",
   "metadata": {},
   "source": [
    "# Random stuff\n",
    "\n"
   ]
  },
  {
   "cell_type": "code",
   "execution_count": 961,
   "metadata": {},
   "outputs": [
    {
     "data": {
      "text/plain": [
       "0.44206833839416504"
      ]
     },
     "execution_count": 961,
     "metadata": {},
     "output_type": "execute_result"
    }
   ],
   "source": [
    "rew_loc_seq = np.array(state_seq)[np.where(rew_list)[0]]\n",
    "blocks = rew_loc_seq[:-1] != rew_loc_seq[1:]\n",
    "blocks = np.concatenate([[0],np.where(rew_list)[0][np.where(blocks)[0]]])"
   ]
  },
  {
   "cell_type": "markdown",
   "metadata": {},
   "source": [
    "# Run on first block version "
   ]
  },
  {
   "cell_type": "code",
   "execution_count": 572,
   "metadata": {},
   "outputs": [],
   "source": [
    "def run_first_block_model_based_analysis(allFs,ignore_distance=False,ignore_first_visit=False,verbose=False):\n",
    "    perf = 0\n",
    "    trial_ctr = 0\n",
    "\n",
    "    check1 = []\n",
    "\n",
    "    prob_array_for_pois_binom = []\n",
    "    choices = []\n",
    "\n",
    "\n",
    "    for fpath in allFs:\n",
    "\n",
    "        f = open(fpath,'r')\n",
    "        lines =f.readlines()\n",
    "        state_seq, rew_list, port_seq,forced_seq = extract_navi_dat(lines)\n",
    "        \n",
    "        \n",
    "        transition_mtx,_,_,_= get_transition_matrix(state_seq,\n",
    "                                                    rew_list,\n",
    "                                                    forced_seq,\n",
    "                                                    minNrew=10)\n",
    "\n",
    "        \n",
    "        #organise data into trials\n",
    "        rewarded_pokes = np.concatenate([[0],np.where(rew_list)[0]])\n",
    "        trial_starts = rewarded_pokes[:-1];trial_ends = rewarded_pokes[1:]\n",
    "        rewarded_states = np.concatenate([np.array(state_seq)[trial_starts]])\n",
    "        \n",
    "        #initialise variables\n",
    "        prev_rew_loc = None  #this is the reward location that was last updated\n",
    "        direction = None\n",
    "        has_updated = False\n",
    "        same_as_prev_pol = True\n",
    "        exp_dirs = []\n",
    "        prev_rew_loc = None\n",
    "\n",
    "        #this is the start of a \n",
    "        for rew_ctr,(st,nd) in enumerate(zip(trial_starts,trial_ends)):\n",
    "\n",
    "            rew_loc = state_seq[nd]  #this is state that is rewarded\n",
    "            #print(state_seq[nd])  #this is the first state the animals enter into\n",
    "            prev_direction = direction\n",
    "\n",
    "            if rew_loc!=prev_rew_loc:\n",
    "                #print(\"HERE\")\n",
    "                direction = None\n",
    "                has_updated = False\n",
    "                prev_direction = None\n",
    "                exp_dirs = [] #experienced directions\n",
    "                prev_diff_rew_loc = prev_rew_loc\n",
    "                visited_states = []\n",
    "\n",
    "\n",
    "            direction = (rew_loc - state_seq[st+1])>0 #which side are you approaching the reward from\n",
    "\n",
    "            start_state_trial = state_seq[st+1]\n",
    "            for pk_ctr in range(st+1,nd):  #for each poke between two rewards  \n",
    "\n",
    "                d0,d1,st_dist = get_st_dist(state_seq,pk_ctr,rew_loc)\n",
    "                free_choice_trial = forced_seq[pk_ctr]==False\n",
    "                state = state_seq[pk_ctr]\n",
    "                next_state = state_seq[pk_ctr+1]\n",
    "\n",
    "                check1.append(st_dist)\n",
    "                update_condition_list = [free_choice_trial,              #NOT a forced trial\n",
    "                                         prev_diff_rew_loc is None,      #Only look at first block\n",
    "                                         prev_direction is not None,     #make sure NOT looking at first run-to-rew (when rew_loc is unknown)\n",
    "                                         direction not in exp_dirs,      #hasn't experienced this direction in this block yet\n",
    "                                         #not has_updated,               #toggle if only look at first relevant POKE in block\n",
    "                                         (ignore_first_visit or(state not in visited_states)),    #look only at first visits to each state\n",
    "                                         (ignore_distance or (d0>1)),\n",
    "                                         #np.abs(start_state_trial-rew_loc)>1,\n",
    "                                         state !=rew_loc\n",
    "                                        ]\n",
    "\n",
    "                if all(update_condition_list):\n",
    "                    if verbose:\n",
    "                        print((\"!\"*80 + \"\\n\")*3)\n",
    "                        print('state:{},nextstate:{},rew_loc:{},correct:{}'.format(state,state_seq[pk_ctr+1],rew_loc,int(d1<d0)))\n",
    "                        print(pk_ctr,os.path.split(fpath)[-1])\n",
    "                        print(state_seq[st+1:nd+1])\n",
    "                        print('\\n')\n",
    "\n",
    "                    perf += int(d1<d0)\n",
    "                    trial_ctr += 1\n",
    "                  \n",
    "                    has_updated = True  #if decisions from this block have led to updated\n",
    "\n",
    "                visited_states.append(state)\n",
    "\n",
    "            if direction not in exp_dirs:\n",
    "                exp_dirs.append(direction)\n",
    "            prev_rew_loc = rew_loc\n",
    "    return perf,trial_ctr"
   ]
  },
  {
   "cell_type": "markdown",
   "metadata": {},
   "source": [
    "# Old Version"
   ]
  },
  {
   "cell_type": "code",
   "execution_count": 573,
   "metadata": {},
   "outputs": [],
   "source": [
    "all_Fs_sets = []\n",
    "\n",
    "ROOT = '/Users/yves/Documents/beh_dat_new_room/line_loop_batch_4_RUNNAVI/'\n",
    "allFs = [os.path.join(ROOT,i) for i in os.listdir(ROOT)]\n",
    "allFs = [i for i in allFs if not os.path.isdir(i)]\n",
    "all_Fs_sets.append(allFs)\n",
    "\n",
    "\n",
    "ROOT = '/Users/yves/Documents/behavior_data/line_loop_cohort_1/line_loop_batch_4_RUNNAVI/'\n",
    "allFs = [os.path.join(ROOT,i) for i in os.listdir(ROOT)]\n",
    "allFs = [i for i in allFs if not os.path.isdir(i)]\n",
    "all_Fs_sets.append(allFs)\n",
    "\n",
    "\n",
    "ROOT = '/Users/yves/Documents/beh_dat_new_room/line_loop_batch_3NAVI/'\n",
    "allFs = [os.path.join(ROOT,i) for i in os.listdir(ROOT)]\n",
    "allFs = [i for i in allFs if not os.path.isdir(i)]\n",
    "allFs = [i for i in allFs if '456675' in i]\n",
    "\n",
    "all_Fs_sets.append(allFs)\n",
    "\n",
    "ROOT = '/Users/yves/Documents/beh_dat_new_room/line_loop_batch_3NAVI/'\n",
    "allFs = [os.path.join(ROOT,i) for i in os.listdir(ROOT)]\n",
    "allFs = [i for i in allFs if not os.path.isdir(i)]\n",
    "allFs = [i for i in allFs if '460175' in i]\n",
    "\n",
    "all_Fs_sets.append(allFs)\n",
    "\n",
    "subjects = ['456675_3\\nround1','456675_3\\nround2','456675','460175']\n"
   ]
  },
  {
   "cell_type": "code",
   "execution_count": 574,
   "metadata": {},
   "outputs": [],
   "source": [
    "ROOT = '/Users/yves/Documents/beh_dat_new_room/line_loop_batch_4_RUNNAVI/'\n",
    "allFs = [os.path.join(ROOT,i) for i in os.listdir(ROOT)]\n",
    "allFs = [i for i in allFs if not os.path.isdir(i)]\n"
   ]
  },
  {
   "cell_type": "code",
   "execution_count": 584,
   "metadata": {},
   "outputs": [],
   "source": [
    "param_combos = [[True,True],[True,False],[False,True],[False,False]]"
   ]
  },
  {
   "cell_type": "code",
   "execution_count": 608,
   "metadata": {},
   "outputs": [
    {
     "name": "stderr",
     "output_type": "stream",
     "text": [
      "/Users/yves/opt/anaconda3/lib/python3.7/site-packages/ipykernel_launcher.py:43: RuntimeWarning: invalid value encountered in true_divide\n"
     ]
    }
   ],
   "source": [
    "all_param_res = []\n",
    "for ign_d,ign_f in param_combos:\n",
    "    allres = []\n",
    "\n",
    "    for allFs in all_Fs_sets:\n",
    "        perf,trial_ctr = run_first_block_model_based_analysis(allFs,ignore_distance=ign_d,ignore_first_visit=ign_f)\n",
    "        allres.append([perf/trial_ctr,perf,trial_ctr,ign_d,ign_f])\n",
    "    all_param_res.append(allres)"
   ]
  },
  {
   "cell_type": "code",
   "execution_count": null,
   "metadata": {},
   "outputs": [],
   "source": []
  },
  {
   "cell_type": "code",
   "execution_count": 594,
   "metadata": {},
   "outputs": [
    {
     "data": {
      "text/plain": [
       "0.125"
      ]
     },
     "execution_count": 594,
     "metadata": {},
     "output_type": "execute_result"
    }
   ],
   "source": [
    "stt.binom_test(4,4,p=.5)"
   ]
  },
  {
   "cell_type": "code",
   "execution_count": 595,
   "metadata": {},
   "outputs": [],
   "source": [
    "subjects = ['456675_3\\npre x-mas','456675_3\\npost-xmas','456675','460175']"
   ]
  },
  {
   "cell_type": "code",
   "execution_count": 596,
   "metadata": {},
   "outputs": [
    {
     "data": {
      "text/plain": [
       "array([[0.65029941, 0.97868237],\n",
       "       [0.70221668, 0.87988062],\n",
       "       [0.34126144, 0.9466245 ],\n",
       "       [0.44170638, 0.95897683]])"
      ]
     },
     "execution_count": 596,
     "metadata": {},
     "output_type": "execute_result"
    }
   ],
   "source": [
    "ci"
   ]
  },
  {
   "cell_type": "code",
   "execution_count": 597,
   "metadata": {},
   "outputs": [
    {
     "data": {
      "text/plain": [
       "array([[0.65029941, 0.97868237],\n",
       "       [0.70221668, 0.87988062],\n",
       "       [0.34126144, 0.9466245 ],\n",
       "       [0.44170638, 0.95897683]])"
      ]
     },
     "execution_count": 597,
     "metadata": {},
     "output_type": "execute_result"
    }
   ],
   "source": [
    "np.array(ci)"
   ]
  },
  {
   "cell_type": "code",
   "execution_count": 610,
   "metadata": {},
   "outputs": [
    {
     "data": {
      "text/plain": [
       "[[[0.85, 17, 20, True, True],\n",
       "  [0.7480314960629921, 95, 127, True, True],\n",
       "  [0.7272727272727273, 8, 11, True, True],\n",
       "  [0.5, 8, 16, True, True]],\n",
       " [[0.8823529411764706, 15, 17, True, False],\n",
       "  [0.8048780487804879, 66, 82, True, False],\n",
       "  [0.7142857142857143, 5, 7, True, False],\n",
       "  [0.7777777777777778, 7, 9, True, False]],\n",
       " [[0.8, 12, 15, False, True],\n",
       "  [0.6914893617021277, 65, 94, False, True],\n",
       "  [0.75, 3, 4, False, True],\n",
       "  [1.0, 4, 4, False, True]],\n",
       " [[0.8333333333333334, 10, 12, False, False],\n",
       "  [0.7254901960784313, 37, 51, False, False],\n",
       "  [0.6666666666666666, 2, 3, False, False],\n",
       "  [1.0, 4, 4, False, False]]]"
      ]
     },
     "execution_count": 610,
     "metadata": {},
     "output_type": "execute_result"
    }
   ],
   "source": [
    "all_param_res"
   ]
  },
  {
   "cell_type": "code",
   "execution_count": 611,
   "metadata": {},
   "outputs": [
    {
     "data": {
      "text/plain": [
       "[[0.8333333333333334, 10, 12, False, False],\n",
       " [0.7254901960784313, 37, 51, False, False],\n",
       " [0.6666666666666666, 2, 3, False, False],\n",
       " [1.0, 4, 4, False, False]]"
      ]
     },
     "execution_count": 611,
     "metadata": {},
     "output_type": "execute_result"
    }
   ],
   "source": [
    "allres"
   ]
  },
  {
   "cell_type": "code",
   "execution_count": 612,
   "metadata": {},
   "outputs": [
    {
     "data": {
      "image/png": "[encoded data removed]",
      "text/plain": [
       "<Figure size 1296x864 with 4 Axes>"
      ]
     },
     "metadata": {},
     "output_type": "display_data"
    }
   ],
   "source": [
    "plt.figure(figsize=(18,12))\n",
    "plt.suptitle(\"First block model based choices\")\n",
    "for kk,allres in enumerate(all_param_res):\n",
    "    \n",
    "    plt.title(\"Only first visit:{}\\nonly more than 1 step away:{}\".format(allres[0][-2],allres[0][-1]))\n",
    "    plt.subplot(2,2,kk+1)\n",
    "    mu = np.array([i[0] for i in allres])\n",
    "    ci = np.array([np.array(proportion.proportion_confint(i[1],i[2],alpha=.05,method='binom_test')) for i in allres])\n",
    "\n",
    "    for subj_ix in range(len(subjects)):\n",
    "        plt.plot([subj_ix]*2,ci[subj_ix],color='k',linewidth=3,zorder=100)\n",
    "\n",
    "    #plt.errorbar(range(4),mu,yerr=(mu[:,None]+ci).T,color='k',linewidth=0,elinewidth=3)\n",
    "    plt.bar(range(4),[i[0] for i in allres],facecolor='w',edgecolor='k',linewidth=3,width=.85)\n",
    "    plt.ylim(.2)\n",
    "    plt.axhline(y=0.5,dashes=(8,8),color='.3',linewidth=2)\n",
    "    if kk==0:\n",
    "        plt.ylabel(\"Proportion correct\")\n",
    "        plt.xlabel(\"Subject\")\n",
    "    plt.xticks(range(4),subjects)\n",
    "plt.tight_layout()\n",
    "seaborn.despine()"
   ]
  },
  {
   "cell_type": "code",
   "execution_count": null,
   "metadata": {},
   "outputs": [],
   "source": []
  }
 ],
 "metadata": {
  "kernelspec": {
   "display_name": "Python 3",
   "language": "python",
   "name": "python3"
  },
  "language_info": {
   "codemirror_mode": {
    "name": "ipython",
    "version": 3
   },
   "file_extension": ".py",
   "mimetype": "text/x-python",
   "name": "python",
   "nbconvert_exporter": "python",
   "pygments_lexer": "ipython3",
   "version": "3.7.4"
  }
 },
 "nbformat": 4,
 "nbformat_minor": 2
}
