{
 "cells": [
  {
   "cell_type": "code",
   "execution_count": 1,
   "metadata": {},
   "outputs": [],
   "source": [
    "%matplotlib inline\n",
    "\n",
    "import numpy as np\n",
    "import os\n",
    "import sys\n",
    "import re\n",
    "import matplotlib.pyplot as plt\n",
    "from skimage import measure\n",
    "import itertools\n",
    "import networkx as nx\n",
    "from scipy.special import comb\n",
    "sys.path.append(\"/Users/yves/Documents/Code/structural_knowledge/action_generalisation/\")\n",
    "\n",
    "#import seaborn\n",
    "#seaborn.set(font_scale=1.5,style='ticks')\n",
    "import torch as tf"
   ]
  },
  {
   "cell_type": "code",
   "execution_count": 2,
   "metadata": {},
   "outputs": [],
   "source": [
    "#generate hypercube\n",
    "\n",
    "def graph_cart_product(A,B=None):\n",
    "    if B is None: B=A.copy()\n",
    "    \n",
    "    n,m = A.shape[0],B.shape[0]\n",
    "    return np.kron(A,np.eye(m)) + np.kron(np.eye(n),B)"
   ]
  },
  {
   "cell_type": "code",
   "execution_count": null,
   "metadata": {},
   "outputs": [],
   "source": []
  },
  {
   "cell_type": "code",
   "execution_count": 3,
   "metadata": {},
   "outputs": [],
   "source": [
    "def graph_corona(A,B):\n",
    "    \"\"\" https://www.sciencedirect.com/science/article/pii/S0024379511001182\"\"\"\n",
    "\n",
    "    m,n = A.shape[0], B.shape[0]\n",
    "    tmp1 = np.hstack([A,np.kron(np.ones([1,n]),np.eye(m))])\n",
    "    tmp2 = np.hstack([np.kron(np.ones([1,n]).T,np.eye(m)),np.kron(B,np.eye(m))])\n",
    "    A_corona = np.vstack([tmp1,tmp2])\n",
    "    return A_corona"
   ]
  },
  {
   "cell_type": "code",
   "execution_count": 4,
   "metadata": {},
   "outputs": [],
   "source": [
    "#generate hypercube\n",
    "\n",
    "def strong_product(A,B=None):\n",
    "    if B is None: B=A.copy()\n",
    "    \n",
    "    n,m = A.shape[0],B.shape[0]\n",
    "    return np.kron(A+ np.eye(n),np.eye(m)+B) - np.eye(n+m)"
   ]
  },
  {
   "cell_type": "code",
   "execution_count": 5,
   "metadata": {},
   "outputs": [],
   "source": [
    "def graph_direct_product(A,B=None):\n",
    "    \"\"\" This one works on the laplacians\"\"\"\n",
    "    if B is None: B = A.copy()\n",
    "    \n",
    "    L_prod = np.kron()\n",
    "        "
   ]
  },
  {
   "cell_type": "code",
   "execution_count": 6,
   "metadata": {},
   "outputs": [],
   "source": [
    "def eig_sort(M):\n",
    "    eigenval,v = np.linalg.eig(M)\n",
    "    v = v[:,np.argsort((eigenval))[::-1]]\n",
    "    eigenval = eigenval[np.argsort((eigenval))[::-1]]\n",
    "    return eigenval,v"
   ]
  },
  {
   "cell_type": "code",
   "execution_count": 7,
   "metadata": {},
   "outputs": [],
   "source": [
    "#cartesian product of two path graphs\n",
    "def gen_path_graph(n):\n",
    "    edges = [[i,i+1] for i in range(n-1)]\n",
    "    edges = np.concatenate([edges,[np.flipud(i) for i in edges]])\n",
    "    A = np.zeros([n,n])\n",
    "    D = np.eye(n)\n",
    "    for e in edges:\n",
    "        A[e[0],e[1]] = 1\n",
    "    D = np.eye(n)*A.sum(axis=1)\n",
    "    L = D - A\n",
    "    return A,D,L\n",
    "\n",
    "\n",
    "def gen_path_plus(n):\n",
    "    edges = [[i,i+1] for i in range(n-1)]\n",
    "    edges = np.concatenate([edges,[np.flipud(i) for i in edges]])\n",
    "    #edges = np.concatenate([edges,[[n-1,3],[3,n-1]]])\n",
    "    edges = np.concatenate([edges,[[2,4],[4,2]]])\n",
    "    A = np.zeros([n,n])\n",
    "    D = np.eye(n)\n",
    "    for e in edges:\n",
    "        A[e[0],e[1]] = 1\n",
    "    D = np.eye(n)*A.sum(axis=1)\n",
    "    L = D - A\n",
    "    return A,D,L\n",
    "\n",
    "def gen_cycle_graph(n):\n",
    "    edges = [[i,(i+1)%(n)] for i in range(n)]\n",
    "    edges = np.concatenate([edges,[np.flipud(i) for i in edges]])\n",
    "    A = np.zeros([n,n])\n",
    "    D = np.eye(n)\n",
    "    for e in edges:\n",
    "        A[e[0],e[1]] = 1\n",
    "    D = np.eye(n)*A.sum(axis=1)\n",
    "    L = D - A\n",
    "    return A,D,L\n",
    "\n",
    "def gen_star_graph():\n",
    "    return None\n",
    "def gen_tree_graph(depth=3,max_b=3):\n",
    "    \n",
    "    edges = []\n",
    "    ctr = 0\n",
    "    for d in depth:\n",
    "        n_branch = np.random.randint(0,max_b)\n",
    "        \n",
    "    \n",
    "def simple_tree(n=8):\n",
    "    edges = [[0,1],[1,2],[1,3],[2,4],[2,5],[3,6],[3,7]]\n",
    "    edges = np.concatenate([edges,[np.flipud(i) for i in edges]])\n",
    "    A = np.zeros([n,n])\n",
    "    D = np.eye(n)\n",
    "    for e in edges:\n",
    "        A[e[0],e[1]] = 1\n",
    "    D = np.eye(n)*A.sum(axis=1)\n",
    "    L = D - A\n",
    "    return A,D,L\n",
    "\n",
    "def gen_star_graph(n=0):\n",
    "    n=5\n",
    "    edges = [[0,1],[0,2],[0,3],[0,4]]\n",
    "    edges = np.concatenate([edges,[np.flipud(i) for i in edges]])\n",
    "    A = np.zeros([n,n])\n",
    "    D = np.eye(n)\n",
    "    for e in edges:\n",
    "        A[e[0],e[1]] = 1\n",
    "    D = np.eye(n)*A.sum(axis=1)\n",
    "    L = D - A\n",
    "    return A,D,L\n",
    "\n",
    "def gen_random_graph(gtype='ER',n=5,m=4,p=.3):\n",
    "    if gtype=='ER':\n",
    "        g = nx.random_graphs.erdos_renyi_graph(n,.7)\n",
    "    elif gtype=='BB':\n",
    "        g = nx.generators.barbell_graph(n,2)\n",
    "    elif gtype=='FC':\n",
    "        g = nx.complete_graph(n)\n",
    "    elif gtype=='EMPTY':\n",
    "        g = nx.empty_graph(n=n)\n",
    "        g.add_edges_from([[1,0],[0,1],[4,5],[5,4]])\n",
    "    elif gtype=='gnm':\n",
    "        done = False\n",
    "        while not done:\n",
    "            g = nx.random_graphs.gnm_random_graph(5,4)\n",
    "            done = nx.is_connected(g)\n",
    "            \n",
    "    elif gtype=='WS':\n",
    "        g = nx.connected_watts_strogatz_graph(n,m,p=.3)\n",
    "    elif gtype=='ROOM':\n",
    "        g = nx.grid_2d_graph(n,m)\n",
    "        \n",
    "    elif gtype=='BI':\n",
    "        done = False\n",
    "        while not done:\n",
    "\n",
    "            g = nx.bipartite.random_graph(n,m,p)\n",
    "            done = nx.is_connected(g)\n",
    "\n",
    "    A = nx.to_numpy_matrix(g)\n",
    "    n = A.shape[0]\n",
    "    D = np.eye(n)*A.sum(axis=1)\n",
    "    L = D - A\n",
    "\n",
    "    return A,D,L\n",
    "\n",
    "\n",
    "def gen_outerplanar():\n",
    "    \"\"\" Outerplanar graphs multiplied by path graphs yield planar graphs\"\"\"\n",
    "    n = 8\n",
    "    edges = [[0,1],[1,2],[2,3],[2,0],[3,4],[3,0],[4,5],[5,6],[5,3],[6,7],[6,3],[7,3],[7,0]]\n",
    "    edges = np.concatenate([edges,[np.flipud(i) for i in edges]])\n",
    "    A = np.zeros([n,n])\n",
    "    D = np.eye(n)\n",
    "    for e in edges:\n",
    "        A[e[0],e[1]] = 1\n",
    "    D = np.eye(n)*A.sum(axis=1)\n",
    "    L = D - A\n",
    "    return A,D,L"
   ]
  },
  {
   "cell_type": "code",
   "execution_count": 121,
   "metadata": {},
   "outputs": [],
   "source": [
    "edges = np.array([[1,2],[1,8],[2,3],[2,8],[2,4],\n",
    "                 [2,6],[3,4],[4,5],[4,8],[4,6],\n",
    "                 [5,6],[6,7],[6,8],[7,8]]) -1"
   ]
  },
  {
   "cell_type": "code",
   "execution_count": 132,
   "metadata": {},
   "outputs": [
    {
     "data": {
      "image/png": "[encoded data removed]",
      "text/plain": [
       "<Figure size 432x288 with 1 Axes>"
      ]
     },
     "metadata": {},
     "output_type": "display_data"
    }
   ],
   "source": [
    "g = nx.OrderedGraph()\n",
    "g.add_nodes_from(range(8))\n",
    "g.add_edges_from(edges)\n",
    "Adj = np.array(nx.to_numpy_array(g))\n",
    "nx.draw_kamada_kawai(g)\n"
   ]
  },
  {
   "cell_type": "code",
   "execution_count": 133,
   "metadata": {},
   "outputs": [
    {
     "data": {
      "text/plain": [
       "array([[0., 1., 0., 0., 0., 0., 0., 1.],\n",
       "       [1., 0., 1., 1., 0., 1., 0., 1.],\n",
       "       [0., 1., 0., 1., 0., 0., 0., 0.],\n",
       "       [0., 1., 1., 0., 1., 1., 0., 1.],\n",
       "       [0., 0., 0., 1., 0., 1., 0., 0.],\n",
       "       [0., 1., 0., 1., 1., 0., 1., 1.],\n",
       "       [0., 0., 0., 0., 0., 1., 0., 1.],\n",
       "       [1., 1., 0., 1., 0., 1., 1., 0.]])"
      ]
     },
     "execution_count": 133,
     "metadata": {},
     "output_type": "execute_result"
    }
   ],
   "source": [
    "Adj"
   ]
  },
  {
   "cell_type": "code",
   "execution_count": 134,
   "metadata": {},
   "outputs": [],
   "source": [
    "V1 = np.array([1,3,5,7]) - 1\n",
    "V2 = np.array([2,4,6,8]) - 1\n",
    "\n",
    "Vsets = [V1,V2]\n",
    "k = len(Vsets)"
   ]
  },
  {
   "cell_type": "code",
   "execution_count": 144,
   "metadata": {},
   "outputs": [],
   "source": [
    "A0 = np.array([[0,1],[1,0]])\n",
    "A1 = np.array([[0,0],[1,1]])\n",
    "A2 = np.array([[0,0],[0,1]])\n",
    "A3 = np.array([[0,1],[0,1]])"
   ]
  },
  {
   "cell_type": "code",
   "execution_count": null,
   "metadata": {},
   "outputs": [],
   "source": []
  },
  {
   "cell_type": "code",
   "execution_count": null,
   "metadata": {},
   "outputs": [],
   "source": []
  },
  {
   "cell_type": "code",
   "execution_count": 157,
   "metadata": {},
   "outputs": [],
   "source": [
    "D = np.zeros([k,k]) #quotient graph of the equitable partition\n",
    "\n",
    "for i in range(k):\n",
    "    for j in range(k):\n",
    "        D[i,j] = np.sum([Adj[ki,kj] for ki in Vsets[i] for kj in Vsets[j]])\n",
    "\n",
    "D /= len(Vsets[0])"
   ]
  },
  {
   "cell_type": "code",
   "execution_count": 158,
   "metadata": {},
   "outputs": [
    {
     "data": {
      "text/plain": [
       "[0.0, 0.0, 0.0, 0.0]"
      ]
     },
     "execution_count": 158,
     "metadata": {},
     "output_type": "execute_result"
    }
   ],
   "source": [
    "[Adj[ki,kj] for ki,kj in zip(Vsets[i],Vsets[j])]"
   ]
  },
  {
   "cell_type": "code",
   "execution_count": 159,
   "metadata": {},
   "outputs": [
    {
     "data": {
      "text/plain": [
       "0.0"
      ]
     },
     "execution_count": 159,
     "metadata": {},
     "output_type": "execute_result"
    }
   ],
   "source": [
    "np.sum([Adj[ki,kj] for ki,kj in zip(Vsets[i],Vsets[j])])"
   ]
  },
  {
   "cell_type": "code",
   "execution_count": 161,
   "metadata": {},
   "outputs": [
    {
     "data": {
      "text/plain": [
       "(array([-1.,  4.]),\n",
       " array([[-0.89442719, -0.4472136 ],\n",
       "        [ 0.4472136 , -0.89442719]]))"
      ]
     },
     "execution_count": 161,
     "metadata": {},
     "output_type": "execute_result"
    }
   ],
   "source": [
    "np.linalg.eig(D)"
   ]
  },
  {
   "cell_type": "code",
   "execution_count": 170,
   "metadata": {},
   "outputs": [
    {
     "data": {
      "text/plain": [
       "array([[0., 1., 0., 0., 0., 0., 0., 1.],\n",
       "       [1., 0., 1., 1., 0., 1., 0., 1.],\n",
       "       [0., 1., 0., 1., 0., 0., 0., 0.],\n",
       "       [0., 1., 1., 0., 1., 1., 0., 1.],\n",
       "       [0., 0., 0., 1., 0., 1., 0., 0.],\n",
       "       [0., 1., 0., 1., 1., 0., 1., 1.],\n",
       "       [0., 0., 0., 0., 0., 1., 0., 1.],\n",
       "       [1., 1., 0., 1., 0., 1., 1., 0.]])"
      ]
     },
     "execution_count": 170,
     "metadata": {},
     "output_type": "execute_result"
    }
   ],
   "source": [
    "Adj"
   ]
  },
  {
   "cell_type": "code",
   "execution_count": 169,
   "metadata": {},
   "outputs": [
    {
     "data": {
      "image/png": "[encoded data removed]",
      "text/plain": [
       "<Figure size 432x288 with 1 Axes>"
      ]
     },
     "metadata": {},
     "output_type": "display_data"
    }
   ],
   "source": [
    "nx.draw(nx.from_numpy_array(D))"
   ]
  },
  {
   "cell_type": "code",
   "execution_count": 143,
   "metadata": {},
   "outputs": [
    {
     "data": {
      "text/plain": [
       "matrix([[1., 0., 0., 0., 0., 0.]])"
      ]
     },
     "execution_count": 143,
     "metadata": {},
     "output_type": "execute_result"
    }
   ],
   "source": [
    "np.sum(A[i],axis=0)"
   ]
  },
  {
   "cell_type": "code",
   "execution_count": null,
   "metadata": {},
   "outputs": [],
   "source": [
    "\n"
   ]
  }
 ],
 "metadata": {
  "kernelspec": {
   "display_name": "Python [conda env:action_generalisation] *",
   "language": "python",
   "name": "conda-env-action_generalisation-py"
  },
  "language_info": {
   "codemirror_mode": {
    "name": "ipython",
    "version": 3
   },
   "file_extension": ".py",
   "mimetype": "text/x-python",
   "name": "python",
   "nbconvert_exporter": "python",
   "pygments_lexer": "ipython3",
   "version": "3.8.2"
  }
 },
 "nbformat": 4,
 "nbformat_minor": 2
}
