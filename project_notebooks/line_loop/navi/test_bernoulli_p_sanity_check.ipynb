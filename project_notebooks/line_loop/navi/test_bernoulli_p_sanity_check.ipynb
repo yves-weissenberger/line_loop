{
 "cells": [
  {
   "cell_type": "code",
   "execution_count": 1066,
   "metadata": {},
   "outputs": [],
   "source": [
    "%matplotlib inline\n",
    "import numpy as np\n",
    "import matplotlib.pyplot as plt\n",
    "import scipy.stats as stt\n",
    "import seaborn\n",
    "seaborn.set(font_scale=1.5,style='ticks')"
   ]
  },
  {
   "cell_type": "code",
   "execution_count": null,
   "metadata": {},
   "outputs": [],
   "source": []
  },
  {
   "cell_type": "markdown",
   "metadata": {},
   "source": [
    "# Try simpler stuff, use fisher's method to combine p-values\n",
    "\n",
    "It seems like you lose power by doing this"
   ]
  },
  {
   "cell_type": "code",
   "execution_count": 1198,
   "metadata": {},
   "outputs": [],
   "source": [
    "n_tests = 8\n",
    "samp_size = 20\n",
    "n_hits = 14\n",
    "val = -2*np.sum([np.log(stt.binom_test(n_hits,samp_size,p=.5))]*n_tests)"
   ]
  },
  {
   "cell_type": "code",
   "execution_count": 1199,
   "metadata": {},
   "outputs": [
    {
     "data": {
      "text/plain": [
       "0.11531829833984371"
      ]
     },
     "execution_count": 1199,
     "metadata": {},
     "output_type": "execute_result"
    }
   ],
   "source": [
    "stt.binom_test(n_hits,samp_size,p=.5)"
   ]
  },
  {
   "cell_type": "code",
   "execution_count": 1200,
   "metadata": {},
   "outputs": [
    {
     "data": {
      "text/plain": [
       "34.56094659688819"
      ]
     },
     "execution_count": 1200,
     "metadata": {},
     "output_type": "execute_result"
    }
   ],
   "source": [
    "val"
   ]
  },
  {
   "cell_type": "code",
   "execution_count": 1201,
   "metadata": {},
   "outputs": [
    {
     "data": {
      "text/plain": [
       "(34.56094659688819, 0.004561789552228282)"
      ]
     },
     "execution_count": 1201,
     "metadata": {},
     "output_type": "execute_result"
    }
   ],
   "source": [
    "stt.combine_pvalues([stt.binom_test(n_hits,samp_size,p=.5)]*8,method='fisher')"
   ]
  },
  {
   "cell_type": "code",
   "execution_count": 1202,
   "metadata": {},
   "outputs": [
    {
     "data": {
      "text/plain": [
       "4.5091152205445995e-07"
      ]
     },
     "execution_count": 1202,
     "metadata": {},
     "output_type": "execute_result"
    }
   ],
   "source": [
    "stt.binom_test(n_tests*n_hits,n_tests*samp_size,p=.5)"
   ]
  },
  {
   "cell_type": "code",
   "execution_count": null,
   "metadata": {},
   "outputs": [],
   "source": []
  },
  {
   "cell_type": "code",
   "execution_count": null,
   "metadata": {},
   "outputs": [],
   "source": [
    "stt.binom_test"
   ]
  },
  {
   "cell_type": "code",
   "execution_count": null,
   "metadata": {},
   "outputs": [],
   "source": []
  },
  {
   "cell_type": "code",
   "execution_count": null,
   "metadata": {},
   "outputs": [],
   "source": []
  },
  {
   "cell_type": "markdown",
   "metadata": {},
   "source": [
    "# Ok there is an analytic solution the Poisson-binomial distribution\n",
    "\n",
    "https://www.sciencedirect.com/science/article/pii/S0167947312003568"
   ]
  },
  {
   "cell_type": "code",
   "execution_count": 1304,
   "metadata": {},
   "outputs": [],
   "source": [
    "import collections\n",
    "import numpy as np\n",
    "\n",
    "\n",
    "class PoiBin(object):\n",
    "    \"\"\"Poisson Binomial distribution for random variables.\n",
    "    This class implements the Poisson Binomial distribution for Bernoulli\n",
    "    trials with different success probabilities. The distribution describes\n",
    "    thus a random variable that is the sum of independent and not identically\n",
    "    distributed single Bernoulli random variables.\n",
    "    The class offers methods for calculating the probability mass function, the\n",
    "    cumulative distribution function, and p-values for right-sided testing.\n",
    "    \"\"\"\n",
    "\n",
    "    def __init__(self, probabilities):\n",
    "        \"\"\"Initialize the class and calculate the ``pmf`` and ``cdf``.\n",
    "        :param probabilities: sequence of success probabilities :math:`p_i \\\\in\n",
    "            [0, 1] \\\\forall i \\\\in [0, N]` for :math:`N` independent but not\n",
    "            identically distributed Bernoulli random variables\n",
    "        :type probabilities: numpy.array\n",
    "        \"\"\"\n",
    "        self.success_probabilities = np.array(probabilities)\n",
    "        self.number_trials = self.success_probabilities.size\n",
    "        self.check_input_prob()\n",
    "        self.omega = 2 * np.pi / (self.number_trials + 1)\n",
    "        self.pmf_list = self.get_pmf_xi()\n",
    "        self.cdf_list = self.get_cdf(self.pmf_list)\n",
    "\n",
    "# ------------------------------------------------------------------------------\n",
    "# Methods for the Poisson Binomial Distribution\n",
    "# ------------------------------------------------------------------------------\n",
    "\n",
    "    def pmf(self, number_successes):\n",
    "        \"\"\"Calculate the probability mass function ``pmf`` for the input values.\n",
    "        The ``pmf`` is defined as\n",
    "        .. math::\n",
    "            pmf(k) = Pr(X = k), k = 0, 1, ..., n.\n",
    "        :param number_successes: number of successful trials for which the\n",
    "            probability mass function is calculated\n",
    "        :type number_successes: int or list of integers\n",
    "        \"\"\"\n",
    "        self.check_rv_input(number_successes)\n",
    "        return self.pmf_list[number_successes]\n",
    "\n",
    "    def cdf(self, number_successes):\n",
    "        \"\"\"Calculate the cumulative distribution function for the input values.\n",
    "        The cumulative distribution function ``cdf`` for a number ``k`` of\n",
    "        successes is defined as\n",
    "        .. math::\n",
    "            cdf(k) = Pr(X \\\\leq k), k = 0, 1, ..., n.\n",
    "        :param number_successes: number of successful trials for which the\n",
    "            cumulative distribution function is calculated\n",
    "        :type number_successes: int or list of integers\n",
    "        \"\"\"\n",
    "        self.check_rv_input(number_successes)\n",
    "        return self.cdf_list[number_successes]\n",
    "\n",
    "    def pval(self, number_successes):\n",
    "        \"\"\"Return the p-values corresponding to the input numbers of successes.\n",
    "        The p-values for right-sided testing are defined as\n",
    "        .. math::\n",
    "            pval(k) = Pr(X \\\\geq k ),  k = 0, 1, ..., n.\n",
    "        .. note::\n",
    "            Since :math:`cdf(k) = Pr(X <= k)`, the function returns\n",
    "            .. math::\n",
    "                1 - cdf(X < k) & = 1 - cdf(X <= k - 1)\n",
    "                               & = 1 - cdf(X <= k) + pmf(X = k),\n",
    "                               k = 0, 1, .., n.\n",
    "        :param number_successes: number of successful trials for which the\n",
    "            p-value is calculated\n",
    "        :type number_successes: int, numpy.array, or list of integers\n",
    "        \"\"\"\n",
    "        self.check_rv_input(number_successes)\n",
    "        i = 0\n",
    "        try:\n",
    "            isinstance(number_successes, collections.Iterable)\n",
    "            pvalues = np.array(number_successes, dtype='float')\n",
    "            # if input is iterable (list, numpy.array):\n",
    "            for k in number_successes:\n",
    "                pvalues[i] = 1. - self.cdf(k) + self.pmf(k)\n",
    "                i += 1\n",
    "            return pvalues\n",
    "        except TypeError:\n",
    "            # if input is an integer:\n",
    "            if number_successes == 0:\n",
    "                return 1\n",
    "            else:\n",
    "                return 1 - self.cdf(number_successes - 1)\n",
    "\n",
    "# ------------------------------------------------------------------------------\n",
    "# Methods to obtain pmf and cdf\n",
    "# ------------------------------------------------------------------------------\n",
    "\n",
    "    def get_cdf(self, event_probabilities):\n",
    "        \"\"\"Return the values of the cumulative density function.\n",
    "        Return a list which contains all the values of the cumulative\n",
    "        density function for :math:`i = 0, 1, ..., n`.\n",
    "        :param event_probabilities: array of single event probabilities\n",
    "        :type event_probabilities: numpy.array\n",
    "        \"\"\"\n",
    "        cdf = np.empty(self.number_trials + 1)\n",
    "        cdf[0] = event_probabilities[0]\n",
    "        for i in range(1, self.number_trials + 1):\n",
    "            cdf[i] = cdf[i - 1] + event_probabilities[i]\n",
    "        return cdf\n",
    "\n",
    "    def get_pmf_xi(self):\n",
    "        \"\"\"Return the values of the variable ``xi``.\n",
    "        The components ``xi`` make up the probability mass function, i.e.\n",
    "        :math:`\\\\xi(k) = pmf(k) = Pr(X = k)`.\n",
    "        \"\"\"\n",
    "        chi = np.empty(self.number_trials + 1, dtype=complex)\n",
    "        chi[0] = 1\n",
    "        half_number_trials = int(\n",
    "            self.number_trials / 2 + self.number_trials % 2)\n",
    "        # set first half of chis:\n",
    "        chi[1:half_number_trials + 1] = self.get_chi(\n",
    "            np.arange(1, half_number_trials + 1))\n",
    "        # set second half of chis:\n",
    "        chi[half_number_trials + 1:self.number_trials + 1] = np.conjugate(\n",
    "            chi[1:self.number_trials - half_number_trials + 1] [::-1])\n",
    "        chi /= self.number_trials + 1\n",
    "        xi = np.fft.fft(chi)\n",
    "        if self.check_xi_are_real(xi):\n",
    "            xi = xi.real\n",
    "        else:\n",
    "            raise TypeError(\"pmf / xi values have to be real.\")\n",
    "        xi += np.finfo(type(xi[0])).eps\n",
    "        return xi\n",
    "\n",
    "    def get_chi(self, idx_array):\n",
    "        \"\"\"Return the values of ``chi`` for the specified indices.\n",
    "        :param idx_array: array of indices for which the ``chi`` values should\n",
    "            be calculated\n",
    "        :type idx_array: numpy.array\n",
    "        \"\"\"\n",
    "        # get_z:\n",
    "        exp_value = np.exp(self.omega * idx_array * 1j)\n",
    "        xy = 1 - self.success_probabilities + \\\n",
    "            self.success_probabilities * exp_value[:, np.newaxis]\n",
    "        # sum over the principal values of the arguments of z:\n",
    "        argz_sum = np.arctan2(xy.imag, xy.real).sum(axis=1)\n",
    "        # get d value:\n",
    "        exparg = np.log(np.abs(xy)).sum(axis=1)\n",
    "        d_value = np.exp(exparg)\n",
    "        # get chi values:\n",
    "        chi = d_value * np.exp(argz_sum * 1j)\n",
    "        return chi\n",
    "\n",
    "# ------------------------------------------------------------------------------\n",
    "# Auxiliary functions\n",
    "# ------------------------------------------------------------------------------\n",
    "\n",
    "    def check_rv_input(self, number_successes):\n",
    "        \"\"\"Assert that the input values ``number_successes`` are OK.\n",
    "        The input values ``number_successes`` for the random variable have to be\n",
    "        integers, greater or equal to 0, and smaller or equal to the total\n",
    "        number of trials ``self.number_trials``.\n",
    "        :param number_successes: number of successful trials\n",
    "        :type number_successes: int or list of integers \"\"\"\n",
    "        try:\n",
    "            for k in number_successes:\n",
    "                assert (type(k) == int or type(k) == np.int64), \\\n",
    "                        \"Values in input list must be integers\"\n",
    "                assert k >= 0, 'Values in input list cannot be negative.'\n",
    "                assert k <= self.number_trials, \\\n",
    "                    'Values in input list must be smaller or equal to the ' \\\n",
    "                    'number of input probabilities \"n\"'\n",
    "        except TypeError:\n",
    "            assert (type(number_successes) == int or \\\n",
    "                type(number_successes) == np.int64), \\\n",
    "                'Input value must be an integer.'\n",
    "            assert number_successes >= 0, \"Input value cannot be negative.\"\n",
    "            assert number_successes <= self.number_trials, \\\n",
    "                'Input value cannot be greater than ' + str(self.number_trials)\n",
    "        return True\n",
    "\n",
    "    @staticmethod\n",
    "    def check_xi_are_real(xi_values):\n",
    "        \"\"\"Check whether all the ``xi``s have imaginary part equal to 0.\n",
    "        The probabilities :math:`\\\\xi(k) = pmf(k) = Pr(X = k)` have to be\n",
    "        positive and must have imaginary part equal to zero.\n",
    "        :param xi_values: single event probabilities\n",
    "        :type xi_values: complex\n",
    "        \"\"\"\n",
    "        return np.all(xi_values.imag <= np.finfo(float).eps)\n",
    "\n",
    "    def check_input_prob(self):\n",
    "        \"\"\"Check that all the input probabilities are in the interval [0, 1].\"\"\"\n",
    "        if self.success_probabilities.shape != (self.number_trials,):\n",
    "            raise ValueError(\n",
    "                \"Input must be an one-dimensional array or a list.\")\n",
    "        if not np.all(self.success_probabilities >= 0):\n",
    "            raise ValueError(\"Input probabilities have to be non negative.\")\n",
    "        if not np.all(self.success_probabilities <= 1):\n",
    "            raise ValueError(\"Input probabilities have to be smaller than 1.\")\n",
    "\n",
    "################################################################################\n",
    "# Main\n",
    "################################################################################\n",
    "\n",
    "if __name__ == \"__main__\":\n",
    "    pass"
   ]
  },
  {
   "cell_type": "code",
   "execution_count": 1353,
   "metadata": {},
   "outputs": [],
   "source": [
    "import numpy as np\n",
    "from math import atan2,sqrt,log,cos,sin,exp,pi\n",
    "from scipy.fft import fft\n",
    "\n",
    "class PoissonBinomial:\n",
    "    \"\"\"\n",
    "    The poisson binomial distribution is essentially a binomial\n",
    "    distribution where the probability of success on each trial\n",
    "    is not necessarily identically distributed. This implementation\n",
    "    and results are checked against https://github.com/tsakim/poibin/blob/master/poibin.py\n",
    "    If all ps in prob_array are equal, this distribution reverts to the\n",
    "    binomial distribution. This resultant p-values have also been checked \n",
    "    against the scipy implementation\n",
    "    \n",
    "    from https://pypi.org/project/poisson-binomial/#files\n",
    "    \"\"\"\n",
    "    def __init__(self,prob_array):\n",
    "        self.p = np.array(prob_array)\n",
    "        self.pmf = self.get_poisson_binomial()\n",
    "        self.cdf = np.cumsum(self.pmf)\n",
    "        \n",
    "    def x_or_less(self,x):\n",
    "        return self.cdf[x]\n",
    "    def x_or_more(self,x):\n",
    "        return 1-self.cdf[x]+self.pmf[x]\n",
    "\n",
    "    def get_poisson_binomial(self):\n",
    "\n",
    "        \"\"\"This version of the poisson_binomial is implemented \n",
    "        from the fast fourier transform method described in \n",
    "        'On computing the distribution function for the \n",
    "        Poisson binomial distribution'by Yili Hong 2013.\"\"\"\n",
    "\n",
    "        real = np.vectorize(lambda x: x.real)\n",
    "\n",
    "        def x(w,l):\n",
    "            v_atan2 = np.vectorize(atan2)\n",
    "            v_sqrt = np.vectorize(sqrt)\n",
    "            v_log = np.vectorize(log)\n",
    "\n",
    "            if l==0:\n",
    "                return complex(1,0)\n",
    "            else:\n",
    "\n",
    "                wl = w*l\n",
    "                real = 1+self.p*(cos(wl)-1)\n",
    "                imag = self.p*sin(wl)\n",
    "                mod = v_sqrt(imag**2+real**2)\n",
    "                arg = v_atan2(imag,real)\n",
    "                d = exp((v_log(mod)).sum())\n",
    "                arg_sum = arg.sum()\n",
    "                a = d*cos(arg_sum)\n",
    "                b = d*sin(arg_sum)\n",
    "                return complex(a,b)\n",
    "\n",
    "        n = self.p.size \n",
    "        w = 2*pi/(1+n)\n",
    "\n",
    "        xs = [x(w,i) for i in range((n+1)//2+1)]\n",
    "        for i in range((n+1)//2+1,n+1):\n",
    "            c = xs[n+1-i]\n",
    "            xs.append(c.conjugate())\n",
    "\n",
    "        return real(fft(xs))/(n+1)"
   ]
  },
  {
   "cell_type": "code",
   "execution_count": 1402,
   "metadata": {},
   "outputs": [],
   "source": [
    "n_draws = 50\n",
    "coin_ps = np.clip(np.random.random(size=n_draws),0,.8)\n",
    "coin_ps = np.clip(np.random.random(size=n_draws),0,.8)\n",
    "coin_ps2 = np.clip(coin_ps + 0.2,0,1)\n",
    "my_draw = np.array([np.random.binomial(1,p=p_) for p_ in coin_ps2])\n",
    "\n",
    "n_samps = 100000\n",
    "draws = np.array([np.random.binomial(1,p=p_,size=n_samps) for p_ in coin_ps])\n"
   ]
  },
  {
   "cell_type": "code",
   "execution_count": 1403,
   "metadata": {},
   "outputs": [],
   "source": [
    "pbd = PoissonBinomial(coin_ps)"
   ]
  },
  {
   "cell_type": "code",
   "execution_count": 1404,
   "metadata": {},
   "outputs": [],
   "source": [
    "all_ps = [pbd.x_or_more(np.sum(draws[:,i])) for i in range(n_samps-1)]"
   ]
  },
  {
   "cell_type": "code",
   "execution_count": 1405,
   "metadata": {},
   "outputs": [],
   "source": [
    "#binom_check = [stt.binom_test(np.sum(draws[:,i]),50,p=.5,alternative='greater') for i in range(n_samps-1)]"
   ]
  },
  {
   "cell_type": "code",
   "execution_count": 1406,
   "metadata": {},
   "outputs": [
    {
     "data": {
      "text/plain": [
       "False"
      ]
     },
     "execution_count": 1406,
     "metadata": {},
     "output_type": "execute_result"
    }
   ],
   "source": [
    "np.allclose(binom_check,all_ps)"
   ]
  },
  {
   "cell_type": "code",
   "execution_count": 1407,
   "metadata": {},
   "outputs": [
    {
     "data": {
      "text/plain": [
       "0.058610340006820416"
      ]
     },
     "execution_count": 1407,
     "metadata": {},
     "output_type": "execute_result"
    }
   ],
   "source": [
    "np.percentile(all_ps,5)"
   ]
  },
  {
   "cell_type": "code",
   "execution_count": 1410,
   "metadata": {},
   "outputs": [
    {
     "data": {
      "text/plain": [
       "0.9999759827398287"
      ]
     },
     "execution_count": 1410,
     "metadata": {},
     "output_type": "execute_result"
    }
   ],
   "source": [
    "1- pbd.x_or_more(np.sum(my_draw))"
   ]
  },
  {
   "cell_type": "code",
   "execution_count": 1411,
   "metadata": {},
   "outputs": [
    {
     "data": {
      "text/plain": [
       "2.4017260171307787e-05"
      ]
     },
     "execution_count": 1411,
     "metadata": {},
     "output_type": "execute_result"
    }
   ],
   "source": [
    "pbd.x_or_more(np.sum(my_draw))"
   ]
  },
  {
   "cell_type": "code",
   "execution_count": 1339,
   "metadata": {},
   "outputs": [
    {
     "data": {
      "text/plain": [
       "0.62"
      ]
     },
     "execution_count": 1339,
     "metadata": {},
     "output_type": "execute_result"
    }
   ],
   "source": [
    "PoissonBinomial([.])"
   ]
  },
  {
   "cell_type": "code",
   "execution_count": 1340,
   "metadata": {},
   "outputs": [
    {
     "data": {
      "text/plain": [
       "0.42682726"
      ]
     },
     "execution_count": 1340,
     "metadata": {},
     "output_type": "execute_result"
    }
   ],
   "source": [
    "np.mean(draws)"
   ]
  },
  {
   "cell_type": "code",
   "execution_count": 1341,
   "metadata": {},
   "outputs": [
    {
     "data": {
      "text/plain": [
       "0.8277964998740646"
      ]
     },
     "execution_count": 1341,
     "metadata": {},
     "output_type": "execute_result"
    }
   ],
   "source": [
    "pbd.x_or_more(np.sum(draws[:,0]))"
   ]
  },
  {
   "cell_type": "code",
   "execution_count": 1342,
   "metadata": {},
   "outputs": [],
   "source": [
    "pdb2 = PoiBin(coin_ps)"
   ]
  },
  {
   "cell_type": "code",
   "execution_count": 1343,
   "metadata": {},
   "outputs": [],
   "source": [
    "all_ps2 = [pdb2.pval(np.sum(draws[:,i])) for i in range(n_samps)]"
   ]
  },
  {
   "cell_type": "code",
   "execution_count": 1345,
   "metadata": {},
   "outputs": [
    {
     "data": {
      "text/plain": [
       "[0.8277964998740646,\n",
       " 0.4789403750920296,\n",
       " 0.35037801671041635,\n",
       " 0.8998036154586944,\n",
       " 0.1475835804052961]"
      ]
     },
     "execution_count": 1345,
     "metadata": {},
     "output_type": "execute_result"
    }
   ],
   "source": [
    "all_ps[:5]"
   ]
  },
  {
   "cell_type": "code",
   "execution_count": null,
   "metadata": {},
   "outputs": [],
   "source": [
    "PoiBin"
   ]
  },
  {
   "cell_type": "code",
   "execution_count": 1349,
   "metadata": {},
   "outputs": [
    {
     "data": {
      "text/plain": [
       "True"
      ]
     },
     "execution_count": 1349,
     "metadata": {},
     "output_type": "execute_result"
    }
   ],
   "source": [
    "np.allclose(all_ps,all_ps2[:-1])"
   ]
  },
  {
   "cell_type": "code",
   "execution_count": 1344,
   "metadata": {},
   "outputs": [
    {
     "data": {
      "text/plain": [
       "0.08403893523868589"
      ]
     },
     "execution_count": 1344,
     "metadata": {},
     "output_type": "execute_result"
    }
   ],
   "source": [
    "np.percentile(all_ps2,5)"
   ]
  },
  {
   "cell_type": "markdown",
   "metadata": {},
   "source": [
    "# Run simulations etc "
   ]
  },
  {
   "cell_type": "code",
   "execution_count": 1094,
   "metadata": {},
   "outputs": [],
   "source": [
    "bernoulli_pmf = lambda x,p: p**x * (1-p)**(1-x)\n",
    "log_bernoulli_pmf = lambda  x,p: x*np.log(p) + (1-x)*np.log(1-p)"
   ]
  },
  {
   "cell_type": "code",
   "execution_count": 1095,
   "metadata": {},
   "outputs": [],
   "source": [
    "coin_ps = np.clip(np.random.random(size=40),0,.8)\n",
    "coin_ps2 = np.clip(coin_ps + 0.3,0,1)\n",
    "my_draw = np.array([np.random.binomial(1,p=p_) for p_ in coin_ps2])\n",
    "\n",
    "n_samps = 10000\n",
    "draws = np.array([np.random.binomial(1,p=p_,size=n_samps) for p_ in coin_ps])\n",
    "bigstore = log_bernoulli_pmf(draws,coin_ps[:,None])\n",
    "store = np.sum(bigstore,axis=0)"
   ]
  },
  {
   "cell_type": "code",
   "execution_count": 1096,
   "metadata": {},
   "outputs": [
    {
     "data": {
      "text/plain": [
       "<matplotlib.lines.Line2D at 0x7fb4a1e9ff50>"
      ]
     },
     "execution_count": 1096,
     "metadata": {},
     "output_type": "execute_result"
    },
    {
     "data": {
      "image/png": "[encoded data removed]",
      "text/plain": [
       "<Figure size 432x288 with 1 Axes>"
      ]
     },
     "metadata": {},
     "output_type": "display_data"
    }
   ],
   "source": [
    "seaborn.distplot(np.sum(np.abs(draws - coin_ps[:,None]),axis=0),kde=0)\n",
    "plt.axvline(x=np.sum(np.abs(my_draw-coin_ps)))"
   ]
  },
  {
   "cell_type": "code",
   "execution_count": 1097,
   "metadata": {},
   "outputs": [
    {
     "name": "stdout",
     "output_type": "stream",
     "text": [
      "0.0289 1 0.33060797165797823\n",
      "0.2348 1 0.5399549653585483\n",
      "0.7953 1 1.0\n",
      "0.6642 1 0.9640430352769693\n",
      "0.7851 0 1.0\n",
      "0.7984 0 1.0\n",
      "0.7962 1 1.0\n",
      "0.6795 1 0.9793117106780682\n",
      "0.5661 1 0.8726419062367408\n",
      "0.7878 1 1.0\n",
      "0.7929 0 1.0\n",
      "0.3361 1 0.6303648529594958\n",
      "0.2161 1 0.5178846871008163\n",
      "0.5181 0 0.8199416006460949\n",
      "0.144 0 0.44184522597524883\n",
      "0.1741 0 0.4731984245961178\n",
      "0.4642 0 0.7650793161003975\n",
      "0.3207 0 0.6309077263823881\n",
      "0.8008 1 1.0\n",
      "0.6606 0 0.954414670325533\n"
     ]
    }
   ],
   "source": [
    "for i,j,k in zip(*[np.mean(draws,axis=1),draw,coin_ps2]):\n",
    "    print(i,j,k)"
   ]
  },
  {
   "cell_type": "code",
   "execution_count": 1098,
   "metadata": {},
   "outputs": [
    {
     "data": {
      "text/plain": [
       "array([1, 1, 1, 1, 0, 0, 1, 1, 1, 1, 0, 1, 1, 0, 0, 0, 0, 0, 1, 0])"
      ]
     },
     "execution_count": 1098,
     "metadata": {},
     "output_type": "execute_result"
    }
   ],
   "source": [
    "draw"
   ]
  },
  {
   "cell_type": "code",
   "execution_count": 1099,
   "metadata": {},
   "outputs": [
    {
     "data": {
      "image/png": "[encoded data removed]",
      "text/plain": [
       "<Figure size 432x288 with 1 Axes>"
      ]
     },
     "metadata": {},
     "output_type": "display_data"
    }
   ],
   "source": [
    "seaborn.distplot(coin_ps)\n",
    "seaborn.distplot(coin_ps2)\n",
    "seaborn.despine()"
   ]
  },
  {
   "cell_type": "code",
   "execution_count": 1100,
   "metadata": {},
   "outputs": [
    {
     "data": {
      "text/plain": [
       "1.0"
      ]
     },
     "execution_count": 1100,
     "metadata": {},
     "output_type": "execute_result"
    }
   ],
   "source": [
    "stt.binom_test(np.sum(draw),len(draw),np.mean(draws))"
   ]
  },
  {
   "cell_type": "code",
   "execution_count": 1101,
   "metadata": {},
   "outputs": [],
   "source": [
    "allP = np.sum(log_bernoulli_pmf(my_draw,p=coin_ps))\n"
   ]
  },
  {
   "cell_type": "code",
   "execution_count": null,
   "metadata": {},
   "outputs": [],
   "source": []
  },
  {
   "cell_type": "code",
   "execution_count": 1102,
   "metadata": {},
   "outputs": [
    {
     "data": {
      "text/plain": [
       "0.006464027883250764"
      ]
     },
     "execution_count": 1102,
     "metadata": {},
     "output_type": "execute_result"
    }
   ],
   "source": [
    "stt.binom_test(np.sum(my_draw),len(my_draw),np.mean(draws))"
   ]
  },
  {
   "cell_type": "code",
   "execution_count": 1103,
   "metadata": {},
   "outputs": [
    {
     "data": {
      "text/plain": [
       "array([0.03060797, 0.23995497, 0.8       , 0.66404304, 0.79379337,\n",
       "       0.8       , 0.8       , 0.67931171, 0.57264191, 0.78145742,\n",
       "       0.8       , 0.33036485, 0.21788469, 0.5199416 , 0.14184523,\n",
       "       0.17319842, 0.46507932, 0.33090773, 0.8       , 0.65441467,\n",
       "       0.0062841 , 0.8       , 0.31580622, 0.50148737, 0.8       ,\n",
       "       0.41945671, 0.17762559, 0.40345473, 0.64831137, 0.70395158,\n",
       "       0.50558752, 0.64751784, 0.8       , 0.60512849, 0.46535712,\n",
       "       0.31563406, 0.62857587, 0.8       , 0.75474783, 0.43923625])"
      ]
     },
     "execution_count": 1103,
     "metadata": {},
     "output_type": "execute_result"
    }
   ],
   "source": [
    "coin_ps"
   ]
  },
  {
   "cell_type": "code",
   "execution_count": 1104,
   "metadata": {},
   "outputs": [
    {
     "data": {
      "text/plain": [
       "<matplotlib.lines.Line2D at 0x7fb3e9269d90>"
      ]
     },
     "execution_count": 1104,
     "metadata": {},
     "output_type": "execute_result"
    },
    {
     "data": {
      "image/png": "[encoded data removed]",
      "text/plain": [
       "<Figure size 432x288 with 1 Axes>"
      ]
     },
     "metadata": {},
     "output_type": "display_data"
    }
   ],
   "source": [
    "seaborn.distplot(store)\n",
    "plt.axvline(x=allP)"
   ]
  },
  {
   "cell_type": "code",
   "execution_count": 1105,
   "metadata": {},
   "outputs": [
    {
     "data": {
      "text/plain": [
       "21.93"
      ]
     },
     "execution_count": 1105,
     "metadata": {},
     "output_type": "execute_result"
    }
   ],
   "source": [
    "stt.percentileofscore(store,allP)"
   ]
  },
  {
   "cell_type": "code",
   "execution_count": 1106,
   "metadata": {},
   "outputs": [
    {
     "data": {
      "text/plain": [
       "0.532005"
      ]
     },
     "execution_count": 1106,
     "metadata": {},
     "output_type": "execute_result"
    }
   ],
   "source": [
    "np.mean(draws)"
   ]
  },
  {
   "cell_type": "code",
   "execution_count": 1107,
   "metadata": {},
   "outputs": [
    {
     "data": {
      "text/plain": [
       "0.75"
      ]
     },
     "execution_count": 1107,
     "metadata": {},
     "output_type": "execute_result"
    }
   ],
   "source": [
    "np.mean(my_draw)"
   ]
  },
  {
   "cell_type": "markdown",
   "metadata": {},
   "source": [
    "# Tests"
   ]
  },
  {
   "cell_type": "code",
   "execution_count": 718,
   "metadata": {},
   "outputs": [
    {
     "data": {
      "text/plain": [
       "True"
      ]
     },
     "execution_count": 718,
     "metadata": {},
     "output_type": "execute_result"
    }
   ],
   "source": [
    "\n",
    "n_samps = 100000\n",
    "store = []\n",
    "draws = np.array([np.random.binomial(1,p=p_,size=n_samps) for p_ in coin_ps])\n",
    "\n",
    "for i in range(n_samps):\n",
    "    #draw = [np.random.binomial(1,p=p_) for p_ in coin_ps]\n",
    "    allP_ = np.sum(log_bern_pmf(draws[:,i],coin_ps))\n",
    "    store.append(allP_)\n",
    "    \n",
    "#%%timeit\n",
    "store2 = log_bern_pmf(draws,coin_ps[:,None]).sum(axis=0)\n",
    "\n",
    "np.allclose(store,store2)"
   ]
  },
  {
   "cell_type": "code",
   "execution_count": 312,
   "metadata": {},
   "outputs": [
    {
     "data": {
      "text/plain": [
       "True"
      ]
     },
     "execution_count": 312,
     "metadata": {},
     "output_type": "execute_result"
    }
   ],
   "source": [
    "a,b = np.random.random(size=100)>.5,np.random.random(size=100)\n",
    "np.allclose(np.log(np.product(bernoulli_pmf(a,b))),np.sum(log_bernoulli_pmf(a,b)))"
   ]
  },
  {
   "cell_type": "code",
   "execution_count": 311,
   "metadata": {},
   "outputs": [
    {
     "data": {
      "text/plain": [
       "-90.99256538652124"
      ]
     },
     "execution_count": 311,
     "metadata": {},
     "output_type": "execute_result"
    }
   ],
   "source": []
  },
  {
   "cell_type": "code",
   "execution_count": null,
   "metadata": {},
   "outputs": [],
   "source": []
  }
 ],
 "metadata": {
  "kernelspec": {
   "display_name": "Python 3",
   "language": "python",
   "name": "python3"
  },
  "language_info": {
   "codemirror_mode": {
    "name": "ipython",
    "version": 3
   },
   "file_extension": ".py",
   "mimetype": "text/x-python",
   "name": "python",
   "nbconvert_exporter": "python",
   "pygments_lexer": "ipython3",
   "version": "3.7.4"
  }
 },
 "nbformat": 4,
 "nbformat_minor": 2
}
