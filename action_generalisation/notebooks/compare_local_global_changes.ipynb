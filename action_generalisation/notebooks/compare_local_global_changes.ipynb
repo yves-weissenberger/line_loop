{
 "cells": [
  {
   "cell_type": "code",
   "execution_count": 1,
   "metadata": {},
   "outputs": [],
   "source": [
    "%matplotlib inline\n",
    "\n",
    "import numpy as np\n",
    "import os\n",
    "import sys\n",
    "import re\n",
    "import matplotlib.pyplot as plt\n",
    "from skimage import measure\n",
    "import itertools\n",
    "sys.path.append(\"/Users/yves/Documents/Code/structural_knowledge/action_generalisation/\")\n",
    "\n",
    "import torch as tf"
   ]
  },
  {
   "cell_type": "code",
   "execution_count": 237,
   "metadata": {},
   "outputs": [],
   "source": [
    "\n",
    "def make_matrix_from(maze):\n",
    "    \n",
    "    def in_maze(s):\n",
    "        return s[0] >= 0 and s[0] < maze.shape[0] and s[1] >= 0 and s[1] < maze.shape[1]\n",
    "\n",
    "    def is_free(s):\n",
    "        return maze[s[0],s[1]] == 1\n",
    "\n",
    "    def valid_state(s):\n",
    "        return in_maze(s) and is_free(s)\n",
    "    \n",
    "    states = [np.array(s) for s in itertools.product(range(maze.shape[0]), range(maze.shape[1])) if maze[s[0], s[1]] == 1]\n",
    "    Ta = np.eye(len(states))\n",
    "    idx = np.zeros(maze.shape, dtype=np.int)\n",
    "    c = 0\n",
    "    for i in range(maze.shape[0]):\n",
    "        for j in range(maze.shape[1]):\n",
    "            if maze[i, j] == 0:\n",
    "                continue\n",
    "            idx[i, j] = c\n",
    "            c += 1\n",
    "    \n",
    "    for i, state in enumerate(states):\n",
    "        possible_next_states = [state + d for d in np.array([[1,0],[-1,0],[0,1],[0,-1]])]\n",
    "        filtered = list(filter(valid_state, possible_next_states))\n",
    "        for f in filtered:\n",
    "            Ta[i, idx[f[0], f[1]]] = 1\n",
    "            Ta[idx[f[0], f[1]], i] = 1\n",
    "    return Ta, idx\n"
   ]
  },
  {
   "cell_type": "code",
   "execution_count": 238,
   "metadata": {},
   "outputs": [],
   "source": [
    "import env_gen"
   ]
  },
  {
   "cell_type": "code",
   "execution_count": 239,
   "metadata": {},
   "outputs": [],
   "source": [
    "Nx = 10\n",
    "Ny = 10\n",
    "M = env_gen.generate_random_connected_maze(Nx,Ny,100)"
   ]
  },
  {
   "cell_type": "code",
   "execution_count": 240,
   "metadata": {},
   "outputs": [],
   "source": [
    "M = np.eye(8)\n",
    "M[0,1] = 1\n",
    "M[1,2] = 1\n",
    "M[2,5] = 1\n",
    "M[3,4] = 1\n",
    "M[4,5] = 1\n",
    "M[5,6] = 1\n",
    "M[6,7] = 1\n",
    "\n",
    "M = -(M + M.T)\n",
    "M = M/np.sum(M,axis=0)[:,None]\n",
    "M[np.diag_indices_from(M)] = 1"
   ]
  },
  {
   "cell_type": "code",
   "execution_count": 241,
   "metadata": {},
   "outputs": [],
   "source": [
    "M = np.zeros([6,6])\n",
    "M[1,1] = 1\n",
    "M[1,2] = 1\n",
    "M[3,1] = 1\n",
    "M[3,2] = 1\n",
    "M[2,2] = 1\n",
    "M[2,3] = 1\n",
    "M[2,4] = 1\n",
    "M[2,5] = 1"
   ]
  },
  {
   "cell_type": "code",
   "execution_count": 285,
   "metadata": {},
   "outputs": [],
   "source": [
    "M = np.zeros([6,6])\n",
    "M[1,:-1] = 1\n",
    "M[3,:-1] = 1\n",
    "M[2,-2] = 1\n",
    "#M[3,2] = 1\n",
    "#M[2,2] = 1\n",
    "#M[2,3] = 1\n",
    "#M[2,4] = 1\n",
    "#M[2,5] = 1"
   ]
  },
  {
   "cell_type": "code",
   "execution_count": 286,
   "metadata": {},
   "outputs": [
    {
     "data": {
      "text/plain": [
       "<matplotlib.image.AxesImage at 0x7fe8c87fc400>"
      ]
     },
     "execution_count": 286,
     "metadata": {},
     "output_type": "execute_result"
    },
    {
     "data": {
      "image/png": "[encoded data removed]",
      "text/plain": [
       "<Figure size 432x288 with 1 Axes>"
      ]
     },
     "metadata": {
      "needs_background": "light"
     },
     "output_type": "display_data"
    }
   ],
   "source": [
    "plt.imshow(M)"
   ]
  },
  {
   "cell_type": "code",
   "execution_count": 287,
   "metadata": {},
   "outputs": [],
   "source": [
    "\n",
    "\n",
    "protect = np.array(list(itertools.product(range(5), range(5)) ))\n"
   ]
  },
  {
   "cell_type": "code",
   "execution_count": 288,
   "metadata": {},
   "outputs": [
    {
     "data": {
      "text/plain": [
       "(2, 2)"
      ]
     },
     "execution_count": 288,
     "metadata": {},
     "output_type": "execute_result"
    }
   ],
   "source": [
    "M[protect[0]][:,protect[1]].shape"
   ]
  },
  {
   "cell_type": "code",
   "execution_count": 289,
   "metadata": {},
   "outputs": [],
   "source": [
    "\n",
    "def generate_env_constrained(Mstart,protect,n_elim,verbose=False):\n",
    "\n",
    "    all_labels = measure.label(Mstart)\n",
    "\n",
    "    M = np.ones_like(Mstart)\n",
    "    for ix in protect:\n",
    "        M[ix[0],ix[1]] = Mstart[ix[0],ix[1]]   \n",
    "    Nx,Ny = Mstart.shape\n",
    "    for _ in range(n_elim):\n",
    "        Mdash = M.copy()\n",
    "        updX,updY = (np.random.randint(0,Nx),np.random.randint(0,Ny))\n",
    "        \n",
    "        if not np.any([np.all([updX,updY]==i) for i in protect]):\n",
    "            if verbose: print((updX,updY),'no')\n",
    "            Mdash[updX,updY] = 0\n",
    "            all_labels = measure.label(Mdash,connectivity=1)\n",
    "            if len(np.unique(all_labels))<=2:\n",
    "                M = Mdash\n",
    "        else:\n",
    "            if verbose: print((updX,updY),'yes')\n",
    "\n",
    "    return M"
   ]
  },
  {
   "cell_type": "code",
   "execution_count": 290,
   "metadata": {},
   "outputs": [],
   "source": [
    "#M2 = generate_env_constrained(M,protect,500)"
   ]
  },
  {
   "cell_type": "code",
   "execution_count": null,
   "metadata": {},
   "outputs": [],
   "source": []
  },
  {
   "cell_type": "code",
   "execution_count": null,
   "metadata": {},
   "outputs": [],
   "source": []
  },
  {
   "cell_type": "code",
   "execution_count": 291,
   "metadata": {},
   "outputs": [
    {
     "data": {
      "text/plain": [
       "array([[0, 0, 0, 0, 0, 0],\n",
       "       [0, 1, 2, 0, 0, 0],\n",
       "       [0, 0, 3, 4, 5, 6],\n",
       "       [0, 7, 8, 0, 0, 0],\n",
       "       [0, 0, 0, 0, 0, 0],\n",
       "       [0, 0, 0, 0, 0, 0]])"
      ]
     },
     "execution_count": 291,
     "metadata": {},
     "output_type": "execute_result"
    }
   ],
   "source": [
    "idx"
   ]
  },
  {
   "cell_type": "code",
   "execution_count": 292,
   "metadata": {},
   "outputs": [
    {
     "data": {
      "text/plain": [
       "<matplotlib.image.AxesImage at 0x7fe8c8788880>"
      ]
     },
     "execution_count": 292,
     "metadata": {},
     "output_type": "execute_result"
    },
    {
     "data": {
      "image/png": "[encoded data removed]",
      "text/plain": [
       "<Figure size 432x288 with 1 Axes>"
      ]
     },
     "metadata": {
      "needs_background": "light"
     },
     "output_type": "display_data"
    }
   ],
   "source": [
    "plt.imshow(M)"
   ]
  },
  {
   "cell_type": "code",
   "execution_count": 293,
   "metadata": {},
   "outputs": [],
   "source": [
    "\n",
    "\n",
    "gamma = 0.9\n",
    "M_set = []\n",
    "SR_set = []\n",
    "nM = 100\n",
    "protect = itertools.product(range(5), range(5)) \n",
    "for i in range(nM):\n",
    "    m_ = generate_env_constrained(M.copy(),protect,50)\n",
    "    M_set.append(m_)\n",
    "    \n",
    "    \n",
    "    T,state_indices = make_matrix_from(m_)\n",
    "    T[np.diag_indices_from(T)] = 0\n",
    "    T = T/np.sum(T,axis=1)[None,:]\n",
    "    SR = np.linalg.inv(np.eye(T.shape[0]) - gamma * T)\n",
    "    \n",
    "    \n",
    "\n",
    "    SR_set.append(SR)"
   ]
  },
  {
   "cell_type": "code",
   "execution_count": 318,
   "metadata": {},
   "outputs": [],
   "source": [
    "T,idx = make_matrix_from(M)\n",
    "\n",
    "idx[idx>0] += 1\n",
    "#idx[1,1] = 1\n",
    "idx[1,0] = 1\n",
    "\n",
    "\n",
    "T[np.diag_indices_from(T)] = 0\n",
    "T = T/np.sum(T,axis=1)[None,:]"
   ]
  },
  {
   "cell_type": "code",
   "execution_count": 319,
   "metadata": {},
   "outputs": [
    {
     "data": {
      "text/plain": [
       "11"
      ]
     },
     "execution_count": 319,
     "metadata": {},
     "output_type": "execute_result"
    }
   ],
   "source": [
    "len(eigenval)"
   ]
  },
  {
   "cell_type": "code",
   "execution_count": null,
   "metadata": {},
   "outputs": [],
   "source": []
  },
  {
   "cell_type": "code",
   "execution_count": 320,
   "metadata": {},
   "outputs": [],
   "source": [
    "eigenval,v = np.linalg.eig(T)"
   ]
  },
  {
   "cell_type": "code",
   "execution_count": 321,
   "metadata": {},
   "outputs": [],
   "source": [
    "eigenval,v = np.linalg.eig(T)\n",
    "v = v[:,np.argsort((eigenval))[::-1]]\n",
    "eigenval = eigenval[np.argsort((eigenval))[::-1]]"
   ]
  },
  {
   "cell_type": "code",
   "execution_count": 322,
   "metadata": {},
   "outputs": [],
   "source": [
    "gamma = 0.9\n",
    "SR = np.linalg.inv(np.eye(T.shape[0]) - gamma * T)\n",
    "\n",
    "\n",
    "eigenval,v = np.linalg.eig(SR)\n",
    "v = v[:,np.argsort((eigenval))[::-1]]\n",
    "eigenval = eigenval[np.argsort((eigenval))[::-1]]"
   ]
  },
  {
   "cell_type": "code",
   "execution_count": 323,
   "metadata": {},
   "outputs": [],
   "source": [
    "def draw_vec_onto_maze(M,v,state_indices):\n",
    "    ev_draw = np.zeros_like(M)\n",
    "    Nx,Ny = M.shape\n",
    "    for i in range(Nx):\n",
    "        for j in range(Ny):\n",
    "            #ix = np.where(idx=)\n",
    "            ev_draw[i,j] = v[idx[i,j]]\n",
    "            \n",
    "    fin = np.ma.masked_where(idx==0,ev_draw)\n",
    "    return ev_draw, ed"
   ]
  },
  {
   "cell_type": "code",
   "execution_count": 324,
   "metadata": {},
   "outputs": [
    {
     "data": {
      "text/plain": [
       "0"
      ]
     },
     "execution_count": 324,
     "metadata": {},
     "output_type": "execute_result"
    }
   ],
   "source": [
    "idx[i,j]"
   ]
  },
  {
   "cell_type": "code",
   "execution_count": 360,
   "metadata": {},
   "outputs": [],
   "source": [
    "ev_draw = np.zeros_like(M)\n",
    "Nx,Ny = M.shape\n",
    "for i in range(Nx):\n",
    "    for j in range(Ny):\n",
    "        #ix = np.where(idx=)\n",
    "        ev_draw[i,j] = v[:,3][idx[i,j]-1]"
   ]
  },
  {
   "cell_type": "code",
   "execution_count": 361,
   "metadata": {},
   "outputs": [],
   "source": [
    "fin = np.ma.masked_where(idx==0,ev_draw)"
   ]
  },
  {
   "cell_type": "code",
   "execution_count": 362,
   "metadata": {},
   "outputs": [],
   "source": [
    "from sklearn.decomposition import PCA"
   ]
  },
  {
   "cell_type": "code",
   "execution_count": 363,
   "metadata": {},
   "outputs": [
    {
     "data": {
      "text/plain": [
       "[<matplotlib.lines.Line2D at 0x7fe90a3591c0>]"
      ]
     },
     "execution_count": 363,
     "metadata": {},
     "output_type": "execute_result"
    },
    {
     "data": {
      "image/png": "[encoded data removed]",
      "text/plain": [
       "<Figure size 432x288 with 1 Axes>"
      ]
     },
     "metadata": {
      "needs_background": "light"
     },
     "output_type": "display_data"
    }
   ],
   "source": [
    "plt.plot(np.cumsum(PCA().fit(T).explained_variance_ratio_),marker='o')"
   ]
  },
  {
   "cell_type": "code",
   "execution_count": 364,
   "metadata": {},
   "outputs": [
    {
     "data": {
      "text/plain": [
       "<matplotlib.colorbar.Colorbar at 0x7fe90a396bb0>"
      ]
     },
     "execution_count": 364,
     "metadata": {},
     "output_type": "execute_result"
    },
    {
     "data": {
      "image/png": "[encoded data removed]",
      "text/plain": [
       "<Figure size 432x288 with 2 Axes>"
      ]
     },
     "metadata": {
      "needs_background": "light"
     },
     "output_type": "display_data"
    }
   ],
   "source": [
    "fin = np.ma.masked_where(idx==0,ev_draw)\n",
    "mx = mn = np.max(np.abs(fin))*1.1\n",
    "plt.imshow(fin,vmax=mx,vmin=-mx,cmap='RdBu_r')\n",
    "plt.colorbar()"
   ]
  },
  {
   "cell_type": "code",
   "execution_count": 787,
   "metadata": {},
   "outputs": [
    {
     "data": {
      "text/plain": [
       "<matplotlib.colorbar.Colorbar at 0x7f9c18f25310>"
      ]
     },
     "execution_count": 787,
     "metadata": {},
     "output_type": "execute_result"
    },
    {
     "data": {
      "image/png": "[encoded data removed]",
      "text/plain": [
       "<Figure size 432x288 with 2 Axes>"
      ]
     },
     "metadata": {
      "needs_background": "light"
     },
     "output_type": "display_data"
    }
   ],
   "source": [
    "plt.imshow(M)\n",
    "plt.colorbar()"
   ]
  },
  {
   "cell_type": "code",
   "execution_count": 798,
   "metadata": {},
   "outputs": [],
   "source": [
    "lamda = .99\n",
    "alpha=.5"
   ]
  },
  {
   "cell_type": "code",
   "execution_count": null,
   "metadata": {},
   "outputs": [],
   "source": []
  },
  {
   "cell_type": "code",
   "execution_count": 799,
   "metadata": {},
   "outputs": [],
   "source": [
    "pos = 10  #current position\n",
    "\n",
    "e = np.zeros(len(SR)) +1 #eligibility trace\n",
    "rg = np.arange(len(SR))  #\n",
    "walk_path = []\n",
    "\n",
    "SRTD = np.zeros_like(SR)\n",
    "\n",
    "for i in range(100000):\n",
    "    \n",
    "    #updates eligibility traces\n",
    "    #e[pos] = lamda*gamma*e[pos] + 1\n",
    "    #e[np.isin(rg,pos)==False] = lamda*gamma*e[pos]  #gives boolean vetor true at current location\n",
    "    #e \n",
    "    #available options\n",
    "    options = np.where(T[:,pos])[0]\n",
    "\n",
    "    newP = np.random.choice(options,p=T[:,pos][options])\n",
    "    walk_path.append(newP)\n",
    "    zrs = np.zeros(len(SR))\n",
    "    zrs[pos] = 1.\n",
    "    SRTD[pos,:] = SRTD[pos,:] + alpha*(zrs + gamma*SRTD[newP,:] - SRTD[pos,:])*e\n",
    "    SRTD = (SRTD + SRTD.T)/2.\n",
    "    pos = newP.copy()"
   ]
  },
  {
   "cell_type": "code",
   "execution_count": 800,
   "metadata": {},
   "outputs": [],
   "source": [
    "\n",
    "\n",
    "eigenval,v = np.linalg.eig(SRTD)\n",
    "v = v[:,np.argsort((eigenval))[::-1]]\n",
    "eigenval = eigenval[np.argsort((eigenval))[::-1]]"
   ]
  },
  {
   "cell_type": "code",
   "execution_count": 801,
   "metadata": {},
   "outputs": [],
   "source": [
    "ev_draw = np.zeros_like(M)\n",
    "Nx,Ny = M.shape\n",
    "for i in range(Nx):\n",
    "    for j in range(Ny):\n",
    "        #ix = np.where(idx=)\n",
    "        ev_draw[i,j] = v[:,2][idx[i,j]]"
   ]
  },
  {
   "cell_type": "code",
   "execution_count": 802,
   "metadata": {},
   "outputs": [
    {
     "data": {
      "text/plain": [
       "<matplotlib.colorbar.Colorbar at 0x7f9c19010c40>"
      ]
     },
     "execution_count": 802,
     "metadata": {},
     "output_type": "execute_result"
    },
    {
     "data": {
      "image/png": "[encoded data removed]",
      "text/plain": [
       "<Figure size 432x288 with 2 Axes>"
      ]
     },
     "metadata": {
      "needs_background": "light"
     },
     "output_type": "display_data"
    }
   ],
   "source": [
    "fin = np.ma.masked_where(idx==0,ev_draw)\n",
    "mx = mn = np.max(np.abs(fin))*1.1\n",
    "plt.imshow(fin,vmax=mx,vmin=-mx,cmap='RdBu_r')\n",
    "plt.colorbar()"
   ]
  },
  {
   "cell_type": "code",
   "execution_count": null,
   "metadata": {},
   "outputs": [],
   "source": []
  }
 ],
 "metadata": {
  "kernelspec": {
   "display_name": "Python [conda env:action_generalisation]",
   "language": "python",
   "name": "conda-env-action_generalisation-py"
  },
  "language_info": {
   "codemirror_mode": {
    "name": "ipython",
    "version": 3
   },
   "file_extension": ".py",
   "mimetype": "text/x-python",
   "name": "python",
   "nbconvert_exporter": "python",
   "pygments_lexer": "ipython3",
   "version": "3.8.2"
  }
 },
 "nbformat": 4,
 "nbformat_minor": 2
}
