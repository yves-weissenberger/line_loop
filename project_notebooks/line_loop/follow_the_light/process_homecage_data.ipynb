{
 "cells": [
  {
   "cell_type": "markdown",
   "metadata": {},
   "source": [
    "# Analyse data for line loop navigation coming from the homecage "
   ]
  },
  {
   "cell_type": "code",
   "execution_count": 15,
   "metadata": {},
   "outputs": [],
   "source": [
    "%matplotlib inline\n",
    "\n",
    "import numpy as np\n",
    "import os\n",
    "import sys\n",
    "import re\n",
    "import matplotlib.pyplot as plt\n",
    "import scipy.stats as stt\n",
    "import pandas as pd"
   ]
  },
  {
   "cell_type": "markdown",
   "metadata": {},
   "source": [
    "##  Main function to analyse probe trial performance"
   ]
  },
  {
   "cell_type": "code",
   "execution_count": 50,
   "metadata": {},
   "outputs": [],
   "source": [
    "df = pd.DataFrame(columns=['subject','time','seq','graph_type','two_tasks','nRews','probe_dict'])"
   ]
  },
  {
   "cell_type": "code",
   "execution_count": 55,
   "metadata": {},
   "outputs": [],
   "source": [
    "def get_experiment_name(line):\n",
    "    return re.findall('Experiment name[\\s] \\: (.*)\\n',line)[0]\n",
    "\n",
    "def get_subject_name(line):\n",
    "    return re.findall('Subject ID[\\s]:[\\s](.*)\\n',line)[0]\n",
    "\n",
    "def get_start_date(line):\n",
    "    return re.findall('Start date[\\s]:[\\s](.*)\\n',line)[0]"
   ]
  },
  {
   "cell_type": "code",
   "execution_count": 44,
   "metadata": {},
   "outputs": [
    {
     "data": {
      "text/plain": [
       "['C00499495_6']"
      ]
     },
     "execution_count": 44,
     "metadata": {},
     "output_type": "execute_result"
    }
   ],
   "source": [
    "re.findall('Subject ID[\\s]:[\\s](.*)\\n',lines[2])"
   ]
  },
  {
   "cell_type": "code",
   "execution_count": 48,
   "metadata": {},
   "outputs": [
    {
     "data": {
      "text/plain": [
       "['2021-05-11-081332']"
      ]
     },
     "execution_count": 48,
     "metadata": {},
     "output_type": "execute_result"
    }
   ],
   "source": [
    "re.findall('Start date[\\s]:[\\s](.*)\\n',lines[3])"
   ]
  },
  {
   "cell_type": "code",
   "execution_count": null,
   "metadata": {},
   "outputs": [],
   "source": []
  },
  {
   "cell_type": "code",
   "execution_count": 82,
   "metadata": {},
   "outputs": [],
   "source": [
    "def get_probe_trial_performance_homecage(lines,probe_dict={}):\n",
    "    \"\"\" NEED TO UPDATE THIS TO INCLUDE TIME LIMIT\"\"\"\n",
    "    times = []\n",
    "    probe_perf = []\n",
    "    target_hist = []; probe_hist = []; poked_hist = []; dir_hist = []; seq_hist = []\n",
    "    #if probe_dict is None: \n",
    "    #    probe_dict = {}\n",
    "    probe_dict_ = {}\n",
    "    task_nums = []; seqs = [];\n",
    "    info_dict = {}\n",
    "    for ix,l_ in enumerate(lines[:-1]):\n",
    "        \n",
    "        if 'Subject ID' in l_: info_dict['subject'] = get_subject_name(l_)\n",
    "        if 'Experiment name' in l_: info_dict['exp_name'] = get_experiment_name(l_)\n",
    "        if 'Start date' in l_: info_dict['date'] = get_start_date(l_)\n",
    "            \n",
    "        \n",
    "        if 'task_number' in l_:\n",
    "            task_number = int(re.findall('task_number([0-9])',l_)[0])\n",
    "            task_nums.append(task_number)\n",
    "            \n",
    "        if 'seq' in l_:\n",
    "            seq = eval(re.findall('seq:(\\[.*\\])', 'P 1 seq:[3, 6, 1]\\n',)[0])\n",
    "            seqs.append(seq)\n",
    "            \n",
    "        if 'TARGET:' in l_:\n",
    "            t_ = re.findall('P ([0-9]*) R',l_)[0]\n",
    "            times.append(float(t_))\n",
    "            probe = eval(re.findall('PROBE: (False|True)',l_)[0])\n",
    "            target = int(re.findall('TARGET: ([0-9]*)',l_)[0])\n",
    "            poked = int(re.findall('POKED: ([0-9]*)',l_)[0])\n",
    "            direction = int(re.findall('DIR: (.*)',l_)[0])\n",
    "            seq_ix = int(re.findall('SEQ_IX: ([0-9]*)',l_)[0])\n",
    "            if seq_hist:\n",
    "                if probe:\n",
    "                    #print(target)\n",
    "                    if not (probe_hist[-1] and (target==target_hist[-1])):\n",
    "                        correct_poke = poked==target\n",
    "                        probe_perf.append(correct_poke)\n",
    "                        transition = str(target_hist[-1]) + '_' + str(target)\n",
    "                        #print(probe_dict.keys())\n",
    "                        if transition in probe_dict.keys():\n",
    "                            probe_dict[transition].append(correct_poke)\n",
    "                        else:\n",
    "                            probe_dict[transition] = [correct_poke]\n",
    "                            \n",
    "                        if transition in probe_dict_.keys():\n",
    "                            probe_dict_[transition].append(correct_poke)\n",
    "                        else:\n",
    "                            probe_dict_[transition] = [correct_poke]\n",
    "\n",
    "            target_hist.append(target); probe_hist.append(probe); dir_hist.append(direction);\n",
    "            poked_hist.append(poked); seq_hist.append(seq_ix)\n",
    "    #print(len(probe_perf))\n",
    "    info_dict['seqs'] = seqs; info_dict['task_nr'] = task_nums; info_dict['probe_dict'] = probe_dict_\n",
    "    info_dict['len_seq'] = [len(i) for i in seqs]\n",
    "    return probe_dict,info_dict"
   ]
  },
  {
   "cell_type": "code",
   "execution_count": 74,
   "metadata": {},
   "outputs": [
    {
     "data": {
      "text/plain": [
       "0"
      ]
     },
     "execution_count": 74,
     "metadata": {},
     "output_type": "execute_result"
    }
   ],
   "source": [
    "int(re.findall('task_number([0-9])','P 0 task_number0')[0])"
   ]
  },
  {
   "cell_type": "markdown",
   "metadata": {},
   "source": [
    "##  Loop analysis over all subjects"
   ]
  },
  {
   "cell_type": "code",
   "execution_count": 75,
   "metadata": {},
   "outputs": [
    {
     "data": {
      "text/plain": [
       "({'6_3': [True, True, True, True], '1_6': [True, True], '3_1': [False, True]},\n",
       " {'6_3': [True, True, True, True], '1_6': [True, True], '3_1': [False, True]})"
      ]
     },
     "execution_count": 75,
     "metadata": {},
     "output_type": "execute_result"
    }
   ],
   "source": [
    "get_probe_trial_performance_homecage(lines)"
   ]
  },
  {
   "cell_type": "code",
   "execution_count": 76,
   "metadata": {},
   "outputs": [
    {
     "data": {
      "text/plain": [
       "'D 509950 10\\n'"
      ]
     },
     "execution_count": 76,
     "metadata": {},
     "output_type": "execute_result"
    }
   ],
   "source": [
    "lines[-2]"
   ]
  },
  {
   "cell_type": "code",
   "execution_count": 77,
   "metadata": {},
   "outputs": [
    {
     "ename": "IndexError",
     "evalue": "list index out of range",
     "output_type": "error",
     "traceback": [
      "\u001b[0;31m---------------------------------------------------------------------------\u001b[0m",
      "\u001b[0;31mIndexError\u001b[0m                                Traceback (most recent call last)",
      "\u001b[0;32m<ipython-input-77-c8170f8f3755>\u001b[0m in \u001b[0;36m<module>\u001b[0;34m\u001b[0m\n\u001b[0;32m----> 1\u001b[0;31m \u001b[0meval\u001b[0m\u001b[0;34m(\u001b[0m\u001b[0mre\u001b[0m\u001b[0;34m.\u001b[0m\u001b[0mfindall\u001b[0m\u001b[0;34m(\u001b[0m\u001b[0;34m'seq:(\\[.*\\])'\u001b[0m\u001b[0;34m,\u001b[0m \u001b[0;34m'P 1 SEQ:[3, 6, 1]\\n'\u001b[0m\u001b[0;34m,\u001b[0m\u001b[0;34m)\u001b[0m\u001b[0;34m[\u001b[0m\u001b[0;36m0\u001b[0m\u001b[0;34m]\u001b[0m\u001b[0;34m)\u001b[0m\u001b[0;34m\u001b[0m\u001b[0;34m\u001b[0m\u001b[0m\n\u001b[0m",
      "\u001b[0;31mIndexError\u001b[0m: list index out of range"
     ]
    }
   ],
   "source": [
    "eval(re.findall('seq:(\\[.*\\])', 'P 1 SEQ:[3, 6, 1]\\n',)[0])"
   ]
  },
  {
   "cell_type": "code",
   "execution_count": null,
   "metadata": {},
   "outputs": [],
   "source": []
  },
  {
   "cell_type": "code",
   "execution_count": 79,
   "metadata": {},
   "outputs": [],
   "source": [
    "#subject_folders = [r\"C:/Users/takam/Desktop/Dropbox/pyhomecage/data/ec_lineloop_1\\C00494062_5\\16190096773636293_task\"]"
   ]
  },
  {
   "cell_type": "code",
   "execution_count": 80,
   "metadata": {},
   "outputs": [],
   "source": [
    "experiment_folders = [r\"/Users/yves/Downloads/ec_lineloop_1/\",\n",
    "                     r\"/Users/yves/Downloads/ec_lineloop_2/\"]\n",
    "\n",
    "subject_folders = []\n",
    "for ef in experiment_folders:\n",
    "    sf1 = os.listdir(ef)\n",
    "    \n",
    "    for sf_ in sf1:\n",
    "        sf = os.path.join(ef,sf_)\n",
    "        subject_folders.append(os.path.join(sf,os.listdir(sf)[0]))\n",
    "    "
   ]
  },
  {
   "cell_type": "code",
   "execution_count": 101,
   "metadata": {},
   "outputs": [],
   "source": [
    "#How will it be easiest to store this data?\n",
    "\n",
    "df = pd.DataFrame(columns=['subject','exp_name', 'date', 'seqs', 'task_nr', 'probe_dict', 'len_seq'])"
   ]
  },
  {
   "cell_type": "code",
   "execution_count": 102,
   "metadata": {},
   "outputs": [
    {
     "name": "stdout",
     "output_type": "stream",
     "text": [
      "/Users/yves/Downloads/ec_lineloop_1/C00494062_4/16190096674466636_task\n",
      "4 10 0.4 False\n",
      "\n",
      "/Users/yves/Downloads/ec_lineloop_1/C00494062_3/16190096502200105_task\n",
      "10 10 1.0 True\n",
      "\n",
      "/Users/yves/Downloads/ec_lineloop_1/C00494062_2/1619009637253015_task\n",
      "5 12 0.4166666666666667 False\n",
      "\n",
      "/Users/yves/Downloads/ec_lineloop_1/C00494062_5/16190096773636293_task\n",
      "8 8 1.0 True\n",
      "\n",
      "/Users/yves/Downloads/ec_lineloop_1/C00494062_1/16190095855355382_task\n",
      "7 8 0.875 False\n",
      "\n",
      "/Users/yves/Downloads/ec_lineloop_2/C00499495_3/16201231194133265_task\n",
      "6 10 0.6 False\n",
      "\n",
      "/Users/yves/Downloads/ec_lineloop_2/C00499495_4/1620123129700262_task\n",
      "4 10 0.4 False\n",
      "\n",
      "/Users/yves/Downloads/ec_lineloop_2/C00499495_5/1620123140332491_task\n",
      "6 8 0.75 False\n",
      "\n",
      "/Users/yves/Downloads/ec_lineloop_2/C00499495_2/16201231071871436_task\n",
      "0.0 0 nan True\n",
      "\n",
      "/Users/yves/Downloads/ec_lineloop_2/C00499495_1/16201230948022072_task\n",
      "5 12 0.4166666666666667 False\n",
      "\n",
      "/Users/yves/Downloads/ec_lineloop_2/C00499495_6/16201231547824955_task\n"
     ]
    },
    {
     "name": "stderr",
     "output_type": "stream",
     "text": [
      "/Users/yves/opt/anaconda3/lib/python3.7/site-packages/numpy/core/fromnumeric.py:3257: RuntimeWarning: Mean of empty slice.\n",
      "  out=out, **kwargs)\n",
      "/Users/yves/opt/anaconda3/lib/python3.7/site-packages/numpy/core/_methods.py:161: RuntimeWarning: invalid value encountered in double_scalars\n",
      "  ret = ret.dtype.type(ret / rcount)\n"
     ]
    },
    {
     "name": "stdout",
     "output_type": "stream",
     "text": [
      "7 12 0.5833333333333334 False\n",
      "\n"
     ]
    }
   ],
   "source": [
    "n = 30\n",
    "PTHRESH = 0.05\n",
    "for ROOT in subject_folders:\n",
    "    print(ROOT)\n",
    "    fs = [i for i in os.listdir(ROOT) if '_taskFile' not in i]\n",
    "    probe_dict = {}\n",
    "    for f_ in fs:\n",
    "        if 'follow_the_light_2_graphs' in f_:\n",
    "            #print(f_)\n",
    "            fpath = os.path.join(ROOT,f_)\n",
    "            with open(fpath,'r') as f:\n",
    "                lines = f.readlines()\n",
    "\n",
    "            probe_dict,info_dict = get_probe_trial_performance_homecage(lines,probe_dict=probe_dict)\n",
    "            #print(probe_dict)\n",
    "            df = df.append(info_dict,ignore_index=True)\n",
    "    #print(len(probe_dict))\n",
    "    #for k,v in probe_dict.items():\n",
    "    #    print(k,np.mean(v),len(v))\n",
    "    #print()\n",
    "    print(np.sum([stt.binom_test(sum(v[-n:]),len(v[-n:]),p=1/9.)<PTHRESH for k,v in probe_dict.items()]),\n",
    "             len([stt.binom_test(sum(v[-n:]),len(v[-n:]),p=1/9.)<PTHRESH for k,v in probe_dict.items()]),\n",
    "         np.mean([stt.binom_test(sum(v[-n:]),len(v[-n:]),p=1/9.)<PTHRESH for k,v in probe_dict.items()]),\n",
    "             all([stt.binom_test(sum(v[-n:]),len(v[-n:]),p=1/9.)<PTHRESH for k,v in probe_dict.items()]))\n",
    "    print()"
   ]
  },
  {
   "cell_type": "code",
   "execution_count": null,
   "metadata": {},
   "outputs": [],
   "source": []
  },
  {
   "cell_type": "code",
   "execution_count": 103,
   "metadata": {},
   "outputs": [
    {
     "data": {
      "text/html": [
       "<div>\n",
       "<style scoped>\n",
       "    .dataframe tbody tr th:only-of-type {\n",
       "        vertical-align: middle;\n",
       "    }\n",
       "\n",
       "    .dataframe tbody tr th {\n",
       "        vertical-align: top;\n",
       "    }\n",
       "\n",
       "    .dataframe thead th {\n",
       "        text-align: right;\n",
       "    }\n",
       "</style>\n",
       "<table border=\"1\" class=\"dataframe\">\n",
       "  <thead>\n",
       "    <tr style=\"text-align: right;\">\n",
       "      <th></th>\n",
       "      <th>subject</th>\n",
       "      <th>exp_name</th>\n",
       "      <th>date</th>\n",
       "      <th>seqs</th>\n",
       "      <th>task_nr</th>\n",
       "      <th>probe_dict</th>\n",
       "      <th>len_seq</th>\n",
       "    </tr>\n",
       "  </thead>\n",
       "  <tbody>\n",
       "    <tr>\n",
       "      <th>0</th>\n",
       "      <td>C00494062_4</td>\n",
       "      <td>ec_lineloop_1</td>\n",
       "      <td>2021-05-10-222525</td>\n",
       "      <td>[[3, 6, 1]]</td>\n",
       "      <td>[1]</td>\n",
       "      <td>{}</td>\n",
       "      <td>[3]</td>\n",
       "    </tr>\n",
       "    <tr>\n",
       "      <th>1</th>\n",
       "      <td>C00494062_4</td>\n",
       "      <td>ec_lineloop_1</td>\n",
       "      <td>2021-05-10-214450</td>\n",
       "      <td>[[3, 6, 1]]</td>\n",
       "      <td>[1]</td>\n",
       "      <td>{'0_5': [False], '4_5': [False], '5_4': [False]}</td>\n",
       "      <td>[3]</td>\n",
       "    </tr>\n",
       "    <tr>\n",
       "      <th>2</th>\n",
       "      <td>C00494062_4</td>\n",
       "      <td>ec_lineloop_1</td>\n",
       "      <td>2021-05-11-024020</td>\n",
       "      <td>[[3, 6, 1]]</td>\n",
       "      <td>[1]</td>\n",
       "      <td>{}</td>\n",
       "      <td>[3]</td>\n",
       "    </tr>\n",
       "    <tr>\n",
       "      <th>3</th>\n",
       "      <td>C00494062_4</td>\n",
       "      <td>ec_lineloop_1</td>\n",
       "      <td>2021-05-10-130945</td>\n",
       "      <td>[[3, 6, 1]]</td>\n",
       "      <td>[0]</td>\n",
       "      <td>{'1_6': [True], '8_1': [False], '6_1': [False,...</td>\n",
       "      <td>[3]</td>\n",
       "    </tr>\n",
       "    <tr>\n",
       "      <th>4</th>\n",
       "      <td>C00494062_4</td>\n",
       "      <td>ec_lineloop_1</td>\n",
       "      <td>2021-05-10-173501</td>\n",
       "      <td>[[3, 6, 1]]</td>\n",
       "      <td>[1]</td>\n",
       "      <td>{'0_5': [False, False]}</td>\n",
       "      <td>[3]</td>\n",
       "    </tr>\n",
       "    <tr>\n",
       "      <th>...</th>\n",
       "      <td>...</td>\n",
       "      <td>...</td>\n",
       "      <td>...</td>\n",
       "      <td>...</td>\n",
       "      <td>...</td>\n",
       "      <td>...</td>\n",
       "      <td>...</td>\n",
       "    </tr>\n",
       "    <tr>\n",
       "      <th>386</th>\n",
       "      <td>C00499495_6</td>\n",
       "      <td>ec_lineloop_2</td>\n",
       "      <td>2021-05-07-131309</td>\n",
       "      <td>[]</td>\n",
       "      <td>[]</td>\n",
       "      <td>{}</td>\n",
       "      <td>[]</td>\n",
       "    </tr>\n",
       "    <tr>\n",
       "      <th>387</th>\n",
       "      <td>C00499495_6</td>\n",
       "      <td>ec_lineloop_2</td>\n",
       "      <td>2021-05-11-004937</td>\n",
       "      <td>[[3, 6, 1]]</td>\n",
       "      <td>[0]</td>\n",
       "      <td>{}</td>\n",
       "      <td>[3]</td>\n",
       "    </tr>\n",
       "    <tr>\n",
       "      <th>388</th>\n",
       "      <td>C00499495_6</td>\n",
       "      <td>ec_lineloop_2</td>\n",
       "      <td>2021-05-10-233746</td>\n",
       "      <td>[[3, 6, 1]]</td>\n",
       "      <td>[0]</td>\n",
       "      <td>{'1_6': [True, True, True, True, True, True], ...</td>\n",
       "      <td>[3]</td>\n",
       "    </tr>\n",
       "    <tr>\n",
       "      <th>389</th>\n",
       "      <td>C00499495_6</td>\n",
       "      <td>ec_lineloop_2</td>\n",
       "      <td>2021-05-10-230505</td>\n",
       "      <td>[[3, 6, 1]]</td>\n",
       "      <td>[0]</td>\n",
       "      <td>{'3_1': [False, True], '1_6': [True], '6_1': [...</td>\n",
       "      <td>[3]</td>\n",
       "    </tr>\n",
       "    <tr>\n",
       "      <th>390</th>\n",
       "      <td>C00499495_6</td>\n",
       "      <td>ec_lineloop_2</td>\n",
       "      <td>2021-05-11-081332</td>\n",
       "      <td>[[3, 6, 1]]</td>\n",
       "      <td>[0]</td>\n",
       "      <td>{'6_3': [True, True, True, True], '1_6': [True...</td>\n",
       "      <td>[3]</td>\n",
       "    </tr>\n",
       "  </tbody>\n",
       "</table>\n",
       "<p>391 rows × 7 columns</p>\n",
       "</div>"
      ],
      "text/plain": [
       "         subject       exp_name               date         seqs task_nr  \\\n",
       "0    C00494062_4  ec_lineloop_1  2021-05-10-222525  [[3, 6, 1]]     [1]   \n",
       "1    C00494062_4  ec_lineloop_1  2021-05-10-214450  [[3, 6, 1]]     [1]   \n",
       "2    C00494062_4  ec_lineloop_1  2021-05-11-024020  [[3, 6, 1]]     [1]   \n",
       "3    C00494062_4  ec_lineloop_1  2021-05-10-130945  [[3, 6, 1]]     [0]   \n",
       "4    C00494062_4  ec_lineloop_1  2021-05-10-173501  [[3, 6, 1]]     [1]   \n",
       "..           ...            ...                ...          ...     ...   \n",
       "386  C00499495_6  ec_lineloop_2  2021-05-07-131309           []      []   \n",
       "387  C00499495_6  ec_lineloop_2  2021-05-11-004937  [[3, 6, 1]]     [0]   \n",
       "388  C00499495_6  ec_lineloop_2  2021-05-10-233746  [[3, 6, 1]]     [0]   \n",
       "389  C00499495_6  ec_lineloop_2  2021-05-10-230505  [[3, 6, 1]]     [0]   \n",
       "390  C00499495_6  ec_lineloop_2  2021-05-11-081332  [[3, 6, 1]]     [0]   \n",
       "\n",
       "                                            probe_dict len_seq  \n",
       "0                                                   {}     [3]  \n",
       "1     {'0_5': [False], '4_5': [False], '5_4': [False]}     [3]  \n",
       "2                                                   {}     [3]  \n",
       "3    {'1_6': [True], '8_1': [False], '6_1': [False,...     [3]  \n",
       "4                              {'0_5': [False, False]}     [3]  \n",
       "..                                                 ...     ...  \n",
       "386                                                 {}      []  \n",
       "387                                                 {}     [3]  \n",
       "388  {'1_6': [True, True, True, True, True, True], ...     [3]  \n",
       "389  {'3_1': [False, True], '1_6': [True], '6_1': [...     [3]  \n",
       "390  {'6_3': [True, True, True, True], '1_6': [True...     [3]  \n",
       "\n",
       "[391 rows x 7 columns]"
      ]
     },
     "execution_count": 103,
     "metadata": {},
     "output_type": "execute_result"
    }
   ],
   "source": [
    "df"
   ]
  },
  {
   "cell_type": "code",
   "execution_count": null,
   "metadata": {},
   "outputs": [],
   "source": []
  },
  {
   "cell_type": "code",
   "execution_count": 105,
   "metadata": {},
   "outputs": [],
   "source": [
    "ROOT = r\"C:/Users/takam/Desktop/Dropbox/pyhomecage/data/ec_lineloop_1/C00494062_1/16190095855355382_task/\"\n",
    "\n",
    "fs = [i for i in os.listdir(ROOT) if '_taskFile' not in i]"
   ]
  },
  {
   "cell_type": "code",
   "execution_count": null,
   "metadata": {},
   "outputs": [],
   "source": []
  },
  {
   "cell_type": "code",
   "execution_count": 98,
   "metadata": {},
   "outputs": [],
   "source": [
    "#fpath = r'C:/Users/takam/Desktop/Dropbox/pyhomecage/data/ec_lineloop_2/C00499495_6/16201231547824955_task/C00499495_6_ec_lineloop_2_follow_the_light_2_graphs'"
   ]
  },
  {
   "cell_type": "code",
   "execution_count": 99,
   "metadata": {
    "scrolled": true
   },
   "outputs": [],
   "source": [
    "probe_dict = {}\n",
    "for f_ in fs:\n",
    "    if 'follow_the_light_2_graphs' in f_:\n",
    "        #print(f_)\n",
    "        fpath = os.path.join(ROOT,f_)\n",
    "        with open(fpath,'r') as f:\n",
    "            lines = f.readlines()\n",
    "\n",
    "        task_lines = []\n",
    "        for l_ in lines:\n",
    "            if 'POKED' in l_:\n",
    "                task_lines.append(l_)\n",
    "        probe_dict = get_probe_trial_performance_homecage(task_lines,probe_dict=probe_dict)\n",
    "        #print(probe_dict)"
   ]
  },
  {
   "cell_type": "code",
   "execution_count": null,
   "metadata": {},
   "outputs": [],
   "source": []
  },
  {
   "cell_type": "code",
   "execution_count": 150,
   "metadata": {},
   "outputs": [],
   "source": [
    "def get_probe_trial_performance_homecage(lines,probe_dict={}):\n",
    "    \"\"\" \"\"\"\n",
    "    times = []\n",
    "    probe_perf = []\n",
    "    target_hist = []; probe_hist = []; poked_hist = []; dir_hist = []; seq_hist = []\n",
    "    #if probe_dict is None: \n",
    "    #    probe_dict = {}\n",
    "    for ix,l_ in enumerate(lines):\n",
    "        \n",
    "        if 'TARGET' in l_:\n",
    "            t_ = re.findall('P ([0-9]*) R',l_)[0]\n",
    "            times.append(float(t_))\n",
    "            probe = eval(re.findall('PROBE: (False|True)',l_)[0])\n",
    "            target = int(re.findall('TARGET: ([0-9]*)',l_)[0])\n",
    "            poked = int(re.findall('POKED: ([0-9]*)',l_)[0])\n",
    "            direction = int(re.findall('DIR: (.*)',l_)[0])\n",
    "            seq_ix = int(re.findall('SEQ_IX: ([0-9]*)',l_)[0])\n",
    "\n",
    "            if probe:\n",
    "                if not (probe_hist[-1] and (target==target_hist[-1])):\n",
    "                    correct_poke = poked==target\n",
    "                    probe_perf.append(correct_poke)\n",
    "                    transition = str(seq_hist[-1]) + '_' + str(seq_ix)\n",
    "                    if transition in probe_dict.keys():\n",
    "                        probe_dict[transition].append(correct_poke)\n",
    "                    else:\n",
    "                        probe_dict[transition] = [correct_poke]\n",
    "            target_hist.append(target); probe_hist.append(probe); dir_hist.append(direction);\n",
    "            poked_hist.append(poked); seq_hist.append(seq_ix)\n",
    "    #print(len(probe_perf))\n",
    "    return probe_dict"
   ]
  },
  {
   "cell_type": "code",
   "execution_count": null,
   "metadata": {},
   "outputs": [],
   "source": [
    " A B C"
   ]
  },
  {
   "cell_type": "code",
   "execution_count": 13,
   "metadata": {},
   "outputs": [
    {
     "data": {
      "text/plain": [
       "'P 146 REWS:0, POKED: 4, PROBE: False , TARGET: 6,SEQ_IX: 1, DIR: 1\\n'"
      ]
     },
     "execution_count": 13,
     "metadata": {},
     "output_type": "execute_result"
    }
   ],
   "source": [
    "l_"
   ]
  },
  {
   "cell_type": "code",
   "execution_count": null,
   "metadata": {},
   "outputs": [],
   "source": []
  }
 ],
 "metadata": {
  "kernelspec": {
   "display_name": "Python 3",
   "language": "python",
   "name": "python3"
  },
  "language_info": {
   "codemirror_mode": {
    "name": "ipython",
    "version": 3
   },
   "file_extension": ".py",
   "mimetype": "text/x-python",
   "name": "python",
   "nbconvert_exporter": "python",
   "pygments_lexer": "ipython3",
   "version": "3.7.4"
  }
 },
 "nbformat": 4,
 "nbformat_minor": 4
}
