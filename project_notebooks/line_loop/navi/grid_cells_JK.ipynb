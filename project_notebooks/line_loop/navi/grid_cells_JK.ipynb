{
 "cells": [
  {
   "cell_type": "code",
   "execution_count": 33,
   "metadata": {},
   "outputs": [],
   "source": [
    "#Let's see if there are grid cells\n",
    "import numpy as np\n",
    "import matplotlib.pyplot as pl\n",
    "\n",
    "from scipy import io as io\n",
    "from scipy.ndimage import gaussian_filter\n",
    "import scipy as sp"
   ]
  },
  {
   "cell_type": "code",
   "execution_count": 34,
   "metadata": {},
   "outputs": [
    {
     "data": {
      "image/png": "[encoded data removed]",
      "text/plain": [
       "<Figure size 720x216 with 3 Axes>"
      ]
     },
     "metadata": {
      "needs_background": "light"
     },
     "output_type": "display_data"
    }
   ],
   "source": [
    "fig = pl.figure(figsize=(10, 3))\n",
    ">>> ax1, ax2, ax3 = fig.subplots(1, 3)\n",
    "img = rate\n",
    ">>> img_45 = ndimage.rotate(img, 45, reshape=False)\n",
    ">>> full_img_45 = ndimage.rotate(img, 45, reshape=True)\n",
    ">>> ax1.imshow(img, cmap='hot')\n",
    ">>> ax1.set_axis_off()\n",
    ">>> ax2.imshow(img_45, cmap='hot')\n",
    ">>> ax2.set_axis_off()\n",
    ">>> ax3.imshow(full_img_45, cmap='hot')\n",
    ">>> ax3.set_axis_off()\n",
    ">>> fig.set_tight_layout(True)\n",
    ">>> pl.show()"
   ]
  },
  {
   "cell_type": "code",
   "execution_count": null,
   "metadata": {},
   "outputs": [],
   "source": [
    "# neural_data = np.random.rand(25000,50) #2500 time points, 50neurons, 1 y/n\n",
    "# neural_data = np.where(neural_data > 0.8, True, False)\n",
    "\n",
    "# position_data = np.random.rand(1000,2) #1000 time points, 2xy pos"
   ]
  },
  {
   "cell_type": "code",
   "execution_count": 35,
   "metadata": {},
   "outputs": [],
   "source": [
    "pos = io.loadmat('10704-07070407_POS.mat')\n",
    "spk = io.loadmat('10704-07070407_T2C3.mat')\n",
    "poss = np.vstack((pos[\"posx\"].flatten(), pos[\"posy\"].flatten()))\n",
    "spkt = spk[\"cellTS\"].flatten()\n",
    "post = pos[\"post\"].flatten()"
   ]
  },
  {
   "cell_type": "code",
   "execution_count": 36,
   "metadata": {},
   "outputs": [],
   "source": [
    "def pos_ind_of_spikes(pos_t,value):\n",
    "    pos_ind_of_spks = (np.abs(pos_t-value)).argmin() #finds indx of min diff btwn spike timestamp+pos timestamp\n",
    "    return pos_ind_of_spks\n",
    "\n",
    "def rate_map(poss,spkt,time,bin_width=15):\n",
    "    #time is the sampling length in pos array\n",
    "    bin_edge = np.linspace(-50,50,bin_width)\n",
    "    posx = poss[0]\n",
    "    posy = poss[1]\n",
    "    spkt = spkt\n",
    "    \n",
    "    pos_ind = [pos_ind_of_spikes(post,t) for t in spkt]\n",
    "    \n",
    "    occupation_map = np.histogram2d(posx,posy, bins=(bin_edge,bin_edge))[0]\n",
    "    activity_map = np.histogram2d(posx[pos_ind],posy[pos_ind], bins=(bin_edge,bin_edge))[0]\n",
    "    \n",
    "    rate_map = activity_map/(occupation_map*time)\n",
    "    \n",
    "    return rate_map\n",
    "\n",
    "def plot_rate_map(im, nlabels=5):\n",
    "    fig = pl.figure(figsize=(6,4))\n",
    "    pl.imshow(im,interpolation='none',cmap='inferno')\n",
    "    pl.colorbar(label=\"Hz\")\n",
    "    pl.xticks(np.linspace(0,len(im),nlabels)-0.5,\n",
    "              np.linspace(-50,50,nlabels).astype('int'))\n",
    "    pl.yticks(np.linspace(0,len(im),nlabels)-0.5,\n",
    "              np.linspace(-50,50,nlabels).astype('int'))\n",
    "    \n",
    "    pl.plot(plm(crate,threshold_rel=0.3)[:,1],plm(crate,threshold_rel=0.3)[:,0], '.', color='red')\n",
    "\n",
    "\n",
    "def path_map(pos,spkt):\n",
    "\n",
    "    posx = poss[0]\n",
    "    posy = poss[1]\n",
    "    spkt = spkt\n",
    "\n",
    "    pos_ind = [pos_ind_of_spikes(post,t) for t in spkt]\n",
    "\n",
    "    fig = pl.figure(figsize=(4.1,4.1))\n",
    "    pl.plot(posx,posy, 'k', lw=0.5)\n",
    "    pl.plot(posx[pos_ind],posy[pos_ind], '.', color='red')\n",
    "    \n",
    "    pl.gca().set_aspect('equal', adjustable='box')\n",
    "    pl.xlim(-50,50)\n",
    "    pl.ylim(-50,50)\n",
    "    pl.xticks([-50,-25,0,25,50])\n",
    "    pl.yticks([-50,-25,0,25,50])"
   ]
  },
  {
   "cell_type": "code",
   "execution_count": 37,
   "metadata": {},
   "outputs": [],
   "source": [
    "rate = rate_map(poss,spkt,0.02,bin_width=15)\n",
    "crate = correlate2d(rate, rate, mode='same', fft=True, normalize=True,\n",
    "                set_small_values_zero=None)"
   ]
  },
  {
   "cell_type": "code",
   "execution_count": 42,
   "metadata": {},
   "outputs": [
    {
     "data": {
      "image/png": "[encoded data removed]",
      "text/plain": [
       "<Figure size 432x288 with 2 Axes>"
      ]
     },
     "metadata": {
      "needs_background": "light"
     },
     "output_type": "display_data"
    }
   ],
   "source": [
    "rate = rate_map(poss,spkt,0.02,bin_width=15)\n",
    "plot_rate_map(crate)"
   ]
  },
  {
   "cell_type": "code",
   "execution_count": null,
   "metadata": {},
   "outputs": [],
   "source": [
    "plm(rate, threshold_rel=0.4, indices = False)"
   ]
  },
  {
   "cell_type": "code",
   "execution_count": null,
   "metadata": {},
   "outputs": [],
   "source": [
    "#smoothing\n",
    "plot_rate_map(rate)\n",
    "plot_rate_map(gaussian_filter(rate, 1, mode = 'nearest'))\n",
    "path_map(poss,spkt)"
   ]
  },
  {
   "cell_type": "code",
   "execution_count": null,
   "metadata": {},
   "outputs": [],
   "source": []
  }
 ],
 "metadata": {
  "kernelspec": {
   "display_name": "Python 3",
   "language": "python",
   "name": "python3"
  },
  "language_info": {
   "codemirror_mode": {
    "name": "ipython",
    "version": 3
   },
   "file_extension": ".py",
   "mimetype": "text/x-python",
   "name": "python",
   "nbconvert_exporter": "python",
   "pygments_lexer": "ipython3",
   "version": "3.8.5"
  }
 },
 "nbformat": 4,
 "nbformat_minor": 4
}
