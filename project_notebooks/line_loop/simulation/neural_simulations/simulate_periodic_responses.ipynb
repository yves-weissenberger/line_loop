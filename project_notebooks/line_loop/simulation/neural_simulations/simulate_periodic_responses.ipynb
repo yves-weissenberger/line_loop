{
 "cells": [
  {
   "cell_type": "markdown",
   "metadata": {},
   "source": [
    "#  Simulate periodic responses in task space "
   ]
  },
  {
   "cell_type": "code",
   "execution_count": 2,
   "metadata": {},
   "outputs": [],
   "source": [
    "%matplotlib inline\n",
    "\n",
    "import numpy as np\n",
    "import matplotlib.pyplot as plt\n",
    "import re\n",
    "import os\n",
    "import sys\n",
    "import pandas as pd\n",
    "import seaborn\n",
    "seaborn.set(font_scale=1.5,style='ticks')"
   ]
  },
  {
   "cell_type": "code",
   "execution_count": 8,
   "metadata": {},
   "outputs": [
    {
     "data": {
      "text/plain": [
       "[<matplotlib.lines.Line2D at 0x7fad286f3510>]"
      ]
     },
     "execution_count": 8,
     "metadata": {},
     "output_type": "execute_result"
    },
    {
     "data": {
      "image/png": "[encoded data removed]",
      "text/plain": [
       "<Figure size 432x288 with 1 Axes>"
      ]
     },
     "metadata": {},
     "output_type": "display_data"
    }
   ],
   "source": [
    "freq = 3\n",
    "plt.plot(np.sin(freq*2*np.pi*np.linspace(0,1,num=9)))"
   ]
  },
  {
   "cell_type": "code",
   "execution_count": null,
   "metadata": {},
   "outputs": [],
   "source": []
  },
  {
   "cell_type": "code",
   "execution_count": null,
   "metadata": {},
   "outputs": [],
   "source": [
    "#Some spacing\n",
    "\n",
    "\n",
    "062_1  line/line 0 [[8,1,6,3,4,0,7,2,5],[0,4,5,7,1,8,2,3,6]] #\n",
    "062_2  loop/loop 0 [[8,1,6,3,4,0,7,2,5],[0,4,5,7,1,8,2,3,6]] #\n",
    "062_3  line/loop 1 [[8,4,2,5,7,0,6,1,3],[1,3,6,0,2,8,4,7,5]] #\n",
    "062_4  line/loop 0 [[8,1,6,3,4,0,7,2,5],[0,4,5,7,1,8,2,3,6]] #\n",
    "062_5  line/line 1 [[8,4,2,5,7,0,6,1,3],[1,3,6,0,2,8,4,7,5]] #\n",
    "\n",
    "\n",
    "495_1 loop/loop 1 [[8,4,2,5,7,0,6,1,3],[1,3,6,0,2,8,4,7,5]] #\n",
    "495_2  XXXX\n",
    "495_3 line/loop 2 [[3,6,1,8,4,5,7,2,0],[7,0,4,5,2,6,8,1,3]] #\n",
    "495_4 line/loop 3 [[0,2,4,3,6,8,7,1,5],[6,8,1,0,4,7,5,2,3]] #\n",
    "495_5 line/line 2 [[3,6,1,8,4,5,7,2,0],[7,0,4,5,2,6,8,1,3]] #                                 #This animal is on protocol 2\n",
    "495_6 loop/loop 2 [[3,6,1,8,4,5,7,2,0],[7,0,4,5,2,6,8,1,3]] #\n",
    "\n",
    "###### other way of showing #####\n",
    "\n",
    "\n",
    "2+1(prot. 2) x line/line mice\n",
    "3 x loop/loop mice\n",
    "4 x line/loop mice\n",
    "\n",
    "\n",
    "###### Info ###\n",
    "\n",
    "## These are the graph_pairs maximised to prevent overlap\n",
    "\n",
    "GRAPH_PAIRS = 0: [0,5] [[8,1,6,3,4,0,7,2,5],[0,4,5,7,1,8,2,3,6]]\n",
    "              1: [1,4] [[8,4,2,5,7,0,6,1,3],[1,3,6,0,2,8,4,7,5]]\n",
    "              2: [2,6] [[3,6,1,8,4,5,7,2,0],[7,0,4,5,2,6,8,1,3]]\n",
    "              3: [3,7] [[0,2,4,3,6,8,7,1,5],[6,8,1,0,4,7,5,2,3]]\n",
    "\n",
    "\n",
    "### These are the plain old graph pairs\n",
    "\n",
    "\n",
    "GRAPH_PAIRS = 0: [0,5] [[8,1,6,3,4,0,7,2,5],[1,8,2,3,6,0,4,5,7]]\n",
    "              1: [1,4] [[8,4,2,5,7,0,6,1,3],[4,7,5,1,3,6,0,2,8]]\n",
    "              2: [2,6] [[3,6,1,8,4,5,7,2,0],[6,8,1,3,7,0,4,5,2]]\n",
    "              3: [3,7] [[0,2,4,3,6,8,7,1,5],[7,5,2,3,6,8,1,0,4]]\n",
    "\n",
    "\n",
    "\n",
    "\n",
    "\n",
    "\n",
    "## These are the poke sequences\n",
    "\n",
    "unique_check = [[8,1,6,3,4,0,7,2,5], 0\n",
    "                [8,4,2,5,7,0,6,1,3], 1\n",
    "                [3,6,1,8,4,5,7,2,0], 2\n",
    "                [0,2,4,3,6,8,7,1,5], 3\n",
    "                [4,7,5,1,3,6,0,2,8], 4\n",
    "                [1,8,2,3,6,0,4,5,7], 5\n",
    "                [6,8,1,3,7,0,4,5,2], 6\n",
    "                [7,5,2,3,6,8,1,0,4], 7 \n",
    "                ]\n"
   ]
  }
 ],
 "metadata": {
  "kernelspec": {
   "display_name": "Python 3",
   "language": "python",
   "name": "python3"
  },
  "language_info": {
   "codemirror_mode": {
    "name": "ipython",
    "version": 3
   },
   "file_extension": ".py",
   "mimetype": "text/x-python",
   "name": "python",
   "nbconvert_exporter": "python",
   "pygments_lexer": "ipython3",
   "version": "3.7.4"
  }
 },
 "nbformat": 4,
 "nbformat_minor": 2
}
