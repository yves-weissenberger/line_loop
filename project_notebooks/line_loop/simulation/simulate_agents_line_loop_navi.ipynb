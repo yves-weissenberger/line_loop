{
 "cells": [
  {
   "cell_type": "markdown",
   "metadata": {},
   "source": [
    "# Build simple agents that perform navigation on the line and the loop\n",
    "\n",
    "Agents we want to study\n",
    "<ul stlye=\"list-style: square\">\n",
    "    <li> Go inwards </li>\n",
    "    <li> Simple Q-learning agent </li>\n",
    "    <li> Model based agent </li>\n",
    "    <li> Go up and down stereotyped </li>\n",
    "    <li> Fully random decisions </li>\n",
    "<ul>"
   ]
  },
  {
   "cell_type": "code",
   "execution_count": 21,
   "metadata": {},
   "outputs": [],
   "source": [
    "%matplotlib inline\n",
    "\n",
    "import numpy as np\n",
    "import os\n",
    "import sys\n",
    "import re\n",
    "import matplotlib.pyplot as plt\n",
    "import scipy.stats as stt\n",
    "import pandas as pd\n",
    "from datetime import datetime\n",
    "from functools import partial\n",
    "import matplotlib\n",
    "import networkx as nx\n",
    "import seaborn\n",
    "from scipy.ndimage import gaussian_filter1d\n",
    "\n",
    "seaborn.set(font_scale=1.5,style='ticks')"
   ]
  },
  {
   "cell_type": "code",
   "execution_count": 180,
   "metadata": {},
   "outputs": [],
   "source": [
    "class base_agent(object):\n",
    "    \"\"\"\n",
    "    This is a generic class that other agents (with different policies)\n",
    "    inherit from. This class implements the basic task_logic\n",
    "    \"\"\"\n",
    "    def __init__(self,learning_params=None,task_params=None):\n",
    "        \"\"\" \n",
    "        For simplicity, in the first instance, will assume that\n",
    "        \n",
    "        Arguments:\n",
    "        =======================\n",
    "        \n",
    "        task_params (dict):  dictionary containing parameters that are required for running of the task\n",
    "        \n",
    "        learning_params (dict): parameters necessary for specifying and updating the policy\n",
    "        \n",
    "        \"\"\"\n",
    "        \n",
    "        if task_params is None:\n",
    "            task_params = {'len_graph':9,\n",
    "                           'graph_type':'line',\n",
    "                           'rew_locs_session':list(range(9)),\n",
    "                           'rewards_pre_switch': 20,\n",
    "                           'reward_switch_p': 0.2,\n",
    "                            }\n",
    "\n",
    "        \n",
    "        self.learning_params = learning_params\n",
    "        self.task_params = task_params\n",
    "        \n",
    "        \n",
    "        #helper params\n",
    "        self._all_states = list(range(self.task_params['len_graph']))\n",
    "        \n",
    "\n",
    "        self._init_task_variables()\n",
    "        self._init_stores()\n",
    "        \n",
    "\n",
    "        \n",
    "    def _init_task_variables(self):\n",
    "        #initialise variables\n",
    "        self.forced = False\n",
    "        self.reward_location = None\n",
    "        self.current_state = None\n",
    "        self.current_port = None\n",
    "        self.current_reward_location = None\n",
    "        self.available_states = []\n",
    "        self.choices_since_reward = 0\n",
    "        self.n_rewards_at_loc = 0\n",
    "        self.n_reward_total = 0\n",
    "        \n",
    "    def _init_stores(self):\n",
    "        #this is the information to extract at the end to feed into\n",
    "        #the standard analysis pipeline\n",
    "        self.state_seq = []\n",
    "        self.rew_list = []\n",
    "        self.port_seq = []\n",
    "        self.forced_seq = []\n",
    "\n",
    "    def set_available_states(self):\n",
    "        \"\"\" updates available_states variables\"\"\"\n",
    "        \n",
    "        \n",
    "        #if bottom edge\n",
    "        if self.current_state==0:\n",
    "            if self.task_params['graph_type']=='line':\n",
    "                self.available_states = [1]\n",
    "            else:\n",
    "                self.available_states = [self.task_params['len_graph']-1,1]\n",
    "                \n",
    "        #elif top edge\n",
    "        elif self.current_state==(self.task_params['len_graph']-1):\n",
    "            \n",
    "            if self.task_params['graph_type']=='line':\n",
    "                self.available_states = [self.task_params['len_graph']-2]\n",
    "            else:\n",
    "                self.available_states = [self.task_params['len_graph']-2,0]\n",
    "                \n",
    "        #with states either side\n",
    "        else:\n",
    "            self.available_states = [self.current_state-1,self.current_state+1]\n",
    "\n",
    "    \n",
    "    def init_trial(self):\n",
    "        \"\"\" Initialise the task\"\"\"\n",
    "        if ((self.reward_location is None) or \n",
    "            (self.n_rewards_at_loc>self.task_params['rewards_pre_switch'] and\n",
    "                np.random.uniform(0,1)>self.task_params['reward_switch_p'])):\n",
    "            self.update_reward_location()\n",
    "        \n",
    "            \n",
    "\n",
    "        self.current_state = np.random.choice(self.poss_starting_states)\n",
    "        self.set_available_states()\n",
    "        #print(self.curr)\n",
    "        #print(self.available_states)\n",
    "        self.state_seq.append(self.current_state)\n",
    "        self.port_seq.append(self.current_port)\n",
    "        self.rew_list.append(False)\n",
    "\n",
    "        \n",
    "    def run(self,n_trials=3e3):\n",
    "        \"\"\" Run behaviour \"\"\"\n",
    "        self.init_trial()\n",
    "        #if self.task_params\n",
    "        #print(n_trials)\n",
    "        rew = False\n",
    "        while self.n_reward_total<n_trials:\n",
    "            if rew:\n",
    "                self.init_trial()\n",
    "\n",
    "            print(self.available_states)\n",
    "            rew = self.update_state()\n",
    "            \n",
    "            self.state_seq.append(self.current_state)\n",
    "            self.port_seq.append(self.current_port)\n",
    "            self.rew_list.append(rew)\n",
    "                    \n",
    "        \n",
    "    \n",
    "    def update_state(self):\n",
    "        \"\"\" Received choice of 0 or 1\"\"\"\n",
    "        self.do_policy()\n",
    "        self.set_available_states()\n",
    "\n",
    "        rew = False\n",
    "        if self.current_state==self.reward_location:\n",
    "            self.choices_since_reward = 0\n",
    "            self.n_rewards_at_loc += 1\n",
    "            self.choices_since_reward =0 \n",
    "            self.n_reward_total += 1\n",
    "            self.rew_list.append(True)\n",
    "            rew = True\n",
    "        else:\n",
    "            self.choices_since_reward += 1\n",
    "\n",
    "        return rew\n",
    "            \n",
    "    \n",
    "    def update_reward_location(self):\n",
    "        self.reward_location = np.random.choice(self.task_params['rew_locs_session'])\n",
    "        self.poss_starting_states = [i for i in self.task_params['rew_locs_session'] if i!=self.reward_location]\n",
    "\n",
    "    \n",
    "    \n",
    "    \n",
    "    def do_policy(self):\n",
    "        self.current_state = np.random.choice(self.available_states)"
   ]
  },
  {
   "cell_type": "code",
   "execution_count": 181,
   "metadata": {},
   "outputs": [
    {
     "data": {
      "text/plain": [
       "2"
      ]
     },
     "execution_count": 181,
     "metadata": {},
     "output_type": "execute_result"
    }
   ],
   "source": [
    "aa.current_state"
   ]
  },
  {
   "cell_type": "code",
   "execution_count": 182,
   "metadata": {},
   "outputs": [
    {
     "data": {
      "text/plain": [
       "[1, 3]"
      ]
     },
     "execution_count": 182,
     "metadata": {},
     "output_type": "execute_result"
    }
   ],
   "source": [
    "aa.available_states"
   ]
  },
  {
   "cell_type": "code",
   "execution_count": 183,
   "metadata": {},
   "outputs": [],
   "source": [
    "aa.set_available_states()"
   ]
  },
  {
   "cell_type": "code",
   "execution_count": 184,
   "metadata": {},
   "outputs": [
    {
     "data": {
      "text/plain": [
       "3"
      ]
     },
     "execution_count": 184,
     "metadata": {},
     "output_type": "execute_result"
    }
   ],
   "source": [
    "aa.reward_location"
   ]
  },
  {
   "cell_type": "code",
   "execution_count": 185,
   "metadata": {},
   "outputs": [],
   "source": [
    "aa = base_agent()"
   ]
  },
  {
   "cell_type": "code",
   "execution_count": null,
   "metadata": {},
   "outputs": [],
   "source": []
  },
  {
   "cell_type": "code",
   "execution_count": 187,
   "metadata": {},
   "outputs": [
    {
     "name": "stdout",
     "output_type": "stream",
     "text": [
      "1\n",
      "[0, 2]\n",
      "[1, 3]\n",
      "[0, 2]\n",
      "[1]\n",
      "[0, 2]\n",
      "[1, 3]\n",
      "[0, 2]\n",
      "[1]\n",
      "[0, 2]\n",
      "[1, 3]\n",
      "[0, 2]\n",
      "[1, 3]\n",
      "[2, 4]\n",
      "[3, 5]\n",
      "[2, 4]\n",
      "[3, 5]\n",
      "[4, 6]\n",
      "[3, 5]\n",
      "[2, 4]\n",
      "[1, 3]\n",
      "[0, 2]\n",
      "[1, 3]\n",
      "[2, 4]\n",
      "[1, 3]\n",
      "[2, 4]\n",
      "[1, 3]\n",
      "[0, 2]\n",
      "[1]\n",
      "[0, 2]\n",
      "[1, 3]\n",
      "[0, 2]\n",
      "[1, 3]\n",
      "[2, 4]\n",
      "[1, 3]\n",
      "[0, 2]\n",
      "[1]\n",
      "[0, 2]\n",
      "[1, 3]\n",
      "[0, 2]\n",
      "[1, 3]\n",
      "[0, 2]\n",
      "[1, 3]\n",
      "[2, 4]\n",
      "[1, 3]\n",
      "[0, 2]\n",
      "[1, 3]\n",
      "[0, 2]\n",
      "[1]\n",
      "[0, 2]\n",
      "[1]\n",
      "[0, 2]\n",
      "[1, 3]\n",
      "[0, 2]\n",
      "[1]\n",
      "[0, 2]\n",
      "[1, 3]\n",
      "[0, 2]\n",
      "[1, 3]\n",
      "[0, 2]\n",
      "[1, 3]\n",
      "[2, 4]\n",
      "[1, 3]\n",
      "[0, 2]\n",
      "[1]\n",
      "[0, 2]\n",
      "[1, 3]\n",
      "[0, 2]\n",
      "[1]\n",
      "[0, 2]\n",
      "[1, 3]\n",
      "[2, 4]\n",
      "[1, 3]\n",
      "[2, 4]\n",
      "[1, 3]\n",
      "[2, 4]\n",
      "[3, 5]\n",
      "[4, 6]\n",
      "[5, 7]\n",
      "[6, 8]\n",
      "[5, 7]\n",
      "[6, 8]\n"
     ]
    }
   ],
   "source": [
    "aa.run(n_trials=1)"
   ]
  },
  {
   "cell_type": "code",
   "execution_count": 110,
   "metadata": {},
   "outputs": [],
   "source": [
    "aa.available_states"
   ]
  },
  {
   "cell_type": "code",
   "execution_count": 112,
   "metadata": {},
   "outputs": [
    {
     "data": {
      "text/plain": [
       "5"
      ]
     },
     "execution_count": 112,
     "metadata": {},
     "output_type": "execute_result"
    }
   ],
   "source": [
    "aa.current_state"
   ]
  },
  {
   "cell_type": "code",
   "execution_count": null,
   "metadata": {},
   "outputs": [],
   "source": [
    "class diffusion_agent(base_agent):\n",
    "    \n",
    "    def __init__(self,learning_params,task_params):\n",
    "        pass"
   ]
  },
  {
   "cell_type": "code",
   "execution_count": 18,
   "metadata": {},
   "outputs": [],
   "source": [
    "class towards_middle_agent(base_agent):\n",
    "    \n",
    "    def __init__(self,learning_params,task_params):\n",
    "        pass"
   ]
  },
  {
   "cell_type": "code",
   "execution_count": 19,
   "metadata": {},
   "outputs": [],
   "source": [
    "class Qlearner(base_agent):\n",
    "    \n",
    "    def __init__(self,learning_params,task_params):\n",
    "        pass"
   ]
  },
  {
   "cell_type": "code",
   "execution_count": 20,
   "metadata": {},
   "outputs": [],
   "source": [
    "class Model_based_agent(base_agent):\n",
    "    \n",
    "    def __init__(self,learning_params,task_params):\n",
    "        pass"
   ]
  },
  {
   "cell_type": "code",
   "execution_count": null,
   "metadata": {},
   "outputs": [],
   "source": []
  },
  {
   "cell_type": "code",
   "execution_count": null,
   "metadata": {},
   "outputs": [],
   "source": []
  },
  {
   "cell_type": "code",
   "execution_count": null,
   "metadata": {},
   "outputs": [],
   "source": []
  },
  {
   "cell_type": "code",
   "execution_count": null,
   "metadata": {},
   "outputs": [],
   "source": []
  }
 ],
 "metadata": {
  "kernelspec": {
   "display_name": "Python 3",
   "language": "python",
   "name": "python3"
  },
  "language_info": {
   "codemirror_mode": {
    "name": "ipython",
    "version": 3
   },
   "file_extension": ".py",
   "mimetype": "text/x-python",
   "name": "python",
   "nbconvert_exporter": "python",
   "pygments_lexer": "ipython3",
   "version": "3.7.4"
  }
 },
 "nbformat": 4,
 "nbformat_minor": 2
}
