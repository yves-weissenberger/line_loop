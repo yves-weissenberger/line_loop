{
 "cells": [
  {
   "cell_type": "markdown",
   "metadata": {},
   "source": [
    "# First pass analysis of line/loop data\n",
    "\n",
    "<ul>\n",
    "    <li> Analyse correct sequence lengths. </li>\n",
    "    <li> Do reaction times </li>\n",
    "    <li> Analyse as a function of distance from reward </li>\n",
    "    <li> Try to fit RL model to these data </li> \n",
    "    \n",
    "</ul>"
   ]
  },
  {
   "cell_type": "code",
   "execution_count": 1,
   "metadata": {},
   "outputs": [
    {
     "name": "stderr",
     "output_type": "stream",
     "text": [
      "/Users/yves/opt/anaconda3/lib/python3.7/site-packages/statsmodels/tools/_testing.py:19: FutureWarning: pandas.util.testing is deprecated. Use the functions in the public API at pandas.testing instead.\n",
      "  import pandas.util.testing as tm\n"
     ]
    }
   ],
   "source": [
    "%matplotlib inline\n",
    "import numpy as np\n",
    "import scipy as sp\n",
    "import pandas as pd\n",
    "import matplotlib.pyplot as plt\n",
    "import matplotlib\n",
    "import seaborn\n",
    "import scipy.stats as stt\n",
    "seaborn.set(font_scale=1.5,style='ticks',rc={'axes.edgecolor': 'k',\n",
    "                                             'axes.linewidth': 2,\n",
    "                                             #'xtick.major.size': 6,\n",
    "                                             'axes.labelcolor':'k',\n",
    "                                             'xtick.major.width': 2,\n",
    "                                             'ytick.major.width': 2,\n",
    "                                             'xtick.major.pad': 5.5,\n",
    "                                             'ytick.major.pad': 5.5,\n",
    "                                             'axes.labelsize': 18\n",
    "                                            })\n",
    "import os\n",
    "import re\n",
    "import sys\n",
    "import itertools\n",
    "import networkx as nx\n",
    "sys.path.append(\"/Users/Yves/Documents/Code/line_loop/packages/\")\n",
    "\n",
    "\n",
    "sys.path.append(\"/Users/Yves/Documents/Code/structural_knowledge/packages/\")\n",
    "\n",
    "\n",
    "sys.path.append(r\"C:\\Users\\yweissenberger\\Documents\\code\\line_loop-master\")\n",
    "sys.path.append(r\"C:\\Users\\yweissenberger\\Documents\\code\\line_loop-master\\packages\")\n"
   ]
  },
  {
   "cell_type": "code",
   "execution_count": 2,
   "metadata": {},
   "outputs": [],
   "source": [
    "import mouse_poker as mpk"
   ]
  },
  {
   "cell_type": "markdown",
   "metadata": {},
   "source": [
    "# Defined functions "
   ]
  },
  {
   "cell_type": "code",
   "execution_count": 3,
   "metadata": {},
   "outputs": [],
   "source": [
    "poke_pos = [ [149,0],\n",
    "         [68,19],[231,19],\n",
    "       [0,62],[149,62],[298,62],\n",
    "         [68,105],[231,105],\n",
    "              [149,124]]"
   ]
  },
  {
   "cell_type": "code",
   "execution_count": null,
   "metadata": {},
   "outputs": [],
   "source": []
  },
  {
   "cell_type": "code",
   "execution_count": 4,
   "metadata": {},
   "outputs": [],
   "source": [
    "def get_poke_to_state_map(lines):\n",
    "    \"\"\" \"\"\"\n",
    "    tmp = []\n",
    "    for i,j in zip([int(re.findall('POKEDPORT_([0-9])',i)[0]) for i in lines if '_POKEDPORT' in i],\n",
    "                         [int(re.findall('POKEDSTATE_([0-9])',i)[0]) for i in lines if '_POKEDSTATE' in i]):\n",
    "\n",
    "        if [i,j] not in tmp:\n",
    "            tmp.append([i,j])\n",
    "    poke_to_state_map = [i[1] for i in sorted(tmp)]\n",
    "    return poke_to_state_map"
   ]
  },
  {
   "cell_type": "code",
   "execution_count": 5,
   "metadata": {},
   "outputs": [],
   "source": [
    "def get_prev_diff_rew_loc(dat_dict,rewarded_pokes,rew_ctr):\n",
    "    \"\"\" what is the first different rewarded location \"\"\"\n",
    "    prev_diff_rew_loc = None\n",
    "    current_rew_loc = poke_to_state_map[dat_dict['rews'][rew_ctr][0]]  #this is state that is rewarded\n",
    "\n",
    "    for ix_,rl in enumerate(reversed(rewarded_pokes[:(rew_ctr)])):  #is it this or :(rew_ctr+1)\n",
    "        rl_t = poke_to_state_map[dat_dict['rews'][rew_ctr-ix_][0]]\n",
    "\n",
    "        if rl_t != current_rew_loc:\n",
    "            prev_diff_rew_loc = rl_t\n",
    "            break\n",
    "            \n",
    "    return prev_diff_rew_loc"
   ]
  },
  {
   "cell_type": "code",
   "execution_count": 6,
   "metadata": {},
   "outputs": [],
   "source": [
    "def get_st_dist(dat_dict,pk_ctr,rew_loc):\n",
    "    \"\"\" get distances between current and next state and reward during navigation on the line \"\"\"\n",
    "    \n",
    "    d0 = np.abs(dat_dict['state'][pk_ctr][0]-rew_loc)\n",
    "    d1 = np.abs(dat_dict['state'][pk_ctr+1][0]-rew_loc)\n",
    "    st_dist = dat_dict['state'][pk_ctr][0]-dat_dict['state'][pk_ctr+1][0]\n",
    "    \n",
    "    return d0,d1,st_dist\n",
    "    "
   ]
  },
  {
   "cell_type": "code",
   "execution_count": null,
   "metadata": {},
   "outputs": [],
   "source": []
  },
  {
   "cell_type": "code",
   "execution_count": 7,
   "metadata": {},
   "outputs": [],
   "source": [
    "def is_correct(rewarded,d1,d0):\n",
    "    \"\"\" Check if trial is correct\"\"\"\n",
    "    #correct = False\n",
    "    if rewarded:   #this means you got a reward so all good\n",
    "        correct = True\n",
    "\n",
    "    elif d1<d0:\n",
    "        #if at next poke distance to reward is smaller (in state space)\n",
    "        correct = True\n",
    "    else:\n",
    "        correct = False\n",
    "    return correct\n"
   ]
  },
  {
   "cell_type": "code",
   "execution_count": 8,
   "metadata": {},
   "outputs": [],
   "source": [
    "def verbose_print(*args):\n",
    "    print('DIFFDIR:',direction!=prev_direction, #if you are coming from a different direction\n",
    "              '|ONECH:',(len(dat_dict['state'][pk_ctr][1])>1), #and you have a choice of which direction to come from\n",
    "              '|NOT EMPTY:',prev_diff_rew_loc is not None,\n",
    "              '|prevPOL:',not same_as_prev_pol,\n",
    "              '|EXPDIREC:', exp_dirs,\n",
    "              '|CDIR:', direction\n",
    "                 )\n",
    "    print('CRL',rew_loc,\n",
    "          'STATE',dat_dict['state'][pk_ctr][0],\n",
    "          'NXT_ST',dat_dict['state'][pk_ctr+1][0],\n",
    "          'PREV_REW_L',prev_diff_rew_loc,\n",
    "          'PDIR',prev_direction,\n",
    "          'CTR',rew_ctr,\n",
    "          'PRL',prev_rew_loc)"
   ]
  },
  {
   "cell_type": "code",
   "execution_count": 9,
   "metadata": {},
   "outputs": [],
   "source": [
    "#for each reward location. \n",
    "#look at the first trajectory\n",
    "#look at what side it is from\n",
    "#for each trajectory after check if its from the other side of the sequence\n",
    "#if no pass\n",
    "#if yes, look at the previous reward location, ask if it is the same direction"
   ]
  },
  {
   "cell_type": "markdown",
   "metadata": {},
   "source": [
    "# Actual code to run stuff "
   ]
  },
  {
   "cell_type": "code",
   "execution_count": 21,
   "metadata": {},
   "outputs": [],
   "source": [
    "#f = open(\"/Users/yves/Documents/behavior_data/line_loop_cohort_1/line_loop_batch_4_RUNNAVI/'456675_3'-2020-12-09-094620.txt\",'r')\n",
    "#f = open(\"/Users/yweissenberger/Documents/Pycontrol/data/line_loop_batch_4_RUNNAVI/'456675_3'-2021-03-05-120244.txt\",'r')\n",
    "\n",
    "#THIS ONE SHOULD HAVE AT LEAST 1 PERF I THINK\n",
    "#basepth = \"/Users/yves/Documents/behavior_data/line_loop_cohort_1/line_loop_batch_4_RUNNAVI/\"\n",
    "basepth = \"/Users/yweissenberger/Documents/Pycontrol/data/line_loop_batch_4_RUNNAVI/\"\n",
    "\n",
    "fs = os.listdir(basepth)\n",
    "ix = 12\n",
    "#print(day_df['filepath'].values[ix])\n",
    "#f = open(\"/Users/yves/Documents/behavior_data/line_loop_cohort_1/line_loop_batch_4_RUNNAVI/'456675_3'-2020-12-08-100702.txt\",'r')\n",
    "f = open(os.path.join(basepth,fs[ix]),'r')\n",
    "\n",
    "\n",
    "lines =f.readlines()\n",
    "experiment_name, task_name, subject_id, task_nr, graph,lineloop,date,test,_ = mpk.load.get_metadata(lines)\n",
    "dat_dict,events,event_times,nRews,_ = mpk.load.parse_data(lines,experiment_name)\n"
   ]
  },
  {
   "cell_type": "code",
   "execution_count": 22,
   "metadata": {},
   "outputs": [
    {
     "data": {
      "text/plain": [
       "0"
      ]
     },
     "execution_count": 22,
     "metadata": {},
     "output_type": "execute_result"
    }
   ],
   "source": [
    "len(dat_dict['rews'])"
   ]
  },
  {
   "cell_type": "code",
   "execution_count": 23,
   "metadata": {},
   "outputs": [],
   "source": [
    "poke_to_state_map = get_poke_to_state_map(lines)\n",
    "rew_indices = [0,3,5,8]"
   ]
  },
  {
   "cell_type": "code",
   "execution_count": null,
   "metadata": {},
   "outputs": [],
   "source": []
  },
  {
   "cell_type": "code",
   "execution_count": 26,
   "metadata": {
    "scrolled": true
   },
   "outputs": [],
   "source": [
    "\n",
    "prev_rew_loc = None  #this is the reward location that was last updated\n",
    "direction = None\n",
    "perf = 0\n",
    "trial_ctr = 0\n",
    "has_updated = False\n",
    "\n",
    "\n",
    "rewarded_pokes = np.where(dat_dict['rew_list'])[0]\n",
    "same_as_prev_pol = True\n",
    "exp_dirs = []\n",
    "verbose = True\n",
    "#all_up_cond\n",
    "for rew_ctr,(st,nd) in enumerate(zip(rewarded_pokes[:-1],rewarded_pokes[1:])):\n",
    "    \n",
    "    \n",
    "    \n",
    "    #\n",
    "    rew_loc = poke_to_state_map[dat_dict['rews'][rew_ctr][0]]  #this is state that is rewarded\n",
    "\n",
    "    prev_direction = direction\n",
    "    ##END OF PROCESS OF ONE WALK TO REWARD\n",
    "    if rew_loc!=prev_rew_loc:\n",
    "        #print(\"HERE\")\n",
    "        direction = None\n",
    "        has_updated = False\n",
    "        prev_direction = None\n",
    "        exp_dirs = [] #experienced directions\n",
    "        \n",
    "\n",
    "    \n",
    "    #\n",
    "    direction = (rew_loc - dat_dict['state'][st+1][0])>0 #which side are you approaching the reward from\n",
    "        \n",
    "    \n",
    "    #PROCESS ONE WALK TO REWARD\n",
    "    for pk_ctr in range(st,nd):  #for each poke between two rewards    \n",
    "\n",
    "        d0,d1,st_dist = get_st_dist(dat_dict,pk_ctr,rew_loc)  #get distance between current and chosen state and reward_loc\n",
    "        rewarded = dat_dict['rew_list'][pk_ctr+1]             #check if upcoming poke leads to rewared\n",
    "        free_choice_trial = (len(dat_dict['state'][pk_ctr][1])>1)\n",
    "\n",
    "        state = dat_dict['state'][pk_ctr][0]\n",
    "\n",
    "\n",
    "        prev_diff_rew_loc = get_prev_diff_rew_loc(dat_dict,rewarded_pokes,rew_ctr)\n",
    "\n",
    "        if prev_diff_rew_loc!=None:\n",
    "            same_as_prev_pol = (((dat_dict['state'][pk_ctr][0]-rew_loc)>0)== \n",
    "                                ((dat_dict['state'][pk_ctr][0]-prev_diff_rew_loc)>0))\n",
    "        else:\n",
    "            same_as_prev_pol = False\n",
    "            \n",
    "            \n",
    "            update_condition_list = [free_choice_trial,                 #NOT a forced trial\n",
    "                                     prev_diff_rew_loc is not None,  #hash-out if want to look include very first block in session\n",
    "                                     not same_as_prev_pol,           #ensure that this a policy change is required to make correct decision\n",
    "                                     prev_direction is not None,     #make sure NOT looking at first run-to-rew after a block transition (when rew_loc is unknown)\n",
    "                                     direction not in exp_dirs,      #hasn't experienced this direction in this block yet\n",
    "                                     #not has_updated                #toggle if only look at first relevant POKE in block\n",
    "                                    ]\n",
    "        \n",
    "        if verbose:\n",
    "            verbose_print(locals())\n",
    "        #print(update_condition_list)\n",
    "        #this is an upate condition list for each poke\n",
    "        if all(update_condition_list):\n",
    "            if verbose:\n",
    "                print((\"!\"*80 + \"\\n\")*3)\n",
    "\n",
    "\n",
    "            perf += is_correct(rewarded,d1,d0)\n",
    "            trial_ctr += 1\n",
    "\n",
    "            has_updated = True  #if decisions from this block have led to updated\n",
    "\n",
    "            \n",
    "\n",
    "    if direction not in exp_dirs:\n",
    "        exp_dirs.append(direction)\n",
    "    prev_rew_loc = rew_loc\n"
   ]
  },
  {
   "cell_type": "code",
   "execution_count": null,
   "metadata": {},
   "outputs": [],
   "source": []
  },
  {
   "cell_type": "code",
   "execution_count": null,
   "metadata": {
    "scrolled": true
   },
   "outputs": [],
   "source": []
  },
  {
   "cell_type": "code",
   "execution_count": 24,
   "metadata": {},
   "outputs": [],
   "source": [
    "def run_MB_analysis(dat_dict,poke_to_state_map,rew_indices,lines,verbose=False):\n",
    "    \"\"\" Model based analysis to check whether \"\"\"\n",
    "\n",
    "    prev_rew_loc = None  #this is the reward location that was last updated\n",
    "    direction = None\n",
    "    perf = 0\n",
    "    trial_ctr = 0\n",
    "    has_updated = False\n",
    "\n",
    "\n",
    "    rewarded_pokes = np.where(dat_dict['rew_list'])[0]  #SHOULD THIS HAVE A +1????\n",
    "    same_as_prev_pol = True\n",
    "    exp_dirs = []\n",
    "    #all_up_cond\n",
    "    for rew_ctr,(st,nd) in enumerate(zip(rewarded_pokes[:-1],rewarded_pokes[1:])):\n",
    "\n",
    "        #\n",
    "        rew_loc = rew_loc = dat_dict['state'][nd][0]  #this is state that is rewarded\n",
    "\n",
    "        prev_direction = direction\n",
    "        ##END OF PROCESS OF ONE WALK TO REWARD\n",
    "        if rew_loc!=prev_rew_loc:\n",
    "            #print(\"HERE\")\n",
    "            direction = None\n",
    "            has_updated = False\n",
    "            prev_direction = None\n",
    "            exp_dirs = [] #experienced directions\n",
    "\n",
    "\n",
    "\n",
    "        direction = (rew_loc - dat_dict['state'][st+1][0])>0 #which side is mousy approaching the reward from\n",
    "\n",
    "\n",
    "        #PROCESS ONE WALK TO REWARD\n",
    "        for pk_ctr in range(st,nd):  #for each poke \n",
    "\n",
    "            d0,d1,st_dist = get_st_dist(dat_dict,pk_ctr,rew_loc)\n",
    "            state = dat_dict['state'][pk_ctr][0]\n",
    "            rewarded = dat_dict['rew_list'][pk_ctr]  #is this correct?? NO!\n",
    "            unforced_trial = (len(dat_dict['state'][pk_ctr][1])>1)\n",
    "    \n",
    "            #prev_diff_rew_loc = get_prev_diff_rew_loc(dat_dict,rewarded_pokes,rew_ctr)\n",
    "            #get rewarded pokes up to the current reward\n",
    "            rew_list_upto = np.where(dat_dict['rew_list'][:pk_ctr])[0]\n",
    "            if len(rew_list_upto)>0: #if there is one\n",
    "                prev_diff_rew_loc = dat_dict['state'][rew_list_upto[-1]][0]  #get the last rewarded state\n",
    "            else:\n",
    "                prev_diff_rew_loc = None\n",
    "\n",
    "            if prev_diff_rew_loc!=None:\n",
    "                same_as_prev_pol = (((dat_dict['state'][pk_ctr][0]-rew_loc)>0)== \n",
    "                                    ((dat_dict['state'][pk_ctr][0]-prev_diff_rew_loc)>0))\n",
    "            else:\n",
    "                same_as_prev_pol = False\n",
    "\n",
    "\n",
    "            update_condition_list = [unforced_trial,                 #NOT a forced trial\n",
    "                                     prev_diff_rew_loc is not None,  #hash-out if want to look include very first block in session\n",
    "                                     not same_as_prev_pol,           #ensure that this a policy change is required to make correct decision\n",
    "                                     prev_direction is not None,     #make sure NOT looking at first run-to-rew after a block transition (when rew_loc is unknown)\n",
    "                                     direction not in exp_dirs,      #hasn't experienced this direction in this block yet\n",
    "                                     #not has_updated                #toggle if only look at first relevant POKE in block\n",
    "                                    ]\n",
    "            \n",
    "            if verbose:\n",
    "                verbose_print(locals())\n",
    "\n",
    "            if all(update_condition_list):\n",
    "                if verbose:\n",
    "                    print((\"!\"*80 + \"\\n\")*3) #there is a hit\n",
    "                \n",
    "                perf += is_correct(rewarded,d1,d0)\n",
    "                trial_ctr += 1\n",
    "               \n",
    "\n",
    "                has_updated = True  #if decisions from this block have led to updated\n",
    "\n",
    "        if direction not in exp_dirs:\n",
    "            exp_dirs.append(direction)\n",
    "        prev_rew_loc = rew_loc\n",
    "        \n",
    "\n",
    "    return perf,trial_ctr"
   ]
  },
  {
   "cell_type": "code",
   "execution_count": null,
   "metadata": {},
   "outputs": [],
   "source": []
  },
  {
   "cell_type": "code",
   "execution_count": null,
   "metadata": {},
   "outputs": [],
   "source": []
  },
  {
   "cell_type": "code",
   "execution_count": 25,
   "metadata": {},
   "outputs": [],
   "source": [
    "ROOT = '/Users/yves/Documents/behavior_data/line_loop_cohort_1/line_loop_batch_4_RUNNAVI/'\n",
    "fs = sorted([os.path.join(ROOT,i) for i in os.listdir(ROOT) if '.txt' in i])\n",
    "perf_hist = []\n",
    "all_fc  = []\n",
    "all_perf = 0#np.zeros([9,4])\n",
    "all_ctr = 0#np.zeros([9,4])\n",
    "for f_ in fs:\n",
    "    #try:\n",
    "        f = open(f_,'r')\n",
    "        lines =f.readlines()\n",
    "        poke_to_state_map = get_poke_to_state_map(lines)\n",
    "        rew_indices = [0,3,5,8]\n",
    "        experiment_name, task_name, subject_id, task_nr, graph,lineloop,date,test,_ = mpk.load.get_metadata(lines)\n",
    "        dat_dict,events,event_times,nRews,_ = mpk.load.parse_data(lines,experiment_name)\n",
    "\n",
    "        rew_indices = [0,3,5,8]\n",
    "        perf,trial_ctr = run_MB_analysis(dat_dict,poke_to_state_map,rew_indices,lines)\n",
    "\n",
    "        all_perf += perf\n",
    "        all_ctr += trial_ctr\n",
    "        all_fc.append([perf/(1+float(trial_ctr))])"
   ]
  },
  {
   "cell_type": "code",
   "execution_count": 31,
   "metadata": {},
   "outputs": [
    {
     "data": {
      "text/plain": [
       "17"
      ]
     },
     "execution_count": 31,
     "metadata": {},
     "output_type": "execute_result"
    }
   ],
   "source": [
    "all_perf"
   ]
  },
  {
   "cell_type": "code",
   "execution_count": null,
   "metadata": {},
   "outputs": [],
   "source": []
  },
  {
   "cell_type": "code",
   "execution_count": 26,
   "metadata": {},
   "outputs": [
    {
     "data": {
      "image/png": "[encoded data removed]",
      "text/plain": [
       "<Figure size 432x288 with 1 Axes>"
      ]
     },
     "metadata": {
      "needs_background": "light"
     },
     "output_type": "display_data"
    }
   ],
   "source": [
    "from scipy.ndimage import gaussian_filter1d\n",
    "sess_perf = [np.nanmean(i) for i in all_fc if not np.isnan(np.nanmean(i))][1:]\n",
    "plt.plot(gaussian_filter1d(sess_perf,5,mode='nearest'),linewidth=5)\n",
    "plt.scatter(range(len(sess_perf)),sess_perf,color='k',s=128,edgecolors='none')\n",
    "plt.axhline(y=0.5,dashes=(12,12),color='.3')\n",
    "plt.xlabel(\"Session #\")\n",
    "plt.ylabel(\"Proportion of\\n correct transitions\")\n",
    "#plt.xlim(-.5)\n",
    "plt.ylim\n",
    "seaborn.despine()\n",
    "plt.tight_layout()\n",
    "#plt.savefig(\"/Users/yves/Desktop/tpf/navi_learning.svg\")\n",
    "#plt.savefig(\"/Users/yves/Desktop/tpf/navi_learning.png\",dpi=300)\n"
   ]
  },
  {
   "cell_type": "code",
   "execution_count": 27,
   "metadata": {},
   "outputs": [
    {
     "data": {
      "text/plain": [
       "17"
      ]
     },
     "execution_count": 27,
     "metadata": {},
     "output_type": "execute_result"
    }
   ],
   "source": [
    "all_ctr"
   ]
  },
  {
   "cell_type": "code",
   "execution_count": 28,
   "metadata": {},
   "outputs": [
    {
     "data": {
      "text/plain": [
       "17"
      ]
     },
     "execution_count": 28,
     "metadata": {},
     "output_type": "execute_result"
    }
   ],
   "source": [
    "all_perf"
   ]
  },
  {
   "cell_type": "code",
   "execution_count": 29,
   "metadata": {},
   "outputs": [
    {
     "data": {
      "text/plain": [
       "1.0"
      ]
     },
     "execution_count": 29,
     "metadata": {},
     "output_type": "execute_result"
    }
   ],
   "source": [
    "all_perf/all_ctr"
   ]
  },
  {
   "cell_type": "code",
   "execution_count": 19,
   "metadata": {},
   "outputs": [
    {
     "data": {
      "text/plain": [
       "1.52587890625e-05"
      ]
     },
     "execution_count": 19,
     "metadata": {},
     "output_type": "execute_result"
    }
   ],
   "source": [
    "stt.binom_test(all_perf,all_ctr,p=0.5)"
   ]
  },
  {
   "cell_type": "code",
   "execution_count": 20,
   "metadata": {},
   "outputs": [],
   "source": [
    "from statsmodels.stats import proportion"
   ]
  },
  {
   "cell_type": "code",
   "execution_count": 21,
   "metadata": {},
   "outputs": [],
   "source": [
    "mu = all_perf/all_ctr"
   ]
  },
  {
   "cell_type": "code",
   "execution_count": 22,
   "metadata": {},
   "outputs": [],
   "source": [
    "len(all)"
   ]
  },
  {
   "cell_type": "code",
   "execution_count": 23,
   "metadata": {},
   "outputs": [
    {
     "data": {
      "image/png": "[encoded data removed]",
      "text/plain": [
       "<Figure size 432x288 with 1 Axes>"
      ]
     },
     "metadata": {
      "needs_background": "light"
     },
     "output_type": "display_data"
    }
   ],
   "source": [
    "ci = np.array(proportion.proportion_confint(71,107))\n",
    "#plt.title(\"Policy update inference\")\n",
    "plt.errorbar([0],[all_perf/all_ctr],yerr=.09,color='k',linewidth=3)\n",
    "plt.bar([0],[all_perf/all_ctr],facecolor='w',edgecolor='k',linewidth=3,width=.25)\n",
    "plt.axhline(y=0.5,dashes=(8,8),color='.3',linewidth=2)\n",
    "plt.annotate(\"Chance\",(.025,.40),xycoords='axes fraction',fontsize=20)\n",
    "plt.xticks([])\n",
    "plt.ylim(.3)\n",
    "plt.xlim(-.5,.5)\n",
    "plt.ylabel(\"Proportion correct\")\n",
    "seaborn.despine()\n",
    "plt.tight_layout()\n",
    "#plt.savefig(\"/Users/yves/Desktop/tpf/navi_inf.svg\")\n",
    "#plt.savefig(\"/Users/yves/Desktop/tpf/navi_inf.png\",dpi=300)\n"
   ]
  },
  {
   "cell_type": "code",
   "execution_count": 451,
   "metadata": {},
   "outputs": [
    {
     "data": {
      "image/png": "[encoded data removed]",
      "text/plain": [
       "<Figure size 432x288 with 1 Axes>"
      ]
     },
     "metadata": {},
     "output_type": "display_data"
    }
   ],
   "source": [
    "ci = np.array(proportion.proportion_confint(71,107))\n",
    "#plt.title(\"Policy update inference\")\n",
    "plt.errorbar([0],[all_perf/all_ctr],yerr=.09,color='k',linewidth=3)\n",
    "plt.bar([0],[all_perf/all_ctr],facecolor='w',edgecolor='k',linewidth=3,width=.25)\n",
    "plt.axhline(y=0.5,dashes=(8,8),color='.3',linewidth=2)\n",
    "plt.annotate(\"Chance\",(.025,.40),xycoords='axes fraction',fontsize=20)\n",
    "plt.xticks([])\n",
    "plt.ylim(.3)\n",
    "plt.xlim(-.5,.5)\n",
    "plt.ylabel(\"Proportion of choices following \\nnew optimal policy\")\n",
    "seaborn.despine()\n",
    "plt.tight_layout()\n",
    "plt.savefig(\"/Users/yves/Desktop/tpf/navi_inf.svg\")\n",
    "plt.savefig(\"/Users/yves/Desktop/tpf/navi_inf.png\",dpi=300)\n"
   ]
  },
  {
   "cell_type": "code",
   "execution_count": null,
   "metadata": {},
   "outputs": [],
   "source": []
  },
  {
   "cell_type": "code",
   "execution_count": null,
   "metadata": {},
   "outputs": [],
   "source": []
  }
 ],
 "metadata": {
  "kernelspec": {
   "display_name": "Python 3",
   "language": "python",
   "name": "python3"
  },
  "language_info": {
   "codemirror_mode": {
    "name": "ipython",
    "version": 3
   },
   "file_extension": ".py",
   "mimetype": "text/x-python",
   "name": "python",
   "nbconvert_exporter": "python",
   "pygments_lexer": "ipython3",
   "version": "3.7.4"
  }
 },
 "nbformat": 4,
 "nbformat_minor": 2
}
