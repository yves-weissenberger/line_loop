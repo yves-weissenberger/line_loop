{
 "cells": [
  {
   "cell_type": "markdown",
   "metadata": {},
   "source": [
    "# Task\n",
    "\n",
    "Things to decide: mapping between physical space and task space.\n",
    "\n",
    "What models of behavior do we think are going on?"
   ]
  },
  {
   "cell_type": "code",
   "execution_count": 1,
   "metadata": {},
   "outputs": [
    {
     "name": "stdout",
     "output_type": "stream",
     "text": [
      "pygame 1.9.6\n",
      "Hello from the pygame community. https://www.pygame.org/contribute.html\n"
     ]
    }
   ],
   "source": [
    "%matplotlib inline\n",
    "import pygame\n",
    "import numpy as np\n",
    "import os\n",
    "import re \n",
    "import sys\n",
    "import time"
   ]
  },
  {
   "cell_type": "code",
   "execution_count": 2,
   "metadata": {},
   "outputs": [],
   "source": [
    "nNodes = 9\n",
    "nActions = 2\n",
    "\n",
    "edges = [[0, 1],\n",
    "         [0, 3],\n",
    "         [1, 0],\n",
    "         [1, 3],\n",
    "         [2, 0],\n",
    "         [2, 1],\n",
    "         [3, 4],\n",
    "         [3, 7],\n",
    "         [4, 2],\n",
    "         [4, 6],\n",
    "         [5, 2],\n",
    "         [5, 4],\n",
    "         [6, 7],\n",
    "         [6, 8],\n",
    "         [7, 5],\n",
    "         [7, 8],\n",
    "         [8, 6],\n",
    "         [8, 5]]\n",
    "\n",
    "available_transitions = np.zeros([nNodes,nActions],dtype='int')\n",
    "cntArr = np.zeros(nNodes,dtype='int')\n",
    "\n",
    "for fst,snd in edges:\n",
    "    #edges.append([fst,snd])\n",
    "    available_transitions[fst,cntArr[fst]] = snd\n",
    "    cntArr[fst] += 1\n"
   ]
  },
  {
   "cell_type": "code",
   "execution_count": 3,
   "metadata": {},
   "outputs": [],
   "source": [
    "available_transitions = np.zeros([nNodes,nActions],dtype='int')\n",
    "cntArr = np.zeros(nNodes,dtype='int')\n",
    "\n",
    "for fst,snd in edges:\n",
    "    #edges.append([fst,snd])\n",
    "    available_transitions[fst,cntArr[fst]] = snd\n",
    "    cntArr[fst] += 1\n"
   ]
  },
  {
   "cell_type": "code",
   "execution_count": null,
   "metadata": {},
   "outputs": [],
   "source": []
  },
  {
   "cell_type": "code",
   "execution_count": null,
   "metadata": {},
   "outputs": [],
   "source": []
  },
  {
   "cell_type": "code",
   "execution_count": 4,
   "metadata": {},
   "outputs": [],
   "source": [
    "def get_active_inactive_rects(current_transitions,nStates=9):\n",
    "    \"\"\" Function that gets active and inactive rectangles\"\"\"\n",
    "    rects_active = []; rects_inactive = []\n",
    "\n",
    "    for s in current_transitions:\n",
    "        rects_active.append(pygame.draw.rect(screen,(255,0,0),rect_locs[s]+rect_size))\n",
    "        \n",
    "    for s in range(9):\n",
    "        if s not in current_transitions:\n",
    "            rects_inactive.append(pygame.draw.rect(screen,(255,255,255),rect_locs[s]+rect_size))\n",
    "    return rects_active,rects_inactive"
   ]
  },
  {
   "cell_type": "code",
   "execution_count": 6,
   "metadata": {},
   "outputs": [],
   "source": [
    "import datetime"
   ]
  },
  {
   "cell_type": "code",
   "execution_count": 10,
   "metadata": {},
   "outputs": [
    {
     "data": {
      "text/plain": [
       "'2020/01/22 14_14_48'"
      ]
     },
     "execution_count": 10,
     "metadata": {},
     "output_type": "execute_result"
    }
   ],
   "source": [
    "datetime.datetime.now().strftime('%Y/%m/%d %H_%M_%S')"
   ]
  },
  {
   "cell_type": "code",
   "execution_count": null,
   "metadata": {},
   "outputs": [],
   "source": []
  },
  {
   "cell_type": "code",
   "execution_count": null,
   "metadata": {},
   "outputs": [],
   "source": []
  },
  {
   "cell_type": "code",
   "execution_count": 5,
   "metadata": {},
   "outputs": [
    {
     "name": "stdout",
     "output_type": "stream",
     "text": [
      "[1] 5\n",
      "RANDOM TRANSITION\n",
      "[1] 0\n",
      "[1] 1\n",
      "[1] 0\n",
      "[1] 1\n",
      "RANDOM TRANSITION\n",
      "[1] 2\n",
      "[1] 1\n",
      "[1] 0\n",
      "[1] 1\n",
      "RANDOM TRANSITION\n",
      "[1] 6\n",
      "RANDOM TRANSITION\n",
      "[1] 3\n",
      "RANDOM TRANSITION\n",
      "[1] 7\n",
      "RANDOM TRANSITION\n",
      "[1] 3\n",
      "[1] 4\n",
      "RANDOM TRANSITION\n",
      "[1] 4\n",
      "[1] 6\n",
      "[1] 7\n",
      "[1] 5\n",
      "RANDOM TRANSITION\n",
      "[1] 2\n",
      "[1] 1\n",
      "[1] 3\n",
      "[1] 4\n",
      "[1] 2\n",
      "[1] 1\n",
      "[1] 3\n",
      "RANDOM TRANSITION\n",
      "[1] 0\n",
      "[1] 1\n",
      "[1] 3\n",
      "RANDOM TRANSITION\n",
      "[1] 3\n",
      "RANDOM TRANSITION\n",
      "[1] 4\n",
      "[1] 2\n",
      "[1] 1\n",
      "RANDOM TRANSITION\n",
      "[1] 5\n",
      "RANDOM TRANSITION\n",
      "[1] 4\n",
      "RANDOM TRANSITION\n",
      "[1] 2\n",
      "REW SWITCH\n",
      "[7] 0\n",
      "RANDOM TRANSITION\n",
      "[7] 3\n",
      "RANDOM TRANSITION\n",
      "[7] 3\n",
      "[7] 7\n",
      "[7] 8\n",
      "[7] 6\n",
      "[7] 7\n",
      "[7] 8\n",
      "[7] 6\n",
      "[7] 7\n",
      "RANDOM TRANSITION\n",
      "[7] 1\n",
      "RANDOM TRANSITION\n",
      "[7] 2\n",
      "[7] 0\n",
      "[7] 1\n",
      "[7] 0\n",
      "RANDOM TRANSITION\n",
      "[7] 1\n",
      "[7] 0\n",
      "RANDOM TRANSITION\n",
      "[7] 1\n",
      "[7] 0\n",
      "[7] 3\n",
      "[7] 4\n",
      "[7] 2\n",
      "[7] 1\n",
      "RANDOM TRANSITION\n",
      "[7] 4\n",
      "RANDOM TRANSITION\n",
      "[7] 5\n",
      "[7] 4\n",
      "RANDOM TRANSITION\n",
      "[7] 4\n",
      "RANDOM TRANSITION\n",
      "[7] 4\n",
      "RANDOM TRANSITION\n",
      "[7] 0\n",
      "RANDOM TRANSITION\n",
      "[7] 0\n",
      "RANDOM TRANSITION\n",
      "[7] 6\n",
      "[7] 7\n",
      "[7] 5\n",
      "RANDOM TRANSITION\n",
      "[7] 6\n",
      "[7] 7\n",
      "RANDOM TRANSITION\n",
      "[7] 6\n",
      "[7] 7\n",
      "[7] 5\n",
      "RANDOM TRANSITION\n",
      "[7] 1\n",
      "[7] 3\n",
      "[7] 4\n",
      "[7] 6\n"
     ]
    }
   ],
   "source": [
    "clock = pygame.time.Clock()\n",
    "FPS = 30\n",
    "pygame.init()\n",
    "font = pygame.font.Font(None,32)\n",
    "text = font.render(\"Score: 0\",True,(120,0,0))\n",
    "\n",
    "size = (960, 640)\n",
    "screen = pygame.display.set_mode(size)\n",
    "\n",
    "\n",
    "BLACK = [0,0,0]\n",
    "screen.fill(BLACK)\n",
    "pygame.display.update()\n",
    "\n",
    "rect_locs = [[440,50],\n",
    "             [365,150],\n",
    "             [515,150],\n",
    "             [290,250],\n",
    "             [440,250],\n",
    "             [590,250],\n",
    "             [365,350],\n",
    "             [515,350],\n",
    "             [440,450]]\n",
    "\n",
    "rect_size = [80,80]\n",
    "\n",
    "playing = True\n",
    "\n",
    "\n",
    "start_state = np.random.randint(0,9)\n",
    "\n",
    "state = start_state\n",
    "current_transitions = available_transitions[state]\n",
    "\n",
    "SCORE = 0\n",
    "\n",
    "rewarded_states = [np.random.randint(0,9)]\n",
    "\n",
    "RS_PROB = .01\n",
    "TELEPORT_PROB = .5\n",
    "\n",
    "rects_active,rects_inactive = get_active_inactive_rects(current_transitions,nNodes)\n",
    "while playing:\n",
    "    \n",
    "    for event in pygame.event.get(): \n",
    "        \n",
    "        if event.type == pygame.QUIT:\n",
    "            playing=False\n",
    "        \n",
    "        if event.type == pygame.MOUSEBUTTONDOWN:\n",
    "            pos = pygame.mouse.get_pos()\n",
    "            \n",
    "            collision = any([r_.collidepoint(pos) for r_ in rects_active])\n",
    "            \n",
    "            if collision:\n",
    "                screen.fill(BLACK)\n",
    "                print(rewarded_states,state)\n",
    "                for kk,r_ in enumerate(rects_active):\n",
    "                    if r_.collidepoint(pos):\n",
    "                        state = available_transitions[state,kk]\n",
    "                        \n",
    "                        #with small probability teleport\n",
    "                        if state not in rewarded_states:\n",
    "                            if np.random.rand()<TELEPORT_PROB:\n",
    "                                print(\"RANDOM TRANSITION\")\n",
    "                                state = np.random.permutation([i for i in range(9) if i not in rewarded_states])[0]#np.random.randint(0,9)\n",
    "\n",
    "                        current_transitions = available_transitions[state]\n",
    "\n",
    "\n",
    "\n",
    "                        rects_active,rects_inactive = get_active_inactive_rects(current_transitions,nNodes)\n",
    "\n",
    "\n",
    "                        if state in rewarded_states:\n",
    "                            pygame.draw.rect(screen,(0,0,255),[r_.x,r_.y,r_.width,r_.height])\n",
    "                            SCORE += 5\n",
    "                            text = font.render('Score:' + str(SCORE),True,(120,0,0))\n",
    "                            pygame.display.flip()\n",
    "\n",
    "                        time.sleep(0.1)\n",
    "                #switch reward location probabilistically\n",
    "                if np.random.rand()<RS_PROB:\n",
    "                    print(\"REW SWITCH\")\n",
    "                    rewarded_states = [np.random.randint(0,9)]\n",
    "                    \n",
    "                    \n",
    "            \n",
    "                \n",
    "    screen.blit(text,(120,150))\n",
    "    clock.tick(FPS)\n",
    "    pygame.display.flip()\n",
    "\n",
    "    \n",
    "clock.tick(FPS)\n",
    "#pygame.display.update()\n",
    "#screen.close()\n",
    "pygame.quit()"
   ]
  },
  {
   "cell_type": "code",
   "execution_count": 7,
   "metadata": {},
   "outputs": [
    {
     "data": {
      "text/plain": [
       "[0]"
      ]
     },
     "execution_count": 7,
     "metadata": {},
     "output_type": "execute_result"
    }
   ],
   "source": [
    "rewarded_states"
   ]
  },
  {
   "cell_type": "code",
   "execution_count": 9,
   "metadata": {},
   "outputs": [
    {
     "data": {
      "text/plain": [
       "0.7287361903533262"
      ]
     },
     "execution_count": 9,
     "metadata": {},
     "output_type": "execute_result"
    }
   ],
   "source": [
    "np.random.rand()"
   ]
  },
  {
   "cell_type": "code",
   "execution_count": null,
   "metadata": {},
   "outputs": [],
   "source": []
  },
  {
   "cell_type": "code",
   "execution_count": 6,
   "metadata": {},
   "outputs": [
    {
     "name": "stdout",
     "output_type": "stream",
     "text": [
      "1\n",
      "2\n"
     ]
    }
   ],
   "source": [
    "for s in [1,2]:\n",
    "    print(s)"
   ]
  },
  {
   "cell_type": "code",
   "execution_count": 7,
   "metadata": {},
   "outputs": [
    {
     "data": {
      "text/plain": [
       "590"
      ]
     },
     "execution_count": 7,
     "metadata": {},
     "output_type": "execute_result"
    }
   ],
   "source": [
    "text."
   ]
  },
  {
   "cell_type": "code",
   "execution_count": 5,
   "metadata": {},
   "outputs": [],
   "source": [
    "pygame.quit()"
   ]
  },
  {
   "cell_type": "code",
   "execution_count": null,
   "metadata": {},
   "outputs": [],
   "source": []
  }
 ],
 "metadata": {
  "kernelspec": {
   "display_name": "Python 3",
   "language": "python",
   "name": "python3"
  },
  "language_info": {
   "codemirror_mode": {
    "name": "ipython",
    "version": 3
   },
   "file_extension": ".py",
   "mimetype": "text/x-python",
   "name": "python",
   "nbconvert_exporter": "python",
   "pygments_lexer": "ipython3",
   "version": "3.6.9"
  }
 },
 "nbformat": 4,
 "nbformat_minor": 2
}
