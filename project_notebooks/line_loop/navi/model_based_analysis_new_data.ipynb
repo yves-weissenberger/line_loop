{
 "cells": [
  {
   "cell_type": "markdown",
   "metadata": {},
   "source": [
    "# A tricky thing here is the difference between first visits and multiple visits essentially, because the animals have biases \n",
    "\n",
    "\n",
    "You could quantify this with a likelihood based approach. This would be the cleanest. You can calculate under.\n",
    "\n",
    "In effect you don't need them to be making the correct decision at each point, you need them to be more likely to make the correct decision that when they are following a policy that leads them to the correct reward. This could change the results in either direction\n",
    "\n",
    "You could also quantify this as being between having learned the correct policy and not.\n",
    "\n",
    "## Analysing it more complicatedly\n",
    "\n",
    "\n",
    "There are several ways of calculating this. Could compare this to the marginal distribution of all states. Could compare it to the marginal transition matrix.\n",
    "\n",
    "Ok, so the answer here is complicated. What we therefore need to do is quantify the biases. \n",
    "\n",
    "- Quantify stability of biases within session\n",
    "- Quantify the stability of across session biases\n",
    "- Quantify these conditional on reward location\n",
    "\n",
    "My sense is to compare it to the transition matrix distribution calculated for the reward location that preceeded the trial across the entire session\n",
    "\n",
    "\n",
    "## Unaswered questions\n",
    "\n",
    " - What is the null distribution, when you don't directly calculate fraction correct but calculate it against the empirical transition probabilities.\n",
    " - What do you do about transitions where in states that were rewarded??\n",
    " \n",
    " The null hypothesis is that the data\n",
    " \n",
    " \n",
    "Really need to think carefully about how to rule out that this is driven by one step transitions"
   ]
  },
  {
   "cell_type": "code",
   "execution_count": null,
   "metadata": {},
   "outputs": [],
   "source": [
    "%matplotlib inline\n",
    "import numpy as np\n",
    "import scipy as sp\n",
    "import pandas as pd\n",
    "import matplotlib.pyplot as plt\n",
    "import matplotlib\n",
    "import seaborn\n",
    "import scipy.stats as stt\n",
    "seaborn.set(font_scale=1.5,style='ticks')\n",
    "import os\n",
    "import re\n",
    "import sys\n",
    "import itertools\n",
    "import functools\n",
    "import networkx as nx\n",
    "from datetime import date, timedelta\n",
    "from datetime import datetime\n",
    "\n",
    "sys.path.append(r\"C:\\Users\\yweissenberger\\Documents\\code\\line_loop-master\")\n",
    "sys.path.append(r\"C:\\Users\\yweissenberger\\Documents\\code\\line_loop-master\\packages\")\n",
    "sys.path.append(\"/Users/yves/Documents/Code/line_loop/packages/\")"
   ]
  },
  {
   "cell_type": "code",
   "execution_count": 6,
   "metadata": {},
   "outputs": [],
   "source": [
    "import mouse_poker as mpk"
   ]
  },
  {
   "cell_type": "code",
   "execution_count": 7,
   "metadata": {},
   "outputs": [],
   "source": [
    "#physical position of the pokes. In terms of numbering, the pokes are numbered as follows\n",
    "#(or in some cases the indexing starts from 0 rather than 1)\n",
    "\n",
    "\"\"\"\n",
    "     1\n",
    "   2   3\n",
    " 4   5   6 \n",
    "   7   8\n",
    "     9\n",
    "\"\"\"\n",
    "\n",
    "#physical positions of the pokes, used for drawing the graphs\n",
    "#with nodes and edges. The distances here are to scale with\n",
    "#the real thing.\n",
    "poke_pos = [ [149,0],\n",
    "         [68,19],[231,19],\n",
    "       [0,62],[149,62],[298,62],\n",
    "         [68,105],[231,105],\n",
    "              [149,124]]"
   ]
  },
  {
   "cell_type": "code",
   "execution_count": 8,
   "metadata": {},
   "outputs": [],
   "source": [
    "from mouse_poker.navi import *"
   ]
  },
  {
   "cell_type": "markdown",
   "metadata": {},
   "source": [
    "# Helper functions"
   ]
  },
  {
   "cell_type": "code",
   "execution_count": 36,
   "metadata": {},
   "outputs": [],
   "source": [
    "def get_st_dist(state_seq,pk_ctr,rew_loc):\n",
    "    \"\"\" get distances between current and next state and reward during navigation on the line \"\"\"\n",
    "    \n",
    "    d0 = np.abs(state_seq[pk_ctr]-rew_loc)\n",
    "    d1 = np.abs(state_seq[pk_ctr+1]-rew_loc)\n",
    "    st_dist = state_seq[pk_ctr]-state_seq[pk_ctr+1]\n",
    "    \n",
    "    return d0,d1,st_dist\n",
    "    "
   ]
  },
  {
   "cell_type": "code",
   "execution_count": 688,
   "metadata": {},
   "outputs": [],
   "source": [
    "def policy_changed_with_rew_loc(state_seq,rew_loc,prev_diff_rew_loc):\n",
    "    \n",
    "    if prev_diff_rew_loc!=None:\n",
    "        same_as_prev_pol = (((state_seq[pk_ctr]-rew_loc)>0)==           #direction to reward with location\n",
    "                            ((state_seq[pk_ctr]-prev_diff_rew_loc)>0))  #direction to reward with prev location\n",
    "    else:\n",
    "        same_as_prev_pol = False\n",
    "    \n",
    "    if state_seq[pk_ctr]==prev_diff_rew_loc:\n",
    "        same_as_prev_pol = True\n",
    "    return same_as_prev_pol"
   ]
  },
  {
   "cell_type": "code",
   "execution_count": null,
   "metadata": {},
   "outputs": [],
   "source": []
  },
  {
   "cell_type": "markdown",
   "metadata": {},
   "source": [
    "# Load the dataz"
   ]
  },
  {
   "cell_type": "code",
   "execution_count": 689,
   "metadata": {},
   "outputs": [
    {
     "ename": "IndexError",
     "evalue": "list index out of range",
     "output_type": "error",
     "traceback": [
      "\u001b[0;31m---------------------------------------------------------------------------\u001b[0m",
      "\u001b[0;31mIndexError\u001b[0m                                Traceback (most recent call last)",
      "\u001b[0;32m<ipython-input-689-b62b5c24a4fd>\u001b[0m in \u001b[0;36m<module>\u001b[0;34m\u001b[0m\n\u001b[1;32m      5\u001b[0m \u001b[0mlines\u001b[0m \u001b[0;34m=\u001b[0m\u001b[0mf\u001b[0m\u001b[0;34m.\u001b[0m\u001b[0mreadlines\u001b[0m\u001b[0;34m(\u001b[0m\u001b[0;34m)\u001b[0m\u001b[0;34m\u001b[0m\u001b[0;34m\u001b[0m\u001b[0m\n\u001b[1;32m      6\u001b[0m \u001b[0mexperiment_name\u001b[0m\u001b[0;34m,\u001b[0m \u001b[0mtask_name\u001b[0m\u001b[0;34m,\u001b[0m \u001b[0msubject_id\u001b[0m\u001b[0;34m,\u001b[0m \u001b[0mtask_nr\u001b[0m\u001b[0;34m,\u001b[0m \u001b[0mgraph\u001b[0m\u001b[0;34m,\u001b[0m\u001b[0mlineloop\u001b[0m\u001b[0;34m,\u001b[0m\u001b[0mdate\u001b[0m\u001b[0;34m,\u001b[0m\u001b[0mtest\u001b[0m\u001b[0;34m,\u001b[0m\u001b[0m_\u001b[0m \u001b[0;34m=\u001b[0m \u001b[0mmpk\u001b[0m\u001b[0;34m.\u001b[0m\u001b[0mload\u001b[0m\u001b[0;34m.\u001b[0m\u001b[0mget_metadata\u001b[0m\u001b[0;34m(\u001b[0m\u001b[0mlines\u001b[0m\u001b[0;34m)\u001b[0m\u001b[0;34m\u001b[0m\u001b[0;34m\u001b[0m\u001b[0m\n\u001b[0;32m----> 7\u001b[0;31m \u001b[0mdat_dict\u001b[0m\u001b[0;34m,\u001b[0m\u001b[0mevents\u001b[0m\u001b[0;34m,\u001b[0m\u001b[0mevent_times\u001b[0m\u001b[0;34m,\u001b[0m\u001b[0mnRews\u001b[0m\u001b[0;34m,\u001b[0m\u001b[0m_\u001b[0m \u001b[0;34m=\u001b[0m \u001b[0mmpk\u001b[0m\u001b[0;34m.\u001b[0m\u001b[0mload\u001b[0m\u001b[0;34m.\u001b[0m\u001b[0mparse_data\u001b[0m\u001b[0;34m(\u001b[0m\u001b[0mlines\u001b[0m\u001b[0;34m,\u001b[0m\u001b[0mexperiment_name\u001b[0m\u001b[0;34m)\u001b[0m\u001b[0;34m\u001b[0m\u001b[0;34m\u001b[0m\u001b[0m\n\u001b[0m\u001b[1;32m      8\u001b[0m \u001b[0;34m\u001b[0m\u001b[0m\n\u001b[1;32m      9\u001b[0m \u001b[0mprint\u001b[0m\u001b[0;34m(\u001b[0m\u001b[0;34m\"rewards_received: {:d}\"\u001b[0m\u001b[0;34m.\u001b[0m\u001b[0mformat\u001b[0m\u001b[0;34m(\u001b[0m\u001b[0mnRews\u001b[0m\u001b[0;34m)\u001b[0m\u001b[0;34m)\u001b[0m\u001b[0;34m\u001b[0m\u001b[0;34m\u001b[0m\u001b[0m\n",
      "\u001b[0;32m~/Documents/Code/line_loop/packages/mouse_poker/load.py\u001b[0m in \u001b[0;36mparse_data\u001b[0;34m(lines, experiment_name)\u001b[0m\n\u001b[1;32m    249\u001b[0m \u001b[0;34m\u001b[0m\u001b[0m\n\u001b[1;32m    250\u001b[0m     \u001b[0mtext2\u001b[0m \u001b[0;34m=\u001b[0m \u001b[0;34m''\u001b[0m\u001b[0;34m.\u001b[0m\u001b[0mjoin\u001b[0m\u001b[0;34m(\u001b[0m\u001b[0mlines\u001b[0m\u001b[0;34m)\u001b[0m\u001b[0;34m\u001b[0m\u001b[0;34m\u001b[0m\u001b[0m\n\u001b[0;32m--> 251\u001b[0;31m     \u001b[0mstate_dict0\u001b[0m \u001b[0;34m=\u001b[0m \u001b[0meval\u001b[0m\u001b[0;34m(\u001b[0m\u001b[0mre\u001b[0m\u001b[0;34m.\u001b[0m\u001b[0mfindall\u001b[0m\u001b[0;34m(\u001b[0m\u001b[0;34m'({.*)\\n'\u001b[0m\u001b[0;34m,\u001b[0m\u001b[0mtext2\u001b[0m\u001b[0;34m)\u001b[0m\u001b[0;34m[\u001b[0m\u001b[0;36m0\u001b[0m\u001b[0;34m]\u001b[0m\u001b[0;34m)\u001b[0m\u001b[0;34m\u001b[0m\u001b[0;34m\u001b[0m\u001b[0m\n\u001b[0m\u001b[1;32m    252\u001b[0m     \u001b[0mstate_dict\u001b[0m \u001b[0;34m=\u001b[0m \u001b[0mdict\u001b[0m\u001b[0;34m(\u001b[0m\u001b[0;34m[\u001b[0m\u001b[0;34m(\u001b[0m\u001b[0mv\u001b[0m\u001b[0;34m,\u001b[0m\u001b[0mk\u001b[0m\u001b[0;34m)\u001b[0m \u001b[0;32mfor\u001b[0m \u001b[0mk\u001b[0m\u001b[0;34m,\u001b[0m\u001b[0mv\u001b[0m \u001b[0;32min\u001b[0m \u001b[0mstate_dict0\u001b[0m\u001b[0;34m.\u001b[0m\u001b[0mitems\u001b[0m\u001b[0;34m(\u001b[0m\u001b[0;34m)\u001b[0m\u001b[0;34m]\u001b[0m\u001b[0;34m)\u001b[0m\u001b[0;34m\u001b[0m\u001b[0;34m\u001b[0m\u001b[0m\n\u001b[1;32m    253\u001b[0m     \u001b[0mevent_dict\u001b[0m \u001b[0;34m=\u001b[0m \u001b[0meval\u001b[0m\u001b[0;34m(\u001b[0m\u001b[0mre\u001b[0m\u001b[0;34m.\u001b[0m\u001b[0mfindall\u001b[0m\u001b[0;34m(\u001b[0m\u001b[0;34m'({.*)\\n'\u001b[0m\u001b[0;34m,\u001b[0m\u001b[0mtext2\u001b[0m\u001b[0;34m)\u001b[0m\u001b[0;34m[\u001b[0m\u001b[0;36m1\u001b[0m\u001b[0;34m]\u001b[0m\u001b[0;34m)\u001b[0m\u001b[0;34m\u001b[0m\u001b[0;34m\u001b[0m\u001b[0m\n",
      "\u001b[0;31mIndexError\u001b[0m: list index out of range"
     ]
    }
   ],
   "source": [
    "\n",
    "#f = open(\"/Users/yves/Documents/beh_dat_new_room/line_loop_batch_3NAVI/'460175_10'-2021-03-15-145534.txt\",'r')\n",
    "#f = open(\"/Users/yves/Documents/beh_dat_new_room/line_loop_batch_3NAVI/'460175_10'-2021-03-01-110337.txt\",'r')\n",
    "#f = open(\"/Users/yves/Documents/beh_dat_new_room/line_loop_batch_3NAVI/'456675_10'-2021-02-23-142909.txt\",'r')\n",
    "\n",
    "lines =f.readlines()\n",
    "experiment_name, task_name, subject_id, task_nr, graph,lineloop,date,test,_ = mpk.load.get_metadata(lines)\n",
    "dat_dict,events,event_times,nRews,_ = mpk.load.parse_data(lines,experiment_name)\n",
    "\n",
    "print(\"rewards_received: {:d}\".format(nRews))\n",
    "print('task_nr:{:.0f}'.format(int(task_nr)))"
   ]
  },
  {
   "cell_type": "code",
   "execution_count": 690,
   "metadata": {},
   "outputs": [],
   "source": [
    "ROOT = '/Users/yves/Documents/beh_dat_new_room/line_loop_batch_4_RUNNAVI/'\n",
    "allFs = [os.path.join(ROOT,i) for i in os.listdir(ROOT)]\n",
    "allFs = [i for i in allFs if not os.path.isdir(i)]"
   ]
  },
  {
   "cell_type": "code",
   "execution_count": 691,
   "metadata": {},
   "outputs": [],
   "source": [
    "#this extracts the core information from the text file. This is key to work with\n",
    "state_seq, rew_list, port_seq,forced_seq = extract_navi_dat(lines)\n",
    "\n",
    "#this runs the main analysis that we have done so far.\n",
    "#perf,perf_ctr = get_performance(state_seq,rew_list,port_seq,forced_seq,rew_indices,map_poke_to_state,minNrew=0)\n",
    "#fc = perf/perf_ctr  #calculate fraction correct at each point\n",
    "#print(np.nanmean(fc))"
   ]
  },
  {
   "cell_type": "code",
   "execution_count": 692,
   "metadata": {},
   "outputs": [
    {
     "name": "stdout",
     "output_type": "stream",
     "text": [
      "1\n"
     ]
    }
   ],
   "source": [
    "f = open(allFs[2],'r')\n",
    "lines =f.readlines()\n",
    "state_seq, rew_list, port_seq,forced_seq = extract_navi_dat(lines)\n",
    "print(sum(rew_list))"
   ]
  },
  {
   "cell_type": "code",
   "execution_count": 693,
   "metadata": {},
   "outputs": [
    {
     "name": "stdout",
     "output_type": "stream",
     "text": [
      "[False, True, False, True, True] False [] 5\n",
      "[False, True, False, True, True] False [] 5\n",
      "[False, True, False, True, True] False [] 5\n",
      "[False, True, False, True, True] False [] 5\n",
      "[False, True, False, True, True] False [] 5\n",
      "[False, True, False, True, True] False [] 5\n",
      "[False, True, False, True, True] False [] 5\n"
     ]
    }
   ],
   "source": [
    "prev_rew_loc = None  #this is the reward location that was last updated\n",
    "direction = None\n",
    "perf = 0\n",
    "trial_ctr = 0\n",
    "has_updated = False\n",
    "\n",
    "\n",
    "rewarded_pokes = np.concatenate([[0],np.where(rew_list)[0]])\n",
    "trial_starts = rewarded_pokes[:-1]\n",
    "trial_ends = rewarded_pokes[1:]\n",
    "rewarded_states = np.concatenate([np.array(state_seq)[trial_starts]])\n",
    "same_as_prev_pol = True\n",
    "exp_dirs = []\n",
    "verbose = True\n",
    "prev_rew_loc = None\n",
    "\n",
    "#this is the start of a \n",
    "for rew_ctr,(st,nd) in enumerate(zip(trial_starts,trial_ends)):\n",
    "\n",
    "    rew_loc = state_seq[nd]  #this is state that is rewarded\n",
    "    #print(state_seq[nd])  #this is the first state the animals enter into\n",
    "    prev_direction = direction\n",
    "    \n",
    "    if rew_loc!=prev_rew_loc:\n",
    "        #print(\"HERE\")\n",
    "        direction = None\n",
    "        has_updated = False\n",
    "        prev_direction = None\n",
    "        exp_dirs = [] #experienced directions\n",
    "        prev_diff_rew_loc = prev_rew_loc\n",
    "    \n",
    "    \n",
    "    direction = (rew_loc - state_seq[st+1])>0 #which side are you approaching the reward from\n",
    "    hasbeenat = []\n",
    "    for pk_ctr in range(st+1,nd):  #for each poke between two rewards  \n",
    "        \n",
    "        d0,d1,st_dist = get_st_dist(state_seq,pk_ctr,rew_loc)\n",
    "        free_choice_trial = forced_seq[pk_ctr]==False\n",
    "        state = state_seq[pk_ctr]\n",
    "        same_as_prev_pol = policy_changed_with_rew_loc(state_seq,rew_loc,prev_diff_rew_loc)\n",
    "        \n",
    "        update_condition_list = [free_choice_trial,                 #NOT a forced trial\n",
    "                                 #prev_diff_rew_loc is not None,    #hash-out if want to look include very first block in session\n",
    "                                 not same_as_prev_pol,              #ensure that this a policy change is required to make correct decision\n",
    "                                 prev_direction is not None,        #make sure NOT looking at first run-to-rew after a block transition (when rew_loc is unknown)\n",
    "                                 direction not in exp_dirs,         #hasn't experienced this direction in this block yet\n",
    "                                 #not has_updated,                  #toggle if only look at first relevant POKE in block\n",
    "                                 state not in hasbeenat\n",
    "                                ]\n",
    "        print(update_condition_list,direction,exp_dirs,rew_loc)\n",
    "        if all(update_condition_list):\n",
    "            if verbose:\n",
    "                print((\"!\"*80 + \"\\n\")*3)\n",
    "\n",
    "\n",
    "            perf += (d1<d0)\n",
    "            trial_ctr += 1\n",
    "\n",
    "            has_updated = True  #if decisions from this block have led to updated\n",
    "\n",
    "        hasbeenat.append(state)\n",
    "    if direction not in exp_dirs:\n",
    "        exp_dirs.append(direction)\n",
    "    prev_rew_loc = rew_loc\n"
   ]
  },
  {
   "cell_type": "code",
   "execution_count": 694,
   "metadata": {},
   "outputs": [
    {
     "data": {
      "text/plain": [
       "0"
      ]
     },
     "execution_count": 694,
     "metadata": {},
     "output_type": "execute_result"
    }
   ],
   "source": [
    "perf"
   ]
  },
  {
   "cell_type": "code",
   "execution_count": 939,
   "metadata": {},
   "outputs": [],
   "source": [
    "#ROOT = '/Users/yves/Documents/beh_dat_new_room/line_loop_batch_4_RUNNAVI/'\n",
    "\n",
    "#ROOT = '/Users/yves/Documents/behavior_data/line_loop_cohort_1/line_loop_batch_4_RUNNAVI/'\n",
    "ROOT = '/Users/yves/Documents/beh_dat_new_room/line_loop_batch_3NAVI/'\n",
    "#ROOT = '/Users/yves/Documents/beh_dat_new_room/line_loop_batch_3NAVI_toLOOP//'\n",
    "\n",
    "allFs = [os.path.join(ROOT,i) for i in os.listdir(ROOT)]\n",
    "allFs = [i for i in allFs if not os.path.isdir(i)]"
   ]
  },
  {
   "cell_type": "code",
   "execution_count": 933,
   "metadata": {},
   "outputs": [],
   "source": [
    "#allFs = [i for i in allFs if '460175' in i]\n",
    "allFs = [i for i in allFs if '456675' in i]"
   ]
  },
  {
   "cell_type": "markdown",
   "metadata": {},
   "source": [
    "# Batch Version "
   ]
  },
  {
   "cell_type": "markdown",
   "metadata": {},
   "source": [
    "Checks that I have run on this code:\n",
    "\n",
    "- Ensure that distances between states within a trial is always equal to 1"
   ]
  },
  {
   "cell_type": "code",
   "execution_count": null,
   "metadata": {},
   "outputs": [],
   "source": []
  },
  {
   "cell_type": "code",
   "execution_count": 956,
   "metadata": {
    "scrolled": true
   },
   "outputs": [
    {
     "name": "stdout",
     "output_type": "stream",
     "text": [
      "!!!!!!!!!!!!!!!!!!!!!!!!!!!!!!!!!!!!!!!!!!!!!!!!!!!!!!!!!!!!!!!!!!!!!!!!!!!!!!!!\n",
      "!!!!!!!!!!!!!!!!!!!!!!!!!!!!!!!!!!!!!!!!!!!!!!!!!!!!!!!!!!!!!!!!!!!!!!!!!!!!!!!!\n",
      "!!!!!!!!!!!!!!!!!!!!!!!!!!!!!!!!!!!!!!!!!!!!!!!!!!!!!!!!!!!!!!!!!!!!!!!!!!!!!!!!\n",
      "\n",
      "state:7,nextstate:6,rew_loc:6,correct:1\n",
      "8 '460175_10'-2021-03-15-145534.txt\n",
      "[6, 7, 6]\n",
      "\n",
      "\n",
      "!!!!!!!!!!!!!!!!!!!!!!!!!!!!!!!!!!!!!!!!!!!!!!!!!!!!!!!!!!!!!!!!!!!!!!!!!!!!!!!!\n",
      "!!!!!!!!!!!!!!!!!!!!!!!!!!!!!!!!!!!!!!!!!!!!!!!!!!!!!!!!!!!!!!!!!!!!!!!!!!!!!!!!\n",
      "!!!!!!!!!!!!!!!!!!!!!!!!!!!!!!!!!!!!!!!!!!!!!!!!!!!!!!!!!!!!!!!!!!!!!!!!!!!!!!!!\n",
      "\n",
      "state:4,nextstate:5,rew_loc:5,correct:1\n",
      "4 '456675_10'-2021-03-15-145534.txt\n",
      "[4, 5]\n",
      "\n",
      "\n",
      "!!!!!!!!!!!!!!!!!!!!!!!!!!!!!!!!!!!!!!!!!!!!!!!!!!!!!!!!!!!!!!!!!!!!!!!!!!!!!!!!\n",
      "!!!!!!!!!!!!!!!!!!!!!!!!!!!!!!!!!!!!!!!!!!!!!!!!!!!!!!!!!!!!!!!!!!!!!!!!!!!!!!!!\n",
      "!!!!!!!!!!!!!!!!!!!!!!!!!!!!!!!!!!!!!!!!!!!!!!!!!!!!!!!!!!!!!!!!!!!!!!!!!!!!!!!!\n",
      "\n",
      "state:7,nextstate:6,rew_loc:5,correct:1\n",
      "8 '460175_10'-2021-02-26-152252.txt\n",
      "[7, 6, 5]\n",
      "\n",
      "\n",
      "!!!!!!!!!!!!!!!!!!!!!!!!!!!!!!!!!!!!!!!!!!!!!!!!!!!!!!!!!!!!!!!!!!!!!!!!!!!!!!!!\n",
      "!!!!!!!!!!!!!!!!!!!!!!!!!!!!!!!!!!!!!!!!!!!!!!!!!!!!!!!!!!!!!!!!!!!!!!!!!!!!!!!!\n",
      "!!!!!!!!!!!!!!!!!!!!!!!!!!!!!!!!!!!!!!!!!!!!!!!!!!!!!!!!!!!!!!!!!!!!!!!!!!!!!!!!\n",
      "\n",
      "state:6,nextstate:5,rew_loc:5,correct:1\n",
      "9 '460175_10'-2021-02-26-152252.txt\n",
      "[7, 6, 5]\n",
      "\n",
      "\n",
      "!!!!!!!!!!!!!!!!!!!!!!!!!!!!!!!!!!!!!!!!!!!!!!!!!!!!!!!!!!!!!!!!!!!!!!!!!!!!!!!!\n",
      "!!!!!!!!!!!!!!!!!!!!!!!!!!!!!!!!!!!!!!!!!!!!!!!!!!!!!!!!!!!!!!!!!!!!!!!!!!!!!!!!\n",
      "!!!!!!!!!!!!!!!!!!!!!!!!!!!!!!!!!!!!!!!!!!!!!!!!!!!!!!!!!!!!!!!!!!!!!!!!!!!!!!!!\n",
      "\n",
      "state:7,nextstate:6,rew_loc:5,correct:1\n",
      "11 '460175_10'-2021-03-02-132053.txt\n",
      "[7, 6, 5]\n",
      "\n",
      "\n",
      "!!!!!!!!!!!!!!!!!!!!!!!!!!!!!!!!!!!!!!!!!!!!!!!!!!!!!!!!!!!!!!!!!!!!!!!!!!!!!!!!\n",
      "!!!!!!!!!!!!!!!!!!!!!!!!!!!!!!!!!!!!!!!!!!!!!!!!!!!!!!!!!!!!!!!!!!!!!!!!!!!!!!!!\n",
      "!!!!!!!!!!!!!!!!!!!!!!!!!!!!!!!!!!!!!!!!!!!!!!!!!!!!!!!!!!!!!!!!!!!!!!!!!!!!!!!!\n",
      "\n",
      "state:6,nextstate:5,rew_loc:5,correct:1\n",
      "12 '460175_10'-2021-03-02-132053.txt\n",
      "[7, 6, 5]\n",
      "\n",
      "\n",
      "!!!!!!!!!!!!!!!!!!!!!!!!!!!!!!!!!!!!!!!!!!!!!!!!!!!!!!!!!!!!!!!!!!!!!!!!!!!!!!!!\n",
      "!!!!!!!!!!!!!!!!!!!!!!!!!!!!!!!!!!!!!!!!!!!!!!!!!!!!!!!!!!!!!!!!!!!!!!!!!!!!!!!!\n",
      "!!!!!!!!!!!!!!!!!!!!!!!!!!!!!!!!!!!!!!!!!!!!!!!!!!!!!!!!!!!!!!!!!!!!!!!!!!!!!!!!\n",
      "\n",
      "state:5,nextstate:6,rew_loc:3,correct:0\n",
      "7 '456675_10'-2021-02-25-141237.txt\n",
      "[5, 6, 5, 4, 3]\n",
      "\n",
      "\n",
      "!!!!!!!!!!!!!!!!!!!!!!!!!!!!!!!!!!!!!!!!!!!!!!!!!!!!!!!!!!!!!!!!!!!!!!!!!!!!!!!!\n",
      "!!!!!!!!!!!!!!!!!!!!!!!!!!!!!!!!!!!!!!!!!!!!!!!!!!!!!!!!!!!!!!!!!!!!!!!!!!!!!!!!\n",
      "!!!!!!!!!!!!!!!!!!!!!!!!!!!!!!!!!!!!!!!!!!!!!!!!!!!!!!!!!!!!!!!!!!!!!!!!!!!!!!!!\n",
      "\n",
      "state:5,nextstate:4,rew_loc:3,correct:1\n",
      "9 '456675_10'-2021-02-25-141237.txt\n",
      "[5, 6, 5, 4, 3]\n",
      "\n",
      "\n",
      "!!!!!!!!!!!!!!!!!!!!!!!!!!!!!!!!!!!!!!!!!!!!!!!!!!!!!!!!!!!!!!!!!!!!!!!!!!!!!!!!\n",
      "!!!!!!!!!!!!!!!!!!!!!!!!!!!!!!!!!!!!!!!!!!!!!!!!!!!!!!!!!!!!!!!!!!!!!!!!!!!!!!!!\n",
      "!!!!!!!!!!!!!!!!!!!!!!!!!!!!!!!!!!!!!!!!!!!!!!!!!!!!!!!!!!!!!!!!!!!!!!!!!!!!!!!!\n",
      "\n",
      "state:4,nextstate:3,rew_loc:3,correct:1\n",
      "10 '456675_10'-2021-02-25-141237.txt\n",
      "[5, 6, 5, 4, 3]\n",
      "\n",
      "\n",
      "!!!!!!!!!!!!!!!!!!!!!!!!!!!!!!!!!!!!!!!!!!!!!!!!!!!!!!!!!!!!!!!!!!!!!!!!!!!!!!!!\n",
      "!!!!!!!!!!!!!!!!!!!!!!!!!!!!!!!!!!!!!!!!!!!!!!!!!!!!!!!!!!!!!!!!!!!!!!!!!!!!!!!!\n",
      "!!!!!!!!!!!!!!!!!!!!!!!!!!!!!!!!!!!!!!!!!!!!!!!!!!!!!!!!!!!!!!!!!!!!!!!!!!!!!!!!\n",
      "\n",
      "state:4,nextstate:5,rew_loc:5,correct:1\n",
      "7 '456675_10'-2021-03-15-143847.txt\n",
      "[5, 4, 5]\n",
      "\n",
      "\n",
      "!!!!!!!!!!!!!!!!!!!!!!!!!!!!!!!!!!!!!!!!!!!!!!!!!!!!!!!!!!!!!!!!!!!!!!!!!!!!!!!!\n",
      "!!!!!!!!!!!!!!!!!!!!!!!!!!!!!!!!!!!!!!!!!!!!!!!!!!!!!!!!!!!!!!!!!!!!!!!!!!!!!!!!\n",
      "!!!!!!!!!!!!!!!!!!!!!!!!!!!!!!!!!!!!!!!!!!!!!!!!!!!!!!!!!!!!!!!!!!!!!!!!!!!!!!!!\n",
      "\n",
      "state:6,nextstate:5,rew_loc:4,correct:1\n",
      "3 '456675_10'-2021-03-01-141104.txt\n",
      "[6, 5, 4]\n",
      "\n",
      "\n",
      "!!!!!!!!!!!!!!!!!!!!!!!!!!!!!!!!!!!!!!!!!!!!!!!!!!!!!!!!!!!!!!!!!!!!!!!!!!!!!!!!\n",
      "!!!!!!!!!!!!!!!!!!!!!!!!!!!!!!!!!!!!!!!!!!!!!!!!!!!!!!!!!!!!!!!!!!!!!!!!!!!!!!!!\n",
      "!!!!!!!!!!!!!!!!!!!!!!!!!!!!!!!!!!!!!!!!!!!!!!!!!!!!!!!!!!!!!!!!!!!!!!!!!!!!!!!!\n",
      "\n",
      "state:5,nextstate:4,rew_loc:4,correct:1\n",
      "4 '456675_10'-2021-03-01-141104.txt\n",
      "[6, 5, 4]\n",
      "\n",
      "\n",
      "!!!!!!!!!!!!!!!!!!!!!!!!!!!!!!!!!!!!!!!!!!!!!!!!!!!!!!!!!!!!!!!!!!!!!!!!!!!!!!!!\n",
      "!!!!!!!!!!!!!!!!!!!!!!!!!!!!!!!!!!!!!!!!!!!!!!!!!!!!!!!!!!!!!!!!!!!!!!!!!!!!!!!!\n",
      "!!!!!!!!!!!!!!!!!!!!!!!!!!!!!!!!!!!!!!!!!!!!!!!!!!!!!!!!!!!!!!!!!!!!!!!!!!!!!!!!\n",
      "\n",
      "state:8,nextstate:7,rew_loc:6,correct:1\n",
      "16 '460175_10'-2021-02-24-104759.txt\n",
      "[8, 7, 8, 7, 8, 7, 8, 7, 8, 7, 8, 7, 6]\n",
      "\n",
      "\n",
      "!!!!!!!!!!!!!!!!!!!!!!!!!!!!!!!!!!!!!!!!!!!!!!!!!!!!!!!!!!!!!!!!!!!!!!!!!!!!!!!!\n",
      "!!!!!!!!!!!!!!!!!!!!!!!!!!!!!!!!!!!!!!!!!!!!!!!!!!!!!!!!!!!!!!!!!!!!!!!!!!!!!!!!\n",
      "!!!!!!!!!!!!!!!!!!!!!!!!!!!!!!!!!!!!!!!!!!!!!!!!!!!!!!!!!!!!!!!!!!!!!!!!!!!!!!!!\n",
      "\n",
      "state:7,nextstate:8,rew_loc:6,correct:0\n",
      "17 '460175_10'-2021-02-24-104759.txt\n",
      "[8, 7, 8, 7, 8, 7, 8, 7, 8, 7, 8, 7, 6]\n",
      "\n",
      "\n",
      "!!!!!!!!!!!!!!!!!!!!!!!!!!!!!!!!!!!!!!!!!!!!!!!!!!!!!!!!!!!!!!!!!!!!!!!!!!!!!!!!\n",
      "!!!!!!!!!!!!!!!!!!!!!!!!!!!!!!!!!!!!!!!!!!!!!!!!!!!!!!!!!!!!!!!!!!!!!!!!!!!!!!!!\n",
      "!!!!!!!!!!!!!!!!!!!!!!!!!!!!!!!!!!!!!!!!!!!!!!!!!!!!!!!!!!!!!!!!!!!!!!!!!!!!!!!!\n",
      "\n",
      "state:7,nextstate:8,rew_loc:6,correct:0\n",
      "19 '460175_10'-2021-02-24-104759.txt\n",
      "[8, 7, 8, 7, 8, 7, 8, 7, 8, 7, 8, 7, 6]\n",
      "\n",
      "\n",
      "!!!!!!!!!!!!!!!!!!!!!!!!!!!!!!!!!!!!!!!!!!!!!!!!!!!!!!!!!!!!!!!!!!!!!!!!!!!!!!!!\n",
      "!!!!!!!!!!!!!!!!!!!!!!!!!!!!!!!!!!!!!!!!!!!!!!!!!!!!!!!!!!!!!!!!!!!!!!!!!!!!!!!!\n",
      "!!!!!!!!!!!!!!!!!!!!!!!!!!!!!!!!!!!!!!!!!!!!!!!!!!!!!!!!!!!!!!!!!!!!!!!!!!!!!!!!\n",
      "\n",
      "state:7,nextstate:8,rew_loc:6,correct:0\n",
      "21 '460175_10'-2021-02-24-104759.txt\n",
      "[8, 7, 8, 7, 8, 7, 8, 7, 8, 7, 8, 7, 6]\n",
      "\n",
      "\n",
      "!!!!!!!!!!!!!!!!!!!!!!!!!!!!!!!!!!!!!!!!!!!!!!!!!!!!!!!!!!!!!!!!!!!!!!!!!!!!!!!!\n",
      "!!!!!!!!!!!!!!!!!!!!!!!!!!!!!!!!!!!!!!!!!!!!!!!!!!!!!!!!!!!!!!!!!!!!!!!!!!!!!!!!\n",
      "!!!!!!!!!!!!!!!!!!!!!!!!!!!!!!!!!!!!!!!!!!!!!!!!!!!!!!!!!!!!!!!!!!!!!!!!!!!!!!!!\n",
      "\n",
      "state:7,nextstate:8,rew_loc:6,correct:0\n",
      "23 '460175_10'-2021-02-24-104759.txt\n",
      "[8, 7, 8, 7, 8, 7, 8, 7, 8, 7, 8, 7, 6]\n",
      "\n",
      "\n",
      "!!!!!!!!!!!!!!!!!!!!!!!!!!!!!!!!!!!!!!!!!!!!!!!!!!!!!!!!!!!!!!!!!!!!!!!!!!!!!!!!\n",
      "!!!!!!!!!!!!!!!!!!!!!!!!!!!!!!!!!!!!!!!!!!!!!!!!!!!!!!!!!!!!!!!!!!!!!!!!!!!!!!!!\n",
      "!!!!!!!!!!!!!!!!!!!!!!!!!!!!!!!!!!!!!!!!!!!!!!!!!!!!!!!!!!!!!!!!!!!!!!!!!!!!!!!!\n",
      "\n",
      "state:7,nextstate:8,rew_loc:6,correct:0\n",
      "25 '460175_10'-2021-02-24-104759.txt\n",
      "[8, 7, 8, 7, 8, 7, 8, 7, 8, 7, 8, 7, 6]\n",
      "\n",
      "\n",
      "!!!!!!!!!!!!!!!!!!!!!!!!!!!!!!!!!!!!!!!!!!!!!!!!!!!!!!!!!!!!!!!!!!!!!!!!!!!!!!!!\n",
      "!!!!!!!!!!!!!!!!!!!!!!!!!!!!!!!!!!!!!!!!!!!!!!!!!!!!!!!!!!!!!!!!!!!!!!!!!!!!!!!!\n",
      "!!!!!!!!!!!!!!!!!!!!!!!!!!!!!!!!!!!!!!!!!!!!!!!!!!!!!!!!!!!!!!!!!!!!!!!!!!!!!!!!\n",
      "\n",
      "state:8,nextstate:7,rew_loc:6,correct:1\n",
      "13 '460175_10'-2021-02-25-110423.txt\n",
      "[8, 7, 8, 7, 8, 7, 8, 7, 6]\n",
      "\n",
      "\n",
      "!!!!!!!!!!!!!!!!!!!!!!!!!!!!!!!!!!!!!!!!!!!!!!!!!!!!!!!!!!!!!!!!!!!!!!!!!!!!!!!!\n",
      "!!!!!!!!!!!!!!!!!!!!!!!!!!!!!!!!!!!!!!!!!!!!!!!!!!!!!!!!!!!!!!!!!!!!!!!!!!!!!!!!\n",
      "!!!!!!!!!!!!!!!!!!!!!!!!!!!!!!!!!!!!!!!!!!!!!!!!!!!!!!!!!!!!!!!!!!!!!!!!!!!!!!!!\n",
      "\n",
      "state:7,nextstate:8,rew_loc:6,correct:0\n",
      "14 '460175_10'-2021-02-25-110423.txt\n",
      "[8, 7, 8, 7, 8, 7, 8, 7, 6]\n",
      "\n",
      "\n",
      "!!!!!!!!!!!!!!!!!!!!!!!!!!!!!!!!!!!!!!!!!!!!!!!!!!!!!!!!!!!!!!!!!!!!!!!!!!!!!!!!\n",
      "!!!!!!!!!!!!!!!!!!!!!!!!!!!!!!!!!!!!!!!!!!!!!!!!!!!!!!!!!!!!!!!!!!!!!!!!!!!!!!!!\n",
      "!!!!!!!!!!!!!!!!!!!!!!!!!!!!!!!!!!!!!!!!!!!!!!!!!!!!!!!!!!!!!!!!!!!!!!!!!!!!!!!!\n",
      "\n",
      "state:7,nextstate:8,rew_loc:6,correct:0\n",
      "16 '460175_10'-2021-02-25-110423.txt\n",
      "[8, 7, 8, 7, 8, 7, 8, 7, 6]\n",
      "\n",
      "\n",
      "!!!!!!!!!!!!!!!!!!!!!!!!!!!!!!!!!!!!!!!!!!!!!!!!!!!!!!!!!!!!!!!!!!!!!!!!!!!!!!!!\n",
      "!!!!!!!!!!!!!!!!!!!!!!!!!!!!!!!!!!!!!!!!!!!!!!!!!!!!!!!!!!!!!!!!!!!!!!!!!!!!!!!!\n",
      "!!!!!!!!!!!!!!!!!!!!!!!!!!!!!!!!!!!!!!!!!!!!!!!!!!!!!!!!!!!!!!!!!!!!!!!!!!!!!!!!\n",
      "\n",
      "state:7,nextstate:8,rew_loc:6,correct:0\n",
      "18 '460175_10'-2021-02-25-110423.txt\n",
      "[8, 7, 8, 7, 8, 7, 8, 7, 6]\n",
      "\n",
      "\n",
      "!!!!!!!!!!!!!!!!!!!!!!!!!!!!!!!!!!!!!!!!!!!!!!!!!!!!!!!!!!!!!!!!!!!!!!!!!!!!!!!!\n",
      "!!!!!!!!!!!!!!!!!!!!!!!!!!!!!!!!!!!!!!!!!!!!!!!!!!!!!!!!!!!!!!!!!!!!!!!!!!!!!!!!\n",
      "!!!!!!!!!!!!!!!!!!!!!!!!!!!!!!!!!!!!!!!!!!!!!!!!!!!!!!!!!!!!!!!!!!!!!!!!!!!!!!!!\n",
      "\n",
      "state:7,nextstate:6,rew_loc:6,correct:1\n",
      "20 '460175_10'-2021-02-25-110423.txt\n",
      "[8, 7, 8, 7, 8, 7, 8, 7, 6]\n",
      "\n",
      "\n",
      "!!!!!!!!!!!!!!!!!!!!!!!!!!!!!!!!!!!!!!!!!!!!!!!!!!!!!!!!!!!!!!!!!!!!!!!!!!!!!!!!\n",
      "!!!!!!!!!!!!!!!!!!!!!!!!!!!!!!!!!!!!!!!!!!!!!!!!!!!!!!!!!!!!!!!!!!!!!!!!!!!!!!!!\n",
      "!!!!!!!!!!!!!!!!!!!!!!!!!!!!!!!!!!!!!!!!!!!!!!!!!!!!!!!!!!!!!!!!!!!!!!!!!!!!!!!!\n",
      "\n",
      "state:6,nextstate:5,rew_loc:4,correct:1\n",
      "13 '456675_10'-2021-02-23-102809.txt\n",
      "[6, 5, 6, 5, 6, 5, 4]\n",
      "\n",
      "\n",
      "!!!!!!!!!!!!!!!!!!!!!!!!!!!!!!!!!!!!!!!!!!!!!!!!!!!!!!!!!!!!!!!!!!!!!!!!!!!!!!!!\n",
      "!!!!!!!!!!!!!!!!!!!!!!!!!!!!!!!!!!!!!!!!!!!!!!!!!!!!!!!!!!!!!!!!!!!!!!!!!!!!!!!!\n",
      "!!!!!!!!!!!!!!!!!!!!!!!!!!!!!!!!!!!!!!!!!!!!!!!!!!!!!!!!!!!!!!!!!!!!!!!!!!!!!!!!\n",
      "\n",
      "state:5,nextstate:6,rew_loc:4,correct:0\n",
      "14 '456675_10'-2021-02-23-102809.txt\n",
      "[6, 5, 6, 5, 6, 5, 4]\n",
      "\n",
      "\n",
      "!!!!!!!!!!!!!!!!!!!!!!!!!!!!!!!!!!!!!!!!!!!!!!!!!!!!!!!!!!!!!!!!!!!!!!!!!!!!!!!!\n",
      "!!!!!!!!!!!!!!!!!!!!!!!!!!!!!!!!!!!!!!!!!!!!!!!!!!!!!!!!!!!!!!!!!!!!!!!!!!!!!!!!\n",
      "!!!!!!!!!!!!!!!!!!!!!!!!!!!!!!!!!!!!!!!!!!!!!!!!!!!!!!!!!!!!!!!!!!!!!!!!!!!!!!!!\n",
      "\n",
      "state:5,nextstate:6,rew_loc:4,correct:0\n",
      "16 '456675_10'-2021-02-23-102809.txt\n",
      "[6, 5, 6, 5, 6, 5, 4]\n",
      "\n",
      "\n",
      "!!!!!!!!!!!!!!!!!!!!!!!!!!!!!!!!!!!!!!!!!!!!!!!!!!!!!!!!!!!!!!!!!!!!!!!!!!!!!!!!\n",
      "!!!!!!!!!!!!!!!!!!!!!!!!!!!!!!!!!!!!!!!!!!!!!!!!!!!!!!!!!!!!!!!!!!!!!!!!!!!!!!!!\n",
      "!!!!!!!!!!!!!!!!!!!!!!!!!!!!!!!!!!!!!!!!!!!!!!!!!!!!!!!!!!!!!!!!!!!!!!!!!!!!!!!!\n",
      "\n",
      "state:5,nextstate:4,rew_loc:4,correct:1\n",
      "18 '456675_10'-2021-02-23-102809.txt\n",
      "[6, 5, 6, 5, 6, 5, 4]\n",
      "\n",
      "\n"
     ]
    }
   ],
   "source": [
    "verbose = False\n",
    "perf = 0\n",
    "trial_ctr = 0\n",
    "\n",
    "check1 = []\n",
    "for fpath in allFs:\n",
    "\n",
    "    f = open(fpath,'r')\n",
    "    lines =f.readlines()\n",
    "    state_seq, rew_list, port_seq,forced_seq = extract_navi_dat(lines)\n",
    "    prev_rew_loc = None  #this is the reward location that was last updated\n",
    "    direction = None\n",
    "    has_updated = False\n",
    "\n",
    "    rewarded_pokes = np.concatenate([[0],np.where(rew_list)[0]])\n",
    "    trial_starts = rewarded_pokes[:-1]\n",
    "    trial_ends = rewarded_pokes[1:]\n",
    "    rewarded_states = np.concatenate([np.array(state_seq)[trial_starts]])\n",
    "    same_as_prev_pol = True\n",
    "    exp_dirs = []\n",
    "    verbose = True\n",
    "    prev_rew_loc = None\n",
    "\n",
    "    #this is the start of a \n",
    "    for rew_ctr,(st,nd) in enumerate(zip(trial_starts,trial_ends)):\n",
    "\n",
    "        rew_loc = state_seq[nd]  #this is state that is rewarded\n",
    "        #print(state_seq[nd])  #this is the first state the animals enter into\n",
    "        prev_direction = direction\n",
    "\n",
    "        if rew_loc!=prev_rew_loc:\n",
    "            #print(\"HERE\")\n",
    "            direction = None\n",
    "            has_updated = False\n",
    "            prev_direction = None\n",
    "            exp_dirs = [] #experienced directions\n",
    "            prev_diff_rew_loc = prev_rew_loc\n",
    "\n",
    "\n",
    "        direction = (rew_loc - state_seq[st+1])>0 #which side are you approaching the reward from\n",
    "        visited_states = []\n",
    "        #print(state_seq[st],state_seq[st+1])\n",
    "        start_state_trial = state_seq[st+1]\n",
    "        for pk_ctr in range(st+1,nd):  #for each poke between two rewards  \n",
    "\n",
    "            d0,d1,st_dist = get_st_dist(state_seq,pk_ctr,rew_loc)\n",
    "            free_choice_trial = forced_seq[pk_ctr]==False\n",
    "            state = state_seq[pk_ctr]\n",
    "            same_as_prev_pol = policy_changed_with_rew_loc(state_seq,rew_loc,prev_diff_rew_loc)\n",
    "            check1.append(st_dist)\n",
    "            update_condition_list = [free_choice_trial,              #NOT a forced trial\n",
    "                                     prev_diff_rew_loc is None,  #hash-out if want to look include very first block in session\n",
    "                                     not same_as_prev_pol,           #ensure that this a policy change is required to make correct decision\n",
    "                                     prev_direction is not None,     #make sure NOT looking at first run-to-rew after a block transition (when rew_loc is unknown)\n",
    "                                     direction not in exp_dirs,      #hasn't experienced this direction in this block yet\n",
    "                                     #not has_updated,               #toggle if only look at first relevant POKE in block\n",
    "                                     #state not in visited_states,    #look only at first visits to each state\n",
    "                                     #d0>1,\n",
    "                                     #np.abs(start_state_trial-rew_loc)>1,\n",
    "                                     state !=rew_loc\n",
    "                                    ]\n",
    "\n",
    "            #if pk_ctr<60:\n",
    "            #    print(update_condition_list,direction,exp_dirs,state,rew_loc,pk_ctr,os.path.split(fpath)[-1])\n",
    "            if all(update_condition_list):\n",
    "                if verbose:\n",
    "                    print((\"!\"*80 + \"\\n\")*3)\n",
    "                    print('state:{},nextstate:{},rew_loc:{},correct:{}'.format(state,state_seq[pk_ctr+1],rew_loc,int(d1<d0)))\n",
    "                    print(pk_ctr,os.path.split(fpath)[-1])\n",
    "                    print(state_seq[st+1:nd+1])\n",
    "                    print('\\n')\n",
    "\n",
    "                perf += int(d1<d0)\n",
    "                trial_ctr += 1\n",
    "\n",
    "                has_updated = True  #if decisions from this block have led to updated\n",
    "\n",
    "            visited_states.append(state)\n",
    "\n",
    "        if direction not in exp_dirs:\n",
    "            exp_dirs.append(direction)\n",
    "        prev_rew_loc = rew_loc\n"
   ]
  },
  {
   "cell_type": "code",
   "execution_count": 957,
   "metadata": {},
   "outputs": [],
   "source": [
    "#in looking at the first block of the session, in a length 6 line, you can only look at rewards that are located\n",
    "#at positions 3 and 4, not at 1 and 2 and not at 5 and 6. Thus you should have 1/3 as many trials as you have sessions..."
   ]
  },
  {
   "cell_type": "code",
   "execution_count": 958,
   "metadata": {},
   "outputs": [
    {
     "data": {
      "text/plain": [
       "0.5925925925925926"
      ]
     },
     "execution_count": 958,
     "metadata": {},
     "output_type": "execute_result"
    }
   ],
   "source": [
    "perf/trial_ctr"
   ]
  },
  {
   "cell_type": "code",
   "execution_count": 959,
   "metadata": {},
   "outputs": [
    {
     "data": {
      "text/plain": [
       "16"
      ]
     },
     "execution_count": 959,
     "metadata": {},
     "output_type": "execute_result"
    }
   ],
   "source": [
    "perf"
   ]
  },
  {
   "cell_type": "code",
   "execution_count": 960,
   "metadata": {},
   "outputs": [
    {
     "data": {
      "text/plain": [
       "27"
      ]
     },
     "execution_count": 960,
     "metadata": {},
     "output_type": "execute_result"
    }
   ],
   "source": [
    "trial_ctr\n",
    "\n"
   ]
  },
  {
   "cell_type": "code",
   "execution_count": 961,
   "metadata": {},
   "outputs": [
    {
     "data": {
      "text/plain": [
       "0.44206833839416504"
      ]
     },
     "execution_count": 961,
     "metadata": {},
     "output_type": "execute_result"
    }
   ],
   "source": [
    "stt.binom_test(perf,trial_ctr,p=0.5)"
   ]
  },
  {
   "cell_type": "markdown",
   "metadata": {},
   "source": [
    "# Old Version"
   ]
  },
  {
   "cell_type": "code",
   "execution_count": null,
   "metadata": {},
   "outputs": [],
   "source": []
  },
  {
   "cell_type": "code",
   "execution_count": null,
   "metadata": {},
   "outputs": [],
   "source": []
  }
 ],
 "metadata": {
  "kernelspec": {
   "display_name": "Python 3",
   "language": "python",
   "name": "python3"
  },
  "language_info": {
   "codemirror_mode": {
    "name": "ipython",
    "version": 3
   },
   "file_extension": ".py",
   "mimetype": "text/x-python",
   "name": "python",
   "nbconvert_exporter": "python",
   "pygments_lexer": "ipython3",
   "version": "3.7.4"
  }
 },
 "nbformat": 4,
 "nbformat_minor": 2
}
