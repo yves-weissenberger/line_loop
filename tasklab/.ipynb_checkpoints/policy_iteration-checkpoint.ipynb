{
 "cells": [
  {
   "cell_type": "code",
   "execution_count": 1,
   "metadata": {},
   "outputs": [],
   "source": [
    "%matplotlib inline\n",
    "\n",
    "import numpy as np"
   ]
  },
  {
   "cell_type": "code",
   "execution_count": 240,
   "metadata": {},
   "outputs": [],
   "source": [
    "nStates = 25\n",
    "states = np.arange(nStates).reshape(int(np.sqrt(nStates)),int(np.sqrt(nStates)))\n",
    "r = np.zeros_like(states) - 1.\n",
    "r[0,0] = 0\n",
    "r[-1,-1] = 0"
   ]
  },
  {
   "cell_type": "code",
   "execution_count": 241,
   "metadata": {},
   "outputs": [],
   "source": [
    "actions = np.array([[0,1],[1,0],[-1,0],[0,-1]])"
   ]
  },
  {
   "cell_type": "code",
   "execution_count": 242,
   "metadata": {},
   "outputs": [],
   "source": [
    "v = np.zeros_like(states) + 0."
   ]
  },
  {
   "cell_type": "code",
   "execution_count": null,
   "metadata": {},
   "outputs": [],
   "source": []
  },
  {
   "cell_type": "code",
   "execution_count": 243,
   "metadata": {},
   "outputs": [],
   "source": [
    "gamma = .99"
   ]
  },
  {
   "cell_type": "markdown",
   "metadata": {},
   "source": [
    "# Implement policy evaluation "
   ]
  },
  {
   "cell_type": "code",
   "execution_count": 245,
   "metadata": {},
   "outputs": [
    {
     "name": "stdout",
     "output_type": "stream",
     "text": [
      "215 ms ± 10.5 ms per loop (mean ± std. dev. of 7 runs, 1 loop each)\n"
     ]
    }
   ],
   "source": [
    "%%timeit\n",
    "\n",
    "#for each state \n",
    "for _ in range(50):\n",
    "    v_copy = v.copy()\n",
    "    for i in range(1,nStates-1):\n",
    "        ix = np.array(np.where(states==i)).T\n",
    "\n",
    "        tmp = 0\n",
    "        for a in actions:\n",
    "            ixN = np.clip(ix + a,0,int(np.sqrt(nStates)-1))[0]\n",
    "            #print(a)\n",
    "            tmp +=  -1 + v_copy[ixN[0],ixN[1]]\n",
    "        v[ix[0][0],ix[0][1]] = tmp/4.\n",
    "\n",
    "    "
   ]
  },
  {
   "cell_type": "code",
   "execution_count": 248,
   "metadata": {},
   "outputs": [
    {
     "data": {
      "text/plain": [
       "2100.0"
      ]
     },
     "execution_count": 248,
     "metadata": {},
     "output_type": "execute_result"
    }
   ],
   "source": []
  },
  {
   "cell_type": "code",
   "execution_count": 246,
   "metadata": {},
   "outputs": [
    {
     "data": {
      "text/plain": [
       "1000"
      ]
     },
     "execution_count": 246,
     "metadata": {},
     "output_type": "execute_result"
    }
   ],
   "source": [
    "10*100"
   ]
  },
  {
   "cell_type": "markdown",
   "metadata": {},
   "source": [
    "# Implement policy improvement"
   ]
  },
  {
   "cell_type": "code",
   "execution_count": 230,
   "metadata": {},
   "outputs": [],
   "source": [
    "policy = np.zeros(nStates)\n",
    "\n",
    "for i in range(1,nStates-1):\n",
    "    ix = np.array(np.where(states==i)).T\n",
    "\n",
    "    tmp = []\n",
    "    for a in actions:\n",
    "        ixN = np.clip(ix + a,0,int(np.sqrt(nStates))-1)[0]\n",
    "        tmp.append(-1 + v_copy[ixN[0],ixN[1]])\n",
    "    \n",
    "    \n",
    "    policy[i] = np.argmax(tmp)"
   ]
  },
  {
   "cell_type": "code",
   "execution_count": null,
   "metadata": {},
   "outputs": [],
   "source": []
  },
  {
   "cell_type": "code",
   "execution_count": 231,
   "metadata": {},
   "outputs": [],
   "source": [
    "#%%timeit\n",
    "\n",
    "#for each state \n",
    "for _ in range(50):\n",
    "    v_copy = v.copy()\n",
    "    for i in range(1,nStates-1):\n",
    "        ix = np.array(np.where(states==i)).T\n",
    "\n",
    "        tmp = 0\n",
    "        a = actions[int(policy[i])]\n",
    "        ixN = np.clip(ix + a,0,int(np.sqrt(nStates)-1))[0]\n",
    "        #print(a)\n",
    "        tmp +=  (-1 + v_copy[ixN[0],ixN[1]])\n",
    "        v[ix[0][0],ix[0][1]] = tmp/4.\n",
    "\n",
    "    "
   ]
  },
  {
   "cell_type": "code",
   "execution_count": 238,
   "metadata": {},
   "outputs": [],
   "source": [
    "def map_to_text(x):\n",
    "    tmp = []\n",
    "    for i in x:\n",
    "        if i==0:\n",
    "            tmp.append('right')\n",
    "        if i==1:\n",
    "            tmp.append('down')\n",
    "        if i==2:\n",
    "            tmp.append('up')\n",
    "        if i==3:\n",
    "            tmp.append('left')\n",
    "    return np.array(tmp)"
   ]
  },
  {
   "cell_type": "code",
   "execution_count": 239,
   "metadata": {},
   "outputs": [
    {
     "name": "stdout",
     "output_type": "stream",
     "text": [
      "[['right' 'left' 'left' 'left' 'left' 'left' 'left' 'left' 'down']\n",
      " ['up' 'up' 'left' 'left' 'left' 'left' 'left' 'down' 'down']\n",
      " ['up' 'up' 'up' 'left' 'left' 'left' 'down' 'down' 'down']\n",
      " ['up' 'up' 'up' 'up' 'left' 'down' 'down' 'down' 'down']\n",
      " ['up' 'up' 'up' 'up' 'left' 'down' 'down' 'down' 'down']\n",
      " ['up' 'up' 'up' 'up' 'right' 'right' 'down' 'down' 'down']\n",
      " ['up' 'up' 'right' 'right' 'right' 'right' 'right' 'down' 'down']\n",
      " ['up' 'up' 'right' 'right' 'right' 'right' 'right' 'right' 'down']\n",
      " ['up' 'right' 'right' 'right' 'right' 'right' 'right' 'right' 'right']]\n"
     ]
    }
   ],
   "source": [
    "print(map_to_text(policy).reshape(int(np.sqrt(nStates)),int(np.sqrt(nStates))))"
   ]
  },
  {
   "cell_type": "markdown",
   "metadata": {},
   "source": [
    "# Now try to do this using adjacency matrix "
   ]
  },
  {
   "cell_type": "code",
   "execution_count": null,
   "metadata": {},
   "outputs": [],
   "source": []
  }
 ],
 "metadata": {
  "kernelspec": {
   "display_name": "Python 3",
   "language": "python",
   "name": "python3"
  },
  "language_info": {
   "codemirror_mode": {
    "name": "ipython",
    "version": 3
   },
   "file_extension": ".py",
   "mimetype": "text/x-python",
   "name": "python",
   "nbconvert_exporter": "python",
   "pygments_lexer": "ipython3",
   "version": "3.6.9"
  }
 },
 "nbformat": 4,
 "nbformat_minor": 2
}
