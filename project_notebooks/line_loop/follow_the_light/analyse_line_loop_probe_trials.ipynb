{
 "cells": [
  {
   "cell_type": "markdown",
   "metadata": {},
   "source": [
    "# First pass analysis of line/loop data\n",
    "\n",
    "\n",
    "\n",
    "\n",
    "## Try to predict whether a probe trial will be correct or not\n",
    "\n",
    "\n",
    "\n",
    "The question we have to ask is what are they struggling to do right now? In the best case scenario, it is random, we would want these regressors \n",
    "\n",
    "\n",
    "### The full way of doing it\n",
    "\n",
    "This is a Bernoulli regression problem (I think this is an easier way to think about it than a binomial). Build a model with the following regressors. (Do you want an animal performance regressor?)\n",
    "\n",
    "<ol>\n",
    "    <li> Source x target (too much??) </li>\n",
    "    <li> Source to target distance </li>\n",
    "    <li> Whether this transition exists in both graphs </li>\n",
    "    <li> The task number that this is on </li>\n",
    "    <li> Whether this is a line or a loop </li>\n",
    "    <li> Marginal animal performance on day (?) </li>\n",
    "    <li> Transition from that node on other graph </li>\n",
    "    <li> Training day </li>\n",
    "    <li> Session number </li>\n",
    "    <li> Number of rewards already received (this could be interesting, could go both ways) </li>\n",
    "    <li> Is to a reward or not? </li>\n",
    "</ol>\n",
    "\n",
    "<b> I think we want to fit this model to each day and see basically all regressors shrinking. </b>\n",
    "\n",
    "\n",
    "### What is the simple thing to look at?\n",
    "\n",
    "Ideally would want to look at whether there are some transitions that they are great at and some that they are shit at. The problem is that there is not enough data. Thats why the above approach is nice.\n",
    "\n",
    "\n",
    "## Analyse the errors\n",
    "\n",
    "Yes the key question now is what happens on probe trials"
   ]
  },
  {
   "cell_type": "code",
   "execution_count": 1,
   "metadata": {},
   "outputs": [],
   "source": [
    "%matplotlib inline\n",
    "import numpy as np\n",
    "import scipy as sp\n",
    "import pandas as pd\n",
    "import matplotlib.pyplot as plt\n",
    "import matplotlib\n",
    "import seaborn\n",
    "import scipy.stats as stt\n",
    "import datetime\n",
    "from statsmodels.stats import proportion\n",
    "seaborn.set(font_scale=1.5,style='ticks')\n",
    "import os\n",
    "import re\n",
    "import sys\n",
    "import itertools\n",
    "import networkx as nx\n",
    "sys.path.append(\"/Users/Yves/Documents/Code/structural_knowledge/packages/\")"
   ]
  },
  {
   "cell_type": "code",
   "execution_count": 2,
   "metadata": {},
   "outputs": [
    {
     "ename": "ModuleNotFoundError",
     "evalue": "No module named 'mouse_poker'",
     "output_type": "error",
     "traceback": [
      "\u001b[1;31m---------------------------------------------------------------------------\u001b[0m",
      "\u001b[1;31mModuleNotFoundError\u001b[0m                       Traceback (most recent call last)",
      "\u001b[1;32m<ipython-input-2-d675263496ee>\u001b[0m in \u001b[0;36m<module>\u001b[1;34m\u001b[0m\n\u001b[1;32m----> 1\u001b[1;33m \u001b[1;32mimport\u001b[0m \u001b[0mmouse_poker\u001b[0m \u001b[1;32mas\u001b[0m \u001b[0mmpk\u001b[0m\u001b[1;33m\u001b[0m\u001b[1;33m\u001b[0m\u001b[0m\n\u001b[0m",
      "\u001b[1;31mModuleNotFoundError\u001b[0m: No module named 'mouse_poker'"
     ]
    }
   ],
   "source": [
    "import mouse_poker as mpk"
   ]
  },
  {
   "cell_type": "markdown",
   "metadata": {},
   "source": [
    "# Defined functions "
   ]
  },
  {
   "cell_type": "code",
   "execution_count": null,
   "metadata": {},
   "outputs": [],
   "source": [
    "poke_pos = [  [149,0],\n",
    "         [68,19],[231,19],\n",
    "       [0,62],[149,62],[298,62],\n",
    "         [68,105],[231,105],\n",
    "              [149,124]]"
   ]
  },
  {
   "cell_type": "code",
   "execution_count": null,
   "metadata": {},
   "outputs": [],
   "source": [
    "def get_empty_transition_dict(n_nodes=9):\n",
    "    tmp1 = [str(i[1])+str(i[-2]) for i in list(itertools.combinations(range(n_nodes),2))]\n",
    "    tmp1.extend([i[::-1] for i in tmp1])\n",
    "    res_dct = {}\n",
    "    for i in tmp1:\n",
    "        res_dct[i] = []\n",
    "    return res_dct"
   ]
  },
  {
   "cell_type": "code",
   "execution_count": null,
   "metadata": {},
   "outputs": [],
   "source": []
  },
  {
   "cell_type": "markdown",
   "metadata": {},
   "source": [
    "# Actual code to run stuff "
   ]
  },
  {
   "cell_type": "code",
   "execution_count": 227,
   "metadata": {},
   "outputs": [],
   "source": [
    "ROOT = \"/Users/Yves/Documents/behavior_data/line_loop_cohort_3/\"\n",
    "#ROOT = '/Users/Yves/Documents/behavior_data/line_loop_cohort_2/'\n",
    "all_df  = mpk.load.create_base_df(ROOT,rerun=True)\n",
    "all_df = mpk.load.load_df(ROOT)"
   ]
  },
  {
   "cell_type": "code",
   "execution_count": 215,
   "metadata": {},
   "outputs": [],
   "source": [
    "good_df = all_df.loc[all_df['nRews']>20]"
   ]
  },
  {
   "cell_type": "code",
   "execution_count": 172,
   "metadata": {},
   "outputs": [],
   "source": [
    "day_df = good_df.loc[good_df['date']==date]\n"
   ]
  },
  {
   "cell_type": "code",
   "execution_count": 226,
   "metadata": {},
   "outputs": [
    {
     "data": {
      "text/plain": [
       "33"
      ]
     },
     "execution_count": 226,
     "metadata": {},
     "output_type": "execute_result"
    }
   ],
   "source": [
    "date = datetime.date(2020,9,30)\n",
    "\n",
    "np.sum(pd.Series([i.date() for i in good_df['date']])==date)"
   ]
  },
  {
   "cell_type": "code",
   "execution_count": 225,
   "metadata": {},
   "outputs": [
    {
     "data": {
      "text/html": [
       "<div>\n",
       "<style scoped>\n",
       "    .dataframe tbody tr th:only-of-type {\n",
       "        vertical-align: middle;\n",
       "    }\n",
       "\n",
       "    .dataframe tbody tr th {\n",
       "        vertical-align: top;\n",
       "    }\n",
       "\n",
       "    .dataframe thead th {\n",
       "        text-align: right;\n",
       "    }\n",
       "</style>\n",
       "<table border=\"1\" class=\"dataframe\">\n",
       "  <thead>\n",
       "    <tr style=\"text-align: right;\">\n",
       "      <th></th>\n",
       "      <th>mouse_ID</th>\n",
       "      <th>group</th>\n",
       "      <th>date</th>\n",
       "      <th>time</th>\n",
       "      <th>task_name</th>\n",
       "      <th>structure</th>\n",
       "      <th>layout</th>\n",
       "      <th>valid</th>\n",
       "      <th>nRews</th>\n",
       "      <th>task_nr</th>\n",
       "      <th>test</th>\n",
       "      <th>filepath</th>\n",
       "      <th>summary_dict</th>\n",
       "    </tr>\n",
       "  </thead>\n",
       "  <tbody>\n",
       "    <tr>\n",
       "      <td>0</td>\n",
       "      <td>460175_None</td>\n",
       "      <td>line_loop_batch_4</td>\n",
       "      <td>2020-09-30</td>\n",
       "      <td>10:19:20</td>\n",
       "      <td>transition_task_yw_growing</td>\n",
       "      <td>loop</td>\n",
       "      <td>G3_1</td>\n",
       "      <td>True</td>\n",
       "      <td>204</td>\n",
       "      <td>2</td>\n",
       "      <td>False</td>\n",
       "      <td>/Users/Yves/Documents/behavior_data/line_loop_...</td>\n",
       "      <td>{'task_nr': 2, 'reward_volume': 4, 'reward_abs...</td>\n",
       "    </tr>\n",
       "    <tr>\n",
       "      <td>1</td>\n",
       "      <td>460175_None</td>\n",
       "      <td>line_loop_batch_4</td>\n",
       "      <td>2020-10-01</td>\n",
       "      <td>14:46:26</td>\n",
       "      <td>transition_task_yw_growing</td>\n",
       "      <td>loop</td>\n",
       "      <td>G3_1</td>\n",
       "      <td>True</td>\n",
       "      <td>133</td>\n",
       "      <td>2</td>\n",
       "      <td>False</td>\n",
       "      <td>/Users/Yves/Documents/behavior_data/line_loop_...</td>\n",
       "      <td>{'task_nr': 2, 'reward_volume': 4, 'reward_abs...</td>\n",
       "    </tr>\n",
       "    <tr>\n",
       "      <td>2</td>\n",
       "      <td>460175_None</td>\n",
       "      <td>line_loop_batch_4</td>\n",
       "      <td>2020-09-28</td>\n",
       "      <td>13:55:41</td>\n",
       "      <td>transition_task_yw_growing</td>\n",
       "      <td>loop</td>\n",
       "      <td>G3_1</td>\n",
       "      <td>True</td>\n",
       "      <td>236</td>\n",
       "      <td>2</td>\n",
       "      <td>False</td>\n",
       "      <td>/Users/Yves/Documents/behavior_data/line_loop_...</td>\n",
       "      <td>{'task_nr': 2, 'reward_volume': 4, 'reward_abs...</td>\n",
       "    </tr>\n",
       "    <tr>\n",
       "      <td>3</td>\n",
       "      <td>459849_3</td>\n",
       "      <td>line_loop_batch_4</td>\n",
       "      <td>2020-10-07</td>\n",
       "      <td>09:42:41</td>\n",
       "      <td>transition_task_yw_growing</td>\n",
       "      <td>line</td>\n",
       "      <td>G1_1</td>\n",
       "      <td>True</td>\n",
       "      <td>367</td>\n",
       "      <td>2</td>\n",
       "      <td>False</td>\n",
       "      <td>/Users/Yves/Documents/behavior_data/line_loop_...</td>\n",
       "      <td>{'task_nr': 2, 'reward_volume': 2, 'reward_abs...</td>\n",
       "    </tr>\n",
       "    <tr>\n",
       "      <td>4</td>\n",
       "      <td>459849_None</td>\n",
       "      <td>line_loop_batch_4</td>\n",
       "      <td>2020-09-21</td>\n",
       "      <td>15:53:45</td>\n",
       "      <td>transition_task_yw_growing</td>\n",
       "      <td>loop</td>\n",
       "      <td>G1_1</td>\n",
       "      <td>True</td>\n",
       "      <td>56</td>\n",
       "      <td>2</td>\n",
       "      <td>False</td>\n",
       "      <td>/Users/Yves/Documents/behavior_data/line_loop_...</td>\n",
       "      <td>{'task_nr': 2, 'reward_volume': 4, 'reward_abs...</td>\n",
       "    </tr>\n",
       "    <tr>\n",
       "      <td>...</td>\n",
       "      <td>...</td>\n",
       "      <td>...</td>\n",
       "      <td>...</td>\n",
       "      <td>...</td>\n",
       "      <td>...</td>\n",
       "      <td>...</td>\n",
       "      <td>...</td>\n",
       "      <td>...</td>\n",
       "      <td>...</td>\n",
       "      <td>...</td>\n",
       "      <td>...</td>\n",
       "      <td>...</td>\n",
       "      <td>...</td>\n",
       "    </tr>\n",
       "    <tr>\n",
       "      <td>1238</td>\n",
       "      <td>456674_10</td>\n",
       "      <td>line_loop_batch_3</td>\n",
       "      <td>2020-10-05</td>\n",
       "      <td>15:48:29</td>\n",
       "      <td>transition_task_yw_growing_v2</td>\n",
       "      <td>line</td>\n",
       "      <td>G2_0</td>\n",
       "      <td>True</td>\n",
       "      <td>214</td>\n",
       "      <td>1</td>\n",
       "      <td>False</td>\n",
       "      <td>/Users/Yves/Documents/behavior_data/line_loop_...</td>\n",
       "      <td>{'task_nr': 1, 'reward_volume': 4, 'reward_abs...</td>\n",
       "    </tr>\n",
       "    <tr>\n",
       "      <td>1243</td>\n",
       "      <td>456674_1</td>\n",
       "      <td>line_loop_batch_3</td>\n",
       "      <td>2020-09-23</td>\n",
       "      <td>15:54:58</td>\n",
       "      <td>transition_task_yw_forced_PC</td>\n",
       "      <td>loop</td>\n",
       "      <td>G2_1</td>\n",
       "      <td>True</td>\n",
       "      <td>37</td>\n",
       "      <td>2</td>\n",
       "      <td>False</td>\n",
       "      <td>/Users/Yves/Documents/behavior_data/line_loop_...</td>\n",
       "      <td>{'task_nr': 2, 'reward_volume': 10, 'reward_ab...</td>\n",
       "    </tr>\n",
       "    <tr>\n",
       "      <td>1244</td>\n",
       "      <td>456674_1</td>\n",
       "      <td>line_loop_batch_3</td>\n",
       "      <td>2020-10-07</td>\n",
       "      <td>10:35:52</td>\n",
       "      <td>transition_task_yw_growing_v2</td>\n",
       "      <td>loop</td>\n",
       "      <td>G2_1</td>\n",
       "      <td>True</td>\n",
       "      <td>84</td>\n",
       "      <td>2</td>\n",
       "      <td>False</td>\n",
       "      <td>/Users/Yves/Documents/behavior_data/line_loop_...</td>\n",
       "      <td>{'task_nr': 2, 'reward_volume': 10, 'reward_ab...</td>\n",
       "    </tr>\n",
       "    <tr>\n",
       "      <td>1245</td>\n",
       "      <td>460175_1</td>\n",
       "      <td>line_loop_batch_3</td>\n",
       "      <td>2020-10-09</td>\n",
       "      <td>14:42:46</td>\n",
       "      <td>transition_task_yw_growing_v2</td>\n",
       "      <td>line</td>\n",
       "      <td>G3_0</td>\n",
       "      <td>True</td>\n",
       "      <td>182</td>\n",
       "      <td>1</td>\n",
       "      <td>False</td>\n",
       "      <td>/Users/Yves/Documents/behavior_data/line_loop_...</td>\n",
       "      <td>{'task_nr': 1, 'reward_volume': 2, 'reward_abs...</td>\n",
       "    </tr>\n",
       "    <tr>\n",
       "      <td>1248</td>\n",
       "      <td>459850_None</td>\n",
       "      <td>line_loop_batch_3</td>\n",
       "      <td>2020-10-12</td>\n",
       "      <td>10:19:08</td>\n",
       "      <td>transition_task_yw_growing_v2</td>\n",
       "      <td>loop</td>\n",
       "      <td>G1_0</td>\n",
       "      <td>True</td>\n",
       "      <td>110</td>\n",
       "      <td>1</td>\n",
       "      <td>False</td>\n",
       "      <td>/Users/Yves/Documents/behavior_data/line_loop_...</td>\n",
       "      <td>{'task_nr': 1, 'reward_volume': 2, 'reward_abs...</td>\n",
       "    </tr>\n",
       "  </tbody>\n",
       "</table>\n",
       "<p>794 rows × 13 columns</p>\n",
       "</div>"
      ],
      "text/plain": [
       "         mouse_ID              group       date      time  \\\n",
       "0     460175_None  line_loop_batch_4 2020-09-30  10:19:20   \n",
       "1     460175_None  line_loop_batch_4 2020-10-01  14:46:26   \n",
       "2     460175_None  line_loop_batch_4 2020-09-28  13:55:41   \n",
       "3        459849_3  line_loop_batch_4 2020-10-07  09:42:41   \n",
       "4     459849_None  line_loop_batch_4 2020-09-21  15:53:45   \n",
       "...           ...                ...        ...       ...   \n",
       "1238    456674_10  line_loop_batch_3 2020-10-05  15:48:29   \n",
       "1243     456674_1  line_loop_batch_3 2020-09-23  15:54:58   \n",
       "1244     456674_1  line_loop_batch_3 2020-10-07  10:35:52   \n",
       "1245     460175_1  line_loop_batch_3 2020-10-09  14:42:46   \n",
       "1248  459850_None  line_loop_batch_3 2020-10-12  10:19:08   \n",
       "\n",
       "                          task_name structure layout  valid  nRews  task_nr  \\\n",
       "0        transition_task_yw_growing      loop   G3_1   True    204        2   \n",
       "1        transition_task_yw_growing      loop   G3_1   True    133        2   \n",
       "2        transition_task_yw_growing      loop   G3_1   True    236        2   \n",
       "3        transition_task_yw_growing      line   G1_1   True    367        2   \n",
       "4        transition_task_yw_growing      loop   G1_1   True     56        2   \n",
       "...                             ...       ...    ...    ...    ...      ...   \n",
       "1238  transition_task_yw_growing_v2      line   G2_0   True    214        1   \n",
       "1243   transition_task_yw_forced_PC      loop   G2_1   True     37        2   \n",
       "1244  transition_task_yw_growing_v2      loop   G2_1   True     84        2   \n",
       "1245  transition_task_yw_growing_v2      line   G3_0   True    182        1   \n",
       "1248  transition_task_yw_growing_v2      loop   G1_0   True    110        1   \n",
       "\n",
       "       test                                           filepath  \\\n",
       "0     False  /Users/Yves/Documents/behavior_data/line_loop_...   \n",
       "1     False  /Users/Yves/Documents/behavior_data/line_loop_...   \n",
       "2     False  /Users/Yves/Documents/behavior_data/line_loop_...   \n",
       "3     False  /Users/Yves/Documents/behavior_data/line_loop_...   \n",
       "4     False  /Users/Yves/Documents/behavior_data/line_loop_...   \n",
       "...     ...                                                ...   \n",
       "1238  False  /Users/Yves/Documents/behavior_data/line_loop_...   \n",
       "1243  False  /Users/Yves/Documents/behavior_data/line_loop_...   \n",
       "1244  False  /Users/Yves/Documents/behavior_data/line_loop_...   \n",
       "1245  False  /Users/Yves/Documents/behavior_data/line_loop_...   \n",
       "1248  False  /Users/Yves/Documents/behavior_data/line_loop_...   \n",
       "\n",
       "                                           summary_dict  \n",
       "0     {'task_nr': 2, 'reward_volume': 4, 'reward_abs...  \n",
       "1     {'task_nr': 2, 'reward_volume': 4, 'reward_abs...  \n",
       "2     {'task_nr': 2, 'reward_volume': 4, 'reward_abs...  \n",
       "3     {'task_nr': 2, 'reward_volume': 2, 'reward_abs...  \n",
       "4     {'task_nr': 2, 'reward_volume': 4, 'reward_abs...  \n",
       "...                                                 ...  \n",
       "1238  {'task_nr': 1, 'reward_volume': 4, 'reward_abs...  \n",
       "1243  {'task_nr': 2, 'reward_volume': 10, 'reward_ab...  \n",
       "1244  {'task_nr': 2, 'reward_volume': 10, 'reward_ab...  \n",
       "1245  {'task_nr': 1, 'reward_volume': 2, 'reward_abs...  \n",
       "1248  {'task_nr': 1, 'reward_volume': 2, 'reward_abs...  \n",
       "\n",
       "[794 rows x 13 columns]"
      ]
     },
     "execution_count": 225,
     "metadata": {},
     "output_type": "execute_result"
    }
   ],
   "source": [
    "good_df"
   ]
  },
  {
   "cell_type": "code",
   "execution_count": 216,
   "metadata": {},
   "outputs": [
    {
     "ename": "NameError",
     "evalue": "name 'datetimeTimestamp' is not defined",
     "output_type": "error",
     "traceback": [
      "\u001b[0;31m---------------------------------------------------------------------------\u001b[0m",
      "\u001b[0;31mNameError\u001b[0m                                 Traceback (most recent call last)",
      "\u001b[0;32m<ipython-input-216-39468272d196>\u001b[0m in \u001b[0;36m<module>\u001b[0;34m\u001b[0m\n\u001b[0;32m----> 1\u001b[0;31m \u001b[0mdatetimeTimestamp\u001b[0m\u001b[0;34m(\u001b[0m\u001b[0;34m'2020-09-30 00:00:00'\u001b[0m\u001b[0;34m)\u001b[0m\u001b[0;34m\u001b[0m\u001b[0;34m\u001b[0m\u001b[0m\n\u001b[0m",
      "\u001b[0;31mNameError\u001b[0m: name 'datetimeTimestamp' is not defined"
     ]
    }
   ],
   "source": [
    "datetimeTimestamp('2020-09-30 00:00:00')\n"
   ]
  },
  {
   "cell_type": "code",
   "execution_count": 217,
   "metadata": {},
   "outputs": [],
   "source": [
    "#res_dct = {}\n",
    "#for i in tmp1:\n",
    "#    res_dct[i] = []"
   ]
  },
  {
   "cell_type": "code",
   "execution_count": 218,
   "metadata": {},
   "outputs": [
    {
     "data": {
      "text/plain": [
       "0"
      ]
     },
     "execution_count": 218,
     "metadata": {},
     "output_type": "execute_result"
    }
   ],
   "source": [
    "np.sum(good_df['date']==date)"
   ]
  },
  {
   "cell_type": "code",
   "execution_count": 219,
   "metadata": {},
   "outputs": [
    {
     "name": "stderr",
     "output_type": "stream",
     "text": [
      "/Users/yves/opt/anaconda3/lib/python3.7/site-packages/ipykernel_launcher.py:10: FutureWarning: Comparing Series of datetimes with 'datetime.date'.  Currently, the\n",
      "'datetime.date' is coerced to a datetime. In the future pandas will\n",
      "not coerce, and 'the values will not compare equal to the\n",
      "'datetime.date'. To retain the current behavior, convert the\n",
      "'datetime.date' to a datetime with 'pd.Timestamp'.\n",
      "  # Remove the CWD from sys.path while we load stuff.\n"
     ]
    },
    {
     "name": "stdout",
     "output_type": "stream",
     "text": [
      "/Users/Yves/Documents/behavior_data/line_loop_cohort_3/line_loop_batch_3/'459850_3'-2020-10-15-092240.txt\n",
      "/Users/Yves/Documents/behavior_data/line_loop_cohort_3/line_loop_batch_3/'456674_10'-2020-10-15-142142.txt\n",
      "/Users/Yves/Documents/behavior_data/line_loop_cohort_3/line_loop_batch_3/'456675_1'-2020-10-15-142142.txt\n",
      "/Users/Yves/Documents/behavior_data/line_loop_cohort_3/line_loop_batch_3/'456675_10'-2020-10-15-092240.txt\n",
      "/Users/Yves/Documents/behavior_data/line_loop_cohort_3/line_loop_batch_3/'460175_1'-2020-10-15-092240.txt\n",
      "/Users/Yves/Documents/behavior_data/line_loop_cohort_3/line_loop_batch_3/'456674_1'-2020-10-15-142142.txt\n",
      "/Users/Yves/Documents/behavior_data/line_loop_cohort_3/line_loop_batch_3/'459850_None'-2020-10-15-142142.txt\n",
      "/Users/Yves/Documents/behavior_data/line_loop_cohort_3/line_loop_batch_3/'456674_30'-2020-10-15-092240.txt\n",
      "/Users/Yves/Documents/behavior_data/line_loop_cohort_3/line_loop_batch_3/'460175_10'-2020-10-15-092240.txt\n",
      "/Users/Yves/Documents/behavior_data/line_loop_cohort_3/line_loop_batch_3/'459850_3'-2020-10-15-142142.txt\n",
      "/Users/Yves/Documents/behavior_data/line_loop_cohort_3/line_loop_batch_3/'456674_10'-2020-10-15-092240.txt\n",
      "/Users/Yves/Documents/behavior_data/line_loop_cohort_3/line_loop_batch_3/'456675_1'-2020-10-15-092240.txt\n",
      "/Users/Yves/Documents/behavior_data/line_loop_cohort_3/line_loop_batch_3/'456675_10'-2020-10-15-142142.txt\n",
      "/Users/Yves/Documents/behavior_data/line_loop_cohort_3/line_loop_batch_3/'456674_1'-2020-10-15-092240.txt\n",
      "/Users/Yves/Documents/behavior_data/line_loop_cohort_3/line_loop_batch_3/'460175_1'-2020-10-15-142142.txt\n",
      "/Users/Yves/Documents/behavior_data/line_loop_cohort_3/line_loop_batch_3/'459850_None'-2020-10-15-092240.txt\n",
      "/Users/Yves/Documents/behavior_data/line_loop_cohort_3/line_loop_batch_3/'460175_10'-2020-10-15-142142.txt\n",
      "/Users/Yves/Documents/behavior_data/line_loop_cohort_3/line_loop_batch_3/'456674_30'-2020-10-15-142142.txt\n"
     ]
    }
   ],
   "source": [
    "THRESHT = 90.\n",
    "\n",
    "date = datetime.date(2020,10,15)\n",
    "#day_df = good_df.loc[good_df['date']==date]\n",
    "\n",
    "tdict = get_empty_transition_dict()\n",
    "\n",
    "\n",
    "\n",
    "day_df = good_df.loc[good_df['date']==date]\n",
    "if True:#'forced' in day_df['task_name'].values[0]:\n",
    "\n",
    "\n",
    "    bin_ms = 1\n",
    "    bin_mult = 1000/bin_ms\n",
    "    window_s  = 2.\n",
    "\n",
    "\n",
    "    poked_in_probe = []\n",
    "    poked_correct = []\n",
    "    poked_correctR = []\n",
    "    poked_correctNR = []\n",
    "\n",
    "    res = {'pkA':[],\n",
    "           'pkR':[],\n",
    "           'pkNR':[],\n",
    "           'pkA2':[],\n",
    "           'pkR2':[],\n",
    "           'pkNR2':[],\n",
    "           'pkFrac': [],\n",
    "           'pkFR': [],\n",
    "           'graph_type':[],\n",
    "           'graph_id':[],\n",
    "           'task_nr': []}\n",
    "\n",
    "\n",
    "    for fpath in day_df['filepath'].values:\n",
    "        print(fpath)\n",
    "        f = open(fpath,'r')\n",
    "        lines = f.readlines()\n",
    "        dat_dict,events,event_times,nRews = mpk.load.parse_data(lines,None)\n",
    "        out = mpk.load.get_metadata(lines)\n",
    "        experiment_name, task_name, subject_id, task_nr, graph,lineloop,date,test,summary_dict = out\n",
    "        res['graph_type'].append(lineloop)\n",
    "        res['graph_id'].append(graph)\n",
    "        res['task_nr'].append(task_nr)\n",
    "\n",
    "\n",
    "\n",
    "        nMs = int(np.max(event_times)*1000/bin_ms) #data binned into 10ms chunks\n",
    "\n",
    "        inPokes = np.array([int(i[-1])-1 for kk,i in enumerate(events) if re.findall('poke_[0-9]$',i)])\n",
    "        inPoke_t = np.floor(event_times[np.array([kk for kk,i in enumerate(events) if re.findall('poke_[0-9]$',i)])]*bin_mult).astype('int')    \n",
    "        outPoke_t = np.floor(event_times[np.array([kk for kk,i in enumerate(events) if re.findall('poke_[0-9]_out',i)])]*bin_mult).astype('int')    \n",
    "        if len(outPoke_t)>len(inPoke_t): outPoke_t = outPoke_t[1:] #if the first recorded thing is an outpoke\n",
    "        if len(inPoke_t)>len(outPoke_t): inPoke_t = inPoke_t[:-1]; inPokes = inPokes[:-1]\n",
    "        poke_dur = outPoke_t - inPoke_t\n",
    "\n",
    "        inPoke_t = inPoke_t[poke_dur>THRESHT]\n",
    "        inPokes = inPokes[poke_dur>THRESHT]\n",
    "        isProbe = np.array([i[-1] for i in dat_dict['port']])\n",
    "\n",
    "        poked_in_probe = []\n",
    "        poked_correct = []\n",
    "        poked_correctR = []\n",
    "        poked_correctNR = []\n",
    "\n",
    "        probe_ixs = np.where(isProbe)[0]\n",
    "        #for ix in probe_ixs[int(np.floor(len(probe_ixs)/2.)):]:\n",
    "        for ix in probe_ixs:\n",
    "\n",
    "            t_str = str(dat_dict['port'][ix][0]) + str(dat_dict['port'][ix][1])\n",
    "            probeT = int(dat_dict['port'][ix][-2]*bin_mult)\n",
    "            \n",
    "            prevPk = dat_dict['port'][ix][0]\n",
    "            target = dat_dict['port'][ix][1]\n",
    "\n",
    "            #these are pokes in window before light comes on\n",
    "            ixs = (np.where((inPoke_t>probeT) *\n",
    "                           (inPoke_t<(probeT+(window_s*bin_mult))))[0])# *\n",
    "                          # inPokes!=prevPk)[0])# %(len(inPokes)-1)\n",
    "\n",
    "            \n",
    "            if len(ixs)>0:\n",
    "                \n",
    "                use2 = [i for i in inPokes[ixs] if i!=prevPk]\n",
    "                #use2 = inPokes[ixs]\n",
    "                if len(use2)>0:\n",
    "                    if target==use2[0]:\n",
    "                    #if target in inPokes[ixs]:\n",
    "                        if target in [0,3,5,8]:\n",
    "                            poked_correctR.append(1)\n",
    "                            tdict[t_str].append(1)\n",
    "\n",
    "                        else:\n",
    "                            poked_correctNR.append(1)\n",
    "                            tdict[t_str].append(1)\n",
    "                        poked_correct.append(1)\n",
    "                    else:\n",
    "                        if target in [0,3,5,8]:\n",
    "                            poked_correctR.append(0)\n",
    "                            tdict[t_str].append(0)\n",
    "                        else:\n",
    "                            poked_correctNR.append(0)\n",
    "                            tdict[t_str].append(0)\n",
    "                        poked_correct.append(0)\n",
    "\n",
    "                        poked_in_probe.append(1)\n",
    "                else:\n",
    "                    poked_in_probe.append(0)\n",
    "                    tdict[t_str].append(0)\n",
    "            else:\n",
    "                #poked_in_probe.append(0)\n",
    "                #poked_correct.append(0)\n",
    "                #if target in [0,3,5,8]:\n",
    "                #    poked_correctR.append(0)\n",
    "                #else:\n",
    "                #    poked_correctNR.append(0)\n",
    "    \n",
    "                #tdict[t_str].append(0)\n",
    "                pass\n",
    "\n",
    "        res['pkA'].append(poked_correct)\n",
    "        res['pkR'].append(poked_correctR)\n",
    "        res['pkNR'].append(poked_correctNR)\n",
    "        res['pkFrac'].append(poked_in_probe)\n",
    "\n",
    "        res['pkA2'].append([i for j in res['pkA'] for i in j])\n",
    "        res['pkR2'].append([i for j in res['pkR'] for i in j])\n",
    "        res['pkNR2'].append([i for j in res['pkNR'] for i in j])\n",
    "        res['pkFR'].append([i for j in res['pkFrac'] for i in j])\n"
   ]
  },
  {
   "cell_type": "code",
   "execution_count": 144,
   "metadata": {},
   "outputs": [
    {
     "data": {
      "image/png": "[encoded data removed]",
      "text/plain": [
       "<Figure size 432x288 with 1 Axes>"
      ]
     },
     "metadata": {},
     "output_type": "display_data"
    }
   ],
   "source": [
    "mu_transs = []\n",
    "for k,v in tdict.items():\n",
    "    if len(v)>0:\n",
    "        mu_transs.append(np.mean(v))\n",
    "\n",
    "seaborn.distplot(mu_transs,kde=0)\n",
    "seaborn.despine()"
   ]
  },
  {
   "cell_type": "code",
   "execution_count": 145,
   "metadata": {},
   "outputs": [
    {
     "data": {
      "image/png": "[encoded data removed]",
      "text/plain": [
       "<Figure size 432x288 with 1 Axes>"
      ]
     },
     "metadata": {},
     "output_type": "display_data"
    }
   ],
   "source": [
    "mu_transs = []\n",
    "for k,v in tdict.items():\n",
    "    if len(v)>0:\n",
    "        mu_transs.append(np.mean(v))\n",
    "\n",
    "seaborn.distplot(mu_transs,kde=0)\n",
    "seaborn.despine()"
   ]
  },
  {
   "cell_type": "code",
   "execution_count": 146,
   "metadata": {},
   "outputs": [],
   "source": [
    "pkNR = [i for j in res['pkNR'] for i in j]\n",
    "pkA = [i for j in res['pkA'] for i in j]\n",
    "pkR = [i for j in res['pkR'] for i in j]\n",
    "pkFR = [i for j in res['pkFR'] for i in j]"
   ]
  },
  {
   "cell_type": "code",
   "execution_count": null,
   "metadata": {},
   "outputs": [],
   "source": []
  },
  {
   "cell_type": "code",
   "execution_count": 147,
   "metadata": {},
   "outputs": [
    {
     "data": {
      "text/plain": [
       "'probe fraction correct all:0.4934895833333333, to-rew:0.6296296296296297, to-nonRew:0.37889688249400477'"
      ]
     },
     "execution_count": 147,
     "metadata": {},
     "output_type": "execute_result"
    }
   ],
   "source": [
    "'probe fraction correct all:{}, to-rew:{}, to-nonRew:{}'.format(np.mean(pkA),np.mean(pkR),np.mean(pkNR))"
   ]
  },
  {
   "cell_type": "code",
   "execution_count": 148,
   "metadata": {},
   "outputs": [
    {
     "data": {
      "text/plain": [
       "'probe fraction correct all:0.4934895833333333, to-rew:0.6296296296296297, to-nonRew:0.37889688249400477'"
      ]
     },
     "execution_count": 148,
     "metadata": {},
     "output_type": "execute_result"
    }
   ],
   "source": [
    "'probe fraction correct all:{}, to-rew:{}, to-nonRew:{}'.format(np.mean(pkA),np.mean(pkR),np.mean(pkNR))"
   ]
  },
  {
   "cell_type": "code",
   "execution_count": 149,
   "metadata": {},
   "outputs": [
    {
     "data": {
      "text/plain": [
       "7.059407411719974e-46"
      ]
     },
     "execution_count": 149,
     "metadata": {},
     "output_type": "execute_result"
    }
   ],
   "source": [
    "stt.binom_test(np.sum(pkNR),n=len(pkNR),p=1/9.)"
   ]
  },
  {
   "cell_type": "code",
   "execution_count": 150,
   "metadata": {},
   "outputs": [
    {
     "data": {
      "text/plain": [
       "4.1599124033719915e-119"
      ]
     },
     "execution_count": 150,
     "metadata": {},
     "output_type": "execute_result"
    }
   ],
   "source": [
    "stt.binom_test(np.sum(pkR),n=len(pkR),p=1/9.)"
   ]
  },
  {
   "cell_type": "code",
   "execution_count": 151,
   "metadata": {},
   "outputs": [],
   "source": [
    "mu =np.array([np.mean(pkA),np.mean(pkR),np.mean(pkNR)])\n",
    "\n",
    "\n",
    "ci = np.array([proportion.proportion_confint(np.sum(pkA),len(pkA)),\n",
    "               proportion.proportion_confint(np.sum(pkR),len(pkR)),\n",
    "               proportion.proportion_confint(np.sum(pkNR),len(pkNR))])\n",
    "\n",
    "ci = np.abs(ci- mu[:,None]).T"
   ]
  },
  {
   "cell_type": "code",
   "execution_count": 152,
   "metadata": {},
   "outputs": [],
   "source": [
    "ciFR = np.abs(proportion.proportion_confint(np.sum(pkFR),len(pkFR))-np.mean(pkFR))"
   ]
  },
  {
   "cell_type": "code",
   "execution_count": null,
   "metadata": {},
   "outputs": [],
   "source": []
  },
  {
   "cell_type": "code",
   "execution_count": 153,
   "metadata": {},
   "outputs": [
    {
     "data": {
      "image/png": "[encoded data removed]",
      "text/plain": [
       "<Figure size 792x288 with 2 Axes>"
      ]
     },
     "metadata": {},
     "output_type": "display_data"
    }
   ],
   "source": [
    "#.figure(figsize=(11,4))\n",
    "f, (a0, a1) = plt.subplots(1, 2, gridspec_kw={'width_ratios': [1,3]},figsize=(11,4))\n",
    "\n",
    "a0.bar([0],np.mean(pkFR),yerr=ciFR.reshape(-1,1),error_kw={'elinewidth':3},alpha=.7)\n",
    "\n",
    "clrs = [seaborn.color_palette()[1],'.3']\n",
    "for ctr,i in enumerate(res['pkFrac']):\n",
    "    clr_ = clrs[0] if res['graph_type'][ctr]=='loop' else clrs[1]\n",
    "\n",
    "    xi = np.random.normal(loc=0,scale=.15)\n",
    "    a0.scatter(xi,np.mean(i),zorder=100,color=clr_,alpha=.9)\n",
    "    ci_ = proportion.proportion_confint(np.sum(i),len(i))\n",
    "    a0.plot([xi,xi],[ci_[0],np.mean(i)],color=clr_,alpha=0.9)\n",
    "\n",
    "a0.set_xlim(-1,1)\n",
    "a0.set_xticks([])\n",
    "a0.locator_params('y',nbins=3)\n",
    "a0.set_ylabel(\"Fraction of probe trials \\npoked pre light\")\n",
    "#a1.subplot(1,2,2)\n",
    "#np.random.seed(99)\n",
    "a1.bar([0,1,2],mu,yerr=ci,error_kw={'elinewidth':3},alpha=.7)\n",
    "for ctr,i in enumerate(res['pkA']):\n",
    "    clr_ = clrs[0] if res['graph_type'][ctr]=='loop' else clrs[1]\n",
    "    #print(clr_)\n",
    "    xi = np.random.normal(loc=0,scale=.15)\n",
    "    a1.scatter(xi,np.mean(i),zorder=100,color=clr_,alpha=.6)\n",
    "    ci_ = proportion.proportion_confint(np.sum(i),len(i))\n",
    "    a1.plot([xi,xi],[ci_[0],np.mean(i)],color=clr_,alpha=0.9)\n",
    "    \n",
    "for ctr,i in enumerate(res['pkR']):\n",
    "    clr_ = clrs[0] if res['graph_type'][ctr]=='loop' else clrs[1]\n",
    "    #print(clr_)\n",
    "    xi = np.random.normal(loc=1,scale=.15)\n",
    "    a1.scatter(xi,np.mean(i),zorder=100,color=clr_,alpha=.6)\n",
    "    ci_ = proportion.proportion_confint(np.sum(i),len(i))\n",
    "    a1.plot([xi,xi],[ci_[0],np.mean(i)],color=clr_,alpha=0.9)\n",
    "\n",
    "for ctr,i in enumerate(res['pkNR']):\n",
    "    clr_ = clrs[0] if res['graph_type'][ctr]=='loop' else clrs[1]\n",
    "    #print(clr_)\n",
    "    xi = np.random.normal(loc=2,scale=.15)\n",
    "    a1.scatter(xi,np.mean(i),zorder=100,color=clr_,alpha=.6)\n",
    "    ci_ = proportion.proportion_confint(np.sum(i),len(i))\n",
    "    a1.plot([xi,xi],[ci_[0],np.mean(i)],color=clr_,alpha=0.9)\n",
    "\n",
    "a1.axhline(y=0.09,dashes=(8,8),color='.3')\n",
    "a1.set_ylabel(\"Fraction of correct \\nfirst pokes pre light on\")\n",
    "a1.set_xlabel(\"Probe Trial target\")\n",
    "a1.set_ylim(0,1.05)\n",
    "a1.locator_params('y',nbins=3)\n",
    "plt.xticks([0,1,2],['All','Rew','Non Rew'])\n",
    "\n",
    "seaborn.despine()\n",
    "\n",
    "plt.tight_layout()"
   ]
  },
  {
   "cell_type": "code",
   "execution_count": 94,
   "metadata": {},
   "outputs": [],
   "source": [
    "mu1 = [np.mean(i) for i in res['pkFrac']]\n",
    "mu2 = [np.mean(i) for i in res['pkA']]"
   ]
  },
  {
   "cell_type": "code",
   "execution_count": 95,
   "metadata": {},
   "outputs": [
    {
     "data": {
      "image/png": "[encoded data removed]",
      "text/plain": [
       "<Figure size 792x288 with 2 Axes>"
      ]
     },
     "metadata": {},
     "output_type": "display_data"
    }
   ],
   "source": [
    "#.figure(figsize=(11,4))\n",
    "f, (a0, a1) = plt.subplots(1, 2, gridspec_kw={'width_ratios': [1,3]},figsize=(11,4))\n",
    "\n",
    "a0.bar([0],np.mean(pkFR),yerr=ciFR.reshape(-1,1),error_kw={'elinewidth':3},alpha=.7)\n",
    "\n",
    "clrs = [seaborn.color_palette()[1],'.3']\n",
    "for ctr,i in enumerate(res['pkFrac']):\n",
    "    clr_ = clrs[0] if res['task_nr'][ctr]=='1' else clrs[1]\n",
    "\n",
    "    xi = np.random.normal(loc=0,scale=.15)\n",
    "    a0.scatter(xi,np.mean(i),zorder=100,color=clr_,alpha=.9)\n",
    "    ci_ = proportion.proportion_confint(np.sum(i),len(i))\n",
    "    a0.plot([xi,xi],[ci_[0],np.mean(i)],color=clr_,alpha=0.9)\n",
    "\n",
    "a0.set_xlim(-1,1)\n",
    "a0.set_xticks([])\n",
    "a0.locator_params('y',nbins=3)\n",
    "a0.set_ylabel(\"Fraction of probe trials \\npoked pre light\")\n",
    "#a1.subplot(1,2,2)\n",
    "#np.random.seed(99)\n",
    "a1.bar([0,1,2],mu,yerr=ci,error_kw={'elinewidth':3},alpha=.7)\n",
    "for ctr,i in enumerate(res['pkA']):\n",
    "    clr_ = clrs[0] if res['task_nr'][ctr]=='1' else clrs[1]\n",
    "    #print(clr_)\n",
    "    xi = np.random.normal(loc=0,scale=.15)\n",
    "    a1.scatter(xi,np.mean(i),zorder=100,color=clr_,alpha=.6)\n",
    "    ci_ = proportion.proportion_confint(np.sum(i),len(i))\n",
    "    a1.plot([xi,xi],[ci_[0],np.mean(i)],color=clr_,alpha=0.9)\n",
    "    \n",
    "for ctr,i in enumerate(res['pkR']):\n",
    "    clr_ = clrs[0] if res['task_nr'][ctr]=='1' else clrs[1]\n",
    "    #print(clr_)\n",
    "    xi = np.random.normal(loc=1,scale=.15)\n",
    "    a1.scatter(xi,np.mean(i),zorder=100,color=clr_,alpha=.6)\n",
    "    ci_ = proportion.proportion_confint(np.sum(i),len(i))\n",
    "    a1.plot([xi,xi],[ci_[0],np.mean(i)],color=clr_,alpha=0.9)\n",
    "\n",
    "for ctr,i in enumerate(res['pkNR']):\n",
    "    clr_ = clrs[0] if res['task_nr'][ctr]=='1' else clrs[1]\n",
    "    #print(clr_)\n",
    "    xi = np.random.normal(loc=2,scale=.15)\n",
    "    a1.scatter(xi,np.mean(i),zorder=100,color=clr_,alpha=.6)\n",
    "    ci_ = proportion.proportion_confint(np.sum(i),len(i))\n",
    "    a1.plot([xi,xi],[ci_[0],np.mean(i)],color=clr_,alpha=0.9)\n",
    "\n",
    "a1.axhline(y=0.09,dashes=(8,8),color='.3')\n",
    "a1.set_ylabel(\"Fraction of correct \\nfirst pokes pre light on\")\n",
    "a1.set_xlabel(\"Probe Trial target\")\n",
    "a1.set_ylim(0,1.05)\n",
    "a1.locator_params('y',nbins=3)\n",
    "plt.xticks([0,1,2],['All','Rew','Non Rew'])\n",
    "\n",
    "seaborn.despine()\n",
    "\n",
    "plt.tight_layout()"
   ]
  },
  {
   "cell_type": "code",
   "execution_count": null,
   "metadata": {},
   "outputs": [],
   "source": []
  },
  {
   "cell_type": "code",
   "execution_count": 62,
   "metadata": {},
   "outputs": [],
   "source": [
    "import numpy as np"
   ]
  },
  {
   "cell_type": "code",
   "execution_count": 63,
   "metadata": {},
   "outputs": [],
   "source": [
    "a = np.zeros([5,5])\n",
    "np.fill_diagonal(a[1:],1)"
   ]
  },
  {
   "cell_type": "code",
   "execution_count": 64,
   "metadata": {},
   "outputs": [
    {
     "ename": "TypeError",
     "evalue": "unsupported operand type(s) for *: 'float' and 'module'",
     "output_type": "error",
     "traceback": [
      "\u001b[0;31m---------------------------------------------------------------------------\u001b[0m",
      "\u001b[0;31mTypeError\u001b[0m                                 Traceback (most recent call last)",
      "\u001b[0;32m<ipython-input-64-dfe90f1f30cb>\u001b[0m in \u001b[0;36m<module>\u001b[0;34m\u001b[0m\n\u001b[0;32m----> 1\u001b[0;31m \u001b[0ma\u001b[0m\u001b[0;34m.\u001b[0m\u001b[0mdot\u001b[0m\u001b[0;34m(\u001b[0m\u001b[0mnp\u001b[0m\u001b[0;34m)\u001b[0m\u001b[0;34m\u001b[0m\u001b[0;34m\u001b[0m\u001b[0m\n\u001b[0m",
      "\u001b[0;31mTypeError\u001b[0m: unsupported operand type(s) for *: 'float' and 'module'"
     ]
    }
   ],
   "source": [
    "a.dot(np)"
   ]
  },
  {
   "cell_type": "code",
   "execution_count": 65,
   "metadata": {},
   "outputs": [],
   "source": [
    "x = np.zeros([5])\n",
    "x[1] = 1"
   ]
  },
  {
   "cell_type": "code",
   "execution_count": 66,
   "metadata": {},
   "outputs": [
    {
     "data": {
      "text/plain": [
       "array([0., 1., 0., 0., 0.])"
      ]
     },
     "execution_count": 66,
     "metadata": {},
     "output_type": "execute_result"
    }
   ],
   "source": [
    "x"
   ]
  },
  {
   "cell_type": "code",
   "execution_count": 10,
   "metadata": {},
   "outputs": [
    {
     "data": {
      "text/plain": [
       "array([0., 0., 1., 0., 0.])"
      ]
     },
     "execution_count": 10,
     "metadata": {},
     "output_type": "execute_result"
    }
   ],
   "source": [
    "np.dot(a,x)"
   ]
  },
  {
   "cell_type": "code",
   "execution_count": null,
   "metadata": {},
   "outputs": [],
   "source": []
  }
 ],
 "metadata": {
  "kernelspec": {
   "display_name": "Python 3",
   "language": "python",
   "name": "python3"
  },
  "language_info": {
   "codemirror_mode": {
    "name": "ipython",
    "version": 3
   },
   "file_extension": ".py",
   "mimetype": "text/x-python",
   "name": "python",
   "nbconvert_exporter": "python",
   "pygments_lexer": "ipython3",
   "version": "3.8.5"
  }
 },
 "nbformat": 4,
 "nbformat_minor": 2
}
