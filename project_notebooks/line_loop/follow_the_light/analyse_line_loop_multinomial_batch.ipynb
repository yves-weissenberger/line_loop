{
 "cells": [
  {
   "cell_type": "markdown",
   "metadata": {},
   "source": [
    "# First pass analysis of line/loop data\n",
    "\n",
    "\n",
    "## Plots to make\n",
    "\n",
    "<ul>\n",
    "    <li> Basic multinomial regression choice model </li>\n",
    "    <li> Polar plot of where they go on the graph </li>\n",
    "    <li> histogram of lengths before turnaround </li>\n",
    "    <li> frequency of transitions </li>\n",
    "    <li> Number of teleports to each reward location </li>\n",
    "</ul>"
   ]
  },
  {
   "cell_type": "code",
   "execution_count": 1,
   "metadata": {},
   "outputs": [],
   "source": [
    "%matplotlib inline\n",
    "import numpy as np\n",
    "import scipy as sp\n",
    "import pandas as pd\n",
    "import matplotlib.pyplot as plt\n",
    "import matplotlib\n",
    "import seaborn\n",
    "import scipy.stats as stt\n",
    "seaborn.set(font_scale=2,style='ticks')\n",
    "import os\n",
    "import re\n",
    "import sys\n",
    "import itertools\n",
    "import networkx as nx\n",
    "sys.path.append(\"/Users/Yves/Documents/Code/structural_knowledge/packages/\")"
   ]
  },
  {
   "cell_type": "code",
   "execution_count": 2,
   "metadata": {},
   "outputs": [],
   "source": [
    "import mouse_poker as mpk\n",
    "import mouse_poker.optimize_task.layout as lyt"
   ]
  },
  {
   "cell_type": "markdown",
   "metadata": {},
   "source": [
    "# Defined functions "
   ]
  },
  {
   "cell_type": "code",
   "execution_count": 3,
   "metadata": {},
   "outputs": [],
   "source": [
    "poke_pos = [  [149,0],\n",
    "         [68,19],[231,19],\n",
    "       [0,62],[149,62],[298,62],\n",
    "         [68,105],[231,105],\n",
    "              [149,124]]"
   ]
  },
  {
   "cell_type": "markdown",
   "metadata": {},
   "source": [
    "# Actual code to run stuff "
   ]
  },
  {
   "cell_type": "code",
   "execution_count": 7,
   "metadata": {},
   "outputs": [],
   "source": [
    "ROOT = \"/Users/Yves/Desktop/mouse_behavior/line_loop_batch_1/\"\n",
    "bb  = mpk.load.create_base_df(ROOT)"
   ]
  },
  {
   "cell_type": "code",
   "execution_count": 8,
   "metadata": {},
   "outputs": [
    {
     "name": "stderr",
     "output_type": "stream",
     "text": [
      "/Users/Yves/anaconda3/lib/python3.6/site-packages/pandas/core/ops/__init__.py:1115: FutureWarning: elementwise comparison failed; returning scalar instead, but in the future will perform elementwise comparison\n",
      "  result = method(y)\n"
     ]
    }
   ],
   "source": [
    "bb = mpk.load.load_df()\n",
    "good_df = bb.loc[bb['valid']]\n",
    "date = '2020/02/10'\n",
    "day_df = good_df.loc[good_df['date']==date]"
   ]
  },
  {
   "cell_type": "code",
   "execution_count": 9,
   "metadata": {},
   "outputs": [
    {
     "data": {
      "text/plain": [
       "600"
      ]
     },
     "execution_count": 9,
     "metadata": {},
     "output_type": "execute_result"
    }
   ],
   "source": [
    "60*10"
   ]
  },
  {
   "cell_type": "code",
   "execution_count": 10,
   "metadata": {},
   "outputs": [
    {
     "ename": "NameError",
     "evalue": "name 'event_times' is not defined",
     "output_type": "error",
     "traceback": [
      "\u001b[0;31m---------------------------------------------------------------------------\u001b[0m",
      "\u001b[0;31mNameError\u001b[0m                                 Traceback (most recent call last)",
      "\u001b[0;32m<ipython-input-10-b113ef2e6086>\u001b[0m in \u001b[0;36m<module>\u001b[0;34m\u001b[0m\n\u001b[0;32m----> 1\u001b[0;31m \u001b[0mevent_times\u001b[0m\u001b[0;34m[\u001b[0m\u001b[0;34m-\u001b[0m\u001b[0;36m1\u001b[0m\u001b[0;34m]\u001b[0m\u001b[0;34m/\u001b[0m\u001b[0;36m60.\u001b[0m\u001b[0;34m\u001b[0m\u001b[0;34m\u001b[0m\u001b[0m\n\u001b[0m",
      "\u001b[0;31mNameError\u001b[0m: name 'event_times' is not defined"
     ]
    }
   ],
   "source": [
    "event_times[-1]/60."
   ]
  },
  {
   "cell_type": "code",
   "execution_count": null,
   "metadata": {},
   "outputs": [],
   "source": [
    "state_dict0 = eval(re.findall('({.*)\\n',''.join(lines))[0])\n",
    "event_dict = eval(re.findall('({.*)\\n',''.join(lines))[1])\n"
   ]
  },
  {
   "cell_type": "code",
   "execution_count": 76,
   "metadata": {},
   "outputs": [],
   "source": [
    "out = mpk.load.get_metadata(lines)\n",
    "experiment_name, task_name, subject_id, task_nr, graph,lineloop,date,test,summary_dict = out\n",
    "date = (np.datetime64(date.replace(' ','T').replace('/','-'))).astype('object')\n",
    "\n",
    "if (len(lines)>200 and test==False):\n",
    "    valid = True\n",
    "else:\n",
    "    valid = False\n",
    "\n",
    "if ((str(date.date())=='2020-02-11') and (date.time()<datetime.time(14,0,0))):\n",
    "    valid = False\n"
   ]
  },
  {
   "cell_type": "code",
   "execution_count": 15,
   "metadata": {},
   "outputs": [
    {
     "name": "stdout",
     "output_type": "stream",
     "text": [
      "35"
     ]
    }
   ],
   "source": [
    "ll = []\n",
    "pred_acc = []\n",
    "all_bias = []\n",
    "for ix in range(len(day_df)):\n",
    "    sys.stdout.write('\\r{}'.format(ix))\n",
    "    sys.stdout.flush()\n",
    "    filepath = day_df['filepath'].values[ix]\n",
    "    f = open(filepath,'r')\n",
    "    lines = f.readlines()\n",
    "    out = mpk.load.get_metadata(lines)\n",
    "    alt_ptsm,alt_struct, ptsm, struct = get_other_graph(filepath,day_df)\n",
    "    experiment_name, task_name, subject_id, task_nr, graph,lineloop,date,test,summary = out\n",
    "    dat_dict,events,event_times,nRews = mpk.load.parse_data(lines,None)\n",
    "\n",
    "    out = get_DM_y(events,event_times,dat_dict,struct,alt_struct,ptsm,alt_ptsm,bin_ms=10)\n",
    "    inPokes,DM = out\n",
    "    \n",
    "    y = np.zeros([9,inPokes.shape[0]-1])\n",
    "    for i in range(inPokes.shape[0]-1): y[inPokes[i],i] = 1\n",
    "        \n",
    "        \n",
    "    model = mpk.analyse.multinomial_model(DM.T.astype(\"float32\"),\n",
    "                                      y.astype(\"float32\").T,\n",
    "                                      9,eta=0.025,batch_size=200,\n",
    "                                      seed=9,prior_std=1)\n",
    "    test_cost = model.fit(500,verbose=False)\n",
    "    \n",
    "    ll.append(test_cost)\n",
    "    pred_acc.append(np.mean((np.argmax(model.model(model.X_test,sampling=False).logits.numpy(),axis=1)==np.array([int(np.where(i)[0]) for i in model.y_test]))))\n",
    "    \n",
    "    all_bias.append(model.model.bias.mean().numpy())"
   ]
  },
  {
   "cell_type": "code",
   "execution_count": 39,
   "metadata": {},
   "outputs": [],
   "source": [
    "import datetime"
   ]
  },
  {
   "cell_type": "code",
   "execution_count": 72,
   "metadata": {},
   "outputs": [],
   "source": [
    "dt = np.datetime64(date.replace(' ','T').replace('/','-')).astype('object')"
   ]
  },
  {
   "cell_type": "code",
   "execution_count": 73,
   "metadata": {},
   "outputs": [
    {
     "data": {
      "text/plain": [
       "False"
      ]
     },
     "execution_count": 73,
     "metadata": {},
     "output_type": "execute_result"
    }
   ],
   "source": [
    "datetime.time(14,0,0)>dt.time()"
   ]
  },
  {
   "cell_type": "code",
   "execution_count": 29,
   "metadata": {},
   "outputs": [
    {
     "data": {
      "image/png": "[encoded data removed]",
      "text/plain": [
       "<Figure size 432x288 with 1 Axes>"
      ]
     },
     "metadata": {},
     "output_type": "display_data"
    }
   ],
   "source": [
    "seaborn.distplot(pred_acc,kde=0,rug=True)\n",
    "plt.ylabel('# of sessions')\n",
    "plt.xlabel(\"Fraction of pokes correctly predicted\")\n",
    "seaborn.despine()"
   ]
  },
  {
   "cell_type": "code",
   "execution_count": 18,
   "metadata": {},
   "outputs": [],
   "source": [
    "bias_arr = np.array(all_bias)"
   ]
  },
  {
   "cell_type": "code",
   "execution_count": 22,
   "metadata": {},
   "outputs": [],
   "source": [
    "biass = np.median(bias_arr,axis=0)"
   ]
  },
  {
   "cell_type": "code",
   "execution_count": 23,
   "metadata": {},
   "outputs": [],
   "source": [
    "mappable = plt.cm.ScalarMappable(cmap='Reds')\n",
    "mappable.set_clim(np.min(biass),np.max(biass))"
   ]
  },
  {
   "cell_type": "code",
   "execution_count": 34,
   "metadata": {},
   "outputs": [
    {
     "data": {
      "text/plain": [
       "False"
      ]
     },
     "execution_count": 34,
     "metadata": {},
     "output_type": "execute_result"
    }
   ],
   "source": [
    "day_df['date'].values[0]>day_df['date'].values[0]"
   ]
  },
  {
   "cell_type": "code",
   "execution_count": 24,
   "metadata": {},
   "outputs": [
    {
     "data": {
      "image/png": "[encoded data removed]",
      "text/plain": [
       "<Figure size 432x216 with 1 Axes>"
      ]
     },
     "metadata": {},
     "output_type": "display_data"
    }
   ],
   "source": [
    "plt.figure(figsize=(6,3))\n",
    "ijk = 0\n",
    "for x,y in poke_pos:\n",
    "    #print(biass[ijk])\n",
    "    plt.scatter(x,y,c=np.array(mappable.to_rgba(biass[ijk])).reshape(1,-1),cmap='Reds',s=256)\n",
    "    #print(ijk)\n",
    "    ijk += 1\n",
    "seaborn.despine()"
   ]
  },
  {
   "cell_type": "code",
   "execution_count": 48,
   "metadata": {},
   "outputs": [
    {
     "data": {
      "text/plain": [
       "0"
      ]
     },
     "execution_count": 48,
     "metadata": {},
     "output_type": "execute_result"
    }
   ],
   "source": [
    "y"
   ]
  },
  {
   "cell_type": "code",
   "execution_count": null,
   "metadata": {},
   "outputs": [],
   "source": [
    "plt.imshow(port_dm,aspect=1000)\n",
    "plt.xlim(0,5000)"
   ]
  },
  {
   "cell_type": "code",
   "execution_count": null,
   "metadata": {},
   "outputs": [],
   "source": []
  },
  {
   "cell_type": "code",
   "execution_count": null,
   "metadata": {},
   "outputs": [],
   "source": [
    "bb = mouse_poker.load.load_df()\n",
    "good_df = bb.loc[bb['valid']]\n",
    "date = '2020/02/07'\n",
    "day_df = good_df.loc[good_df['date']==date]"
   ]
  },
  {
   "cell_type": "code",
   "execution_count": null,
   "metadata": {},
   "outputs": [],
   "source": [
    "good_df = bb.loc[bb['valid']]"
   ]
  },
  {
   "cell_type": "code",
   "execution_count": null,
   "metadata": {},
   "outputs": [],
   "source": []
  },
  {
   "cell_type": "code",
   "execution_count": null,
   "metadata": {},
   "outputs": [],
   "source": [
    "date = '2020/02/07'\n",
    "day_df = good_df.loc[good_df['date']==date]"
   ]
  },
  {
   "cell_type": "code",
   "execution_count": null,
   "metadata": {},
   "outputs": [],
   "source": [
    "day_df"
   ]
  },
  {
   "cell_type": "code",
   "execution_count": null,
   "metadata": {},
   "outputs": [],
   "source": [
    "ix = 18\n",
    "print(day_df['filepath'].values[ix])\n",
    "f = open(day_df['filepath'].values[ix],'r')\n",
    "lines =f.readlines()\n",
    "experiment_name, task_name, subject_id, task_nr, graph,lineloop,date,test = mouse_poker.load.get_metadata(lines)\n",
    "dat_dict,events,event_times,nRews = mouse_poker.load.parse_data(lines)\n",
    "\n",
    "y,poke_seq =mouse_poker.analyse.get_binned_pokes(events,event_times,binsize=1)\n",
    "#all_edges,edge_weights, poke_count = mouse_poker.analyse.get_transition_overview(y,dat_dict,\n",
    "#                                                     valid_transitions_only=False)\n",
    "print(day_df.iloc[ix]['structure']=='LOOP')"
   ]
  },
  {
   "cell_type": "code",
   "execution_count": null,
   "metadata": {},
   "outputs": [],
   "source": []
  },
  {
   "cell_type": "code",
   "execution_count": null,
   "metadata": {},
   "outputs": [],
   "source": [
    "np.sum(dat_dict['random'])"
   ]
  },
  {
   "cell_type": "code",
   "execution_count": null,
   "metadata": {},
   "outputs": [],
   "source": [
    "state_seq = np.array([i[0] for i in dat_dict['state']])"
   ]
  },
  {
   "cell_type": "code",
   "execution_count": null,
   "metadata": {},
   "outputs": [],
   "source": [
    "plt.figure(figsize=(24,4))\n",
    "plt.plot(state_seq,marker='.')"
   ]
  },
  {
   "cell_type": "code",
   "execution_count": null,
   "metadata": {},
   "outputs": [],
   "source": []
  },
  {
   "cell_type": "code",
   "execution_count": null,
   "metadata": {},
   "outputs": [],
   "source": [
    "#dat_dict['random'] = dat_dict['random'][::2]"
   ]
  },
  {
   "cell_type": "code",
   "execution_count": null,
   "metadata": {},
   "outputs": [],
   "source": [
    "#[i[25:] for i in lines[:500] if 'POKEDPORT' in i]"
   ]
  },
  {
   "cell_type": "code",
   "execution_count": null,
   "metadata": {},
   "outputs": [],
   "source": []
  },
  {
   "cell_type": "code",
   "execution_count": null,
   "metadata": {},
   "outputs": [],
   "source": [
    "def get_valid_edges(dat_dict):\n",
    "    edges = []\n",
    "    for ctr,i in enumerate(dat_dict['port']):\n",
    "        #if None not in i[1]:\n",
    "        for j in i[1]:\n",
    "            if j is not None and not dat_dict['random'][ctr]:\n",
    "                if [i[0],j] not in edges: edges.append([i[0],j])\n",
    "    return edges"
   ]
  },
  {
   "cell_type": "code",
   "execution_count": null,
   "metadata": {},
   "outputs": [],
   "source": [
    "print(np.sum(dat_dict['random'])/nRews)"
   ]
  },
  {
   "cell_type": "code",
   "execution_count": null,
   "metadata": {},
   "outputs": [],
   "source": [
    "teleport_to = [dat_dict['port'][i][0] for i in np.where(dat_dict['random'])[0]]\n",
    "teleport_count = [teleport_to.count(i) for i in np.unique(teleport_to)]\n",
    "np.cumsum(np.flipud(np.sort((teleport_count))))/np.sum(teleport_count)"
   ]
  },
  {
   "cell_type": "code",
   "execution_count": null,
   "metadata": {},
   "outputs": [],
   "source": []
  },
  {
   "cell_type": "code",
   "execution_count": null,
   "metadata": {},
   "outputs": [],
   "source": [
    "print(len(dat_dict['random']),len(dat_dict['port']),len(dat_dict['port']))"
   ]
  },
  {
   "cell_type": "code",
   "execution_count": null,
   "metadata": {},
   "outputs": [],
   "source": [
    "plt.figure(figsize=(10,4))\n",
    "edges = get_valid_edges(dat_dict)\n",
    "plt.subplot(1,2,1)\n",
    "plt.title(\"'Valid' transitions on graph\")\n",
    "G = nx.DiGraph()\n",
    "G.add_edges_from(sorted(edges))\n",
    "nx.draw(G,\n",
    "        pos=np.array([1,-1])*poke_pos)\n",
    "\n",
    "plt.subplot(1,2,2)\n",
    "plt.title(\"Transition prob normed to\\n out-paths from node\")\n",
    "edge_weights=mouse_poker.analyse.plot_transition_overview(y,dat_dict,valid_transitions_only=True)"
   ]
  },
  {
   "cell_type": "code",
   "execution_count": null,
   "metadata": {},
   "outputs": [],
   "source": [
    "#look at rarest transitions on graph"
   ]
  },
  {
   "cell_type": "markdown",
   "metadata": {},
   "source": [
    "# Batch look at what fraction go to top n teleports "
   ]
  },
  {
   "cell_type": "code",
   "execution_count": null,
   "metadata": {},
   "outputs": [],
   "source": [
    "batch_fracT = []\n",
    "for ix in range(len(day_df)):\n",
    "    #ix = 16\n",
    "    #print(day_df['filepath'].values[ix])\n",
    "    f = open(day_df['filepath'].values[ix],'r')\n",
    "    lines =f.readlines()\n",
    "    experiment_name, task_name, subject_id, task_nr, graph,lineloop,date,test = mouse_poker.load.get_metadata(lines)\n",
    "    dat_dict,events,event_times,nRews = mouse_poker.load.parse_data(lines)\n",
    "\n",
    "    y,poke_seq =mouse_poker.analyse.get_binned_pokes(events,event_times,binsize=1)\n",
    "    #print(day_df.iloc[ix]['structure']=='LOOP')\n",
    "    teleport_to = [dat_dict['port'][i][0] for i in np.where(dat_dict['random'])[0] if not dat_dict['random'][i-1]]\n",
    "    teleport_count = [teleport_to.count(i) for i in [0,3,5,8]]\n",
    "    batch_fracT.append((np.flipud(np.sort((teleport_count))))/np.sum(teleport_count))"
   ]
  },
  {
   "cell_type": "code",
   "execution_count": null,
   "metadata": {},
   "outputs": [],
   "source": [
    "batch_fracT = np.array(batch_fracT)"
   ]
  },
  {
   "cell_type": "code",
   "execution_count": null,
   "metadata": {},
   "outputs": [],
   "source": [
    "mu = np.array(batch_fracT).mean(axis=0)\n",
    "sem = stt.sem(np.array(batch_fracT))"
   ]
  },
  {
   "cell_type": "code",
   "execution_count": null,
   "metadata": {},
   "outputs": [],
   "source": [
    "plt.bar(range(4),mu,yerr=sem)\n",
    "for kk,d_ in enumerate(batch_fracT.T):\n",
    "    plt.scatter(kk*np.ones(len(d_))+np.random.normal(scale=.065,size=len(d_)),\n",
    "                d_,zorder=100,color='.3',alpha=.3)\n",
    "plt.ylabel(\"Fraction teleported to\")\n",
    "plt.xlabel(\"Sorted teleport target\")\n",
    "plt.ylim(0,1)\n",
    "plt.xticks(range(4),range(1,5))\n",
    "#plt.xticks([0,1],['Line','Loop'])\n",
    "plt.tight_layout()\n",
    "seaborn.despine()"
   ]
  },
  {
   "cell_type": "code",
   "execution_count": null,
   "metadata": {},
   "outputs": [],
   "source": [
    "plt.bar(range(4),mu,yerr=sem)\n",
    "for kk,d_ in enumerate(batch_fracT.T):\n",
    "    plt.scatter(kk*np.ones(len(d_))+np.random.normal(scale=.065,size=len(d_)),\n",
    "                d_,zorder=100,color='.3',alpha=.3)\n",
    "plt.ylabel(\"Fraction teleported to\")\n",
    "plt.xlabel(\"Sorted teleport target\")\n",
    "plt.ylim(0)\n",
    "plt.xticks(range(4),range(1,5))\n",
    "#plt.xticks([0,1],['Line','Loop'])\n",
    "plt.tight_layout()\n",
    "seaborn.despine()"
   ]
  },
  {
   "cell_type": "markdown",
   "metadata": {},
   "source": [
    "# Batch look at 'run' lengths "
   ]
  },
  {
   "cell_type": "code",
   "execution_count": null,
   "metadata": {},
   "outputs": [],
   "source": [
    "batch_seqLength = []\n",
    "for ix in range(len(day_df)):\n",
    "    #ix = 16\n",
    "    #print(day_df['filepath'].values[ix])\n",
    "    f = open(day_df['filepath'].values[ix],'r')\n",
    "    lines =f.readlines()\n",
    "    experiment_name, task_name, subject_id, task_nr, graph,lineloop,date,test = mouse_poker.load.get_metadata(lines)\n",
    "    dat_dict,events,event_times,nRews = mouse_poker.load.parse_data(lines)\n",
    "    allSeqLen = get_sequence_lengths(dat_dict)\n",
    "    batch_seqLength.extend(allSeqLen)"
   ]
  },
  {
   "cell_type": "code",
   "execution_count": null,
   "metadata": {},
   "outputs": [],
   "source": [
    "tmp = np.array([batch_seqLength.count(i) for i in range(9)])\n",
    "print('Length of sequences in consective direction\\n')\n",
    "for i in range(1,9):\n",
    "    print('length %s, count %s' %(i,tmp[i]))"
   ]
  },
  {
   "cell_type": "code",
   "execution_count": null,
   "metadata": {},
   "outputs": [],
   "source": [
    "tmp = np.array([batch_seqLength.count(i) for i in range(9)])\n",
    "print('Length of sequences in consective direction\\n')\n",
    "for i in range(1,9):\n",
    "    print('length %s, count %s' %(i,tmp[i]))"
   ]
  },
  {
   "cell_type": "code",
   "execution_count": null,
   "metadata": {},
   "outputs": [],
   "source": [
    "plt.plot(range(1,9),np.cumsum(tmp[1:]/np.sum(tmp[1:])),label='Sequence p')\n",
    "#plt.plot(range(1,9),stt.geom(0.75).pmf(np.arange(1,9)),label='Geometric; p=0.75')\n",
    "\n",
    "plt.xlabel(\"Sequence length\")\n",
    "plt.ylabel(\"Probability\")\n",
    "seaborn.despine()"
   ]
  },
  {
   "cell_type": "code",
   "execution_count": null,
   "metadata": {},
   "outputs": [],
   "source": [
    "def get_sequence_lengths(dat_dict):\n",
    "    \"\"\" Get length of walks in one direction on the graph\n",
    "        of a particular length        \n",
    "    \"\"\"\n",
    "    new = True\n",
    "    increasing = False\n",
    "    decreasing = False\n",
    "    allSeqlen = []\n",
    "    len_seq = 0.\n",
    "\n",
    "    tmp = np.array([i[0] for i in dat_dict['state']])\n",
    "\n",
    "    \n",
    "    for i0,i1 in zip(tmp[:-1],tmp[1:]):\n",
    "\n",
    "        \n",
    "        #deal with teleports\n",
    "        if np.abs(i0-i1)!=1:\n",
    "            increasing = False\n",
    "            decreasing = False\n",
    "            new = True\n",
    "            #allSeqlen.append(len_seq)\n",
    "            len_seq = 0\n",
    "        if increasing and not new:\n",
    "            if i1>i0:\n",
    "                #print(1,i0)\n",
    "                len_seq += 1\n",
    "            elif i1<i0:\n",
    "                #print(2)\n",
    "                allSeqlen.append(len_seq)\n",
    "                len_seq = 0\n",
    "                new = True\n",
    "\n",
    "        if decreasing and not new:\n",
    "            if i1>i0:\n",
    "                allSeqlen.append(len_seq)\n",
    "                new = True\n",
    "                len_seq = 0\n",
    "            elif i1<i0:\n",
    "                len_seq += 1\n",
    "\n",
    "        if new:\n",
    "            if i1>i0:\n",
    "                increasing = True\n",
    "                decreasing = False\n",
    "            elif i1<i0:\n",
    "                decreasing = True\n",
    "                increasing = False\n",
    "            len_seq += 1\n",
    "            new = False\n",
    "            #print(decreasing,increasing)\n",
    "    return allSeqlen\n"
   ]
  },
  {
   "cell_type": "markdown",
   "metadata": {},
   "source": [
    "#  Batch stuff"
   ]
  },
  {
   "cell_type": "code",
   "execution_count": null,
   "metadata": {},
   "outputs": [],
   "source": [
    "all_pairs = []\n",
    "for ix in range(len(day_df)):\n",
    "    f = open(day_df['filepath'].values[ix],'r')\n",
    "    if day_df.iloc[ix]['structure']=='LOOP':\n",
    "        lines =f.readlines()\n",
    "        experiment_name, task_name, subject_id, task_nr, graph,lineloop,date,test = mouse_poker.load.get_metadata(lines)\n",
    "        dat_dict,events,event_times,nRews = mouse_poker.load.parse_data(lines)\n",
    "\n",
    "        y,poke_seq =mouse_poker.analyse.get_binned_pokes(events,event_times,binsize=1)\n",
    "        all_edges,edge_weights, poke_count,edge_weights_unNorm = mouse_poker.analyse.get_transition_overview(y,dat_dict,\n",
    "                                                             valid_transitions_only=True)\n",
    "        \n",
    "        valid_edges = get_valid_edges(dat_dict)\n",
    "        \n",
    "        pairs = []\n",
    "        looked_at = []\n",
    "        for ctr1,e in enumerate(all_edges):\n",
    "            if list(e) in valid_edges:\n",
    "                for ctr2,e2 in enumerate(all_edges):\n",
    "                    if (set(e)==set(e2)) and (e!=e2):\n",
    "                        \n",
    "                        pairs.append([edge_weights[ctr1],edge_weights[ctr2]])\n",
    "        all_pairs.extend(pairs)"
   ]
  },
  {
   "cell_type": "code",
   "execution_count": null,
   "metadata": {},
   "outputs": [],
   "source": []
  },
  {
   "cell_type": "code",
   "execution_count": null,
   "metadata": {},
   "outputs": [],
   "source": [
    "looked_at = []\n",
    "all_pairs2 = []\n",
    "for p in all_pairs:\n",
    "    if set(p) not in looked_at:\n",
    "        all_pairs2.append(p)\n",
    "        looked_at.append(set(p))"
   ]
  },
  {
   "cell_type": "code",
   "execution_count": null,
   "metadata": {},
   "outputs": [],
   "source": [
    "len(all_pairs2)"
   ]
  },
  {
   "cell_type": "code",
   "execution_count": null,
   "metadata": {},
   "outputs": [],
   "source": [
    "len(all_pairs)"
   ]
  },
  {
   "cell_type": "code",
   "execution_count": null,
   "metadata": {},
   "outputs": [],
   "source": [
    "#[[1,2],[1]]==[[1,2],[1]]"
   ]
  },
  {
   "cell_type": "code",
   "execution_count": null,
   "metadata": {},
   "outputs": [],
   "source": [
    "np.corrcoef([i[0] for i in all_pairs2],[i[1] for i in all_pairs2])"
   ]
  },
  {
   "cell_type": "code",
   "execution_count": null,
   "metadata": {},
   "outputs": [],
   "source": [
    "seaborn.jointplot([i[0] for i in all_pairs2],\n",
    "                  [i[1] for i in all_pairs2],\n",
    "                  kind='reg')\n",
    "\n",
    "#plt.plot([0,1],[0,1],color='.3')"
   ]
  },
  {
   "cell_type": "code",
   "execution_count": null,
   "metadata": {},
   "outputs": [],
   "source": []
  },
  {
   "cell_type": "code",
   "execution_count": null,
   "metadata": {},
   "outputs": [],
   "source": [
    "stt.ttest_ind(good_df.loc[good_df['structure']=='LINE'].nRews.values,\n",
    "              good_df.loc[good_df['structure']=='LOOP'].nRews.values)"
   ]
  },
  {
   "cell_type": "code",
   "execution_count": null,
   "metadata": {},
   "outputs": [],
   "source": [
    "muLI = np.mean(good_df.loc[good_df['structure']=='LINE'].nRews.values)\n",
    "muLO = np.mean(good_df.loc[good_df['structure']=='LOOP'].nRews.values)\n",
    "\n",
    "\n",
    "semLI = stt.sem(good_df.loc[good_df['structure']=='LINE'].nRews.values)\n",
    "semLO = stt.sem(good_df.loc[good_df['structure']=='LOOP'].nRews.values)\n",
    "\n",
    "plt.bar([0,1],[muLI,muLO],yerr=[semLI,semLO])\n",
    "\n",
    "plt.ylabel(\"Mean # of rewards \\nper session\")\n",
    "plt.xlabel(\"Graph Type\")\n",
    "plt.xticks([0,1],['Line','Loop'])\n",
    "plt.tight_layout()\n",
    "seaborn.despine()"
   ]
  },
  {
   "cell_type": "code",
   "execution_count": null,
   "metadata": {},
   "outputs": [],
   "source": []
  },
  {
   "cell_type": "code",
   "execution_count": null,
   "metadata": {},
   "outputs": [],
   "source": []
  },
  {
   "cell_type": "code",
   "execution_count": null,
   "metadata": {},
   "outputs": [],
   "source": [
    "def get_edges_and_layout(lines):\n",
    "    \"\"\" Function that takes in file and returns edges and layout\"\"\"\n",
    "    nextEdges = False\n",
    "    nextLayout = False\n",
    "    edge_set = None\n",
    "    for l in lines:\n",
    "        \n",
    "        if nextLayout:\n",
    "            nextLayout = False\n",
    "            layout = eval(l[3:])\n",
    "            break\n",
    "        if nextEdges:\n",
    "            edge_set = eval(l[3:])\n",
    "            nextEdges = False\n",
    "            nextLayout = True\n",
    "        if ('LOOP' in l or 'LINE' in l):\n",
    "            nextEdges = True\n",
    "        if 'task_nr' in l:\n",
    "            task_nr = int(re.findall('task_nr ([0-9])\\n',l)[0])\n",
    "    \n",
    "    edges = edges = [(kk,i) for kk,e in enumerate(edge_set) for i in e]\n",
    "    return edges, edge_set, layout, task_nr"
   ]
  },
  {
   "cell_type": "code",
   "execution_count": null,
   "metadata": {},
   "outputs": [],
   "source": [
    "import imp"
   ]
  },
  {
   "cell_type": "code",
   "execution_count": null,
   "metadata": {},
   "outputs": [],
   "source": [
    "mouse_poker = imp.reload(mouse_poker)"
   ]
  },
  {
   "cell_type": "code",
   "execution_count": null,
   "metadata": {},
   "outputs": [],
   "source": [
    "ix = 22\n",
    "f = open(day_df['filepath'].values[ix],'r')\n",
    "lines =f.readlines()\n",
    "experiment_name, task_name, subject_id, task_nr, graph,lineloop,date,test = mouse_poker.load.get_metadata(lines)\n",
    "dat_dict,events,event_times,nRews = mouse_poker.load.parse_data(lines)\n",
    "\n",
    "y,poke_seq =mouse_poker.analyse.get_binned_pokes(events,event_times,binsize=1)\n",
    "#all_edges,edge_weights, poke_count = mouse_poker.analyse.get_transition_overview(y,dat_dict,\n",
    "#                                                     valid_transitions_only=False)\n",
    "print(day_df.iloc[ix]['structure']=='LOOP')"
   ]
  },
  {
   "cell_type": "code",
   "execution_count": null,
   "metadata": {},
   "outputs": [],
   "source": [
    "len(poke_seq)"
   ]
  },
  {
   "cell_type": "code",
   "execution_count": null,
   "metadata": {},
   "outputs": [],
   "source": []
  },
  {
   "cell_type": "code",
   "execution_count": null,
   "metadata": {},
   "outputs": [],
   "source": [
    "len(dat_dict['random'])"
   ]
  },
  {
   "cell_type": "code",
   "execution_count": null,
   "metadata": {},
   "outputs": [],
   "source": [
    "len(dat_dict['state'])"
   ]
  },
  {
   "cell_type": "code",
   "execution_count": null,
   "metadata": {},
   "outputs": [],
   "source": [
    "edges = list(set(reconstruct_graph(dat_dict)))"
   ]
  },
  {
   "cell_type": "code",
   "execution_count": null,
   "metadata": {},
   "outputs": [],
   "source": [
    "edges = list(set(reconstruct_graph(dat_dict)))\n",
    "G = nx.DiGraph()\n",
    "G.add_edges_from([i for i in edges if None not in i])\n",
    "nx.draw(G,\n",
    "        pos=np.array([1,-1])*poke_pos)"
   ]
  },
  {
   "cell_type": "code",
   "execution_count": null,
   "metadata": {},
   "outputs": [],
   "source": [
    "edge_weights=mouse_poker.analyse.plot_transition_overview(y,dat_dict,valid_transitions_only=True)"
   ]
  },
  {
   "cell_type": "code",
   "execution_count": null,
   "metadata": {},
   "outputs": [],
   "source": []
  },
  {
   "cell_type": "code",
   "execution_count": null,
   "metadata": {},
   "outputs": [],
   "source": [
    "y,poke_seq =mouse_poker.analyse.get_binned_pokes(events,event_times,binsize=1)"
   ]
  },
  {
   "cell_type": "code",
   "execution_count": null,
   "metadata": {},
   "outputs": [],
   "source": [
    "poke_seq = [np.where(y[:,i])[0][0] for i in np.where(y.sum(axis=0))[0]]"
   ]
  },
  {
   "cell_type": "code",
   "execution_count": null,
   "metadata": {},
   "outputs": [],
   "source": [
    "poke_times = np.where(y.sum(axis=0))[0]"
   ]
  },
  {
   "cell_type": "code",
   "execution_count": null,
   "metadata": {},
   "outputs": [],
   "source": []
  },
  {
   "cell_type": "code",
   "execution_count": null,
   "metadata": {},
   "outputs": [],
   "source": [
    "bout_edges = np.concatenate([[0],np.where((poke_times[1:]-poke_times[:-1])>1000)[0]])"
   ]
  },
  {
   "cell_type": "code",
   "execution_count": null,
   "metadata": {},
   "outputs": [],
   "source": [
    "bout_seqs = []\n",
    "for st,nd in zip(bout_edges[:-1],bout_edges[1:]):\n",
    "    if (nd-st)>1:\n",
    "        bout_seqs.append(poke_seq[st:nd+1])"
   ]
  },
  {
   "cell_type": "code",
   "execution_count": null,
   "metadata": {},
   "outputs": [],
   "source": [
    "all_edges = []\n",
    "for i in range(9):\n",
    "    for j in range(9):\n",
    "        all_edges.append([i,j])"
   ]
  },
  {
   "cell_type": "code",
   "execution_count": null,
   "metadata": {},
   "outputs": [],
   "source": [
    "seq_counter = [0]*len(all_edges)\n",
    "for p1,p2 in zip(poke_seq[:-1],poke_seq[1:]):\n",
    "    \n",
    "    for kk,nP in enumerate(all_edges):\n",
    "        if [p1,p2]==nP:\n",
    "            seq_counter[kk] += 1"
   ]
  },
  {
   "cell_type": "code",
   "execution_count": null,
   "metadata": {},
   "outputs": [],
   "source": []
  },
  {
   "cell_type": "code",
   "execution_count": null,
   "metadata": {},
   "outputs": [],
   "source": [
    "seq_counter = np.array(seq_counter).reshape(9,-1)\n",
    "edge_weights = (seq_counter/np.sum(seq_counter,axis=1)).flatten()"
   ]
  },
  {
   "cell_type": "code",
   "execution_count": null,
   "metadata": {},
   "outputs": [],
   "source": []
  },
  {
   "cell_type": "code",
   "execution_count": null,
   "metadata": {},
   "outputs": [],
   "source": [
    "G = nx.DiGraph()\n",
    "for i in range(9):\n",
    "    G.add_node(i,pos=(poke_pos[i][0],poke_pos[i][1]))\n",
    "\n",
    "for e,w in zip(all_edges,edge_weights):\n",
    "    G.add_edge(e[0],e[1],weight=10*w)"
   ]
  },
  {
   "cell_type": "code",
   "execution_count": null,
   "metadata": {},
   "outputs": [],
   "source": []
  },
  {
   "cell_type": "code",
   "execution_count": null,
   "metadata": {},
   "outputs": [],
   "source": [
    "nx.draw_networkx_nodes(G,pos=poke_pos,node_color='k')\n",
    "\n",
    "#nodes_ = nx.get_node_attributes(G)\n",
    "nx.draw_networkx_edges(G,poke_pos,\n",
    "                       edge_color=edge_weights,\n",
    "                       edge_vmin=0,edge_vmax=np.max(edge_weights),\n",
    "                       edge_cmap=matplotlib.cm.Greys)\n",
    "seaborn.despine(bottom=True,left=True)"
   ]
  },
  {
   "cell_type": "code",
   "execution_count": null,
   "metadata": {},
   "outputs": [],
   "source": [
    "np.sum(seq_counter,axis=1)"
   ]
  },
  {
   "cell_type": "code",
   "execution_count": null,
   "metadata": {},
   "outputs": [],
   "source": [
    "seq_counter[0]/seq_counter[0].sum()"
   ]
  },
  {
   "cell_type": "code",
   "execution_count": null,
   "metadata": {},
   "outputs": [],
   "source": [
    "seaborn.distplot(poke_times[1:] - poke_times[:-1],bins=np.linspace(0,2000,num=50),kde=0)"
   ]
  },
  {
   "cell_type": "code",
   "execution_count": null,
   "metadata": {},
   "outputs": [],
   "source": []
  },
  {
   "cell_type": "code",
   "execution_count": null,
   "metadata": {},
   "outputs": [],
   "source": [
    "def get_poke_bouts(y,cutoff=1000):\n",
    "    \"\"\" Get sublists of sequences of pokes if the pokes\n",
    "        occurred within cutoff of other pokes\n",
    "    \"\"\"\n",
    "    poke_seq = [np.where(y[:,i])[0][0] for i in np.where(y.sum(axis=0))[0]]\n",
    "    poke_times = np.where(y.sum(axis=0))[0]\n",
    "    \n",
    "    bout_seqs = []\n",
    "    for st,nd in zip(bout_edges[:-1],bout_edges[1:]):\n",
    "        bout_seqs.append(poke_seq[st:nd])"
   ]
  },
  {
   "cell_type": "code",
   "execution_count": null,
   "metadata": {},
   "outputs": [],
   "source": [
    "ts = mouse_poker.analyse.get_distribution_of_poke_times(events,event_times)"
   ]
  },
  {
   "cell_type": "code",
   "execution_count": null,
   "metadata": {},
   "outputs": [],
   "source": [
    "seaborn.distplot(ts,kde=0,bins=np.linspace(0,.5,num=100))\n"
   ]
  },
  {
   "cell_type": "code",
   "execution_count": null,
   "metadata": {},
   "outputs": [],
   "source": [
    "inPoke_events=  ['poke_'+str(i) for i in range(1,10)]"
   ]
  },
  {
   "cell_type": "code",
   "execution_count": null,
   "metadata": {},
   "outputs": [],
   "source": [
    "events[1]"
   ]
  },
  {
   "cell_type": "code",
   "execution_count": null,
   "metadata": {},
   "outputs": [],
   "source": [
    "all_poke_seq = np.array([i for i in events if i in inPoke_events])\n",
    "\n",
    "allNextPoke = []\n",
    "for inPk in inPoke_events:\n",
    "    inPk_ixs = np.where(all_poke_seq==inPk)[0]\n",
    "    \n",
    "    tmp = []\n",
    "    for ix2 in inPk_ixs:\n",
    "        if ix2<(len(all_poke_seq)-1):\n",
    "            tmp.append(all_poke_seq[ix2+1])\n",
    "    allNextPoke.append(tmp)"
   ]
  },
  {
   "cell_type": "code",
   "execution_count": null,
   "metadata": {},
   "outputs": [],
   "source": []
  },
  {
   "cell_type": "code",
   "execution_count": null,
   "metadata": {},
   "outputs": [],
   "source": [
    "plt.figure(figsize=(13,8))\n",
    "for i in range(9):\n",
    "    plt.subplot(3,3,i+1)\n",
    "    poke_counts = [allNextPoke[i].count(ik) for ik in inPoke_events]\n",
    "    plt.scatter([i[0] for i in poke_pos],[i[1] for i in poke_pos],c=poke_counts,s=700,cmap='Reds')\n",
    "    plt.xlim(-50,350)\n",
    "    plt.ylim(-50,150)\n",
    "#seaborn.despine()"
   ]
  },
  {
   "cell_type": "code",
   "execution_count": null,
   "metadata": {},
   "outputs": [],
   "source": [
    "poke_counts = [events.count(i) for i in inPoke_events]"
   ]
  },
  {
   "cell_type": "code",
   "execution_count": null,
   "metadata": {},
   "outputs": [],
   "source": [
    "plt.scatter([i[0] for i in poke_pos],[i[1] for i in poke_pos],c=poke_counts,s=900,cmap='Reds')"
   ]
  },
  {
   "cell_type": "code",
   "execution_count": null,
   "metadata": {},
   "outputs": [],
   "source": [
    "for i "
   ]
  },
  {
   "cell_type": "code",
   "execution_count": null,
   "metadata": {},
   "outputs": [],
   "source": [
    "2 − 2 cos(2πk/n)"
   ]
  },
  {
   "cell_type": "code",
   "execution_count": null,
   "metadata": {},
   "outputs": [],
   "source": []
  },
  {
   "cell_type": "code",
   "execution_count": null,
   "metadata": {},
   "outputs": [],
   "source": []
  }
 ],
 "metadata": {
  "kernelspec": {
   "display_name": "Python 3",
   "language": "python",
   "name": "python3"
  },
  "language_info": {
   "codemirror_mode": {
    "name": "ipython",
    "version": 3
   },
   "file_extension": ".py",
   "mimetype": "text/x-python",
   "name": "python",
   "nbconvert_exporter": "python",
   "pygments_lexer": "ipython3",
   "version": "3.6.9"
  }
 },
 "nbformat": 4,
 "nbformat_minor": 2
}
