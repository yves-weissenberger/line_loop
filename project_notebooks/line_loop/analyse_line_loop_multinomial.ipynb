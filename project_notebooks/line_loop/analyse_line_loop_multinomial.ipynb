{
 "cells": [
  {
   "cell_type": "markdown",
   "metadata": {},
   "source": [
    "# First pass analysis of line/loop data\n",
    "\n",
    "\n",
    "## Plots to make\n",
    "\n",
    "<ul>\n",
    "    <li> Basic multinomial regression choice model </li>\n",
    "    <li> Polar plot of where they go on the graph </li>\n",
    "    <li> histogram of lengths before turnaround </li>\n",
    "    <li> frequency of transitions </li>\n",
    "    <li> Number of teleports to each reward location </li>\n",
    "</ul>"
   ]
  },
  {
   "cell_type": "code",
   "execution_count": 1,
   "metadata": {},
   "outputs": [],
   "source": [
    "%matplotlib inline\n",
    "import numpy as np\n",
    "import scipy as sp\n",
    "import pandas as pd\n",
    "import matplotlib.pyplot as plt\n",
    "import matplotlib\n",
    "import seaborn\n",
    "import scipy.stats as stt\n",
    "seaborn.set(font_scale=2,style='ticks')\n",
    "import os\n",
    "import re\n",
    "import sys\n",
    "import itertools\n",
    "import networkx as nx\n",
    "sys.path.append(\"/Users/Yves/Documents/Code/structural_knowledge/packages/\")"
   ]
  },
  {
   "cell_type": "code",
   "execution_count": 2,
   "metadata": {},
   "outputs": [],
   "source": [
    "import mouse_poker as mpk\n",
    "import mouse_poker.optimize_task.layout as lyt"
   ]
  },
  {
   "cell_type": "markdown",
   "metadata": {},
   "source": [
    "# Defined functions "
   ]
  },
  {
   "cell_type": "code",
   "execution_count": 3,
   "metadata": {},
   "outputs": [],
   "source": [
    "poke_pos = [  [149,0],\n",
    "         [68,19],[231,19],\n",
    "       [0,62],[149,62],[298,62],\n",
    "         [68,105],[231,105],\n",
    "              [149,124]]"
   ]
  },
  {
   "cell_type": "markdown",
   "metadata": {},
   "source": [
    "# Actual code to run stuff "
   ]
  },
  {
   "cell_type": "code",
   "execution_count": 9,
   "metadata": {},
   "outputs": [],
   "source": [
    "ROOT = \"/Users/Yves/Documents/behavior_data/line_loop_cohort_1/\"\n",
    "#bb  = mpk.load.create_base_df(ROOT)"
   ]
  },
  {
   "cell_type": "code",
   "execution_count": 10,
   "metadata": {},
   "outputs": [],
   "source": [
    "bb = mpk.load.load_df(ROOT)\n",
    "good_df = bb.loc[bb['valid']]\n",
    "date = '2020/03/12'\n",
    "day_df = good_df.loc[good_df['date']==date]"
   ]
  },
  {
   "cell_type": "code",
   "execution_count": null,
   "metadata": {},
   "outputs": [],
   "source": []
  },
  {
   "cell_type": "code",
   "execution_count": 112,
   "metadata": {},
   "outputs": [],
   "source": [
    "#18 is line line\n",
    "filepath = day_df['filepath'].values[7]\n",
    "f = open(filepath,'r')\n",
    "lines = f.readlines()\n",
    "out = mpk.load.get_metadata(lines)\n"
   ]
  },
  {
   "cell_type": "code",
   "execution_count": null,
   "metadata": {},
   "outputs": [],
   "source": []
  },
  {
   "cell_type": "code",
   "execution_count": 113,
   "metadata": {},
   "outputs": [],
   "source": [
    "def get_other_graph(filepath,day_df):\n",
    "    ptsm = day_df.loc[day_df['filepath']==filepath]['summary_dict'].values[0]['poke_to_state_map']\n",
    "    ptsm = [ptsm.index(i) for i in range(9)]\n",
    "\n",
    "    struct = day_df.loc[day_df['filepath']==filepath]['structure'].values[0]\n",
    "    m = day_df.loc[day_df['filepath']==filepath].mouse_ID.values[0]\n",
    "    task_nr = day_df.loc[day_df['filepath']==filepath].task_nr.values[0]\n",
    "\n",
    "    \n",
    "    tmp_df = day_df.loc[day_df['mouse_ID']==m]\n",
    "    tmp_df = tmp_df.loc[tmp_df['task_nr']!=task_nr]\n",
    "    other_task = 1 if task_nr==2 else 2\n",
    "    alt_ptsm = tmp_df['summary_dict'].values[0]['poke_to_state_map']\n",
    "    alt_ptsm = [alt_ptsm.index(i) for i in range(9)]\n",
    "    alt_struct = tmp_df['structure'].values[0]\n",
    "    \n",
    "    return alt_ptsm, alt_struct, ptsm, struct"
   ]
  },
  {
   "cell_type": "code",
   "execution_count": null,
   "metadata": {},
   "outputs": [],
   "source": []
  },
  {
   "cell_type": "code",
   "execution_count": 114,
   "metadata": {},
   "outputs": [],
   "source": [
    "alt_ptsm,alt_struct, ptsm, struct = get_other_graph(filepath,day_df)"
   ]
  },
  {
   "cell_type": "code",
   "execution_count": 115,
   "metadata": {},
   "outputs": [
    {
     "name": "stdout",
     "output_type": "stream",
     "text": [
      "loop line\n"
     ]
    }
   ],
   "source": [
    "print(struct,alt_struct)"
   ]
  },
  {
   "cell_type": "code",
   "execution_count": 116,
   "metadata": {},
   "outputs": [],
   "source": [
    "experiment_name, task_name, subject_id, task_nr, graph,lineloop,date,test,summary = out"
   ]
  },
  {
   "cell_type": "code",
   "execution_count": 117,
   "metadata": {},
   "outputs": [],
   "source": [
    "dat_dict,events,event_times,nRews = mpk.load.parse_data(lines,None)\n"
   ]
  },
  {
   "cell_type": "code",
   "execution_count": null,
   "metadata": {},
   "outputs": [],
   "source": []
  },
  {
   "cell_type": "code",
   "execution_count": 118,
   "metadata": {},
   "outputs": [],
   "source": [
    "bin_ms = 10\n",
    "nBins = int(np.max(event_times)*1000/bin_ms) #data binned into 10ms chunks\n",
    "bin_mult = 1000/bin_ms\n"
   ]
  },
  {
   "cell_type": "code",
   "execution_count": 119,
   "metadata": {},
   "outputs": [],
   "source": [
    "inPokes = np.array([int(i[-1]) for kk,i in enumerate(events) if re.findall('poke_[0-9]$',i)]) - 1\n",
    "inPoke_t = np.floor(event_times[np.array([kk for kk,i in enumerate(events) if re.findall('poke_[0-9]$',i)])]*bin_mult).astype('int')"
   ]
  },
  {
   "cell_type": "code",
   "execution_count": 120,
   "metadata": {},
   "outputs": [],
   "source": [
    "def get_DM_y(events,event_times,bin_ms,dat_dict,struct,alt_struct,ptsm,alt_ptsm):\n",
    "    nBins = int(np.max(event_times)*1000/bin_ms) #data binned into 10ms chunks\n",
    "    bin_mult = 1000/bin_ms\n",
    "\n",
    "    \n",
    "    inPokes = np.array([int(i[-1]) for kk,i in enumerate(events) if re.findall('poke_[0-9]$',i)]) - 1\n",
    "    inPoke_t = np.floor(event_times[np.array([kk for kk,i in enumerate(events) if re.findall('poke_[0-9]$',i)])]*bin_mult).astype('int')\n",
    "\n",
    "\n",
    "    port_dmT = np.zeros([9,nBins])\n",
    "    port_dmT_alt = np.zeros([9,nBins])\n",
    "    line_otherDirT = np.zeros([9,nBins])\n",
    "    ctr = 0\n",
    "    for i,j in zip(dat_dict['port'][:-1],dat_dict['port'][1:]):\n",
    "        time_ = slice(int(bin_mult*i[-2]),int(bin_mult*j[-2]))\n",
    "        port_dmT[i[1][0],time_] = 1\n",
    "\n",
    "        #if struct=='line':\n",
    "        #    print(i[0],i[1][0],ptsm[-1+ ptsm.index(i[0]) %8],ptsm[1+ ptsm.index(i[0]) %8])\n",
    "        #else:\n",
    "        #    print(i[0],i[1][0],ptsm[1+ ptsm.index(i[0]) %8])\n",
    "\n",
    "        if struct=='line':\n",
    "            if i[1][0]!=ptsm[-1+ ptsm.index(i[0]) %8]:\n",
    "                line_otherDirT[ptsm[-1+ ptsm.index(i[0]) %8],time_] = 1\n",
    "            else:\n",
    "                line_otherDirT[ptsm[1+ ptsm.index(i[0]) %8],time_] = 1\n",
    "\n",
    "        if alt_struct=='loop':\n",
    "            alt_port = alt_ptsm[1+alt_ptsm.index(i[0]) %8]\n",
    "        elif alt_struct=='line':\n",
    "            #don't know which direction the animal is confusing it with\n",
    "            alt_port = np.array([ptsm[-1+ ptsm.index(i[0]) %8],\n",
    "                                 ptsm[1+ ptsm.index(i[0]) %8]])\n",
    "        else:\n",
    "            pass\n",
    "        port_dmT_alt[alt_port,time_] = 1\n",
    "\n",
    "\n",
    "    port_dm = np.array([port_dmT[:,int(i)] for i in inPoke_t[:-1]])\n",
    "    port_dm_alt = np.array([port_dmT_alt[:,int(i)] for i in inPoke_t[:-1]])\n",
    "    line_otherDir = np.array([line_otherDirT[:,int(i)] for i in inPoke_t[:-1]])\n",
    "    \n",
    "    \n",
    "    prev_pokeDM = np.zeros([9,len(inPoke_t)-1])\n",
    "    for kk in range(1,prev_pokeDM.shape[1]-1):\n",
    "        prev_pokeDM[inPokes[kk-1],kk] = 1\n",
    "        \n",
    "        \n",
    "    fullDM = np.vstack([prev_pokeDM,port_dm.T,port_dm_alt.T,line_otherDir.T])  #full design matrix\n",
    "    return inPokes,fullDM"
   ]
  },
  {
   "cell_type": "code",
   "execution_count": 121,
   "metadata": {},
   "outputs": [],
   "source": [
    "port_dmT = np.zeros([9,nBins])\n",
    "port_dmT_alt = np.zeros([9,nBins])\n",
    "line_otherDirT = np.zeros([9,nBins])\n",
    "ctr = 0\n",
    "for i,j in zip(dat_dict['port'][:-1],dat_dict['port'][1:]):\n",
    "    time_ = slice(int(bin_mult*i[-2]),int(bin_mult*j[-2]))\n",
    "    port_dmT[i[1],time_] = 1\n",
    "    \n",
    "    \n",
    "    if struct=='line':\n",
    "        if i[1][0]!=ptsm[-1+ ptsm.index(i[0]) %8]:\n",
    "            line_otherDirT[ptsm[-1+ ptsm.index(i[0]) %8],time_] = 1\n",
    "        else:\n",
    "            line_otherDirT[ptsm[1+ ptsm.index(i[0]) %8],time_] = 1\n",
    "            \n",
    "    if alt_struct=='loop':\n",
    "        alt_port = alt_ptsm[1+alt_ptsm.index(i[0]) %8]\n",
    "    elif alt_struct=='line':\n",
    "        #don't know which direction the animal is confusing it with\n",
    "        alt_port = np.array([ptsm[-1+ ptsm.index(i[0]) %8],\n",
    "                             ptsm[1+ ptsm.index(i[0]) %8]])\n",
    "    else:\n",
    "        pass\n",
    "    port_dmT_alt[alt_port,time_] = 1\n",
    "    \n",
    "\n",
    "port_dm = np.array([port_dmT[:,int(i)] for i in inPoke_t[:-1]])\n",
    "port_dm_alt = np.array([port_dmT_alt[:,int(i)] for i in inPoke_t[:-1]])\n",
    "line_otherDir = np.array([line_otherDirT[:,int(i)] for i in inPoke_t[:-1]])"
   ]
  },
  {
   "cell_type": "code",
   "execution_count": null,
   "metadata": {},
   "outputs": [],
   "source": []
  },
  {
   "cell_type": "code",
   "execution_count": 122,
   "metadata": {},
   "outputs": [],
   "source": [
    "bias_dm = np.ones([9,len(port_dm)])\n",
    "\n",
    "prev_pokeDM = np.zeros([9,len(inPoke_t)-1])\n",
    "for kk in range(1,prev_pokeDM.shape[1]-1):\n",
    "    prev_pokeDM[inPokes[kk-1],kk] = 1"
   ]
  },
  {
   "cell_type": "code",
   "execution_count": 123,
   "metadata": {},
   "outputs": [],
   "source": [
    "DM = np.vstack([prev_pokeDM,port_dm.T])  #full design matrix"
   ]
  },
  {
   "cell_type": "code",
   "execution_count": 124,
   "metadata": {},
   "outputs": [],
   "source": [
    "DM = np.vstack([prev_pokeDM,port_dm.T,port_dm_alt.T,line_otherDir.T])  #full design matrix"
   ]
  },
  {
   "cell_type": "code",
   "execution_count": 125,
   "metadata": {},
   "outputs": [],
   "source": [
    "DM = np.vstack([prev_pokeDM,port_dm.T,line_otherDir.T]) "
   ]
  },
  {
   "cell_type": "code",
   "execution_count": 126,
   "metadata": {},
   "outputs": [],
   "source": [
    "y = np.zeros([9,inPokes.shape[0]-1])\n",
    "for i in range(inPokes.shape[0]-1): y[inPokes[i],i] = 1"
   ]
  },
  {
   "cell_type": "code",
   "execution_count": 127,
   "metadata": {},
   "outputs": [],
   "source": [
    "model = mpk.analyse.multinomial_model(DM.T.astype(\"float32\"),\n",
    "                                      y.astype(\"float32\").T,\n",
    "                                      9,eta=0.025,batch_size=200,\n",
    "                                      seed=9,prior_std=1)"
   ]
  },
  {
   "cell_type": "code",
   "execution_count": null,
   "metadata": {},
   "outputs": [],
   "source": []
  },
  {
   "cell_type": "code",
   "execution_count": 128,
   "metadata": {},
   "outputs": [],
   "source": [
    "test_cost = model.fit(500,verbose=False)"
   ]
  },
  {
   "cell_type": "code",
   "execution_count": 129,
   "metadata": {},
   "outputs": [
    {
     "data": {
      "text/plain": [
       "-881.0309"
      ]
     },
     "execution_count": 129,
     "metadata": {},
     "output_type": "execute_result"
    }
   ],
   "source": [
    "np.max(test_cost)"
   ]
  },
  {
   "cell_type": "code",
   "execution_count": 100,
   "metadata": {},
   "outputs": [
    {
     "data": {
      "text/plain": [
       "-575.1417"
      ]
     },
     "execution_count": 100,
     "metadata": {},
     "output_type": "execute_result"
    }
   ],
   "source": [
    "np.max(test_cost)"
   ]
  },
  {
   "cell_type": "code",
   "execution_count": 42,
   "metadata": {},
   "outputs": [
    {
     "data": {
      "text/plain": [
       "-496.64716"
      ]
     },
     "execution_count": 42,
     "metadata": {},
     "output_type": "execute_result"
    }
   ],
   "source": [
    "np.max(test_cost)"
   ]
  },
  {
   "cell_type": "code",
   "execution_count": 43,
   "metadata": {},
   "outputs": [
    {
     "data": {
      "text/plain": [
       "-496.64716"
      ]
     },
     "execution_count": 43,
     "metadata": {},
     "output_type": "execute_result"
    }
   ],
   "source": [
    "np.max(test_cost)"
   ]
  },
  {
   "cell_type": "code",
   "execution_count": 130,
   "metadata": {},
   "outputs": [
    {
     "data": {
      "text/plain": [
       "(-927.6909484863281, -807.8706848144532)"
      ]
     },
     "execution_count": 130,
     "metadata": {},
     "output_type": "execute_result"
    },
    {
     "data": {
      "image/png": "[encoded data removed]",
      "text/plain": [
       "<Figure size 432x288 with 1 Axes>"
      ]
     },
     "metadata": {
      "needs_background": "light"
     },
     "output_type": "display_data"
    }
   ],
   "source": [
    "plt.plot(test_cost)\n",
    "plt.ylim(np.percentile(test_cost,10))\n"
   ]
  },
  {
   "cell_type": "code",
   "execution_count": 131,
   "metadata": {},
   "outputs": [
    {
     "data": {
      "text/plain": [
       "0.6318537859007833"
      ]
     },
     "execution_count": 131,
     "metadata": {},
     "output_type": "execute_result"
    }
   ],
   "source": [
    "np.mean((np.argmax(model.model(model.X_test,sampling=False).logits.numpy(),axis=1)==np.array([int(np.where(i)[0]) for i in model.y_test])))"
   ]
  },
  {
   "cell_type": "code",
   "execution_count": null,
   "metadata": {},
   "outputs": [],
   "source": []
  },
  {
   "cell_type": "code",
   "execution_count": 132,
   "metadata": {},
   "outputs": [],
   "source": [
    "biass = model.model.bias.mean().numpy()"
   ]
  },
  {
   "cell_type": "code",
   "execution_count": 133,
   "metadata": {},
   "outputs": [],
   "source": [
    "mappable = plt.cm.ScalarMappable(cmap='Reds')\n",
    "mappable.set_clim(np.min(biass),np.max(biass))"
   ]
  },
  {
   "cell_type": "code",
   "execution_count": 134,
   "metadata": {},
   "outputs": [
    {
     "data": {
      "image/png": "[encoded data removed]",
      "text/plain": [
       "<Figure size 432x216 with 1 Axes>"
      ]
     },
     "metadata": {
      "needs_background": "light"
     },
     "output_type": "display_data"
    }
   ],
   "source": [
    "plt.figure(figsize=(6,3))\n",
    "ijk = 0\n",
    "for x,y in poke_pos:\n",
    "    #print(biass[ijk])\n",
    "    plt.scatter(x,y,c=np.array(mappable.to_rgba(biass[ijk])).reshape(1,-1),cmap='Reds',s=256)\n",
    "    #print(ijk)\n",
    "    ijk += 1\n",
    "seaborn.despine()"
   ]
  },
  {
   "cell_type": "code",
   "execution_count": 135,
   "metadata": {},
   "outputs": [
    {
     "data": {
      "text/plain": [
       "124"
      ]
     },
     "execution_count": 135,
     "metadata": {},
     "output_type": "execute_result"
    }
   ],
   "source": [
    "y"
   ]
  },
  {
   "cell_type": "code",
   "execution_count": 136,
   "metadata": {},
   "outputs": [
    {
     "data": {
      "text/plain": [
       "(0, 5000)"
      ]
     },
     "execution_count": 136,
     "metadata": {},
     "output_type": "execute_result"
    },
    {
     "data": {
      "image/png": "[encoded data removed]",
      "text/plain": [
       "<Figure size 432x288 with 1 Axes>"
      ]
     },
     "metadata": {
      "needs_background": "light"
     },
     "output_type": "display_data"
    }
   ],
   "source": [
    "plt.imshow(port_dm,aspect=1000)\n",
    "plt.xlim(0,5000)"
   ]
  },
  {
   "cell_type": "code",
   "execution_count": null,
   "metadata": {},
   "outputs": [],
   "source": []
  },
  {
   "cell_type": "code",
   "execution_count": 137,
   "metadata": {},
   "outputs": [
    {
     "ename": "NameError",
     "evalue": "name 'mouse_poker' is not defined",
     "output_type": "error",
     "traceback": [
      "\u001b[0;31m---------------------------------------------------------------------------\u001b[0m",
      "\u001b[0;31mNameError\u001b[0m                                 Traceback (most recent call last)",
      "\u001b[0;32m<ipython-input-137-e4f4d751247a>\u001b[0m in \u001b[0;36m<module>\u001b[0;34m\u001b[0m\n\u001b[0;32m----> 1\u001b[0;31m \u001b[0mbb\u001b[0m \u001b[0;34m=\u001b[0m \u001b[0mmouse_poker\u001b[0m\u001b[0;34m.\u001b[0m\u001b[0mload\u001b[0m\u001b[0;34m.\u001b[0m\u001b[0mload_df\u001b[0m\u001b[0;34m(\u001b[0m\u001b[0;34m)\u001b[0m\u001b[0;34m\u001b[0m\u001b[0;34m\u001b[0m\u001b[0m\n\u001b[0m\u001b[1;32m      2\u001b[0m \u001b[0mgood_df\u001b[0m \u001b[0;34m=\u001b[0m \u001b[0mbb\u001b[0m\u001b[0;34m.\u001b[0m\u001b[0mloc\u001b[0m\u001b[0;34m[\u001b[0m\u001b[0mbb\u001b[0m\u001b[0;34m[\u001b[0m\u001b[0;34m'valid'\u001b[0m\u001b[0;34m]\u001b[0m\u001b[0;34m]\u001b[0m\u001b[0;34m\u001b[0m\u001b[0;34m\u001b[0m\u001b[0m\n\u001b[1;32m      3\u001b[0m \u001b[0mdate\u001b[0m \u001b[0;34m=\u001b[0m \u001b[0;34m'2020/02/07'\u001b[0m\u001b[0;34m\u001b[0m\u001b[0;34m\u001b[0m\u001b[0m\n\u001b[1;32m      4\u001b[0m \u001b[0mday_df\u001b[0m \u001b[0;34m=\u001b[0m \u001b[0mgood_df\u001b[0m\u001b[0;34m.\u001b[0m\u001b[0mloc\u001b[0m\u001b[0;34m[\u001b[0m\u001b[0mgood_df\u001b[0m\u001b[0;34m[\u001b[0m\u001b[0;34m'date'\u001b[0m\u001b[0;34m]\u001b[0m\u001b[0;34m==\u001b[0m\u001b[0mdate\u001b[0m\u001b[0;34m]\u001b[0m\u001b[0;34m\u001b[0m\u001b[0;34m\u001b[0m\u001b[0m\n",
      "\u001b[0;31mNameError\u001b[0m: name 'mouse_poker' is not defined"
     ]
    }
   ],
   "source": [
    "bb = mouse_poker.load.load_df()\n",
    "good_df = bb.loc[bb['valid']]\n",
    "date = '2020/02/07'\n",
    "day_df = good_df.loc[good_df['date']==date]"
   ]
  },
  {
   "cell_type": "code",
   "execution_count": null,
   "metadata": {},
   "outputs": [],
   "source": [
    "good_df = bb.loc[bb['valid']]"
   ]
  },
  {
   "cell_type": "code",
   "execution_count": null,
   "metadata": {},
   "outputs": [],
   "source": []
  },
  {
   "cell_type": "code",
   "execution_count": null,
   "metadata": {},
   "outputs": [],
   "source": [
    "date = '2020/02/07'\n",
    "day_df = good_df.loc[good_df['date']==date]"
   ]
  },
  {
   "cell_type": "code",
   "execution_count": null,
   "metadata": {},
   "outputs": [],
   "source": [
    "day_df"
   ]
  },
  {
   "cell_type": "code",
   "execution_count": null,
   "metadata": {},
   "outputs": [],
   "source": [
    "ix = 18\n",
    "print(day_df['filepath'].values[ix])\n",
    "f = open(day_df['filepath'].values[ix],'r')\n",
    "lines =f.readlines()\n",
    "experiment_name, task_name, subject_id, task_nr, graph,lineloop,date,test = mouse_poker.load.get_metadata(lines)\n",
    "dat_dict,events,event_times,nRews = mouse_poker.load.parse_data(lines)\n",
    "\n",
    "y,poke_seq =mouse_poker.analyse.get_binned_pokes(events,event_times,binsize=1)\n",
    "#all_edges,edge_weights, poke_count = mouse_poker.analyse.get_transition_overview(y,dat_dict,\n",
    "#                                                     valid_transitions_only=False)\n",
    "print(day_df.iloc[ix]['structure']=='loop')"
   ]
  },
  {
   "cell_type": "code",
   "execution_count": null,
   "metadata": {},
   "outputs": [],
   "source": []
  },
  {
   "cell_type": "code",
   "execution_count": null,
   "metadata": {},
   "outputs": [],
   "source": [
    "np.sum(dat_dict['random'])"
   ]
  },
  {
   "cell_type": "code",
   "execution_count": null,
   "metadata": {},
   "outputs": [],
   "source": [
    "state_seq = np.array([i[0] for i in dat_dict['state']])"
   ]
  },
  {
   "cell_type": "code",
   "execution_count": null,
   "metadata": {},
   "outputs": [],
   "source": [
    "plt.figure(figsize=(24,4))\n",
    "plt.plot(state_seq,marker='.')"
   ]
  },
  {
   "cell_type": "code",
   "execution_count": null,
   "metadata": {},
   "outputs": [],
   "source": []
  },
  {
   "cell_type": "code",
   "execution_count": null,
   "metadata": {},
   "outputs": [],
   "source": [
    "#dat_dict['random'] = dat_dict['random'][::2]"
   ]
  },
  {
   "cell_type": "code",
   "execution_count": null,
   "metadata": {},
   "outputs": [],
   "source": [
    "#[i[25:] for i in lines[:500] if 'POKEDPORT' in i]"
   ]
  },
  {
   "cell_type": "code",
   "execution_count": null,
   "metadata": {},
   "outputs": [],
   "source": []
  },
  {
   "cell_type": "code",
   "execution_count": null,
   "metadata": {},
   "outputs": [],
   "source": [
    "def get_valid_edges(dat_dict):\n",
    "    edges = []\n",
    "    for ctr,i in enumerate(dat_dict['port']):\n",
    "        #if None not in i[1]:\n",
    "        for j in i[1]:\n",
    "            if j is not None and not dat_dict['random'][ctr]:\n",
    "                if [i[0],j] not in edges: edges.append([i[0],j])\n",
    "    return edges"
   ]
  },
  {
   "cell_type": "code",
   "execution_count": null,
   "metadata": {},
   "outputs": [],
   "source": [
    "print(np.sum(dat_dict['random'])/nRews)"
   ]
  },
  {
   "cell_type": "code",
   "execution_count": null,
   "metadata": {},
   "outputs": [],
   "source": [
    "teleport_to = [dat_dict['port'][i][0] for i in np.where(dat_dict['random'])[0]]\n",
    "teleport_count = [teleport_to.count(i) for i in np.unique(teleport_to)]\n",
    "np.cumsum(np.flipud(np.sort((teleport_count))))/np.sum(teleport_count)"
   ]
  },
  {
   "cell_type": "code",
   "execution_count": null,
   "metadata": {},
   "outputs": [],
   "source": []
  },
  {
   "cell_type": "code",
   "execution_count": null,
   "metadata": {},
   "outputs": [],
   "source": [
    "print(len(dat_dict['random']),len(dat_dict['port']),len(dat_dict['port']))"
   ]
  },
  {
   "cell_type": "code",
   "execution_count": null,
   "metadata": {},
   "outputs": [],
   "source": [
    "plt.figure(figsize=(10,4))\n",
    "edges = get_valid_edges(dat_dict)\n",
    "plt.subplot(1,2,1)\n",
    "plt.title(\"'Valid' transitions on graph\")\n",
    "G = nx.DiGraph()\n",
    "G.add_edges_from(sorted(edges))\n",
    "nx.draw(G,\n",
    "        pos=np.array([1,-1])*poke_pos)\n",
    "\n",
    "plt.subplot(1,2,2)\n",
    "plt.title(\"Transition prob normed to\\n out-paths from node\")\n",
    "edge_weights=mouse_poker.analyse.plot_transition_overview(y,dat_dict,valid_transitions_only=True)"
   ]
  },
  {
   "cell_type": "code",
   "execution_count": null,
   "metadata": {},
   "outputs": [],
   "source": [
    "#look at rarest transitions on graph"
   ]
  },
  {
   "cell_type": "markdown",
   "metadata": {},
   "source": [
    "# Batch look at what fraction go to top n teleports "
   ]
  },
  {
   "cell_type": "code",
   "execution_count": null,
   "metadata": {},
   "outputs": [],
   "source": [
    "batch_fracT = []\n",
    "for ix in range(len(day_df)):\n",
    "    #ix = 16\n",
    "    #print(day_df['filepath'].values[ix])\n",
    "    f = open(day_df['filepath'].values[ix],'r')\n",
    "    lines =f.readlines()\n",
    "    experiment_name, task_name, subject_id, task_nr, graph,lineloop,date,test = mouse_poker.load.get_metadata(lines)\n",
    "    dat_dict,events,event_times,nRews = mouse_poker.load.parse_data(lines)\n",
    "\n",
    "    y,poke_seq =mouse_poker.analyse.get_binned_pokes(events,event_times,binsize=1)\n",
    "    #print(day_df.iloc[ix]['structure']=='loop')\n",
    "    teleport_to = [dat_dict['port'][i][0] for i in np.where(dat_dict['random'])[0] if not dat_dict['random'][i-1]]\n",
    "    teleport_count = [teleport_to.count(i) for i in [0,3,5,8]]\n",
    "    batch_fracT.append((np.flipud(np.sort((teleport_count))))/np.sum(teleport_count))"
   ]
  },
  {
   "cell_type": "code",
   "execution_count": null,
   "metadata": {},
   "outputs": [],
   "source": [
    "batch_fracT = np.array(batch_fracT)"
   ]
  },
  {
   "cell_type": "code",
   "execution_count": null,
   "metadata": {},
   "outputs": [],
   "source": [
    "mu = np.array(batch_fracT).mean(axis=0)\n",
    "sem = stt.sem(np.array(batch_fracT))"
   ]
  },
  {
   "cell_type": "code",
   "execution_count": null,
   "metadata": {},
   "outputs": [],
   "source": [
    "plt.bar(range(4),mu,yerr=sem)\n",
    "for kk,d_ in enumerate(batch_fracT.T):\n",
    "    plt.scatter(kk*np.ones(len(d_))+np.random.normal(scale=.065,size=len(d_)),\n",
    "                d_,zorder=100,color='.3',alpha=.3)\n",
    "plt.ylabel(\"Fraction teleported to\")\n",
    "plt.xlabel(\"Sorted teleport target\")\n",
    "plt.ylim(0,1)\n",
    "plt.xticks(range(4),range(1,5))\n",
    "#plt.xticks([0,1],['line','loop'])\n",
    "plt.tight_layout()\n",
    "seaborn.despine()"
   ]
  },
  {
   "cell_type": "code",
   "execution_count": null,
   "metadata": {},
   "outputs": [],
   "source": [
    "plt.bar(range(4),mu,yerr=sem)\n",
    "for kk,d_ in enumerate(batch_fracT.T):\n",
    "    plt.scatter(kk*np.ones(len(d_))+np.random.normal(scale=.065,size=len(d_)),\n",
    "                d_,zorder=100,color='.3',alpha=.3)\n",
    "plt.ylabel(\"Fraction teleported to\")\n",
    "plt.xlabel(\"Sorted teleport target\")\n",
    "plt.ylim(0)\n",
    "plt.xticks(range(4),range(1,5))\n",
    "#plt.xticks([0,1],['line','loop'])\n",
    "plt.tight_layout()\n",
    "seaborn.despine()"
   ]
  },
  {
   "cell_type": "markdown",
   "metadata": {},
   "source": [
    "# Batch look at 'run' lengths "
   ]
  },
  {
   "cell_type": "code",
   "execution_count": null,
   "metadata": {},
   "outputs": [],
   "source": [
    "batch_seqLength = []\n",
    "for ix in range(len(day_df)):\n",
    "    #ix = 16\n",
    "    #print(day_df['filepath'].values[ix])\n",
    "    f = open(day_df['filepath'].values[ix],'r')\n",
    "    lines =f.readlines()\n",
    "    experiment_name, task_name, subject_id, task_nr, graph,lineloop,date,test = mouse_poker.load.get_metadata(lines)\n",
    "    dat_dict,events,event_times,nRews = mouse_poker.load.parse_data(lines)\n",
    "    allSeqLen = get_sequence_lengths(dat_dict)\n",
    "    batch_seqLength.extend(allSeqLen)"
   ]
  },
  {
   "cell_type": "code",
   "execution_count": null,
   "metadata": {},
   "outputs": [],
   "source": [
    "tmp = np.array([batch_seqLength.count(i) for i in range(9)])\n",
    "print('Length of sequences in consective direction\\n')\n",
    "for i in range(1,9):\n",
    "    print('length %s, count %s' %(i,tmp[i]))"
   ]
  },
  {
   "cell_type": "code",
   "execution_count": null,
   "metadata": {},
   "outputs": [],
   "source": [
    "tmp = np.array([batch_seqLength.count(i) for i in range(9)])\n",
    "print('Length of sequences in consective direction\\n')\n",
    "for i in range(1,9):\n",
    "    print('length %s, count %s' %(i,tmp[i]))"
   ]
  },
  {
   "cell_type": "code",
   "execution_count": null,
   "metadata": {},
   "outputs": [],
   "source": [
    "plt.plot(range(1,9),np.cumsum(tmp[1:]/np.sum(tmp[1:])),label='Sequence p')\n",
    "#plt.plot(range(1,9),stt.geom(0.75).pmf(np.arange(1,9)),label='Geometric; p=0.75')\n",
    "\n",
    "plt.xlabel(\"Sequence length\")\n",
    "plt.ylabel(\"Probability\")\n",
    "seaborn.despine()"
   ]
  },
  {
   "cell_type": "code",
   "execution_count": null,
   "metadata": {},
   "outputs": [],
   "source": [
    "def get_sequence_lengths(dat_dict):\n",
    "    \"\"\" Get length of walks in one direction on the graph\n",
    "        of a particular length        \n",
    "    \"\"\"\n",
    "    new = True\n",
    "    increasing = False\n",
    "    decreasing = False\n",
    "    allSeqlen = []\n",
    "    len_seq = 0.\n",
    "\n",
    "    tmp = np.array([i[0] for i in dat_dict['state']])\n",
    "\n",
    "    \n",
    "    for i0,i1 in zip(tmp[:-1],tmp[1:]):\n",
    "\n",
    "        \n",
    "        #deal with teleports\n",
    "        if np.abs(i0-i1)!=1:\n",
    "            increasing = False\n",
    "            decreasing = False\n",
    "            new = True\n",
    "            #allSeqlen.append(len_seq)\n",
    "            len_seq = 0\n",
    "        if increasing and not new:\n",
    "            if i1>i0:\n",
    "                #print(1,i0)\n",
    "                len_seq += 1\n",
    "            elif i1<i0:\n",
    "                #print(2)\n",
    "                allSeqlen.append(len_seq)\n",
    "                len_seq = 0\n",
    "                new = True\n",
    "\n",
    "        if decreasing and not new:\n",
    "            if i1>i0:\n",
    "                allSeqlen.append(len_seq)\n",
    "                new = True\n",
    "                len_seq = 0\n",
    "            elif i1<i0:\n",
    "                len_seq += 1\n",
    "\n",
    "        if new:\n",
    "            if i1>i0:\n",
    "                increasing = True\n",
    "                decreasing = False\n",
    "            elif i1<i0:\n",
    "                decreasing = True\n",
    "                increasing = False\n",
    "            len_seq += 1\n",
    "            new = False\n",
    "            #print(decreasing,increasing)\n",
    "    return allSeqlen\n"
   ]
  },
  {
   "cell_type": "markdown",
   "metadata": {},
   "source": [
    "#  Batch stuff"
   ]
  },
  {
   "cell_type": "code",
   "execution_count": null,
   "metadata": {},
   "outputs": [],
   "source": [
    "all_pairs = []\n",
    "for ix in range(len(day_df)):\n",
    "    f = open(day_df['filepath'].values[ix],'r')\n",
    "    if day_df.iloc[ix]['structure']=='loop':\n",
    "        lines =f.readlines()\n",
    "        experiment_name, task_name, subject_id, task_nr, graph,lineloop,date,test = mouse_poker.load.get_metadata(lines)\n",
    "        dat_dict,events,event_times,nRews = mouse_poker.load.parse_data(lines)\n",
    "\n",
    "        y,poke_seq =mouse_poker.analyse.get_binned_pokes(events,event_times,binsize=1)\n",
    "        all_edges,edge_weights, poke_count,edge_weights_unNorm = mouse_poker.analyse.get_transition_overview(y,dat_dict,\n",
    "                                                             valid_transitions_only=True)\n",
    "        \n",
    "        valid_edges = get_valid_edges(dat_dict)\n",
    "        \n",
    "        pairs = []\n",
    "        looked_at = []\n",
    "        for ctr1,e in enumerate(all_edges):\n",
    "            if list(e) in valid_edges:\n",
    "                for ctr2,e2 in enumerate(all_edges):\n",
    "                    if (set(e)==set(e2)) and (e!=e2):\n",
    "                        \n",
    "                        pairs.append([edge_weights[ctr1],edge_weights[ctr2]])\n",
    "        all_pairs.extend(pairs)"
   ]
  },
  {
   "cell_type": "code",
   "execution_count": null,
   "metadata": {},
   "outputs": [],
   "source": []
  },
  {
   "cell_type": "code",
   "execution_count": null,
   "metadata": {},
   "outputs": [],
   "source": [
    "looked_at = []\n",
    "all_pairs2 = []\n",
    "for p in all_pairs:\n",
    "    if set(p) not in looked_at:\n",
    "        all_pairs2.append(p)\n",
    "        looked_at.append(set(p))"
   ]
  },
  {
   "cell_type": "code",
   "execution_count": null,
   "metadata": {},
   "outputs": [],
   "source": [
    "len(all_pairs2)"
   ]
  },
  {
   "cell_type": "code",
   "execution_count": null,
   "metadata": {},
   "outputs": [],
   "source": [
    "len(all_pairs)"
   ]
  },
  {
   "cell_type": "code",
   "execution_count": null,
   "metadata": {},
   "outputs": [],
   "source": [
    "#[[1,2],[1]]==[[1,2],[1]]"
   ]
  },
  {
   "cell_type": "code",
   "execution_count": null,
   "metadata": {},
   "outputs": [],
   "source": [
    "np.corrcoef([i[0] for i in all_pairs2],[i[1] for i in all_pairs2])"
   ]
  },
  {
   "cell_type": "code",
   "execution_count": null,
   "metadata": {},
   "outputs": [],
   "source": [
    "seaborn.jointplot([i[0] for i in all_pairs2],\n",
    "                  [i[1] for i in all_pairs2],\n",
    "                  kind='reg')\n",
    "\n",
    "#plt.plot([0,1],[0,1],color='.3')"
   ]
  },
  {
   "cell_type": "code",
   "execution_count": null,
   "metadata": {},
   "outputs": [],
   "source": []
  },
  {
   "cell_type": "code",
   "execution_count": null,
   "metadata": {},
   "outputs": [],
   "source": [
    "stt.ttest_ind(good_df.loc[good_df['structure']=='line'].nRews.values,\n",
    "              good_df.loc[good_df['structure']=='loop'].nRews.values)"
   ]
  },
  {
   "cell_type": "code",
   "execution_count": null,
   "metadata": {},
   "outputs": [],
   "source": [
    "muLI = np.mean(good_df.loc[good_df['structure']=='line'].nRews.values)\n",
    "muLO = np.mean(good_df.loc[good_df['structure']=='loop'].nRews.values)\n",
    "\n",
    "\n",
    "semLI = stt.sem(good_df.loc[good_df['structure']=='line'].nRews.values)\n",
    "semLO = stt.sem(good_df.loc[good_df['structure']=='loop'].nRews.values)\n",
    "\n",
    "plt.bar([0,1],[muLI,muLO],yerr=[semLI,semLO])\n",
    "\n",
    "plt.ylabel(\"Mean # of rewards \\nper session\")\n",
    "plt.xlabel(\"Graph Type\")\n",
    "plt.xticks([0,1],['line','loop'])\n",
    "plt.tight_layout()\n",
    "seaborn.despine()"
   ]
  },
  {
   "cell_type": "code",
   "execution_count": null,
   "metadata": {},
   "outputs": [],
   "source": []
  },
  {
   "cell_type": "code",
   "execution_count": null,
   "metadata": {},
   "outputs": [],
   "source": []
  },
  {
   "cell_type": "code",
   "execution_count": null,
   "metadata": {},
   "outputs": [],
   "source": [
    "def get_edges_and_layout(lines):\n",
    "    \"\"\" Function that takes in file and returns edges and layout\"\"\"\n",
    "    nextEdges = False\n",
    "    nextLayout = False\n",
    "    edge_set = None\n",
    "    for l in lines:\n",
    "        \n",
    "        if nextLayout:\n",
    "            nextLayout = False\n",
    "            layout = eval(l[3:])\n",
    "            break\n",
    "        if nextEdges:\n",
    "            edge_set = eval(l[3:])\n",
    "            nextEdges = False\n",
    "            nextLayout = True\n",
    "        if ('loop' in l or 'line' in l):\n",
    "            nextEdges = True\n",
    "        if 'task_nr' in l:\n",
    "            task_nr = int(re.findall('task_nr ([0-9])\\n',l)[0])\n",
    "    \n",
    "    edges = edges = [(kk,i) for kk,e in enumerate(edge_set) for i in e]\n",
    "    return edges, edge_set, layout, task_nr"
   ]
  },
  {
   "cell_type": "code",
   "execution_count": null,
   "metadata": {},
   "outputs": [],
   "source": [
    "import imp"
   ]
  },
  {
   "cell_type": "code",
   "execution_count": null,
   "metadata": {},
   "outputs": [],
   "source": [
    "mouse_poker = imp.reload(mouse_poker)"
   ]
  },
  {
   "cell_type": "code",
   "execution_count": null,
   "metadata": {},
   "outputs": [],
   "source": [
    "ix = 22\n",
    "f = open(day_df['filepath'].values[ix],'r')\n",
    "lines =f.readlines()\n",
    "experiment_name, task_name, subject_id, task_nr, graph,lineloop,date,test = mouse_poker.load.get_metadata(lines)\n",
    "dat_dict,events,event_times,nRews = mouse_poker.load.parse_data(lines)\n",
    "\n",
    "y,poke_seq =mouse_poker.analyse.get_binned_pokes(events,event_times,binsize=1)\n",
    "#all_edges,edge_weights, poke_count = mouse_poker.analyse.get_transition_overview(y,dat_dict,\n",
    "#                                                     valid_transitions_only=False)\n",
    "print(day_df.iloc[ix]['structure']=='loop')"
   ]
  },
  {
   "cell_type": "code",
   "execution_count": null,
   "metadata": {},
   "outputs": [],
   "source": [
    "len(poke_seq)"
   ]
  },
  {
   "cell_type": "code",
   "execution_count": null,
   "metadata": {},
   "outputs": [],
   "source": []
  },
  {
   "cell_type": "code",
   "execution_count": null,
   "metadata": {},
   "outputs": [],
   "source": [
    "len(dat_dict['random'])"
   ]
  },
  {
   "cell_type": "code",
   "execution_count": null,
   "metadata": {},
   "outputs": [],
   "source": [
    "len(dat_dict['state'])"
   ]
  },
  {
   "cell_type": "code",
   "execution_count": null,
   "metadata": {},
   "outputs": [],
   "source": [
    "edges = list(set(reconstruct_graph(dat_dict)))"
   ]
  },
  {
   "cell_type": "code",
   "execution_count": null,
   "metadata": {},
   "outputs": [],
   "source": [
    "edges = list(set(reconstruct_graph(dat_dict)))\n",
    "G = nx.DiGraph()\n",
    "G.add_edges_from([i for i in edges if None not in i])\n",
    "nx.draw(G,\n",
    "        pos=np.array([1,-1])*poke_pos)"
   ]
  },
  {
   "cell_type": "code",
   "execution_count": null,
   "metadata": {},
   "outputs": [],
   "source": [
    "edge_weights=mouse_poker.analyse.plot_transition_overview(y,dat_dict,valid_transitions_only=True)"
   ]
  },
  {
   "cell_type": "code",
   "execution_count": null,
   "metadata": {},
   "outputs": [],
   "source": []
  },
  {
   "cell_type": "code",
   "execution_count": null,
   "metadata": {},
   "outputs": [],
   "source": [
    "y,poke_seq =mouse_poker.analyse.get_binned_pokes(events,event_times,binsize=1)"
   ]
  },
  {
   "cell_type": "code",
   "execution_count": null,
   "metadata": {},
   "outputs": [],
   "source": [
    "poke_seq = [np.where(y[:,i])[0][0] for i in np.where(y.sum(axis=0))[0]]"
   ]
  },
  {
   "cell_type": "code",
   "execution_count": null,
   "metadata": {},
   "outputs": [],
   "source": [
    "poke_times = np.where(y.sum(axis=0))[0]"
   ]
  },
  {
   "cell_type": "code",
   "execution_count": null,
   "metadata": {},
   "outputs": [],
   "source": []
  },
  {
   "cell_type": "code",
   "execution_count": null,
   "metadata": {},
   "outputs": [],
   "source": [
    "bout_edges = np.concatenate([[0],np.where((poke_times[1:]-poke_times[:-1])>1000)[0]])"
   ]
  },
  {
   "cell_type": "code",
   "execution_count": null,
   "metadata": {},
   "outputs": [],
   "source": [
    "bout_seqs = []\n",
    "for st,nd in zip(bout_edges[:-1],bout_edges[1:]):\n",
    "    if (nd-st)>1:\n",
    "        bout_seqs.append(poke_seq[st:nd+1])"
   ]
  },
  {
   "cell_type": "code",
   "execution_count": null,
   "metadata": {},
   "outputs": [],
   "source": [
    "all_edges = []\n",
    "for i in range(9):\n",
    "    for j in range(9):\n",
    "        all_edges.append([i,j])"
   ]
  },
  {
   "cell_type": "code",
   "execution_count": null,
   "metadata": {},
   "outputs": [],
   "source": [
    "seq_counter = [0]*len(all_edges)\n",
    "for p1,p2 in zip(poke_seq[:-1],poke_seq[1:]):\n",
    "    \n",
    "    for kk,nP in enumerate(all_edges):\n",
    "        if [p1,p2]==nP:\n",
    "            seq_counter[kk] += 1"
   ]
  },
  {
   "cell_type": "code",
   "execution_count": null,
   "metadata": {},
   "outputs": [],
   "source": []
  },
  {
   "cell_type": "code",
   "execution_count": null,
   "metadata": {},
   "outputs": [],
   "source": [
    "seq_counter = np.array(seq_counter).reshape(9,-1)\n",
    "edge_weights = (seq_counter/np.sum(seq_counter,axis=1)).flatten()"
   ]
  },
  {
   "cell_type": "code",
   "execution_count": null,
   "metadata": {},
   "outputs": [],
   "source": []
  },
  {
   "cell_type": "code",
   "execution_count": null,
   "metadata": {},
   "outputs": [],
   "source": [
    "G = nx.DiGraph()\n",
    "for i in range(9):\n",
    "    G.add_node(i,pos=(poke_pos[i][0],poke_pos[i][1]))\n",
    "\n",
    "for e,w in zip(all_edges,edge_weights):\n",
    "    G.add_edge(e[0],e[1],weight=10*w)"
   ]
  },
  {
   "cell_type": "code",
   "execution_count": null,
   "metadata": {},
   "outputs": [],
   "source": []
  },
  {
   "cell_type": "code",
   "execution_count": null,
   "metadata": {},
   "outputs": [],
   "source": [
    "nx.draw_networkx_nodes(G,pos=poke_pos,node_color='k')\n",
    "\n",
    "#nodes_ = nx.get_node_attributes(G)\n",
    "nx.draw_networkx_edges(G,poke_pos,\n",
    "                       edge_color=edge_weights,\n",
    "                       edge_vmin=0,edge_vmax=np.max(edge_weights),\n",
    "                       edge_cmap=matplotlib.cm.Greys)\n",
    "seaborn.despine(bottom=True,left=True)"
   ]
  },
  {
   "cell_type": "code",
   "execution_count": null,
   "metadata": {},
   "outputs": [],
   "source": [
    "np.sum(seq_counter,axis=1)"
   ]
  },
  {
   "cell_type": "code",
   "execution_count": null,
   "metadata": {},
   "outputs": [],
   "source": [
    "seq_counter[0]/seq_counter[0].sum()"
   ]
  },
  {
   "cell_type": "code",
   "execution_count": null,
   "metadata": {},
   "outputs": [],
   "source": [
    "seaborn.distplot(poke_times[1:] - poke_times[:-1],bins=np.linspace(0,2000,num=50),kde=0)"
   ]
  },
  {
   "cell_type": "code",
   "execution_count": null,
   "metadata": {},
   "outputs": [],
   "source": []
  },
  {
   "cell_type": "code",
   "execution_count": null,
   "metadata": {},
   "outputs": [],
   "source": [
    "def get_poke_bouts(y,cutoff=1000):\n",
    "    \"\"\" Get sublists of sequences of pokes if the pokes\n",
    "        occurred within cutoff of other pokes\n",
    "    \"\"\"\n",
    "    poke_seq = [np.where(y[:,i])[0][0] for i in np.where(y.sum(axis=0))[0]]\n",
    "    poke_times = np.where(y.sum(axis=0))[0]\n",
    "    \n",
    "    bout_seqs = []\n",
    "    for st,nd in zip(bout_edges[:-1],bout_edges[1:]):\n",
    "        bout_seqs.append(poke_seq[st:nd])"
   ]
  },
  {
   "cell_type": "code",
   "execution_count": null,
   "metadata": {},
   "outputs": [],
   "source": [
    "ts = mouse_poker.analyse.get_distribution_of_poke_times(events,event_times)"
   ]
  },
  {
   "cell_type": "code",
   "execution_count": null,
   "metadata": {},
   "outputs": [],
   "source": [
    "seaborn.distplot(ts,kde=0,bins=np.linspace(0,.5,num=100))\n"
   ]
  },
  {
   "cell_type": "code",
   "execution_count": null,
   "metadata": {},
   "outputs": [],
   "source": [
    "inPoke_events=  ['poke_'+str(i) for i in range(1,10)]"
   ]
  },
  {
   "cell_type": "code",
   "execution_count": null,
   "metadata": {},
   "outputs": [],
   "source": [
    "events[1]"
   ]
  },
  {
   "cell_type": "code",
   "execution_count": null,
   "metadata": {},
   "outputs": [],
   "source": [
    "all_poke_seq = np.array([i for i in events if i in inPoke_events])\n",
    "\n",
    "allNextPoke = []\n",
    "for inPk in inPoke_events:\n",
    "    inPk_ixs = np.where(all_poke_seq==inPk)[0]\n",
    "    \n",
    "    tmp = []\n",
    "    for ix2 in inPk_ixs:\n",
    "        if ix2<(len(all_poke_seq)-1):\n",
    "            tmp.append(all_poke_seq[ix2+1])\n",
    "    allNextPoke.append(tmp)"
   ]
  },
  {
   "cell_type": "code",
   "execution_count": null,
   "metadata": {},
   "outputs": [],
   "source": []
  },
  {
   "cell_type": "code",
   "execution_count": null,
   "metadata": {},
   "outputs": [],
   "source": [
    "plt.figure(figsize=(13,8))\n",
    "for i in range(9):\n",
    "    plt.subplot(3,3,i+1)\n",
    "    poke_counts = [allNextPoke[i].count(ik) for ik in inPoke_events]\n",
    "    plt.scatter([i[0] for i in poke_pos],[i[1] for i in poke_pos],c=poke_counts,s=700,cmap='Reds')\n",
    "    plt.xlim(-50,350)\n",
    "    plt.ylim(-50,150)\n",
    "#seaborn.despine()"
   ]
  },
  {
   "cell_type": "code",
   "execution_count": null,
   "metadata": {},
   "outputs": [],
   "source": [
    "poke_counts = [events.count(i) for i in inPoke_events]"
   ]
  },
  {
   "cell_type": "code",
   "execution_count": null,
   "metadata": {},
   "outputs": [],
   "source": [
    "plt.scatter([i[0] for i in poke_pos],[i[1] for i in poke_pos],c=poke_counts,s=900,cmap='Reds')"
   ]
  },
  {
   "cell_type": "code",
   "execution_count": null,
   "metadata": {},
   "outputs": [],
   "source": [
    "for i "
   ]
  }
 ],
 "metadata": {
  "kernelspec": {
   "display_name": "Python 3",
   "language": "python",
   "name": "python3"
  },
  "language_info": {
   "codemirror_mode": {
    "name": "ipython",
    "version": 3
   },
   "file_extension": ".py",
   "mimetype": "text/x-python",
   "name": "python",
   "nbconvert_exporter": "python",
   "pygments_lexer": "ipython3",
   "version": "3.7.4"
  }
 },
 "nbformat": 4,
 "nbformat_minor": 2
}
