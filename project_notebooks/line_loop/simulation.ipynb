{
 "cells": [
  {
   "cell_type": "markdown",
   "metadata": {},
   "source": [
    "# Idea in this notebook is to simulate neural activity and check that our analysis works \n",
    "\n",
    "\n",
    "Check whether space explains whats going on. Shouldn't be able to account for differences between lines and loops.\n",
    "\n",
    "Simulate neural activity in the same format as will be recorded.\n",
    "\n",
    "Currest best approach:\n",
    "Take neural responses on one loop and use these as a basis set for responses on line (I don't think this approach will work, will it?). I'd imagine you have really good basis functions to approximate any responses. Expect to explain less variance than line -> line. \n",
    "\n",
    "    Check this with both sine waves as well as neurons with 'random' encoding properties\n",
    "    \n",
    "    \n",
    "Alternative explanations of the data. \n",
    "1. Check for motor confounds: simulate essentially head-direction cells and show this wouldn't give rise to the results on the particular graphs that we have studied.\n",
    "2. Check with space encoding, though I don't really see how this could cause a problem, especially if you match across the conditions."
   ]
  },
  {
   "cell_type": "code",
   "execution_count": 2,
   "metadata": {},
   "outputs": [],
   "source": [
    "%matplotlib inline\n",
    "import numpy as np\n",
    "import matplotlib.pyplot as plt\n",
    "import seaborn\n",
    "seaborn.set(font_scale=1.5,style='ticks')"
   ]
  },
  {
   "cell_type": "code",
   "execution_count": null,
   "metadata": {},
   "outputs": [],
   "source": []
  }
 ],
 "metadata": {
  "kernelspec": {
   "display_name": "Python [conda env:root] *",
   "language": "python",
   "name": "conda-root-py"
  },
  "language_info": {
   "codemirror_mode": {
    "name": "ipython",
    "version": 3
   },
   "file_extension": ".py",
   "mimetype": "text/x-python",
   "name": "python",
   "nbconvert_exporter": "python",
   "pygments_lexer": "ipython3",
   "version": "3.7.4"
  }
 },
 "nbformat": 4,
 "nbformat_minor": 2
}
