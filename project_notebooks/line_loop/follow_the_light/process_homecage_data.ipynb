{
 "cells": [
  {
   "cell_type": "markdown",
   "metadata": {},
   "source": [
    "# Analyse data for line loop navigation coming from the homecage "
   ]
  },
  {
   "cell_type": "code",
   "execution_count": 5,
   "metadata": {},
   "outputs": [],
   "source": [
    "%matplotlib inline\n",
    "\n",
    "import numpy as np\n",
    "import os\n",
    "import sys\n",
    "import re\n",
    "import matplotlib.pyplot as plt"
   ]
  },
  {
   "cell_type": "markdown",
   "metadata": {},
   "source": [
    "## Admin to get hold of all the subject folders "
   ]
  },
  {
   "cell_type": "code",
   "execution_count": 41,
   "metadata": {},
   "outputs": [],
   "source": [
    "experiment_folders = [r\"C:/Users/takam/Desktop/Dropbox/pyhomecage/data/ec_lineloop_1\",\n",
    "                     r\"C:/Users/takam/Desktop/Dropbox/pyhomecage/data/ec_lineloop_2\"]\n",
    "\n",
    "subject_folders = []\n",
    "for ef in experiment_folders:\n",
    "    sf1 = os.listdir(ef)\n",
    "    \n",
    "    for sf_ in sf1:\n",
    "        sf = os.path.join(ef,sf_)\n",
    "        subject_folders.append(os.path.join(sf,os.listdir(sf)[0]))\n",
    "    "
   ]
  },
  {
   "cell_type": "markdown",
   "metadata": {},
   "source": [
    "##  Main function to analyse probe trial performance"
   ]
  },
  {
   "cell_type": "code",
   "execution_count": 42,
   "metadata": {},
   "outputs": [],
   "source": [
    "def get_probe_trial_performance_homecage(lines,probe_dict={}):\n",
    "    \"\"\" \"\"\"\n",
    "    times = []\n",
    "    probe_perf = []\n",
    "    target_hist = []; probe_hist = []; poked_hist = []; dir_hist = []; seq_hist = []\n",
    "    #if probe_dict is None: \n",
    "    #    probe_dict = {}\n",
    "    for ix,l_ in enumerate(lines):\n",
    "        #if 'task_number' in l_:\n",
    "            #print()\n",
    "            #print(l_)\n",
    "            #print()\n",
    "        if 'TARGET:' in l_:\n",
    "            t_ = re.findall('P ([0-9]*) R',l_)[0]\n",
    "            times.append(float(t_))\n",
    "            probe = eval(re.findall('PROBE: (False|True)',l_)[0])\n",
    "            target = int(re.findall('TARGET: ([0-9]*)',l_)[0])\n",
    "            poked = int(re.findall('POKED: ([0-9]*)',l_)[0])\n",
    "            direction = int(re.findall('DIR: (.*)',l_)[0])\n",
    "            seq_ix = int(re.findall('SEQ_IX: ([0-9]*)',l_)[0])\n",
    "            if seq_hist:\n",
    "                if probe:\n",
    "                    #print(target)\n",
    "                    if not (probe_hist[-1] and (target==target_hist[-1])):\n",
    "                        correct_poke = poked==target\n",
    "                        probe_perf.append(correct_poke)\n",
    "                        transition = str(target_hist[-1]) + '_' + str(target)\n",
    "                        #print(probe_dict.keys())\n",
    "                        if transition in probe_dict.keys():\n",
    "                            probe_dict[transition].append(correct_poke)\n",
    "                        else:\n",
    "                            probe_dict[transition] = [correct_poke]\n",
    "                        \n",
    "            target_hist.append(target); probe_hist.append(probe); dir_hist.append(direction);\n",
    "            poked_hist.append(poked); seq_hist.append(seq_ix)\n",
    "    #print(len(probe_perf))\n",
    "    return probe_dict"
   ]
  },
  {
   "cell_type": "markdown",
   "metadata": {},
   "source": [
    "##  Loop analysis over all subjects"
   ]
  },
  {
   "cell_type": "code",
   "execution_count": 43,
   "metadata": {},
   "outputs": [
    {
     "ename": "SyntaxError",
     "evalue": "unexpected EOF while parsing (<ipython-input-43-d574b8ca4480>, line 1)",
     "output_type": "error",
     "traceback": [
      "\u001b[1;36m  File \u001b[1;32m\"<ipython-input-43-d574b8ca4480>\"\u001b[1;36m, line \u001b[1;32m1\u001b[0m\n\u001b[1;33m    subject_folders = [r#\"C:/Users/takam/Desktop/Dropbox/pyhomecage/data/ec_lineloop_1\\C00494062_5\\16190096773636293_task\"]\u001b[0m\n\u001b[1;37m                                                                                                                           ^\u001b[0m\n\u001b[1;31mSyntaxError\u001b[0m\u001b[1;31m:\u001b[0m unexpected EOF while parsing\n"
     ]
    }
   ],
   "source": [
    "subject_folders = [r\"C:/Users/takam/Desktop/Dropbox/pyhomecage/data/ec_lineloop_1\\C00494062_5\\16190096773636293_task\"]"
   ]
  },
  {
   "cell_type": "code",
   "execution_count": 40,
   "metadata": {
    "scrolled": true
   },
   "outputs": [
    {
     "name": "stdout",
     "output_type": "stream",
     "text": [
      "C:/Users/takam/Desktop/Dropbox/pyhomecage/data/ec_lineloop_1\\C00494062_5\\16190096773636293_task\n",
      "4\n",
      "8_4 0.23076923076923078\n",
      "2_4 0.7333333333333333\n",
      "6_3 0.5\n",
      "1_3 0.0\n"
     ]
    }
   ],
   "source": [
    "for ROOT in subject_folders:\n",
    "    print(ROOT)\n",
    "    fs = [i for i in os.listdir(ROOT) if '_taskFile' not in i]\n",
    "    probe_dict = {}\n",
    "    for f_ in fs:\n",
    "        if 'follow_the_light_2_graphs' in f_:\n",
    "            #print(f_)\n",
    "            fpath = os.path.join(ROOT,f_)\n",
    "            with open(fpath,'r') as f:\n",
    "                lines = f.readlines()\n",
    "\n",
    "            probe_dict = get_probe_trial_performance_homecage(lines,probe_dict=probe_dict)\n",
    "            #print(probe_dict)\n",
    "            \n",
    "    print(len(probe_dict))\n",
    "    for k,v in probe_dict.items():\n",
    "        print(k,np.mean(v))"
   ]
  },
  {
   "cell_type": "code",
   "execution_count": 35,
   "metadata": {},
   "outputs": [
    {
     "data": {
      "text/plain": [
       "4"
      ]
     },
     "execution_count": 35,
     "metadata": {},
     "output_type": "execute_result"
    }
   ],
   "source": [
    "len(probe_dict)"
   ]
  },
  {
   "cell_type": "code",
   "execution_count": 177,
   "metadata": {},
   "outputs": [],
   "source": [
    "ROOT = r\"C:/Users/takam/Desktop/Dropbox/pyhomecage/data/ec_lineloop_1/C00494062_1/16190095855355382_task/\"\n",
    "\n",
    "fs = [i for i in os.listdir(ROOT) if '_taskFile' not in i]"
   ]
  },
  {
   "cell_type": "code",
   "execution_count": null,
   "metadata": {},
   "outputs": [],
   "source": []
  },
  {
   "cell_type": "code",
   "execution_count": 138,
   "metadata": {},
   "outputs": [],
   "source": [
    "#fpath = r'C:/Users/takam/Desktop/Dropbox/pyhomecage/data/ec_lineloop_2/C00499495_6/16201231547824955_task/C00499495_6_ec_lineloop_2_follow_the_light_2_graphs'"
   ]
  },
  {
   "cell_type": "code",
   "execution_count": 139,
   "metadata": {
    "scrolled": true
   },
   "outputs": [
    {
     "name": "stdout",
     "output_type": "stream",
     "text": [
      "26\n",
      "0\n",
      "13\n"
     ]
    }
   ],
   "source": [
    "probe_dict = {}\n",
    "for f_ in fs:\n",
    "    if 'follow_the_light_2_graphs' in f_:\n",
    "        #print(f_)\n",
    "        fpath = os.path.join(ROOT,f_)\n",
    "        with open(fpath,'r') as f:\n",
    "            lines = f.readlines()\n",
    "\n",
    "        task_lines = []\n",
    "        for l_ in lines:\n",
    "            if 'POKED' in l_:\n",
    "                task_lines.append(l_)\n",
    "        probe_dict = get_probe_trial_performance_homecage(task_lines,probe_dict=probe_dict)\n",
    "        #print(probe_dict)"
   ]
  },
  {
   "cell_type": "code",
   "execution_count": null,
   "metadata": {},
   "outputs": [],
   "source": []
  },
  {
   "cell_type": "code",
   "execution_count": 150,
   "metadata": {},
   "outputs": [],
   "source": [
    "def get_probe_trial_performance_homecage(lines,probe_dict={}):\n",
    "    \"\"\" \"\"\"\n",
    "    times = []\n",
    "    probe_perf = []\n",
    "    target_hist = []; probe_hist = []; poked_hist = []; dir_hist = []; seq_hist = []\n",
    "    #if probe_dict is None: \n",
    "    #    probe_dict = {}\n",
    "    for ix,l_ in enumerate(lines):\n",
    "        \n",
    "        if 'TARGET' in l_:\n",
    "            t_ = re.findall('P ([0-9]*) R',l_)[0]\n",
    "            times.append(float(t_))\n",
    "            probe = eval(re.findall('PROBE: (False|True)',l_)[0])\n",
    "            target = int(re.findall('TARGET: ([0-9]*)',l_)[0])\n",
    "            poked = int(re.findall('POKED: ([0-9]*)',l_)[0])\n",
    "            direction = int(re.findall('DIR: (.*)',l_)[0])\n",
    "            seq_ix = int(re.findall('SEQ_IX: ([0-9]*)',l_)[0])\n",
    "\n",
    "            if probe:\n",
    "                if not (probe_hist[-1] and (target==target_hist[-1])):\n",
    "                    correct_poke = poked==target\n",
    "                    probe_perf.append(correct_poke)\n",
    "                    transition = str(seq_hist[-1]) + '_' + str(seq_ix)\n",
    "                    if transition in probe_dict.keys():\n",
    "                        probe_dict[transition].append(correct_poke)\n",
    "                    else:\n",
    "                        probe_dict[transition] = [correct_poke]\n",
    "            target_hist.append(target); probe_hist.append(probe); dir_hist.append(direction);\n",
    "            poked_hist.append(poked); seq_hist.append(seq_ix)\n",
    "    #print(len(probe_perf))\n",
    "    return probe_dict"
   ]
  },
  {
   "cell_type": "code",
   "execution_count": null,
   "metadata": {},
   "outputs": [],
   "source": [
    " A B C"
   ]
  },
  {
   "cell_type": "code",
   "execution_count": 13,
   "metadata": {},
   "outputs": [
    {
     "data": {
      "text/plain": [
       "'P 146 REWS:0, POKED: 4, PROBE: False , TARGET: 6,SEQ_IX: 1, DIR: 1\\n'"
      ]
     },
     "execution_count": 13,
     "metadata": {},
     "output_type": "execute_result"
    }
   ],
   "source": [
    "l_"
   ]
  },
  {
   "cell_type": "code",
   "execution_count": null,
   "metadata": {},
   "outputs": [],
   "source": []
  }
 ],
 "metadata": {
  "kernelspec": {
   "display_name": "Python 3",
   "language": "python",
   "name": "python3"
  },
  "language_info": {
   "codemirror_mode": {
    "name": "ipython",
    "version": 3
   },
   "file_extension": ".py",
   "mimetype": "text/x-python",
   "name": "python",
   "nbconvert_exporter": "python",
   "pygments_lexer": "ipython3",
   "version": "3.8.5"
  }
 },
 "nbformat": 4,
 "nbformat_minor": 4
}
