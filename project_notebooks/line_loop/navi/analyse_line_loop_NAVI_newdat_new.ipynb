{
 "cells": [
  {
   "cell_type": "markdown",
   "metadata": {},
   "source": [
    "# First pass analysis of line/loop data\n",
    "\n",
    "<ul>\n",
    "    <li> Analyse correct sequence lengths. </li>\n",
    "    <li> Do reaction times </li>\n",
    "    <li> Analyse as a function of distance from reward </li>\n",
    "    <li> Try to fit RL model to these data </li> \n",
    "    \n",
    "</ul>\n",
    "\n",
    "<b> WHY IS THERE A DIFFERENCE BETWEEN REW_LIST AND DAT_DICT['STATE'] </b>"
   ]
  },
  {
   "cell_type": "code",
   "execution_count": 1,
   "metadata": {},
   "outputs": [
    {
     "name": "stderr",
     "output_type": "stream",
     "text": [
      "/Users/yves/opt/anaconda3/lib/python3.7/site-packages/statsmodels/tools/_testing.py:19: FutureWarning: pandas.util.testing is deprecated. Use the functions in the public API at pandas.testing instead.\n",
      "  import pandas.util.testing as tm\n"
     ]
    }
   ],
   "source": [
    "%matplotlib inline\n",
    "import numpy as np\n",
    "import scipy as sp\n",
    "import pandas as pd\n",
    "import matplotlib.pyplot as plt\n",
    "import matplotlib\n",
    "import seaborn\n",
    "import scipy.stats as stt\n",
    "seaborn.set(font_scale=1.5,style='ticks')\n",
    "import os\n",
    "import re\n",
    "import sys\n",
    "import itertools\n",
    "import functools\n",
    "import networkx as nx\n",
    "from datetime import date, timedelta\n",
    "from datetime import datetime\n",
    "\n",
    "sys.path.append(r\"C:\\Users\\yweissenberger\\Documents\\code\\line_loop-master\")\n",
    "sys.path.append(r\"C:\\Users\\yweissenberger\\Documents\\code\\line_loop-master\\packages\")\n",
    "sys.path.append(\"/Users/yves/Documents/Code/line_loop/packages/\")"
   ]
  },
  {
   "cell_type": "code",
   "execution_count": 2,
   "metadata": {},
   "outputs": [],
   "source": [
    "import mouse_poker as mpk"
   ]
  },
  {
   "cell_type": "markdown",
   "metadata": {},
   "source": [
    "# Defined functions "
   ]
  },
  {
   "cell_type": "code",
   "execution_count": 3,
   "metadata": {},
   "outputs": [],
   "source": [
    "#physical position of the pokes. In terms of numbering, the pokes are numbered as follows\n",
    "#(or in some cases the indexing starts from 0 rather than 1)\n",
    "\n",
    "\"\"\"\n",
    "     1\n",
    "   2   3\n",
    " 4   5   6 \n",
    "   7   8\n",
    "     9\n",
    "\"\"\"\n",
    "\n",
    "#physical positions of the pokes, used for drawing the graphs\n",
    "#with nodes and edges. The distances here are to scale with\n",
    "#the real thing.\n",
    "poke_pos = [ [149,0],\n",
    "         [68,19],[231,19],\n",
    "       [0,62],[149,62],[298,62],\n",
    "         [68,105],[231,105],\n",
    "              [149,124]]"
   ]
  },
  {
   "cell_type": "code",
   "execution_count": 4,
   "metadata": {},
   "outputs": [],
   "source": [
    "from mouse_poker.navi import *"
   ]
  },
  {
   "cell_type": "code",
   "execution_count": null,
   "metadata": {},
   "outputs": [],
   "source": []
  },
  {
   "cell_type": "code",
   "execution_count": 5,
   "metadata": {},
   "outputs": [],
   "source": [
    "def get_performance(state_seq,rew_list,port_seq,forced_seq,rew_indices,map_poke_to_state,minNrew=5,set_rew_indices=None,firstOnly=False,maxNrew=100):\n",
    "    \n",
    "    \"\"\" \n",
    "    Calculate the fraction correct in each state\n",
    "    \n",
    "    Arguments:\n",
    "    ============================\n",
    "    \n",
    "    state_seq (list):             The sequence of states visited by the subject\n",
    "    \n",
    "    rew_list (list):              A boolean list that specifies whether a reward was received at this location or not\n",
    "    \n",
    "    port_seq (list):              The sequence of ports visited by the subject\n",
    "    \n",
    "    forced_seq (list):            A boolean list that specifies whether the decision the animal made was forced\n",
    "    \n",
    "    map_poke_to_state (function): Takes as input a port and returns the state this port corresponds to\n",
    "    \n",
    "    rew_indices (list):           The set of states (not ports!) where in this session rewards were delivered\n",
    "    \n",
    "    minNrew (int):                The required minimum number of sequential rewards at a particular rewarded state\n",
    "                                  that are required before they are included in the perf and and perf_ctr arrays.\n",
    "                                  For calculating the fraction correct, for example, you may want to ignore the first\n",
    "                                  trial, when the animal doesn't know where the reward is\n",
    "                                  \n",
    "    minNrew (int):                Analogous to minNrew but specifies an upper limit\n",
    "    \n",
    "    set_rew_indices (list):       If you only want to consider behaviour when the reward is in one of \n",
    "                                  a particular set of states, rather than all states that had reward in\n",
    "                                  a particular session, you can specify this parameter.\n",
    "                                  \n",
    "    first_only (boolean):         If True, for each trial (i.e. from a given starting state to receiving the reward)\n",
    "                                  then it only adds the decision you make during the first visit to each state on that\n",
    "                                  trial. For example, if reward is at 5 and the state sequence is 3-4-3-4-5. It will\n",
    "                                  say that you made 1 correct decision in state 3 and 1 incorrect decision in state 4.\n",
    "                                  Otherwise, you would have 2 correcy decisions in state 3, 2 incorrect in state 4 and\n",
    "                                  1 correct in state 4.\n",
    "                                    \n",
    "    \"\"\"\n",
    "    \n",
    "    used_states = sorted([i[1] for i in map_poke_to_state.args[0]])  #\n",
    "    if set_rew_indices is None: set_rew_indices=used_states\n",
    "    perf = np.zeros([9,9])  #this is an array that keeps track of the number of correct choices made in each state at each possible reward location\n",
    "    perf_ctr = np.zeros([9,9]) #this is an array that keeps track of the TOTAL number choices made in each state at each possible reward location\n",
    "    rew_hist = []\n",
    "    all_rew_loc = []\n",
    "    \n",
    "    #the main logic of this code is to use the rew_list to separate the state sequence into trials.\n",
    "    #and then calculate things on a trial by trial basis.\n",
    "    for rew_ctr,(st,nd) in enumerate(zip(np.where(rew_list)[0][:-2],np.where(rew_list)[0][1:-1])):\n",
    "        \n",
    "        \n",
    "        rew_loc = state_seq[nd]   #the reward location on this trial\n",
    "        \n",
    "        #include this trial only if it is at one of the reward locations you are considering\n",
    "        if (rew_loc in set_rew_indices):\n",
    "            \n",
    "            #This block of code is used to calculate the number of\n",
    "            #sequential rewards at the same location\n",
    "            all_rew_loc.append(rew_loc)\n",
    "            if not rew_hist:\n",
    "                rew_hist.append(rew_loc)\n",
    "            elif rew_loc==rew_hist[-1]:\n",
    "                rew_hist.append(rew_loc)\n",
    "            else:\n",
    "                rew_hist = []\n",
    "\n",
    "            has_visited= []  #this is a list of states that you have visited in a given 'trial', relevant if first_only=True\n",
    "            \n",
    "            #If you are in the range of number of rewards of interest calculate stuff in the trial\n",
    "            if np.logical_and(len(rew_hist)>=minNrew,len(rew_hist)<=maxNrew): \n",
    "                \n",
    "                #for each poke in the trial\n",
    "                for pk_ctr in range(st+1,nd+1):\n",
    "                    rewarded = rew_list[pk_ctr]  #if it is rewarded. Offset by 1 index (i.e. if the sequence is 3-4-5).\n",
    "                    \n",
    "\n",
    "                    #only proceed if it is NOT a forced trial\n",
    "                    if not forced_seq[pk_ctr]:\n",
    "                        \n",
    "                        d0 = np.abs(state_seq[pk_ctr]-rew_loc)     #calculate the distance, in state space, from the current state to the reward \n",
    "                        d1 = np.abs(state_seq[pk_ctr+1]-rew_loc)   #calculate the distance, in state space, from the NEXt state to the reward\n",
    "\n",
    "                        state = state_seq[pk_ctr]\n",
    "                        rewarded = rew_list[pk_ctr]  #if it is rewarded. Offset by 1 index (i.e. if the sequence is 3-4-5).\n",
    "\n",
    "                        \n",
    "                        if state not in has_visited: #if this is the first visit to the state (note if first_only=False, you don't store which states you have visited)\n",
    "                            \n",
    "                            if d1<d0:   #if the distance of the next state from reward is smaller than the current state you made the correct choice\n",
    "                                perf[state,rew_loc] += 1\n",
    "                                perf_ctr[state,rew_loc] += 1\n",
    "                            else:        #you made the wrong choice\n",
    "                                perf[state,rew_loc] += 0\n",
    "                                perf_ctr[state,rew_loc] += 1\n",
    "                            if firstOnly: has_visited.append(state)\n",
    "    \n",
    "    for i in np.unique(rew_hist):\n",
    "        perf[i,i] = np.nan\n",
    "        perf_ctr[i,i] = np.nan\n",
    "\n",
    "    return perf, perf_ctr"
   ]
  },
  {
   "cell_type": "code",
   "execution_count": null,
   "metadata": {},
   "outputs": [],
   "source": []
  },
  {
   "cell_type": "code",
   "execution_count": null,
   "metadata": {},
   "outputs": [],
   "source": []
  },
  {
   "cell_type": "code",
   "execution_count": null,
   "metadata": {},
   "outputs": [],
   "source": []
  },
  {
   "cell_type": "code",
   "execution_count": null,
   "metadata": {},
   "outputs": [],
   "source": []
  },
  {
   "cell_type": "code",
   "execution_count": null,
   "metadata": {},
   "outputs": [],
   "source": []
  },
  {
   "cell_type": "markdown",
   "metadata": {},
   "source": [
    "# Actual code to run stuff "
   ]
  },
  {
   "cell_type": "code",
   "execution_count": 6,
   "metadata": {},
   "outputs": [
    {
     "name": "stdout",
     "output_type": "stream",
     "text": [
      "rewards_received: 145\n",
      "task_nr:2\n"
     ]
    }
   ],
   "source": [
    "\n",
    "#f = open(\"/Users/yves/Documents/beh_dat_new_room/line_loop_batch_3NAVI/'460175_10'-2021-03-15-145534.txt\",'r')\n",
    "#f = open(\"/Users/yves/Documents/beh_dat_new_room/line_loop_batch_3NAVI/'460175_10'-2021-03-01-110337.txt\",'r')\n",
    "f = open(\"/Users/yves/Documents/beh_dat_new_room/line_loop_batch_3NAVI/'456675_10'-2021-02-23-142909.txt\",'r')\n",
    "\n",
    "lines =f.readlines()\n",
    "experiment_name, task_name, subject_id, task_nr, graph,lineloop,date,test,_ = mpk.load.get_metadata(lines)\n",
    "dat_dict,events,event_times,nRews,_ = mpk.load.parse_data(lines,experiment_name)\n",
    "\n",
    "print(\"rewards_received: {:d}\".format(nRews))\n",
    "print('task_nr:{:.0f}'.format(int(task_nr)))"
   ]
  },
  {
   "cell_type": "code",
   "execution_count": null,
   "metadata": {
    "scrolled": true
   },
   "outputs": [],
   "source": []
  },
  {
   "cell_type": "code",
   "execution_count": 8,
   "metadata": {},
   "outputs": [],
   "source": [
    "#Note this can lead to bugs at the moment because the way it works is \n",
    "#to use the visited pokes and states in the text file to work out the mapping\n",
    "#however, if in a given session some state is not visited this can lead to \n",
    "#problems...\n",
    "poke_to_state_map,full_pkst_map = get_poke_to_state_map(lines)  #construct function to map between pokes and states\n",
    "used_states = sorted([i[1] for i in full_pkst_map])\n",
    "used_pokes = ([i[0] for i in full_pkst_map])\n",
    "\n",
    "map_poke_to_state = functools.partial(map_poke_to_state_fun,full_pkst_map)\n",
    "map_state_to_poke = functools.partial(map_state_to_poke_fun,full_pkst_map)\n",
    "\n",
    "#rew_indices = [0,3,5,8]\n",
    "\n",
    "#this looks through the entire text file\n",
    "rew_indices = np.unique([eval(re.findall('REWARD LOCATIONS(\\[.*\\])',l)[0]) for l in lines if re.findall('REWARD LOCATIONS(\\[.*\\])',l)][0]).tolist()\n"
   ]
  },
  {
   "cell_type": "code",
   "execution_count": null,
   "metadata": {},
   "outputs": [],
   "source": []
  },
  {
   "cell_type": "code",
   "execution_count": 9,
   "metadata": {},
   "outputs": [],
   "source": [
    "state_seq = [i[0] for i in dat_dict['state']]\n",
    "poke_seq = [map_state_to_poke(i) for i in state_seq]\n",
    "#dat_dict['rews']"
   ]
  },
  {
   "cell_type": "code",
   "execution_count": 12,
   "metadata": {},
   "outputs": [
    {
     "data": {
      "text/plain": [
       "145"
      ]
     },
     "execution_count": 12,
     "metadata": {},
     "output_type": "execute_result"
    }
   ],
   "source": [
    "np.sum(dat_dict['rew_list'])"
   ]
  },
  {
   "cell_type": "code",
   "execution_count": 13,
   "metadata": {},
   "outputs": [
    {
     "name": "stdout",
     "output_type": "stream",
     "text": [
      "0.6674654666288576\n"
     ]
    },
    {
     "name": "stderr",
     "output_type": "stream",
     "text": [
      "/Users/yves/opt/anaconda3/lib/python3.7/site-packages/ipykernel_launcher.py:6: RuntimeWarning: invalid value encountered in true_divide\n",
      "  \n"
     ]
    }
   ],
   "source": [
    "#this extracts the core information from the text file. This is key to work with\n",
    "state_seq, rew_list, port_seq,forced_seq = extract_navi_dat(lines)\n",
    "\n",
    "#this runs the main analysis that we have done so far.\n",
    "perf,perf_ctr = get_performance(state_seq,rew_list,port_seq,forced_seq,rew_indices,map_poke_to_state,minNrew=5)\n",
    "fc = perf/perf_ctr  #calculate fraction correct at each point\n",
    "print(np.nanmean(fc))"
   ]
  },
  {
   "cell_type": "code",
   "execution_count": 14,
   "metadata": {},
   "outputs": [
    {
     "data": {
      "text/plain": [
       "dict_keys(['state', 'port', 'random', 'rew_locations', 'rews', 'rew_list'])"
      ]
     },
     "execution_count": 14,
     "metadata": {},
     "output_type": "execute_result"
    }
   ],
   "source": [
    "dat_dict.keys()"
   ]
  },
  {
   "cell_type": "code",
   "execution_count": 15,
   "metadata": {},
   "outputs": [
    {
     "data": {
      "text/plain": [
       "1436"
      ]
     },
     "execution_count": 15,
     "metadata": {},
     "output_type": "execute_result"
    }
   ],
   "source": [
    "len(dat_dict['state'])"
   ]
  },
  {
   "cell_type": "code",
   "execution_count": 16,
   "metadata": {},
   "outputs": [
    {
     "data": {
      "text/plain": [
       "1581"
      ]
     },
     "execution_count": 16,
     "metadata": {},
     "output_type": "execute_result"
    }
   ],
   "source": [
    "len(state_seq)"
   ]
  },
  {
   "cell_type": "code",
   "execution_count": 17,
   "metadata": {
    "scrolled": false
   },
   "outputs": [
    {
     "data": {
      "text/plain": [
       "<matplotlib.colorbar.Colorbar at 0x7ff4188d9650>"
      ]
     },
     "execution_count": 17,
     "metadata": {},
     "output_type": "execute_result"
    },
    {
     "data": {
      "image/png": "[encoded data removed]",
      "text/plain": [
       "<Figure size 432x288 with 2 Axes>"
      ]
     },
     "metadata": {
      "needs_background": "light"
     },
     "output_type": "display_data"
    }
   ],
   "source": [
    "#plot the results of the above analysis\n",
    "plt.title('Each column is one reward location')\n",
    "rew_diag_mtx = np.dstack([np.eye(perf.shape[0])*-1 + 1]*3 + [np.eye(perf.shape[0])])\n",
    "#fcplot = (perf/perf_ctr)\n",
    "np.fill_diagonal(fc,np.nan)\n",
    "plt.imshow(rew_diag_mtx,cmap='Greys')\n",
    "plt.imshow(fc,vmin=0,vmax=1,cmap='RdBu_r')\n",
    "#plt.xlim(.5,6.5); plt.ylim(6.5,.5)\n",
    "plt.colorbar()"
   ]
  },
  {
   "cell_type": "code",
   "execution_count": null,
   "metadata": {},
   "outputs": [],
   "source": []
  },
  {
   "cell_type": "markdown",
   "metadata": {},
   "source": [
    "# Run as batch analysis the above "
   ]
  },
  {
   "cell_type": "code",
   "execution_count": 86,
   "metadata": {},
   "outputs": [],
   "source": [
    "fs = sorted([i for i in os.listdir(ROOT) if '.txt' in i])\n"
   ]
  },
  {
   "cell_type": "code",
   "execution_count": 87,
   "metadata": {},
   "outputs": [
    {
     "data": {
      "text/plain": [
       "[\"'456675_3'-2020-11-06-154318.txt\",\n",
       " \"'456675_3'-2020-11-06-161202.txt\",\n",
       " \"'456675_3'-2020-11-09-101635.txt\",\n",
       " \"'456675_3'-2020-11-09-102109.txt\",\n",
       " \"'456675_3'-2020-11-09-102635.txt\",\n",
       " \"'456675_3'-2020-11-09-103309.txt\",\n",
       " \"'456675_3'-2020-11-09-104413.txt\",\n",
       " \"'456675_3'-2020-11-09-144633.txt\",\n",
       " \"'456675_3'-2020-11-10-093120.txt\",\n",
       " \"'456675_3'-2020-11-10-141438.txt\",\n",
       " \"'456675_3'-2020-11-11-090514.txt\",\n",
       " \"'456675_3'-2020-11-11-091836.txt\",\n",
       " \"'456675_3'-2020-11-11-134013.txt\",\n",
       " \"'456675_3'-2020-11-11-134956.txt\",\n",
       " \"'456675_3'-2020-11-12-091350.txt\",\n",
       " \"'456675_3'-2020-11-12-092443.txt\",\n",
       " \"'456675_3'-2020-11-12-093501.txt\",\n",
       " \"'456675_3'-2020-11-12-133732.txt\",\n",
       " \"'456675_3'-2020-11-12-134827.txt\",\n",
       " \"'456675_3'-2020-11-16-103808.txt\",\n",
       " \"'456675_3'-2020-11-16-143959.txt\",\n",
       " \"'456675_3'-2020-11-17-095304.txt\",\n",
       " \"'456675_3'-2020-11-17-135626.txt\",\n",
       " \"'456675_3'-2020-11-18-100226.txt\",\n",
       " \"'456675_3'-2020-11-18-130726.txt\",\n",
       " \"'456675_3'-2020-11-19-100909.txt\",\n",
       " \"'456675_3'-2020-11-19-143229.txt\",\n",
       " \"'456675_3'-2020-11-20-095050.txt\",\n",
       " \"'456675_3'-2020-11-20-131249.txt\",\n",
       " \"'456675_3'-2020-11-20-131409.txt\",\n",
       " \"'456675_3'-2020-11-23-100530.txt\",\n",
       " \"'456675_3'-2020-11-23-140709.txt\",\n",
       " \"'456675_3'-2020-11-25-102108.txt\",\n",
       " \"'456675_3'-2020-11-25-135751.txt\",\n",
       " \"'456675_3'-2020-11-26-103618.txt\",\n",
       " \"'456675_3'-2020-11-26-140640.txt\",\n",
       " \"'456675_3'-2020-11-27-093415.txt\",\n",
       " \"'456675_3'-2020-11-27-133752.txt\",\n",
       " \"'456675_3'-2020-11-30-103714.txt\",\n",
       " \"'456675_3'-2020-12-01-094517.txt\",\n",
       " \"'456675_3'-2020-12-01-133911.txt\",\n",
       " \"'456675_3'-2020-12-04-131725.txt\",\n",
       " \"'456675_3'-2020-12-04-132334.txt\",\n",
       " \"'456675_3'-2020-12-07-104742.txt\",\n",
       " \"'456675_3'-2020-12-07-142108.txt\",\n",
       " \"'456675_3'-2020-12-08-100702.txt\",\n",
       " \"'456675_3'-2020-12-09-094620.txt\",\n",
       " \"'456675_3'-2020-12-09-143454.txt\",\n",
       " \"'456675_3'-2020-12-10-093428.txt\",\n",
       " \"'456675_3'-2020-12-10-152212.txt\",\n",
       " \"'456675_3'-2020-12-11-103901.txt\",\n",
       " \"'456675_3'-2020-12-11-152734.txt\",\n",
       " \"'456675_3'-2020-12-12-101356.txt\",\n",
       " \"'456675_3'-2020-12-12-134909.txt\",\n",
       " \"'456675_3'-2020-12-14-164104.txt\",\n",
       " \"'456675_3'-2020-12-16-105855.txt\",\n",
       " \"'456675_3'-2020-12-16-154842.txt\",\n",
       " \"'456675_3'-2020-12-17-145401.txt\",\n",
       " \"'456675_3'-2020-12-17-150014.txt\"]"
      ]
     },
     "execution_count": 87,
     "metadata": {},
     "output_type": "execute_result"
    }
   ],
   "source": [
    "fs"
   ]
  },
  {
   "cell_type": "code",
   "execution_count": 95,
   "metadata": {
    "scrolled": true
   },
   "outputs": [
    {
     "name": "stdout",
     "output_type": "stream",
     "text": [
      "2 /Users/yves/Documents/behavior_data/line_loop_cohort_1/line_loop_batch_4_RUNNAVI/'456675_3'-2020-12-01-094517.txt\n",
      "2 /Users/yves/Documents/behavior_data/line_loop_cohort_1/line_loop_batch_4_RUNNAVI/'456675_3'-2020-12-01-133911.txt\n",
      "2 /Users/yves/Documents/behavior_data/line_loop_cohort_1/line_loop_batch_4_RUNNAVI/'456675_3'-2020-12-04-131725.txt\n",
      "2 /Users/yves/Documents/behavior_data/line_loop_cohort_1/line_loop_batch_4_RUNNAVI/'456675_3'-2020-12-04-132334.txt\n",
      "2 /Users/yves/Documents/behavior_data/line_loop_cohort_1/line_loop_batch_4_RUNNAVI/'456675_3'-2020-12-07-104742.txt\n",
      "2 /Users/yves/Documents/behavior_data/line_loop_cohort_1/line_loop_batch_4_RUNNAVI/'456675_3'-2020-12-07-142108.txt\n",
      "2 /Users/yves/Documents/behavior_data/line_loop_cohort_1/line_loop_batch_4_RUNNAVI/'456675_3'-2020-12-08-100702.txt\n",
      "2 /Users/yves/Documents/behavior_data/line_loop_cohort_1/line_loop_batch_4_RUNNAVI/'456675_3'-2020-12-09-094620.txt\n",
      "2 /Users/yves/Documents/behavior_data/line_loop_cohort_1/line_loop_batch_4_RUNNAVI/'456675_3'-2020-12-09-143454.txt\n",
      "2 /Users/yves/Documents/behavior_data/line_loop_cohort_1/line_loop_batch_4_RUNNAVI/'456675_3'-2020-12-10-093428.txt\n",
      "2 /Users/yves/Documents/behavior_data/line_loop_cohort_1/line_loop_batch_4_RUNNAVI/'456675_3'-2020-12-10-152212.txt\n",
      "2 /Users/yves/Documents/behavior_data/line_loop_cohort_1/line_loop_batch_4_RUNNAVI/'456675_3'-2020-12-11-103901.txt\n",
      "2 /Users/yves/Documents/behavior_data/line_loop_cohort_1/line_loop_batch_4_RUNNAVI/'456675_3'-2020-12-11-152734.txt\n",
      "2 /Users/yves/Documents/behavior_data/line_loop_cohort_1/line_loop_batch_4_RUNNAVI/'456675_3'-2020-12-12-101356.txt\n",
      "2 /Users/yves/Documents/behavior_data/line_loop_cohort_1/line_loop_batch_4_RUNNAVI/'456675_3'-2020-12-12-134909.txt\n",
      "2 /Users/yves/Documents/behavior_data/line_loop_cohort_1/line_loop_batch_4_RUNNAVI/'456675_3'-2020-12-14-164104.txt\n",
      "2 /Users/yves/Documents/behavior_data/line_loop_cohort_1/line_loop_batch_4_RUNNAVI/'456675_3'-2020-12-16-105855.txt\n",
      "2 /Users/yves/Documents/behavior_data/line_loop_cohort_1/line_loop_batch_4_RUNNAVI/'456675_3'-2020-12-16-154842.txt\n",
      "2 /Users/yves/Documents/behavior_data/line_loop_cohort_1/line_loop_batch_4_RUNNAVI/'456675_3'-2020-12-17-145401.txt\n",
      "2 /Users/yves/Documents/behavior_data/line_loop_cohort_1/line_loop_batch_4_RUNNAVI/'456675_3'-2020-12-17-150014.txt\n"
     ]
    }
   ],
   "source": [
    "#ROOT = '/Users/yves/Documents/beh_dat_new_room/line_loop_batch_3NAVI/'\n",
    "#ROOT = '/Users/yves/Documents/beh_dat_new_room/line_loop_batch_3NAVI_males/'\n",
    "#ROOT = '/Users/yves/Downloads/line_loop_batch_4_2graphs/line_loop_batch_3NAVI_males/'\n",
    "#ROOT = '/Users/yves/Downloads/line_loop_batch_4_2graphs/line_loop_batch_3NAVI/'\n",
    "#ROOT = '/Users/yves/Downloads/line_loop_batch_4_2graphs/line_loop_batch_3NAVI_toLOOP/'\n",
    "ROOT = '/Users/yves/Documents/behavior_data/line_loop_cohort_1/line_loop_batch_4_RUNNAVI/'\n",
    "\n",
    "\n",
    "#ROOT = '/Users/yves/Documents/beh_dat_new_room/line_loop_batch_4_RUNNAVI/'\n",
    "\n",
    "fs = sorted([i for i in os.listdir(ROOT) if '.txt' in i])\n",
    "res_dict = {}\n",
    "minNRew = 5\n",
    "today = datetime.now()\n",
    "allres = [[] for _ in range(20)]\n",
    "for f_ in fs[-20:]:\n",
    "        \n",
    "    fpath = os.path.join(ROOT,f_)\n",
    "    if os.path.isfile(fpath):\n",
    "        subject = eval(re.findall(\"('.*')\",f_)[0])\n",
    "        #print(subject)\n",
    "\n",
    "        t1_ = re.findall(r'(202.*)-[0-9]{6}.txt',f_)[0]\n",
    "        t1_ = datetime.strptime(t1_,'%Y-%m-%d')\n",
    "        \n",
    "        if (today- t1_).days<=700:\n",
    "            f = open(fpath,'r')\n",
    "            lines =f.readlines()\n",
    "\n",
    "            for mnr in range(0,20):\n",
    "                experiment_name, task_name, subject_id, task_nr, graph,lineloop,date,test,_ = mpk.load.get_metadata(lines)\n",
    "                dat_dict,events,event_times,nRews,_ = mpk.load.parse_data(lines,experiment_name)\n",
    "                subject = subject + '_' + str(task_nr)\n",
    "                \n",
    "                if nRews>50:\n",
    "\n",
    "                    poke_to_state_map,full_pkst_map = get_poke_to_state_map(lines)\n",
    "                    used_states = sorted([i[1] for i in full_pkst_map])\n",
    "                    used_pokes = ([i[0] for i in full_pkst_map])\n",
    "\n",
    "                    map_poke_to_state = functools.partial(map_poke_to_state_fun,full_pkst_map)\n",
    "                    map_state_to_poke = functools.partial(map_state_to_poke_fun,full_pkst_map)\n",
    "\n",
    "                    #rew_indices = [0,3,5,8]\n",
    "                    rew_indices = np.unique([eval(re.findall('REWARD LOCATIONS(\\[.*\\])',l)[0]) for l in lines if re.findall('REWARD LOCATIONS(\\[.*\\])',l)][0]).tolist()\n",
    "                    state_seq, rew_list, port_seq,forced_seq = extract_navi_dat(lines)\n",
    "                    perf,perf_ctr = get_performance(state_seq,rew_list,port_seq,forced_seq,rew_indices,map_poke_to_state,minNrew=mnr,maxNrew=mnr,firstOnly=True)\n",
    "                    #if mnr>10:\n",
    "                    #    print\n",
    "                    allres[mnr].append(np.nansum(perf)/np.nansum(perf_ctr))\n",
    "                    #allres[mnr].append(np.nanmean(perf/perf_ctr))\n",
    "\n",
    "                    if subject not in res_dict.keys():\n",
    "                        res_dict[subject] = [[perf,perf_ctr]]\n",
    "                    else:\n",
    "                        res_dict[subject].append([perf,perf_ctr])\n",
    "            print(task_nr,fpath)"
   ]
  },
  {
   "cell_type": "code",
   "execution_count": 96,
   "metadata": {
    "scrolled": false
   },
   "outputs": [
    {
     "data": {
      "text/plain": [
       "[0.5843760701772872,\n",
       " 0.6460988736564185,\n",
       " 0.6462647017989548,\n",
       " 0.6763753788910328,\n",
       " 0.6857870636111743,\n",
       " 0.7437701545977637,\n",
       " 0.7219925510422864,\n",
       " 0.6940590945959473,\n",
       " 0.6878287264028953,\n",
       " 0.7257211075016662,\n",
       " 0.7133867214597438,\n",
       " 0.7180835931657731,\n",
       " 0.6815998512451021,\n",
       " 0.7212383391711816,\n",
       " 0.7160033773722203,\n",
       " 0.7068417321678143,\n",
       " 0.7026978816962793,\n",
       " 0.7073818570852946,\n",
       " 0.7006877728560028,\n",
       " 0.7088599677318767]"
      ]
     },
     "execution_count": 96,
     "metadata": {},
     "output_type": "execute_result"
    }
   ],
   "source": [
    "[np.nanmean(i) for i in allres]"
   ]
  },
  {
   "cell_type": "code",
   "execution_count": 97,
   "metadata": {
    "scrolled": true
   },
   "outputs": [
    {
     "data": {
      "text/plain": [
       "[0.5843760701772872,\n",
       " 0.6460988736564185,\n",
       " 0.6462647017989548,\n",
       " 0.6763753788910328,\n",
       " 0.6857870636111743,\n",
       " 0.7437701545977637,\n",
       " 0.7219925510422864,\n",
       " 0.6940590945959473,\n",
       " 0.6878287264028953,\n",
       " 0.7257211075016662,\n",
       " 0.7133867214597438,\n",
       " 0.7180835931657731,\n",
       " 0.6815998512451021,\n",
       " 0.7212383391711816,\n",
       " 0.7160033773722203,\n",
       " 0.7068417321678143,\n",
       " 0.7026978816962793,\n",
       " 0.7073818570852946,\n",
       " 0.7006877728560028,\n",
       " 0.7088599677318767]"
      ]
     },
     "execution_count": 97,
     "metadata": {},
     "output_type": "execute_result"
    }
   ],
   "source": [
    "[np.nanmean(i) for i in allres]"
   ]
  },
  {
   "cell_type": "code",
   "execution_count": 98,
   "metadata": {},
   "outputs": [
    {
     "data": {
      "image/png": "[encoded data removed]",
      "text/plain": [
       "<Figure size 432x288 with 1 Axes>"
      ]
     },
     "metadata": {
      "needs_background": "light"
     },
     "output_type": "display_data"
    }
   ],
   "source": [
    "from scipy.ndimage import gaussian_filter1d\n",
    "sess_perf = [np.nanmean(i) for i in allres]\n",
    "plt.plot(gaussian_filter1d(sess_perf,2.25,mode='nearest'),linewidth=5)\n",
    "plt.scatter(range(len(sess_perf)),sess_perf,color='k',s=128,edgecolors='none')\n",
    "plt.xlabel(\"# of successive rewards at some location\")\n",
    "plt.ylabel(\"Proportion\\n correct\")\n",
    "#plt.ylim(.6,.975)\n",
    "seaborn.despine()"
   ]
  },
  {
   "cell_type": "code",
   "execution_count": 308,
   "metadata": {},
   "outputs": [
    {
     "ename": "NameError",
     "evalue": "name 'perf_stuff' is not defined",
     "output_type": "error",
     "traceback": [
      "\u001b[0;31m---------------------------------------------------------------------------\u001b[0m",
      "\u001b[0;31mNameError\u001b[0m                                 Traceback (most recent call last)",
      "\u001b[0;32m<ipython-input-308-9a3d8e4bd891>\u001b[0m in \u001b[0;36m<module>\u001b[0;34m\u001b[0m\n\u001b[0;32m----> 1\u001b[0;31m \u001b[0msess_perf\u001b[0m \u001b[0;34m=\u001b[0m \u001b[0;34m[\u001b[0m\u001b[0mnp\u001b[0m\u001b[0;34m.\u001b[0m\u001b[0mnanmean\u001b[0m\u001b[0;34m(\u001b[0m\u001b[0mi\u001b[0m\u001b[0;34m)\u001b[0m \u001b[0;32mfor\u001b[0m \u001b[0mi\u001b[0m \u001b[0;32min\u001b[0m \u001b[0mperf_stuff\u001b[0m\u001b[0;34m]\u001b[0m\u001b[0;34m\u001b[0m\u001b[0;34m\u001b[0m\u001b[0m\n\u001b[0m\u001b[1;32m      2\u001b[0m \u001b[0mplt\u001b[0m\u001b[0;34m.\u001b[0m\u001b[0mplot\u001b[0m\u001b[0;34m(\u001b[0m\u001b[0mgaussian_filter1d\u001b[0m\u001b[0;34m(\u001b[0m\u001b[0msess_perf\u001b[0m\u001b[0;34m,\u001b[0m\u001b[0;36m2.25\u001b[0m\u001b[0;34m,\u001b[0m\u001b[0mmode\u001b[0m\u001b[0;34m=\u001b[0m\u001b[0;34m'nearest'\u001b[0m\u001b[0;34m)\u001b[0m\u001b[0;34m,\u001b[0m\u001b[0mlinewidth\u001b[0m\u001b[0;34m=\u001b[0m\u001b[0;36m5\u001b[0m\u001b[0;34m)\u001b[0m\u001b[0;34m\u001b[0m\u001b[0;34m\u001b[0m\u001b[0m\n\u001b[1;32m      3\u001b[0m \u001b[0mplt\u001b[0m\u001b[0;34m.\u001b[0m\u001b[0mscatter\u001b[0m\u001b[0;34m(\u001b[0m\u001b[0mrange\u001b[0m\u001b[0;34m(\u001b[0m\u001b[0mlen\u001b[0m\u001b[0;34m(\u001b[0m\u001b[0msess_perf\u001b[0m\u001b[0;34m)\u001b[0m\u001b[0;34m)\u001b[0m\u001b[0;34m,\u001b[0m\u001b[0msess_perf\u001b[0m\u001b[0;34m,\u001b[0m\u001b[0mcolor\u001b[0m\u001b[0;34m=\u001b[0m\u001b[0;34m'k'\u001b[0m\u001b[0;34m,\u001b[0m\u001b[0ms\u001b[0m\u001b[0;34m=\u001b[0m\u001b[0;36m128\u001b[0m\u001b[0;34m,\u001b[0m\u001b[0medgecolors\u001b[0m\u001b[0;34m=\u001b[0m\u001b[0;34m'none'\u001b[0m\u001b[0;34m)\u001b[0m\u001b[0;34m\u001b[0m\u001b[0;34m\u001b[0m\u001b[0m\n\u001b[1;32m      4\u001b[0m \u001b[0mplt\u001b[0m\u001b[0;34m.\u001b[0m\u001b[0mxlabel\u001b[0m\u001b[0;34m(\u001b[0m\u001b[0;34m\"# of successive rewards at some location\"\u001b[0m\u001b[0;34m)\u001b[0m\u001b[0;34m\u001b[0m\u001b[0;34m\u001b[0m\u001b[0m\n\u001b[1;32m      5\u001b[0m \u001b[0mplt\u001b[0m\u001b[0;34m.\u001b[0m\u001b[0mylabel\u001b[0m\u001b[0;34m(\u001b[0m\u001b[0;34m\"Proportion\\n correct\"\u001b[0m\u001b[0;34m)\u001b[0m\u001b[0;34m\u001b[0m\u001b[0;34m\u001b[0m\u001b[0m\n",
      "\u001b[0;31mNameError\u001b[0m: name 'perf_stuff' is not defined"
     ]
    }
   ],
   "source": [
    "sess_perf = [np.nanmean(i) for i in perf_stuff]\n",
    "plt.plot(gaussian_filter1d(sess_perf,2.25,mode='nearest'),linewidth=5)\n",
    "plt.scatter(range(len(sess_perf)),sess_perf,color='k',s=128,edgecolors='none')\n",
    "plt.xlabel(\"# of successive rewards at some location\")\n",
    "plt.ylabel(\"Proportion\\n correct\")\n",
    "plt.ylim(.6,.975)\n",
    "seaborn.despine()"
   ]
  },
  {
   "cell_type": "code",
   "execution_count": null,
   "metadata": {},
   "outputs": [],
   "source": []
  },
  {
   "cell_type": "code",
   "execution_count": 309,
   "metadata": {},
   "outputs": [
    {
     "name": "stderr",
     "output_type": "stream",
     "text": [
      "/Users/yves/opt/anaconda3/lib/python3.7/site-packages/ipykernel_launcher.py:8: RuntimeWarning: invalid value encountered in true_divide\n",
      "  \n"
     ]
    },
    {
     "data": {
      "image/png": "[encoded data removed]",
      "text/plain": [
       "<Figure size 720x576 with 5 Axes>"
      ]
     },
     "metadata": {},
     "output_type": "display_data"
    }
   ],
   "source": [
    "plt.figure(figsize=(10,8))\n",
    "for ctr,subject in enumerate(res_dict.keys()):\n",
    "    \n",
    "    plt.subplot(2,2,ctr+1)\n",
    "    plt.title(\"Subject: {} | Graph: {}\".format(subject[:-2],subject[-1]))\n",
    "    allp = np.nansum([i[0] for i in res_dict[subject]],axis=0)\n",
    "    allp_ctr = np.nansum([i[1] for i in res_dict[subject]],axis=0)\n",
    "    fc = (allp/allp_ctr)\n",
    "    np.fill_diagonal(fc,np.nan)\n",
    "    plt.imshow(np.dstack([np.eye(perf.shape[0])*-1 + 1]*3 + [np.eye(perf.shape[0])]),cmap='Greys')\n",
    "    plt.imshow(fc,vmin=0,vmax=1,cmap='RdBu_r')\n",
    "    \n",
    "    if ctr==0:\n",
    "        plt.xlabel(\"Rewarded State\")\n",
    "        plt.ylabel(\"Current State\")\n",
    "        cbar = plt.colorbar()\n",
    "        cbar.set_label(\"Fraction correct\")\n",
    "\n",
    "plt.tight_layout()"
   ]
  },
  {
   "cell_type": "markdown",
   "metadata": {},
   "source": [
    "# Other"
   ]
  },
  {
   "cell_type": "code",
   "execution_count": 315,
   "metadata": {},
   "outputs": [],
   "source": [
    "st = np.min(np.where(np.nansum(perf,axis=1))[0]) - 1\n",
    "nd = np.max((np.where(np.nansum(perf,axis=1))[0])) + 1\n",
    "\n",
    "\n",
    "#these are the pokes used for reward in this session\n",
    "used_rews = np.array([np.where(np.isnan(perf[:,i]))[0] for i in np.where(np.nansum(perf,axis=0))[0]]).flatten()\n",
    "used_rew_cols = np.where(np.nansum(perf,axis=0))[0]"
   ]
  },
  {
   "cell_type": "code",
   "execution_count": null,
   "metadata": {},
   "outputs": [],
   "source": []
  },
  {
   "cell_type": "code",
   "execution_count": 316,
   "metadata": {},
   "outputs": [],
   "source": [
    "ix = used_rew_cols[0]\n",
    "c_rew_index = ix\n",
    "\n",
    "#good_edges = [[map_state_to_poke(0),map_state_to_poke(1)],\n",
    "#              [map_state_to_poke(8),map_state_to_poke(7)]]\n",
    "bad_edges = []\n",
    "good_edges = []\n",
    "for s in range(st-1,nd+1):\n",
    "    if s!=c_rew_index and s in used_states:\n",
    "        d1 = np.abs(c_rew_index-(s+1))  #distances of state above to reward\n",
    "        d2 = np.abs(c_rew_index-(s-1))  #distance of state below to reward\n",
    "        min_ = np.argmin([d1,d2])\n",
    "        max_ = np.argmax([d1,d2])\n",
    "        \n",
    "        if [s+1,s-1][min_] in used_states:\n",
    "            good_edges.append([s,[s+1,s-1][min_]])  #good edges in terms of pokes\n",
    "        \n",
    "        if [s+1,s-1][max_] in used_states:\n",
    "            bad_edges.append([s,[s+1,s-1][max_]])   #bad edges in terms of pokes"
   ]
  },
  {
   "cell_type": "code",
   "execution_count": null,
   "metadata": {},
   "outputs": [],
   "source": []
  },
  {
   "cell_type": "code",
   "execution_count": 317,
   "metadata": {},
   "outputs": [
    {
     "data": {
      "text/plain": [
       "3"
      ]
     },
     "execution_count": 317,
     "metadata": {},
     "output_type": "execute_result"
    }
   ],
   "source": [
    "map_state_to_poke(ix)"
   ]
  },
  {
   "cell_type": "code",
   "execution_count": 318,
   "metadata": {},
   "outputs": [
    {
     "data": {
      "text/plain": [
       "array([3, 4, 5, 6, 7, 8])"
      ]
     },
     "execution_count": 318,
     "metadata": {},
     "output_type": "execute_result"
    }
   ],
   "source": [
    "used_rew_cols"
   ]
  },
  {
   "cell_type": "code",
   "execution_count": 319,
   "metadata": {},
   "outputs": [],
   "source": [
    "#rew_indices = [0,1,4,5]"
   ]
  },
  {
   "cell_type": "code",
   "execution_count": 320,
   "metadata": {},
   "outputs": [],
   "source": [
    "st = used_states[0]-1#np.min(np.where(np.nansum(perf,axis=1))[0]) - 1\n",
    "nd = used_states[1]+1#np.max((np.where(np.nansum(perf,axis=1))[0])) + 1\n",
    "\n",
    "\n",
    "#these are the pokes used for reward in this session\n",
    "used_rews = np.array([np.where(np.isnan(perf[:,i]))[0] for i in np.where(np.nansum(perf,axis=0))[0]]).flatten()\n",
    "used_rew_cols = np.where(np.nansum(perf,axis=0))[0]"
   ]
  },
  {
   "cell_type": "code",
   "execution_count": 321,
   "metadata": {},
   "outputs": [
    {
     "data": {
      "text/plain": [
       "2"
      ]
     },
     "execution_count": 321,
     "metadata": {},
     "output_type": "execute_result"
    }
   ],
   "source": [
    "st"
   ]
  },
  {
   "cell_type": "code",
   "execution_count": 322,
   "metadata": {},
   "outputs": [
    {
     "data": {
      "text/plain": [
       "5"
      ]
     },
     "execution_count": 322,
     "metadata": {},
     "output_type": "execute_result"
    }
   ],
   "source": [
    "nd"
   ]
  },
  {
   "cell_type": "code",
   "execution_count": null,
   "metadata": {},
   "outputs": [],
   "source": []
  },
  {
   "cell_type": "code",
   "execution_count": 323,
   "metadata": {},
   "outputs": [
    {
     "data": {
      "text/plain": [
       "array([3, 4, 5, 6, 7, 8])"
      ]
     },
     "execution_count": 323,
     "metadata": {},
     "output_type": "execute_result"
    }
   ],
   "source": [
    "used_rew_cols"
   ]
  },
  {
   "cell_type": "code",
   "execution_count": 324,
   "metadata": {
    "scrolled": false
   },
   "outputs": [
    {
     "name": "stderr",
     "output_type": "stream",
     "text": [
      "/Users/yves/opt/anaconda3/lib/python3.7/site-packages/networkx/drawing/nx_pylab.py:579: MatplotlibDeprecationWarning: \n",
      "The iterable function was deprecated in Matplotlib 3.1 and will be removed in 3.3. Use np.iterable instead.\n",
      "  if not cb.iterable(width):\n",
      "/Users/yves/opt/anaconda3/lib/python3.7/site-packages/networkx/drawing/nx_pylab.py:585: MatplotlibDeprecationWarning: \n",
      "The iterable function was deprecated in Matplotlib 3.1 and will be removed in 3.3. Use np.iterable instead.\n",
      "  and cb.iterable(edge_color) \\\n",
      "/Users/yves/opt/anaconda3/lib/python3.7/site-packages/networkx/drawing/nx_pylab.py:676: MatplotlibDeprecationWarning: \n",
      "The iterable function was deprecated in Matplotlib 3.1 and will be removed in 3.3. Use np.iterable instead.\n",
      "  if cb.iterable(node_size):  # many node sizes\n"
     ]
    },
    {
     "data": {
      "image/png": "[encoded data removed]",
      "text/plain": [
       "<Figure size 1296x288 with 6 Axes>"
      ]
     },
     "metadata": {},
     "output_type": "display_data"
    }
   ],
   "source": [
    "plt.figure(figsize=(18,4))\n",
    "ctr = 1\n",
    "for ix in used_rew_cols:\n",
    "    plt.subplot(1,len(used_rew_cols),ctr)\n",
    "\n",
    "    c_rew_index = ix  #this is correct, used_rews here are in terms of states\n",
    "\n",
    "    bad_edges = []\n",
    "    good_edges = []\n",
    "    same_edges = []\n",
    "    good_edges = [[map_state_to_poke(used_states[0]),map_state_to_poke(used_states[1])],\n",
    "                  [map_state_to_poke(used_states[-1]),map_state_to_poke(used_states[-2])]]\n",
    "\n",
    "    for s in range(st-2,nd+2):\n",
    "        if s!=c_rew_index and s in used_states:\n",
    "            su = s+1 #state_up\n",
    "            sd = s-1 #state_down\n",
    "            if lineloop=='loop': \n",
    "                if su==used_states[-1]+1:\n",
    "                    su= used_states[0]\n",
    "                if sd==used_states[0]-1:\n",
    "                    sd = used_states[-1]\n",
    "            d1 = np.abs(c_rew_index-(su))  #distances of state above to reward\n",
    "            d2 = np.abs(c_rew_index-(sd))  #distance of state below to reward\n",
    "            \n",
    "            min_ = np.argmin([d1,d2])\n",
    "            max_ = np.argmax([d1,d2])\n",
    "\n",
    "            mn_ = [su,sd][min_]; mx_ = [su,sd][max_]\n",
    "\n",
    "            if d1==d2:\n",
    "                if mn_ in used_states:\n",
    "                    same_edges.append([map_state_to_poke(s),map_state_to_poke(mn_)])\n",
    "\n",
    "                if mx_ in used_states:\n",
    "                    same_edges.append([map_state_to_poke(s),map_state_to_poke(mx_)])\n",
    "            else:\n",
    "                \n",
    "                if mn_ in used_states:\n",
    "                    good_edges.append([map_state_to_poke(s),map_state_to_poke(mn_)])\n",
    "\n",
    "                if mx_ in used_states:\n",
    "                    bad_edges.append([map_state_to_poke(s),map_state_to_poke(mx_)])\n",
    "\n",
    "        \n",
    "\n",
    "    pos = np.array([1,-1])*poke_pos\n",
    "    G0 = nx.DiGraph()\n",
    "    G0.add_nodes_from(range(9),pos=np.array([1,-1])*poke_pos)\n",
    "    nx.draw(G0,pos=pos,alpha=.2)\n",
    "    G = nx.DiGraph()\n",
    "    G.add_nodes_from(sorted(used_pokes))\n",
    "    weights = []\n",
    "    \n",
    "    rew_col = fc[:,ix]\n",
    "    \n",
    "    for e in good_edges:\n",
    "        G.add_edge(e[0],e[1],weight=rew_col[map_poke_to_state(e[0])],color='g')\n",
    "    for e in bad_edges:\n",
    "        G.add_edge(e[0],e[1],weight=1-rew_col[map_poke_to_state(e[0])],color='r')\n",
    "    for e in same_edges:\n",
    "        print(ctr,map_poke_to_state(e[0]),map_poke_to_state(e[1]))\n",
    "        G.add_edge(e[0],e[1],weight=rew_col[map_poke_to_state(e[0])],color='.3')\n",
    "\n",
    "    weights = nx.get_edge_attributes(G,'weight')\n",
    "    colors = nx.get_edge_attributes(G,'color')\n",
    "    node_colors = ['.3' for _ in range(len(used_states))]\n",
    "    \n",
    "    node_colors[list(G.nodes).index(map_state_to_poke(c_rew_index))] = 'g'\n",
    "    #node_colors[0] = 'g'\n",
    "    nx.draw(G,\n",
    "        pos=pos,\n",
    "            width=(10**(np.array(list(weights.values()))))/2,\n",
    "            edge_color=np.array(list(colors.values())),\n",
    "            connectionstyle=\"arc3,rad=-0.1\",\n",
    "            node_color=node_colors,\n",
    "            node_size=768,)\n",
    "    \n",
    "    labels = {i:j for i,j in zip(sorted(used_pokes),[map_poke_to_state(i) for i in sorted(used_pokes)])}\n",
    "    nx.draw_networkx_labels(G, pos, labels, font_size=16)\n",
    "    #print([map_poke_to_state(i) for j in same_edges for i in j])\n",
    "    #print(G.node)\n",
    "    ctr += 1\n",
    "plt.tight_layout()\n",
    "#plt.savefig(\"/Users/yves/Debsktop/tpf/navi_decisions.svg\")\n",
    "#plt.savefig(\"/Users/yves/Desktop/tpf/navi_decisions.png\",dpi=300)\n"
   ]
  },
  {
   "cell_type": "code",
   "execution_count": 28,
   "metadata": {},
   "outputs": [],
   "source": [
    "ROOT = '/Users/yves/Documents/behavior_data/line_loop_cohort_1/line_loop_batch_4_RUNNAVI/'\n",
    "fs = sorted([os.path.join(ROOT,i) for i in os.listdir(ROOT) if '.txt' in i])\n",
    "perf_hist = []\n",
    "all_fc  = []\n",
    "all_perf = np.zeros([9,4])\n",
    "all_ctr = np.zeros([9,4])\n",
    "for f_ in fs[:-1]:\n",
    "    try:\n",
    "        f = open(f_,'r')\n",
    "        lines =f.readlines()\n",
    "        experiment_name, task_name, subject_id, task_nr, graph,lineloop,date,test,_ = mpk.load.get_metadata(lines)\n",
    "        dat_dict,events,event_times,nRews,_ = mpk.load.parse_data(lines,experiment_name)\n",
    "\n",
    "        #poke_to_state_map = get_poke_to_state_map(lines)\n",
    "        rew_indices = [0,3,5,8]\n",
    "        perf,perf_ctr = get_performance(dat_dict,poke_to_state_map,rew_indices,lines,minNrew=20)\n",
    "\n",
    "        fc = perf/perf_ctr\n",
    "        all_perf += perf\n",
    "        all_ctr += perf_ctr\n",
    "        all_fc.append(fc)\n",
    "        perf_hist.append(np.nanmean(fc))\n",
    "    except:\n",
    "        pass"
   ]
  },
  {
   "cell_type": "code",
   "execution_count": null,
   "metadata": {},
   "outputs": [],
   "source": [
    "\n"
   ]
  }
 ],
 "metadata": {
  "kernelspec": {
   "display_name": "Python 3",
   "language": "python",
   "name": "python3"
  },
  "language_info": {
   "codemirror_mode": {
    "name": "ipython",
    "version": 3
   },
   "file_extension": ".py",
   "mimetype": "text/x-python",
   "name": "python",
   "nbconvert_exporter": "python",
   "pygments_lexer": "ipython3",
   "version": "3.7.4"
  }
 },
 "nbformat": 4,
 "nbformat_minor": 2
}
