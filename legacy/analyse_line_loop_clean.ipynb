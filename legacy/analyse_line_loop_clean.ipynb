{
 "cells": [
  {
   "cell_type": "markdown",
   "metadata": {},
   "source": [
    "# First pass analysis of line/loop data\n",
    "\n",
    "\n",
    "### 1. recover the graphs from the pokes\n",
    "### 2. Figure out what fraction of pokes are into lit-up ports\n",
    "\n",
    "#### try to find the average poke time\n",
    "\n",
    "\n",
    "## Plots to make\n",
    "\n",
    "<ul>\n",
    "    <li> Poke occupancy </li>\n",
    "    <li> fraction of pokes to lit up ports </li>\n",
    "    <li> Basic multinomial regression choice model </li>\n",
    "    <li> Fraction of pokes in the 'correct' direction </li>\n",
    "</ul>"
   ]
  },
  {
   "cell_type": "code",
   "execution_count": 536,
   "metadata": {},
   "outputs": [],
   "source": [
    "%matplotlib inline\n",
    "import numpy as np\n",
    "import scipy as sp\n",
    "import pandas as pd\n",
    "import matplotlib.pyplot as plt\n",
    "import seaborn\n",
    "seaborn.set(font_scale=2,style='ticks')\n",
    "import os\n",
    "import re\n",
    "import sys\n",
    "import networkx as nx"
   ]
  },
  {
   "cell_type": "markdown",
   "metadata": {},
   "source": [
    "# Defined functions "
   ]
  },
  {
   "cell_type": "code",
   "execution_count": 537,
   "metadata": {},
   "outputs": [],
   "source": [
    "poke_pos = [  [149,0],\n",
    "         [68,19],[231,19],\n",
    "       [0,62],[149,62],[298,62],\n",
    "         [68,105],[231,105],\n",
    "              [149,124]]"
   ]
  },
  {
   "cell_type": "code",
   "execution_count": 538,
   "metadata": {},
   "outputs": [],
   "source": [
    "def get_metadata(lines):\n",
    "    \"\"\" Get metadata from the beginning of the file \"\"\"\n",
    "    \n",
    "    for l in lines:\n",
    "        if re.findall('I Experiment name  : (.*?)\\n',l): experiment_name = re.findall('I Experiment name  : (.*?)\\n',l)[0]\n",
    "        \n",
    "        if re.findall('Task name : (.*?)\\n',l): task_name = re.findall('Task name : (.*?)\\n',l)[0]\n",
    "        \n",
    "        if re.findall('Subject ID : (.*?)\\n',l): subject_id = re.findall('Subject ID : (.*?)\\n',l)[0]\n",
    "            \n",
    "        if re.findall('Start date : (.*?)\\n',l): date = re.findall('Start date : (.*?)\\n',l)[0]\n",
    "        \n",
    "        #################################################################################\n",
    "        #### Specific to this task\n",
    "        #################################################################################\n",
    "\n",
    "        if re.findall('V.*? task_nr (.*?)\\n',l): task_nr = re.findall('V.*? task_nr (.*?)\\n',l)[0]\n",
    "            \n",
    "        if re.findall('P.*? (G[0-9]_[0-9])\\n',l): graph = re.findall('P.*? (G[0-9]_[0-9])\\n',l)[0]\n",
    "\n",
    "        if re.findall('P .* (LOOP|LINE)\\n',l): lineloop = re.findall('P .* (LOOP|LINE)\\n',l)[0]\n",
    "    return experiment_name, task_name, subject_id, task_nr, graph, lineloop, date"
   ]
  },
  {
   "cell_type": "code",
   "execution_count": 547,
   "metadata": {},
   "outputs": [],
   "source": [
    "def parse_data(lines):\n",
    "    start_read = False #placeholder variable that ignores the period where just free rewards are available\n",
    "    event_times = []\n",
    "    events = []\n",
    "    alldat = []\n",
    "    dat_times = []\n",
    "    dat_dict = {'state': [],\n",
    "                'port': [],\n",
    "                'random': [],\n",
    "                'rew_locations': [] }\n",
    "\n",
    "\n",
    "    tot_pokes = 0\n",
    "    nRews = 0\n",
    "\n",
    "    state_dict = eval(re.findall('({.*)\\n',text2)[0])\n",
    "    state_dict = dict([(v,k) for k,v in state_dict.items()])\n",
    "    event_dict = eval(re.findall('({.*)\\n',text2)[1])\n",
    "    event_dict = dict([(v,k) for k,v in event_dict.items()])\n",
    "\n",
    "    for ln,l in enumerate(lines):\n",
    "        #try:\n",
    "\n",
    "            if l[0]=='D':\n",
    "                if start_read:\n",
    "                    tmp = float(re.findall('D ([-0-9]*)',l)[0])/1000.\n",
    "                    ev = int(re.findall('D [-0-9]* ([0-9]{1,3})',l)[0])\n",
    "                    if ev in list(event_dict.keys()):\n",
    "                        events.append(event_dict[ev])\n",
    "                        event_times.append(tmp)\n",
    "\n",
    "                        if event_dict[ev][-1] in [str(i) for i in range(9)]:\n",
    "                            tot_pokes += 1\n",
    "                    #event_dict.keys()\n",
    "\n",
    "            elif l[0]=='P':\n",
    "                if 'POKEDSTATE' in l:\n",
    "                    start_read = True\n",
    "                \n",
    "\n",
    "                if start_read:\n",
    "                    tmp_t = float(re.findall('P ([0-9]*)',l)[0])/1000.\n",
    "                    dat = re.findall('P [-0-9]* (.*)\\n',l)[0]\n",
    "                    if 'POKE' in dat:\n",
    "\n",
    "                        tmp = re.findall(\"RANDOM_([A-z]*?)_\",dat)\n",
    "                        if tmp: dat_dict['random'].append(eval(tmp[0]))\n",
    "\n",
    "                        now,avail,dtype = parse_dat(dat)\n",
    "                        dat_dict[dtype].append([now,avail,tmp_t])\n",
    "\n",
    "                        dat_times.append(tmp)\n",
    "                    elif 'REWARD LOCATIONS' in l:\n",
    "                        #print(l)\n",
    "                        tmp_t = float(re.findall('P ([0-9]*)',l)[0])/1000.\n",
    "                        tmp = eval(re.findall('LOCATIONS(\\[.*\\])',l)[0])\n",
    "                        dat_dict['rew_locations'].append([tmp,tmp_t])\n",
    "                    if '_REW_True' in l:\n",
    "                        nRews += 1\n",
    "\n",
    "        #except:\n",
    "        #    print(ln)\n",
    "        #    print(e)\n",
    "    return dat_dict, np.array(events), np.array(event_times), nRews"
   ]
  },
  {
   "cell_type": "code",
   "execution_count": null,
   "metadata": {},
   "outputs": [],
   "source": []
  },
  {
   "cell_type": "code",
   "execution_count": 548,
   "metadata": {},
   "outputs": [],
   "source": [
    "def reconstruct_graph(dat_dict):\n",
    "    \n",
    "    nEntries = len(dat_dict['random'])\n",
    "    edges = []\n",
    "    for i in range(nEntries):\n",
    "        if not dat_dict['random'][i]:\n",
    "            edges.append((dat_dict['port'][i][0],dat_dict['port'][i][1][0]))\n",
    "            edges.append((dat_dict['port'][i][0],dat_dict['port'][i][1][1]))\n",
    "    return edges"
   ]
  },
  {
   "cell_type": "code",
   "execution_count": 549,
   "metadata": {},
   "outputs": [],
   "source": [
    "def parse_dat(text):\n",
    "    \"\"\" function that takes data in and returns meaningful stuff \"\"\"\n",
    "    if 'PORT' in text:\n",
    "        now = int(re.findall('POKEDPORT_([0-9]{1,2})',text)[0])\n",
    "        avail = eval(re.findall('_NOWPOKES_(\\[.*?\\])_',text)[0])\n",
    "        dtype = 'port'\n",
    "    elif 'NOWSTATE' in text:\n",
    "        now = int(re.findall('_NOWSTATE_([0-9]{1,2})',text)[0])\n",
    "        avail = eval(re.findall('_AVAILSTATES_(\\[.*?\\])',text)[0])\n",
    "        dtype = 'state'\n",
    "\n",
    "    return now,avail,dtype"
   ]
  },
  {
   "cell_type": "code",
   "execution_count": null,
   "metadata": {},
   "outputs": [],
   "source": [
    "class subject(object):\n",
    "    \"\"\" This class aggregates data over \"\"\""
   ]
  },
  {
   "cell_type": "code",
   "execution_count": null,
   "metadata": {},
   "outputs": [],
   "source": [
    "class session(object):\n",
    "    \n",
    "    \"\"\" This class summarises data for a single behavioral session \"\"\"\n",
    "    def __init__(self,fpath):\n",
    "        self._file_loc = fpath\n",
    "        \n",
    "    def _load_data(self):\n",
    "        pass\n",
    "\n",
    "    def save(self,save_path):\n",
    "        pass\n",
    "    \n",
    "    \n",
    "        \n",
    "    "
   ]
  },
  {
   "cell_type": "markdown",
   "metadata": {},
   "source": [
    "# Actual code to run stuff "
   ]
  },
  {
   "cell_type": "code",
   "execution_count": 550,
   "metadata": {},
   "outputs": [],
   "source": [
    "ROOT = \"/Users/Yves/Desktop/mouse_behavior/line_loop_batch_1/\""
   ]
  },
  {
   "cell_type": "code",
   "execution_count": 551,
   "metadata": {},
   "outputs": [],
   "source": [
    "get_mouse_id = lambda x: re.findall('_([0-9]{6}_.*?)_-',x)"
   ]
  },
  {
   "cell_type": "code",
   "execution_count": 552,
   "metadata": {},
   "outputs": [],
   "source": [
    "get_date = lambda x: re.findall('_-*(202[0-9]-[0-9]{2}-[0-9]{2})',x)"
   ]
  },
  {
   "cell_type": "code",
   "execution_count": 553,
   "metadata": {},
   "outputs": [],
   "source": [
    "fs = [i for i in os.listdir(ROOT) if '2020-02-01' in i]"
   ]
  },
  {
   "cell_type": "code",
   "execution_count": 554,
   "metadata": {},
   "outputs": [],
   "source": [
    "f = open(os.path.join(ROOT,fs[0]),'r')"
   ]
  },
  {
   "cell_type": "code",
   "execution_count": null,
   "metadata": {},
   "outputs": [],
   "source": []
  },
  {
   "cell_type": "code",
   "execution_count": 555,
   "metadata": {},
   "outputs": [],
   "source": [
    "lines =f.readlines()"
   ]
  },
  {
   "cell_type": "code",
   "execution_count": 556,
   "metadata": {},
   "outputs": [],
   "source": [
    "def get_edges_and_layout(lines):\n",
    "    \"\"\" Function that takes in file and returns edges and layout\"\"\"\n",
    "    nextEdges = False\n",
    "    nextLayout = False\n",
    "    edge_set = None\n",
    "    for l in lines:\n",
    "        \n",
    "        if nextLayout:\n",
    "            nextLayout = False\n",
    "            layout = eval(l[3:])\n",
    "            break\n",
    "        if nextEdges:\n",
    "            edge_set = eval(l[3:])\n",
    "            nextEdges = False\n",
    "            nextLayout = True\n",
    "        if ('LOOP' in l or 'LINE' in l):\n",
    "            nextEdges = True\n",
    "        if 'task_nr' in l:\n",
    "            task_nr = int(re.findall('task_nr ([0-9])\\n',l)[0])\n",
    "    \n",
    "    edges = edges = [(kk,i) for kk,e in enumerate(edge_set) for i in e]\n",
    "    return edges, edge_set, layout, task_nr"
   ]
  },
  {
   "cell_type": "code",
   "execution_count": 557,
   "metadata": {},
   "outputs": [],
   "source": [
    "edges, edge_set,layout,task_nr = get_edges_and_layout(lines)"
   ]
  },
  {
   "cell_type": "code",
   "execution_count": 558,
   "metadata": {},
   "outputs": [],
   "source": [
    "l = 'P 255510 REWARD LOCATIONS[0, 3, 5]'"
   ]
  },
  {
   "cell_type": "code",
   "execution_count": 562,
   "metadata": {},
   "outputs": [
    {
     "name": "stdout",
     "output_type": "stream",
     "text": [
      "57.4 ms ± 2.07 ms per loop (mean ± std. dev. of 7 runs, 10 loops each)\n"
     ]
    }
   ],
   "source": [
    "%%timeit\n",
    "experiment_name, task_name, subject_id, task_nr, graph,lineloop,date = get_metadata(lines)\n",
    "dat_dict,events,event_times,nRews = parse_data(lines)\n"
   ]
  },
  {
   "cell_type": "code",
   "execution_count": null,
   "metadata": {},
   "outputs": [],
   "source": []
  },
  {
   "cell_type": "code",
   "execution_count": null,
   "metadata": {},
   "outputs": [],
   "source": []
  },
  {
   "cell_type": "code",
   "execution_count": 560,
   "metadata": {},
   "outputs": [
    {
     "data": {
      "text/plain": [
       "dict_keys(['state', 'port', 'random', 'rew_locations'])"
      ]
     },
     "execution_count": 560,
     "metadata": {},
     "output_type": "execute_result"
    }
   ],
   "source": [
    "dat_dict.keys()"
   ]
  },
  {
   "cell_type": "code",
   "execution_count": 374,
   "metadata": {},
   "outputs": [],
   "source": [
    "def get_binned_pokes(events,event_times,binsize=50):\n",
    "    inPoke_events=  ['poke_'+str(i) for i in range(1,10)]\n",
    "    tot_ms = int(np.max(event_times)*1000)\n",
    "    y = np.zeros([9,tot_ms])\n",
    "    for kk,iPke in enumerate(inPoke_events):\n",
    "        ixs = np.where(events==iPke)[0]\n",
    "        #print(ixs)\n",
    "        y[kk,(1000*event_times[ixs]).astype(\"int\")] = 1\n",
    "    \n",
    "    y_clip = y[:,:int(binsize*np.floor(tot_ms/binsize))]\n",
    "    Y = y_clip.reshape(9,-1,binsize).sum(axis=2) #checked axis of reshaping\n",
    "    return Y\n",
    "        "
   ]
  },
  {
   "cell_type": "code",
   "execution_count": 375,
   "metadata": {},
   "outputs": [
    {
     "data": {
      "text/plain": [
       "array([67.58 , 67.901, 68.327])"
      ]
     },
     "execution_count": 375,
     "metadata": {},
     "output_type": "execute_result"
    }
   ],
   "source": [
    "event_times[[1,2,4]]"
   ]
  },
  {
   "cell_type": "code",
   "execution_count": 376,
   "metadata": {},
   "outputs": [],
   "source": [
    "y =get_binned_pokes(events,event_times,binsize=5000)"
   ]
  },
  {
   "cell_type": "code",
   "execution_count": 377,
   "metadata": {},
   "outputs": [
    {
     "name": "stderr",
     "output_type": "stream",
     "text": [
      "/Users/Yves/anaconda3/lib/python3.6/site-packages/tensorflow/python/framework/dtypes.py:523: FutureWarning: Passing (type, 1) or '1type' as a synonym of type is deprecated; in a future version of numpy, it will be understood as (type, (1,)) / '(1,)type'.\n",
      "  _np_qint8 = np.dtype([(\"qint8\", np.int8, 1)])\n",
      "/Users/Yves/anaconda3/lib/python3.6/site-packages/tensorflow/python/framework/dtypes.py:524: FutureWarning: Passing (type, 1) or '1type' as a synonym of type is deprecated; in a future version of numpy, it will be understood as (type, (1,)) / '(1,)type'.\n",
      "  _np_quint8 = np.dtype([(\"quint8\", np.uint8, 1)])\n",
      "/Users/Yves/anaconda3/lib/python3.6/site-packages/tensorflow/python/framework/dtypes.py:525: FutureWarning: Passing (type, 1) or '1type' as a synonym of type is deprecated; in a future version of numpy, it will be understood as (type, (1,)) / '(1,)type'.\n",
      "  _np_qint16 = np.dtype([(\"qint16\", np.int16, 1)])\n",
      "/Users/Yves/anaconda3/lib/python3.6/site-packages/tensorflow/python/framework/dtypes.py:526: FutureWarning: Passing (type, 1) or '1type' as a synonym of type is deprecated; in a future version of numpy, it will be understood as (type, (1,)) / '(1,)type'.\n",
      "  _np_quint16 = np.dtype([(\"quint16\", np.uint16, 1)])\n",
      "/Users/Yves/anaconda3/lib/python3.6/site-packages/tensorflow/python/framework/dtypes.py:527: FutureWarning: Passing (type, 1) or '1type' as a synonym of type is deprecated; in a future version of numpy, it will be understood as (type, (1,)) / '(1,)type'.\n",
      "  _np_qint32 = np.dtype([(\"qint32\", np.int32, 1)])\n",
      "/Users/Yves/anaconda3/lib/python3.6/site-packages/tensorflow/python/framework/dtypes.py:532: FutureWarning: Passing (type, 1) or '1type' as a synonym of type is deprecated; in a future version of numpy, it will be understood as (type, (1,)) / '(1,)type'.\n",
      "  np_resource = np.dtype([(\"resource\", np.ubyte, 1)])\n"
     ]
    }
   ],
   "source": [
    "import tensorflow as tf\n",
    "import tensorflow"
   ]
  },
  {
   "cell_type": "code",
   "execution_count": 373,
   "metadata": {},
   "outputs": [
    {
     "data": {
      "text/plain": [
       "True"
      ]
     },
     "execution_count": 373,
     "metadata": {},
     "output_type": "execute_result"
    }
   ],
   "source": [
    "np.all(y[0].reshape(-1,50)==y.reshape(9,-1,50)[0])"
   ]
  },
  {
   "cell_type": "code",
   "execution_count": 371,
   "metadata": {},
   "outputs": [
    {
     "data": {
      "text/plain": [
       "array([[ 0,  1,  2,  3,  4],\n",
       "       [ 5,  6,  7,  8,  9],\n",
       "       [10, 11, 12, 13, 14],\n",
       "       [15, 16, 17, 18, 19],\n",
       "       [20, 21, 22, 23, 24],\n",
       "       [25, 26, 27, 28, 29],\n",
       "       [30, 31, 32, 33, 34],\n",
       "       [35, 36, 37, 38, 39],\n",
       "       [40, 41, 42, 43, 44],\n",
       "       [45, 46, 47, 48, 49],\n",
       "       [50, 51, 52, 53, 54],\n",
       "       [55, 56, 57, 58, 59],\n",
       "       [60, 61, 62, 63, 64],\n",
       "       [65, 66, 67, 68, 69],\n",
       "       [70, 71, 72, 73, 74],\n",
       "       [75, 76, 77, 78, 79],\n",
       "       [80, 81, 82, 83, 84],\n",
       "       [85, 86, 87, 88, 89],\n",
       "       [90, 91, 92, 93, 94],\n",
       "       [95, 96, 97, 98, 99]])"
      ]
     },
     "execution_count": 371,
     "metadata": {},
     "output_type": "execute_result"
    }
   ],
   "source": [
    "np.arange(100).reshape(-1,5)"
   ]
  },
  {
   "cell_type": "code",
   "execution_count": 367,
   "metadata": {},
   "outputs": [
    {
     "data": {
      "text/plain": [
       "[<matplotlib.lines.Line2D at 0xa1ed5fd30>]"
      ]
     },
     "execution_count": 367,
     "metadata": {},
     "output_type": "execute_result"
    },
    {
     "data": {
      "image/png": "[encoded data removed]",
      "text/plain": [
       "<Figure size 432x288 with 1 Axes>"
      ]
     },
     "metadata": {},
     "output_type": "display_data"
    }
   ],
   "source": [
    "plt.plot(np.arange(100).reshape(-1,5).sum(axis=1))"
   ]
  },
  {
   "cell_type": "code",
   "execution_count": 365,
   "metadata": {},
   "outputs": [
    {
     "data": {
      "text/plain": [
       "[<matplotlib.lines.Line2D at 0xa1d53ea20>]"
      ]
     },
     "execution_count": 365,
     "metadata": {},
     "output_type": "execute_result"
    },
    {
     "data": {
      "image/png": "[encoded data removed]",
      "text/plain": [
       "<Figure size 432x288 with 1 Axes>"
      ]
     },
     "metadata": {},
     "output_type": "display_data"
    }
   ],
   "source": [
    "plt.plot(y[0].reshape(-1,500).sum(axis=1))"
   ]
  },
  {
   "cell_type": "code",
   "execution_count": 364,
   "metadata": {},
   "outputs": [
    {
     "data": {
      "text/plain": [
       "[<matplotlib.lines.Line2D at 0xa1e83a0f0>]"
      ]
     },
     "execution_count": 364,
     "metadata": {},
     "output_type": "execute_result"
    },
    {
     "data": {
      "image/png": "[encoded data removed]",
      "text/plain": [
       "<Figure size 432x288 with 1 Axes>"
      ]
     },
     "metadata": {},
     "output_type": "display_data"
    }
   ],
   "source": [
    "plt.plot(y[0].reshape(500,-1).sum(axis=0))"
   ]
  },
  {
   "cell_type": "code",
   "execution_count": 294,
   "metadata": {},
   "outputs": [],
   "source": [
    "def get_distribution_of_poke_times(events,event_times):\n",
    "    inPoke_events=  ['poke_'+str(i) for i in range(1,10)]\n",
    "    ts = []\n",
    "    for kk,event in enumerate(events):\n",
    "        if event in inPoke_events:\n",
    "            #print(event)\n",
    "            tmp = np.where(np.array(events)[kk:]==events[kk] + '_out')\n",
    "            #print(tmp)\n",
    "            if tmp:\n",
    "                outIx = np.argmin(tmp[0]) + kk + 1\n",
    "                #print(kk,outIx)\n",
    "                deltaT = event_times[outIx] - event_times[kk]\n",
    "                ts.append(deltaT)\n",
    "    return ts"
   ]
  },
  {
   "cell_type": "code",
   "execution_count": 295,
   "metadata": {},
   "outputs": [],
   "source": [
    "ts = get_distribution_of_poke_times(events,event_times)"
   ]
  },
  {
   "cell_type": "code",
   "execution_count": 300,
   "metadata": {},
   "outputs": [
    {
     "data": {
      "text/plain": [
       "<matplotlib.axes._subplots.AxesSubplot at 0xa1eb86b38>"
      ]
     },
     "execution_count": 300,
     "metadata": {},
     "output_type": "execute_result"
    },
    {
     "data": {
      "image/png": "[encoded data removed]",
      "text/plain": [
       "<Figure size 432x288 with 1 Axes>"
      ]
     },
     "metadata": {},
     "output_type": "display_data"
    }
   ],
   "source": [
    "seaborn.distplot(ts,kde=0,bins=np.linspace(0,.5,num=100))\n"
   ]
  },
  {
   "cell_type": "code",
   "execution_count": 261,
   "metadata": {},
   "outputs": [],
   "source": [
    "inPoke_events=  ['poke_'+str(i) for i in range(1,10)]"
   ]
  },
  {
   "cell_type": "code",
   "execution_count": 276,
   "metadata": {},
   "outputs": [
    {
     "data": {
      "text/plain": [
       "'poke_4_out'"
      ]
     },
     "execution_count": 276,
     "metadata": {},
     "output_type": "execute_result"
    }
   ],
   "source": [
    "events[1]"
   ]
  },
  {
   "cell_type": "code",
   "execution_count": 262,
   "metadata": {},
   "outputs": [],
   "source": [
    "all_poke_seq = np.array([i for i in events if i in inPoke_events])\n",
    "\n",
    "allNextPoke = []\n",
    "for inPk in inPoke_events:\n",
    "    inPk_ixs = np.where(all_poke_seq==inPk)[0]\n",
    "    \n",
    "    tmp = []\n",
    "    for ix2 in inPk_ixs:\n",
    "        if ix2<(len(all_poke_seq)-1):\n",
    "            tmp.append(all_poke_seq[ix2+1])\n",
    "    allNextPoke.append(tmp)"
   ]
  },
  {
   "cell_type": "code",
   "execution_count": null,
   "metadata": {},
   "outputs": [],
   "source": []
  },
  {
   "cell_type": "code",
   "execution_count": 273,
   "metadata": {},
   "outputs": [
    {
     "data": {
      "image/png": "[encoded data removed]",
      "text/plain": [
       "<Figure size 936x576 with 9 Axes>"
      ]
     },
     "metadata": {},
     "output_type": "display_data"
    }
   ],
   "source": [
    "plt.figure(figsize=(13,8))\n",
    "for i in range(9):\n",
    "    plt.subplot(3,3,i+1)\n",
    "    poke_counts = [allNextPoke[i].count(ik) for ik in inPoke_events]\n",
    "    plt.scatter([i[0] for i in poke_pos],[i[1] for i in poke_pos],c=poke_counts,s=700,cmap='Reds')\n",
    "    plt.xlim(-50,350)\n",
    "    plt.ylim(-50,150)\n",
    "#seaborn.despine()"
   ]
  },
  {
   "cell_type": "code",
   "execution_count": 167,
   "metadata": {},
   "outputs": [],
   "source": [
    "poke_counts = [events.count(i) for i in inPoke_events]"
   ]
  },
  {
   "cell_type": "code",
   "execution_count": 231,
   "metadata": {},
   "outputs": [
    {
     "data": {
      "text/plain": [
       "<matplotlib.collections.PathCollection at 0xa1dddca90>"
      ]
     },
     "execution_count": 231,
     "metadata": {},
     "output_type": "execute_result"
    },
    {
     "data": {
      "image/png": "[encoded data removed]",
      "text/plain": [
       "<Figure size 432x288 with 1 Axes>"
      ]
     },
     "metadata": {
      "needs_background": "light"
     },
     "output_type": "display_data"
    }
   ],
   "source": [
    "plt.scatter([i[0] for i in poke_pos],[i[1] for i in poke_pos],c=poke_counts,s=900,cmap='Reds')"
   ]
  },
  {
   "cell_type": "code",
   "execution_count": null,
   "metadata": {},
   "outputs": [],
   "source": []
  },
  {
   "cell_type": "code",
   "execution_count": null,
   "metadata": {},
   "outputs": [],
   "source": []
  },
  {
   "cell_type": "code",
   "execution_count": null,
   "metadata": {},
   "outputs": [],
   "source": []
  },
  {
   "cell_type": "code",
   "execution_count": null,
   "metadata": {},
   "outputs": [],
   "source": []
  },
  {
   "cell_type": "code",
   "execution_count": null,
   "metadata": {},
   "outputs": [],
   "source": []
  },
  {
   "cell_type": "code",
   "execution_count": null,
   "metadata": {},
   "outputs": [],
   "source": []
  }
 ],
 "metadata": {
  "kernelspec": {
   "display_name": "Python 3",
   "language": "python",
   "name": "python3"
  },
  "language_info": {
   "codemirror_mode": {
    "name": "ipython",
    "version": 3
   },
   "file_extension": ".py",
   "mimetype": "text/x-python",
   "name": "python",
   "nbconvert_exporter": "python",
   "pygments_lexer": "ipython3",
   "version": "3.6.9"
  }
 },
 "nbformat": 4,
 "nbformat_minor": 2
}
