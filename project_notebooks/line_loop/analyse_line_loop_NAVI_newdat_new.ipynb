{
 "cells": [
  {
   "cell_type": "markdown",
   "metadata": {},
   "source": [
    "# First pass analysis of line/loop data\n",
    "\n",
    "<ul>\n",
    "    <li> Analyse correct sequence lengths. </li>\n",
    "    <li> Do reaction times </li>\n",
    "    <li> Analyse as a function of distance from reward </li>\n",
    "    <li> Try to fit RL model to these data </li> \n",
    "    \n",
    "</ul>\n",
    "\n",
    "<b> WHY IS THERE A DIFFERENCE BETWEEN REW_LIST AND DAT_DICT['STATE'] </b>"
   ]
  },
  {
   "cell_type": "code",
   "execution_count": 1,
   "metadata": {},
   "outputs": [],
   "source": [
    "%matplotlib inline\n",
    "import numpy as np\n",
    "import scipy as sp\n",
    "import pandas as pd\n",
    "import matplotlib.pyplot as plt\n",
    "import matplotlib\n",
    "import seaborn\n",
    "import scipy.stats as stt\n",
    "seaborn.set(font_scale=1.5,style='ticks')\n",
    "import os\n",
    "import re\n",
    "import sys\n",
    "import itertools\n",
    "import functools\n",
    "import networkx as nx\n",
    "from datetime import date, timedelta\n",
    "from datetime import datetime\n",
    "\n",
    "sys.path.append(r\"C:\\Users\\yweissenberger\\Documents\\code\\line_loop-master\")\n",
    "sys.path.append(r\"C:\\Users\\yweissenberger\\Documents\\code\\line_loop-master\\packages\")\n",
    "sys.path.append(\"/Users/yves/Documents/Code/line_loop/packages/\")"
   ]
  },
  {
   "cell_type": "code",
   "execution_count": 2,
   "metadata": {},
   "outputs": [],
   "source": [
    "import mouse_poker as mpk"
   ]
  },
  {
   "cell_type": "markdown",
   "metadata": {},
   "source": [
    "# Defined functions "
   ]
  },
  {
   "cell_type": "code",
   "execution_count": 3,
   "metadata": {},
   "outputs": [],
   "source": [
    "poke_pos = [ [149,0],\n",
    "         [68,19],[231,19],\n",
    "       [0,62],[149,62],[298,62],\n",
    "         [68,105],[231,105],\n",
    "              [149,124]]"
   ]
  },
  {
   "cell_type": "code",
   "execution_count": 4,
   "metadata": {},
   "outputs": [],
   "source": [
    "from mouse_poker.navi import *"
   ]
  },
  {
   "cell_type": "code",
   "execution_count": 5,
   "metadata": {},
   "outputs": [],
   "source": [
    "def get_performance(state_seq,rew_list,port_seq,forced_seq,rew_indices,map_poke_to_state,minNrew=5,set_rew_indices=None,firstOnly=False):\n",
    "    \"\"\" Get fraction correct in each state\"\"\"\n",
    "    used_states = sorted([i[1] for i in map_poke_to_state.args[0]])\n",
    "    if set_rew_indices is None: set_rew_indices=used_states\n",
    "    perf = np.zeros([9,9])\n",
    "    perf_ctr = np.zeros([9,9])\n",
    "    rew_hist = []\n",
    "    all_rew_loc = []\n",
    "    for rew_ctr,(st,nd) in enumerate(zip(np.where(rew_list)[0][:-2],np.where(rew_list)[0][1:-1])):\n",
    "        rew_loc = state_seq[nd]\n",
    "        if (rew_loc in set_rew_indices):\n",
    "            c_rew_index = rew_indices.index(port_seq[nd])\n",
    "            all_rew_loc.append(rew_loc)\n",
    "            if not rew_hist:\n",
    "                rew_hist.append(rew_loc)\n",
    "            elif rew_loc==rew_hist[-1]:\n",
    "                rew_hist.append(rew_loc)\n",
    "            else:\n",
    "                rew_hist = []\n",
    "\n",
    "            has_visited= []\n",
    "            if len(rew_hist)>minNrew:\n",
    "\n",
    "                for pk_ctr in range(st+1,nd+1):\n",
    "                    if not forced_seq[pk_ctr]:\n",
    "                        \n",
    "                        d0 = np.abs(state_seq[pk_ctr]-rew_loc)\n",
    "                        d1 = np.abs(state_seq[pk_ctr+1]-rew_loc)\n",
    "\n",
    "                        state = state_seq[pk_ctr]\n",
    "                        rewarded = rew_list[pk_ctr]  #if it is rewarded. Offset by 1\n",
    "\n",
    "                        if state not in has_visited:\n",
    "                            if rewarded:\n",
    "                                perf[state,rew_loc] += 1\n",
    "                                perf_ctr[state,rew_loc] += 1\n",
    "\n",
    "                            elif d1<d0:\n",
    "                                perf[state,rew_loc] += 1\n",
    "                                perf_ctr[state,rew_loc] += 1\n",
    "                            else:\n",
    "                                perf[state,rew_loc] += 0\n",
    "                                perf_ctr[state,rew_loc] += 1\n",
    "                            if firstOnly: has_visited.append(state)\n",
    "    \n",
    "    for i in np.unique(rew_hist):\n",
    "        perf[i,i] = np.nan\n",
    "\n",
    "    return perf, perf_ctr"
   ]
  },
  {
   "cell_type": "code",
   "execution_count": null,
   "metadata": {},
   "outputs": [],
   "source": []
  },
  {
   "cell_type": "code",
   "execution_count": null,
   "metadata": {},
   "outputs": [],
   "source": []
  },
  {
   "cell_type": "code",
   "execution_count": null,
   "metadata": {},
   "outputs": [],
   "source": []
  },
  {
   "cell_type": "markdown",
   "metadata": {},
   "source": [
    "# Actual code to run stuff "
   ]
  },
  {
   "cell_type": "code",
   "execution_count": 24,
   "metadata": {},
   "outputs": [
    {
     "name": "stdout",
     "output_type": "stream",
     "text": [
      "rewards_received: 282\n",
      "task_nr:1\n"
     ]
    }
   ],
   "source": [
    "#print(day_df['filepath'].values[ix])\n",
    "#f = open(\"/Users/yves/Documents/behavior_data/line_loop_cohort_1/line_loop_batch_4_RUNNAVI/'456675_3'-2020-12-09-094620.txt\",'r')\n",
    "#f = open(\"/Volumes/hpc_dat/pycontrol/data/line_loop_batch_4_RUNNAVI/'456675_3'-2021-02-12-121633.txt\",'r')\n",
    "#f = open(\"/Users/yves/Documents/beh_dat_new_room/line_loop_batch_3NAVI/'460175_10'-2021-03-01-110337.txt\",'r')\n",
    "#f = open(\"C:/Users/yweissenberger/Documents/pycontrol_newest_10_02_21/data/line_loop_batch_3NAVI/'456675_10'-2021-03-04-105905.txt\",'r')\n",
    "##f =open(\"C:/Users/yweissenberger/Documents/pycontrol_newest_10_02_21/data/line_loop_batch_3NAVI_toLOOP/\",'r')\n",
    "#f = open(\"/Users/yves/Documents/beh_dat_new_room/line_loop_batch_3NAVI_toLOOP/'460175_10'-2021-03-04-154221.txt\")\n",
    "f = open(\"C:/Users/yweissenberger/Documents/pycontrol_newest_10_02_21/data/line_loop_batch_3NAVI_males/'456674_30'-2021-03-15-114101.txt\",'r')\n",
    "\n",
    "lines =f.readlines()\n",
    "experiment_name, task_name, subject_id, task_nr, graph,lineloop,date,test,_ = mpk.load.get_metadata(lines)\n",
    "dat_dict,events,event_times,nRews,_ = mpk.load.parse_data(lines,experiment_name)\n",
    "\n",
    "print(\"rewards_received: {:d}\".format(nRews))\n",
    "print('task_nr:{:.0f}'.format(int(task_nr)))"
   ]
  },
  {
   "cell_type": "code",
   "execution_count": null,
   "metadata": {
    "scrolled": true
   },
   "outputs": [],
   "source": []
  },
  {
   "cell_type": "code",
   "execution_count": null,
   "metadata": {},
   "outputs": [],
   "source": []
  },
  {
   "cell_type": "code",
   "execution_count": null,
   "metadata": {},
   "outputs": [],
   "source": []
  },
  {
   "cell_type": "code",
   "execution_count": null,
   "metadata": {},
   "outputs": [],
   "source": []
  },
  {
   "cell_type": "code",
   "execution_count": null,
   "metadata": {},
   "outputs": [],
   "source": []
  },
  {
   "cell_type": "code",
   "execution_count": 25,
   "metadata": {},
   "outputs": [],
   "source": [
    "poke_to_state_map,full_pkst_map = get_poke_to_state_map(lines)\n",
    "used_states = sorted([i[1] for i in full_pkst_map])\n",
    "used_pokes = ([i[0] for i in full_pkst_map])\n",
    "\n",
    "map_poke_to_state = functools.partial(map_poke_to_state_fun,full_pkst_map)\n",
    "map_state_to_poke = functools.partial(map_state_to_poke_fun,full_pkst_map)\n",
    "\n",
    "#rew_indices = [0,3,5,8]\n",
    "rew_indices = np.unique([eval(re.findall('REWARD LOCATIONS(\\[.*\\])',l)[0]) for l in lines if re.findall('REWARD LOCATIONS(\\[.*\\])',l)][0]).tolist()\n"
   ]
  },
  {
   "cell_type": "code",
   "execution_count": 26,
   "metadata": {},
   "outputs": [],
   "source": [
    "state_seq = [i[0] for i in dat_dict['state']]\n",
    "poke_seq = [map_state_to_poke(i) for i in state_seq]\n",
    "#dat_dict['rews']"
   ]
  },
  {
   "cell_type": "code",
   "execution_count": 27,
   "metadata": {},
   "outputs": [
    {
     "name": "stdout",
     "output_type": "stream",
     "text": [
      "0.7669169728884976\n"
     ]
    },
    {
     "name": "stderr",
     "output_type": "stream",
     "text": [
      "<ipython-input-27-334b5c5cf0c8>:3: RuntimeWarning: invalid value encountered in true_divide\n",
      "  fc = perf/perf_ctr\n"
     ]
    }
   ],
   "source": [
    "state_seq, rew_list, port_seq,forced_seq = extract_navi_dat(lines)\n",
    "perf,perf_ctr = get_performance(state_seq,rew_list,port_seq,forced_seq,rew_indices,map_poke_to_state,minNrew=5)\n",
    "fc = perf/perf_ctr\n",
    "#fc[np.isnan(fc)] = 1\n",
    "print(np.nanmean(fc))"
   ]
  },
  {
   "cell_type": "code",
   "execution_count": 28,
   "metadata": {},
   "outputs": [
    {
     "data": {
      "text/plain": [
       "array([[       nan,        nan,        nan,        nan,        nan,\n",
       "               nan,        nan,        nan,        nan],\n",
       "       [       nan, 0.82474227, 1.        ,        nan, 1.        ,\n",
       "        1.        ,        nan,        nan,        nan],\n",
       "       [       nan, 0.81632653, 1.        ,        nan, 0.59183673,\n",
       "        0.50909091, 0.59459459,        nan,        nan],\n",
       "       [       nan, 0.66666667, 0.9       ,        nan, 0.82978723,\n",
       "        0.63414634, 0.56410256,        nan,        nan],\n",
       "       [       nan, 0.72277228, 0.63636364,        nan, 0.81428571,\n",
       "        0.66666667, 0.62068966,        nan,        nan],\n",
       "       [       nan, 0.48979592, 0.41463415,        nan, 0.69230769,\n",
       "        0.88461538, 0.83333333,        nan,        nan],\n",
       "       [       nan, 1.        , 1.        ,        nan,        nan,\n",
       "        1.        ,        nan,        nan,        nan],\n",
       "       [       nan,        nan,        nan,        nan,        nan,\n",
       "               nan,        nan,        nan,        nan],\n",
       "       [       nan,        nan,        nan,        nan,        nan,\n",
       "               nan,        nan,        nan,        nan]])"
      ]
     },
     "execution_count": 28,
     "metadata": {},
     "output_type": "execute_result"
    }
   ],
   "source": [
    "fc"
   ]
  },
  {
   "cell_type": "code",
   "execution_count": 29,
   "metadata": {},
   "outputs": [
    {
     "data": {
      "text/plain": [
       "array([[ 0.,  0.,  0.,  0.,  0.,  0.,  0.,  0.,  0.],\n",
       "       [ 0., 80., 10.,  0., 12.,  5.,  0.,  0.,  0.],\n",
       "       [ 0., 80., 28.,  0., 29., 28., 22.,  0.,  0.],\n",
       "       [ 0., 68., 18.,  0., 39., 26., 22.,  0.,  0.],\n",
       "       [ 0., 73., 14.,  0., 57., 20., 18.,  0.,  0.],\n",
       "       [ 0., 48., 17.,  0., 18., 23., 20.,  0.,  0.],\n",
       "       [ 0., 10.,  1.,  0.,  0.,  2., nan,  0.,  0.],\n",
       "       [ 0.,  0.,  0.,  0.,  0.,  0.,  0.,  0.,  0.],\n",
       "       [ 0.,  0.,  0.,  0.,  0.,  0.,  0.,  0.,  0.]])"
      ]
     },
     "execution_count": 29,
     "metadata": {},
     "output_type": "execute_result"
    }
   ],
   "source": [
    "perf"
   ]
  },
  {
   "cell_type": "code",
   "execution_count": 30,
   "metadata": {
    "scrolled": false
   },
   "outputs": [
    {
     "data": {
      "text/plain": [
       "<matplotlib.colorbar.Colorbar at 0x194f0dcc220>"
      ]
     },
     "execution_count": 30,
     "metadata": {},
     "output_type": "execute_result"
    },
    {
     "data": {
      "image/png": "[encoded data removed]",
      "text/plain": [
       "<Figure size 432x288 with 2 Axes>"
      ]
     },
     "metadata": {},
     "output_type": "display_data"
    }
   ],
   "source": [
    "plt.title('Each column is one reward location')\n",
    "rew_diag_mtx = np.dstack([np.eye(perf.shape[0])*-1 + 1]*3 + [np.eye(perf.shape[0])])\n",
    "#fcplot = (perf/perf_ctr)\n",
    "np.fill_diagonal(fc,np.nan)\n",
    "plt.imshow(rew_diag_mtx,cmap='Greys')\n",
    "plt.imshow(fc,vmin=0,vmax=1,cmap='RdBu_r')\n",
    "#plt.xlim(.5,6.5); plt.ylim(6.5,.5)\n",
    "plt.colorbar()"
   ]
  },
  {
   "cell_type": "code",
   "execution_count": null,
   "metadata": {},
   "outputs": [],
   "source": []
  },
  {
   "cell_type": "markdown",
   "metadata": {},
   "source": [
    "# Run as batch analysis the above "
   ]
  },
  {
   "cell_type": "code",
   "execution_count": 13,
   "metadata": {},
   "outputs": [],
   "source": [
    "now = datetime.now()"
   ]
  },
  {
   "cell_type": "code",
   "execution_count": 16,
   "metadata": {
    "scrolled": true
   },
   "outputs": [
    {
     "name": "stdout",
     "output_type": "stream",
     "text": [
      "1 /Users/yves/Documents/beh_dat_new_room/line_loop_batch_3NAVI/'456675_10'-2021-03-02-132000.txt\n",
      "2 /Users/yves/Documents/beh_dat_new_room/line_loop_batch_3NAVI/'460175_10'-2021-03-03-105405.txt\n",
      "1 /Users/yves/Documents/beh_dat_new_room/line_loop_batch_3NAVI/'456675_10'-2021-03-05-110006.txt\n",
      "2 /Users/yves/Documents/beh_dat_new_room/line_loop_batch_3NAVI/'460175_10'-2021-03-01-110337.txt\n",
      "2 /Users/yves/Documents/beh_dat_new_room/line_loop_batch_3NAVI/'460175_10'-2021-03-02-142443.txt\n",
      "1 /Users/yves/Documents/beh_dat_new_room/line_loop_batch_3NAVI/'456675_10'-2021-03-05-111657.txt\n",
      "1 /Users/yves/Documents/beh_dat_new_room/line_loop_batch_3NAVI/'456675_10'-2021-03-05-105811.txt\n",
      "1 /Users/yves/Documents/beh_dat_new_room/line_loop_batch_3NAVI/'460175_10'-2021-03-05-111657.txt\n",
      "1 /Users/yves/Documents/beh_dat_new_room/line_loop_batch_3NAVI/'460175_10'-2021-03-05-105811.txt\n",
      "2 /Users/yves/Documents/beh_dat_new_room/line_loop_batch_3NAVI/'456675_10'-2021-03-01-110337.txt\n",
      "2 /Users/yves/Documents/beh_dat_new_room/line_loop_batch_3NAVI/'456675_10'-2021-03-02-142443.txt\n",
      "1 /Users/yves/Documents/beh_dat_new_room/line_loop_batch_3NAVI/'460175_10'-2021-03-05-110006.txt\n",
      "2 /Users/yves/Documents/beh_dat_new_room/line_loop_batch_3NAVI/'456675_10'-2021-03-03-105405.txt\n",
      "1 /Users/yves/Documents/beh_dat_new_room/line_loop_batch_3NAVI/'460175_10'-2021-03-02-132000.txt\n",
      "2 /Users/yves/Documents/beh_dat_new_room/line_loop_batch_3NAVI/'460175_10'-2021-03-03-154211.txt\n",
      "1 /Users/yves/Documents/beh_dat_new_room/line_loop_batch_3NAVI/'456675_10'-2021-03-05-105722.txt\n",
      "1 /Users/yves/Documents/beh_dat_new_room/line_loop_batch_3NAVI/'460175_10'-2021-02-26-104431.txt\n",
      "2 /Users/yves/Documents/beh_dat_new_room/line_loop_batch_3NAVI/'460175_10'-2021-02-25-141149.txt\n",
      "1 /Users/yves/Documents/beh_dat_new_room/line_loop_batch_3NAVI/'460175_10'-2021-03-05-120412.txt\n",
      "1 /Users/yves/Documents/beh_dat_new_room/line_loop_batch_3NAVI/'456675_10'-2021-03-05-120412.txt\n",
      "2 /Users/yves/Documents/beh_dat_new_room/line_loop_batch_3NAVI/'456675_10'-2021-02-25-141149.txt\n",
      "1 /Users/yves/Documents/beh_dat_new_room/line_loop_batch_3NAVI/'456675_10'-2021-02-26-104431.txt\n",
      "1 /Users/yves/Documents/beh_dat_new_room/line_loop_batch_3NAVI/'460175_10'-2021-03-05-105722.txt\n",
      "2 /Users/yves/Documents/beh_dat_new_room/line_loop_batch_3NAVI/'456675_10'-2021-03-03-154211.txt\n",
      "1 /Users/yves/Documents/beh_dat_new_room/line_loop_batch_3NAVI/'460175_10'-2021-03-05-110733.txt\n",
      "2 /Users/yves/Documents/beh_dat_new_room/line_loop_batch_3NAVI/'460175_10'-2021-03-05-133908.txt\n",
      "1 /Users/yves/Documents/beh_dat_new_room/line_loop_batch_3NAVI/'460175_10'-2021-03-01-141104.txt\n",
      "2 /Users/yves/Documents/beh_dat_new_room/line_loop_batch_3NAVI/'460175_10'-2021-02-26-152252.txt\n",
      "1 /Users/yves/Documents/beh_dat_new_room/line_loop_batch_3NAVI/'460175_10'-2021-03-05-110242.txt\n",
      "2 /Users/yves/Documents/beh_dat_new_room/line_loop_batch_3NAVI/'460175_10'-2021-03-02-132053.txt\n",
      "1 /Users/yves/Documents/beh_dat_new_room/line_loop_batch_3NAVI/'460175_10'-2021-03-04-101243.txt\n",
      "1 /Users/yves/Documents/beh_dat_new_room/line_loop_batch_3NAVI/'456675_10'-2021-03-05-111358.txt\n",
      "1 /Users/yves/Documents/beh_dat_new_room/line_loop_batch_3NAVI/'460175_10'-2021-03-05-125238.txt\n",
      "1 /Users/yves/Documents/beh_dat_new_room/line_loop_batch_3NAVI/'456675_10'-2021-03-05-105517.txt\n",
      "1 /Users/yves/Documents/beh_dat_new_room/line_loop_batch_3NAVI/'460175_10'-2021-03-04-175107.txt\n",
      "1 /Users/yves/Documents/beh_dat_new_room/line_loop_batch_3NAVI/'456675_10'-2021-03-03-154343.txt\n",
      "1 /Users/yves/Documents/beh_dat_new_room/line_loop_batch_3NAVI/'460175_10'-2021-02-25-141237.txt\n",
      "1 /Users/yves/Documents/beh_dat_new_room/line_loop_batch_3NAVI/'456675_10'-2021-03-02-103316.txt\n",
      "1 /Users/yves/Documents/beh_dat_new_room/line_loop_batch_3NAVI/'456675_10'-2021-02-26-102516.txt\n",
      "1 /Users/yves/Documents/beh_dat_new_room/line_loop_batch_3NAVI/'460175_10'-2021-02-26-102516.txt\n",
      "1 /Users/yves/Documents/beh_dat_new_room/line_loop_batch_3NAVI/'456675_10'-2021-02-25-141237.txt\n",
      "1 /Users/yves/Documents/beh_dat_new_room/line_loop_batch_3NAVI/'460175_10'-2021-03-02-103316.txt\n",
      "1 /Users/yves/Documents/beh_dat_new_room/line_loop_batch_3NAVI/'456675_10'-2021-03-04-175106.txt\n",
      "1 /Users/yves/Documents/beh_dat_new_room/line_loop_batch_3NAVI/'460175_10'-2021-03-05-105517.txt\n",
      "1 /Users/yves/Documents/beh_dat_new_room/line_loop_batch_3NAVI/'460175_10'-2021-03-03-154343.txt\n",
      "1 /Users/yves/Documents/beh_dat_new_room/line_loop_batch_3NAVI/'456675_10'-2021-03-05-125238.txt\n",
      "1 /Users/yves/Documents/beh_dat_new_room/line_loop_batch_3NAVI/'460175_10'-2021-03-05-111358.txt\n",
      "1 /Users/yves/Documents/beh_dat_new_room/line_loop_batch_3NAVI/'456675_10'-2021-03-05-110242.txt\n",
      "2 /Users/yves/Documents/beh_dat_new_room/line_loop_batch_3NAVI/'456675_10'-2021-03-02-132053.txt\n",
      "1 /Users/yves/Documents/beh_dat_new_room/line_loop_batch_3NAVI/'456675_10'-2021-03-04-101243.txt\n",
      "1 /Users/yves/Documents/beh_dat_new_room/line_loop_batch_3NAVI/'456675_10'-2021-03-01-141104.txt\n",
      "2 /Users/yves/Documents/beh_dat_new_room/line_loop_batch_3NAVI/'456675_10'-2021-02-26-152252.txt\n",
      "2 /Users/yves/Documents/beh_dat_new_room/line_loop_batch_3NAVI/'456675_10'-2021-03-05-133908.txt\n",
      "1 /Users/yves/Documents/beh_dat_new_room/line_loop_batch_3NAVI/'456675_10'-2021-03-05-110733.txt\n",
      "1 /Users/yves/Documents/beh_dat_new_room/line_loop_batch_3NAVI/'456675_10'-2021-03-05-110147.txt\n",
      "1 /Users/yves/Documents/beh_dat_new_room/line_loop_batch_3NAVI/'460175_10'-2021-03-04-105905.txt\n",
      "2 /Users/yves/Documents/beh_dat_new_room/line_loop_batch_3NAVI/'456675_10'-2021-02-26-160130.txt\n",
      "2 /Users/yves/Documents/beh_dat_new_room/line_loop_batch_3NAVI/'460175_10'-2021-02-24-104759.txt\n",
      "2 /Users/yves/Documents/beh_dat_new_room/line_loop_batch_3NAVI/'460175_10'-2021-02-25-110423.txt\n",
      "2 /Users/yves/Documents/beh_dat_new_room/line_loop_batch_3NAVI/'456675_10'-2021-02-25-110423.txt\n",
      "1 /Users/yves/Documents/beh_dat_new_room/line_loop_batch_3NAVI/'456675_10'-2021-03-04-105905.txt\n",
      "2 /Users/yves/Documents/beh_dat_new_room/line_loop_batch_3NAVI/'460175_10'-2021-02-26-160130.txt\n",
      "2 /Users/yves/Documents/beh_dat_new_room/line_loop_batch_3NAVI/'456675_10'-2021-02-24-104759.txt\n",
      "1 /Users/yves/Documents/beh_dat_new_room/line_loop_batch_3NAVI/'460175_10'-2021-03-05-110147.txt\n"
     ]
    }
   ],
   "source": [
    "ROOT = '/Users/yves/Documents/beh_dat_new_room/line_loop_batch_3NAVI/'\n",
    "fs = os.listdir(ROOT)\n",
    "res_dict = {}\n",
    "minNRew = 15\n",
    "today = datetime.now()\n",
    "for f_ in fs:\n",
    "        \n",
    "    fpath = os.path.join(ROOT,f_)\n",
    "    if os.path.isfile(fpath):\n",
    "        subject = eval(re.findall(\"('.*')\",f_)[0])\n",
    "        #print(subject)\n",
    "\n",
    "        t1_ = re.findall(r'(202.*)-[0-9]{6}.txt',f_)[0]\n",
    "        t1_ = datetime.strptime(t1_,'%Y-%m-%d')\n",
    "        \n",
    "        if (now - t1_).days<=15:\n",
    "            f = open(fpath,'r')\n",
    "\n",
    "            lines =f.readlines()\n",
    "            experiment_name, task_name, subject_id, task_nr, graph,lineloop,date,test,_ = mpk.load.get_metadata(lines)\n",
    "            dat_dict,events,event_times,nRews,_ = mpk.load.parse_data(lines,experiment_name)\n",
    "            subject = subject + '_' + str(task_nr)\n",
    "            print(task_nr,fpath)\n",
    "            if nRews>20:\n",
    "\n",
    "                poke_to_state_map,full_pkst_map = get_poke_to_state_map(lines)\n",
    "                used_states = sorted([i[1] for i in full_pkst_map])\n",
    "                used_pokes = ([i[0] for i in full_pkst_map])\n",
    "\n",
    "                map_poke_to_state = functools.partial(map_poke_to_state_fun,full_pkst_map)\n",
    "                map_state_to_poke = functools.partial(map_state_to_poke_fun,full_pkst_map)\n",
    "\n",
    "                #rew_indices = [0,3,5,8]\n",
    "                rew_indices = np.unique([eval(re.findall('REWARD LOCATIONS(\\[.*\\])',l)[0]) for l in lines if re.findall('REWARD LOCATIONS(\\[.*\\])',l)][0]).tolist()\n",
    "                state_seq, rew_list, port_seq,forced_seq = extract_navi_dat(lines)\n",
    "                perf,perf_ctr = get_performance(state_seq,rew_list,port_seq,forced_seq,rew_indices,map_poke_to_state,minNrew=5)\n",
    "\n",
    "                if subject not in res_dict.keys():\n",
    "                    res_dict[subject] = [[perf,perf_ctr]]\n",
    "                else:\n",
    "                    res_dict[subject].append([perf,perf_ctr])\n"
   ]
  },
  {
   "cell_type": "code",
   "execution_count": null,
   "metadata": {},
   "outputs": [],
   "source": []
  },
  {
   "cell_type": "code",
   "execution_count": 31,
   "metadata": {},
   "outputs": [
    {
     "name": "stderr",
     "output_type": "stream",
     "text": [
      "/Users/yves/opt/anaconda3/lib/python3.7/site-packages/ipykernel_launcher.py:8: RuntimeWarning: invalid value encountered in true_divide\n",
      "  \n"
     ]
    },
    {
     "data": {
      "image/png": "[encoded data removed]",
      "text/plain": [
       "<Figure size 720x576 with 5 Axes>"
      ]
     },
     "metadata": {
      "needs_background": "light"
     },
     "output_type": "display_data"
    }
   ],
   "source": [
    "plt.figure(figsize=(10,8))\n",
    "for ctr,subject in enumerate(res_dict.keys()):\n",
    "    \n",
    "    plt.subplot(2,2,ctr+1)\n",
    "    plt.title(\"Subject: {} | Graph: {}\".format(subject[:-2],subject[-1]))\n",
    "    allp = np.nansum([i[0] for i in res_dict[subject]],axis=0)\n",
    "    allp_ctr = np.nansum([i[1] for i in res_dict[subject]],axis=0)\n",
    "    fc = (allp/allp_ctr)\n",
    "    np.fill_diagonal(fc,np.nan)\n",
    "    plt.imshow(np.dstack([np.eye(perf.shape[0])*-1 + 1]*3 + [np.eye(perf.shape[0])]),cmap='Greys')\n",
    "    plt.imshow(fc,vmin=0,vmax=1,cmap='RdBu_r')\n",
    "    \n",
    "    if ctr==0:\n",
    "        plt.xlabel(\"Rewarded State\")\n",
    "        plt.ylabel(\"Current State\")\n",
    "        cbar = plt.colorbar()\n",
    "        cbar.set_label(\"Fraction correct\")\n",
    "\n",
    "plt.tight_layout()"
   ]
  },
  {
   "cell_type": "markdown",
   "metadata": {},
   "source": [
    "# Other"
   ]
  },
  {
   "cell_type": "code",
   "execution_count": 18,
   "metadata": {},
   "outputs": [],
   "source": [
    "st = np.min(np.where(np.nansum(perf,axis=1))[0]) - 1\n",
    "nd = np.max((np.where(np.nansum(perf,axis=1))[0])) + 1\n",
    "\n",
    "\n",
    "#these are the pokes used for reward in this session\n",
    "used_rews = np.array([np.where(np.isnan(perf[:,i]))[0] for i in np.where(np.nansum(perf,axis=0))[0]]).flatten()\n",
    "used_rew_cols = np.where(np.nansum(perf,axis=0))[0]"
   ]
  },
  {
   "cell_type": "code",
   "execution_count": null,
   "metadata": {},
   "outputs": [],
   "source": []
  },
  {
   "cell_type": "code",
   "execution_count": 19,
   "metadata": {},
   "outputs": [],
   "source": [
    "ix = used_rew_cols[0]\n",
    "c_rew_index = ix\n",
    "\n",
    "#good_edges = [[map_state_to_poke(0),map_state_to_poke(1)],\n",
    "#              [map_state_to_poke(8),map_state_to_poke(7)]]\n",
    "bad_edges = []\n",
    "good_edges = []\n",
    "for s in range(st-1,nd+1):\n",
    "    if s!=c_rew_index and s in used_states:\n",
    "        d1 = np.abs(c_rew_index-(s+1))  #distances of state above to reward\n",
    "        d2 = np.abs(c_rew_index-(s-1))  #distance of state below to reward\n",
    "        min_ = np.argmin([d1,d2])\n",
    "        max_ = np.argmax([d1,d2])\n",
    "        \n",
    "        if [s+1,s-1][min_] in used_states:\n",
    "            good_edges.append([s,[s+1,s-1][min_]])  #good edges in terms of pokes\n",
    "        \n",
    "        if [s+1,s-1][max_] in used_states:\n",
    "            bad_edges.append([s,[s+1,s-1][max_]])   #bad edges in terms of pokes"
   ]
  },
  {
   "cell_type": "code",
   "execution_count": null,
   "metadata": {},
   "outputs": [],
   "source": []
  },
  {
   "cell_type": "code",
   "execution_count": 20,
   "metadata": {},
   "outputs": [
    {
     "data": {
      "text/plain": [
       "4"
      ]
     },
     "execution_count": 20,
     "metadata": {},
     "output_type": "execute_result"
    }
   ],
   "source": [
    "map_state_to_poke(ix)"
   ]
  },
  {
   "cell_type": "code",
   "execution_count": 21,
   "metadata": {},
   "outputs": [
    {
     "data": {
      "text/plain": [
       "array([4, 7])"
      ]
     },
     "execution_count": 21,
     "metadata": {},
     "output_type": "execute_result"
    }
   ],
   "source": [
    "used_rew_cols"
   ]
  },
  {
   "cell_type": "code",
   "execution_count": 22,
   "metadata": {},
   "outputs": [],
   "source": [
    "#rew_indices = [0,1,4,5]"
   ]
  },
  {
   "cell_type": "code",
   "execution_count": 23,
   "metadata": {},
   "outputs": [],
   "source": [
    "st = used_states[0]-1#np.min(np.where(np.nansum(perf,axis=1))[0]) - 1\n",
    "nd = used_states[1]+1#np.max((np.where(np.nansum(perf,axis=1))[0])) + 1\n",
    "\n",
    "\n",
    "#these are the pokes used for reward in this session\n",
    "used_rews = np.array([np.where(np.isnan(perf[:,i]))[0] for i in np.where(np.nansum(perf,axis=0))[0]]).flatten()\n",
    "used_rew_cols = np.where(np.nansum(perf,axis=0))[0]"
   ]
  },
  {
   "cell_type": "code",
   "execution_count": 24,
   "metadata": {},
   "outputs": [
    {
     "data": {
      "text/plain": [
       "2"
      ]
     },
     "execution_count": 24,
     "metadata": {},
     "output_type": "execute_result"
    }
   ],
   "source": [
    "st"
   ]
  },
  {
   "cell_type": "code",
   "execution_count": 25,
   "metadata": {},
   "outputs": [
    {
     "data": {
      "text/plain": [
       "5"
      ]
     },
     "execution_count": 25,
     "metadata": {},
     "output_type": "execute_result"
    }
   ],
   "source": [
    "nd"
   ]
  },
  {
   "cell_type": "code",
   "execution_count": null,
   "metadata": {},
   "outputs": [],
   "source": []
  },
  {
   "cell_type": "code",
   "execution_count": 29,
   "metadata": {},
   "outputs": [
    {
     "data": {
      "text/plain": [
       "array([4, 7])"
      ]
     },
     "execution_count": 29,
     "metadata": {},
     "output_type": "execute_result"
    }
   ],
   "source": [
    "used_rew_cols"
   ]
  },
  {
   "cell_type": "code",
   "execution_count": 30,
   "metadata": {
    "scrolled": false
   },
   "outputs": [
    {
     "name": "stderr",
     "output_type": "stream",
     "text": [
      "/Users/yves/opt/anaconda3/lib/python3.7/site-packages/networkx/drawing/nx_pylab.py:579: MatplotlibDeprecationWarning: \n",
      "The iterable function was deprecated in Matplotlib 3.1 and will be removed in 3.3. Use np.iterable instead.\n",
      "  if not cb.iterable(width):\n",
      "/Users/yves/opt/anaconda3/lib/python3.7/site-packages/networkx/drawing/nx_pylab.py:585: MatplotlibDeprecationWarning: \n",
      "The iterable function was deprecated in Matplotlib 3.1 and will be removed in 3.3. Use np.iterable instead.\n",
      "  and cb.iterable(edge_color) \\\n",
      "/Users/yves/opt/anaconda3/lib/python3.7/site-packages/networkx/drawing/nx_pylab.py:676: MatplotlibDeprecationWarning: \n",
      "The iterable function was deprecated in Matplotlib 3.1 and will be removed in 3.3. Use np.iterable instead.\n",
      "  if cb.iterable(node_size):  # many node sizes\n"
     ]
    },
    {
     "data": {
      "image/png": "[encoded data removed]",
      "text/plain": [
       "<Figure size 1296x288 with 2 Axes>"
      ]
     },
     "metadata": {},
     "output_type": "display_data"
    }
   ],
   "source": [
    "plt.figure(figsize=(18,4))\n",
    "ctr = 1\n",
    "for ix in used_rew_cols:\n",
    "    plt.subplot(1,len(used_rew_cols),ctr)\n",
    "\n",
    "    c_rew_index = ix  #this is correct, used_rews here are in terms of states\n",
    "\n",
    "    bad_edges = []\n",
    "    good_edges = []\n",
    "    same_edges = []\n",
    "    good_edges = [[map_state_to_poke(used_states[0]),map_state_to_poke(used_states[1])],\n",
    "                  [map_state_to_poke(used_states[-1]),map_state_to_poke(used_states[-2])]]\n",
    "\n",
    "    for s in range(st-2,nd+2):\n",
    "        if s!=c_rew_index and s in used_states:\n",
    "            su = s+1 #state_up\n",
    "            sd = s-1 #state_down\n",
    "            if lineloop=='loop': \n",
    "                if su==used_states[-1]+1:\n",
    "                    su= used_states[0]\n",
    "                if sd==used_states[0]-1:\n",
    "                    sd = used_states[-1]\n",
    "            d1 = np.abs(c_rew_index-(su))  #distances of state above to reward\n",
    "            d2 = np.abs(c_rew_index-(sd))  #distance of state below to reward\n",
    "            \n",
    "            min_ = np.argmin([d1,d2])\n",
    "            max_ = np.argmax([d1,d2])\n",
    "\n",
    "            mn_ = [su,sd][min_]; mx_ = [su,sd][max_]\n",
    "\n",
    "            if d1==d2:\n",
    "                if mn_ in used_states:\n",
    "                    same_edges.append([map_state_to_poke(s),map_state_to_poke(mn_)])\n",
    "\n",
    "                if mx_ in used_states:\n",
    "                    same_edges.append([map_state_to_poke(s),map_state_to_poke(mx_)])\n",
    "            else:\n",
    "                \n",
    "                if mn_ in used_states:\n",
    "                    good_edges.append([map_state_to_poke(s),map_state_to_poke(mn_)])\n",
    "\n",
    "                if mx_ in used_states:\n",
    "                    bad_edges.append([map_state_to_poke(s),map_state_to_poke(mx_)])\n",
    "\n",
    "        \n",
    "\n",
    "    pos = np.array([1,-1])*poke_pos\n",
    "    G0 = nx.DiGraph()\n",
    "    G0.add_nodes_from(range(9),pos=np.array([1,-1])*poke_pos)\n",
    "    nx.draw(G0,pos=pos,alpha=.2)\n",
    "    G = nx.DiGraph()\n",
    "    G.add_nodes_from(sorted(used_pokes))\n",
    "    weights = []\n",
    "    \n",
    "    rew_col = fc[:,ix]\n",
    "    \n",
    "    for e in good_edges:\n",
    "        G.add_edge(e[0],e[1],weight=rew_col[map_poke_to_state(e[0])],color='g')\n",
    "    for e in bad_edges:\n",
    "        G.add_edge(e[0],e[1],weight=1-rew_col[map_poke_to_state(e[0])],color='r')\n",
    "    for e in same_edges:\n",
    "        print(ctr,map_poke_to_state(e[0]),map_poke_to_state(e[1]))\n",
    "        G.add_edge(e[0],e[1],weight=rew_col[map_poke_to_state(e[0])],color='.3')\n",
    "\n",
    "    weights = nx.get_edge_attributes(G,'weight')\n",
    "    colors = nx.get_edge_attributes(G,'color')\n",
    "    node_colors = ['.3' for _ in range(len(used_states))]\n",
    "    \n",
    "    node_colors[list(G.nodes).index(map_state_to_poke(c_rew_index))] = 'g'\n",
    "    #node_colors[0] = 'g'\n",
    "    nx.draw(G,\n",
    "        pos=pos,\n",
    "            width=(10**(np.array(list(weights.values()))))/2,\n",
    "            edge_color=np.array(list(colors.values())),\n",
    "            connectionstyle=\"arc3,rad=-0.1\",\n",
    "            node_color=node_colors,\n",
    "            node_size=768,)\n",
    "    \n",
    "    labels = {i:j for i,j in zip(sorted(used_pokes),[map_poke_to_state(i) for i in sorted(used_pokes)])}\n",
    "    nx.draw_networkx_labels(G, pos, labels, font_size=16)\n",
    "    #print([map_poke_to_state(i) for j in same_edges for i in j])\n",
    "    #print(G.node)\n",
    "    ctr += 1\n",
    "plt.tight_layout()\n",
    "#plt.savefig(\"/Users/yves/Debsktop/tpf/navi_decisions.svg\")\n",
    "#plt.savefig(\"/Users/yves/Desktop/tpf/navi_decisions.png\",dpi=300)\n"
   ]
  },
  {
   "cell_type": "code",
   "execution_count": 28,
   "metadata": {},
   "outputs": [],
   "source": [
    "ROOT = '/Users/yves/Documents/behavior_data/line_loop_cohort_1/line_loop_batch_4_RUNNAVI/'\n",
    "fs = sorted([os.path.join(ROOT,i) for i in os.listdir(ROOT) if '.txt' in i])\n",
    "perf_hist = []\n",
    "all_fc  = []\n",
    "all_perf = np.zeros([9,4])\n",
    "all_ctr = np.zeros([9,4])\n",
    "for f_ in fs[:-1]:\n",
    "    try:\n",
    "        f = open(f_,'r')\n",
    "        lines =f.readlines()\n",
    "        experiment_name, task_name, subject_id, task_nr, graph,lineloop,date,test,_ = mpk.load.get_metadata(lines)\n",
    "        dat_dict,events,event_times,nRews,_ = mpk.load.parse_data(lines,experiment_name)\n",
    "\n",
    "        #poke_to_state_map = get_poke_to_state_map(lines)\n",
    "        rew_indices = [0,3,5,8]\n",
    "        perf,perf_ctr = get_performance(dat_dict,poke_to_state_map,rew_indices,lines,minNrew=20)\n",
    "\n",
    "        fc = perf/perf_ctr\n",
    "        all_perf += perf\n",
    "        all_ctr += perf_ctr\n",
    "        all_fc.append(fc)\n",
    "        perf_hist.append(np.nanmean(fc))\n",
    "    except:\n",
    "        pass"
   ]
  },
  {
   "cell_type": "code",
   "execution_count": null,
   "metadata": {},
   "outputs": [],
   "source": [
    "\n"
   ]
  }
 ],
 "metadata": {
  "kernelspec": {
   "display_name": "Python 3",
   "language": "python",
   "name": "python3"
  },
  "language_info": {
   "codemirror_mode": {
    "name": "ipython",
    "version": 3
   },
   "file_extension": ".py",
   "mimetype": "text/x-python",
   "name": "python",
   "nbconvert_exporter": "python",
   "pygments_lexer": "ipython3",
   "version": "3.8.5"
  }
 },
 "nbformat": 4,
 "nbformat_minor": 2
}
