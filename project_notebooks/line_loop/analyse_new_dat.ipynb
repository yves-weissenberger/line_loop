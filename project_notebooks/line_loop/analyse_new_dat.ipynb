{
 "cells": [
  {
   "cell_type": "code",
   "execution_count": 234,
   "metadata": {},
   "outputs": [],
   "source": [
    "%matplotlib inline\n",
    "\n",
    "import numpy as np\n",
    "import matplotlib.pyplot as plt\n",
    "import os\n",
    "import sys\n",
    "import seaborn\n",
    "import networkx as nx\n",
    "import pandas as pd\n",
    "from scipy.ndimage.filters import gaussian_filter1d\n",
    "import scipy.stats as stt\n",
    "import scipy as sp\n",
    "import re\n",
    "import matplotlib\n",
    "sys.path.append(r\"C:\\Users\\yweissenberger\\Documents\\code\\line_loop-master\")\n",
    "sys.path.append(r\"C:\\Users\\yweissenberger\\Documents\\code\\line_loop-master\\packages\")\n",
    "\n",
    "clrs = seaborn.color_palette()\n",
    "\n",
    "seaborn.set(font_scale=1.5,style='ticks')\n",
    "\n",
    "\n",
    "import mouse_poker as mpk\n",
    "from mouse_poker.ephys_load import *\n",
    "#import yutils\n",
    "\n",
    "poke_pos = [ [149,0],\n",
    "         [68,19],[231,19],\n",
    "       [0,62],[149,62],[298,62],\n",
    "         [68,105],[231,105],\n",
    "              [149,124]]\n",
    "pos = np.array([1,-1])*poke_pos\n"
   ]
  },
  {
   "cell_type": "code",
   "execution_count": 235,
   "metadata": {},
   "outputs": [],
   "source": [
    "def make_plot(res_dict,mx=1,color='mean'):\n",
    "    plt.figure(figsize=(12,4))\n",
    "\n",
    "\n",
    "#    mx = 1\n",
    "    if color=='pval': cmap_ = 'RdYlGn_r'\n",
    "    else: cmap_ = 'RdYlGn'\n",
    "    cmap = matplotlib.cm.ScalarMappable(matplotlib.colors.Normalize(vmin=0,vmax=mx,clip=True),cmap=cmap_)\n",
    "\n",
    "    plt.subplot(1,2,1)\n",
    "    G0 = nx.DiGraph()\n",
    "    G0.add_nodes_from(range(9),pos=np.array([1,-1])*poke_pos,color='.3')\n",
    "    nx.draw(G0,pos=pos,alpha=.2,node_color='.3')\n",
    "\n",
    "\n",
    "    G = nx.DiGraph()\n",
    "    for k,v in res_dict.items():\n",
    "        if color=='pval':\n",
    "            c = stt.binom_test(np.sum(v),len(v),p=1/9.)\n",
    "        else:\n",
    "            c= np.mean(v)\n",
    "        G.add_edge(int(k[0]),int(k[1]),color=cmap.to_rgba(c))\n",
    "\n",
    "    colors = nx.get_edge_attributes(G,'color')\n",
    "\n",
    "    nx.draw(G,\n",
    "            pos=pos,edge_color=np.array(list(colors.values())),\n",
    "            node_color='.3',\n",
    "            node_size=768,\n",
    "            connectionstyle=\"arc3,rad=-0.1\",\n",
    "            width=3\n",
    "    )\n",
    "\n",
    "\n",
    "    plt.subplot(1,2,2)\n",
    "\n",
    "    plt.imshow(np.array([[0,mx]]).T,aspect=1001,cmap=cmap_)\n",
    "    plt.gca().set_visible(False)\n",
    "    cax = plt.axes([.6, 0.025, 0.025, 0.8])\n",
    "    cbar = plt.colorbar(cax=cax)\n",
    "    cbar.ax.set_ylabel(\"Proportion correct \\n(probe trials)\")\n",
    "    plt.tight_layout()\n",
    "\n",
    "\n",
    "#G = nx.Graph()\n"
   ]
  },
  {
   "cell_type": "code",
   "execution_count": 366,
   "metadata": {},
   "outputs": [],
   "source": [
    "\n",
    "def get_inpoke_data(lines):\n",
    "    \n",
    "    event_line = [l for ix,l in enumerate(lines) if l[0]=='E'][0]\n",
    "    state_line = [l for ix,l in enumerate(lines) if l[0]=='S'][0]\n",
    "\n",
    "    event_dict = eval(event_line[2:-1])\n",
    "    state_dict = eval(state_line[2:-1])\n",
    "    event_dict2 = {v: k for k, v in event_dict.items()}\n",
    "\n",
    "    inPoke_evs = sorted([(k,v) for k,v in event_dict.items() if (re.findall(r'poke_[0-9]',k) and 'out' not in k)])\n",
    "    inPoke_ids = [i[1] for i in inPoke_evs]\n",
    "    \n",
    "    \n",
    "    inPokes = []\n",
    "    inPoke_ts = []\n",
    "    for l_ in lines:\n",
    "        d_ = re.findall('D [0-9]* ([0-9]*)\\n',l_)\n",
    "\n",
    "        if d_:\n",
    "            if int(d_[0]) in inPoke_ids:\n",
    "\n",
    "                t = re.findall('D ([0-9]*) [0-9]*\\n',l_)[0]\n",
    "                inPoke_ts.append(float(t))\n",
    "                #pkd = re.findall(d)\n",
    "                inPokes.append(int(event_dict2[int(d_[0])][-1]))\n",
    "    return np.array(inPokes), np.array(inPoke_ts)\n",
    "\n",
    "\n",
    "def get_target_at_t(T,next_pokes_targets,next_poke_target_ts):\n",
    "    \"\"\" Function returns which poke is the target at a given point in time \"\"\"\n",
    "    if type(next_poke_target_ts)!=np.array:\n",
    "        next_poke_target_ts = np.array(next_poke_target_ts)\n",
    "        \n",
    "    ix = np.min(np.where(next_poke_target_ts>T)[0])\n",
    "    target = next_pokes_targets[ix]\n",
    "    if ix==0:\n",
    "        prev_target = 99\n",
    "    else:\n",
    "        prev_target = next_pokes_targets[ix-1]\n",
    "\n",
    "    return target, prev_target\n",
    "\n",
    "def get_tar_pokes(lines):\n",
    "    \"\"\" Find out the times target pokes change\"\"\"\n",
    "    next_pokes_targets = [int(l_[-2]) for l_ in lines if (l_[0]=='P' and 'nREWS' not in l_ and 'robe' not in l_)]\n",
    "    next_poke_target_ts = [float(re.findall(r'P ([0-9]*)',l_)[0]) for l_ in lines if (l_[0]=='P' and 'nREWS' not in l_ and 'robe' not in l_)]\n",
    "    return next_pokes_targets, next_poke_target_ts\n",
    "    \n",
    "    \n",
    "def evaluate_probe_trials(lines,res_dict=None):\n",
    "    \n",
    "    has_probestart = any(['probe_start' in i for i in lines])\n",
    "    #print(has_probestart)\n",
    "    \n",
    "    event_line = [l for ix,l in enumerate(lines) if l[0]=='E'][0]\n",
    "    state_line = [l for ix,l in enumerate(lines) if l[0]=='S'][0]\n",
    "\n",
    "    event_dict = eval(event_line[2:-1])\n",
    "    state_dict = eval(state_line[2:-1])\n",
    "\n",
    "    next_pokes_targets, next_poke_target_ts = get_tar_pokes(lines)\n",
    "    try:\n",
    "        session_variables = eval(re.findall(r'(\\{.*\\})',lines[-1])[0])\n",
    "        probe_dur = float(session_variables['probe_dur'])\n",
    "    except:\n",
    "        print(\"WARNING NO PROBE DUR FOUND ASSUMING 2s\")\n",
    "        probe_dur = 2000\n",
    "   \n",
    "    if not has_probestart:\n",
    "        probes = [float(re.findall('D ([0-9]*)',i)[0]) for i in lines if '33\\n' in i and 'D' in i]\n",
    "        probe_starts = np.array(probes)-probe_dur\n",
    "    else:\n",
    "        probe_starts = [float(re.findall(r'P ([0-9]*) probe_start',l_)[0]) for l_ in lines if 'probe_start' in l_]\n",
    "        \n",
    "    inPokes, inPoke_ts = get_inpoke_data(lines)\n",
    "    if res_dict is None:\n",
    "        res_dict = {}\n",
    "    #print(len(probe_starts))\n",
    "    #probe_starts = np.array(probes)-probe_dur\n",
    "    for pt_ in probe_starts[:-1]:\n",
    "        try:\n",
    "            target,prev_target = get_target_at_t(pt_,next_pokes_targets,next_poke_target_ts)\n",
    "            k_ = str(target) + str(prev_target)\n",
    "\n",
    "            ix_ = np.min(np.where(np.array(inPoke_ts)>(pt_+10))[0])\n",
    "            get_nextPoke = True\n",
    "            while get_nextPoke:\n",
    "                nextPoke = inPokes[ix_]-1\n",
    "                nextPoke_t = inPoke_ts[ix_]\n",
    "                if nextPoke!=prev_target:\n",
    "                    get_nextPoke = False\n",
    "                ix_ += 1\n",
    "\n",
    "\n",
    "            correct = ((nextPoke==target) and ((nextPoke_t-pt_)<probe_dur))\n",
    "            if k_ not in res_dict.keys():\n",
    "                res_dict[k_] = [correct]\n",
    "            else:\n",
    "                res_dict[k_].append(correct)\n",
    "        except:\n",
    "            pass\n",
    "\n",
    "    return res_dict"
   ]
  },
  {
   "cell_type": "code",
   "execution_count": null,
   "metadata": {},
   "outputs": [],
   "source": []
  },
  {
   "cell_type": "code",
   "execution_count": null,
   "metadata": {},
   "outputs": [],
   "source": []
  },
  {
   "cell_type": "code",
   "execution_count": 633,
   "metadata": {},
   "outputs": [],
   "source": [
    "fs_dir = r\"C:/Users/yweissenberger/Desktop/pyhomecage/data/170221_round5/170221_round5_1/16135585927334096_task/\"\n",
    "\n",
    "#fs_dir =  r\"C:/Users/yweissenberger/Desktop/pyhomecage/data/170221_round5/170221_round5_2/16135586027193673_task/\"\n",
    "#fs_dir =  r\"C:/Users/yweissenberger/Desktop/pyhomecage/data/170221_round5/170221_round5_3/16135586089786322_task/\"\n",
    "#fs_dir = r\"C:/Users/yweissenberger/Desktop/pyhomecage/data/170221_round5/170221_round5_4/16135586168821545_task/\"\n"
   ]
  },
  {
   "cell_type": "code",
   "execution_count": 634,
   "metadata": {},
   "outputs": [],
   "source": [
    "fs = sorted([i for i in os.listdir(fs_dir) if '_taskFile' not in i and 'fixed_seq_seq' in i])"
   ]
  },
  {
   "cell_type": "code",
   "execution_count": 635,
   "metadata": {},
   "outputs": [
    {
     "data": {
      "text/plain": [
       "6"
      ]
     },
     "execution_count": 635,
     "metadata": {},
     "output_type": "execute_result"
    }
   ],
   "source": [
    "len(np.unique([re.findall(r'(2021-[0-9]{2}-[0-9]{2})',i) for i in fs]))"
   ]
  },
  {
   "cell_type": "code",
   "execution_count": null,
   "metadata": {},
   "outputs": [],
   "source": []
  },
  {
   "cell_type": "code",
   "execution_count": 636,
   "metadata": {},
   "outputs": [
    {
     "name": "stdout",
     "output_type": "stream",
     "text": [
      "probe_perf=0.50   | nProbe=4   | nRews=15  |  file=170221_round5_1_170221_round5_basic_rew_collect_fixed_seq_seq2_-2021-03-04-142217.txt\n",
      "probe_perf=0.08   | nProbe=9   | nRews=44  |  file=170221_round5_1_170221_round5_basic_rew_collect_fixed_seq_seq2_-2021-03-04-162314.txt\n",
      "probe_perf=0.00   | nProbe=13   | nRews=81  |  file=170221_round5_1_170221_round5_basic_rew_collect_fixed_seq_seq2_-2021-03-04-170947.txt\n",
      "probe_perf=0.26   | nProbe=42   | nRews=158  |  file=170221_round5_1_170221_round5_basic_rew_collect_fixed_seq_seq2_-2021-03-05-122512.txt\n",
      "probe_perf=0.23   | nProbe=38   | nRews=120  |  file=170221_round5_1_170221_round5_basic_rew_collect_fixed_seq_seq2_-2021-03-05-124952.txt\n",
      "probe_perf=0.63   | nProbe=17   | nRews=86  |  file=170221_round5_1_170221_round5_basic_rew_collect_fixed_seq_seq2_-2021-03-05-130533.txt\n",
      "probe_perf=0.50   | nProbe=4   | nRews=19  |  file=170221_round5_1_170221_round5_basic_rew_collect_fixed_seq_seq2_-2021-03-05-131300.txt\n",
      "probe_perf=0.39   | nProbe=13   | nRews=57  |  file=170221_round5_1_170221_round5_basic_rew_collect_fixed_seq_seq2_-2021-03-05-133306.txt\n",
      "probe_perf=0.33   | nProbe=27   | nRews=116  |  file=170221_round5_1_170221_round5_basic_rew_collect_fixed_seq_seq2_-2021-03-05-152114.txt\n",
      "probe_perf=0.39   | nProbe=15   | nRews=85  |  file=170221_round5_1_170221_round5_basic_rew_collect_fixed_seq_seq2_-2021-03-05-154929.txt\n"
     ]
    }
   ],
   "source": [
    "res_dict = {}\n",
    "mus = []\n",
    "for ix in range(np.clip(len(fs)-10,0,100),len(fs)):\n",
    "    if 'seq' in fs[ix]:\n",
    "        if ('170221_round5_1' in fs_dir) and ('timeout' in fs[ix] or 'seq2' not in fs[ix]):\n",
    "            pass\n",
    "        else:\n",
    "            try:\n",
    "                res_dict__ = {}\n",
    "                f = open(os.path.join(fs_dir,fs[ix]),'r')\n",
    "\n",
    "                lines = f.readlines()\n",
    "                variables = eval(re.findall('Variables({.*})',lines[-1])[0])\n",
    "                res_dict = evaluate_probe_trials(lines,res_dict=res_dict)\n",
    "                res_dict__ = evaluate_probe_trials(lines)\n",
    "                mus.append(np.nanmean([np.nanmean(i) for i in res_dict__.values()]))\n",
    "                pints =[np.nanmean([np.nanmean(i) for i in res_dict__.values()]),\n",
    "                     np.sum([len(i) for i in res_dict__.values()]),\n",
    "                     float(variables['n_rewards']),\n",
    "                     fs[ix]]\n",
    "                print('probe_perf={:.2f}   | nProbe={:.0f}   | nRews={:.0f}  |  file={}'.format(*pints))\n",
    "            except:\n",
    "                print('WARNING FILE {} failed to be processed'.format(fs[ix]))\n",
    "#print(fs[ix])"
   ]
  },
  {
   "cell_type": "code",
   "execution_count": 637,
   "metadata": {},
   "outputs": [
    {
     "data": {
      "text/plain": [
       "19.5"
      ]
     },
     "execution_count": 637,
     "metadata": {},
     "output_type": "execute_result"
    }
   ],
   "source": [
    "78*.25"
   ]
  },
  {
   "cell_type": "code",
   "execution_count": 638,
   "metadata": {},
   "outputs": [
    {
     "data": {
      "text/plain": [
       "0.677870616745223"
      ]
     },
     "execution_count": 638,
     "metadata": {},
     "output_type": "execute_result"
    }
   ],
   "source": [
    "stt.binom_test(66,278,0.25)"
   ]
  },
  {
   "cell_type": "code",
   "execution_count": null,
   "metadata": {},
   "outputs": [],
   "source": []
  },
  {
   "cell_type": "code",
   "execution_count": null,
   "metadata": {},
   "outputs": [],
   "source": []
  },
  {
   "cell_type": "code",
   "execution_count": null,
   "metadata": {},
   "outputs": [],
   "source": []
  },
  {
   "cell_type": "code",
   "execution_count": 639,
   "metadata": {},
   "outputs": [
    {
     "data": {
      "text/plain": [
       "[<matplotlib.lines.Line2D at 0x257c552fdf0>]"
      ]
     },
     "execution_count": 639,
     "metadata": {},
     "output_type": "execute_result"
    },
    {
     "data": {
      "image/png": "[encoded data removed]",
      "text/plain": [
       "<Figure size 432x288 with 1 Axes>"
      ]
     },
     "metadata": {},
     "output_type": "display_data"
    }
   ],
   "source": [
    "plt.plot(mus)"
   ]
  },
  {
   "cell_type": "code",
   "execution_count": 640,
   "metadata": {},
   "outputs": [
    {
     "data": {
      "text/plain": [
       "0.27521464646464644"
      ]
     },
     "execution_count": 640,
     "metadata": {},
     "output_type": "execute_result"
    }
   ],
   "source": [
    "np.mean([np.mean(i) for i in res_dict.values()])"
   ]
  },
  {
   "cell_type": "code",
   "execution_count": 641,
   "metadata": {},
   "outputs": [
    {
     "data": {
      "text/plain": [
       "0.27521464646464644"
      ]
     },
     "execution_count": 641,
     "metadata": {},
     "output_type": "execute_result"
    }
   ],
   "source": [
    "np.mean([np.mean(i) for i in res_dict.values()])"
   ]
  },
  {
   "cell_type": "code",
   "execution_count": 642,
   "metadata": {},
   "outputs": [
    {
     "data": {
      "text/plain": [
       "[18, 18, 16, 22, 22, 16, 13, 21, 20, 16]"
      ]
     },
     "execution_count": 642,
     "metadata": {},
     "output_type": "execute_result"
    }
   ],
   "source": [
    "[len(i) for i in res_dict.values()]"
   ]
  },
  {
   "cell_type": "code",
   "execution_count": 643,
   "metadata": {},
   "outputs": [
    {
     "data": {
      "text/plain": [
       "['p=0.011   | fc=0.33',\n",
       " 'p=0.132   | fc=0.22',\n",
       " 'p=0.001   | fc=0.44',\n",
       " 'p=0.002   | fc=0.36',\n",
       " 'p=0.925   | fc=0.05',\n",
       " 'p=0.000   | fc=0.62',\n",
       " 'p=1.000   | fc=0.00',\n",
       " 'p=1.000   | fc=0.00',\n",
       " 'p=0.668   | fc=0.10',\n",
       " 'p=0.000   | fc=0.62']"
      ]
     },
     "execution_count": 643,
     "metadata": {},
     "output_type": "execute_result"
    }
   ],
   "source": [
    "['p={:.3f}   | fc={:.2f}'.format(stt.binom_test(np.sum(i),len(i),p=1/9.,alternative='greater'),np.mean(i)) for i in res_dict.values()]"
   ]
  },
  {
   "cell_type": "code",
   "execution_count": 631,
   "metadata": {},
   "outputs": [
    {
     "name": "stderr",
     "output_type": "stream",
     "text": [
      "<ipython-input-235-64cf0191b5f0>:42: UserWarning: This figure includes Axes that are not compatible with tight_layout, so results might be incorrect.\n",
      "  plt.tight_layout()\n"
     ]
    },
    {
     "data": {
      "image/png": "[encoded data removed]",
      "text/plain": [
       "<Figure size 864x288 with 3 Axes>"
      ]
     },
     "metadata": {},
     "output_type": "display_data"
    }
   ],
   "source": [
    "make_plot(res_dict,mx=.4)"
   ]
  },
  {
   "cell_type": "code",
   "execution_count": 632,
   "metadata": {},
   "outputs": [
    {
     "name": "stderr",
     "output_type": "stream",
     "text": [
      "<ipython-input-235-64cf0191b5f0>:42: UserWarning: This figure includes Axes that are not compatible with tight_layout, so results might be incorrect.\n",
      "  plt.tight_layout()\n"
     ]
    },
    {
     "data": {
      "image/png": "[encoded data removed]",
      "text/plain": [
       "<Figure size 864x288 with 3 Axes>"
      ]
     },
     "metadata": {},
     "output_type": "display_data"
    }
   ],
   "source": [
    "make_plot(res_dict,mx=.05,color='pval')"
   ]
  },
  {
   "cell_type": "code",
   "execution_count": null,
   "metadata": {},
   "outputs": [],
   "source": []
  },
  {
   "cell_type": "code",
   "execution_count": 69,
   "metadata": {},
   "outputs": [],
   "source": [
    "state_dict = eval(lines[5][2:-1])\n",
    "event_dict = eval(lines[7][2:-1])\n",
    "event_dict2 = {v: k for k, v in event_dict.items()}\n",
    "\n",
    "seq = [1,3,6,7,2,0,2,7,6,3]"
   ]
  },
  {
   "cell_type": "code",
   "execution_count": null,
   "metadata": {},
   "outputs": [],
   "source": []
  },
  {
   "cell_type": "code",
   "execution_count": 9,
   "metadata": {},
   "outputs": [],
   "source": [
    "session_variables = eval(re.findall(r'(\\{.*\\})',lines[-1])[0])\n",
    "probe_dur = float(session_variables['probe_dur'])"
   ]
  },
  {
   "cell_type": "code",
   "execution_count": 882,
   "metadata": {},
   "outputs": [
    {
     "data": {
      "text/plain": [
       "{'n_timeouts': '0',\n",
       " 'get_free_rew': 'False',\n",
       " 'click_volume': '10',\n",
       " 'seq': '[1, 3, 6, 7, 2, 0, 2, 7, 6, 3]',\n",
       " 'dark_pokes': '12',\n",
       " 'inactive': 'False',\n",
       " 'noise_dur': '100',\n",
       " 'probe_probability': '0.25',\n",
       " 'timeout_dur': '3000',\n",
       " 'isprobe': 'False',\n",
       " 'probe_dur': '5000',\n",
       " 'lseq': '10',\n",
       " 'choice_poke': '7',\n",
       " 'light_pokes': '53',\n",
       " 'prev_rew': '6',\n",
       " 'n_rewards': '53',\n",
       " 'has_been_wrong': 'True',\n",
       " 'state_str': \"['1', '2', '3', '4', '5', '6', '7', '8', '9']\",\n",
       " 'seq_ix': '54',\n",
       " 'max_timeout': '4',\n",
       " 'rew_dur': '20',\n",
       " 'first_entry': 'True'}"
      ]
     },
     "execution_count": 882,
     "metadata": {},
     "output_type": "execute_result"
    }
   ],
   "source": [
    "eval(re.findall(r'(\\{.*\\})',lines[-1])[0])"
   ]
  },
  {
   "cell_type": "code",
   "execution_count": 860,
   "metadata": {},
   "outputs": [],
   "source": [
    "session_variables = eval(lines[-1][9:])\n",
    "probe_dur = float(session_variables['probe_dur'])\n",
    "probes = [float(re.findall('D ([0-9]*)',i)[0]) for i in lines if '33\\n' in i and 'D' in i]"
   ]
  },
  {
   "cell_type": "code",
   "execution_count": null,
   "metadata": {},
   "outputs": [],
   "source": []
  },
  {
   "cell_type": "code",
   "execution_count": 862,
   "metadata": {},
   "outputs": [
    {
     "name": "stdout",
     "output_type": "stream",
     "text": [
      "fracL:80.30%\n"
     ]
    }
   ],
   "source": [
    "fracL = float([re.findall(r'fracL:(.*)\\n',l_)[0] for l_ in lines if re.findall(r'fracL:(.*)\\n',l_)][-1])\n",
    "print('fracL:{:.2f}%'.format(100*fracL))"
   ]
  },
  {
   "cell_type": "code",
   "execution_count": 863,
   "metadata": {},
   "outputs": [],
   "source": [
    "def get_inpoke_data(lines):\n",
    "    \n",
    "    event_line = [ix for ix,l in enumerate(lines) if l[0]=='E'][0]\n",
    "    state_line = [ix for ix,l in enumerate(lines) if l[0]=='E'][0]\n",
    "\n",
    "    event_dict = eval(event_line[2:-1])\n",
    "    state_dict = eval(state_line[2:-1])\n",
    "    inPoke_evs = sorted([(k,v) for k,v in event_dict.items() if (re.findall(r'poke_[0-9]',k) and 'out' not in k)])\n",
    "    inPoke_ids = [i[1] for i in inPoke_evs]\n",
    "    \n",
    "    \n",
    "    inPokes = []\n",
    "    inPoke_ts = []\n",
    "    for l_ in lines:\n",
    "        d_ = re.findall('D [0-9]* ([0-9]*)\\n',l_)\n",
    "\n",
    "        if d_:\n",
    "            if int(d_[0]) in inPoke_ids:\n",
    "\n",
    "                t = re.findall('D ([0-9]*) [0-9]*\\n',l_)[0]\n",
    "                inPoke_ts.append(float(t))\n",
    "                #pkd = re.findall(d)\n",
    "                inPokes.append(int(event_dict2[int(d_[0])][-1]))\n",
    "    return np.array(inPokes), np.array(inPoke_ts)"
   ]
  },
  {
   "cell_type": "code",
   "execution_count": null,
   "metadata": {},
   "outputs": [],
   "source": []
  },
  {
   "cell_type": "code",
   "execution_count": 864,
   "metadata": {},
   "outputs": [],
   "source": [
    "inPokes, inPoke_ts = get_inpoke_data(lines)"
   ]
  },
  {
   "cell_type": "code",
   "execution_count": null,
   "metadata": {},
   "outputs": [],
   "source": []
  },
  {
   "cell_type": "code",
   "execution_count": 875,
   "metadata": {},
   "outputs": [],
   "source": [
    "def get_tar_pokes(lines):\n",
    "    next_pokes_targets = [int(l_[-2]) for l_ in lines if (l_[0]=='P' and 'nREWS' not in l_)]\n",
    "    next_poke_target_ts = [float(re.findall(r'P ([0-9]*)',l_)[0]) for l_ in lines if (l_[0]=='P' and 'nREWS' not in l_)]\n",
    "    return next_pokes_targets, next_poke_target_ts"
   ]
  },
  {
   "cell_type": "code",
   "execution_count": null,
   "metadata": {},
   "outputs": [],
   "source": []
  },
  {
   "cell_type": "code",
   "execution_count": 867,
   "metadata": {},
   "outputs": [],
   "source": [
    "\n",
    "def get_inpoke_data(lines):\n",
    "    \n",
    "    event_line = [ix for ix,l in enumerate(lines) if l[0]=='E'][0]\n",
    "    state_line = [ix for ix,l in enumerate(lines) if l[0]=='E'][0]\n",
    "\n",
    "    event_dict = eval(event_line[2:-1])\n",
    "    state_dict = eval(state_line[2:-1])\n",
    "    inPoke_evs = sorted([(k,v) for k,v in event_dict.items() if (re.findall(r'poke_[0-9]',k) and 'out' not in k)])\n",
    "    inPoke_ids = [i[1] for i in inPoke_evs]\n",
    "    \n",
    "    \n",
    "    inPokes = []\n",
    "    inPoke_ts = []\n",
    "    for l_ in lines:\n",
    "        d_ = re.findall('D [0-9]* ([0-9]*)\\n',l_)\n",
    "\n",
    "        if d_:\n",
    "            if int(d_[0]) in inPoke_ids:\n",
    "\n",
    "                t = re.findall('D ([0-9]*) [0-9]*\\n',l_)[0]\n",
    "                inPoke_ts.append(float(t))\n",
    "                #pkd = re.findall(d)\n",
    "                inPokes.append(int(event_dict2[int(d_[0])][-1]))\n",
    "    return np.array(inPokes), np.array(inPoke_ts)\n",
    "\n",
    "\n",
    "def get_target_at_t(T,next_pokes_targets,next_poke_target_ts):\n",
    "    \"\"\" Function returns which poke is the target at a given point in time \"\"\"\n",
    "    if type(next_poke_target_ts)!=np.array:\n",
    "        next_poke_target_ts = np.array(next_poke_target_ts)\n",
    "        \n",
    "    ix = np.min(np.where(next_poke_target_ts>T)[0])\n",
    "    target = next_pokes_targets[ix]\n",
    "    if ix==0:\n",
    "        prev_target = 99\n",
    "    else:\n",
    "        prev_target = next_pokes_targets[ix-1]\n",
    "\n",
    "    return target, prev_target\n",
    "\n",
    "def get_tar_pokes(lines):\n",
    "    next_pokes_targets = [int(l_[-2]) for l_ in lines if (l_[0]=='P' and 'nREWS' not in l_)]\n",
    "    next_poke_target_ts = [float(re.findall(r'P ([0-9]*)',l_)[0]) for l_ in lines if (l_[0]=='P' and 'nREWS' not in l_)]\n",
    "    return next_pokes_targets, next_poke_target_ts\n",
    "    \n",
    "    \n",
    "def evaluate_probe_trials(lines,res_dict=None):\n",
    "    \n",
    "    next_pokes_targets, next_poke_target_ts = get_tar_pokes(lines)\n",
    "    session_variables = eval(re.findall(r'(\\{.*\\})',lines[-1])[0])\n",
    "    probe_dur = float(session_variables['probe_dur'])\n",
    "    inPokes, inPoke_ts = get_inpoke_data(lines)\n",
    "    if res_dict is None:\n",
    "        res_dict = {}\n",
    "\n",
    "    probe_starts = np.array(probes)-probe_dur\n",
    "    for pt_ in probe_starts[:-1]:\n",
    "        target,prev_target = get_target_at_t(pt_,next_pokes_targets,next_poke_target_ts)\n",
    "        k_ = str(target) + str(prev_target)\n",
    "\n",
    "        ix_ = np.min(np.where(np.array(inPoke_ts)>(pt_+50))[0])\n",
    "        get_nextPoke = True\n",
    "        while get_nextPoke:\n",
    "            nextPoke = inPokes[ix_]-1\n",
    "            if nextPoke!=prev_target:\n",
    "                get_nextPoke = False\n",
    "            ix_ += 1\n",
    "\n",
    "\n",
    "        correct = nextPoke==target\n",
    "        if k_ not in res_dict.keys():\n",
    "            res_dict[k_] = [correct]\n",
    "        else:\n",
    "            res_dict[k_].append(correct)\n",
    "\n",
    "    return res_dict"
   ]
  },
  {
   "cell_type": "code",
   "execution_count": 885,
   "metadata": {},
   "outputs": [
    {
     "data": {
      "text/plain": [
       "{'27': [False, True, False],\n",
       " '67': [False, False],\n",
       " '76': [True],\n",
       " '72': [False, False],\n",
       " '31': [False, True],\n",
       " '63': [True, True],\n",
       " '36': [True],\n",
       " '13': [False]}"
      ]
     },
     "execution_count": 885,
     "metadata": {},
     "output_type": "execute_result"
    }
   ],
   "source": [
    "evaluate_probe_trials(lines)"
   ]
  },
  {
   "cell_type": "code",
   "execution_count": 884,
   "metadata": {},
   "outputs": [],
   "source": [
    "def evaluate_probe_trials(lines,res_dict=None):\n",
    "    \n",
    "    next_pokes_targets, next_poke_target_ts = get_tar_pokes(lines)\n",
    "    session_variables = eval(re.findall(r'(\\{.*\\})',lines[-1])[0])\n",
    "    probe_dur = float(session_variables['probe_dur'])\n",
    "    inPokes, inPoke_ts = get_inpoke_data(lines)\n",
    "    if res_dict is None:\n",
    "        res_dict = {}\n",
    "\n",
    "    probe_starts = np.array(probes)-probe_dur\n",
    "    for pt_ in probe_starts[:-1]:\n",
    "        target,prev_target = get_target_at_t(pt_,next_pokes_targets,next_poke_target_ts)\n",
    "        k_ = str(target) + str(prev_target)\n",
    "\n",
    "        ix_ = np.min(np.where(np.array(inPoke_ts)>(pt_+50))[0])\n",
    "        get_nextPoke = True\n",
    "        while get_nextPoke:\n",
    "            nextPoke = inPokes[ix_]-1\n",
    "            if nextPoke!=prev_target:\n",
    "                get_nextPoke = False\n",
    "            ix_ += 1\n",
    "\n",
    "\n",
    "        correct = nextPoke==target\n",
    "        if k_ not in res_dict.keys():\n",
    "            res_dict[k_] = [correct]\n",
    "        else:\n",
    "            res_dict[k_].append(correct)\n",
    "\n",
    "    return res_dict"
   ]
  },
  {
   "cell_type": "code",
   "execution_count": 868,
   "metadata": {
    "scrolled": true
   },
   "outputs": [],
   "source": [
    "#def evaluate_probe_trials(probes,probe_dur,next_pokes_targets,next_poke_target_ts,inPoke_ts,inPokes):\n",
    "\n",
    "probe_starts = np.array(probes)-probe_dur\n",
    "\n",
    "res_dict = {}\n",
    "for pt_ in probe_starts[:-1]:\n",
    "    target,prev_target = get_target_at_t(pt_,next_pokes_targets,next_poke_target_ts)\n",
    "    #prev_target = get_target_at_t(pt_-100,next_pokes_targets,next_poke_target_ts)\n",
    "    #print(target,prev_target)\n",
    "    k_ = str(target) + str(prev_target)\n",
    "\n",
    "    ix_ = np.min(np.where(np.array(inPoke_ts)>(pt_+50))[0])\n",
    "    get_nextPoke = True\n",
    "    while get_nextPoke:\n",
    "        #print(ix_,ix_)\n",
    "        nextPoke = inPokes[ix_]-1\n",
    "        if nextPoke!=prev_target:\n",
    "            get_nextPoke = False\n",
    "        ix_ += 1\n",
    "\n",
    "    #print(target,nextPoke)\n",
    "    correct = nextPoke==target\n",
    "    #correct = target in inPokes[ix-1:ix+5]\n",
    "    if k_ not in res_dict.keys():\n",
    "        res_dict[k_] = [correct]\n",
    "    else:\n",
    "        res_dict[k_].append(correct)\n",
    "#    return res_dict"
   ]
  },
  {
   "cell_type": "code",
   "execution_count": 85,
   "metadata": {},
   "outputs": [
    {
     "data": {
      "text/plain": [
       "[(0.2222222222222222, '31'),\n",
       " (0.2222222222222222, '76'),\n",
       " (0.23076923076923078, '72'),\n",
       " (0.07692307692307693, '27'),\n",
       " (0.75, '20'),\n",
       " (0.2857142857142857, '13'),\n",
       " (0.125, '36'),\n",
       " (0.3, '63'),\n",
       " (0.0, '67'),\n",
       " (0.0, '02')]"
      ]
     },
     "execution_count": 85,
     "metadata": {},
     "output_type": "execute_result"
    }
   ],
   "source": [
    "[(np.mean(i),k) for k,i in res_dict.items()]"
   ]
  },
  {
   "cell_type": "code",
   "execution_count": 79,
   "metadata": {},
   "outputs": [],
   "source": []
  },
  {
   "cell_type": "code",
   "execution_count": null,
   "metadata": {},
   "outputs": [],
   "source": []
  },
  {
   "cell_type": "code",
   "execution_count": null,
   "metadata": {},
   "outputs": [],
   "source": []
  },
  {
   "cell_type": "code",
   "execution_count": null,
   "metadata": {},
   "outputs": [],
   "source": []
  }
 ],
 "metadata": {
  "kernelspec": {
   "display_name": "Python 3",
   "language": "python",
   "name": "python3"
  },
  "language_info": {
   "codemirror_mode": {
    "name": "ipython",
    "version": 3
   },
   "file_extension": ".py",
   "mimetype": "text/x-python",
   "name": "python",
   "nbconvert_exporter": "python",
   "pygments_lexer": "ipython3",
   "version": "3.8.5"
  }
 },
 "nbformat": 4,
 "nbformat_minor": 2
}
