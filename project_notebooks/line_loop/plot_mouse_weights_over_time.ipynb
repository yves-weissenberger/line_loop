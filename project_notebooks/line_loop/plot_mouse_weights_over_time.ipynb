{
 "cells": [
  {
   "cell_type": "code",
   "execution_count": 2943,
   "metadata": {},
   "outputs": [],
   "source": [
    "%matplotlib inline\n",
    "import matplotlib.pyplot as plt\n",
    "import numpy as np\n",
    "import os\n",
    "import pandas as pd\n",
    "from datetime import timedelta\n",
    "from datetime import datetime\n",
    "import matplotlib.dates as mdates\n",
    "\n",
    "import seaborn\n",
    "seaborn.set(font_scale=1.5,style='ticks')\n",
    "clrs = seaborn.color_palette()\n"
   ]
  },
  {
   "cell_type": "code",
   "execution_count": 2944,
   "metadata": {},
   "outputs": [],
   "source": [
    "ROOT_dir = 'C:/Users/takam/Desktop/pyhomecage/mice/'"
   ]
  },
  {
   "cell_type": "code",
   "execution_count": 2945,
   "metadata": {},
   "outputs": [],
   "source": [
    "mouse_fs = [os.path.join(ROOT_dir,i) for i in os.listdir(ROOT_dir) if 'mice' not in i]"
   ]
  },
  {
   "cell_type": "code",
   "execution_count": null,
   "metadata": {},
   "outputs": [],
   "source": []
  },
  {
   "cell_type": "code",
   "execution_count": 3030,
   "metadata": {},
   "outputs": [],
   "source": [
    "mix = 2\n",
    "df = pd.read_csv(mouse_fs[mix])"
   ]
  },
  {
   "cell_type": "code",
   "execution_count": 3031,
   "metadata": {},
   "outputs": [],
   "source": [
    "now = datetime.now()"
   ]
  },
  {
   "cell_type": "code",
   "execution_count": 3032,
   "metadata": {},
   "outputs": [],
   "source": [
    "df['entry_time']= pd.to_datetime(df['entry_time'])\n"
   ]
  },
  {
   "cell_type": "code",
   "execution_count": 3033,
   "metadata": {},
   "outputs": [],
   "source": [
    "n_days_back = 1\n",
    "\n",
    "weights = df[df['entry_time']>(now-timedelta(days=n_days_back))]['weight'].values\n",
    "time = df[df['entry_time']>(now-timedelta(days=n_days_back))]['entry_time'].values"
   ]
  },
  {
   "cell_type": "code",
   "execution_count": 3034,
   "metadata": {},
   "outputs": [
    {
     "data": {
      "text/plain": [
       "0"
      ]
     },
     "execution_count": 3034,
     "metadata": {},
     "output_type": "execute_result"
    }
   ],
   "source": [
    "variables = df[df['entry_time']>(now-timedelta(days=n_days_back))]['Variables'].values\n",
    "sum([int(eval(i)['n_rewards']) for i in variables if int(eval(i)['n_rewards'])<300])"
   ]
  },
  {
   "cell_type": "code",
   "execution_count": 3035,
   "metadata": {},
   "outputs": [
    {
     "data": {
      "text/plain": [
       "[0, 0]"
      ]
     },
     "execution_count": 3035,
     "metadata": {},
     "output_type": "execute_result"
    }
   ],
   "source": [
    "[int(eval(i)['n_rewards']) for i in variables if int(eval(i)['n_rewards'])<200]"
   ]
  },
  {
   "cell_type": "code",
   "execution_count": 3036,
   "metadata": {},
   "outputs": [
    {
     "data": {
      "text/plain": [
       "datetime.datetime(2021, 4, 18, 14, 22, 18, 830278)"
      ]
     },
     "execution_count": 3036,
     "metadata": {},
     "output_type": "execute_result"
    }
   ],
   "source": [
    "(now-timedelta(days=n_days_back))"
   ]
  },
  {
   "cell_type": "code",
   "execution_count": 3037,
   "metadata": {},
   "outputs": [
    {
     "data": {
      "image/png": "[encoded data removed]",
      "text/plain": [
       "<Figure size 432x288 with 1 Axes>"
      ]
     },
     "metadata": {},
     "output_type": "display_data"
    }
   ],
   "source": [
    "plt.plot(time,weights,marker='o')\n",
    "plt.xticks(rotation=45)\n",
    "myFmt = mdates.DateFormatter('%m-%d %H:%M')\n",
    "plt.gca().xaxis.set_major_formatter(myFmt)\n",
    "hlc = mdates.HourLocator(byhour=range(0,24,4))\n",
    "hlc.MAXTICKS = 6000\n",
    "plt.gca().xaxis.set_major_locator(hlc)   #to get a tick every 15 minutes\n",
    "\n",
    "\n",
    "seaborn.despine()"
   ]
  },
  {
   "cell_type": "code",
   "execution_count": 2955,
   "metadata": {},
   "outputs": [],
   "source": [
    "import pykalman"
   ]
  },
  {
   "cell_type": "code",
   "execution_count": null,
   "metadata": {},
   "outputs": [],
   "source": []
  },
  {
   "cell_type": "code",
   "execution_count": 2956,
   "metadata": {},
   "outputs": [],
   "source": [
    "t_ = (time[-1] -time[0])\n",
    "t_ = t_.astype('timedelta64[h]')\n",
    "n_hours = 1+ t_.item().total_seconds()/3600."
   ]
  },
  {
   "cell_type": "code",
   "execution_count": 2957,
   "metadata": {},
   "outputs": [
    {
     "data": {
      "text/plain": [
       "datetime.datetime(2021, 4, 16, 15, 13, 38)"
      ]
     },
     "execution_count": 2957,
     "metadata": {},
     "output_type": "execute_result"
    }
   ],
   "source": [
    "start_time"
   ]
  },
  {
   "cell_type": "code",
   "execution_count": 2958,
   "metadata": {},
   "outputs": [
    {
     "data": {
      "text/plain": [
       "datetime.datetime(2021, 4, 17, 4, 35, 2)"
      ]
     },
     "execution_count": 2958,
     "metadata": {},
     "output_type": "execute_result"
    }
   ],
   "source": [
    "tm"
   ]
  },
  {
   "cell_type": "code",
   "execution_count": 2959,
   "metadata": {},
   "outputs": [],
   "source": [
    "timestep = 30 #timestep size in minutes\n",
    "#start_time = time[0]\n",
    "start_time = datetime.utcfromtimestamp(time[0].tolist()/1e9)\n",
    "n_timesteps = int((1+n_hours)*(60/timestep))\n",
    "weights_kf = np.zeros(n_timesteps) + np.nan\n",
    "kf_times = [start_time]\n",
    "for t_ in range(1,n_timesteps):\n",
    "    tdt = start_time + timedelta(minutes=timestep*t_)\n",
    "    weights_at_t = []\n",
    "    for w,tm in zip(weights,time):\n",
    "        tm = datetime.utcfromtimestamp(tm.tolist()/1e9)\n",
    "        if abs((tm-tdt).total_seconds())<(timestep*60):\n",
    "            #print(tm,tdt,(tm-tdt).total_seconds())\n",
    "            weights_at_t.append(w)\n",
    "            \n",
    "            \n",
    "    if weights_at_t:\n",
    "        weights_kf[t_] = np.mean(weights_at_t)\n",
    "    kf_times.append(tdt)\n",
    "        "
   ]
  },
  {
   "cell_type": "code",
   "execution_count": 2960,
   "metadata": {},
   "outputs": [],
   "source": [
    "weights_kf_ma = np.ma.masked_invalid(weights_kf)"
   ]
  },
  {
   "cell_type": "code",
   "execution_count": 2961,
   "metadata": {},
   "outputs": [],
   "source": [
    "kf = pykalman.KalmanFilter(initial_state_mean=weights[0],observation_covariance=[2])"
   ]
  },
  {
   "cell_type": "code",
   "execution_count": null,
   "metadata": {},
   "outputs": [],
   "source": []
  },
  {
   "cell_type": "code",
   "execution_count": 2962,
   "metadata": {},
   "outputs": [],
   "source": [
    "em_vars = ['transition_covariance',\n",
    "           'initial_state_mean', \n",
    "           'observation_covariance',\n",
    "           'initial_state_covariance']\n",
    "kf.em(weights_kf_ma,n_iter=5,em_vars=em_vars)\n",
    "a,b = kf.smooth(weights_kf_ma,)\n",
    "mu = a.flatten()\n",
    "std = np.sqrt(b.flatten())"
   ]
  },
  {
   "cell_type": "code",
   "execution_count": 2963,
   "metadata": {},
   "outputs": [
    {
     "data": {
      "text/plain": [
       "array([[0.31988642]])"
      ]
     },
     "execution_count": 2963,
     "metadata": {},
     "output_type": "execute_result"
    }
   ],
   "source": [
    "kf.transition_covariance"
   ]
  },
  {
   "cell_type": "code",
   "execution_count": 2964,
   "metadata": {},
   "outputs": [
    {
     "data": {
      "text/plain": [
       "array([[0.18200298]])"
      ]
     },
     "execution_count": 2964,
     "metadata": {},
     "output_type": "execute_result"
    }
   ],
   "source": [
    "kf.observation_covariance"
   ]
  },
  {
   "cell_type": "code",
   "execution_count": 2965,
   "metadata": {},
   "outputs": [
    {
     "data": {
      "text/plain": [
       "2"
      ]
     },
     "execution_count": 2965,
     "metadata": {},
     "output_type": "execute_result"
    }
   ],
   "source": [
    "weights_kf_ma.mask.sum()"
   ]
  },
  {
   "cell_type": "code",
   "execution_count": 2966,
   "metadata": {},
   "outputs": [
    {
     "data": {
      "text/plain": [
       "array([[1.]])"
      ]
     },
     "execution_count": 2966,
     "metadata": {},
     "output_type": "execute_result"
    }
   ],
   "source": [
    "kf.transition_matrices"
   ]
  },
  {
   "cell_type": "code",
   "execution_count": 2967,
   "metadata": {},
   "outputs": [
    {
     "data": {
      "text/plain": [
       "4"
      ]
     },
     "execution_count": 2967,
     "metadata": {},
     "output_type": "execute_result"
    }
   ],
   "source": [
    "len(kf_times)"
   ]
  },
  {
   "cell_type": "code",
   "execution_count": 2968,
   "metadata": {},
   "outputs": [
    {
     "data": {
      "image/png": "[encoded data removed]",
      "text/plain": [
       "<Figure size 432x288 with 1 Axes>"
      ]
     },
     "metadata": {},
     "output_type": "display_data"
    }
   ],
   "source": [
    "x_ = time\n",
    "plt.plot(kf_times,a)\n",
    "plt.fill_between(kf_times,mu-std,mu+std,alpha=.3)\n",
    "plt.scatter(x_,weights,alpha=.6,c=clrs[0])\n",
    "\n",
    "plt.xticks(rotation=45)\n",
    "myFmt = mdates.DateFormatter('%m-%d %H:%M')\n",
    "plt.gca().xaxis.set_major_formatter(myFmt)\n",
    "hlc = mdates.HourLocator(byhour=range(0,24,6))\n",
    "hlc.MAXTICKS = 6000\n",
    "plt.gca().xaxis.set_major_locator(hlc)   #to get a tick every 15 minutes\n",
    "plt.ylabel(\"Weight\")\n",
    "plt.xlabel(\"Time\")\n",
    "seaborn.despine()"
   ]
  },
  {
   "cell_type": "code",
   "execution_count": 2969,
   "metadata": {},
   "outputs": [
    {
     "name": "stdout",
     "output_type": "stream",
     "text": [
      "27.016553419596228 27.007590000000004\n"
     ]
    }
   ],
   "source": [
    "print(mu[-1],weights[-1])"
   ]
  },
  {
   "cell_type": "code",
   "execution_count": 2970,
   "metadata": {},
   "outputs": [
    {
     "data": {
      "image/png": "[encoded data removed]",
      "text/plain": [
       "<Figure size 432x288 with 1 Axes>"
      ]
     },
     "metadata": {},
     "output_type": "display_data"
    }
   ],
   "source": [
    "x_ = time\n",
    "plt.plot(kf_times,a)\n",
    "plt.fill_between(kf_times,mu-std,mu+std,alpha=.3)\n",
    "plt.scatter(x_,weights,alpha=.6,c=clrs[0])\n",
    "\n",
    "plt.xticks(rotation=45)\n",
    "myFmt = mdates.DateFormatter('%m-%d %H:%M')\n",
    "plt.gca().xaxis.set_major_formatter(myFmt)\n",
    "hlc = mdates.HourLocator(byhour=range(0,24,4))\n",
    "hlc.MAXTICKS = 6000\n",
    "plt.gca().xaxis.set_major_locator(hlc)   #to get a tick every 15 minutes\n",
    "plt.xlabel(\"Weight\")\n",
    "plt.ylabel(\"Time\")\n",
    "seaborn.despine()"
   ]
  },
  {
   "cell_type": "code",
   "execution_count": null,
   "metadata": {},
   "outputs": [],
   "source": []
  },
  {
   "cell_type": "code",
   "execution_count": 2971,
   "metadata": {},
   "outputs": [
    {
     "data": {
      "text/plain": [
       "<numpy.flatiter at 0x23d7100ad30>"
      ]
     },
     "execution_count": 2971,
     "metadata": {},
     "output_type": "execute_result"
    }
   ],
   "source": [
    "b.flat"
   ]
  },
  {
   "cell_type": "code",
   "execution_count": 2850,
   "metadata": {},
   "outputs": [],
   "source": [
    "import re"
   ]
  },
  {
   "cell_type": "code",
   "execution_count": 2851,
   "metadata": {},
   "outputs": [],
   "source": [
    "path = 'C:/Users/takam/Desktop/pyhomecage/setups/loggers/setup_alpha2_-2021-04-12-144244.txt'\n",
    "with open(path,'r') as f:\n",
    "    dat = f.readlines()"
   ]
  },
  {
   "cell_type": "code",
   "execution_count": 2852,
   "metadata": {},
   "outputs": [],
   "source": [
    "dat2 = [float(re.findall('Wbase:(.*)_',i)[0]) for i in dat if re.findall('Wbase:(.*)_',i)]"
   ]
  },
  {
   "cell_type": "code",
   "execution_count": 2853,
   "metadata": {},
   "outputs": [
    {
     "data": {
      "text/plain": [
       "489904"
      ]
     },
     "execution_count": 2853,
     "metadata": {},
     "output_type": "execute_result"
    }
   ],
   "source": [
    "len(dat2)"
   ]
  },
  {
   "cell_type": "code",
   "execution_count": 2854,
   "metadata": {},
   "outputs": [
    {
     "data": {
      "text/plain": [
       "2.430686693285962"
      ]
     },
     "execution_count": 2854,
     "metadata": {},
     "output_type": "execute_result"
    }
   ],
   "source": [
    "np.var(dat2[:2000])"
   ]
  },
  {
   "cell_type": "code",
   "execution_count": 2855,
   "metadata": {},
   "outputs": [
    {
     "data": {
      "text/plain": [
       "4.522011488986914"
      ]
     },
     "execution_count": 2855,
     "metadata": {},
     "output_type": "execute_result"
    }
   ],
   "source": [
    "np.var(dat2[1000:2000])"
   ]
  },
  {
   "cell_type": "code",
   "execution_count": 2856,
   "metadata": {},
   "outputs": [
    {
     "data": {
      "text/plain": [
       "489.904"
      ]
     },
     "execution_count": 2856,
     "metadata": {},
     "output_type": "execute_result"
    }
   ],
   "source": [
    "len(dat2)/1000."
   ]
  },
  {
   "cell_type": "code",
   "execution_count": 2857,
   "metadata": {},
   "outputs": [],
   "source": [
    "varincs = []\n",
    "for i in range(100,400):\n",
    "    varincs.append(np.var(dat2[i*1000:(1+i)*1000]))"
   ]
  },
  {
   "cell_type": "code",
   "execution_count": 2451,
   "metadata": {},
   "outputs": [
    {
     "name": "stderr",
     "output_type": "stream",
     "text": [
      "C:\\Users\\takam\\anaconda3\\lib\\site-packages\\seaborn\\distributions.py:2551: FutureWarning: `distplot` is a deprecated function and will be removed in a future version. Please adapt your code to use either `displot` (a figure-level function with similar flexibility) or `histplot` (an axes-level function for histograms).\n",
      "  warnings.warn(msg, FutureWarning)\n"
     ]
    },
    {
     "data": {
      "text/plain": [
       "<AxesSubplot:>"
      ]
     },
     "execution_count": 2451,
     "metadata": {},
     "output_type": "execute_result"
    },
    {
     "data": {
      "image/png": "[encoded data removed]",
      "text/plain": [
       "<Figure size 432x288 with 1 Axes>"
      ]
     },
     "metadata": {},
     "output_type": "display_data"
    }
   ],
   "source": [
    "seaborn.distplot(varincs,kde=0)"
   ]
  },
  {
   "cell_type": "code",
   "execution_count": null,
   "metadata": {},
   "outputs": [],
   "source": []
  }
 ],
 "metadata": {
  "kernelspec": {
   "display_name": "Python 3",
   "language": "python",
   "name": "python3"
  },
  "language_info": {
   "codemirror_mode": {
    "name": "ipython",
    "version": 3
   },
   "file_extension": ".py",
   "mimetype": "text/x-python",
   "name": "python",
   "nbconvert_exporter": "python",
   "pygments_lexer": "ipython3",
   "version": "3.8.5"
  }
 },
 "nbformat": 4,
 "nbformat_minor": 4
}
