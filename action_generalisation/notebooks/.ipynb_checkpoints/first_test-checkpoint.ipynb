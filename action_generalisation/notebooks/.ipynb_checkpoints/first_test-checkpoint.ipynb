{
 "cells": [
  {
   "cell_type": "code",
   "execution_count": 11,
   "metadata": {},
   "outputs": [],
   "source": [
    "%matplotlib inline\n",
    "\n",
    "import numpy as np\n",
    "import os\n",
    "import sys\n",
    "import re\n",
    "import matplotlib.pyplot as plt\n",
    "import itertools\n",
    "sys.path.append(\"/Users/yves/Documents/Code/structural_knowledge/action_generalisation/\")\n",
    "\n",
    "import torch as tf"
   ]
  },
  {
   "cell_type": "code",
   "execution_count": 770,
   "metadata": {},
   "outputs": [],
   "source": [
    "\n",
    "def make_matrix_from(maze):\n",
    "    \n",
    "    def in_maze(s):\n",
    "        return s[0] >= 0 and s[0] < maze.shape[0] and s[1] >= 0 and s[1] < maze.shape[1]\n",
    "\n",
    "    def is_free(s):\n",
    "        return maze[s[0],s[1]] == 1\n",
    "\n",
    "    def valid_state(s):\n",
    "        return in_maze(s) and is_free(s)\n",
    "    \n",
    "    states = [np.array(s) for s in itertools.product(range(maze.shape[0]), range(maze.shape[1])) if maze[s[0], s[1]] == 1]\n",
    "    Ta = np.eye(len(states))\n",
    "    idx = np.zeros(maze.shape, dtype=np.int)\n",
    "    c = 0\n",
    "    for i in range(maze.shape[0]):\n",
    "        for j in range(maze.shape[1]):\n",
    "            if maze[i, j] == 0:\n",
    "                continue\n",
    "            idx[i, j] = c\n",
    "            c += 1\n",
    "    \n",
    "    for i, state in enumerate(states):\n",
    "        possible_next_states = [state + d for d in np.array([[1,0],[-1,0],[0,1],[0,-1]])]\n",
    "        filtered = list(filter(valid_state, possible_next_states))\n",
    "        for f in filtered:\n",
    "            Ta[i, idx[f[0], f[1]]] = 1\n",
    "            Ta[idx[f[0], f[1]], i] = 1\n",
    "    return Ta, idx\n"
   ]
  },
  {
   "cell_type": "code",
   "execution_count": 771,
   "metadata": {},
   "outputs": [],
   "source": [
    "import env_gen"
   ]
  },
  {
   "cell_type": "code",
   "execution_count": 772,
   "metadata": {},
   "outputs": [],
   "source": [
    "Nx = 10\n",
    "Ny = 10\n",
    "M = env_gen.generate_random_connected_maze(Nx,Ny,100)"
   ]
  },
  {
   "cell_type": "code",
   "execution_count": 773,
   "metadata": {},
   "outputs": [],
   "source": [
    "#M = np.zeros([10,100])\n",
    "#M[0] = 1"
   ]
  },
  {
   "cell_type": "code",
   "execution_count": 774,
   "metadata": {},
   "outputs": [],
   "source": [
    "T,idx = make_matrix_from(M)\n",
    "T[np.diag_indices_from(T)] = 0\n",
    "T = T/np.sum(T,axis=1)[None,:]"
   ]
  },
  {
   "cell_type": "code",
   "execution_count": 775,
   "metadata": {},
   "outputs": [],
   "source": [
    "eigenval,v = np.linalg.eig(T)"
   ]
  },
  {
   "cell_type": "code",
   "execution_count": 776,
   "metadata": {},
   "outputs": [],
   "source": [
    "eigenval,v = np.linalg.eig(T)\n",
    "v = v[:,np.argsort((eigenval))[::-1]]\n",
    "eigenval = eigenval[np.argsort((eigenval))[::-1]]"
   ]
  },
  {
   "cell_type": "code",
   "execution_count": 777,
   "metadata": {},
   "outputs": [],
   "source": [
    "gamma = 0.9\n",
    "SR = np.linalg.inv(np.eye(T.shape[0]) - gamma * T)\n",
    "\n",
    "\n",
    "eigenval,v = np.linalg.eig(SR)\n",
    "v = v[:,np.argsort((eigenval))[::-1]]\n",
    "eigenval = eigenval[np.argsort((eigenval))[::-1]]"
   ]
  },
  {
   "cell_type": "code",
   "execution_count": 795,
   "metadata": {},
   "outputs": [],
   "source": [
    "ev_draw = np.zeros_like(M)\n",
    "Nx,Ny = M.shape\n",
    "for i in range(Nx):\n",
    "    for j in range(Ny):\n",
    "        #ix = np.where(idx=)\n",
    "        ev_draw[i,j] = v[:,2][idx[i,j]]"
   ]
  },
  {
   "cell_type": "code",
   "execution_count": 796,
   "metadata": {},
   "outputs": [],
   "source": [
    "fin = np.ma.masked_where(idx==0,ev_draw)"
   ]
  },
  {
   "cell_type": "code",
   "execution_count": 797,
   "metadata": {},
   "outputs": [
    {
     "data": {
      "text/plain": [
       "<matplotlib.colorbar.Colorbar at 0x7f9c22ae85b0>"
      ]
     },
     "execution_count": 797,
     "metadata": {},
     "output_type": "execute_result"
    },
    {
     "data": {
      "image/png": "[encoded data removed]",
      "text/plain": [
       "<Figure size 432x288 with 2 Axes>"
      ]
     },
     "metadata": {
      "needs_background": "light"
     },
     "output_type": "display_data"
    }
   ],
   "source": [
    "fin = np.ma.masked_where(idx==0,ev_draw)\n",
    "mx = mn = np.max(np.abs(fin))*1.1\n",
    "plt.imshow(fin,vmax=mx,vmin=-mx,cmap='RdBu_r')\n",
    "plt.colorbar()"
   ]
  },
  {
   "cell_type": "code",
   "execution_count": 787,
   "metadata": {},
   "outputs": [
    {
     "data": {
      "text/plain": [
       "<matplotlib.colorbar.Colorbar at 0x7f9c18f25310>"
      ]
     },
     "execution_count": 787,
     "metadata": {},
     "output_type": "execute_result"
    },
    {
     "data": {
      "image/png": "[encoded data removed]",
      "text/plain": [
       "<Figure size 432x288 with 2 Axes>"
      ]
     },
     "metadata": {
      "needs_background": "light"
     },
     "output_type": "display_data"
    }
   ],
   "source": [
    "plt.imshow(M)\n",
    "plt.colorbar()"
   ]
  },
  {
   "cell_type": "code",
   "execution_count": 798,
   "metadata": {},
   "outputs": [],
   "source": [
    "lamda = .99\n",
    "alpha=.5"
   ]
  },
  {
   "cell_type": "code",
   "execution_count": null,
   "metadata": {},
   "outputs": [],
   "source": []
  },
  {
   "cell_type": "code",
   "execution_count": 799,
   "metadata": {},
   "outputs": [],
   "source": [
    "pos = 10  #current position\n",
    "\n",
    "e = np.zeros(len(SR)) +1 #eligibility trace\n",
    "rg = np.arange(len(SR))  #\n",
    "walk_path = []\n",
    "\n",
    "SRTD = np.zeros_like(SR)\n",
    "\n",
    "for i in range(100000):\n",
    "    \n",
    "    #updates eligibility traces\n",
    "    #e[pos] = lamda*gamma*e[pos] + 1\n",
    "    #e[np.isin(rg,pos)==False] = lamda*gamma*e[pos]  #gives boolean vetor true at current location\n",
    "    #e \n",
    "    #available options\n",
    "    options = np.where(T[:,pos])[0]\n",
    "\n",
    "    newP = np.random.choice(options,p=T[:,pos][options])\n",
    "    walk_path.append(newP)\n",
    "    zrs = np.zeros(len(SR))\n",
    "    zrs[pos] = 1.\n",
    "    SRTD[pos,:] = SRTD[pos,:] + alpha*(zrs + gamma*SRTD[newP,:] - SRTD[pos,:])*e\n",
    "    SRTD = (SRTD + SRTD.T)/2.\n",
    "    pos = newP.copy()"
   ]
  },
  {
   "cell_type": "code",
   "execution_count": 800,
   "metadata": {},
   "outputs": [],
   "source": [
    "\n",
    "\n",
    "eigenval,v = np.linalg.eig(SRTD)\n",
    "v = v[:,np.argsort((eigenval))[::-1]]\n",
    "eigenval = eigenval[np.argsort((eigenval))[::-1]]"
   ]
  },
  {
   "cell_type": "code",
   "execution_count": 801,
   "metadata": {},
   "outputs": [],
   "source": [
    "ev_draw = np.zeros_like(M)\n",
    "Nx,Ny = M.shape\n",
    "for i in range(Nx):\n",
    "    for j in range(Ny):\n",
    "        #ix = np.where(idx=)\n",
    "        ev_draw[i,j] = v[:,2][idx[i,j]]"
   ]
  },
  {
   "cell_type": "code",
   "execution_count": 802,
   "metadata": {},
   "outputs": [
    {
     "data": {
      "text/plain": [
       "<matplotlib.colorbar.Colorbar at 0x7f9c19010c40>"
      ]
     },
     "execution_count": 802,
     "metadata": {},
     "output_type": "execute_result"
    },
    {
     "data": {
      "image/png": "[encoded data removed]",
      "text/plain": [
       "<Figure size 432x288 with 2 Axes>"
      ]
     },
     "metadata": {
      "needs_background": "light"
     },
     "output_type": "display_data"
    }
   ],
   "source": [
    "fin = np.ma.masked_where(idx==0,ev_draw)\n",
    "mx = mn = np.max(np.abs(fin))*1.1\n",
    "plt.imshow(fin,vmax=mx,vmin=-mx,cmap='RdBu_r')\n",
    "plt.colorbar()"
   ]
  },
  {
   "cell_type": "code",
   "execution_count": null,
   "metadata": {},
   "outputs": [],
   "source": []
  }
 ],
 "metadata": {
  "kernelspec": {
   "display_name": "Python [conda env:action_generalisation]",
   "language": "python",
   "name": "conda-env-action_generalisation-py"
  },
  "language_info": {
   "codemirror_mode": {
    "name": "ipython",
    "version": 3
   },
   "file_extension": ".py",
   "mimetype": "text/x-python",
   "name": "python",
   "nbconvert_exporter": "python",
   "pygments_lexer": "ipython3",
   "version": "3.8.2"
  }
 },
 "nbformat": 4,
 "nbformat_minor": 2
}
