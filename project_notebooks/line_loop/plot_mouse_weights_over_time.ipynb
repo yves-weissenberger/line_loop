{
 "cells": [
  {
   "cell_type": "code",
   "execution_count": 1793,
   "metadata": {},
   "outputs": [],
   "source": [
    "%matplotlib inline\n",
    "import matplotlib.pyplot as plt\n",
    "import numpy as np\n",
    "import os\n",
    "import pandas as pd\n",
    "from datetime import timedelta\n",
    "from datetime import datetime\n",
    "import matplotlib.dates as mdates\n",
    "\n",
    "import seaborn\n",
    "seaborn.set(font_scale=1.5,style='ticks')\n",
    "clrs = seaborn.color_palette()\n"
   ]
  },
  {
   "cell_type": "code",
   "execution_count": 1821,
   "metadata": {},
   "outputs": [],
   "source": [
    "ROOT_dir = 'C:/Users/takam/Desktop/pyhomecage/mice/'"
   ]
  },
  {
   "cell_type": "code",
   "execution_count": 1822,
   "metadata": {},
   "outputs": [],
   "source": [
    "mouse_fs = [os.path.join(ROOT_dir,i) for i in os.listdir(ROOT_dir) if 'mice' not in i]"
   ]
  },
  {
   "cell_type": "code",
   "execution_count": null,
   "metadata": {},
   "outputs": [],
   "source": []
  },
  {
   "cell_type": "code",
   "execution_count": 1867,
   "metadata": {},
   "outputs": [],
   "source": [
    "mix = 2\n",
    "df = pd.read_csv(mouse_fs[mix])"
   ]
  },
  {
   "cell_type": "code",
   "execution_count": 1868,
   "metadata": {},
   "outputs": [],
   "source": [
    "now = datetime.now()"
   ]
  },
  {
   "cell_type": "code",
   "execution_count": 1869,
   "metadata": {},
   "outputs": [],
   "source": [
    "df['entry_time']= pd.to_datetime(df['entry_time'])\n"
   ]
  },
  {
   "cell_type": "code",
   "execution_count": 1870,
   "metadata": {},
   "outputs": [],
   "source": [
    "n_days_back = 1\n",
    "\n",
    "weights = df[df['entry_time']>(now-timedelta(days=n_days_back))]['weight'].values\n",
    "time = df[df['entry_time']>(now-timedelta(days=n_days_back))]['entry_time'].values"
   ]
  },
  {
   "cell_type": "code",
   "execution_count": 1871,
   "metadata": {},
   "outputs": [
    {
     "data": {
      "text/plain": [
       "8"
      ]
     },
     "execution_count": 1871,
     "metadata": {},
     "output_type": "execute_result"
    }
   ],
   "source": [
    "variables = df[df['entry_time']>(now-timedelta(days=n_days_back))]['Variables'].values\n",
    "sum([int(eval(i)['n_rewards']) for i in variables if int(eval(i)['n_rewards'])<200])"
   ]
  },
  {
   "cell_type": "code",
   "execution_count": 1872,
   "metadata": {},
   "outputs": [
    {
     "data": {
      "text/plain": [
       "[4, 2, 2]"
      ]
     },
     "execution_count": 1872,
     "metadata": {},
     "output_type": "execute_result"
    }
   ],
   "source": [
    "[int(eval(i)['n_rewards']) for i in variables if int(eval(i)['n_rewards'])<200]"
   ]
  },
  {
   "cell_type": "code",
   "execution_count": 1873,
   "metadata": {},
   "outputs": [
    {
     "data": {
      "text/plain": [
       "datetime.datetime(2021, 4, 11, 12, 9, 34, 228278)"
      ]
     },
     "execution_count": 1873,
     "metadata": {},
     "output_type": "execute_result"
    }
   ],
   "source": [
    "(now-timedelta(days=n_days_back))"
   ]
  },
  {
   "cell_type": "code",
   "execution_count": 1874,
   "metadata": {},
   "outputs": [
    {
     "data": {
      "image/png": "[encoded data removed]",
      "text/plain": [
       "<Figure size 432x288 with 1 Axes>"
      ]
     },
     "metadata": {},
     "output_type": "display_data"
    }
   ],
   "source": [
    "plt.plot(time,weights,marker='o')\n",
    "plt.xticks(rotation=45)\n",
    "myFmt = mdates.DateFormatter('%m-%d %H:%M')\n",
    "plt.gca().xaxis.set_major_formatter(myFmt)\n",
    "hlc = mdates.HourLocator(byhour=range(0,24,4))\n",
    "hlc.MAXTICKS = 6000\n",
    "plt.gca().xaxis.set_major_locator(hlc)   #to get a tick every 15 minutes\n",
    "\n",
    "\n",
    "seaborn.despine()"
   ]
  },
  {
   "cell_type": "code",
   "execution_count": 1875,
   "metadata": {},
   "outputs": [],
   "source": [
    "import pykalman"
   ]
  },
  {
   "cell_type": "code",
   "execution_count": null,
   "metadata": {},
   "outputs": [],
   "source": []
  },
  {
   "cell_type": "code",
   "execution_count": 1876,
   "metadata": {},
   "outputs": [],
   "source": [
    "t_ = (time[-1] -time[0])\n",
    "t_ = t_.astype('timedelta64[h]')\n",
    "n_hours = 1+ t_.item().total_seconds()/3600."
   ]
  },
  {
   "cell_type": "code",
   "execution_count": 1877,
   "metadata": {},
   "outputs": [
    {
     "data": {
      "text/plain": [
       "datetime.datetime(2021, 4, 8, 18, 19, 31)"
      ]
     },
     "execution_count": 1877,
     "metadata": {},
     "output_type": "execute_result"
    }
   ],
   "source": [
    "start_time"
   ]
  },
  {
   "cell_type": "code",
   "execution_count": 1878,
   "metadata": {},
   "outputs": [
    {
     "data": {
      "text/plain": [
       "datetime.datetime(2021, 4, 12, 11, 30, 41)"
      ]
     },
     "execution_count": 1878,
     "metadata": {},
     "output_type": "execute_result"
    }
   ],
   "source": [
    "tm"
   ]
  },
  {
   "cell_type": "code",
   "execution_count": 1879,
   "metadata": {},
   "outputs": [],
   "source": [
    "timestep = 30 #timestep size in minutes\n",
    "#start_time = time[0]\n",
    "start_time = datetime.utcfromtimestamp(time[0].tolist()/1e9)\n",
    "n_timesteps = int((1+n_hours)*(60/timestep))\n",
    "weights_kf = np.zeros(n_timesteps) + np.nan\n",
    "kf_times = [start_time]\n",
    "for t_ in range(1,n_timesteps):\n",
    "    tdt = start_time + timedelta(minutes=timestep*t_)\n",
    "    weights_at_t = []\n",
    "    for w,tm in zip(weights,time):\n",
    "        tm = datetime.utcfromtimestamp(tm.tolist()/1e9)\n",
    "        if abs((tm-tdt).total_seconds())<(timestep*60):\n",
    "            #print(tm,tdt,(tm-tdt).total_seconds())\n",
    "            weights_at_t.append(w)\n",
    "            \n",
    "            \n",
    "    if weights_at_t:\n",
    "        weights_kf[t_] = np.mean(weights_at_t)\n",
    "    kf_times.append(tdt)\n",
    "        "
   ]
  },
  {
   "cell_type": "code",
   "execution_count": 1880,
   "metadata": {},
   "outputs": [],
   "source": [
    "weights_kf_ma = np.ma.masked_invalid(weights_kf)"
   ]
  },
  {
   "cell_type": "code",
   "execution_count": 1881,
   "metadata": {},
   "outputs": [],
   "source": [
    "kf = pykalman.KalmanFilter(initial_state_mean=weights[0],observation_covariance=[2])"
   ]
  },
  {
   "cell_type": "code",
   "execution_count": null,
   "metadata": {},
   "outputs": [],
   "source": []
  },
  {
   "cell_type": "code",
   "execution_count": 1882,
   "metadata": {},
   "outputs": [],
   "source": [
    "em_vars = ['transition_covariance',\n",
    "           'initial_state_mean', \n",
    "           'observation_covariance',\n",
    "           'initial_state_covariance']\n",
    "kf.em(weights_kf_ma,n_iter=5,em_vars=em_vars)\n",
    "a,b = kf.smooth(weights_kf_ma,)\n",
    "mu = a.flatten()\n",
    "std = np.sqrt(b.flatten())"
   ]
  },
  {
   "cell_type": "code",
   "execution_count": 1883,
   "metadata": {},
   "outputs": [
    {
     "data": {
      "text/plain": [
       "array([[0.49599614]])"
      ]
     },
     "execution_count": 1883,
     "metadata": {},
     "output_type": "execute_result"
    }
   ],
   "source": [
    "kf.transition_covariance"
   ]
  },
  {
   "cell_type": "code",
   "execution_count": 1884,
   "metadata": {},
   "outputs": [
    {
     "data": {
      "text/plain": [
       "array([[0.22917384]])"
      ]
     },
     "execution_count": 1884,
     "metadata": {},
     "output_type": "execute_result"
    }
   ],
   "source": [
    "kf.observation_covariance"
   ]
  },
  {
   "cell_type": "code",
   "execution_count": 1885,
   "metadata": {},
   "outputs": [
    {
     "data": {
      "text/plain": [
       "3"
      ]
     },
     "execution_count": 1885,
     "metadata": {},
     "output_type": "execute_result"
    }
   ],
   "source": [
    "weights_kf_ma.mask.sum()"
   ]
  },
  {
   "cell_type": "code",
   "execution_count": 1886,
   "metadata": {},
   "outputs": [
    {
     "data": {
      "text/plain": [
       "array([[1.]])"
      ]
     },
     "execution_count": 1886,
     "metadata": {},
     "output_type": "execute_result"
    }
   ],
   "source": [
    "kf.transition_matrices"
   ]
  },
  {
   "cell_type": "code",
   "execution_count": 1887,
   "metadata": {},
   "outputs": [
    {
     "data": {
      "text/plain": [
       "4"
      ]
     },
     "execution_count": 1887,
     "metadata": {},
     "output_type": "execute_result"
    }
   ],
   "source": [
    "len(kf_times)"
   ]
  },
  {
   "cell_type": "code",
   "execution_count": 1888,
   "metadata": {},
   "outputs": [
    {
     "data": {
      "text/plain": [
       "[<matplotlib.lines.Line2D at 0x23d7055c7c0>]"
      ]
     },
     "execution_count": 1888,
     "metadata": {},
     "output_type": "execute_result"
    },
    {
     "data": {
      "image/png": "[encoded data removed]",
      "text/plain": [
       "<Figure size 432x288 with 1 Axes>"
      ]
     },
     "metadata": {},
     "output_type": "display_data"
    }
   ],
   "source": [
    "plt.plot(mu)"
   ]
  },
  {
   "cell_type": "code",
   "execution_count": 1889,
   "metadata": {},
   "outputs": [
    {
     "data": {
      "image/png": "[encoded data removed]",
      "text/plain": [
       "<Figure size 432x288 with 1 Axes>"
      ]
     },
     "metadata": {},
     "output_type": "display_data"
    }
   ],
   "source": [
    "x_ = time\n",
    "plt.plot(kf_times,a)\n",
    "plt.fill_between(kf_times,mu-std,mu+std,alpha=.3)\n",
    "plt.scatter(x_,weights,alpha=.6,c=clrs[0])\n",
    "\n",
    "plt.xticks(rotation=45)\n",
    "myFmt = mdates.DateFormatter('%m-%d %H:%M')\n",
    "plt.gca().xaxis.set_major_formatter(myFmt)\n",
    "hlc = mdates.HourLocator(byhour=range(0,24,6))\n",
    "hlc.MAXTICKS = 6000\n",
    "plt.gca().xaxis.set_major_locator(hlc)   #to get a tick every 15 minutes\n",
    "plt.xlabel(\"Weight\")\n",
    "plt.ylabel(\"Time\")\n",
    "seaborn.despine()"
   ]
  },
  {
   "cell_type": "code",
   "execution_count": 1890,
   "metadata": {},
   "outputs": [
    {
     "name": "stdout",
     "output_type": "stream",
     "text": [
      "27.160327701040583 26.71098\n"
     ]
    }
   ],
   "source": [
    "print(mu[-1],weights[-1])"
   ]
  },
  {
   "cell_type": "code",
   "execution_count": 1891,
   "metadata": {},
   "outputs": [
    {
     "data": {
      "image/png": "[encoded data removed]",
      "text/plain": [
       "<Figure size 432x288 with 1 Axes>"
      ]
     },
     "metadata": {},
     "output_type": "display_data"
    }
   ],
   "source": [
    "x_ = time\n",
    "plt.plot(kf_times,a)\n",
    "plt.fill_between(kf_times,mu-std,mu+std,alpha=.3)\n",
    "plt.scatter(x_,weights,alpha=.6,c=clrs[0])\n",
    "\n",
    "plt.xticks(rotation=45)\n",
    "myFmt = mdates.DateFormatter('%m-%d %H:%M')\n",
    "plt.gca().xaxis.set_major_formatter(myFmt)\n",
    "hlc = mdates.HourLocator(byhour=range(0,24,4))\n",
    "hlc.MAXTICKS = 6000\n",
    "plt.gca().xaxis.set_major_locator(hlc)   #to get a tick every 15 minutes\n",
    "plt.xlabel(\"Weight\")\n",
    "plt.ylabel(\"Time\")\n",
    "seaborn.despine()"
   ]
  },
  {
   "cell_type": "code",
   "execution_count": null,
   "metadata": {},
   "outputs": [],
   "source": []
  },
  {
   "cell_type": "code",
   "execution_count": 1892,
   "metadata": {},
   "outputs": [
    {
     "data": {
      "text/plain": [
       "<numpy.flatiter at 0x23d710116d0>"
      ]
     },
     "execution_count": 1892,
     "metadata": {},
     "output_type": "execute_result"
    }
   ],
   "source": [
    "b.flat"
   ]
  },
  {
   "cell_type": "code",
   "execution_count": null,
   "metadata": {},
   "outputs": [],
   "source": []
  }
 ],
 "metadata": {
  "kernelspec": {
   "display_name": "Python 3",
   "language": "python",
   "name": "python3"
  },
  "language_info": {
   "codemirror_mode": {
    "name": "ipython",
    "version": 3
   },
   "file_extension": ".py",
   "mimetype": "text/x-python",
   "name": "python",
   "nbconvert_exporter": "python",
   "pygments_lexer": "ipython3",
   "version": "3.8.5"
  }
 },
 "nbformat": 4,
 "nbformat_minor": 4
}
