{
 "cells": [
  {
   "cell_type": "code",
   "execution_count": 930,
   "metadata": {},
   "outputs": [],
   "source": [
    "%matplotlib inline\n",
    "\n",
    "import numpy as np\n",
    "import os\n",
    "import sys\n",
    "import re\n",
    "import matplotlib.pyplot as plt\n",
    "import itertools\n",
    "sys.path.append(\"/Users/yves/Documents/Code/structural_knowledge/action_generalisation/\")\n",
    "\n",
    "import torch as tf"
   ]
  },
  {
   "cell_type": "code",
   "execution_count": 931,
   "metadata": {},
   "outputs": [],
   "source": [
    "\n",
    "def make_matrix_from(maze):\n",
    "    \n",
    "    def in_maze(s):\n",
    "        return s[0] >= 0 and s[0] < maze.shape[0] and s[1] >= 0 and s[1] < maze.shape[1]\n",
    "\n",
    "    def is_free(s):\n",
    "        return maze[s[0],s[1]] == 1\n",
    "\n",
    "    def valid_state(s):\n",
    "        return in_maze(s) and is_free(s)\n",
    "    \n",
    "    states = [np.array(s) for s in itertools.product(range(maze.shape[0]), range(maze.shape[1])) if maze[s[0], s[1]] == 1]\n",
    "    Ta = np.eye(len(states))\n",
    "    idx = np.zeros(maze.shape, dtype=np.int)\n",
    "    c = 0\n",
    "    for i in range(maze.shape[0]):\n",
    "        for j in range(maze.shape[1]):\n",
    "            if maze[i, j] == 0:\n",
    "                continue\n",
    "            idx[i, j] = c\n",
    "            c += 1\n",
    "    \n",
    "    for i, state in enumerate(states):\n",
    "        possible_next_states = [state + d for d in np.array([[1,0],[-1,0],[0,1],[0,-1]])]\n",
    "        filtered = list(filter(valid_state, possible_next_states))\n",
    "        for f in filtered:\n",
    "            Ta[i, idx[f[0], f[1]]] = 1\n",
    "            Ta[idx[f[0], f[1]], i] = 1\n",
    "    return Ta, idx\n"
   ]
  },
  {
   "cell_type": "code",
   "execution_count": 938,
   "metadata": {},
   "outputs": [],
   "source": [
    "def eig_sort(M):\n",
    "    eigenval,v = np.linalg.eig(M)\n",
    "    v = v[:,np.argsort((eigenval))[::-1]]\n",
    "    eigenval = eigenval[np.argsort((eigenval))[::-1]]\n",
    "    return eigenval,v"
   ]
  },
  {
   "cell_type": "code",
   "execution_count": 939,
   "metadata": {},
   "outputs": [],
   "source": [
    "import env_gen"
   ]
  },
  {
   "cell_type": "code",
   "execution_count": 940,
   "metadata": {},
   "outputs": [],
   "source": [
    "Nx = 10\n",
    "Ny = 10\n",
    "M = env_gen.generate_random_connected_maze(Nx,Ny,100)"
   ]
  },
  {
   "cell_type": "code",
   "execution_count": 941,
   "metadata": {},
   "outputs": [],
   "source": [
    "#M = np.zeros([10,100])\n",
    "#M[0] = 1"
   ]
  },
  {
   "cell_type": "code",
   "execution_count": 942,
   "metadata": {},
   "outputs": [],
   "source": [
    "M = np.ones([Nx,Ny])"
   ]
  },
  {
   "cell_type": "code",
   "execution_count": 943,
   "metadata": {},
   "outputs": [],
   "source": [
    "T,idx = make_matrix_from(M)\n",
    "T[np.diag_indices_from(T)] = 0\n",
    "T = T/np.sum(T,axis=1)[None,:]"
   ]
  },
  {
   "cell_type": "code",
   "execution_count": 944,
   "metadata": {},
   "outputs": [],
   "source": [
    "eigenval,v = np.linalg.eig(T)"
   ]
  },
  {
   "cell_type": "code",
   "execution_count": 948,
   "metadata": {},
   "outputs": [
    {
     "data": {
      "text/plain": [
       "<matplotlib.image.AxesImage at 0x7f9c1af67b50>"
      ]
     },
     "execution_count": 948,
     "metadata": {},
     "output_type": "execute_result"
    },
    {
     "data": {
      "image/png": "[encoded data removed]",
      "text/plain": [
       "<Figure size 432x288 with 1 Axes>"
      ]
     },
     "metadata": {
      "needs_background": "light"
     },
     "output_type": "display_data"
    }
   ],
   "source": [
    "plt.imshow(T)"
   ]
  },
  {
   "cell_type": "code",
   "execution_count": 945,
   "metadata": {},
   "outputs": [
    {
     "ename": "NameError",
     "evalue": "name 'L2' is not defined",
     "output_type": "error",
     "traceback": [
      "\u001b[0;31m---------------------------------------------------------------------------\u001b[0m",
      "\u001b[0;31mNameError\u001b[0m                                 Traceback (most recent call last)",
      "\u001b[0;32m<ipython-input-945-14d929177044>\u001b[0m in \u001b[0;36m<module>\u001b[0;34m\u001b[0m\n\u001b[0;32m----> 1\u001b[0;31m \u001b[0me2\u001b[0m\u001b[0;34m,\u001b[0m\u001b[0mV2\u001b[0m \u001b[0;34m=\u001b[0m \u001b[0meig_sort\u001b[0m\u001b[0;34m(\u001b[0m\u001b[0mL2\u001b[0m\u001b[0;34m)\u001b[0m\u001b[0;34m\u001b[0m\u001b[0;34m\u001b[0m\u001b[0m\n\u001b[0m",
      "\u001b[0;31mNameError\u001b[0m: name 'L2' is not defined"
     ]
    }
   ],
   "source": [
    "e2,V2 = eig_sort(L2)\n"
   ]
  },
  {
   "cell_type": "code",
   "execution_count": 949,
   "metadata": {},
   "outputs": [],
   "source": [
    "eigenval,v = np.linalg.eig(T)\n",
    "v = v[:,np.argsort((eigenval))[::-1]]\n",
    "eigenval = eigenval[np.argsort((eigenval))[::-1]]"
   ]
  },
  {
   "cell_type": "code",
   "execution_count": 950,
   "metadata": {},
   "outputs": [],
   "source": [
    "def gen_star_graph(n=0):\n",
    "    n=5\n",
    "    edges = [[0,1],[0,2],[0,3],[0,4]]\n",
    "    edges = np.concatenate([edges,[np.flipud(i) for i in edges]])\n",
    "    A = np.zeros([n,n])\n",
    "    D = np.eye(n)\n",
    "    for e in edges:\n",
    "        A[e[0],e[1]] = 1\n",
    "    D = np.eye(n)*A.sum(axis=1)\n",
    "    L = D - A\n",
    "    return A,D,L"
   ]
  },
  {
   "cell_type": "code",
   "execution_count": 951,
   "metadata": {},
   "outputs": [],
   "source": [
    "import networkx as nx\n"
   ]
  },
  {
   "cell_type": "code",
   "execution_count": 952,
   "metadata": {},
   "outputs": [],
   "source": [
    "A,D,L = gen_star_graph()"
   ]
  },
  {
   "cell_type": "code",
   "execution_count": 953,
   "metadata": {},
   "outputs": [
    {
     "data": {
      "text/plain": [
       "array([[0., 1., 1., 1., 1.],\n",
       "       [1., 0., 0., 0., 0.],\n",
       "       [1., 0., 0., 0., 0.],\n",
       "       [1., 0., 0., 0., 0.],\n",
       "       [1., 0., 0., 0., 0.]])"
      ]
     },
     "execution_count": 953,
     "metadata": {},
     "output_type": "execute_result"
    }
   ],
   "source": [
    "A"
   ]
  },
  {
   "cell_type": "code",
   "execution_count": 954,
   "metadata": {},
   "outputs": [
    {
     "data": {
      "image/png": "[encoded data removed]",
      "text/plain": [
       "<Figure size 432x288 with 1 Axes>"
      ]
     },
     "metadata": {},
     "output_type": "display_data"
    }
   ],
   "source": [
    "nx.draw(nx.from_numpy_array(A))"
   ]
  },
  {
   "cell_type": "code",
   "execution_count": null,
   "metadata": {},
   "outputs": [],
   "source": []
  },
  {
   "cell_type": "code",
   "execution_count": 955,
   "metadata": {},
   "outputs": [],
   "source": [
    "T = A/np.sum(A,axis=1)"
   ]
  },
  {
   "cell_type": "code",
   "execution_count": 956,
   "metadata": {},
   "outputs": [],
   "source": [
    "M = np.zeros([3,3])\n",
    "M[:,1] = 1\n",
    "M[1,:] = 1\n",
    "#M[2,2] = 1\n",
    "#M[2]\n",
    "\n",
    "idx = np.zeros([3,3],dtype='int')\n",
    "idx[0,1] = 2\n",
    "idx[2,1] = 1\n",
    "idx[1,1] = 0\n",
    "idx[1,0] = 4\n",
    "idx[1,2] = 3"
   ]
  },
  {
   "cell_type": "code",
   "execution_count": 957,
   "metadata": {},
   "outputs": [
    {
     "data": {
      "text/plain": [
       "array([[0, 2, 0],\n",
       "       [4, 0, 3],\n",
       "       [0, 1, 0]])"
      ]
     },
     "execution_count": 957,
     "metadata": {},
     "output_type": "execute_result"
    }
   ],
   "source": [
    "idx"
   ]
  },
  {
   "cell_type": "code",
   "execution_count": 958,
   "metadata": {},
   "outputs": [
    {
     "data": {
      "text/plain": [
       "<matplotlib.image.AxesImage at 0x7f9c1af974f0>"
      ]
     },
     "execution_count": 958,
     "metadata": {},
     "output_type": "execute_result"
    },
    {
     "data": {
      "image/png": "[encoded data removed]",
      "text/plain": [
       "<Figure size 432x288 with 1 Axes>"
      ]
     },
     "metadata": {
      "needs_background": "light"
     },
     "output_type": "display_data"
    }
   ],
   "source": [
    "plt.imshow(M)"
   ]
  },
  {
   "cell_type": "code",
   "execution_count": 959,
   "metadata": {},
   "outputs": [
    {
     "data": {
      "text/plain": [
       "(5, 5)"
      ]
     },
     "execution_count": 959,
     "metadata": {},
     "output_type": "execute_result"
    }
   ],
   "source": [
    "T.shape"
   ]
  },
  {
   "cell_type": "code",
   "execution_count": 960,
   "metadata": {},
   "outputs": [],
   "source": [
    "gamma = 0.9\n",
    "SR = np.linalg.inv(np.eye(T.shape[0]) - gamma * T)\n",
    "\n",
    "\n",
    "eigenval,v = np.linalg.eig(SR)\n",
    "v = v[:,np.argsort((eigenval))[::-1]]\n",
    "eigenval = eigenval[np.argsort((eigenval))[::-1]]"
   ]
  },
  {
   "cell_type": "code",
   "execution_count": 961,
   "metadata": {},
   "outputs": [
    {
     "data": {
      "text/plain": [
       "(5, 5)"
      ]
     },
     "execution_count": 961,
     "metadata": {},
     "output_type": "execute_result"
    }
   ],
   "source": [
    "v.shape"
   ]
  },
  {
   "cell_type": "code",
   "execution_count": 962,
   "metadata": {},
   "outputs": [
    {
     "name": "stderr",
     "output_type": "stream",
     "text": [
      "<ipython-input-962-830c989a2bba>:6: ComplexWarning: Casting complex values to real discards the imaginary part\n",
      "  ev_draw[i,j] = v[:,0][idx[i,j]]\n"
     ]
    }
   ],
   "source": [
    "ev_draw = np.zeros_like(M)\n",
    "Nx,Ny = M.shape\n",
    "for i in range(Nx):\n",
    "    for j in range(Ny):\n",
    "        #ix = np.where(idx=)\n",
    "        ev_draw[i,j] = v[:,0][idx[i,j]]"
   ]
  },
  {
   "cell_type": "code",
   "execution_count": 963,
   "metadata": {},
   "outputs": [],
   "source": [
    "fin = np.ma.masked_where(idx==0,ev_draw)"
   ]
  },
  {
   "cell_type": "code",
   "execution_count": 964,
   "metadata": {},
   "outputs": [
    {
     "data": {
      "text/plain": [
       "<matplotlib.colorbar.Colorbar at 0x7f9c4cf17df0>"
      ]
     },
     "execution_count": 964,
     "metadata": {},
     "output_type": "execute_result"
    },
    {
     "data": {
      "image/png": "[encoded data removed]",
      "text/plain": [
       "<Figure size 432x288 with 2 Axes>"
      ]
     },
     "metadata": {
      "needs_background": "light"
     },
     "output_type": "display_data"
    }
   ],
   "source": [
    "fin = np.ma.masked_where(idx==0,ev_draw)\n",
    "mx = mn = np.max(np.abs(fin))*1.1\n",
    "plt.imshow(fin,vmax=mx,vmin=-mx,cmap='RdBu_r')\n",
    "plt.colorbar()"
   ]
  },
  {
   "cell_type": "code",
   "execution_count": 965,
   "metadata": {},
   "outputs": [
    {
     "data": {
      "text/plain": [
       "<matplotlib.colorbar.Colorbar at 0x7f9c4cfe64f0>"
      ]
     },
     "execution_count": 965,
     "metadata": {},
     "output_type": "execute_result"
    },
    {
     "data": {
      "image/png": "[encoded data removed]",
      "text/plain": [
       "<Figure size 432x288 with 2 Axes>"
      ]
     },
     "metadata": {
      "needs_background": "light"
     },
     "output_type": "display_data"
    }
   ],
   "source": [
    "plt.imshow(M)\n",
    "plt.colorbar()"
   ]
  },
  {
   "cell_type": "code",
   "execution_count": 966,
   "metadata": {},
   "outputs": [],
   "source": [
    "lamda = .99\n",
    "alpha=.5"
   ]
  },
  {
   "cell_type": "code",
   "execution_count": null,
   "metadata": {},
   "outputs": [],
   "source": []
  },
  {
   "cell_type": "code",
   "execution_count": 967,
   "metadata": {},
   "outputs": [
    {
     "ename": "IndexError",
     "evalue": "index 10 is out of bounds for axis 1 with size 5",
     "output_type": "error",
     "traceback": [
      "\u001b[0;31m---------------------------------------------------------------------------\u001b[0m",
      "\u001b[0;31mIndexError\u001b[0m                                Traceback (most recent call last)",
      "\u001b[0;32m<ipython-input-967-4261ee6089a1>\u001b[0m in \u001b[0;36m<module>\u001b[0;34m\u001b[0m\n\u001b[1;32m     14\u001b[0m     \u001b[0;31m#e\u001b[0m\u001b[0;34m\u001b[0m\u001b[0;34m\u001b[0m\u001b[0;34m\u001b[0m\u001b[0m\n\u001b[1;32m     15\u001b[0m     \u001b[0;31m#available options\u001b[0m\u001b[0;34m\u001b[0m\u001b[0;34m\u001b[0m\u001b[0;34m\u001b[0m\u001b[0m\n\u001b[0;32m---> 16\u001b[0;31m     \u001b[0moptions\u001b[0m \u001b[0;34m=\u001b[0m \u001b[0mnp\u001b[0m\u001b[0;34m.\u001b[0m\u001b[0mwhere\u001b[0m\u001b[0;34m(\u001b[0m\u001b[0mT\u001b[0m\u001b[0;34m[\u001b[0m\u001b[0;34m:\u001b[0m\u001b[0;34m,\u001b[0m\u001b[0mpos\u001b[0m\u001b[0;34m]\u001b[0m\u001b[0;34m)\u001b[0m\u001b[0;34m[\u001b[0m\u001b[0;36m0\u001b[0m\u001b[0;34m]\u001b[0m\u001b[0;34m\u001b[0m\u001b[0;34m\u001b[0m\u001b[0m\n\u001b[0m\u001b[1;32m     17\u001b[0m \u001b[0;34m\u001b[0m\u001b[0m\n\u001b[1;32m     18\u001b[0m     \u001b[0mnewP\u001b[0m \u001b[0;34m=\u001b[0m \u001b[0mnp\u001b[0m\u001b[0;34m.\u001b[0m\u001b[0mrandom\u001b[0m\u001b[0;34m.\u001b[0m\u001b[0mchoice\u001b[0m\u001b[0;34m(\u001b[0m\u001b[0moptions\u001b[0m\u001b[0;34m,\u001b[0m\u001b[0mp\u001b[0m\u001b[0;34m=\u001b[0m\u001b[0mT\u001b[0m\u001b[0;34m[\u001b[0m\u001b[0;34m:\u001b[0m\u001b[0;34m,\u001b[0m\u001b[0mpos\u001b[0m\u001b[0;34m]\u001b[0m\u001b[0;34m[\u001b[0m\u001b[0moptions\u001b[0m\u001b[0;34m]\u001b[0m\u001b[0;34m)\u001b[0m\u001b[0;34m\u001b[0m\u001b[0;34m\u001b[0m\u001b[0m\n",
      "\u001b[0;31mIndexError\u001b[0m: index 10 is out of bounds for axis 1 with size 5"
     ]
    }
   ],
   "source": [
    "pos = 10  #current position\n",
    "\n",
    "e = np.zeros(len(SR)) +1 #eligibility trace\n",
    "rg = np.arange(len(SR))  #\n",
    "walk_path = []\n",
    "\n",
    "SRTD = np.zeros_like(SR)\n",
    "\n",
    "for i in range(100000):\n",
    "    \n",
    "    #updates eligibility traces\n",
    "    #e[pos] = lamda*gamma*e[pos] + 1\n",
    "    #e[np.isin(rg,pos)==False] = lamda*gamma*e[pos]  #gives boolean vetor true at current location\n",
    "    #e \n",
    "    #available options\n",
    "    options = np.where(T[:,pos])[0]\n",
    "\n",
    "    newP = np.random.choice(options,p=T[:,pos][options])\n",
    "    walk_path.append(newP)\n",
    "    zrs = np.zeros(len(SR))\n",
    "    zrs[pos] = 1.\n",
    "    SRTD[pos,:] = SRTD[pos,:] + alpha*(zrs + gamma*SRTD[newP,:] - SRTD[pos,:])*e\n",
    "    SRTD = (SRTD + SRTD.T)/2.\n",
    "    pos = newP.copy()"
   ]
  },
  {
   "cell_type": "code",
   "execution_count": 800,
   "metadata": {},
   "outputs": [],
   "source": [
    "\n",
    "\n",
    "eigenval,v = np.linalg.eig(SRTD)\n",
    "v = v[:,np.argsort((eigenval))[::-1]]\n",
    "eigenval = eigenval[np.argsort((eigenval))[::-1]]"
   ]
  },
  {
   "cell_type": "code",
   "execution_count": 801,
   "metadata": {},
   "outputs": [],
   "source": [
    "ev_draw = np.zeros_like(M)\n",
    "Nx,Ny = M.shape\n",
    "for i in range(Nx):\n",
    "    for j in range(Ny):\n",
    "        #ix = np.where(idx=)\n",
    "        ev_draw[i,j] = v[:,2][idx[i,j]]"
   ]
  },
  {
   "cell_type": "code",
   "execution_count": 968,
   "metadata": {},
   "outputs": [
    {
     "data": {
      "text/plain": [
       "<matplotlib.colorbar.Colorbar at 0x7f9bf97c18e0>"
      ]
     },
     "execution_count": 968,
     "metadata": {},
     "output_type": "execute_result"
    },
    {
     "data": {
      "image/png": "[encoded data removed]",
      "text/plain": [
       "<Figure size 432x288 with 2 Axes>"
      ]
     },
     "metadata": {
      "needs_background": "light"
     },
     "output_type": "display_data"
    }
   ],
   "source": [
    "fin = np.ma.masked_where(idx==0,ev_draw)\n",
    "mx = mn = np.max(np.abs(fin))*1.1\n",
    "plt.imshow(fin,vmax=mx,vmin=-mx,cmap='RdBu_r')\n",
    "plt.colorbar()"
   ]
  },
  {
   "cell_type": "code",
   "execution_count": null,
   "metadata": {},
   "outputs": [],
   "source": []
  }
 ],
 "metadata": {
  "kernelspec": {
   "display_name": "Python [conda env:action_generalisation]",
   "language": "python",
   "name": "conda-env-action_generalisation-py"
  },
  "language_info": {
   "codemirror_mode": {
    "name": "ipython",
    "version": 3
   },
   "file_extension": ".py",
   "mimetype": "text/x-python",
   "name": "python",
   "nbconvert_exporter": "python",
   "pygments_lexer": "ipython3",
   "version": "3.8.2"
  }
 },
 "nbformat": 4,
 "nbformat_minor": 2
}
